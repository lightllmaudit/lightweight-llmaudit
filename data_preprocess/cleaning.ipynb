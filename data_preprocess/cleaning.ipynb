{
 "cells": [
  {
   "cell_type": "code",
   "execution_count": null,
   "metadata": {},
   "outputs": [],
   "source": [
    "import pandas as pd\n",
    "import json\n",
    "\n",
    "# Load vulnerability dataset\n",
    "vuln_df = pd.read_csv(\"vuln_gpt.csv\")\n",
    "\n",
    "def json_load(x):\n",
    "    try:\n",
    "        return json.loads(x)\n",
    "    except:\n",
    "        return None\n",
    "\n",
    "# Ensure vuln_loc column is properly parsed\n",
    "vuln_df[\"vuln_loc\"] = vuln_df[\"vuln_loc\"].apply(json_load)\n",
    "vuln_df.dropna(inplace=True)"
   ]
  },
  {
   "cell_type": "code",
   "execution_count": null,
   "metadata": {},
   "outputs": [
    {
     "name": "stdout",
     "output_type": "stream",
     "text": [
      "['burn', '_updateposition', 'burn', 'cross', 'collect']\n"
     ]
    }
   ],
   "source": [
    "import re\n",
    "\n",
    "data = [\n",
    "    'concentratedliquidityposition.sol#burn',\n",
    "    'concentratedliquiditypool.sol#_updateposition',\n",
    "    'concentratedliquiditypool.sol#burn',\n",
    "    'ticks.cross',\n",
    "    'concentratedliquidityposition#collect'\n",
    "]\n",
    "\n",
    "# Regex to match the part after the last '#' or '.'\n",
    "pattern = r'[^#.]+$'\n",
    "\n",
    "results = [re.search(pattern, item).group() for item in data]\n",
    "\n",
    "print(results)"
   ]
  },
  {
   "cell_type": "code",
   "execution_count": 3,
   "metadata": {},
   "outputs": [],
   "source": [
    "import re\n",
    "\n",
    "pattern = r'[^#.]+$'\n",
    "\n",
    "# Update each row in-place\n",
    "for idx, row in vuln_df.iterrows():\n",
    "    data = row['vuln_loc']['vuln_function']\n",
    "    if isinstance(data, list):  # In case vuln_function is a list\n",
    "        results = [re.search(pattern, item).group() for item in data if re.search(pattern, item)]\n",
    "        results = list(set(results))\n",
    "        vuln_df.at[idx, 'vuln_loc']['vuln_function'] = results"
   ]
  },
  {
   "cell_type": "code",
   "execution_count": 4,
   "metadata": {},
   "outputs": [
    {
     "data": {
      "text/html": [
       "<div>\n",
       "<style scoped>\n",
       "    .dataframe tbody tr th:only-of-type {\n",
       "        vertical-align: middle;\n",
       "    }\n",
       "\n",
       "    .dataframe tbody tr th {\n",
       "        vertical-align: top;\n",
       "    }\n",
       "\n",
       "    .dataframe thead th {\n",
       "        text-align: right;\n",
       "    }\n",
       "</style>\n",
       "<table border=\"1\" class=\"dataframe\">\n",
       "  <thead>\n",
       "    <tr style=\"text-align: right;\">\n",
       "      <th></th>\n",
       "      <th>file_name</th>\n",
       "      <th>vuln_title</th>\n",
       "      <th>severity</th>\n",
       "      <th>description</th>\n",
       "      <th>vuln_loc</th>\n",
       "      <th>vuln_explanation</th>\n",
       "      <th>vuln_recommendation</th>\n",
       "    </tr>\n",
       "  </thead>\n",
       "  <tbody>\n",
       "    <tr>\n",
       "      <th>0</th>\n",
       "      <td>35.md</td>\n",
       "      <td>Unsafe cast in `ConcentratedLiquidityPool.burn...</td>\n",
       "      <td>high</td>\n",
       "      <td>The `ConcentratedLiquidityPool.burn` function ...</td>\n",
       "      <td>{'vuln_file': ['ConcentratedLiquidityPool.sol'...</td>\n",
       "      <td>The `ConcentratedLiquidityPool.burn` function ...</td>\n",
       "      <td>Even though Solidity 0.8.x is used, type casts...</td>\n",
       "    </tr>\n",
       "    <tr>\n",
       "      <th>1</th>\n",
       "      <td>35.md</td>\n",
       "      <td>Wrong usage of `positionId` in `ConcentratedLi...</td>\n",
       "      <td>high</td>\n",
       "      <td>#### Impact\\nIn the `subscribe` function of `C...</td>\n",
       "      <td>{'vuln_file': ['ConcentratedLiquidityPoolManag...</td>\n",
       "      <td>In the `subscribe` function of `ConcentratedLi...</td>\n",
       "      <td>Change `positionId` to `incentiveId` in the re...</td>\n",
       "    </tr>\n",
       "    <tr>\n",
       "      <th>2</th>\n",
       "      <td>35.md</td>\n",
       "      <td>`ConcentratedLiquidityPoolManager`'s incentive...</td>\n",
       "      <td>high</td>\n",
       "      <td>The `ConcentratedLiquidityPoolManager` keeps a...</td>\n",
       "      <td>{'vuln_file': ['ConcentratedLiquidityPoolManag...</td>\n",
       "      <td>The `ConcentratedLiquidityPoolManager` keeps a...</td>\n",
       "      <td>In `reclaimIncentive`, reduce `incentive.rewar...</td>\n",
       "    </tr>\n",
       "    <tr>\n",
       "      <th>3</th>\n",
       "      <td>35.md</td>\n",
       "      <td>Overflow in the `mint` function of `Concentrat...</td>\n",
       "      <td>high</td>\n",
       "      <td>#### Impact\\nSimilar to a previous finding in ...</td>\n",
       "      <td>{'vuln_file': ['ConcentratedLiquidityPool.sol'...</td>\n",
       "      <td>Similar to a previous finding in the `IndexPoo...</td>\n",
       "      <td>Consider removing the `unchecked` statement to...</td>\n",
       "    </tr>\n",
       "    <tr>\n",
       "      <th>4</th>\n",
       "      <td>35.md</td>\n",
       "      <td>Incorrect usage of typecasting in `_getAmounts...</td>\n",
       "      <td>high</td>\n",
       "      <td>#### Impact\\nThe `_getAmountsForLiquidity` fun...</td>\n",
       "      <td>{'vuln_file': ['ConcentratedLiquidityPool.sol'...</td>\n",
       "      <td>The `_getAmountsForLiquidity` function of `Con...</td>\n",
       "      <td>Check whether the result of `DyDxMath.getDy` o...</td>\n",
       "    </tr>\n",
       "    <tr>\n",
       "      <th>...</th>\n",
       "      <td>...</td>\n",
       "      <td>...</td>\n",
       "      <td>...</td>\n",
       "      <td>...</td>\n",
       "      <td>...</td>\n",
       "      <td>...</td>\n",
       "      <td>...</td>\n",
       "    </tr>\n",
       "    <tr>\n",
       "      <th>1739</th>\n",
       "      <td>52.md</td>\n",
       "      <td>Unclear `TwapOracle.consult` algorithm</td>\n",
       "      <td>medium</td>\n",
       "      <td>The `TWAPOracle.consult` function is unclear t...</td>\n",
       "      <td>{'vuln_file': ['TWAPOracle.sol'], 'vuln_functi...</td>\n",
       "      <td>The `TWAPOracle.consult` function is unclear t...</td>\n",
       "      <td>Document how the algorithm works and make sure...</td>\n",
       "    </tr>\n",
       "    <tr>\n",
       "      <th>1740</th>\n",
       "      <td>52.md</td>\n",
       "      <td>Tokens with fee on transfer are not supported</td>\n",
       "      <td>medium</td>\n",
       "      <td>There are ERC20 tokens that charge fee for eve...</td>\n",
       "      <td>{'vuln_file': ['BasePoolV2.sol'], 'vuln_functi...</td>\n",
       "      <td>There are ERC20 tokens that charge fee for eve...</td>\n",
       "      <td>Consider calling `balanceOf()` to get the actu...</td>\n",
       "    </tr>\n",
       "    <tr>\n",
       "      <th>1741</th>\n",
       "      <td>52.md</td>\n",
       "      <td>VaderPoolV2.rescue results in loss of funds ra...</td>\n",
       "      <td>medium</td>\n",
       "      <td>#### Impact\\n\\nAny unaccounted for tokens on `...</td>\n",
       "      <td>{'vuln_file': ['BasePoolV2.sol'], 'vuln_functi...</td>\n",
       "      <td>Any unaccounted for tokens on `VaderPoolV2` ca...</td>\n",
       "      <td>Permission this function to only allow Vader g...</td>\n",
       "    </tr>\n",
       "    <tr>\n",
       "      <th>1742</th>\n",
       "      <td>52.md</td>\n",
       "      <td>No way to remove GasThrottle after deployment</td>\n",
       "      <td>medium</td>\n",
       "      <td>#### Impact\\n\\nPotential DOS on swaps\\n\\n#### ...</td>\n",
       "      <td>{'vuln_file': ['GasThrottle.sol'], 'vuln_funct...</td>\n",
       "      <td>BasePool and BasePoolV2 make use of a `validat...</td>\n",
       "      <td>Either remove GasThrottle.sol entirely or allo...</td>\n",
       "    </tr>\n",
       "    <tr>\n",
       "      <th>1743</th>\n",
       "      <td>52.md</td>\n",
       "      <td>Users Can Reset Bond Depositor's Vesting Period</td>\n",
       "      <td>medium</td>\n",
       "      <td>#### Impact\\n\\nThe `VaderBond.deposit()` funct...</td>\n",
       "      <td>{'vuln_file': ['VaderBond.sol'], 'vuln_functio...</td>\n",
       "      <td>The `VaderBond.deposit()` function overwrites ...</td>\n",
       "      <td>Consider preventing users from depositing to a...</td>\n",
       "    </tr>\n",
       "  </tbody>\n",
       "</table>\n",
       "<p>1703 rows × 7 columns</p>\n",
       "</div>"
      ],
      "text/plain": [
       "     file_name                                         vuln_title severity  \\\n",
       "0        35.md  Unsafe cast in `ConcentratedLiquidityPool.burn...     high   \n",
       "1        35.md  Wrong usage of `positionId` in `ConcentratedLi...     high   \n",
       "2        35.md  `ConcentratedLiquidityPoolManager`'s incentive...     high   \n",
       "3        35.md  Overflow in the `mint` function of `Concentrat...     high   \n",
       "4        35.md  Incorrect usage of typecasting in `_getAmounts...     high   \n",
       "...        ...                                                ...      ...   \n",
       "1739     52.md             Unclear `TwapOracle.consult` algorithm   medium   \n",
       "1740     52.md      Tokens with fee on transfer are not supported   medium   \n",
       "1741     52.md  VaderPoolV2.rescue results in loss of funds ra...   medium   \n",
       "1742     52.md      No way to remove GasThrottle after deployment   medium   \n",
       "1743     52.md    Users Can Reset Bond Depositor's Vesting Period   medium   \n",
       "\n",
       "                                            description  \\\n",
       "0     The `ConcentratedLiquidityPool.burn` function ...   \n",
       "1     #### Impact\\nIn the `subscribe` function of `C...   \n",
       "2     The `ConcentratedLiquidityPoolManager` keeps a...   \n",
       "3     #### Impact\\nSimilar to a previous finding in ...   \n",
       "4     #### Impact\\nThe `_getAmountsForLiquidity` fun...   \n",
       "...                                                 ...   \n",
       "1739  The `TWAPOracle.consult` function is unclear t...   \n",
       "1740  There are ERC20 tokens that charge fee for eve...   \n",
       "1741  #### Impact\\n\\nAny unaccounted for tokens on `...   \n",
       "1742  #### Impact\\n\\nPotential DOS on swaps\\n\\n#### ...   \n",
       "1743  #### Impact\\n\\nThe `VaderBond.deposit()` funct...   \n",
       "\n",
       "                                               vuln_loc  \\\n",
       "0     {'vuln_file': ['ConcentratedLiquidityPool.sol'...   \n",
       "1     {'vuln_file': ['ConcentratedLiquidityPoolManag...   \n",
       "2     {'vuln_file': ['ConcentratedLiquidityPoolManag...   \n",
       "3     {'vuln_file': ['ConcentratedLiquidityPool.sol'...   \n",
       "4     {'vuln_file': ['ConcentratedLiquidityPool.sol'...   \n",
       "...                                                 ...   \n",
       "1739  {'vuln_file': ['TWAPOracle.sol'], 'vuln_functi...   \n",
       "1740  {'vuln_file': ['BasePoolV2.sol'], 'vuln_functi...   \n",
       "1741  {'vuln_file': ['BasePoolV2.sol'], 'vuln_functi...   \n",
       "1742  {'vuln_file': ['GasThrottle.sol'], 'vuln_funct...   \n",
       "1743  {'vuln_file': ['VaderBond.sol'], 'vuln_functio...   \n",
       "\n",
       "                                       vuln_explanation  \\\n",
       "0     The `ConcentratedLiquidityPool.burn` function ...   \n",
       "1     In the `subscribe` function of `ConcentratedLi...   \n",
       "2     The `ConcentratedLiquidityPoolManager` keeps a...   \n",
       "3     Similar to a previous finding in the `IndexPoo...   \n",
       "4     The `_getAmountsForLiquidity` function of `Con...   \n",
       "...                                                 ...   \n",
       "1739  The `TWAPOracle.consult` function is unclear t...   \n",
       "1740  There are ERC20 tokens that charge fee for eve...   \n",
       "1741  Any unaccounted for tokens on `VaderPoolV2` ca...   \n",
       "1742  BasePool and BasePoolV2 make use of a `validat...   \n",
       "1743  The `VaderBond.deposit()` function overwrites ...   \n",
       "\n",
       "                                    vuln_recommendation  \n",
       "0     Even though Solidity 0.8.x is used, type casts...  \n",
       "1     Change `positionId` to `incentiveId` in the re...  \n",
       "2     In `reclaimIncentive`, reduce `incentive.rewar...  \n",
       "3     Consider removing the `unchecked` statement to...  \n",
       "4     Check whether the result of `DyDxMath.getDy` o...  \n",
       "...                                                 ...  \n",
       "1739  Document how the algorithm works and make sure...  \n",
       "1740  Consider calling `balanceOf()` to get the actu...  \n",
       "1741  Permission this function to only allow Vader g...  \n",
       "1742  Either remove GasThrottle.sol entirely or allo...  \n",
       "1743  Consider preventing users from depositing to a...  \n",
       "\n",
       "[1703 rows x 7 columns]"
      ]
     },
     "execution_count": 4,
     "metadata": {},
     "output_type": "execute_result"
    }
   ],
   "source": [
    "vuln_df"
   ]
  },
  {
   "cell_type": "code",
   "execution_count": null,
   "metadata": {},
   "outputs": [
    {
     "name": "stderr",
     "output_type": "stream",
     "text": [
      "Processing vulnerabilities:   0%|          | 8/1703 [00:11<45:28,  1.61s/it]  "
     ]
    },
    {
     "name": "stdout",
     "output_type": "stream",
     "text": [
      "\n",
      "No match found for ['rangefeegrowth'] in Web3Bugs/contracts/35/trident/contracts/libraries/concentratedPool/Ticks.sol. Available functions: ['remove', 'cross', 'getmaxliquidity', 'insert']\n",
      "\n"
     ]
    },
    {
     "name": "stderr",
     "output_type": "stream",
     "text": [
      "Processing vulnerabilities:   1%|          | 10/1703 [00:16<51:42,  1.83s/it]"
     ]
    },
    {
     "name": "stdout",
     "output_type": "stream",
     "text": [
      "\n",
      "No match found for [] in Web3Bugs/contracts/35/trident/contracts/pool/concentrated/ConcentratedLiquidityPool.sol. Available functions: ['swap', '_updatereserves', 'collect', '_updatefees', 'flashswap', 'gettokenprotocolfees', 'updatebarfee', '_balance', 'rangefeegrowth', 'collectprotocolfee', '_updateposition', 'getliquidityandlastobservation', '_ensuretickspacing', '_getamountsforliquidity', 'constructor', 'getamountout', 'getassets', 'rangesecondsinside', 'getpriceandnearestticks', 'mint', '_transferbothtokens', 'burn', 'getreserves', '_transfer', 'burnsingle', 'getimmutables']\n",
      "\n"
     ]
    },
    {
     "name": "stderr",
     "output_type": "stream",
     "text": [
      "Processing vulnerabilities:   1%|          | 16/1703 [00:19<21:24,  1.31it/s]"
     ]
    },
    {
     "name": "stdout",
     "output_type": "stream",
     "text": [
      "\n",
      "No match found for ['claimreward'] in Web3Bugs/contracts/35/trident/contracts/libraries/concentratedPool/DyDxMath.sol. Available functions: ['getdy', 'getliquidityforamounts', 'getdx']\n",
      "\n"
     ]
    },
    {
     "name": "stderr",
     "output_type": "stream",
     "text": [
      "Processing vulnerabilities:   1%|          | 21/1703 [00:21<11:35,  2.42it/s]"
     ]
    },
    {
     "name": "stdout",
     "output_type": "stream",
     "text": [
      "\n",
      "No match found for [] in Web3Bugs/contracts/35/trident/contracts/pool/concentrated/ConcentratedLiquidityPoolManager.sol. Available functions: ['subscribe', 'reclaimincentive', 'getreward', 'addincentive', 'claimreward', 'constructor']\n",
      "\n"
     ]
    },
    {
     "name": "stderr",
     "output_type": "stream",
     "text": [
      "Processing vulnerabilities:   1%|▏         | 25/1703 [00:23<11:14,  2.49it/s]"
     ]
    },
    {
     "name": "stdout",
     "output_type": "stream",
     "text": [
      "\n",
      "No match found for [] in Web3Bugs/contracts/107/contracts/vaults/yVault/yVault.sol. Available functions: ['setcontractwhitelisted', 'available', 'withdrawall', 'getpriceperfullshare', 'earn', 'withdrawjpeg', 'setcontroller', 'renounceownership', 'deposit', 'balanceofjpeg', 'setavailabletokensrate', 'balance', 'withdraw', 'depositall', 'decimals', 'setfarmingpool', 'constructor']\n",
      "\n"
     ]
    },
    {
     "name": "stderr",
     "output_type": "stream",
     "text": [
      "Processing vulnerabilities:   2%|▏         | 29/1703 [00:25<14:35,  1.91it/s]"
     ]
    },
    {
     "name": "stdout",
     "output_type": "stream",
     "text": [
      "\n",
      "No match found for [] in Web3Bugs/contracts/107/contracts/farming/yVaultLPFarming.sol. Available functions: ['setcontractwhitelisted', '_computeupdate', '_update', 'renounceownership', 'deposit', '_withdrawreward', 'claim', 'withdraw', 'pendingreward', 'constructor']\n",
      "\n"
     ]
    },
    {
     "name": "stderr",
     "output_type": "stream",
     "text": [
      "Processing vulnerabilities:   2%|▏         | 33/1703 [00:29<26:23,  1.05it/s]"
     ]
    },
    {
     "name": "stdout",
     "output_type": "stream",
     "text": [
      "\n",
      "No match found for [] in Web3Bugs/contracts/107/contracts/vaults/NFTVault.sol. Available functions: ['getnftinfo', 'setliquidationlimitrate', 'setborrowamountcap', 'accrue', '_jpegpriceusd', 'setnfttypevalueeth', '_getdebtamount', 'setvalueincreaselockrate', '_openposition', 'collect', 'openpositionsindexes', 'setinsurancepurchaserate', '_normalizeaggregatoranswer', 'repay', '_validaterate', '_getcreditlimit', 'setnfttype', 'setjpeglocktime', '_ethpriceusd', 'overridefloor', 'setcreditlimitrate', '_getliquidationlimit', '_getnftvalueeth', 'setorganizationfeerate', '_validatecreditlimitandliquidationrate', 'claimexpiredinsurancenft', 'totalpositions', 'setpendingnftvalueeth', 'setinsuranceliquidationpenaltyrate', 'setdebtinterestapr', 'togglefallbackoracle', '_calculatedebt', 'finalizependingnftvalueeth', 'liquidate', 'borrow', 'repurchase', 'closeposition', '_getnftvalueusd', 'disableflooroverride', 'initialize', '_calculateadditionalinterest', 'showposition']\n",
      "\n"
     ]
    },
    {
     "name": "stderr",
     "output_type": "stream",
     "text": [
      "Processing vulnerabilities:   2%|▏         | 36/1703 [00:31<18:30,  1.50it/s]"
     ]
    },
    {
     "name": "stdout",
     "output_type": "stream",
     "text": [
      "\n",
      "No match found for [] in Web3Bugs/contracts/107/contracts/farming/LPFarming.sol. Available functions: ['set', 'claimall', 'setcontractwhitelisted', 'newepoch', '_normalizeblocknumber', '_blocknumber', 'deposit', '_updatepool', '_withdrawreward', 'renounceownership', 'poollength', 'claim', 'add', '_massupdatepools', 'withdraw', 'pendingreward', 'constructor']\n",
      "\n"
     ]
    },
    {
     "name": "stderr",
     "output_type": "stream",
     "text": [
      "Processing vulnerabilities:   2%|▏         | 38/1703 [00:33<23:54,  1.16it/s]"
     ]
    },
    {
     "name": "stdout",
     "output_type": "stream",
     "text": [
      "\n",
      "No match found for [] in Web3Bugs/contracts/107/contracts/farming/LPFarming.sol. Available functions: ['set', 'claimall', 'setcontractwhitelisted', 'newepoch', '_normalizeblocknumber', '_blocknumber', 'deposit', '_updatepool', '_withdrawreward', 'renounceownership', 'poollength', 'claim', 'add', '_massupdatepools', 'withdraw', 'pendingreward', 'constructor']\n",
      "\n"
     ]
    },
    {
     "name": "stderr",
     "output_type": "stream",
     "text": [
      "Processing vulnerabilities:   2%|▏         | 41/1703 [00:35<17:32,  1.58it/s]"
     ]
    },
    {
     "name": "stdout",
     "output_type": "stream",
     "text": [
      "\n",
      "No match found for ['nocontract'] in Web3Bugs/contracts/107/contracts/farming/yVaultLPFarming.sol. Available functions: ['setcontractwhitelisted', '_computeupdate', '_update', 'renounceownership', 'deposit', '_withdrawreward', 'claim', 'withdraw', 'pendingreward', 'constructor']\n",
      "\n"
     ]
    },
    {
     "name": "stderr",
     "output_type": "stream",
     "text": [
      "Processing vulnerabilities:   2%|▏         | 42/1703 [00:35<17:47,  1.56it/s]"
     ]
    },
    {
     "name": "stdout",
     "output_type": "stream",
     "text": [
      "\n",
      "No match found for ['nocontract'] in Web3Bugs/contracts/107/contracts/vaults/yVault/yVault.sol. Available functions: ['setcontractwhitelisted', 'available', 'withdrawall', 'getpriceperfullshare', 'earn', 'withdrawjpeg', 'setcontroller', 'renounceownership', 'deposit', 'balanceofjpeg', 'setavailabletokensrate', 'balance', 'withdraw', 'depositall', 'decimals', 'setfarmingpool', 'constructor']\n",
      "\n",
      "\n",
      "No match found for ['latestanswer'] in Web3Bugs/contracts/107/contracts/vaults/FungibleAssetVaultForDAO.sol. Available functions: ['_collateralpriceusd', 'getcreditlimit', 'borrow', 'deposit', '_getcollateralvalue', 'setcreditlimitrate', 'withdraw', 'initialize', 'repay']\n",
      "\n"
     ]
    },
    {
     "name": "stderr",
     "output_type": "stream",
     "text": [
      "Processing vulnerabilities:   3%|▎         | 43/1703 [00:37<28:16,  1.02s/it]"
     ]
    },
    {
     "name": "stdout",
     "output_type": "stream",
     "text": [
      "\n",
      "No match found for ['latestanswer'] in Web3Bugs/contracts/107/contracts/vaults/NFTVault.sol. Available functions: ['getnftinfo', 'setliquidationlimitrate', 'setborrowamountcap', 'accrue', '_jpegpriceusd', 'setnfttypevalueeth', '_getdebtamount', 'setvalueincreaselockrate', '_openposition', 'collect', 'openpositionsindexes', 'setinsurancepurchaserate', '_normalizeaggregatoranswer', 'repay', '_validaterate', '_getcreditlimit', 'setnfttype', 'setjpeglocktime', '_ethpriceusd', 'overridefloor', 'setcreditlimitrate', '_getliquidationlimit', '_getnftvalueeth', 'setorganizationfeerate', '_validatecreditlimitandliquidationrate', 'claimexpiredinsurancenft', 'totalpositions', 'setpendingnftvalueeth', 'setinsuranceliquidationpenaltyrate', 'setdebtinterestapr', 'togglefallbackoracle', '_calculatedebt', 'finalizependingnftvalueeth', 'liquidate', 'borrow', 'repurchase', 'closeposition', '_getnftvalueusd', 'disableflooroverride', 'initialize', '_calculateadditionalinterest', 'showposition']\n",
      "\n"
     ]
    },
    {
     "name": "stderr",
     "output_type": "stream",
     "text": [
      "Processing vulnerabilities:   3%|▎         | 53/1703 [00:50<43:13,  1.57s/it]"
     ]
    },
    {
     "name": "stdout",
     "output_type": "stream",
     "text": [
      "Parsing error in Web3Bugs/contracts/12/contracts/Ladle.sol: unrecognized expression\n"
     ]
    },
    {
     "name": "stderr",
     "output_type": "stream",
     "text": [
      "Processing vulnerabilities:   3%|▎         | 56/1703 [00:50<22:25,  1.22it/s]"
     ]
    },
    {
     "name": "stdout",
     "output_type": "stream",
     "text": [
      "\n",
      "No match found for ['redeem', 'exchangeratestored'] in Web3Bugs/contracts/12/contracts/oracles/compound/CompoundMultiOracle.sol. Available functions: ['setsource', 'setsources', 'peek', '_peek', 'get']\n",
      "\n"
     ]
    },
    {
     "name": "stderr",
     "output_type": "stream",
     "text": [
      "Processing vulnerabilities:   3%|▎         | 58/1703 [00:53<29:37,  1.08s/it]"
     ]
    },
    {
     "name": "stdout",
     "output_type": "stream",
     "text": [
      "Parsing error in Web3Bugs/contracts/12/contracts/Ladle.sol: unrecognized expression\n",
      "Parsing error in Web3Bugs/contracts/12/contracts/JoinFactory.sol: unrecognized expression\n"
     ]
    },
    {
     "name": "stderr",
     "output_type": "stream",
     "text": [
      "Processing vulnerabilities:   4%|▎         | 60/1703 [00:55<32:47,  1.20s/it]"
     ]
    },
    {
     "name": "stdout",
     "output_type": "stream",
     "text": [
      "Parsing error in Web3Bugs/contracts/12/contracts/Ladle.sol: unrecognized expression\n",
      "\n",
      "No match found for ['auth'] in Web3Bugs/contracts/12/contracts/utils/access/AccessControl.sol. Available functions: ['grantroles', 'revokerole', 'revokeroles', '_hasrole', '_getroleadmin', '_revokerole', 'grantrole', 'lockrole', 'hasrole', '_grantrole', 'setroleadmin', '_setroleadmin', 'getroleadmin', 'constructor', 'renouncerole']\n",
      "\n"
     ]
    },
    {
     "name": "stderr",
     "output_type": "stream",
     "text": [
      "Processing vulnerabilities:   4%|▎         | 61/1703 [00:58<38:51,  1.42s/it]"
     ]
    },
    {
     "name": "stdout",
     "output_type": "stream",
     "text": [
      "Parsing error in Web3Bugs/contracts/12/contracts/Ladle.sol: unrecognized expression\n"
     ]
    },
    {
     "name": "stderr",
     "output_type": "stream",
     "text": [
      "Processing vulnerabilities:   4%|▍         | 64/1703 [00:59<26:45,  1.02it/s]"
     ]
    },
    {
     "name": "stdout",
     "output_type": "stream",
     "text": [
      "Parsing error in Web3Bugs/contracts/12/contracts/Ladle.sol: unrecognized expression\n"
     ]
    },
    {
     "name": "stderr",
     "output_type": "stream",
     "text": [
      "Processing vulnerabilities:   4%|▍         | 70/1703 [01:00<09:24,  2.89it/s]"
     ]
    },
    {
     "name": "stdout",
     "output_type": "stream",
     "text": [
      "Parsing error in Web3Bugs/contracts/12/contracts/yieldspace/PoolFactory.sol: unrecognized expression\n"
     ]
    },
    {
     "name": "stderr",
     "output_type": "stream",
     "text": [
      "Processing vulnerabilities:   4%|▍         | 72/1703 [01:03<21:24,  1.27it/s]"
     ]
    },
    {
     "name": "stdout",
     "output_type": "stream",
     "text": [
      "Parsing error in Web3Bugs/contracts/12/contracts/Ladle.sol: unrecognized expression\n"
     ]
    },
    {
     "name": "stderr",
     "output_type": "stream",
     "text": [
      "Processing vulnerabilities:   5%|▌         | 86/1703 [01:07<12:18,  2.19it/s]"
     ]
    },
    {
     "name": "stdout",
     "output_type": "stream",
     "text": [
      "\n",
      "No match found for [] in Web3Bugs/contracts/64/in_scope/TwabRewards.sol. Available functions: ['_requirepromotionactive', '_getpromotion', 'createpromotion', '_updateclaimedepoch', '_calculaterewardamount', 'getremainingrewards', 'claimrewards', '_requireticket', 'getpromotion', '_getcurrentepochid', 'cancelpromotion', 'getrewardsamount', '_isclaimedepoch', 'getcurrentepochid', 'extendpromotion', '_getremainingrewards']\n",
      "\n"
     ]
    },
    {
     "name": "stderr",
     "output_type": "stream",
     "text": [
      "Processing vulnerabilities:   8%|▊         | 129/1703 [01:24<06:47,  3.86it/s]"
     ]
    },
    {
     "name": "stdout",
     "output_type": "stream",
     "text": [
      "\n",
      "No match found for [] in Web3Bugs/contracts/13/contracts/RCOrderbook.sol. Available functions: ['reducetimeheldlimit', 'removebidfromorderbook', 'getbid', 'setfactoryaddress', 'gettimeheldlimit', '_updatebidinorderbook', 'addmarket', 'changeuberowner', 'findnewowner', 'constructor', '_newbidinorderbook', '_searchorderbook', 'transfercard', 'closemarket', 'addbidtoorderbook', 'bidexists', 'cleanwastepile', 'removeuserfromorderbook', 'removeoldbids', '_removebidfromorderbookignoreowner', 'getbidvalue', 'settimeheldlimit', 'setlimits']\n",
      "\n"
     ]
    },
    {
     "name": "stderr",
     "output_type": "stream",
     "text": [
      "Processing vulnerabilities:   8%|▊         | 131/1703 [01:25<08:03,  3.25it/s]"
     ]
    },
    {
     "name": "stdout",
     "output_type": "stream",
     "text": [
      "\n",
      "No match found for ['domainseperator'] in Web3Bugs/contracts/13/contracts/lib/EIP712Base.sol. Available functions: ['totypedmessagehash', '_initializeeip712', 'getdomainseperator', '_setdomainseperator', 'getchainid']\n",
      "\n"
     ]
    },
    {
     "name": "stderr",
     "output_type": "stream",
     "text": [
      "Processing vulnerabilities:   8%|▊         | 139/1703 [01:31<14:01,  1.86it/s]"
     ]
    },
    {
     "name": "stdout",
     "output_type": "stream",
     "text": [
      "\n",
      "No match found for ['onlyowner'] in Web3Bugs/contracts/39/gost/build/marketplace/VaultTracker.sol. Available functions: ['transfernotionalfee', 'redeeminterest', 'addnotional', 'transfernotionalfrom', 'balancesof', 'constructor', 'maturevault', 'removenotional']\n",
      "\n",
      "\n",
      "No match found for ['onlyowner'] in Web3Bugs/contracts/39/gost/build/marketplace/MarketPlace.sol. Available functions: ['custodialinitiate', 'custodialexit', 'burnzctokenremovingnotional', 'maturemarket', 'createmarket', 'calculatereturn', 'transfervaultnotionalfee', 'redeemzctoken', 'ctokenaddress', 'transfervaultnotional', 'p2pzctokenexchange', 'redeemvaultinterest', 'p2pvaultexchange', 'mintzctokenaddingnotional', 'setswiveladdress', 'constructor']\n",
      "\n"
     ]
    },
    {
     "name": "stderr",
     "output_type": "stream",
     "text": [
      "Processing vulnerabilities:   8%|▊         | 140/1703 [01:34<22:27,  1.16it/s]"
     ]
    },
    {
     "name": "stdout",
     "output_type": "stream",
     "text": [
      "\n",
      "No match found for ['onlyowner'] in Web3Bugs/contracts/39/gost/build/swivel/Swivel.sol. Available functions: ['initiatezctokenfillingzctokenexit', 'schedulewithdrawal', 'validorderhash', 'initiatevaultfillingvaultexit', 'redeemzctoken', 'cancel', 'exitvaultfillingvaultinitiate', 'exitvaultfillingzctokenexit', 'initiatezctokenfillingvaultinitiate', 'exit', 'combinetokens', 'constructor', 'redeemvaultinterest', 'exitzctokenfillingvaultexit', 'exitzctokenfillingzctokeninitiate', 'initiatevaultfillingzctokeninitiate', 'blockwithdrawal', 'withdraw', 'splitunderlying', 'initiate', 'setfee']\n",
      "\n"
     ]
    },
    {
     "name": "stderr",
     "output_type": "stream",
     "text": [
      "Processing vulnerabilities:   8%|▊         | 141/1703 [01:35<21:24,  1.22it/s]"
     ]
    },
    {
     "name": "stdout",
     "output_type": "stream",
     "text": [
      "\n",
      "No match found for ['onlyadmin'] in Web3Bugs/contracts/39/gost/build/marketplace/VaultTracker.sol. Available functions: ['transfernotionalfee', 'redeeminterest', 'addnotional', 'transfernotionalfrom', 'balancesof', 'constructor', 'maturevault', 'removenotional']\n",
      "\n"
     ]
    },
    {
     "name": "stderr",
     "output_type": "stream",
     "text": [
      "Processing vulnerabilities:   8%|▊         | 143/1703 [01:37<26:26,  1.02s/it]"
     ]
    },
    {
     "name": "stdout",
     "output_type": "stream",
     "text": [
      "\n",
      "No match found for ['transfer', 'redeemunderlying', 'transferfrom'] in Web3Bugs/contracts/39/gost/build/swivel/Swivel.sol. Available functions: ['initiatezctokenfillingzctokenexit', 'schedulewithdrawal', 'validorderhash', 'initiatevaultfillingvaultexit', 'redeemzctoken', 'cancel', 'exitvaultfillingvaultinitiate', 'exitvaultfillingzctokenexit', 'initiatezctokenfillingvaultinitiate', 'exit', 'combinetokens', 'constructor', 'redeemvaultinterest', 'exitzctokenfillingvaultexit', 'exitzctokenfillingzctokeninitiate', 'initiatevaultfillingzctokeninitiate', 'blockwithdrawal', 'withdraw', 'splitunderlying', 'initiate', 'setfee']\n",
      "\n"
     ]
    },
    {
     "name": "stderr",
     "output_type": "stream",
     "text": [
      "Processing vulnerabilities:   9%|▉         | 151/1703 [01:45<22:12,  1.16it/s]"
     ]
    },
    {
     "name": "stdout",
     "output_type": "stream",
     "text": [
      "\n",
      "No match found for [] in Web3Bugs/contracts/106/contracts/NFTLoanFacilitator.sol. Available functions: ['createloan', '_interestowed', 'repayandcloseloan', 'totalowed', 'seizecollateral', 'setlendticketcontract', 'closeloan', 'setborrowticketcontract', 'loaninfostruct', 'withdraworiginationfees', 'updateoriginationfeerate', 'loanendseconds', 'interestowed', 'updaterequiredimprovementrate', 'constructor', 'lend']\n",
      "\n"
     ]
    },
    {
     "name": "stderr",
     "output_type": "stream",
     "text": [
      "Processing vulnerabilities:  10%|▉         | 162/1703 [02:01<30:27,  1.19s/it]"
     ]
    },
    {
     "name": "stdout",
     "output_type": "stream",
     "text": [
      "\n",
      "No match found for ['approve'] in Web3Bugs/contracts/26/contracts/RCTreasury.sol. Available functions: ['rentowedbetweentimestamps', 'userdeposit', 'changepausemarket', 'batchwhitelist', 'payout', 'increasebidrate', 'togglewhitelist', 'marketwhitelistcheck', 'setfactoryaddress', 'setbridgeaddress', 'updatelastrentaltime', 'assessforeclosure', 'revokerole', 'changeglobalpause', 'foreclosuretimeuser', 'deposit', 'addmarket', 'globalexit', 'constructor', 'setleaderboardaddress', 'collectrentuser', 'rentoweduser', 'setmaxcontractbalance', 'withdrawdeposit', 'checkpermission', 'usertotalbids', 'payrent', 'settokenaddress', 'unpausemarket', 'topupmarketbalance', '_increasemarketbalance', 'refunduser', 'sponsor', 'grantrole', 'decreasebidrate', 'setorderbookaddress', 'checksponsorship', 'updaterentalrate', 'setminrental']\n",
      "\n"
     ]
    },
    {
     "name": "stderr",
     "output_type": "stream",
     "text": [
      "Processing vulnerabilities:  10%|▉         | 164/1703 [02:07<51:07,  1.99s/it]"
     ]
    },
    {
     "name": "stdout",
     "output_type": "stream",
     "text": [
      "\n",
      "No match found for ['getmarketinfo', 'setmarketinforesults'] in Web3Bugs/contracts/26/contracts/interfaces/IRCMarket.sol. Available functions: ['collectrent', 'exitall', 'treasury', 'factory', 'orderbook', 'minrentaldaydivisor', 'maxrentiterations', 'artistcut', 'affiliatepaid', 'circuitbreaker', 'rentcollectedperuserpercard', 'timelastcollected', 'lockmarket', 'timeheld', 'useralreadywithdrawn', 'marketcreatoraddress', 'creatorcut', 'leaderboard', 'updatetimeheldlimit', 'creatorpaid', 'realitio', 'cardaffiliateaddresses', 'payaffiliate', 'arbitrator', 'rentallcards', 'artistaddress', 'exit', 'setamicableresolution', 'newrental', 'winnercut', 'rentcollectedperuser', 'isfinalized', 'nftstoaward', 'ownerof', 'mode', 'claimcard', 'minimumpriceincreasepercent', 'affiliateaddress', 'transfercard', 'cardaffiliatecut', 'state', 'cardaccountingindex', 'ismarket', 'gettokenid', 'artistpaid', 'affiliatecut', 'questionid', 'withdraw', 'getwinnerfromoracle', 'sponsor', 'totalrentcollected', 'winningoutcome', 'oracleresolutiontime', 'paycardaffiliate', 'longestowner', 'payartist', 'numberofcards', 'nfthub', 'timeout', 'exitedtimestamp', 'marketopeningtime', 'marketlockingtime', 'initialize', 'paymarketcreator', 'accountingcomplete']\n",
      "\n"
     ]
    },
    {
     "name": "stderr",
     "output_type": "stream",
     "text": [
      "Processing vulnerabilities:  10%|█         | 174/1703 [02:17<26:48,  1.05s/it]"
     ]
    },
    {
     "name": "stdout",
     "output_type": "stream",
     "text": [
      "\n",
      "No match found for [] in Web3Bugs/contracts/26/contracts/RCLeaderboard.sol. Available functions: ['addtoleaderboard', 'updateleaderboard', 'printleaderboard', 'addmarket', 'claimnft', 'removefromleaderboard', 'userisonleaderboard', 'constructor']\n",
      "\n"
     ]
    },
    {
     "name": "stderr",
     "output_type": "stream",
     "text": [
      "Processing vulnerabilities:  11%|█         | 179/1703 [02:22<25:53,  1.02s/it]"
     ]
    },
    {
     "name": "stdout",
     "output_type": "stream",
     "text": [
      "\n",
      "No match found for [] in Web3Bugs/contracts/26/contracts/RCFactory.sol. Available functions: ['setmarkettimerestrictions', 'getoraclesettings', 'setmarketpauseddefaultstate', 'setreferencecontractaddress', 'setmaxrentiterations', 'getpotdistribution', 'mintcopyofnft', 'setrealitioaddress', 'changemarketapproval', 'setcardlimit', 'mintmarketnft', 'constructor', 'setleaderboardaddress', 'setarbitrator', 'setsponsorshiprequired', 'updatetokenuri', 'createmarket', 'addaffiliate', 'getallmarkets', 'removeaffiliate', '_checktimestamps', 'setnumberofnftstoaward', 'setpotdistribution', 'changeapprovedaffilliatesonly', 'setmarketinforesults', 'getmarketinfo', 'changeapprovedartistsonly', 'removeartist', 'getmostrecentmarket', 'changemarketcreationgovernorsonly', 'setnfthubaddress', 'settimeout', 'setorderbookaddress', 'setminimumpriceincreasepercent', 'addartist']\n",
      "\n"
     ]
    },
    {
     "name": "stderr",
     "output_type": "stream",
     "text": [
      "Processing vulnerabilities:  11%|█         | 181/1703 [02:23<21:41,  1.17it/s]"
     ]
    },
    {
     "name": "stdout",
     "output_type": "stream",
     "text": [
      "\n",
      "No match found for ['createmarket'] in Web3Bugs/contracts/26/contracts/interfaces/IRCMarket.sol. Available functions: ['collectrent', 'exitall', 'treasury', 'factory', 'orderbook', 'minrentaldaydivisor', 'maxrentiterations', 'artistcut', 'affiliatepaid', 'circuitbreaker', 'rentcollectedperuserpercard', 'timelastcollected', 'lockmarket', 'timeheld', 'useralreadywithdrawn', 'marketcreatoraddress', 'creatorcut', 'leaderboard', 'updatetimeheldlimit', 'creatorpaid', 'realitio', 'cardaffiliateaddresses', 'payaffiliate', 'arbitrator', 'rentallcards', 'artistaddress', 'exit', 'setamicableresolution', 'newrental', 'winnercut', 'rentcollectedperuser', 'isfinalized', 'nftstoaward', 'ownerof', 'mode', 'claimcard', 'minimumpriceincreasepercent', 'affiliateaddress', 'transfercard', 'cardaffiliatecut', 'state', 'cardaccountingindex', 'ismarket', 'gettokenid', 'artistpaid', 'affiliatecut', 'questionid', 'withdraw', 'getwinnerfromoracle', 'sponsor', 'totalrentcollected', 'winningoutcome', 'oracleresolutiontime', 'paycardaffiliate', 'longestowner', 'payartist', 'numberofcards', 'nfthub', 'timeout', 'exitedtimestamp', 'marketopeningtime', 'marketlockingtime', 'initialize', 'paymarketcreator', 'accountingcomplete']\n",
      "\n"
     ]
    },
    {
     "name": "stderr",
     "output_type": "stream",
     "text": [
      "Processing vulnerabilities:  11%|█         | 188/1703 [02:26<15:02,  1.68it/s]"
     ]
    },
    {
     "name": "stdout",
     "output_type": "stream",
     "text": [
      "\n",
      "No match found for ['_transferburn', '_transfermint'] in Web3Bugs/contracts/49/contracts/OverlayToken.sol. Available functions: ['mint', 'constructor', 'burn']\n",
      "\n"
     ]
    },
    {
     "name": "stderr",
     "output_type": "stream",
     "text": [
      "Processing vulnerabilities:  12%|█▏        | 199/1703 [02:31<11:35,  2.16it/s]"
     ]
    },
    {
     "name": "stdout",
     "output_type": "stream",
     "text": [
      "\n",
      "No match found for [] in Web3Bugs/contracts/14/contracts/yield-source/IdleYieldSource.sol. Available functions: ['_tokentoshares', 'sponsor', 'deposittoken', '_totalshare', '_sharestotoken', 'transfererc20', '_price', 'balanceoftoken', 'initialize', 'redeemtoken', 'supplytokento', '_deposittoidle']\n",
      "\n"
     ]
    },
    {
     "name": "stderr",
     "output_type": "stream",
     "text": [
      "Processing vulnerabilities:  12%|█▏        | 201/1703 [02:31<09:16,  2.70it/s]"
     ]
    },
    {
     "name": "stdout",
     "output_type": "stream",
     "text": [
      "\n",
      "No match found for ['transfer', 'transferfrom'] in Web3Bugs/contracts/14/contracts/yield-source/BadgerYieldSource.sol. Available functions: ['deposittoken', 'balanceoftoken', 'redeemtoken', 'supplytokento', 'constructor']\n",
      "\n",
      "\n",
      "No match found for ['transfer', 'transferfrom'] in Web3Bugs/contracts/14/contracts/yield-source/SushiYieldSource.sol. Available functions: ['deposittoken', 'balanceoftoken', 'redeemtoken', 'supplytokento', 'constructor']\n",
      "\n",
      "\n",
      "No match found for ['[function at line 78]', '[function at line 67]', '[function at line 98]', '[function at line 91]'] in Web3Bugs/contracts/14/contracts/yield-source/IdleYieldSource.sol. Available functions: ['_tokentoshares', 'sponsor', 'deposittoken', '_totalshare', '_sharestotoken', 'transfererc20', '_price', 'balanceoftoken', 'initialize', 'redeemtoken', 'supplytokento', '_deposittoidle']\n",
      "\n"
     ]
    },
    {
     "name": "stderr",
     "output_type": "stream",
     "text": [
      "Processing vulnerabilities:  12%|█▏        | 202/1703 [02:32<10:50,  2.31it/s]"
     ]
    },
    {
     "name": "stdout",
     "output_type": "stream",
     "text": [
      "\n",
      "No match found for ['[function at line 78]', '[function at line 67]', '[function at line 98]', '[function at line 91]'] in Web3Bugs/contracts/14/contracts/yield-source/BadgerYieldSource.sol. Available functions: ['deposittoken', 'balanceoftoken', 'redeemtoken', 'supplytokento', 'constructor']\n",
      "\n",
      "\n",
      "No match found for ['[function at line 78]', '[function at line 67]', '[function at line 98]', '[function at line 91]'] in Web3Bugs/contracts/14/contracts/yield-source/SushiYieldSource.sol. Available functions: ['deposittoken', 'balanceoftoken', 'redeemtoken', 'supplytokento', 'constructor']\n",
      "\n"
     ]
    },
    {
     "name": "stderr",
     "output_type": "stream",
     "text": [
      "Processing vulnerabilities:  12%|█▏        | 211/1703 [02:39<19:40,  1.26it/s]"
     ]
    },
    {
     "name": "stdout",
     "output_type": "stream",
     "text": [
      "\n",
      "No match found for ['deposit functions'] in Web3Bugs/contracts/14/contracts/PrizePool.sol. Available functions: ['_applycreditlimit', 'withdrawreserve', '_calculateearlyexitfeenocredit', '_canaddliquidity', '_redeem', 'depositto', 'complikedelegate', '_supply', '_calculatecreditbalance', 'calculateearlyexitfee', 'timelockbalanceavailableat', '_calculatetimelockduration', '_calculateaccruedcredit', 'creditplanof', 'setprizestrategy', '_balance', 'tokens', 'balanceofcredit', '_mint', 'setcreditplanof', 'estimatecreditaccrualtime', 'withdrawwithtimelockfrom', '_calculateearlyexitfeelessburnedcredit', '_limitexitfee', 'awardexternalerc20', '_transferout', 'beforetokentransfer', 'award', 'balance', '_iscontrolled', 'transferexternalerc20', '_token', '_minttimelock', '_updatecreditbalance', 'withdrawinstantlyfrom', '_setprizestrategy', 'accountedbalance', '_sweeptimelockbalances', '_setliquiditycap', 'timelockbalanceof', 'captureawardbalance', '_accruecredit', '_tokentotalsupply', '_canawardexternal', '_currenttime', '_estimatecreditaccrualtime', 'token', 'calculatetimelockduration', 'setliquiditycap', '_burncredit', '_addcontrolledtoken', 'timelockdepositto', 'awardexternalerc721', 'calculatereservefee', 'canawardexternal', 'initialize', 'sweeptimelockbalances', 'awardbalance']\n",
      "\n"
     ]
    },
    {
     "name": "stderr",
     "output_type": "stream",
     "text": [
      "Processing vulnerabilities:  13%|█▎        | 214/1703 [02:42<20:57,  1.18it/s]"
     ]
    },
    {
     "name": "stdout",
     "output_type": "stream",
     "text": [
      "\n",
      "No match found for [] in Web3Bugs/contracts/14/contracts/PrizePool.sol. Available functions: ['_applycreditlimit', 'withdrawreserve', '_calculateearlyexitfeenocredit', '_canaddliquidity', '_redeem', 'depositto', 'complikedelegate', '_supply', '_calculatecreditbalance', 'calculateearlyexitfee', 'timelockbalanceavailableat', '_calculatetimelockduration', '_calculateaccruedcredit', 'creditplanof', 'setprizestrategy', '_balance', 'tokens', 'balanceofcredit', '_mint', 'setcreditplanof', 'estimatecreditaccrualtime', 'withdrawwithtimelockfrom', '_calculateearlyexitfeelessburnedcredit', '_limitexitfee', 'awardexternalerc20', '_transferout', 'beforetokentransfer', 'award', 'balance', '_iscontrolled', 'transferexternalerc20', '_token', '_minttimelock', '_updatecreditbalance', 'withdrawinstantlyfrom', '_setprizestrategy', 'accountedbalance', '_sweeptimelockbalances', '_setliquiditycap', 'timelockbalanceof', 'captureawardbalance', '_accruecredit', '_tokentotalsupply', '_canawardexternal', '_currenttime', '_estimatecreditaccrualtime', 'token', 'calculatetimelockduration', 'setliquiditycap', '_burncredit', '_addcontrolledtoken', 'timelockdepositto', 'awardexternalerc721', 'calculatereservefee', 'canawardexternal', 'initialize', 'sweeptimelockbalances', 'awardbalance']\n",
      "\n"
     ]
    },
    {
     "name": "stderr",
     "output_type": "stream",
     "text": [
      "Processing vulnerabilities:  13%|█▎        | 223/1703 [02:46<14:52,  1.66it/s]"
     ]
    },
    {
     "name": "stdout",
     "output_type": "stream",
     "text": [
      "\n",
      "No match found for ['onerc721received'] in Web3Bugs/contracts/14/contracts/PrizePool.sol. Available functions: ['_applycreditlimit', 'withdrawreserve', '_calculateearlyexitfeenocredit', '_canaddliquidity', '_redeem', 'depositto', 'complikedelegate', '_supply', '_calculatecreditbalance', 'calculateearlyexitfee', 'timelockbalanceavailableat', '_calculatetimelockduration', '_calculateaccruedcredit', 'creditplanof', 'setprizestrategy', '_balance', 'tokens', 'balanceofcredit', '_mint', 'setcreditplanof', 'estimatecreditaccrualtime', 'withdrawwithtimelockfrom', '_calculateearlyexitfeelessburnedcredit', '_limitexitfee', 'awardexternalerc20', '_transferout', 'beforetokentransfer', 'award', 'balance', '_iscontrolled', 'transferexternalerc20', '_token', '_minttimelock', '_updatecreditbalance', 'withdrawinstantlyfrom', '_setprizestrategy', 'accountedbalance', '_sweeptimelockbalances', '_setliquiditycap', 'timelockbalanceof', 'captureawardbalance', '_accruecredit', '_tokentotalsupply', '_canawardexternal', '_currenttime', '_estimatecreditaccrualtime', 'token', 'calculatetimelockduration', 'setliquiditycap', '_burncredit', '_addcontrolledtoken', 'timelockdepositto', 'awardexternalerc721', 'calculatereservefee', 'canawardexternal', 'initialize', 'sweeptimelockbalances', 'awardbalance']\n",
      "\n"
     ]
    },
    {
     "name": "stderr",
     "output_type": "stream",
     "text": [
      "Processing vulnerabilities:  13%|█▎        | 224/1703 [02:47<17:48,  1.38it/s]"
     ]
    },
    {
     "name": "stdout",
     "output_type": "stream",
     "text": [
      "Parsing error in Web3Bugs/contracts/37/contracts/TempusController.sol: unrecognized expression\n"
     ]
    },
    {
     "name": "stderr",
     "output_type": "stream",
     "text": [
      "Processing vulnerabilities:  13%|█▎        | 225/1703 [02:49<20:38,  1.19it/s]"
     ]
    },
    {
     "name": "stdout",
     "output_type": "stream",
     "text": [
      "Parsing error in Web3Bugs/contracts/37/contracts/TempusController.sol: unrecognized expression\n"
     ]
    },
    {
     "name": "stderr",
     "output_type": "stream",
     "text": [
      "Processing vulnerabilities:  13%|█▎        | 226/1703 [02:50<22:38,  1.09it/s]"
     ]
    },
    {
     "name": "stdout",
     "output_type": "stream",
     "text": [
      "Parsing error in Web3Bugs/contracts/37/contracts/TempusController.sol: unrecognized expression\n",
      "Parsing error in Web3Bugs/contracts/125/smart-contracts/LidoVault.sol: unrecognized expression\n"
     ]
    },
    {
     "name": "stderr",
     "output_type": "stream",
     "text": [
      "Processing vulnerabilities:  13%|█▎        | 227/1703 [02:50<20:09,  1.22it/s]"
     ]
    },
    {
     "name": "stdout",
     "output_type": "stream",
     "text": [
      "\n",
      "No match found for [] in Web3Bugs/contracts/125/smart-contracts/GeneralVault.sol. Available functions: ['_getyieldamount', 'getrevision', 'pricepershare', '_deposityield', '_getwithdrawalamount', 'depositcollateral', 'processyield', 'withdrawonliquidation', '_getassetyields', 'settreasuryinfo', '_deposittoyieldpool', '_getyield', 'withdrawcollateral', '_withdrawfromyieldpool', 'initialize']\n",
      "\n",
      "Parsing error in Web3Bugs/contracts/125/smart-contracts/LidoVault.sol: unrecognized expression\n"
     ]
    },
    {
     "name": "stderr",
     "output_type": "stream",
     "text": [
      "Processing vulnerabilities:  13%|█▎        | 228/1703 [02:50<16:03,  1.53it/s]"
     ]
    },
    {
     "name": "stdout",
     "output_type": "stream",
     "text": [
      "\n",
      "No match found for ['depositcollateral'] in Web3Bugs/contracts/125/smart-contracts/ConvexCurveLPVault.sol. Available functions: ['pricepershare', '_withdraw', '_getwithdrawalamount', 'processyield', 'withdrawonliquidation', '_transferyield', '_processtreasury', '_deposittoyieldpool', 'getinternalasset', 'getbaserewardpool', '_withdrawfromyieldpool', 'rewardtoken', 'setconfiguration', 'getyieldamount']\n",
      "\n",
      "Parsing error in Web3Bugs/contracts/125/smart-contracts/LidoVault.sol: unrecognized expression\n"
     ]
    },
    {
     "name": "stderr",
     "output_type": "stream",
     "text": [
      "Processing vulnerabilities:  14%|█▎        | 230/1703 [02:52<15:01,  1.63it/s]"
     ]
    },
    {
     "name": "stdout",
     "output_type": "stream",
     "text": [
      "\n",
      "No match found for [] in Web3Bugs/contracts/125/smart-contracts/YieldManager.sol. Available functions: ['setexchangetoken', 'getassetinfo', 'getrevision', 'getassetcount', 'setcurvepool', '_deposityield', 'registerasset', 'getcurvepool', 'distributeyield', '_getassetyields', 'initialize', '_converttostablecoin', '_convertassettoexchangetoken']\n",
      "\n"
     ]
    },
    {
     "name": "stderr",
     "output_type": "stream",
     "text": [
      "Processing vulnerabilities:  14%|█▍        | 235/1703 [02:54<14:54,  1.64it/s]"
     ]
    },
    {
     "name": "stdout",
     "output_type": "stream",
     "text": [
      "Parsing error in Web3Bugs/contracts/19/contracts/TransactionManager.sol: unrecognized expression\n"
     ]
    },
    {
     "name": "stderr",
     "output_type": "stream",
     "text": [
      "Processing vulnerabilities:  14%|█▍        | 237/1703 [02:55<13:32,  1.80it/s]"
     ]
    },
    {
     "name": "stdout",
     "output_type": "stream",
     "text": [
      "Parsing error in Web3Bugs/contracts/19/contracts/TransactionManager.sol: unrecognized expression\n"
     ]
    },
    {
     "name": "stderr",
     "output_type": "stream",
     "text": [
      "Processing vulnerabilities:  14%|█▍        | 238/1703 [02:56<16:04,  1.52it/s]"
     ]
    },
    {
     "name": "stdout",
     "output_type": "stream",
     "text": [
      "Parsing error in Web3Bugs/contracts/19/contracts/TransactionManager.sol: unrecognized expression\n"
     ]
    },
    {
     "name": "stderr",
     "output_type": "stream",
     "text": [
      "Processing vulnerabilities:  15%|█▍        | 249/1703 [02:58<04:40,  5.18it/s]"
     ]
    },
    {
     "name": "stdout",
     "output_type": "stream",
     "text": [
      "Parsing error in Web3Bugs/contracts/19/contracts/TransactionManager.sol: unrecognized expression\n"
     ]
    },
    {
     "name": "stderr",
     "output_type": "stream",
     "text": [
      "Processing vulnerabilities:  15%|█▍        | 251/1703 [02:59<06:08,  3.94it/s]"
     ]
    },
    {
     "name": "stdout",
     "output_type": "stream",
     "text": [
      "Parsing error in Web3Bugs/contracts/19/contracts/TransactionManager.sol: unrecognized expression\n"
     ]
    },
    {
     "name": "stderr",
     "output_type": "stream",
     "text": [
      "Processing vulnerabilities:  15%|█▍        | 253/1703 [03:00<07:35,  3.18it/s]"
     ]
    },
    {
     "name": "stdout",
     "output_type": "stream",
     "text": [
      "Parsing error in Web3Bugs/contracts/109/src/AxelarGateway.sol: unrecognized expression\n"
     ]
    },
    {
     "name": "stderr",
     "output_type": "stream",
     "text": [
      "Processing vulnerabilities:  15%|█▍        | 254/1703 [03:01<10:16,  2.35it/s]"
     ]
    },
    {
     "name": "stdout",
     "output_type": "stream",
     "text": [
      "Parsing error in Web3Bugs/contracts/109/src/AxelarGateway.sol: unrecognized expression\n"
     ]
    },
    {
     "name": "stderr",
     "output_type": "stream",
     "text": [
      "Processing vulnerabilities:  15%|█▍        | 255/1703 [03:02<12:52,  1.87it/s]"
     ]
    },
    {
     "name": "stdout",
     "output_type": "stream",
     "text": [
      "Parsing error in Web3Bugs/contracts/109/src/AxelarGateway.sol: unrecognized expression\n"
     ]
    },
    {
     "name": "stderr",
     "output_type": "stream",
     "text": [
      "Processing vulnerabilities:  15%|█▌        | 257/1703 [03:04<17:16,  1.39it/s]"
     ]
    },
    {
     "name": "stdout",
     "output_type": "stream",
     "text": [
      "Parsing error in Web3Bugs/contracts/109/src/AxelarGateway.sol: unrecognized expression\n"
     ]
    },
    {
     "name": "stderr",
     "output_type": "stream",
     "text": [
      "Processing vulnerabilities:  15%|█▌        | 260/1703 [03:07<24:42,  1.03s/it]"
     ]
    },
    {
     "name": "stdout",
     "output_type": "stream",
     "text": [
      "\n",
      "No match found for [] in Web3Bugs/contracts/31/veCVX/contracts/veCVXStrategy.sol. Available functions: ['setkeepreward', 'setharvestonrebalance', '_deposit', 'tend', '_swapcvxcrvtowant', 'preparewithdrawall', 'getprotectedtokens', 'manualsendbcvxtovault', 'getname', 'setprocesslocksonrebalance', 'cvxtowant', 'manualprocessexpiredlocks', 'manualrebalance', 'wanttocvx', 'balanceofpool', '_onlynotprotectedtokens', '_withdrawall', 'manualdepositcvxintovault', 'version', 'harvest', 'setwithdrawalsafetycheck', '_processrewardsfees', 'reinvest', 'istendable', 'setprocesslocksonreinvest', '_withdrawsome', '_processperformancefees', 'initialize']\n",
      "\n"
     ]
    },
    {
     "name": "stderr",
     "output_type": "stream",
     "text": [
      "Processing vulnerabilities:  15%|█▌        | 261/1703 [03:08<24:05,  1.00s/it]"
     ]
    },
    {
     "name": "stdout",
     "output_type": "stream",
     "text": [
      "\n",
      "No match found for [] in Web3Bugs/contracts/31/veCVX/contracts/deps/Controller.sol. Available functions: ['getexpectedreturn', 'setsplit', 'setonesplit', 'revokestrategy', 'setconverter', 'withdrawall', 'setrewards', 'setstrategy', 'incasestrategytokengetstuck', 'earn', 'withdraw', 'setvault', 'approvestrategy', 'balanceof', '_onlyapprovedforwant', 'initialize', 'incasetokensgetstuck']\n",
      "\n"
     ]
    },
    {
     "name": "stderr",
     "output_type": "stream",
     "text": [
      "Processing vulnerabilities:  16%|█▌        | 265/1703 [03:12<23:17,  1.03it/s]"
     ]
    },
    {
     "name": "stdout",
     "output_type": "stream",
     "text": [
      "\n",
      "No match found for ['updatereward'] in Web3Bugs/contracts/31/veCVX/contracts/locker/CvxLocker.sol. Available functions: ['setkickincentive', '_checkpointepoch', 'setstakingcontract', 'balanceatepochof', 'approverewarddistributor', 'checkpointepoch', 'setapprovals', '_earned', 'getrewardforduration', 'decimals', 'shutdown', 'rewardweightof', 'notifyrewardamount', 'addreward', 'lockedbalanceof', 'setstakelimits', 'symbol', 'transfercvx', 'lasttimerewardapplicable', '_lasttimerewardapplicable', 'constructor', 'claimablerewards', 'processexpiredlocks', 'totalsupply', 'epochcount', 'allocatecvxfortransfer', 'updatestakeratio', 'totalsupplyatepoch', 'setboost', '_processexpiredlocks', 'recovererc20', 'lockedbalances', 'getreward', '_lock', 'rewardpertoken', 'kickexpiredlocks', 'findepochid', '_notifyreward', 'name', '_rewardpertoken', 'balanceof', 'lock']\n",
      "\n"
     ]
    },
    {
     "name": "stderr",
     "output_type": "stream",
     "text": [
      "Processing vulnerabilities:  16%|█▌        | 266/1703 [03:13<21:37,  1.11it/s]"
     ]
    },
    {
     "name": "stdout",
     "output_type": "stream",
     "text": [
      "Parsing error in Web3Bugs/contracts/31/bCVX/deps/UniSwapper.sol: unrecognized expression\n"
     ]
    },
    {
     "name": "stderr",
     "output_type": "stream",
     "text": [
      "Processing vulnerabilities:  16%|█▌        | 268/1703 [03:14<16:51,  1.42it/s]"
     ]
    },
    {
     "name": "stdout",
     "output_type": "stream",
     "text": [
      "Parsing error in Web3Bugs/contracts/31/veCVX/deps/BaseStrategy.sol: unrecognized expression\n"
     ]
    },
    {
     "name": "stderr",
     "output_type": "stream",
     "text": [
      "Processing vulnerabilities:  16%|█▌        | 269/1703 [03:14<17:09,  1.39it/s]"
     ]
    },
    {
     "name": "stdout",
     "output_type": "stream",
     "text": [
      "\n",
      "No match found for [] in Web3Bugs/contracts/31/veCVX/contracts/veCVXStrategy.sol. Available functions: ['setkeepreward', 'setharvestonrebalance', '_deposit', 'tend', '_swapcvxcrvtowant', 'preparewithdrawall', 'getprotectedtokens', 'manualsendbcvxtovault', 'getname', 'setprocesslocksonrebalance', 'cvxtowant', 'manualprocessexpiredlocks', 'manualrebalance', 'wanttocvx', 'balanceofpool', '_onlynotprotectedtokens', '_withdrawall', 'manualdepositcvxintovault', 'version', 'harvest', 'setwithdrawalsafetycheck', '_processrewardsfees', 'reinvest', 'istendable', 'setprocesslocksonreinvest', '_withdrawsome', '_processperformancefees', 'initialize']\n",
      "\n",
      "Parsing error in Web3Bugs/contracts/31/bCVX/deps/UniSwapper.sol: unrecognized expression\n"
     ]
    },
    {
     "name": "stderr",
     "output_type": "stream",
     "text": [
      "Processing vulnerabilities:  16%|█▌        | 272/1703 [03:16<13:15,  1.80it/s]"
     ]
    },
    {
     "name": "stdout",
     "output_type": "stream",
     "text": [
      "Parsing error in Web3Bugs/contracts/31/veCVX/deps/BaseStrategy.sol: unrecognized expression\n"
     ]
    },
    {
     "name": "stderr",
     "output_type": "stream",
     "text": [
      "Processing vulnerabilities:  17%|█▋        | 282/1703 [03:20<08:23,  2.82it/s]"
     ]
    },
    {
     "name": "stdout",
     "output_type": "stream",
     "text": [
      "\n",
      "No match found for ['rewardspertoken_ accumulator update logic'] in Web3Bugs/contracts/25/contracts/utils/token/ERC20Rewards.sol. Available functions: ['latest', 'earliest', 'u32', '_updaterewardspertoken', 'u128', '_mint', 'setrewards', 'claim', '_transfer', '_burn', 'constructor', '_updateuserrewards']\n",
      "\n"
     ]
    },
    {
     "name": "stderr",
     "output_type": "stream",
     "text": [
      "Processing vulnerabilities:  17%|█▋        | 283/1703 [03:20<07:56,  2.98it/s]"
     ]
    },
    {
     "name": "stdout",
     "output_type": "stream",
     "text": [
      "\n",
      "No match found for [] in Web3Bugs/contracts/25/contracts/oracles/compound/CTokenMultiOracle.sol. Available functions: ['_setsource', 'setsource', 'setsources', '_get', '_peek', 'peek', 'get']\n",
      "\n"
     ]
    },
    {
     "name": "stderr",
     "output_type": "stream",
     "text": [
      "Processing vulnerabilities:  17%|█▋        | 287/1703 [03:21<05:24,  4.37it/s]"
     ]
    },
    {
     "name": "stdout",
     "output_type": "stream",
     "text": [
      "\n",
      "No match found for ['transfer'] in Web3Bugs/contracts/25/contracts/utils/token/ERC20Rewards.sol. Available functions: ['latest', 'earliest', 'u32', '_updaterewardspertoken', 'u128', '_mint', 'setrewards', 'claim', '_transfer', '_burn', 'constructor', '_updateuserrewards']\n",
      "\n"
     ]
    },
    {
     "name": "stderr",
     "output_type": "stream",
     "text": [
      "Processing vulnerabilities:  17%|█▋        | 288/1703 [03:22<06:25,  3.67it/s]"
     ]
    },
    {
     "name": "stdout",
     "output_type": "stream",
     "text": [
      "\n",
      "No match found for ['beforematurity', 'aftermaturity'] in Web3Bugs/contracts/25/contracts/FYToken.sol. Available functions: ['redeem', 'accrual', 'mature', 'burn', 'flashfee', 'flashloan', 'setoracle', '_accrual', '_mature', '_burn', 'mint', 'maxflashloan', 'constructor']\n",
      "\n"
     ]
    },
    {
     "name": "stderr",
     "output_type": "stream",
     "text": [
      "Processing vulnerabilities:  17%|█▋        | 289/1703 [03:22<09:24,  2.50it/s]"
     ]
    },
    {
     "name": "stdout",
     "output_type": "stream",
     "text": [
      "\n",
      "No match found for ['beforematurity', 'aftermaturity'] in Web3Bugs/contracts/25/contracts/yieldspace/Strategy.sol. Available functions: ['debttobase', 'pour', 'close', 'build', 'settokenid', 'balances', 'destroy', 'setyield', 'constructor', 'endpool', 'joins', 'assets', 'series', 'mint', 'cauldron', 'i128', 'resettokenjoin', 'setnextpool', 'burn', 'startpool']\n",
      "\n"
     ]
    },
    {
     "name": "stderr",
     "output_type": "stream",
     "text": [
      "Processing vulnerabilities:  17%|█▋        | 291/1703 [03:23<09:41,  2.43it/s]"
     ]
    },
    {
     "name": "stdout",
     "output_type": "stream",
     "text": [
      "\n",
      "No match found for [] in Web3Bugs/contracts/25/contracts/utils/token/ERC20Rewards.sol. Available functions: ['latest', 'earliest', 'u32', '_updaterewardspertoken', 'u128', '_mint', 'setrewards', 'claim', '_transfer', '_burn', 'constructor', '_updateuserrewards']\n",
      "\n"
     ]
    },
    {
     "name": "stderr",
     "output_type": "stream",
     "text": [
      "Processing vulnerabilities:  17%|█▋        | 292/1703 [03:24<10:22,  2.27it/s]"
     ]
    },
    {
     "name": "stdout",
     "output_type": "stream",
     "text": [
      "\n",
      "No match found for [] in Web3Bugs/contracts/25/contracts/yieldspace/Strategy.sol. Available functions: ['debttobase', 'pour', 'close', 'build', 'settokenid', 'balances', 'destroy', 'setyield', 'constructor', 'endpool', 'joins', 'assets', 'series', 'mint', 'cauldron', 'i128', 'resettokenjoin', 'setnextpool', 'burn', 'startpool']\n",
      "\n"
     ]
    },
    {
     "name": "stderr",
     "output_type": "stream",
     "text": [
      "Processing vulnerabilities:  17%|█▋        | 294/1703 [03:24<07:19,  3.21it/s]"
     ]
    },
    {
     "name": "stdout",
     "output_type": "stream",
     "text": [
      "\n",
      "No match found for [] in Web3Bugs/contracts/25/contracts/utils/TimeLock.sol. Available functions: ['setdelay', 'schedule', 'cancel', 'execute', 'constructor']\n",
      "\n"
     ]
    },
    {
     "name": "stderr",
     "output_type": "stream",
     "text": [
      "Processing vulnerabilities:  17%|█▋        | 297/1703 [03:25<07:48,  3.00it/s]"
     ]
    },
    {
     "name": "stdout",
     "output_type": "stream",
     "text": [
      "\n",
      "No match found for [] in Web3Bugs/contracts/25/contracts/Wand.sol. Available functions: ['addseries', 'makebase', 'addasset', 'point', 'transferownership', 'makeilk', 'constructor']\n",
      "\n"
     ]
    },
    {
     "name": "stderr",
     "output_type": "stream",
     "text": [
      "Processing vulnerabilities:  18%|█▊        | 302/1703 [03:26<06:59,  3.34it/s]"
     ]
    },
    {
     "name": "stdout",
     "output_type": "stream",
     "text": [
      "\n",
      "No match found for [] in Web3Bugs/contracts/114/aave-v3-yield-source/contracts/AaveV3YieldSource.sol. Available functions: ['_tokentoshares', 'deposittoken', '_sharestotoken', 'transfererc20', 'decreaseerc20allowance', '_pool', 'claimrewards', '_poolprovider', 'supplytokento', 'increaseerc20allowance', '_tokenaddress', 'balanceoftoken', 'redeemtoken', 'decimals', '_requirenotatoken', 'constructor']\n",
      "\n"
     ]
    },
    {
     "name": "stderr",
     "output_type": "stream",
     "text": [
      "Processing vulnerabilities:  18%|█▊        | 307/1703 [03:28<06:47,  3.43it/s]"
     ]
    },
    {
     "name": "stdout",
     "output_type": "stream",
     "text": [
      "Parsing error in Web3Bugs/contracts/104/splits/contracts/Splitter.sol: unrecognized expression\n"
     ]
    },
    {
     "name": "stderr",
     "output_type": "stream",
     "text": [
      "Processing vulnerabilities:  18%|█▊        | 308/1703 [03:28<06:52,  3.38it/s]"
     ]
    },
    {
     "name": "stdout",
     "output_type": "stream",
     "text": [
      "Parsing error in Web3Bugs/contracts/104/splits/contracts/Splitter.sol: unrecognized expression\n"
     ]
    },
    {
     "name": "stderr",
     "output_type": "stream",
     "text": [
      "Processing vulnerabilities:  18%|█▊        | 310/1703 [03:29<06:04,  3.82it/s]"
     ]
    },
    {
     "name": "stdout",
     "output_type": "stream",
     "text": [
      "\n",
      "No match found for [] in Web3Bugs/contracts/104/core-contracts/contracts/CoreProxy.sol. Available functions: ['fallback', 'constructor', 'implement']\n",
      "\n"
     ]
    },
    {
     "name": "stderr",
     "output_type": "stream",
     "text": [
      "Processing vulnerabilities:  18%|█▊        | 312/1703 [03:29<05:38,  4.11it/s]"
     ]
    },
    {
     "name": "stdout",
     "output_type": "stream",
     "text": [
      "\n",
      "No match found for ['minttoken'] in Web3Bugs/contracts/104/core-contracts/contracts/ERC721Payable.sol. Available functions: ['_handlepayment', 'royaltyvaultinitialized']\n",
      "\n"
     ]
    },
    {
     "name": "stderr",
     "output_type": "stream",
     "text": [
      "Processing vulnerabilities:  18%|█▊        | 314/1703 [03:30<05:17,  4.37it/s]"
     ]
    },
    {
     "name": "stdout",
     "output_type": "stream",
     "text": [
      "\n",
      "No match found for [] in Web3Bugs/contracts/104/royalty-vault/contracts/RoyaltyVault.sol. Available functions: ['getvaultbalance', 'setplatformfeerecipient', 'supportsinterface', 'setplatformfee', 'getsplitter', 'sendtosplitter']\n",
      "\n",
      "\n",
      "No match found for ['createsplit', 'createsplitproxy'] in Web3Bugs/contracts/104/splits/contracts/SplitProxy.sol. Available functions: ['fallback', 'splitter', 'splitasset', 'receive', 'merkleroot', 'constructor']\n",
      "\n"
     ]
    },
    {
     "name": "stderr",
     "output_type": "stream",
     "text": [
      "Processing vulnerabilities:  19%|█▊        | 317/1703 [03:30<04:33,  5.06it/s]"
     ]
    },
    {
     "name": "stdout",
     "output_type": "stream",
     "text": [
      "\n",
      "No match found for [] in Web3Bugs/contracts/104/core-contracts/contracts/CoreCollection.sol. Available functions: ['batchmint', 'setcollectionmeta', 'sethashedproof', '_beforetokentransfer', 'setstartingindex', 'initializeclaims', '_baseuri', 'minttoken', 'setroyaltyvault', 'name', 'baseuri', 'mint', 'symbol', 'withdraw', 'initialize', 'constructor']\n",
      "\n",
      "\n",
      "No match found for [] in Web3Bugs/contracts/104/royalty-vault/contracts/RoyaltyVault.sol. Available functions: ['getvaultbalance', 'setplatformfeerecipient', 'supportsinterface', 'setplatformfee', 'getsplitter', 'sendtosplitter']\n",
      "\n"
     ]
    },
    {
     "name": "stderr",
     "output_type": "stream",
     "text": [
      "Processing vulnerabilities:  19%|█▊        | 318/1703 [03:31<04:58,  4.64it/s]"
     ]
    },
    {
     "name": "stdout",
     "output_type": "stream",
     "text": [
      "Parsing error in Web3Bugs/contracts/104/core-contracts/contracts/CoreFactory.sol: unrecognized expression\n",
      "Parsing error in Web3Bugs/contracts/104/splits/contracts/Splitter.sol: unrecognized expression\n"
     ]
    },
    {
     "name": "stderr",
     "output_type": "stream",
     "text": [
      "Processing vulnerabilities:  19%|█▊        | 319/1703 [03:31<07:57,  2.90it/s]"
     ]
    },
    {
     "name": "stdout",
     "output_type": "stream",
     "text": [
      "\n",
      "No match found for ['incrementwindow', 'claimforallwindow', 'claim', '_handlepayment', 'sendtosplitter'] in Web3Bugs/contracts/104/core-contracts/contracts/CoreCollection.sol. Available functions: ['batchmint', 'setcollectionmeta', 'sethashedproof', '_beforetokentransfer', 'setstartingindex', 'initializeclaims', '_baseuri', 'minttoken', 'setroyaltyvault', 'name', 'baseuri', 'mint', 'symbol', 'withdraw', 'initialize', 'constructor']\n",
      "\n"
     ]
    },
    {
     "name": "stderr",
     "output_type": "stream",
     "text": [
      "Processing vulnerabilities:  19%|█▉        | 320/1703 [03:32<08:18,  2.77it/s]"
     ]
    },
    {
     "name": "stdout",
     "output_type": "stream",
     "text": [
      "Parsing error in Web3Bugs/contracts/104/splits/contracts/Splitter.sol: unrecognized expression\n"
     ]
    },
    {
     "name": "stderr",
     "output_type": "stream",
     "text": [
      "Processing vulnerabilities:  19%|█▉        | 321/1703 [03:32<09:26,  2.44it/s]"
     ]
    },
    {
     "name": "stdout",
     "output_type": "stream",
     "text": [
      "Parsing error in Web3Bugs/contracts/104/splits/contracts/Splitter.sol: unrecognized expression\n"
     ]
    },
    {
     "name": "stderr",
     "output_type": "stream",
     "text": [
      "Processing vulnerabilities:  19%|█▉        | 323/1703 [03:33<07:10,  3.20it/s]"
     ]
    },
    {
     "name": "stdout",
     "output_type": "stream",
     "text": [
      "Parsing error in Web3Bugs/contracts/104/splits/contracts/Splitter.sol: unrecognized expression\n"
     ]
    },
    {
     "name": "stderr",
     "output_type": "stream",
     "text": [
      "Processing vulnerabilities:  19%|█▉        | 324/1703 [03:33<07:13,  3.18it/s]"
     ]
    },
    {
     "name": "stdout",
     "output_type": "stream",
     "text": [
      "Parsing error in Web3Bugs/contracts/104/splits/contracts/SplitFactory.sol: unrecognized expression\n"
     ]
    },
    {
     "name": "stderr",
     "output_type": "stream",
     "text": [
      "Processing vulnerabilities:  19%|█▉        | 328/1703 [03:35<11:06,  2.06it/s]"
     ]
    },
    {
     "name": "stdout",
     "output_type": "stream",
     "text": [
      "Parsing error in Web3Bugs/contracts/94/contracts/mixins/NFTMarketCreators.sol: unrecognized expression\n",
      "Parsing error in Web3Bugs/contracts/94/contracts/mixins/NFTMarketOffer.sol: unrecognized expression\n"
     ]
    },
    {
     "name": "stderr",
     "output_type": "stream",
     "text": [
      "Processing vulnerabilities:  19%|█▉        | 330/1703 [03:37<15:56,  1.44it/s]"
     ]
    },
    {
     "name": "stdout",
     "output_type": "stream",
     "text": [
      "\n",
      "No match found for ['withdraw', '_sendvaluewithfallbackwithdraw', 'withdrawfor'] in Web3Bugs/contracts/94/contracts/mixins/NFTMarketFees.sol. Available functions: ['_distributefunds', '_getfees', 'getfeesandrecipients']\n",
      "\n"
     ]
    },
    {
     "name": "stderr",
     "output_type": "stream",
     "text": [
      "Processing vulnerabilities:  19%|█▉        | 331/1703 [03:39<21:25,  1.07it/s]"
     ]
    },
    {
     "name": "stdout",
     "output_type": "stream",
     "text": [
      "\n",
      "No match found for ['withdraw', '_sendvaluewithfallbackwithdraw', 'withdrawfor'] in Web3Bugs/contracts/94/contracts/mixins/NFTMarketReserveAuction.sol. Available functions: ['admincancelreserveauction', '_getsellerfor', '_isinactiveauction', '_transferfromescrowifavailable', '_transferfromescrow', 'updatereserveauction', 'getreserveauction', 'placebid', 'cancelreserveauction', 'createreserveauction', 'finalizereserveauction', '_finalizereserveauction', 'adminaccountmigration', 'getminbidamount', 'getreserveauctionidfor', 'placebidof', '_transfertoescrow', 'constructor']\n",
      "\n"
     ]
    },
    {
     "name": "stderr",
     "output_type": "stream",
     "text": [
      "Processing vulnerabilities:  19%|█▉        | 332/1703 [03:40<21:42,  1.05it/s]"
     ]
    },
    {
     "name": "stdout",
     "output_type": "stream",
     "text": [
      "\n",
      "No match found for ['adminaccountmigration'] in Web3Bugs/contracts/94/contracts/mixins/NFTMarketBuyPrice.sol. Available functions: ['_getsellerfor', '_autoacceptbuyprice', '_transferfromescrowifavailable', '_transferfromescrow', '_invalidatebuyprice', 'setbuyprice', 'buy', 'getbuyprice', 'cancelbuyprice', '_transfertoescrow', '_afterauctionstarted', '_buy']\n",
      "\n"
     ]
    },
    {
     "name": "stderr",
     "output_type": "stream",
     "text": [
      "Processing vulnerabilities:  20%|█▉        | 334/1703 [03:42<20:00,  1.14it/s]"
     ]
    },
    {
     "name": "stdout",
     "output_type": "stream",
     "text": [
      "\n",
      "No match found for [] in Web3Bugs/contracts/94/contracts/mixins/NFTMarketFees.sol. Available functions: ['_distributefunds', '_getfees', 'getfeesandrecipients']\n",
      "\n"
     ]
    },
    {
     "name": "stderr",
     "output_type": "stream",
     "text": [
      "Processing vulnerabilities:  20%|█▉        | 336/1703 [03:42<13:24,  1.70it/s]"
     ]
    },
    {
     "name": "stdout",
     "output_type": "stream",
     "text": [
      "Parsing error in Web3Bugs/contracts/94/contracts/mixins/NFTMarketCreators.sol: unrecognized expression\n"
     ]
    },
    {
     "name": "stderr",
     "output_type": "stream",
     "text": [
      "Processing vulnerabilities:  20%|█▉        | 339/1703 [03:44<11:19,  2.01it/s]"
     ]
    },
    {
     "name": "stdout",
     "output_type": "stream",
     "text": [
      "\n",
      "No match found for [] in Web3Bugs/contracts/94/contracts/mixins/NFTMarketFees.sol. Available functions: ['_distributefunds', '_getfees', 'getfeesandrecipients']\n",
      "\n"
     ]
    },
    {
     "name": "stderr",
     "output_type": "stream",
     "text": [
      "Processing vulnerabilities:  20%|█▉        | 340/1703 [03:44<09:25,  2.41it/s]"
     ]
    },
    {
     "name": "stdout",
     "output_type": "stream",
     "text": [
      "\n",
      "No match found for [] in Web3Bugs/contracts/94/contracts/mixins/NFTMarketPrivateSale.sol. Available functions: ['buyfromprivatesale', 'buyfromprivatesalefor', 'constructor']\n",
      "\n"
     ]
    },
    {
     "name": "stderr",
     "output_type": "stream",
     "text": [
      "Processing vulnerabilities:  20%|██        | 341/1703 [03:45<11:22,  2.00it/s]"
     ]
    },
    {
     "name": "stdout",
     "output_type": "stream",
     "text": [
      "Parsing error in Web3Bugs/contracts/94/contracts/mixins/NFTMarketOffer.sol: unrecognized expression\n",
      "\n",
      "No match found for [] in Web3Bugs/contracts/94/contracts/FNDNFTMarket.sol. Available functions: ['_getsellerfor', '_transferfromescrowifavailable', '_transferfromescrow', 'initialize', '_transfertoescrow', '_afterauctionstarted', 'constructor']\n",
      "\n",
      "Parsing error in Web3Bugs/contracts/94/contracts/mixins/NFTMarketCreators.sol: unrecognized expression\n"
     ]
    },
    {
     "name": "stderr",
     "output_type": "stream",
     "text": [
      "Processing vulnerabilities:  20%|██        | 343/1703 [03:45<09:47,  2.32it/s]"
     ]
    },
    {
     "name": "stdout",
     "output_type": "stream",
     "text": [
      "\n",
      "No match found for ['getroyalties'] in Web3Bugs/contracts/94/contracts/mixins/NFTMarketFees.sol. Available functions: ['_distributefunds', '_getfees', 'getfeesandrecipients']\n",
      "\n"
     ]
    },
    {
     "name": "stderr",
     "output_type": "stream",
     "text": [
      "Processing vulnerabilities:  20%|██        | 344/1703 [03:46<09:21,  2.42it/s]"
     ]
    },
    {
     "name": "stdout",
     "output_type": "stream",
     "text": [
      "Parsing error in Web3Bugs/contracts/94/contracts/mixins/NFTMarketCreators.sol: unrecognized expression\n",
      "Parsing error in Web3Bugs/contracts/94/contracts/mixins/NFTMarketOffer.sol: unrecognized expression\n"
     ]
    },
    {
     "name": "stderr",
     "output_type": "stream",
     "text": [
      "Processing vulnerabilities:  20%|██        | 346/1703 [03:48<13:26,  1.68it/s]"
     ]
    },
    {
     "name": "stdout",
     "output_type": "stream",
     "text": [
      "\n",
      "No match found for ['_distributefunds', '_acceptoffer'] in Web3Bugs/contracts/94/contracts/mixins/NFTMarketReserveAuction.sol. Available functions: ['admincancelreserveauction', '_getsellerfor', '_isinactiveauction', '_transferfromescrowifavailable', '_transferfromescrow', 'updatereserveauction', 'getreserveauction', 'placebid', 'cancelreserveauction', 'createreserveauction', 'finalizereserveauction', '_finalizereserveauction', 'adminaccountmigration', 'getminbidamount', 'getreserveauctionidfor', 'placebidof', '_transfertoescrow', 'constructor']\n",
      "\n"
     ]
    },
    {
     "name": "stderr",
     "output_type": "stream",
     "text": [
      "Processing vulnerabilities:  23%|██▎       | 388/1703 [03:51<01:47, 12.23it/s]"
     ]
    },
    {
     "name": "stdout",
     "output_type": "stream",
     "text": [
      "Parsing error in Web3Bugs/contracts/73/arbitrum-lpt-bridge/contracts/L1/gateway/L1Migrator.sol: unrecognized expression\n",
      "Parsing error in Web3Bugs/contracts/73/arbitrum-lpt-bridge/contracts/L1/gateway/L1Migrator.sol: unrecognized expression\n",
      "Parsing error in Web3Bugs/contracts/73/arbitrum-lpt-bridge/contracts/L1/gateway/L1Migrator.sol: unrecognized expression\n"
     ]
    },
    {
     "name": "stderr",
     "output_type": "stream",
     "text": [
      "Processing vulnerabilities:  23%|██▎       | 400/1703 [03:54<04:09,  5.22it/s]"
     ]
    },
    {
     "name": "stdout",
     "output_type": "stream",
     "text": [
      "Parsing error in Web3Bugs/contracts/100/contracts/core/PrePOMarketFactory.sol: unrecognized expression\n"
     ]
    },
    {
     "name": "stderr",
     "output_type": "stream",
     "text": [
      "Processing vulnerabilities:  24%|██▎       | 401/1703 [03:55<04:52,  4.45it/s]"
     ]
    },
    {
     "name": "stdout",
     "output_type": "stream",
     "text": [
      "\n",
      "No match found for [] in Web3Bugs/contracts/100/contracts/core/PrePOMarket.sol. Available functions: ['getmaxprice', 'setpublicminting', 'getfloorvaluation', 'getshorttoken', 'setmintingfee', 'getfinallongprice', 'setredemptionfee', 'getfeedenominator', 'gettreasury', 'constructor', 'mintlongshorttokens', 'redeem', 'ispublicmintingallowed', 'getexpirytime', 'setfinallongprice', 'getmintingfee', 'getredemptionfee', 'getceilingvaluation', 'getfeelimit', 'settreasury', 'getlongtoken', 'getfloorlongprice', 'getceilinglongprice', 'getcollateral']\n",
      "\n"
     ]
    },
    {
     "name": "stderr",
     "output_type": "stream",
     "text": [
      "Processing vulnerabilities:  24%|██▍       | 408/1703 [04:02<25:10,  1.17s/it]"
     ]
    },
    {
     "name": "stdout",
     "output_type": "stream",
     "text": [
      "Parsing error in Web3Bugs/contracts/145/contracts/ethregistrar/ETHRegistrarController.sol: unrecognized expression\n"
     ]
    },
    {
     "name": "stderr",
     "output_type": "stream",
     "text": [
      "Processing vulnerabilities:  24%|██▍       | 410/1703 [04:05<24:45,  1.15s/it]"
     ]
    },
    {
     "name": "stdout",
     "output_type": "stream",
     "text": [
      "Parsing error in Web3Bugs/contracts/145/contracts/ethregistrar/ETHRegistrarController.sol: unrecognized expression\n"
     ]
    },
    {
     "name": "stderr",
     "output_type": "stream",
     "text": [
      "Processing vulnerabilities:  25%|██▍       | 420/1703 [04:15<19:06,  1.12it/s]"
     ]
    },
    {
     "name": "stdout",
     "output_type": "stream",
     "text": [
      "Parsing error in Web3Bugs/contracts/145/contracts/ethregistrar/ETHRegistrarController.sol: unrecognized expression\n"
     ]
    },
    {
     "name": "stderr",
     "output_type": "stream",
     "text": [
      "Processing vulnerabilities:  25%|██▍       | 424/1703 [04:16<10:31,  2.02it/s]"
     ]
    },
    {
     "name": "stdout",
     "output_type": "stream",
     "text": [
      "Parsing error in Web3Bugs/contracts/20/contracts/Router.sol: unrecognized expression\n"
     ]
    },
    {
     "name": "stderr",
     "output_type": "stream",
     "text": [
      "Processing vulnerabilities:  25%|██▍       | 425/1703 [04:17<14:17,  1.49it/s]"
     ]
    },
    {
     "name": "stdout",
     "output_type": "stream",
     "text": [
      "\n",
      "No match found for ['realise'] in Web3Bugs/contracts/20/contracts/Utils.sol. Available functions: ['calcspotvalueintokenwithpool', 'calcswapoutput', 'getpoolshareweight', 'calcswapvalueinbasewithpool', 'calcswapvalueintoken', 'getslipadustment', 'getpool', 'calcpart', 'calcswapvalueinbasewithsynth', '_dao', 'calcliquidityunitsasym', 'calcliquidityholdings', 'constructor', 'calcliquidityunits', 'calcspotvalueinbasewithpool', 'getfeeontransfer', 'calcasymmetricvaluetoken', 'getpooldata', 'calcswapfee', 'calcswapvalueinbase', 'calcspotvalueintoken', 'calcactualsynthunits', 'calcswapvalueintokenwithpool', 'calcshare', 'calcspotvalueinbase']\n",
      "\n"
     ]
    },
    {
     "name": "stderr",
     "output_type": "stream",
     "text": [
      "Processing vulnerabilities:  25%|██▌       | 428/1703 [04:18<11:02,  1.92it/s]"
     ]
    },
    {
     "name": "stdout",
     "output_type": "stream",
     "text": [
      "Parsing error in Web3Bugs/contracts/20/contracts/Router.sol: unrecognized expression\n"
     ]
    },
    {
     "name": "stderr",
     "output_type": "stream",
     "text": [
      "Processing vulnerabilities:  25%|██▌       | 432/1703 [04:24<22:08,  1.05s/it]"
     ]
    },
    {
     "name": "stdout",
     "output_type": "stream",
     "text": [
      "\n",
      "No match found for ['burn original lp', 'burn debt-lp'] in Web3Bugs/contracts/20/contracts/Pool.sol. Available functions: ['swap', '_swapbasetotoken', 'transfer', '_swaptokentobase', '_incrementpoolbalances', '_getaddedbaseamount', '_getaddedtokenamount', '_approve', 'addformember', '_mint', '_dao', 'decreaseallowance', 'symbol', 'swapto', 'burnsynth', 'burnfrom', 'constructor', 'approveandcall', 'transferandcall', 'allowance', 'approve', 'sync', '_addpoolmetrics', 'removeformember', 'mintsynth', 'transferfrom', 'remove', '_setpoolamounts', '_burn', 'add', '_decrementpoolbalances', 'increaseallowance', 'burn', 'name', '_transfer', 'balanceof', 'addrevenue', 'addfee']\n",
      "\n",
      "Parsing error in Web3Bugs/contracts/20/contracts/Dao.sol: unrecognized expression\n"
     ]
    },
    {
     "name": "stderr",
     "output_type": "stream",
     "text": [
      "Processing vulnerabilities:  25%|██▌       | 433/1703 [04:27<31:50,  1.50s/it]"
     ]
    },
    {
     "name": "stdout",
     "output_type": "stream",
     "text": [
      "\n",
      "No match found for ['onlydao'] in Web3Bugs/contracts/20/contracts/synthFactory.sol. Available functions: ['purgedeployer', 'createsynth', 'getsynthsarray', '_dao', 'getsynth', 'synthcount', 'constructor', 'addsynth']\n",
      "\n",
      "Parsing error in Web3Bugs/contracts/20/contracts/Router.sol: unrecognized expression\n",
      "\n",
      "No match found for ['onlydao'] in Web3Bugs/contracts/20/contracts/Synth.sol. Available functions: ['transfer', '_handletransferin', 'getmapaddress_lpdebt', '_approve', '_mint', '_dao', 'getmapaddress_lpbalance', 'decreaseallowance', 'symbol', 'realise', 'burnsynth', 'burnfrom', 'constructor', 'approveandcall', 'transferandcall', 'allowance', 'approve', 'mintsynth', '_getaddedlpamount', 'transferfrom', '_burn', 'increaseallowance', 'burn', 'name', '_transfer', 'balanceof']\n",
      "\n",
      "\n",
      "No match found for ['onlydao'] in Web3Bugs/contracts/20/contracts/synthVault.sol. Available functions: ['reservebase', 'getmembersynthweight', '_deposit', 'harvestall', 'getmemberlastsynthtime', '_addvaultmetrics', 'getmemberlasttime', 'getstakesynthlength', 'getmemberdeposit', 'deposit', '_dao', '_processwithdraw', 'harvestsingle', 'constructor', 'calcreward', 'depositformember', 'calccurrentreward', 'withdraw', 'getmemberweight', 'setparams', 'addrevenue', 'addfee']\n",
      "\n",
      "\n",
      "No match found for ['onlydao'] in Web3Bugs/contracts/20/contracts/BondVault.sol. Available functions: ['getmemberdetails', 'purgedeployer', 'increaseweight', 'allmembers', 'membercount', 'release', 'getmemberweight', 'calcbondedlp', 'depositformember', '_dao', 'decreaseweight', 'claimformember', 'constructor']\n",
      "\n"
     ]
    },
    {
     "name": "stderr",
     "output_type": "stream",
     "text": [
      "Processing vulnerabilities:  26%|██▌       | 435/1703 [04:30<33:44,  1.60s/it]"
     ]
    },
    {
     "name": "stdout",
     "output_type": "stream",
     "text": [
      "\n",
      "No match found for ['onlydao'] in Web3Bugs/contracts/20/contracts/poolFactory.sol. Available functions: ['poolcount', 'purgedeployer', 'curatedpoolcount', 'createpooladd', 'ispool', 'tokencount', 'createpool', 'gettoken', '_dao', 'addcuratedpool', 'removecuratedpool', '_handletransferin', 'getpoolarray', 'constructor', 'getpool']\n",
      "\n"
     ]
    },
    {
     "name": "stderr",
     "output_type": "stream",
     "text": [
      "Processing vulnerabilities:  26%|██▌       | 436/1703 [04:32<35:07,  1.66s/it]"
     ]
    },
    {
     "name": "stdout",
     "output_type": "stream",
     "text": [
      "Parsing error in Web3Bugs/contracts/20/contracts/Dao.sol: unrecognized expression\n"
     ]
    },
    {
     "name": "stderr",
     "output_type": "stream",
     "text": [
      "Processing vulnerabilities:  26%|██▌       | 442/1703 [04:37<20:06,  1.05it/s]"
     ]
    },
    {
     "name": "stdout",
     "output_type": "stream",
     "text": [
      "Parsing error in Web3Bugs/contracts/20/contracts/Dao.sol: unrecognized expression\n"
     ]
    },
    {
     "name": "stderr",
     "output_type": "stream",
     "text": [
      "Processing vulnerabilities:  26%|██▌       | 443/1703 [04:38<24:07,  1.15s/it]"
     ]
    },
    {
     "name": "stdout",
     "output_type": "stream",
     "text": [
      "Parsing error in Web3Bugs/contracts/20/contracts/Dao.sol: unrecognized expression\n"
     ]
    },
    {
     "name": "stderr",
     "output_type": "stream",
     "text": [
      "Processing vulnerabilities:  26%|██▌       | 447/1703 [04:41<15:30,  1.35it/s]"
     ]
    },
    {
     "name": "stdout",
     "output_type": "stream",
     "text": [
      "\n",
      "No match found for ['handletransferin', 'bond'] in Web3Bugs/contracts/20/contracts/BondVault.sol. Available functions: ['getmemberdetails', 'purgedeployer', 'increaseweight', 'allmembers', 'membercount', 'release', 'getmemberweight', 'calcbondedlp', 'depositformember', '_dao', 'decreaseweight', 'claimformember', 'constructor']\n",
      "\n"
     ]
    },
    {
     "name": "stderr",
     "output_type": "stream",
     "text": [
      "Processing vulnerabilities:  26%|██▋       | 449/1703 [04:43<16:48,  1.24it/s]"
     ]
    },
    {
     "name": "stdout",
     "output_type": "stream",
     "text": [
      "Parsing error in Web3Bugs/contracts/20/contracts/Dao.sol: unrecognized expression\n"
     ]
    },
    {
     "name": "stderr",
     "output_type": "stream",
     "text": [
      "Processing vulnerabilities:  27%|██▋       | 463/1703 [04:47<09:23,  2.20it/s]"
     ]
    },
    {
     "name": "stdout",
     "output_type": "stream",
     "text": [
      "Parsing error in Web3Bugs/contracts/20/contracts/Router.sol: unrecognized expression\n"
     ]
    },
    {
     "name": "stderr",
     "output_type": "stream",
     "text": [
      "Processing vulnerabilities:  27%|██▋       | 464/1703 [04:48<11:12,  1.84it/s]"
     ]
    },
    {
     "name": "stdout",
     "output_type": "stream",
     "text": [
      "Parsing error in Web3Bugs/contracts/20/contracts/Router.sol: unrecognized expression\n"
     ]
    },
    {
     "name": "stderr",
     "output_type": "stream",
     "text": [
      "Processing vulnerabilities:  27%|██▋       | 465/1703 [04:49<12:52,  1.60it/s]"
     ]
    },
    {
     "name": "stdout",
     "output_type": "stream",
     "text": [
      "Parsing error in Web3Bugs/contracts/20/contracts/Router.sol: unrecognized expression\n"
     ]
    },
    {
     "name": "stderr",
     "output_type": "stream",
     "text": [
      "Processing vulnerabilities:  27%|██▋       | 468/1703 [04:50<10:44,  1.92it/s]"
     ]
    },
    {
     "name": "stdout",
     "output_type": "stream",
     "text": [
      "\n",
      "No match found for ['removeliquiditysingle'] in Web3Bugs/contracts/20/contracts/Pool.sol. Available functions: ['swap', '_swapbasetotoken', 'transfer', '_swaptokentobase', '_incrementpoolbalances', '_getaddedbaseamount', '_getaddedtokenamount', '_approve', 'addformember', '_mint', '_dao', 'decreaseallowance', 'symbol', 'swapto', 'burnsynth', 'burnfrom', 'constructor', 'approveandcall', 'transferandcall', 'allowance', 'approve', 'sync', '_addpoolmetrics', 'removeformember', 'mintsynth', 'transferfrom', 'remove', '_setpoolamounts', '_burn', 'add', '_decrementpoolbalances', 'increaseallowance', 'burn', 'name', '_transfer', 'balanceof', 'addrevenue', 'addfee']\n",
      "\n"
     ]
    },
    {
     "name": "stderr",
     "output_type": "stream",
     "text": [
      "Processing vulnerabilities:  28%|██▊       | 476/1703 [04:53<08:13,  2.49it/s]"
     ]
    },
    {
     "name": "stdout",
     "output_type": "stream",
     "text": [
      "\n",
      "No match found for [] in Web3Bugs/contracts/20/contracts/Utils.sol. Available functions: ['calcspotvalueintokenwithpool', 'calcswapoutput', 'getpoolshareweight', 'calcswapvalueinbasewithpool', 'calcswapvalueintoken', 'getslipadustment', 'getpool', 'calcpart', 'calcswapvalueinbasewithsynth', '_dao', 'calcliquidityunitsasym', 'calcliquidityholdings', 'constructor', 'calcliquidityunits', 'calcspotvalueinbasewithpool', 'getfeeontransfer', 'calcasymmetricvaluetoken', 'getpooldata', 'calcswapfee', 'calcswapvalueinbase', 'calcspotvalueintoken', 'calcactualsynthunits', 'calcswapvalueintokenwithpool', 'calcshare', 'calcspotvalueinbase']\n",
      "\n"
     ]
    },
    {
     "name": "stderr",
     "output_type": "stream",
     "text": [
      "Processing vulnerabilities:  28%|██▊       | 481/1703 [04:55<07:54,  2.58it/s]"
     ]
    },
    {
     "name": "stdout",
     "output_type": "stream",
     "text": [
      "Parsing error in Web3Bugs/contracts/10/contracts/contracts/visor/Visor.sol: unrecognized expression\n"
     ]
    },
    {
     "name": "stderr",
     "output_type": "stream",
     "text": [
      "Processing vulnerabilities:  28%|██▊       | 482/1703 [04:56<10:15,  1.98it/s]"
     ]
    },
    {
     "name": "stdout",
     "output_type": "stream",
     "text": [
      "Parsing error in Web3Bugs/contracts/10/contracts/contracts/visor/Visor.sol: unrecognized expression\n"
     ]
    },
    {
     "name": "stderr",
     "output_type": "stream",
     "text": [
      "Processing vulnerabilities:  29%|██▊       | 486/1703 [04:57<07:46,  2.61it/s]"
     ]
    },
    {
     "name": "stdout",
     "output_type": "stream",
     "text": [
      "Parsing error in Web3Bugs/contracts/10/contracts/contracts/visor/Visor.sol: unrecognized expression\n"
     ]
    },
    {
     "name": "stderr",
     "output_type": "stream",
     "text": [
      "Processing vulnerabilities:  29%|██▊       | 488/1703 [04:58<08:31,  2.37it/s]"
     ]
    },
    {
     "name": "stdout",
     "output_type": "stream",
     "text": [
      "Parsing error in Web3Bugs/contracts/10/contracts/contracts/visor/Visor.sol: unrecognized expression\n"
     ]
    },
    {
     "name": "stderr",
     "output_type": "stream",
     "text": [
      "Processing vulnerabilities:  29%|██▉       | 499/1703 [05:00<06:31,  3.07it/s]"
     ]
    },
    {
     "name": "stdout",
     "output_type": "stream",
     "text": [
      "\n",
      "No match found for ['renounceownership', 'transferownership'] in Web3Bugs/contracts/24/swappable-yield-source/contracts/SwappableYieldSource.sol. Available functions: ['_tokentoshares', 'swapyieldsource', '_setyieldsource', 'transferfunds', 'approvemaxamount', '_requireyieldsource', 'redeemtoken', 'supplytokento', '_sharestotoken', 'freeze', 'balanceoftoken', 'transfererc20', 'deposittoken', '_requiredifferentyieldsource', 'setyieldsource', '_transferfunds', '_burnshares', '_mintshares', 'initialize']\n",
      "\n",
      "\n",
      "No match found for ['renounceownership', 'transferownership'] in Web3Bugs/contracts/24/swappable-yield-source/contracts/access/AssetManager.sol. Available functions: ['setassetmanager', 'assetmanager']\n",
      "\n"
     ]
    },
    {
     "name": "stderr",
     "output_type": "stream",
     "text": [
      "Processing vulnerabilities:  29%|██▉       | 502/1703 [05:01<06:19,  3.16it/s]"
     ]
    },
    {
     "name": "stdout",
     "output_type": "stream",
     "text": [
      "\n",
      "No match found for [] in Web3Bugs/contracts/24/swappable-yield-source/contracts/SwappableYieldSource.sol. Available functions: ['_tokentoshares', 'swapyieldsource', '_setyieldsource', 'transferfunds', 'approvemaxamount', '_requireyieldsource', 'redeemtoken', 'supplytokento', '_sharestotoken', 'freeze', 'balanceoftoken', 'transfererc20', 'deposittoken', '_requiredifferentyieldsource', 'setyieldsource', '_transferfunds', '_burnshares', '_mintshares', 'initialize']\n",
      "\n"
     ]
    },
    {
     "name": "stderr",
     "output_type": "stream",
     "text": [
      "Processing vulnerabilities:  30%|██▉       | 503/1703 [05:02<06:45,  2.96it/s]"
     ]
    },
    {
     "name": "stdout",
     "output_type": "stream",
     "text": [
      "\n",
      "No match found for ['initialization function'] in Web3Bugs/contracts/24/swappable-yield-source/contracts/SwappableYieldSource.sol. Available functions: ['_tokentoshares', 'swapyieldsource', '_setyieldsource', 'transferfunds', 'approvemaxamount', '_requireyieldsource', 'redeemtoken', 'supplytokento', '_sharestotoken', 'freeze', 'balanceoftoken', 'transfererc20', 'deposittoken', '_requiredifferentyieldsource', 'setyieldsource', '_transferfunds', '_burnshares', '_mintshares', 'initialize']\n",
      "\n"
     ]
    },
    {
     "name": "stderr",
     "output_type": "stream",
     "text": [
      "Processing vulnerabilities:  30%|██▉       | 504/1703 [05:02<07:55,  2.52it/s]"
     ]
    },
    {
     "name": "stdout",
     "output_type": "stream",
     "text": [
      "\n",
      "No match found for ['_newyieldsource', 'imbalances'] in Web3Bugs/contracts/24/swappable-yield-source/contracts/SwappableYieldSource.sol. Available functions: ['_tokentoshares', 'swapyieldsource', '_setyieldsource', 'transferfunds', 'approvemaxamount', '_requireyieldsource', 'redeemtoken', 'supplytokento', '_sharestotoken', 'freeze', 'balanceoftoken', 'transfererc20', 'deposittoken', '_requiredifferentyieldsource', 'setyieldsource', '_transferfunds', '_burnshares', '_mintshares', 'initialize']\n",
      "\n",
      "\n",
      "No match found for ['_newyieldsource', 'imbalances'] in Web3Bugs/contracts/24/pooltogether-mstable/contracts/yield-source/MStableYieldSource.sol. Available functions: ['deposittoken', 'approvemax', 'balanceoftoken', 'redeemtoken', 'supplytokento', 'constructor']\n",
      "\n"
     ]
    },
    {
     "name": "stderr",
     "output_type": "stream",
     "text": [
      "Processing vulnerabilities:  30%|███       | 514/1703 [05:04<03:36,  5.50it/s]"
     ]
    },
    {
     "name": "stdout",
     "output_type": "stream",
     "text": [
      "\n",
      "No match found for [] in Web3Bugs/contracts/24/pooltogether-mstable/contracts/yield-source/MStableYieldSource.sol. Available functions: ['deposittoken', 'approvemax', 'balanceoftoken', 'redeemtoken', 'supplytokento', 'constructor']\n",
      "\n"
     ]
    },
    {
     "name": "stderr",
     "output_type": "stream",
     "text": [
      "Processing vulnerabilities:  30%|███       | 516/1703 [05:04<03:44,  5.28it/s]"
     ]
    },
    {
     "name": "stdout",
     "output_type": "stream",
     "text": [
      "\n",
      "No match found for [] in Web3Bugs/contracts/24/swappable-yield-source/contracts/SwappableYieldSource.sol. Available functions: ['_tokentoshares', 'swapyieldsource', '_setyieldsource', 'transferfunds', 'approvemaxamount', '_requireyieldsource', 'redeemtoken', 'supplytokento', '_sharestotoken', 'freeze', 'balanceoftoken', 'transfererc20', 'deposittoken', '_requiredifferentyieldsource', 'setyieldsource', '_transferfunds', '_burnshares', '_mintshares', 'initialize']\n",
      "\n"
     ]
    },
    {
     "name": "stderr",
     "output_type": "stream",
     "text": [
      "Processing vulnerabilities:  30%|███       | 518/1703 [05:07<10:49,  1.83it/s]"
     ]
    },
    {
     "name": "stdout",
     "output_type": "stream",
     "text": [
      "\n",
      "No match found for ['initialize', '_depositfrom', 'createmarket'] in Web3Bugs/contracts/71/contracts/Vault.sol. Available functions: ['_withdrawattribution', 'setcontroller', '_unutilize', 'withdrawvalue', 'transferdebt', 'getpriceperfullshare', 'valueall', 'withdrawattribution', 'transferattribution', 'attributionvalue', 'setkeeper', 'withdrawredundant', 'constructor', 'borrowvalue', 'transfervalue', 'available', 'withdrawallattribution', 'underlyingvalue', 'addvalue', 'attributionall', 'attributionof', 'repaydebt', 'offsetdebt', 'addvaluebatch', 'utilize']\n",
      "\n"
     ]
    },
    {
     "name": "stderr",
     "output_type": "stream",
     "text": [
      "Processing vulnerabilities:  31%|███       | 526/1703 [05:19<25:24,  1.30s/it]"
     ]
    },
    {
     "name": "stdout",
     "output_type": "stream",
     "text": [
      "\n",
      "No match found for [] in Web3Bugs/contracts/71/contracts/PoolTemplate.sol. Available functions: ['withdrawcredit', 'applycover', 'requestwithdraw', 'unlock', 'changemetadata', 'setpaused', 'pendingpremium', '_beforetokentransfer', 'unlockbatch', '_depositfrom', 'deposit', 'utilizationrate', 'insure', 'valueofunderlying', 'constructor', 'redeem', 'allocatecredit', '_sub', 'totalliquidity', 'rate', 'transferinsurance', 'originalliquidity', '_divceil', 'withdraw', 'getpremium', 'worth', 'resume', 'allocatedcredit', 'initialize', 'availablebalance']\n",
      "\n"
     ]
    },
    {
     "name": "stderr",
     "output_type": "stream",
     "text": [
      "Processing vulnerabilities:  31%|███▏      | 536/1703 [05:32<26:13,  1.35s/it]"
     ]
    },
    {
     "name": "stdout",
     "output_type": "stream",
     "text": [
      "\n",
      "No match found for [] in Web3Bugs/contracts/71/contracts/PoolTemplate.sol. Available functions: ['withdrawcredit', 'applycover', 'requestwithdraw', 'unlock', 'changemetadata', 'setpaused', 'pendingpremium', '_beforetokentransfer', 'unlockbatch', '_depositfrom', 'deposit', 'utilizationrate', 'insure', 'valueofunderlying', 'constructor', 'redeem', 'allocatecredit', '_sub', 'totalliquidity', 'rate', 'transferinsurance', 'originalliquidity', '_divceil', 'withdraw', 'getpremium', 'worth', 'resume', 'allocatedcredit', 'initialize', 'availablebalance']\n",
      "\n"
     ]
    },
    {
     "name": "stderr",
     "output_type": "stream",
     "text": [
      "Processing vulnerabilities:  32%|███▏      | 540/1703 [05:35<19:29,  1.01s/it]"
     ]
    },
    {
     "name": "stdout",
     "output_type": "stream",
     "text": [
      "\n",
      "No match found for [] in Web3Bugs/contracts/30/contracts/v3/controllers/Controller.sol. Available functions: ['getbeststrategywithdraw', 'setmaxstrategies', 'incasestrategygetstuck', 'harveststrategy', 'setconverter', 'setcap', 'earn', 'updatebalance', 'investenabled', 'constructor', 'converter', 'reorderstrategies', 'addstrategy', 'getcap', 'skim', 'withdraw', 'incasetokensgetstuck', 'strategies', 'removestrategy', 'withdrawall', 'balanceof', 'setinvestenabled']\n",
      "\n"
     ]
    },
    {
     "name": "stderr",
     "output_type": "stream",
     "text": [
      "Processing vulnerabilities:  32%|███▏      | 541/1703 [05:36<16:49,  1.15it/s]"
     ]
    },
    {
     "name": "stdout",
     "output_type": "stream",
     "text": [
      "\n",
      "No match found for ['sol:getpriceperfullshare', 'sol:earn', 'sol:balanceof', 'sol:available'] in Web3Bugs/contracts/30/contracts/v3/Vault.sol. Available functions: ['swap', 'setmin', '_normalizedecimals', 'withdrawall', 'available', 'getpriceperfullshare', 'earn', 'deposit', 'gettokens', 'depositmultiple', 'setgauge', 'settotaldepositcap', 'balance', 'withdraw', 'balanceofthis', 'withdrawfee', 'constructor']\n",
      "\n"
     ]
    },
    {
     "name": "stderr",
     "output_type": "stream",
     "text": [
      "Processing vulnerabilities:  32%|███▏      | 542/1703 [05:37<21:15,  1.10s/it]"
     ]
    },
    {
     "name": "stdout",
     "output_type": "stream",
     "text": [
      "\n",
      "No match found for ['sol:getpriceperfullshare', 'sol:earn', 'sol:balanceof', 'sol:available'] in Web3Bugs/contracts/30/contracts/v3/controllers/Controller.sol. Available functions: ['getbeststrategywithdraw', 'setmaxstrategies', 'incasestrategygetstuck', 'harveststrategy', 'setconverter', 'setcap', 'earn', 'updatebalance', 'investenabled', 'constructor', 'converter', 'reorderstrategies', 'addstrategy', 'getcap', 'skim', 'withdraw', 'incasetokensgetstuck', 'strategies', 'removestrategy', 'withdrawall', 'balanceof', 'setinvestenabled']\n",
      "\n"
     ]
    },
    {
     "name": "stderr",
     "output_type": "stream",
     "text": [
      "Processing vulnerabilities:  32%|███▏      | 544/1703 [05:38<15:42,  1.23it/s]"
     ]
    },
    {
     "name": "stdout",
     "output_type": "stream",
     "text": [
      "\n",
      "No match found for ['removetoken'] in Web3Bugs/contracts/30/contracts/v3/Vault.sol. Available functions: ['swap', 'setmin', '_normalizedecimals', 'withdrawall', 'available', 'getpriceperfullshare', 'earn', 'deposit', 'gettokens', 'depositmultiple', 'setgauge', 'settotaldepositcap', 'balance', 'withdraw', 'balanceofthis', 'withdrawfee', 'constructor']\n",
      "\n"
     ]
    },
    {
     "name": "stderr",
     "output_type": "stream",
     "text": [
      "Processing vulnerabilities:  32%|███▏      | 545/1703 [05:41<23:01,  1.19s/it]"
     ]
    },
    {
     "name": "stdout",
     "output_type": "stream",
     "text": [
      "\n",
      "No match found for ['removetoken'] in Web3Bugs/contracts/30/contracts/v3/controllers/Controller.sol. Available functions: ['getbeststrategywithdraw', 'setmaxstrategies', 'incasestrategygetstuck', 'harveststrategy', 'setconverter', 'setcap', 'earn', 'updatebalance', 'investenabled', 'constructor', 'converter', 'reorderstrategies', 'addstrategy', 'getcap', 'skim', 'withdraw', 'incasetokensgetstuck', 'strategies', 'removestrategy', 'withdrawall', 'balanceof', 'setinvestenabled']\n",
      "\n"
     ]
    },
    {
     "name": "stderr",
     "output_type": "stream",
     "text": [
      "Processing vulnerabilities:  32%|███▏      | 550/1703 [05:44<11:33,  1.66it/s]"
     ]
    },
    {
     "name": "stdout",
     "output_type": "stream",
     "text": [
      "\n",
      "No match found for ['withdrawall'] in Web3Bugs/contracts/30/contracts/v3/Manager.sol. Available functions: ['setharvester', 'settreasuryfee', 'setcontroller', 'setinsurancefee', 'addtoken', 'removetoken', 'setinsurancepoolfee', 'setallowedvault', 'constructor', 'setallowedstrategy', 'setstrategist', 'sethalted', 'acceptstrategist', 'setallowedconverter', 'setallowedcontroller', 'gettokens', 'setgovernance', 'setstakingpoolsharefee', 'setinsurancepool', 'setwithdrawalprotectionfee', 'setstakingpool', 'settreasury', 'setallowedtoken', 'recovertoken', 'getharvestfeeinfo']\n",
      "\n"
     ]
    },
    {
     "name": "stderr",
     "output_type": "stream",
     "text": [
      "Processing vulnerabilities:  33%|███▎      | 558/1703 [05:49<09:38,  1.98it/s]"
     ]
    },
    {
     "name": "stdout",
     "output_type": "stream",
     "text": [
      "\n",
      "No match found for ['removestrategy', 'addstrategy'] in Web3Bugs/contracts/30/contracts/v3/Manager.sol. Available functions: ['setharvester', 'settreasuryfee', 'setcontroller', 'setinsurancefee', 'addtoken', 'removetoken', 'setinsurancepoolfee', 'setallowedvault', 'constructor', 'setallowedstrategy', 'setstrategist', 'sethalted', 'acceptstrategist', 'setallowedconverter', 'setallowedcontroller', 'gettokens', 'setgovernance', 'setstakingpoolsharefee', 'setinsurancepool', 'setwithdrawalprotectionfee', 'setstakingpool', 'settreasury', 'setallowedtoken', 'recovertoken', 'getharvestfeeinfo']\n",
      "\n"
     ]
    },
    {
     "name": "stderr",
     "output_type": "stream",
     "text": [
      "Processing vulnerabilities:  33%|███▎      | 561/1703 [05:52<14:48,  1.29it/s]"
     ]
    },
    {
     "name": "stdout",
     "output_type": "stream",
     "text": [
      "Parsing error in Web3Bugs/contracts/97/contracts/hyphen/LiquidityPool.sol: unrecognized expression\n"
     ]
    },
    {
     "name": "stderr",
     "output_type": "stream",
     "text": [
      "Processing vulnerabilities:  33%|███▎      | 562/1703 [05:52<15:10,  1.25it/s]"
     ]
    },
    {
     "name": "stdout",
     "output_type": "stream",
     "text": [
      "Parsing error in Web3Bugs/contracts/97/contracts/hyphen/LiquidityProviders.sol: unrecognized expression\n"
     ]
    },
    {
     "name": "stderr",
     "output_type": "stream",
     "text": [
      "Processing vulnerabilities:  33%|███▎      | 563/1703 [05:53<16:10,  1.17it/s]"
     ]
    },
    {
     "name": "stdout",
     "output_type": "stream",
     "text": [
      "Parsing error in Web3Bugs/contracts/97/contracts/hyphen/LiquidityPool.sol: unrecognized expression\n"
     ]
    },
    {
     "name": "stderr",
     "output_type": "stream",
     "text": [
      "Processing vulnerabilities:  33%|███▎      | 564/1703 [05:54<15:55,  1.19it/s]"
     ]
    },
    {
     "name": "stdout",
     "output_type": "stream",
     "text": [
      "Parsing error in Web3Bugs/contracts/97/contracts/hyphen/LiquidityFarming.sol: unrecognized expression\n",
      "Parsing error in Web3Bugs/contracts/97/contracts/hyphen/LiquidityFarming.sol: unrecognized expression\n"
     ]
    },
    {
     "name": "stderr",
     "output_type": "stream",
     "text": [
      "Processing vulnerabilities:  33%|███▎      | 565/1703 [05:56<21:51,  1.15s/it]"
     ]
    },
    {
     "name": "stdout",
     "output_type": "stream",
     "text": [
      "Parsing error in Web3Bugs/contracts/97/contracts/hyphen/LiquidityProviders.sol: unrecognized expression\n"
     ]
    },
    {
     "name": "stderr",
     "output_type": "stream",
     "text": [
      "Processing vulnerabilities:  33%|███▎      | 566/1703 [05:57<20:22,  1.08s/it]"
     ]
    },
    {
     "name": "stdout",
     "output_type": "stream",
     "text": [
      "Parsing error in Web3Bugs/contracts/97/contracts/hyphen/LiquidityProviders.sol: unrecognized expression\n"
     ]
    },
    {
     "name": "stderr",
     "output_type": "stream",
     "text": [
      "Processing vulnerabilities:  33%|███▎      | 568/1703 [05:57<12:37,  1.50it/s]"
     ]
    },
    {
     "name": "stdout",
     "output_type": "stream",
     "text": [
      "\n",
      "No match found for [] in Web3Bugs/contracts/97/contracts/hyphen/token/TokenManager.sol. Available functions: ['addsupportedtoken', '_msgdata', 'settokentransferoverhead', 'gettransferconfig', 'getequilibriumfee', 'gettokensinfo', '_msgsender', 'setdepositconfig', 'removesupportedtoken', 'getdepositconfig', 'getmaxfee', 'changefee', 'constructor', 'updatetokencap']\n",
      "\n"
     ]
    },
    {
     "name": "stderr",
     "output_type": "stream",
     "text": [
      "Processing vulnerabilities:  33%|███▎      | 569/1703 [05:58<13:15,  1.43it/s]"
     ]
    },
    {
     "name": "stdout",
     "output_type": "stream",
     "text": [
      "Parsing error in Web3Bugs/contracts/97/contracts/hyphen/LiquidityFarming.sol: unrecognized expression\n"
     ]
    },
    {
     "name": "stderr",
     "output_type": "stream",
     "text": [
      "Processing vulnerabilities:  34%|███▎      | 571/1703 [06:00<13:46,  1.37it/s]"
     ]
    },
    {
     "name": "stdout",
     "output_type": "stream",
     "text": [
      "Parsing error in Web3Bugs/contracts/97/contracts/hyphen/LiquidityPool.sol: unrecognized expression\n"
     ]
    },
    {
     "name": "stderr",
     "output_type": "stream",
     "text": [
      "Processing vulnerabilities:  34%|███▎      | 572/1703 [06:01<15:45,  1.20it/s]"
     ]
    },
    {
     "name": "stdout",
     "output_type": "stream",
     "text": [
      "Parsing error in Web3Bugs/contracts/97/contracts/hyphen/LiquidityPool.sol: unrecognized expression\n"
     ]
    },
    {
     "name": "stderr",
     "output_type": "stream",
     "text": [
      "Processing vulnerabilities:  34%|███▎      | 573/1703 [06:02<18:01,  1.04it/s]"
     ]
    },
    {
     "name": "stdout",
     "output_type": "stream",
     "text": [
      "Parsing error in Web3Bugs/contracts/97/contracts/hyphen/LiquidityPool.sol: unrecognized expression\n"
     ]
    },
    {
     "name": "stderr",
     "output_type": "stream",
     "text": [
      "Processing vulnerabilities:  34%|███▎      | 574/1703 [06:03<17:26,  1.08it/s]"
     ]
    },
    {
     "name": "stdout",
     "output_type": "stream",
     "text": [
      "Parsing error in Web3Bugs/contracts/97/contracts/hyphen/LiquidityProviders.sol: unrecognized expression\n"
     ]
    },
    {
     "name": "stderr",
     "output_type": "stream",
     "text": [
      "Processing vulnerabilities:  34%|███▍      | 575/1703 [06:04<17:07,  1.10it/s]"
     ]
    },
    {
     "name": "stdout",
     "output_type": "stream",
     "text": [
      "Parsing error in Web3Bugs/contracts/97/contracts/hyphen/LiquidityProviders.sol: unrecognized expression\n"
     ]
    },
    {
     "name": "stderr",
     "output_type": "stream",
     "text": [
      "Processing vulnerabilities:  34%|███▍      | 576/1703 [06:05<17:37,  1.07it/s]"
     ]
    },
    {
     "name": "stdout",
     "output_type": "stream",
     "text": [
      "Parsing error in Web3Bugs/contracts/97/contracts/hyphen/LiquidityPool.sol: unrecognized expression\n"
     ]
    },
    {
     "name": "stderr",
     "output_type": "stream",
     "text": [
      "Processing vulnerabilities:  34%|███▍      | 577/1703 [06:06<17:23,  1.08it/s]"
     ]
    },
    {
     "name": "stdout",
     "output_type": "stream",
     "text": [
      "Parsing error in Web3Bugs/contracts/97/contracts/hyphen/LiquidityFarming.sol: unrecognized expression\n"
     ]
    },
    {
     "name": "stderr",
     "output_type": "stream",
     "text": [
      "Processing vulnerabilities:  34%|███▍      | 580/1703 [06:07<13:41,  1.37it/s]"
     ]
    },
    {
     "name": "stdout",
     "output_type": "stream",
     "text": [
      "Parsing error in Web3Bugs/contracts/97/contracts/hyphen/LiquidityProviders.sol: unrecognized expression\n"
     ]
    },
    {
     "name": "stderr",
     "output_type": "stream",
     "text": [
      "Processing vulnerabilities:  34%|███▍      | 581/1703 [06:08<15:14,  1.23it/s]"
     ]
    },
    {
     "name": "stdout",
     "output_type": "stream",
     "text": [
      "Parsing error in Web3Bugs/contracts/97/contracts/hyphen/LiquidityPool.sol: unrecognized expression\n"
     ]
    },
    {
     "name": "stderr",
     "output_type": "stream",
     "text": [
      "Processing vulnerabilities:  34%|███▍      | 582/1703 [06:09<15:26,  1.21it/s]"
     ]
    },
    {
     "name": "stdout",
     "output_type": "stream",
     "text": [
      "Parsing error in Web3Bugs/contracts/97/contracts/hyphen/LiquidityProviders.sol: unrecognized expression\n"
     ]
    },
    {
     "name": "stderr",
     "output_type": "stream",
     "text": [
      "Processing vulnerabilities:  34%|███▍      | 584/1703 [06:10<11:36,  1.61it/s]"
     ]
    },
    {
     "name": "stdout",
     "output_type": "stream",
     "text": [
      "Parsing error in Web3Bugs/contracts/97/contracts/hyphen/LiquidityProviders.sol: unrecognized expression\n"
     ]
    },
    {
     "name": "stderr",
     "output_type": "stream",
     "text": [
      "Processing vulnerabilities:  34%|███▍      | 585/1703 [06:10<09:15,  2.01it/s]"
     ]
    },
    {
     "name": "stdout",
     "output_type": "stream",
     "text": [
      "Parsing error in Web3Bugs/contracts/103/src/Libraries/LibSwap.sol: unrecognized expression\n"
     ]
    },
    {
     "name": "stderr",
     "output_type": "stream",
     "text": [
      "Processing vulnerabilities:  34%|███▍      | 587/1703 [06:11<07:22,  2.52it/s]"
     ]
    },
    {
     "name": "stdout",
     "output_type": "stream",
     "text": [
      "Parsing error in Web3Bugs/contracts/103/src/Facets/AnyswapFacet.sol: unrecognized expression\n",
      "Parsing error in Web3Bugs/contracts/103/src/Libraries/LibSwap.sol: unrecognized expression\n"
     ]
    },
    {
     "name": "stderr",
     "output_type": "stream",
     "text": [
      "Processing vulnerabilities:  35%|███▍      | 589/1703 [06:11<04:54,  3.78it/s]"
     ]
    },
    {
     "name": "stdout",
     "output_type": "stream",
     "text": [
      "Parsing error in Web3Bugs/contracts/103/src/Libraries/LibSwap.sol: unrecognized expression\n",
      "Parsing error in Web3Bugs/contracts/103/src/Libraries/LibSwap.sol: unrecognized expression\n"
     ]
    },
    {
     "name": "stderr",
     "output_type": "stream",
     "text": [
      "Processing vulnerabilities:  35%|███▍      | 590/1703 [06:12<05:11,  3.57it/s]"
     ]
    },
    {
     "name": "stdout",
     "output_type": "stream",
     "text": [
      "Parsing error in Web3Bugs/contracts/103/src/Facets/CBridgeFacet.sol: 'NoneType' object has no attribute 'identifier'\n"
     ]
    },
    {
     "name": "stderr",
     "output_type": "stream",
     "text": [
      "Processing vulnerabilities:  35%|███▍      | 591/1703 [06:12<04:46,  3.88it/s]"
     ]
    },
    {
     "name": "stdout",
     "output_type": "stream",
     "text": [
      "\n",
      "No match found for [] in Web3Bugs/contracts/103/src/Facets/DexManagerFacet.sol. Available functions: ['approveddexs', '_removedex', 'batchremovedex', 'adddex', 'removedex', 'batchadddex']\n",
      "\n",
      "Parsing error in Web3Bugs/contracts/103/src/Facets/NXTPFacet.sol: unrecognized expression\n",
      "Parsing error in Web3Bugs/contracts/103/src/Facets/AnyswapFacet.sol: unrecognized expression\n",
      "Parsing error in Web3Bugs/contracts/103/src/Facets/HopFacet.sol: unrecognized expression\n"
     ]
    },
    {
     "name": "stderr",
     "output_type": "stream",
     "text": [
      "Processing vulnerabilities:  35%|███▍      | 592/1703 [06:13<11:10,  1.66it/s]"
     ]
    },
    {
     "name": "stdout",
     "output_type": "stream",
     "text": [
      "Parsing error in Web3Bugs/contracts/103/src/Facets/CBridgeFacet.sol: 'NoneType' object has no attribute 'identifier'\n",
      "\n",
      "No match found for ['swapandstartbridgetokensviacbridge', 'swaptokensgeneric', 'swapandstartbridgetokensvianxtp', 'swapandstartbridgetokensviaanyswap', 'swapandcompletebridgetokensvianxtp', 'swapandstartbridgetokensviahop'] in Web3Bugs/contracts/103/src/Facets/DiamondCutFacet.sol. Available functions: ['diamondcut']\n",
      "\n",
      "Parsing error in Web3Bugs/contracts/103/src/Facets/AnyswapFacet.sol: unrecognized expression\n",
      "Parsing error in Web3Bugs/contracts/103/src/Facets/NXTPFacet.sol: unrecognized expression\n"
     ]
    },
    {
     "name": "stderr",
     "output_type": "stream",
     "text": [
      "Processing vulnerabilities:  35%|███▍      | 593/1703 [06:14<13:30,  1.37it/s]"
     ]
    },
    {
     "name": "stdout",
     "output_type": "stream",
     "text": [
      "Parsing error in Web3Bugs/contracts/103/src/Facets/CBridgeFacet.sol: 'NoneType' object has no attribute 'identifier'\n"
     ]
    },
    {
     "name": "stderr",
     "output_type": "stream",
     "text": [
      "Processing vulnerabilities:  35%|███▍      | 594/1703 [06:15<11:13,  1.65it/s]"
     ]
    },
    {
     "name": "stdout",
     "output_type": "stream",
     "text": [
      "Parsing error in Web3Bugs/contracts/103/src/Facets/CBridgeFacet.sol: 'NoneType' object has no attribute 'identifier'\n"
     ]
    },
    {
     "name": "stderr",
     "output_type": "stream",
     "text": [
      "Processing vulnerabilities:  35%|███▍      | 595/1703 [06:15<10:25,  1.77it/s]"
     ]
    },
    {
     "name": "stdout",
     "output_type": "stream",
     "text": [
      "Parsing error in Web3Bugs/contracts/103/src/Facets/AnyswapFacet.sol: unrecognized expression\n",
      "Parsing error in Web3Bugs/contracts/103/src/Libraries/LibAsset.sol: unrecognized expression\n"
     ]
    },
    {
     "name": "stderr",
     "output_type": "stream",
     "text": [
      "Processing vulnerabilities:  35%|███▍      | 596/1703 [06:15<08:01,  2.30it/s]"
     ]
    },
    {
     "name": "stdout",
     "output_type": "stream",
     "text": [
      "Parsing error in Web3Bugs/contracts/103/src/Libraries/LibSwap.sol: unrecognized expression\n",
      "\n",
      "No match found for ['contractowner'] in Web3Bugs/contracts/103/src/Facets/DiamondCutFacet.sol. Available functions: ['diamondcut']\n",
      "\n",
      "\n",
      "No match found for ['contractowner'] in Web3Bugs/contracts/103/src/Facets/DexManagerFacet.sol. Available functions: ['approveddexs', '_removedex', 'batchremovedex', 'adddex', 'removedex', 'batchadddex']\n",
      "\n"
     ]
    },
    {
     "name": "stderr",
     "output_type": "stream",
     "text": [
      "Processing vulnerabilities:  35%|███▌      | 597/1703 [06:15<07:00,  2.63it/s]"
     ]
    },
    {
     "name": "stdout",
     "output_type": "stream",
     "text": [
      "\n",
      "No match found for ['contractowner'] in Web3Bugs/contracts/103/src/Facets/WithdrawFacet.sol. Available functions: ['withdraw']\n",
      "\n"
     ]
    },
    {
     "name": "stderr",
     "output_type": "stream",
     "text": [
      "Processing vulnerabilities:  35%|███▌      | 600/1703 [06:16<05:39,  3.25it/s]"
     ]
    },
    {
     "name": "stdout",
     "output_type": "stream",
     "text": [
      "\n",
      "No match found for [] in Web3Bugs/contracts/123/convex-platform/contracts/contracts/BaseRewardPool4626.sol. Available functions: ['previewmint', 'transfer', 'converttoassets', 'decimals', '_approve', 'maxmint', 'deposit', 'symbol', 'constructor', 'redeem', 'totalsupply', 'allowance', 'approve', 'maxdeposit', 'transferfrom', 'totalassets', 'previewredeem', 'withdraw', 'mint', 'maxredeem', 'previewdeposit', 'name', 'previewwithdraw', 'balanceof', 'converttoshares', 'maxwithdraw']\n",
      "\n"
     ]
    },
    {
     "name": "stderr",
     "output_type": "stream",
     "text": [
      "Processing vulnerabilities:  35%|███▌      | 601/1703 [06:16<05:15,  3.49it/s]"
     ]
    },
    {
     "name": "stdout",
     "output_type": "stream",
     "text": [
      "\n",
      "No match found for [] in Web3Bugs/contracts/123/contracts/CrvDepositorWrapper.sol. Available functions: ['_getminout', '_setapprovals', 'deposit', 'getminout', 'setapprovals', '_getbptprice', '_investbaltopool', 'depositfor', 'constructor']\n",
      "\n"
     ]
    },
    {
     "name": "stderr",
     "output_type": "stream",
     "text": [
      "Processing vulnerabilities:  36%|███▌      | 615/1703 [06:33<13:42,  1.32it/s]"
     ]
    },
    {
     "name": "stdout",
     "output_type": "stream",
     "text": [
      "\n",
      "No match found for [] in Web3Bugs/contracts/123/contracts/BalLiquidityProvider.sol. Available functions: ['provideliquidity', 'changeminpairamount', 'constructor', 'rescuetoken']\n",
      "\n"
     ]
    },
    {
     "name": "stderr",
     "output_type": "stream",
     "text": [
      "Processing vulnerabilities:  36%|███▋      | 621/1703 [06:38<13:15,  1.36it/s]"
     ]
    },
    {
     "name": "stdout",
     "output_type": "stream",
     "text": [
      "Parsing error in Web3Bugs/contracts/72/openleverage-contracts/contracts/OpenLevV1Lib.sol: unrecognized expression\n"
     ]
    },
    {
     "name": "stderr",
     "output_type": "stream",
     "text": [
      "Processing vulnerabilities:  37%|███▋      | 622/1703 [06:44<41:11,  2.29s/it]"
     ]
    },
    {
     "name": "stdout",
     "output_type": "stream",
     "text": [
      "Parsing error in Web3Bugs/contracts/72/openleverage-contracts/contracts/liquidity/LPool.sol: unrecognized expression\n"
     ]
    },
    {
     "name": "stderr",
     "output_type": "stream",
     "text": [
      "Processing vulnerabilities:  37%|███▋      | 624/1703 [06:47<34:51,  1.94s/it]"
     ]
    },
    {
     "name": "stdout",
     "output_type": "stream",
     "text": [
      "Parsing error in Web3Bugs/contracts/72/openleverage-contracts/contracts/liquidity/LPool.sol: unrecognized expression\n",
      "Parsing error in Web3Bugs/contracts/72/openleverage-contracts/contracts/gov/Timelock.sol: unrecognized expression\n"
     ]
    },
    {
     "name": "stderr",
     "output_type": "stream",
     "text": [
      "Processing vulnerabilities:  37%|███▋      | 625/1703 [06:49<31:03,  1.73s/it]"
     ]
    },
    {
     "name": "stdout",
     "output_type": "stream",
     "text": [
      "Parsing error in Web3Bugs/contracts/72/openleverage-contracts/contracts/gov/GovernorAlpha.sol: unrecognized expression\n",
      "\n",
      "No match found for ['closetrade', 'sell'] in Web3Bugs/contracts/72/openleverage-contracts/contracts/dex/eth/UniV3Dex.sol. Available functions: ['increasev3observation', 'univ3getprice', 'univ3buy', 'calcavgprice', 'calcavgprices', 'initializeuniv3', 'univ3getavgprice', 'univ3sellmul', 'univ3getpricecavgpricehavgprice', 'getpricebysqrtpricex96', 'uniswapv3swapcallback', 'ispoolobservationsenough', 'univ3sell', 'getsqrtpricelimitx96', 'getpool']\n",
      "\n"
     ]
    },
    {
     "name": "stderr",
     "output_type": "stream",
     "text": [
      "Processing vulnerabilities:  37%|███▋      | 627/1703 [06:53<35:09,  1.96s/it]line 1:0 mismatched input '{' expecting {<EOF>, 'pragma', 'import', 'from', 'abstract', 'contract', 'interface', 'library', 'error', 'struct', 'function', 'enum', 'address', 'mapping', 'calldata', 'revert', 'var', 'bool', 'string', 'byte', 'callback', Int, Uint, Byte, Fixed, Ufixed, 'leave', 'payable', 'type', 'constructor', 'fallback', 'receive', Identifier}\n",
      "Processing vulnerabilities:  37%|███▋      | 629/1703 [06:54<19:25,  1.09s/it]"
     ]
    },
    {
     "name": "stdout",
     "output_type": "stream",
     "text": [
      "Parsing error in Web3Bugs/contracts/72/openleverage-contracts/contracts/OpenLevV1Lib.sol: unrecognized expression\n",
      "\n",
      "No match found for ['initializer'] in Web3Bugs/contracts/89/package.json. Available functions: []\n",
      "\n"
     ]
    },
    {
     "name": "stderr",
     "output_type": "stream",
     "text": [
      "Processing vulnerabilities:  37%|███▋      | 632/1703 [06:56<14:21,  1.24it/s]"
     ]
    },
    {
     "name": "stdout",
     "output_type": "stream",
     "text": [
      "\n",
      "No match found for [] in Web3Bugs/contracts/89/contracts/VUSD.sol. Available functions: ['init', 'setmaxwithdrawalprocesses', 'processwithdrawals', 'mintwithreserve', 'withdraw', 'decimals', 'constructor']\n",
      "\n"
     ]
    },
    {
     "name": "stderr",
     "output_type": "stream",
     "text": [
      "Processing vulnerabilities:  38%|███▊      | 642/1703 [07:06<19:13,  1.09s/it]"
     ]
    },
    {
     "name": "stdout",
     "output_type": "stream",
     "text": [
      "\n",
      "No match found for [] in Web3Bugs/contracts/89/contracts/MarginAccount.sol. Available functions: ['syncdeps', 'transferoutvusd', '_transferoutvusd', 'getspotcollateralvalue', 'addmargin', '_scaledecimals', 'changecollateralweight', 'isliquidatable', '_addcollateral', 'removemargin', 'liquidateflexible', 'getnormalizedmargin', 'weightedandspotcollateral', '_liquidateflexible', '_liquidateexactseize', '_liquidateexactrepay', 'constructor', '_executeliquidation', '_transferinvusd', 'realizepnl', 'settlebaddebt', '_min', '_seizetorepay', 'liquidateexactseize', 'whitelistcollateral', 'addmarginfor', 'supportedassets', 'liquidateexactrepay', 'initialize', 'supportedassetslen', '_getliquidationinfo']\n",
      "\n"
     ]
    },
    {
     "name": "stderr",
     "output_type": "stream",
     "text": [
      "Processing vulnerabilities:  38%|███▊      | 645/1703 [07:07<08:58,  1.96it/s]"
     ]
    },
    {
     "name": "stdout",
     "output_type": "stream",
     "text": [
      "\n",
      "No match found for [] in Web3Bugs/contracts/89/contracts/VUSD.sol. Available functions: ['init', 'setmaxwithdrawalprocesses', 'processwithdrawals', 'mintwithreserve', 'withdraw', 'decimals', 'constructor']\n",
      "\n",
      "\n",
      "No match found for [] in Web3Bugs/contracts/89/contracts/AMM.sol. Available functions: ['syncdeps', 'getclosequote', 'getpendingfundingpayment', 'setfundingbufferperiod', 'getsnapshotlen', '_getpnltoberealized', '_short', 'getopennotionalwhilereducingposition', 'getnotionalpositionandunrealizedpnl', 'lastprice', 'setammstate', '_long', 'liquidateposition', '_emitpositionchanged', 'removeliquidity', 'addliquidity', '_blocktimestamp', 'updateposition', 'settlefunding', '_reduceposition', 'abs', 'openposition', '_getpnlwhilereducingposition', '_increaseposition', 'gettakernotionalpositionandunrealizedpnl', 'getunderlyingtwapprice', '_addreservesnapshot', '_openreverseposition', '_calctwap', 'openinterestnotional', 'gettwapprice', 'initialize', '_updatefundingrate']\n",
      "\n"
     ]
    },
    {
     "name": "stderr",
     "output_type": "stream",
     "text": [
      "Processing vulnerabilities:  38%|███▊      | 646/1703 [07:09<15:30,  1.14it/s]"
     ]
    },
    {
     "name": "stdout",
     "output_type": "stream",
     "text": [
      "\n",
      "No match found for [] in Web3Bugs/contracts/89/contracts/Oracle.sol. Available functions: ['getunderlyingtwapprice', 'requirenonemptyaddress', '_blocktimestamp', 'setaggregator', 'getlatestrounddata', 'getrounddata', 'formatprice', 'initialize', 'requireenoughhistory', 'setstableprice', 'getunderlyingprice']\n",
      "\n"
     ]
    },
    {
     "name": "stderr",
     "output_type": "stream",
     "text": [
      "Processing vulnerabilities:  38%|███▊      | 647/1703 [07:09<13:13,  1.33it/s]"
     ]
    },
    {
     "name": "stdout",
     "output_type": "stream",
     "text": [
      "Parsing error in Web3Bugs/contracts/38/contracts/Identity.sol: unrecognized expression\n"
     ]
    },
    {
     "name": "stderr",
     "output_type": "stream",
     "text": [
      "Processing vulnerabilities:  38%|███▊      | 650/1703 [07:11<13:33,  1.29it/s]"
     ]
    },
    {
     "name": "stdout",
     "output_type": "stream",
     "text": [
      "Parsing error in Web3Bugs/contracts/38/contracts/Identity.sol: unrecognized expression\n"
     ]
    },
    {
     "name": "stderr",
     "output_type": "stream",
     "text": [
      "Processing vulnerabilities:  38%|███▊      | 652/1703 [07:14<18:36,  1.06s/it]"
     ]
    },
    {
     "name": "stdout",
     "output_type": "stream",
     "text": [
      "Parsing error in Web3Bugs/contracts/112/backd/contracts/actions/topup/TopUpAction.sol: unrecognized expression\n",
      "Parsing error in Web3Bugs/contracts/112/backd/contracts/actions/topup/handlers/AaveHandler.sol: unrecognized expression\n",
      "Parsing error in Web3Bugs/contracts/112/backd/contracts/actions/topup/TopUpAction.sol: unrecognized expression\n"
     ]
    },
    {
     "name": "stderr",
     "output_type": "stream",
     "text": [
      "Processing vulnerabilities:  38%|███▊      | 653/1703 [07:16<24:13,  1.38s/it]"
     ]
    },
    {
     "name": "stdout",
     "output_type": "stream",
     "text": [
      "Parsing error in Web3Bugs/contracts/112/backd/contracts/actions/topup/handlers/CompoundHandler.sol: unrecognized expression\n",
      "\n",
      "No match found for ['transfer'] in Web3Bugs/contracts/112/backd/contracts/pool/EthPool.sol. Available functions: ['_dotransferin', 'getunderlying', 'receive', 'initialize', '_dotransferout', 'constructor', '_getbalanceunderlying']\n",
      "\n",
      "Parsing error in Web3Bugs/contracts/112/backd/contracts/strategies/BkdEthCvx.sol: unrecognized expression\n",
      "\n",
      "No match found for ['transfer'] in Web3Bugs/contracts/112/backd/contracts/vault/VaultReserve.sol. Available functions: ['deposit', 'canwithdraw', 'withdraw', 'getbalance', 'constructor']\n",
      "\n"
     ]
    },
    {
     "name": "stderr",
     "output_type": "stream",
     "text": [
      "Processing vulnerabilities:  38%|███▊      | 654/1703 [07:17<19:42,  1.13s/it]"
     ]
    },
    {
     "name": "stdout",
     "output_type": "stream",
     "text": [
      "Parsing error in Web3Bugs/contracts/112/backd/contracts/vault/EthVault.sol: unrecognized expression\n"
     ]
    },
    {
     "name": "stderr",
     "output_type": "stream",
     "text": [
      "Processing vulnerabilities:  39%|███▊      | 656/1703 [07:20<26:50,  1.54s/it]"
     ]
    },
    {
     "name": "stdout",
     "output_type": "stream",
     "text": [
      "Parsing error in Web3Bugs/contracts/112/backd/contracts/actions/topup/TopUpAction.sol: unrecognized expression\n"
     ]
    },
    {
     "name": "stderr",
     "output_type": "stream",
     "text": [
      "Processing vulnerabilities:  39%|███▊      | 658/1703 [07:20<15:15,  1.14it/s]"
     ]
    },
    {
     "name": "stdout",
     "output_type": "stream",
     "text": [
      "\n",
      "No match found for [] in Web3Bugs/contracts/112/backd/contracts/CvxCrvRewardsLocker.sol. Available functions: ['cleardelegate', 'withdrawcvxcrv', 'claimrewards', 'setspendratio', 'setwithdrawalflag', 'lockcrv', 'resetwithdrawalflag', '_lockcvx', '_stakecvxcrv', 'constructor', 'processexpiredlocks', '_unstakecvxcrv', 'withdraw', 'forfeitrewards', 'setdelegate', '_lockcrv', 'settreasury', 'lockcvx', 'stakecvxcrv', 'unstakecvxcrv', 'lockrewards']\n",
      "\n"
     ]
    },
    {
     "name": "stderr",
     "output_type": "stream",
     "text": [
      "Processing vulnerabilities:  39%|███▉      | 660/1703 [07:22<14:32,  1.20it/s]"
     ]
    },
    {
     "name": "stdout",
     "output_type": "stream",
     "text": [
      "Parsing error in Web3Bugs/contracts/112/backd/contracts/strategies/StrategySwapper.sol: unrecognized expression\n"
     ]
    },
    {
     "name": "stderr",
     "output_type": "stream",
     "text": [
      "Processing vulnerabilities:  39%|███▉      | 661/1703 [07:23<12:56,  1.34it/s]"
     ]
    },
    {
     "name": "stdout",
     "output_type": "stream",
     "text": [
      "Parsing error in Web3Bugs/contracts/112/backd/contracts/strategies/StrategySwapper.sol: unrecognized expression\n"
     ]
    },
    {
     "name": "stderr",
     "output_type": "stream",
     "text": [
      "Processing vulnerabilities:  39%|███▉      | 664/1703 [07:27<20:27,  1.18s/it]"
     ]
    },
    {
     "name": "stdout",
     "output_type": "stream",
     "text": [
      "Parsing error in Web3Bugs/contracts/112/backd/contracts/actions/topup/TopUpAction.sol: unrecognized expression\n"
     ]
    },
    {
     "name": "stderr",
     "output_type": "stream",
     "text": [
      "Processing vulnerabilities:  39%|███▉      | 665/1703 [07:27<16:49,  1.03it/s]"
     ]
    },
    {
     "name": "stdout",
     "output_type": "stream",
     "text": [
      "Parsing error in Web3Bugs/contracts/112/backd/contracts/actions/topup/handlers/CompoundHandler.sol: unrecognized expression\n"
     ]
    },
    {
     "name": "stderr",
     "output_type": "stream",
     "text": [
      "Processing vulnerabilities:  39%|███▉      | 666/1703 [07:29<20:28,  1.18s/it]"
     ]
    },
    {
     "name": "stdout",
     "output_type": "stream",
     "text": [
      "Parsing error in Web3Bugs/contracts/112/backd/contracts/actions/topup/TopUpAction.sol: unrecognized expression\n"
     ]
    },
    {
     "name": "stderr",
     "output_type": "stream",
     "text": [
      "Processing vulnerabilities:  39%|███▉      | 668/1703 [07:31<17:18,  1.00s/it]"
     ]
    },
    {
     "name": "stdout",
     "output_type": "stream",
     "text": [
      "\n",
      "No match found for ['_lock', '_generatenewtokenid', 'merge'] in Web3Bugs/contracts/75/xdefi-distribution/contracts/mocks/XDEFI.sol. Available functions: ['constructor']\n",
      "\n",
      "\n",
      "No match found for ['getcollateral', 'borrow'] in Web3Bugs/contracts/74/Timeswap/Timeswap-V1-Convenience/contracts/libraries/BorrowMath.sol. Available functions: ['givenpercent', 'givendebt', 'givencollateral']\n",
      "\n"
     ]
    },
    {
     "name": "stderr",
     "output_type": "stream",
     "text": [
      "Processing vulnerabilities:  39%|███▉      | 671/1703 [07:33<14:43,  1.17it/s]"
     ]
    },
    {
     "name": "stdout",
     "output_type": "stream",
     "text": [
      "\n",
      "No match found for [] in Web3Bugs/contracts/74/Timeswap/Timeswap-V1-Convenience/contracts/libraries/BorrowMath.sol. Available functions: ['givenpercent', 'givendebt', 'givencollateral']\n",
      "\n"
     ]
    },
    {
     "name": "stderr",
     "output_type": "stream",
     "text": [
      "Processing vulnerabilities:  40%|███▉      | 677/1703 [07:39<14:53,  1.15it/s]"
     ]
    },
    {
     "name": "stdout",
     "output_type": "stream",
     "text": [
      "\n",
      "No match found for ['safedecimals'] in Web3Bugs/contracts/74/Timeswap/Timeswap-V1-Convenience/contracts/CollateralizedDebt.sol. Available functions: ['burn', 'timeswappaycallback', 'assetdecimals', 'collateraldecimals', 'name', 'dueof', 'symbol', 'mint', 'tokenuri', 'constructor']\n",
      "\n",
      "\n",
      "No match found for ['safedecimals'] in Web3Bugs/contracts/74/Timeswap/Timeswap-V1-Convenience/contracts/Insurance.sol. Available functions: ['totalsupply', 'burn', 'name', 'symbol', 'mint', 'decimals', 'constructor']\n",
      "\n"
     ]
    },
    {
     "name": "stderr",
     "output_type": "stream",
     "text": [
      "Processing vulnerabilities:  40%|███▉      | 678/1703 [07:40<12:35,  1.36it/s]"
     ]
    },
    {
     "name": "stdout",
     "output_type": "stream",
     "text": [
      "\n",
      "No match found for ['safedecimals'] in Web3Bugs/contracts/74/Timeswap/Timeswap-V1-Convenience/contracts/Bond.sol. Available functions: ['totalsupply', 'burn', 'name', 'symbol', 'mint', 'decimals', 'constructor']\n",
      "\n"
     ]
    },
    {
     "name": "stderr",
     "output_type": "stream",
     "text": [
      "Processing vulnerabilities:  40%|███▉      | 681/1703 [07:42<13:23,  1.27it/s]"
     ]
    },
    {
     "name": "stdout",
     "output_type": "stream",
     "text": [
      "\n",
      "No match found for ['mint'] in Web3Bugs/contracts/74/Timeswap/Timeswap-V1-Convenience/contracts/libraries/BorrowMath.sol. Available functions: ['givenpercent', 'givendebt', 'givencollateral']\n",
      "\n"
     ]
    },
    {
     "name": "stderr",
     "output_type": "stream",
     "text": [
      "Processing vulnerabilities:  40%|████      | 683/1703 [07:44<14:34,  1.17it/s]"
     ]
    },
    {
     "name": "stdout",
     "output_type": "stream",
     "text": [
      "\n",
      "No match found for ['mint'] in Web3Bugs/contracts/74/Timeswap/Timeswap-V1-Convenience/contracts/libraries/MintMath.sol. Available functions: ['givennew', 'givendebt', 'givencollateral', 'givenasset']\n",
      "\n"
     ]
    },
    {
     "name": "stderr",
     "output_type": "stream",
     "text": [
      "Processing vulnerabilities:  40%|████      | 684/1703 [07:46<19:02,  1.12s/it]"
     ]
    },
    {
     "name": "stdout",
     "output_type": "stream",
     "text": [
      "\n",
      "No match found for [] in Web3Bugs/contracts/74/Timeswap/Timeswap-V1-Convenience/contracts/libraries/Mint.sol. Available functions: ['_newliquidity', '_liquiditygivendebt', '_mint', 'liquiditygivendebtethcollateral', '_liquiditygivenasset', 'newliquidityethasset', 'liquiditygivenassetethcollateral', 'liquiditygivendebt', 'liquiditygivenasset', 'liquiditygivencollateralethcollateral', 'liquiditygivenassetethasset', '_liquiditygivencollateral', 'liquiditygivendebtethasset', 'newliquidity', 'liquiditygivencollateral', 'liquiditygivencollateralethasset', 'newliquidityethcollateral']\n",
      "\n"
     ]
    },
    {
     "name": "stderr",
     "output_type": "stream",
     "text": [
      "Processing vulnerabilities:  40%|████      | 685/1703 [07:47<19:34,  1.15s/it]"
     ]
    },
    {
     "name": "stdout",
     "output_type": "stream",
     "text": [
      "Parsing error in Web3Bugs/contracts/74/Timeswap/Timeswap-V1-Convenience/contracts/TimeswapConvenience.sol: unrecognized expression\n"
     ]
    },
    {
     "name": "stderr",
     "output_type": "stream",
     "text": [
      "Processing vulnerabilities:  40%|████      | 686/1703 [07:50<26:32,  1.57s/it]"
     ]
    },
    {
     "name": "stdout",
     "output_type": "stream",
     "text": [
      "\n",
      "No match found for ['sol'] in Web3Bugs/contracts/74/Timeswap/Timeswap-V1-Core/contracts/TimeswapPair.sol. Available functions: ['claimsof', 'burn', 'totalliquidity', 'withdraw', 'borrow', 'totalclaims', 'constantproduct', 'totalreserves', 'totaldebtcreated', 'lend', 'dueof', 'pay', 'liquidityof', 'mint', 'constructor']\n",
      "\n",
      "\n",
      "No match found for ['sol'] in Web3Bugs/contracts/74/Timeswap/Timeswap-V1-Core/contracts/libraries/Callback.sol. Available functions: ['lend', 'borrow', 'pay', 'mint']\n",
      "\n"
     ]
    },
    {
     "name": "stderr",
     "output_type": "stream",
     "text": [
      "Processing vulnerabilities:  40%|████      | 687/1703 [07:50<20:00,  1.18s/it]"
     ]
    },
    {
     "name": "stdout",
     "output_type": "stream",
     "text": [
      "Parsing error in Web3Bugs/contracts/59/src/contracts/Timelock.sol: unrecognized expression\n",
      "\n",
      "No match found for [] in Web3Bugs/contracts/59/src/contracts/PoolTransferVerification.sol. Available functions: ['addtowhitelist', 'setpricelookback', 'removefromwhitelist', 'verifytransfer', 'initialize', 'iswhitelisted', 'setpool', 'setthreshold']\n",
      "\n"
     ]
    },
    {
     "name": "stderr",
     "output_type": "stream",
     "text": [
      "Processing vulnerabilities:  40%|████      | 688/1703 [07:51<17:57,  1.06s/it]"
     ]
    },
    {
     "name": "stdout",
     "output_type": "stream",
     "text": [
      "\n",
      "No match found for [] in Web3Bugs/contracts/59/src/contracts/DexHandlers/UniswapHandler.sol. Available functions: ['addliquidity', 'calculatemintingtradesize', 'getoptimalliquidity', '_calculatetradesize', 'calculateburningtradesize', 'maltmarketprice', 'removebuyer', 'sellmalt', 'initialize', 'addnewbuyer', 'reserves', 'removeliquidity', 'buymalt']\n",
      "\n"
     ]
    },
    {
     "name": "stderr",
     "output_type": "stream",
     "text": [
      "Processing vulnerabilities:  41%|████      | 692/1703 [07:52<07:22,  2.28it/s]"
     ]
    },
    {
     "name": "stdout",
     "output_type": "stream",
     "text": [
      "Parsing error in Web3Bugs/contracts/59/src/contracts/Permissions.sol: unrecognized expression\n"
     ]
    },
    {
     "name": "stderr",
     "output_type": "stream",
     "text": [
      "Processing vulnerabilities:  41%|████      | 693/1703 [07:55<19:24,  1.15s/it]"
     ]
    },
    {
     "name": "stdout",
     "output_type": "stream",
     "text": [
      "\n",
      "No match found for [] in Web3Bugs/contracts/59/src/contracts/Bonding.sol. Available functions: ['bondtoaccount', 'unbondandbreak', 'setdao', 'epochdata', 'bondedepoch', '_addtobonded', '_balancecheck', 'setdexhandler', '_bond', 'setcurrentepoch', 'averagebondedvalue', '_unbond', 'unbond', '_removefrombonded', 'bond', 'setminingservice', '_updateepochstate', 'balanceofbonded', 'totalbonded', '_unbondandbreak', 'initialize']\n",
      "\n",
      "\n",
      "No match found for [] in Web3Bugs/contracts/59/src/contracts/Auction.sol. Available functions: ['_calcrealmaxraise', 'setimpliedcollateralservice', 'setstabilizernode', 'getaccountcommitments', 'averagemaltprice', 'getauctionparticipationforaccount', 'getauctionprices', 'auctionactive', 'setmaxauctionend', 'setauctionendreservebps', '_endauction', 'userclaimablearbtokens', 'allocatearbrewards', 'setmaltdatalab', 'setdustthreshold', 'triggerauction', '_setupauctionfinalization', 'setauctionamender', '_createauction', 'auctionexists', 'setdexhandler', 'isauctionfinalized', 'getauctioncore', 'setauctionstartcontroller', '_capcommitment', 'setauctionreplenishid', 'purchasearbitragetokens', 'setliquidityextension', 'settokenreplenishsplit', 'amendaccountparticipation', '_triggerauction', 'setreserveratiolookback', 'setauctionlength', 'setauctionburnreserveskew', 'getaccountcommitmentauctions', 'isauctionfinished', 'getauction', 'checkauctionfinalization', 'currentprice', '_calculateauctionpricing', 'setpricelookback', 'claimarbitrage', 'getauctioncommitments', '_checkauctionfinalization', 'balanceofarbtokens', 'initialize', '_resetauctionmaxcommitments', '_finalizeauction', 'getactiveauction']\n",
      "\n"
     ]
    },
    {
     "name": "stderr",
     "output_type": "stream",
     "text": [
      "Processing vulnerabilities:  41%|████      | 695/1703 [07:58<22:08,  1.32s/it]"
     ]
    },
    {
     "name": "stdout",
     "output_type": "stream",
     "text": [
      "\n",
      "No match found for [] in Web3Bugs/contracts/59/src/contracts/RewardSystem/RewardDistributor.sol. Available functions: ['totaldeclaredreward', 'removefocallengthupdater', 'setforfeitor', 'forfeit', '_forfeit', '_incrementfocalpoint', '_resetfocalpoint', 'setbonding', 'declarereward', '_getfocalindex', 'setfocallength', '_getvestablequantity', 'setrewardtoken', 'addfocallengthupdater', '_getnextfocalstart', '_rewardcheck', '_getactivefocal', 'vest', 'setthrottler', 'setrewardmine', '_getvestingfocal', 'initialize', 'decrementrewards']\n",
      "\n"
     ]
    },
    {
     "name": "stderr",
     "output_type": "stream",
     "text": [
      "Processing vulnerabilities:  41%|████      | 696/1703 [07:59<21:07,  1.26s/it]"
     ]
    },
    {
     "name": "stdout",
     "output_type": "stream",
     "text": [
      "Parsing error in Web3Bugs/contracts/59/src/contracts/Permissions.sol: unrecognized expression\n"
     ]
    },
    {
     "name": "stderr",
     "output_type": "stream",
     "text": [
      "Processing vulnerabilities:  41%|████▏     | 704/1703 [08:03<06:27,  2.58it/s]"
     ]
    },
    {
     "name": "stdout",
     "output_type": "stream",
     "text": [
      "Parsing error in Web3Bugs/contracts/59/src/contracts/Permissions.sol: unrecognized expression\n"
     ]
    },
    {
     "name": "stderr",
     "output_type": "stream",
     "text": [
      "Processing vulnerabilities:  41%|████▏     | 705/1703 [08:03<05:45,  2.89it/s]"
     ]
    },
    {
     "name": "stdout",
     "output_type": "stream",
     "text": [
      "Parsing error in Web3Bugs/contracts/59/src/contracts/Permissions.sol: unrecognized expression\n"
     ]
    },
    {
     "name": "stderr",
     "output_type": "stream",
     "text": [
      "Processing vulnerabilities:  42%|████▏     | 711/1703 [08:09<16:16,  1.02it/s]"
     ]
    },
    {
     "name": "stdout",
     "output_type": "stream",
     "text": [
      "\n",
      "No match found for ['purchasearbitragetokens'] in Web3Bugs/contracts/59/src/contracts/LiquidityExtension.sol. Available functions: ['reserveratio', 'collateraldeficit', 'setdexhandler', 'hasminimumreserves', 'setauction', 'purchaseandburn', 'setmaltdatalab', 'setminreserveratio', 'initialize']\n",
      "\n"
     ]
    },
    {
     "name": "stderr",
     "output_type": "stream",
     "text": [
      "Processing vulnerabilities:  42%|████▏     | 713/1703 [08:13<23:00,  1.39s/it]"
     ]
    },
    {
     "name": "stdout",
     "output_type": "stream",
     "text": [
      "\n",
      "No match found for ['_calculatemaltrequiredforexit'] in Web3Bugs/contracts/59/src/contracts/DexHandlers/UniswapHandler.sol. Available functions: ['addliquidity', 'calculatemintingtradesize', 'getoptimalliquidity', '_calculatetradesize', 'calculateburningtradesize', 'maltmarketprice', 'removebuyer', 'sellmalt', 'initialize', 'addnewbuyer', 'reserves', 'removeliquidity', 'buymalt']\n",
      "\n"
     ]
    },
    {
     "name": "stderr",
     "output_type": "stream",
     "text": [
      "Processing vulnerabilities:  42%|████▏     | 720/1703 [08:23<18:43,  1.14s/it]"
     ]
    },
    {
     "name": "stdout",
     "output_type": "stream",
     "text": [
      "\n",
      "No match found for ['trackmaltprice', 'trackpoolreserves', 'trackpool'] in Web3Bugs/contracts/59/src/contracts/Bonding.sol. Available functions: ['bondtoaccount', 'unbondandbreak', 'setdao', 'epochdata', 'bondedepoch', '_addtobonded', '_balancecheck', 'setdexhandler', '_bond', 'setcurrentepoch', 'averagebondedvalue', '_unbond', 'unbond', '_removefrombonded', 'bond', 'setminingservice', '_updateepochstate', 'balanceofbonded', 'totalbonded', '_unbondandbreak', 'initialize']\n",
      "\n",
      "\n",
      "No match found for ['trackmaltprice', 'trackpoolreserves', 'trackpool'] in Web3Bugs/contracts/59/src/contracts/Auction.sol. Available functions: ['_calcrealmaxraise', 'setimpliedcollateralservice', 'setstabilizernode', 'getaccountcommitments', 'averagemaltprice', 'getauctionparticipationforaccount', 'getauctionprices', 'auctionactive', 'setmaxauctionend', 'setauctionendreservebps', '_endauction', 'userclaimablearbtokens', 'allocatearbrewards', 'setmaltdatalab', 'setdustthreshold', 'triggerauction', '_setupauctionfinalization', 'setauctionamender', '_createauction', 'auctionexists', 'setdexhandler', 'isauctionfinalized', 'getauctioncore', 'setauctionstartcontroller', '_capcommitment', 'setauctionreplenishid', 'purchasearbitragetokens', 'setliquidityextension', 'settokenreplenishsplit', 'amendaccountparticipation', '_triggerauction', 'setreserveratiolookback', 'setauctionlength', 'setauctionburnreserveskew', 'getaccountcommitmentauctions', 'isauctionfinished', 'getauction', 'checkauctionfinalization', 'currentprice', '_calculateauctionpricing', 'setpricelookback', 'claimarbitrage', 'getauctioncommitments', '_checkauctionfinalization', 'balanceofarbtokens', 'initialize', '_resetauctionmaxcommitments', '_finalizeauction', 'getactiveauction']\n",
      "\n",
      "\n",
      "No match found for ['trackmaltprice', 'trackpoolreserves', 'trackpool'] in Web3Bugs/contracts/59/src/contracts/ImpliedCollateralService.sol. Available functions: ['handledeficit', 'getcollateralvalueinmalt', 'setauctionpool', 'setrewardoverflow', 'claim', 'totalusefulcollateral', 'initialize']\n",
      "\n"
     ]
    },
    {
     "name": "stderr",
     "output_type": "stream",
     "text": [
      "Processing vulnerabilities:  42%|████▏     | 721/1703 [08:27<31:57,  1.95s/it]"
     ]
    },
    {
     "name": "stdout",
     "output_type": "stream",
     "text": [
      "\n",
      "No match found for ['trackmaltprice', 'trackpoolreserves', 'trackpool'] in Web3Bugs/contracts/59/src/contracts/StabilizerNode.sol. Available functions: ['setstabilitythresholds', 'setimpliedcollateralservice', 'setstabilizebackoff', 'stabilize', 'setauctionburnskew', 'setdao', 'setsupplydistributioncontroller', 'setoverridedistance', 'setrewardthrottle', 'setmaxcontribution', 'setfastaverageperiod', 'setauctioncontract', '_distributerewards', 'setauctionpool', 'setdefaultincentive', 'setupcontracts', '_startauction', 'setdexhandler', 'setauctionstartcontroller', 'setswingtrader', 'setexpansiondamping', 'setliquidityextension', '_shouldadjustsupply', '_replenishliquidityextension', '_distributesupply', 'setpriceaverageperiod', 'settreasury', 'setnewdatalab', 'setrewardcut', '_stabilitywindowoverride', 'initialize']\n",
      "\n"
     ]
    },
    {
     "name": "stderr",
     "output_type": "stream",
     "text": [
      "Processing vulnerabilities:  43%|████▎     | 739/1703 [08:42<13:05,  1.23it/s]"
     ]
    },
    {
     "name": "stdout",
     "output_type": "stream",
     "text": [
      "\n",
      "No match found for ['calcreward', '_deposit'] in Web3Bugs/contracts/5/vader-protocol/contracts/Pools.sol. Available functions: ['swap', 'init', 'getmemberunits', 'utils', 'removeliquiditydirectly', 'getbaseamount', 'ismember', 'isanchor', 'issynth', 'burnsynth', 'removeliquidity', 'sync', 'getaddedamount', 'constructor', '_removeliquidity', 'gettokenamount', 'addliquidity', 'unlockunits', 'mintsynth', 'syncsynth', 'getunits', 'getsynth', 'deploysynth', 'transferout', 'isasset', 'lockunits', 'getpoolamounts']\n",
      "\n"
     ]
    },
    {
     "name": "stderr",
     "output_type": "stream",
     "text": [
      "Processing vulnerabilities:  45%|████▍     | 758/1703 [08:56<18:25,  1.17s/it]"
     ]
    },
    {
     "name": "stdout",
     "output_type": "stream",
     "text": [
      "\n",
      "No match found for ['all external/public functions'] in Web3Bugs/contracts/5/vader-protocol/contracts/Pools.sol. Available functions: ['swap', 'init', 'getmemberunits', 'utils', 'removeliquiditydirectly', 'getbaseamount', 'ismember', 'isanchor', 'issynth', 'burnsynth', 'removeliquidity', 'sync', 'getaddedamount', 'constructor', '_removeliquidity', 'gettokenamount', 'addliquidity', 'unlockunits', 'mintsynth', 'syncsynth', 'getunits', 'getsynth', 'deploysynth', 'transferout', 'isasset', 'lockunits', 'getpoolamounts']\n",
      "\n"
     ]
    },
    {
     "name": "stderr",
     "output_type": "stream",
     "text": [
      "Processing vulnerabilities:  46%|████▌     | 785/1703 [09:09<10:11,  1.50it/s]"
     ]
    },
    {
     "name": "stdout",
     "output_type": "stream",
     "text": [
      "Parsing error in Web3Bugs/contracts/62/Streaming/src/Locke.sol: unrecognized expression\n"
     ]
    },
    {
     "name": "stderr",
     "output_type": "stream",
     "text": [
      "Processing vulnerabilities:  46%|████▋     | 788/1703 [09:10<09:09,  1.67it/s]"
     ]
    },
    {
     "name": "stdout",
     "output_type": "stream",
     "text": [
      "Parsing error in Web3Bugs/contracts/62/Streaming/src/Locke.sol: unrecognized expression\n"
     ]
    },
    {
     "name": "stderr",
     "output_type": "stream",
     "text": [
      "Processing vulnerabilities:  46%|████▋     | 789/1703 [09:12<11:56,  1.28it/s]"
     ]
    },
    {
     "name": "stdout",
     "output_type": "stream",
     "text": [
      "Parsing error in Web3Bugs/contracts/62/Streaming/src/Locke.sol: unrecognized expression\n"
     ]
    },
    {
     "name": "stderr",
     "output_type": "stream",
     "text": [
      "Processing vulnerabilities:  46%|████▋     | 790/1703 [09:13<14:17,  1.06it/s]"
     ]
    },
    {
     "name": "stdout",
     "output_type": "stream",
     "text": [
      "Parsing error in Web3Bugs/contracts/62/Streaming/src/Locke.sol: unrecognized expression\n"
     ]
    },
    {
     "name": "stderr",
     "output_type": "stream",
     "text": [
      "Processing vulnerabilities:  46%|████▋     | 791/1703 [09:15<16:37,  1.09s/it]"
     ]
    },
    {
     "name": "stdout",
     "output_type": "stream",
     "text": [
      "Parsing error in Web3Bugs/contracts/62/Streaming/src/Locke.sol: unrecognized expression\n"
     ]
    },
    {
     "name": "stderr",
     "output_type": "stream",
     "text": [
      "Processing vulnerabilities:  47%|████▋     | 792/1703 [09:17<18:48,  1.24s/it]"
     ]
    },
    {
     "name": "stdout",
     "output_type": "stream",
     "text": [
      "Parsing error in Web3Bugs/contracts/62/Streaming/src/Locke.sol: unrecognized expression\n"
     ]
    },
    {
     "name": "stderr",
     "output_type": "stream",
     "text": [
      "Processing vulnerabilities:  47%|████▋     | 793/1703 [09:18<20:10,  1.33s/it]"
     ]
    },
    {
     "name": "stdout",
     "output_type": "stream",
     "text": [
      "Parsing error in Web3Bugs/contracts/62/Streaming/src/Locke.sol: unrecognized expression\n"
     ]
    },
    {
     "name": "stderr",
     "output_type": "stream",
     "text": [
      "Processing vulnerabilities:  47%|████▋     | 794/1703 [09:20<21:46,  1.44s/it]"
     ]
    },
    {
     "name": "stdout",
     "output_type": "stream",
     "text": [
      "Parsing error in Web3Bugs/contracts/62/Streaming/src/Locke.sol: unrecognized expression\n"
     ]
    },
    {
     "name": "stderr",
     "output_type": "stream",
     "text": [
      "Processing vulnerabilities:  47%|████▋     | 796/1703 [09:22<17:35,  1.16s/it]"
     ]
    },
    {
     "name": "stdout",
     "output_type": "stream",
     "text": [
      "Parsing error in Web3Bugs/contracts/62/Streaming/src/Locke.sol: unrecognized expression\n"
     ]
    },
    {
     "name": "stderr",
     "output_type": "stream",
     "text": [
      "Processing vulnerabilities:  47%|████▋     | 798/1703 [09:24<16:19,  1.08s/it]"
     ]
    },
    {
     "name": "stdout",
     "output_type": "stream",
     "text": [
      "Parsing error in Web3Bugs/contracts/62/Streaming/src/Locke.sol: unrecognized expression\n"
     ]
    },
    {
     "name": "stderr",
     "output_type": "stream",
     "text": [
      "Processing vulnerabilities:  47%|████▋     | 799/1703 [09:25<18:14,  1.21s/it]"
     ]
    },
    {
     "name": "stdout",
     "output_type": "stream",
     "text": [
      "Parsing error in Web3Bugs/contracts/62/Streaming/src/Locke.sol: unrecognized expression\n"
     ]
    },
    {
     "name": "stderr",
     "output_type": "stream",
     "text": [
      "Processing vulnerabilities:  47%|████▋     | 802/1703 [09:27<11:43,  1.28it/s]"
     ]
    },
    {
     "name": "stdout",
     "output_type": "stream",
     "text": [
      "\n",
      "No match found for [] in Web3Bugs/contracts/60/protocol/contracts/collateral/Collateral.sol. Available functions: ['withdrawto', 'collateral', 'updateliquidationfee', 'liquidate', 'shortfall', 'depositto', 'settleaccount', 'claimfee', 'settleproduct', 'liquidatable', 'liquidatablenext', 'initialize', 'resolveshortfall']\n",
      "\n"
     ]
    },
    {
     "name": "stderr",
     "output_type": "stream",
     "text": [
      "Processing vulnerabilities:  48%|████▊     | 816/1703 [09:34<08:30,  1.74it/s]"
     ]
    },
    {
     "name": "stdout",
     "output_type": "stream",
     "text": [
      "\n",
      "No match found for [] in Web3Bugs/contracts/122/contracts/src/Cally.sol. Available functions: ['buyoption', 'getpremium', 'getdutchauctionstrike', 'withdrawprotocolfees', 'initiatewithdraw', 'getvaultbeneficiary', 'exercise', 'createvault', 'setvaultbeneficiary', 'transferfrom', 'harvest', 'withdraw', 'tokenuri', 'vaults', 'setfee']\n",
      "\n"
     ]
    },
    {
     "name": "stderr",
     "output_type": "stream",
     "text": [
      "Processing vulnerabilities:  48%|████▊     | 817/1703 [09:34<07:57,  1.85it/s]"
     ]
    },
    {
     "name": "stdout",
     "output_type": "stream",
     "text": [
      "Parsing error in Web3Bugs/contracts/122/contracts/test/units/BuyOption.t.sol: unrecognized expression\n"
     ]
    },
    {
     "name": "stderr",
     "output_type": "stream",
     "text": [
      "Processing vulnerabilities:  48%|████▊     | 821/1703 [09:37<08:40,  1.69it/s]"
     ]
    },
    {
     "name": "stdout",
     "output_type": "stream",
     "text": [
      "\n",
      "No match found for ['function at line 344', 'function at line 295', 'function at line 199'] in Web3Bugs/contracts/122/contracts/src/Cally.sol. Available functions: ['buyoption', 'getpremium', 'getdutchauctionstrike', 'withdrawprotocolfees', 'initiatewithdraw', 'getvaultbeneficiary', 'exercise', 'createvault', 'setvaultbeneficiary', 'transferfrom', 'harvest', 'withdraw', 'tokenuri', 'vaults', 'setfee']\n",
      "\n"
     ]
    },
    {
     "name": "stderr",
     "output_type": "stream",
     "text": [
      "Processing vulnerabilities:  48%|████▊     | 825/1703 [09:38<05:48,  2.52it/s]"
     ]
    },
    {
     "name": "stdout",
     "output_type": "stream",
     "text": [
      "\n",
      "No match found for [] in Web3Bugs/contracts/54/smart-contracts/contracts/mixins/MixinTransfer.sol. Available functions: ['gettransferfee', 'transferfrom', 'transfer', '_checkonerc721received', 'sharekey', 'safetransferfrom', 'updatetransferfee']\n",
      "\n"
     ]
    },
    {
     "name": "stderr",
     "output_type": "stream",
     "text": [
      "Processing vulnerabilities:  49%|████▊     | 827/1703 [09:39<07:52,  1.85it/s]"
     ]
    },
    {
     "name": "stdout",
     "output_type": "stream",
     "text": [
      "\n",
      "No match found for ['updateandconsult'] in Web3Bugs/contracts/54/smart-contracts/contracts/Unlock.sol. Available functions: ['_islockmanager', 'recordkeypurchase', 'computeavailablediscountfor', 'getglobalbasetokenuri', 'publiclockimpls', 'resettrackedvalue', 'createlock', 'setlocktemplate', 'publiclockversions', 'configunlock', 'addlocktemplate', 'initializeproxyadmin', 'unlockversion', 'setoracle', 'recordconsumeddiscount', '_deployproxyadmin', 'getglobaltokensymbol', 'upgradelock', 'initialize']\n",
      "\n"
     ]
    },
    {
     "name": "stderr",
     "output_type": "stream",
     "text": [
      "Processing vulnerabilities:  49%|████▊     | 830/1703 [09:41<06:18,  2.31it/s]"
     ]
    },
    {
     "name": "stdout",
     "output_type": "stream",
     "text": [
      "\n",
      "No match found for [] in Web3Bugs/contracts/54/smart-contracts/contracts/mixins/MixinRefunds.sol. Available functions: ['getcancelandrefundvaluefor', '_cancelandrefund', 'cancelandrefund', 'updaterefundpenalty', '_getcancelandrefundvalue', 'expireandrefundfor', '_initializemixinrefunds']\n",
      "\n"
     ]
    },
    {
     "name": "stderr",
     "output_type": "stream",
     "text": [
      "Processing vulnerabilities:  49%|████▉     | 831/1703 [09:41<06:26,  2.26it/s]"
     ]
    },
    {
     "name": "stdout",
     "output_type": "stream",
     "text": [
      "\n",
      "No match found for [] in Web3Bugs/contracts/54/smart-contracts/contracts/mixins/MixinLockCore.sol. Available functions: ['updatekeypricing', 'seteventhooks', 'totalsupply', 'publiclockversion', '_initializemixinlockcore', 'updatebeneficiary', 'withdraw', 'approvebeneficiary']\n",
      "\n"
     ]
    },
    {
     "name": "stderr",
     "output_type": "stream",
     "text": [
      "Processing vulnerabilities:  49%|████▉     | 835/1703 [09:43<06:38,  2.18it/s]"
     ]
    },
    {
     "name": "stdout",
     "output_type": "stream",
     "text": [
      "\n",
      "No match found for ['recordkeypurchase'] in Web3Bugs/contracts/54/smart-contracts/contracts/mixins/MixinPurchase.sol. Available functions: ['purchase', 'purchasepricefor', '_purchasepricefor']\n",
      "\n"
     ]
    },
    {
     "name": "stderr",
     "output_type": "stream",
     "text": [
      "Processing vulnerabilities:  49%|████▉     | 840/1703 [09:45<05:55,  2.43it/s]"
     ]
    },
    {
     "name": "stdout",
     "output_type": "stream",
     "text": [
      "\n",
      "No match found for ['grantkey', 'sharekey', '_assignnewtokenid'] in Web3Bugs/contracts/54/smart-contracts/contracts/mixins/MixinGrantKeys.sol. Available functions: ['grantkeys']\n",
      "\n",
      "\n",
      "No match found for ['updatekeypricing'] in Web3Bugs/contracts/54/smart-contracts/contracts/mixins/MixinRefunds.sol. Available functions: ['getcancelandrefundvaluefor', '_cancelandrefund', 'cancelandrefund', 'updaterefundpenalty', '_getcancelandrefundvalue', 'expireandrefundfor', '_initializemixinrefunds']\n",
      "\n"
     ]
    },
    {
     "name": "stderr",
     "output_type": "stream",
     "text": [
      "Processing vulnerabilities:  49%|████▉     | 842/1703 [09:45<04:02,  3.55it/s]"
     ]
    },
    {
     "name": "stdout",
     "output_type": "stream",
     "text": [
      "\n",
      "No match found for ['_sendforreceiver'] in Web3Bugs/contracts/8/nftx-protocol-v2/contracts/solidity/NFTXEligiblityManager.sol. Available functions: ['deployeligibility', '__nftxeligibilitymanager_init', 'addmodule', 'allmodules', 'updatemodule']\n",
      "\n"
     ]
    },
    {
     "name": "stderr",
     "output_type": "stream",
     "text": [
      "Processing vulnerabilities:  50%|████▉     | 847/1703 [09:47<04:32,  3.14it/s]"
     ]
    },
    {
     "name": "stdout",
     "output_type": "stream",
     "text": [
      "\n",
      "No match found for ['distribute'] in Web3Bugs/contracts/8/nftx-protocol-v2/contracts/solidity/NFTXEligiblityManager.sol. Available functions: ['deployeligibility', '__nftxeligibilitymanager_init', 'addmodule', 'allmodules', 'updatemodule']\n",
      "\n"
     ]
    },
    {
     "name": "stderr",
     "output_type": "stream",
     "text": [
      "Processing vulnerabilities:  50%|████▉     | 851/1703 [09:49<05:18,  2.68it/s]"
     ]
    },
    {
     "name": "stdout",
     "output_type": "stream",
     "text": [
      "\n",
      "No match found for ['receiverewards'] in Web3Bugs/contracts/8/nftx-protocol-v2/contracts/solidity/NFTXFeeDistributor.sol. Available functions: ['setspecifictreasuryalloc', 'settreasuryaddress', '_sendforreceiver', 'distribute', 'addreceiver', 'removereceiver', 'setnftxvaultfactory', 'setdefaultlpalloc', 'pausefeedistribution', 'changereceiveralloc', 'setlpstakingaddress', 'rescuetokens', 'changereceiveraddress', '__feedistributor__init__', '_addreceiver', 'rescue', 'initializevaultreceivers', 'setdefaulttreasuryalloc']\n",
      "\n"
     ]
    },
    {
     "name": "stderr",
     "output_type": "stream",
     "text": [
      "Processing vulnerabilities:  50%|█████     | 860/1703 [09:53<04:49,  2.91it/s]"
     ]
    },
    {
     "name": "stdout",
     "output_type": "stream",
     "text": [
      "\n",
      "No match found for ['deployeligibilitystorage'] in Web3Bugs/contracts/8/nftx-protocol-v2/contracts/solidity/NFTXVaultFactoryUpgradeable.sol. Available functions: ['setfeereceiver', 'deployvault', 'createvault', '__nftxvaultfactory_init']\n",
      "\n"
     ]
    },
    {
     "name": "stderr",
     "output_type": "stream",
     "text": [
      "Processing vulnerabilities:  51%|█████     | 866/1703 [09:56<05:27,  2.56it/s]"
     ]
    },
    {
     "name": "stdout",
     "output_type": "stream",
     "text": [
      "Parsing error in Web3Bugs/contracts/79/contracts/LaunchEvent.sol: unrecognized expression\n"
     ]
    },
    {
     "name": "stderr",
     "output_type": "stream",
     "text": [
      "Processing vulnerabilities:  51%|█████     | 867/1703 [09:57<07:09,  1.94it/s]"
     ]
    },
    {
     "name": "stdout",
     "output_type": "stream",
     "text": [
      "Parsing error in Web3Bugs/contracts/79/contracts/LaunchEvent.sol: unrecognized expression\n"
     ]
    },
    {
     "name": "stderr",
     "output_type": "stream",
     "text": [
      "Processing vulnerabilities:  51%|█████     | 869/1703 [09:58<08:29,  1.64it/s]"
     ]
    },
    {
     "name": "stdout",
     "output_type": "stream",
     "text": [
      "Parsing error in Web3Bugs/contracts/79/contracts/LaunchEvent.sol: unrecognized expression\n"
     ]
    },
    {
     "name": "stderr",
     "output_type": "stream",
     "text": [
      "Processing vulnerabilities:  51%|█████     | 872/1703 [10:00<08:45,  1.58it/s]"
     ]
    },
    {
     "name": "stdout",
     "output_type": "stream",
     "text": [
      "Parsing error in Web3Bugs/contracts/79/contracts/LaunchEvent.sol: unrecognized expression\n"
     ]
    },
    {
     "name": "stderr",
     "output_type": "stream",
     "text": [
      "Processing vulnerabilities:  51%|█████▏    | 874/1703 [10:01<08:19,  1.66it/s]"
     ]
    },
    {
     "name": "stdout",
     "output_type": "stream",
     "text": [
      "Parsing error in Web3Bugs/contracts/79/contracts/LaunchEvent.sol: unrecognized expression\n"
     ]
    },
    {
     "name": "stderr",
     "output_type": "stream",
     "text": [
      "Processing vulnerabilities:  51%|█████▏    | 875/1703 [10:02<09:38,  1.43it/s]"
     ]
    },
    {
     "name": "stdout",
     "output_type": "stream",
     "text": [
      "Parsing error in Web3Bugs/contracts/79/contracts/LaunchEvent.sol: unrecognized expression\n"
     ]
    },
    {
     "name": "stderr",
     "output_type": "stream",
     "text": [
      "Processing vulnerabilities:  51%|█████▏    | 876/1703 [10:03<11:15,  1.22it/s]"
     ]
    },
    {
     "name": "stdout",
     "output_type": "stream",
     "text": [
      "Parsing error in Web3Bugs/contracts/79/contracts/LaunchEvent.sol: unrecognized expression\n"
     ]
    },
    {
     "name": "stderr",
     "output_type": "stream",
     "text": [
      "Processing vulnerabilities:  51%|█████▏    | 877/1703 [10:05<12:12,  1.13it/s]"
     ]
    },
    {
     "name": "stdout",
     "output_type": "stream",
     "text": [
      "Parsing error in Web3Bugs/contracts/79/contracts/LaunchEvent.sol: unrecognized expression\n"
     ]
    },
    {
     "name": "stderr",
     "output_type": "stream",
     "text": [
      "Processing vulnerabilities:  52%|█████▏    | 879/1703 [10:06<11:17,  1.22it/s]"
     ]
    },
    {
     "name": "stdout",
     "output_type": "stream",
     "text": [
      "Parsing error in Web3Bugs/contracts/79/contracts/LaunchEvent.sol: unrecognized expression\n"
     ]
    },
    {
     "name": "stderr",
     "output_type": "stream",
     "text": [
      "Processing vulnerabilities:  52%|█████▏    | 880/1703 [10:07<13:08,  1.04it/s]"
     ]
    },
    {
     "name": "stdout",
     "output_type": "stream",
     "text": [
      "Parsing error in Web3Bugs/contracts/79/contracts/LaunchEvent.sol: unrecognized expression\n",
      "\n",
      "No match found for [] in Web3Bugs/contracts/79/contracts/RocketJoeFactory.sol. Available functions: ['setpenaltycollector', 'setphaseonenofeeduration', 'setrjoe', 'createrjlaunchevent', 'setrjoeperavax', '_emitlaunchedevent', 'setfactory', 'setphaseduration', 'setrouter', 'numlaunchevents', 'constructor']\n",
      "\n"
     ]
    },
    {
     "name": "stderr",
     "output_type": "stream",
     "text": [
      "Processing vulnerabilities:  52%|█████▏    | 881/1703 [10:08<12:25,  1.10it/s]"
     ]
    },
    {
     "name": "stdout",
     "output_type": "stream",
     "text": [
      "\n",
      "No match found for [] in Web3Bugs/contracts/79/contracts/RocketJoeStaking.sol. Available functions: ['emergencywithdraw', 'updatepool', 'updateemissionrate', 'deposit', '_saferjoetransfer', 'pendingrjoe', 'withdraw', 'initialize']\n",
      "\n"
     ]
    },
    {
     "name": "stderr",
     "output_type": "stream",
     "text": [
      "Processing vulnerabilities:  52%|█████▏    | 893/1703 [10:16<06:51,  1.97it/s]"
     ]
    },
    {
     "name": "stdout",
     "output_type": "stream",
     "text": [
      "Parsing error in Web3Bugs/contracts/76/contracts/managers/Manager.sol: unrecognized expression\n"
     ]
    },
    {
     "name": "stderr",
     "output_type": "stream",
     "text": [
      "Processing vulnerabilities:  53%|█████▎    | 898/1703 [10:20<07:07,  1.88it/s]"
     ]
    },
    {
     "name": "stdout",
     "output_type": "stream",
     "text": [
      "Parsing error in Web3Bugs/contracts/124/notional-wrapped-fcash/contracts/wfCashLogic.sol: unrecognized expression\n"
     ]
    },
    {
     "name": "stderr",
     "output_type": "stream",
     "text": [
      "Processing vulnerabilities:  53%|█████▎    | 899/1703 [10:21<09:56,  1.35it/s]"
     ]
    },
    {
     "name": "stdout",
     "output_type": "stream",
     "text": [
      "\n",
      "No match found for ['_mint', '_redeem', '_mintfcashposition', '_redeemfcashposition', 'redeemtounderlying', '_isunderlying', 'mintviaunderlying'] in Web3Bugs/contracts/124/notional-wrapped-fcash/contracts/wfCashBase.sol. Available functions: ['getmaturity', 'getunderlyingtoken', 'getdecodedid', 'gettoken', 'getassettoken', 'hasmatured', 'getcurrencyid', 'initialize', 'getmarketindex', 'decimals', 'getfcashid', 'constructor']\n",
      "\n"
     ]
    },
    {
     "name": "stderr",
     "output_type": "stream",
     "text": [
      "Processing vulnerabilities:  53%|█████▎    | 901/1703 [10:22<07:15,  1.84it/s]"
     ]
    },
    {
     "name": "stdout",
     "output_type": "stream",
     "text": [
      "Parsing error in Web3Bugs/contracts/124/notional-wrapped-fcash/contracts/wfCashLogic.sol: unrecognized expression\n"
     ]
    },
    {
     "name": "stderr",
     "output_type": "stream",
     "text": [
      "Processing vulnerabilities:  53%|█████▎    | 907/1703 [10:31<24:43,  1.86s/it]"
     ]
    },
    {
     "name": "stdout",
     "output_type": "stream",
     "text": [
      "\n",
      "No match found for [] in Web3Bugs/contracts/105/contracts/HolyPaladinToken.sol. Available functions: ['_getpastlock', 'emergencywithdraw', 'stakeandlock', '_writecheckpoint', '_stake', 'getpasttotallock', 'gettotallocklength', 'stakeandincreaselock', 'getuserlockcount', 'getcurrenttotallock', 'availablebalanceof', 'increaselock', 'numcheckpoints', 'unstake', 'claim', 'getcurrentvotes', 'cooldown', 'unlock', '_movedelegates', 'kick', '_getpastvotes', '_unlock', 'setkickratio', '_updatedroppersecond', '_beforetokentransfer', '_kick', 'triggeremergencywithdraw', 'estimateclaimablerewards', 'getpastvotes', 'updaterewardstate', 'stake', '_unstake', 'getpastdelegate', 'setenddroppersecond', 'constructor', '_availablebalanceof', 'safe224', '_getuseraccruedrewards', 'getnewreceivercooldown', 'getuserlock', '_delegate', '_getnewreceivercooldown', '_getnewindex', 'updateuserrewardstate', '_getpastdelegate', '_lock', 'getuserpastlock', 'safe128', 'safe48', 'allbalancesof', 'safe32', '_aftertokentransfer', 'increaselockduration', '_updaterewardstate', 'delegate', 'lock', '_updateuserrewards']\n",
      "\n"
     ]
    },
    {
     "name": "stderr",
     "output_type": "stream",
     "text": [
      "Processing vulnerabilities:  53%|█████▎    | 908/1703 [10:35<30:47,  2.32s/it]"
     ]
    },
    {
     "name": "stdout",
     "output_type": "stream",
     "text": [
      "\n",
      "No match found for ['transferfrom'] in Web3Bugs/contracts/105/contracts/HolyPaladinToken.sol. Available functions: ['_getpastlock', 'emergencywithdraw', 'stakeandlock', '_writecheckpoint', '_stake', 'getpasttotallock', 'gettotallocklength', 'stakeandincreaselock', 'getuserlockcount', 'getcurrenttotallock', 'availablebalanceof', 'increaselock', 'numcheckpoints', 'unstake', 'claim', 'getcurrentvotes', 'cooldown', 'unlock', '_movedelegates', 'kick', '_getpastvotes', '_unlock', 'setkickratio', '_updatedroppersecond', '_beforetokentransfer', '_kick', 'triggeremergencywithdraw', 'estimateclaimablerewards', 'getpastvotes', 'updaterewardstate', 'stake', '_unstake', 'getpastdelegate', 'setenddroppersecond', 'constructor', '_availablebalanceof', 'safe224', '_getuseraccruedrewards', 'getnewreceivercooldown', 'getuserlock', '_delegate', '_getnewreceivercooldown', '_getnewindex', 'updateuserrewardstate', '_getpastdelegate', '_lock', 'getuserpastlock', 'safe128', 'safe48', 'allbalancesof', 'safe32', '_aftertokentransfer', 'increaselockduration', '_updaterewardstate', 'delegate', 'lock', '_updateuserrewards']\n",
      "\n"
     ]
    },
    {
     "name": "stderr",
     "output_type": "stream",
     "text": [
      "Processing vulnerabilities:  54%|█████▎    | 915/1703 [10:50<21:21,  1.63s/it]"
     ]
    },
    {
     "name": "stdout",
     "output_type": "stream",
     "text": [
      "\n",
      "No match found for [] in Web3Bugs/contracts/105/contracts/PaladinRewardReserve.sol. Available functions: ['removespender', 'transfertoken', 'setnewspender', 'updatespenderallowance', 'constructor']\n",
      "\n"
     ]
    },
    {
     "name": "stderr",
     "output_type": "stream",
     "text": [
      "Processing vulnerabilities:  54%|█████▍    | 921/1703 [11:08<37:06,  2.85s/it]"
     ]
    },
    {
     "name": "stdout",
     "output_type": "stream",
     "text": [
      "\n",
      "No match found for [] in Web3Bugs/contracts/105/contracts/HolyPaladinToken.sol. Available functions: ['_getpastlock', 'emergencywithdraw', 'stakeandlock', '_writecheckpoint', '_stake', 'getpasttotallock', 'gettotallocklength', 'stakeandincreaselock', 'getuserlockcount', 'getcurrenttotallock', 'availablebalanceof', 'increaselock', 'numcheckpoints', 'unstake', 'claim', 'getcurrentvotes', 'cooldown', 'unlock', '_movedelegates', 'kick', '_getpastvotes', '_unlock', 'setkickratio', '_updatedroppersecond', '_beforetokentransfer', '_kick', 'triggeremergencywithdraw', 'estimateclaimablerewards', 'getpastvotes', 'updaterewardstate', 'stake', '_unstake', 'getpastdelegate', 'setenddroppersecond', 'constructor', '_availablebalanceof', 'safe224', '_getuseraccruedrewards', 'getnewreceivercooldown', 'getuserlock', '_delegate', '_getnewreceivercooldown', '_getnewindex', 'updateuserrewardstate', '_getpastdelegate', '_lock', 'getuserpastlock', 'safe128', 'safe48', 'allbalancesof', 'safe32', '_aftertokentransfer', 'increaselockduration', '_updaterewardstate', 'delegate', 'lock', '_updateuserrewards']\n",
      "\n",
      "\n",
      "No match found for ['withdraw'] in Web3Bugs/contracts/58/mellow-vaults/test_brownie/contracts/YearnVault.sol. Available functions: ['ytokens', '_pull', '_allowtokenifnecessary', 'tvl', '_push', 'constructor']\n",
      "\n"
     ]
    },
    {
     "name": "stderr",
     "output_type": "stream",
     "text": [
      "Processing vulnerabilities:  54%|█████▍    | 927/1703 [11:12<11:30,  1.12it/s]"
     ]
    },
    {
     "name": "stdout",
     "output_type": "stream",
     "text": [
      "\n",
      "No match found for ['withdraw'] in Web3Bugs/contracts/58/mellow-vaults/test_brownie/contracts/AaveVault.sol. Available functions: ['updatetvls', '_lendingpool', '_pull', '_allowtokenifnecessary', 'tvl', '_getatoken', '_push', 'constructor']\n",
      "\n"
     ]
    },
    {
     "name": "stderr",
     "output_type": "stream",
     "text": [
      "Processing vulnerabilities:  55%|█████▍    | 935/1703 [11:16<07:22,  1.74it/s]"
     ]
    },
    {
     "name": "stdout",
     "output_type": "stream",
     "text": [
      "\n",
      "No match found for ['latestanswer'] in Web3Bugs/contracts/32/contracts/UniswapV3Oracle.sol. Available functions: ['_validatepool', 'tokenprice', 'ispoolvalid', 'addpool', 'setminobservations', 'removepool', 'converttokenvalues', 'tokensupported', 'settwapperiod', 'ethprice', 'setunipriceconverter', 'constructor']\n",
      "\n"
     ]
    },
    {
     "name": "stderr",
     "output_type": "stream",
     "text": [
      "Processing vulnerabilities:  55%|█████▌    | 940/1703 [11:22<12:00,  1.06it/s]"
     ]
    },
    {
     "name": "stdout",
     "output_type": "stream",
     "text": [
      "\n",
      "No match found for [] in Web3Bugs/contracts/70/contracts/lbt/LiquidityBasedTWAP.sol. Available functions: ['getvaderprice', 'syncusdvprice', 'setupvader', 'getusdvprice', '_calculatevaderprice', 'getchainlinkprice', '_calculateusdvprice', 'addvaderpair', 'syncvaderprice', 'setupusdv', 'addusdvpair', '_addusdvpair', 'getstalevaderprice', '_updateusdvprice', '_addvaderpair', 'getstaleusdvprice', '_updatevaderprice', 'constructor']\n",
      "\n"
     ]
    },
    {
     "name": "stderr",
     "output_type": "stream",
     "text": [
      "Processing vulnerabilities:  55%|█████▌    | 941/1703 [11:23<12:00,  1.06it/s]"
     ]
    },
    {
     "name": "stdout",
     "output_type": "stream",
     "text": [
      "\n",
      "No match found for ['_calculateusdvprice'] in Web3Bugs/contracts/70/contracts/tokens/USDV.sol. Available functions: ['claimall', 'burn', '_createlock', 'setdailylimit', 'setlock', 'claim', 'setlbtwap', 'constructor', 'setguardian', 'mint', 'setfee']\n",
      "\n",
      "\n",
      "No match found for ['_calculateusdvprice'] in Web3Bugs/contracts/70/repo/vader-bond/contracts/lib/FixedPoint.sol. Available functions: ['fraction', 'decode', 'decode112with18']\n",
      "\n"
     ]
    },
    {
     "name": "stderr",
     "output_type": "stream",
     "text": [
      "Processing vulnerabilities:  55%|█████▌    | 942/1703 [11:25<16:06,  1.27s/it]"
     ]
    },
    {
     "name": "stdout",
     "output_type": "stream",
     "text": [
      "\n",
      "No match found for ['_calculateusdvprice'] in Web3Bugs/contracts/70/contracts/dex-v2/pool/VaderPoolV2.sol. Available functions: ['setfungibletokensupport', 'burn', 'burnfungible', 'mintsynth', 'cumulativeprices', 'mintfungible', '_min', 'setqueue', 'settokensupport', 'setgasthrottle', 'initialize', 'burnsynth', 'constructor']\n",
      "\n",
      "\n",
      "No match found for ['burn'] in Web3Bugs/contracts/70/contracts/dex-v2/router/VaderRouterV2.sol. Available functions: ['_swap', 'addliquidity', 'initialize', 'swapexacttokensfortokens', 'removeliquidity', 'constructor']\n",
      "\n",
      "\n",
      "No match found for ['burn'] in Web3Bugs/contracts/70/contracts/dex/math/VaderMath.sol. Available functions: ['calculateliquidityunits', 'root', 'pow', 'calculateslipadjustment', 'calculateswap', 'delta', 'calculateloss', 'calculateswapreverse']\n",
      "\n"
     ]
    },
    {
     "name": "stderr",
     "output_type": "stream",
     "text": [
      "Processing vulnerabilities:  55%|█████▌    | 945/1703 [11:27<10:13,  1.24it/s]"
     ]
    },
    {
     "name": "stdout",
     "output_type": "stream",
     "text": [
      "\n",
      "No match found for [] in Web3Bugs/contracts/70/contracts/reserve/VaderReserve.sol. Available functions: ['reimburseimpermanentloss', 'reserve', '_min', 'grant', 'initialize', 'constructor']\n",
      "\n"
     ]
    },
    {
     "name": "stderr",
     "output_type": "stream",
     "text": [
      "Processing vulnerabilities:  56%|█████▌    | 948/1703 [11:30<11:00,  1.14it/s]"
     ]
    },
    {
     "name": "stdout",
     "output_type": "stream",
     "text": [
      "\n",
      "No match found for ['[mint/burn functions]'] in Web3Bugs/contracts/70/contracts/dex-v2/pool/BasePoolV2.sol. Available functions: ['swap', '_onlyrouter', 'doubleswap', '_mint', '_update', '_supportedtoken', 'getreserves', 'positionforeignasset', '_burn', 'constructor', 'rescue', 'pairsupply', 'mint']\n",
      "\n"
     ]
    },
    {
     "name": "stderr",
     "output_type": "stream",
     "text": [
      "Processing vulnerabilities:  56%|█████▌    | 949/1703 [11:31<12:56,  1.03s/it]"
     ]
    },
    {
     "name": "stdout",
     "output_type": "stream",
     "text": [
      "\n",
      "No match found for ['[mint/burn functions]'] in Web3Bugs/contracts/70/contracts/dex-v2/pool/VaderPoolV2.sol. Available functions: ['setfungibletokensupport', 'burn', 'burnfungible', 'mintsynth', 'cumulativeprices', 'mintfungible', '_min', 'setqueue', 'settokensupport', 'setgasthrottle', 'initialize', 'burnsynth', 'constructor']\n",
      "\n"
     ]
    },
    {
     "name": "stderr",
     "output_type": "stream",
     "text": [
      "Processing vulnerabilities:  56%|█████▌    | 950/1703 [11:32<12:34,  1.00s/it]"
     ]
    },
    {
     "name": "stdout",
     "output_type": "stream",
     "text": [
      "Parsing error in Web3Bugs/contracts/70/contracts/governance/GovernorAlpha.sol: unrecognized expression\n"
     ]
    },
    {
     "name": "stderr",
     "output_type": "stream",
     "text": [
      "Processing vulnerabilities:  56%|█████▌    | 952/1703 [11:34<11:25,  1.10it/s]"
     ]
    },
    {
     "name": "stdout",
     "output_type": "stream",
     "text": [
      "\n",
      "No match found for [] in Web3Bugs/contracts/70/contracts/lbt/LiquidityBasedTWAP.sol. Available functions: ['getvaderprice', 'syncusdvprice', 'setupvader', 'getusdvprice', '_calculatevaderprice', 'getchainlinkprice', '_calculateusdvprice', 'addvaderpair', 'syncvaderprice', 'setupusdv', 'addusdvpair', '_addusdvpair', 'getstalevaderprice', '_updateusdvprice', '_addvaderpair', 'getstaleusdvprice', '_updatevaderprice', 'constructor']\n",
      "\n",
      "\n",
      "No match found for ['validategas'] in Web3Bugs/contracts/70/contracts/dex/utils/GasThrottle.sol. Available functions: []\n",
      "\n"
     ]
    },
    {
     "name": "stderr",
     "output_type": "stream",
     "text": [
      "Processing vulnerabilities:  56%|█████▌    | 954/1703 [11:35<08:07,  1.54it/s]"
     ]
    },
    {
     "name": "stdout",
     "output_type": "stream",
     "text": [
      "\n",
      "No match found for ['validategas'] in Web3Bugs/contracts/70/contracts/dex/pool/BasePool.sol. Available functions: ['swap', '_update', 'getreserves', 'name', '_burn', 'constructor', 'mint']\n",
      "\n"
     ]
    },
    {
     "name": "stderr",
     "output_type": "stream",
     "text": [
      "Processing vulnerabilities:  56%|█████▌    | 955/1703 [11:35<06:21,  1.96it/s]"
     ]
    },
    {
     "name": "stdout",
     "output_type": "stream",
     "text": [
      "\n",
      "No match found for [] in Web3Bugs/contracts/70/contracts/tokens/converter/Converter.sol. Available functions: ['setvesting', 'convert', 'getchainid', 'constructor']\n",
      "\n"
     ]
    },
    {
     "name": "stderr",
     "output_type": "stream",
     "text": [
      "Processing vulnerabilities:  56%|█████▌    | 956/1703 [11:36<07:59,  1.56it/s]"
     ]
    },
    {
     "name": "stdout",
     "output_type": "stream",
     "text": [
      "\n",
      "No match found for ['currentliquidityevaluation'] in Web3Bugs/contracts/70/contracts/lbt/LiquidityBasedTWAP.sol. Available functions: ['getvaderprice', 'syncusdvprice', 'setupvader', 'getusdvprice', '_calculatevaderprice', 'getchainlinkprice', '_calculateusdvprice', 'addvaderpair', 'syncvaderprice', 'setupusdv', 'addusdvpair', '_addusdvpair', 'getstalevaderprice', '_updateusdvprice', '_addvaderpair', 'getstaleusdvprice', '_updatevaderprice', 'constructor']\n",
      "\n"
     ]
    },
    {
     "name": "stderr",
     "output_type": "stream",
     "text": [
      "Processing vulnerabilities:  56%|█████▌    | 957/1703 [11:36<07:03,  1.76it/s]"
     ]
    },
    {
     "name": "stdout",
     "output_type": "stream",
     "text": [
      "Parsing error in Web3Bugs/contracts/44/contracts/swap/Swap.sol: unrecognized expression\n"
     ]
    },
    {
     "name": "stderr",
     "output_type": "stream",
     "text": [
      "Processing vulnerabilities:  56%|█████▋    | 958/1703 [11:37<06:21,  1.95it/s]"
     ]
    },
    {
     "name": "stdout",
     "output_type": "stream",
     "text": [
      "Parsing error in Web3Bugs/contracts/44/contracts/swap/Swap.sol: unrecognized expression\n"
     ]
    },
    {
     "name": "stderr",
     "output_type": "stream",
     "text": [
      "Processing vulnerabilities:  56%|█████▋    | 959/1703 [11:37<05:52,  2.11it/s]"
     ]
    },
    {
     "name": "stdout",
     "output_type": "stream",
     "text": [
      "Parsing error in Web3Bugs/contracts/44/contracts/swap/Swap.sol: unrecognized expression\n"
     ]
    },
    {
     "name": "stderr",
     "output_type": "stream",
     "text": [
      "Processing vulnerabilities:  56%|█████▋    | 960/1703 [11:37<05:31,  2.24it/s]"
     ]
    },
    {
     "name": "stdout",
     "output_type": "stream",
     "text": [
      "Parsing error in Web3Bugs/contracts/44/contracts/swap/Swap.sol: unrecognized expression\n"
     ]
    },
    {
     "name": "stderr",
     "output_type": "stream",
     "text": [
      "Processing vulnerabilities:  57%|█████▋    | 970/1703 [11:44<07:20,  1.66it/s]"
     ]
    },
    {
     "name": "stdout",
     "output_type": "stream",
     "text": [
      "Parsing error in Web3Bugs/contracts/115/supervaults/contracts/SuperVault.sol: unrecognized expression\n"
     ]
    },
    {
     "name": "stderr",
     "output_type": "stream",
     "text": [
      "Processing vulnerabilities:  57%|█████▋    | 971/1703 [11:44<06:08,  1.98it/s]"
     ]
    },
    {
     "name": "stdout",
     "output_type": "stream",
     "text": [
      "\n",
      "No match found for [] in Web3Bugs/contracts/115/core/contracts/oracles/GUniLPOracle.sol. Available functions: ['latestrounddata', 'getrounddata', 'constructor']\n",
      "\n",
      "\n",
      "No match found for ['updateboost'] in Web3Bugs/contracts/115/core/contracts/liquidityMining/v2/SupplyMinerV2.sol. Available functions: ['collateral', 'basedebtchanged', 'syncstake', 'constructor']\n",
      "\n",
      "\n",
      "No match found for ['updateboost'] in Web3Bugs/contracts/115/core/contracts/liquidityMining/v2/DemandMinerV2.sol. Available functions: ['token', 'setfeeconfig', 'withdraw', 'deposit', 'feeconfig', 'feecollector', 'setfeecollector', 'constructor']\n",
      "\n"
     ]
    },
    {
     "name": "stderr",
     "output_type": "stream",
     "text": [
      "Processing vulnerabilities:  57%|█████▋    | 973/1703 [11:46<09:38,  1.26it/s]"
     ]
    },
    {
     "name": "stdout",
     "output_type": "stream",
     "text": [
      "Parsing error in Web3Bugs/contracts/115/supervaults/contracts/SuperVault.sol: unrecognized expression\n"
     ]
    },
    {
     "name": "stderr",
     "output_type": "stream",
     "text": [
      "Processing vulnerabilities:  57%|█████▋    | 974/1703 [11:47<09:13,  1.32it/s]"
     ]
    },
    {
     "name": "stdout",
     "output_type": "stream",
     "text": [
      "Parsing error in Web3Bugs/contracts/115/supervaults/contracts/SuperVault.sol: unrecognized expression\n"
     ]
    },
    {
     "name": "stderr",
     "output_type": "stream",
     "text": [
      "Processing vulnerabilities:  57%|█████▋    | 975/1703 [11:49<12:19,  1.02s/it]"
     ]
    },
    {
     "name": "stdout",
     "output_type": "stream",
     "text": [
      "\n",
      "No match found for [] in Web3Bugs/contracts/115/core/contracts/libraries/ABDKMath64x64.sol. Available functions: ['muli', 'ln', 'touint', 'to128x128', 'fromint', 'log_2', 'inv', 'gavg', 'toint', 'fromuint', 'sub', 'avg', 'div', 'divi', 'pow', 'abs', 'from128x128', 'neg', 'sqrt', 'mul', 'mulu', 'add', 'exp', 'exp_2', 'divuu', 'sqrtu', 'divu']\n",
      "\n"
     ]
    },
    {
     "name": "stderr",
     "output_type": "stream",
     "text": [
      "Processing vulnerabilities:  57%|█████▋    | 977/1703 [11:49<09:02,  1.34it/s]"
     ]
    },
    {
     "name": "stdout",
     "output_type": "stream",
     "text": [
      "\n",
      "No match found for ['deposit'] in Web3Bugs/contracts/190/prepo-monorepo/apps/smart-contracts/core/contracts/WithdrawHook.sol. Available functions: ['setuserwithdrawlimitperperiod', 'getglobalperiodlength', 'getuserperiodlength', 'getlastuserperiodreset', 'setcollateral', 'setglobalwithdrawlimitperperiod', 'setuserperiodlength', 'getlastglobalperiodreset', 'getamountwithdrawnthisperiod', 'setdepositrecord', 'setglobalperiodlength', 'hook', 'getglobalwithdrawlimitperperiod', 'setwithdrawalsallowed', 'getglobalamountwithdrawnthisperiod', 'settreasury', 'getuserwithdrawlimitperperiod', 'getdepositrecord', 'settokensender', 'getcollateral']\n",
      "\n"
     ]
    },
    {
     "name": "stderr",
     "output_type": "stream",
     "text": [
      "Processing vulnerabilities:  57%|█████▋    | 979/1703 [11:50<07:22,  1.64it/s]"
     ]
    },
    {
     "name": "stdout",
     "output_type": "stream",
     "text": [
      "\n",
      "No match found for ['deposit'] in Web3Bugs/contracts/190/prepo-monorepo/apps/smart-contracts/core/contracts/DepositHook.sol. Available functions: ['setdepositrecord', 'setaccountlist', 'setcollateral', 'settreasury', 'hook', 'setcollectionscores', 'getcollateral', 'getdepositrecord', 'setrequiredscore', 'settokensender', 'removecollections', 'setdepositsallowed']\n",
      "\n"
     ]
    },
    {
     "name": "stderr",
     "output_type": "stream",
     "text": [
      "Processing vulnerabilities:  58%|█████▊    | 987/1703 [11:54<06:59,  1.71it/s]"
     ]
    },
    {
     "name": "stdout",
     "output_type": "stream",
     "text": [
      "\n",
      "No match found for [] in Web3Bugs/contracts/56/contracts/v3/alchemix/Alchemist.sol. Available functions: ['_recallfunds', 'acceptgovernance', 'setpegminimum', 'getcdplastdeposit', 'recall', 'flush', 'repay', '_distributetotransmuter', 'setrewards', 'deposit', 'migrate', '_expectcaller', 'getvaultadapter', 'setflushactivator', 'getcdptotaldebt', 'getcdptotaldeposited', 'flushactivevault', 'getvaulttotaldeposited', 'constructor', 'setborrowfee', '_withdrawfundsto', '_updateactivevault', 'vaultcount', 'setemergencyexit', 'harvest', 'withdraw', 'settransmuter', 'setharvestfee', 'mint', 'collateralizationlimit', 'liquidate', 'setcollateralizationlimit', 'recallall', 'setsentinel', 'setpendinggovernance', 'getcdptotalcredit', 'initialize']\n",
      "\n"
     ]
    },
    {
     "name": "stderr",
     "output_type": "stream",
     "text": [
      "Processing vulnerabilities:  58%|█████▊    | 992/1703 [11:56<04:29,  2.64it/s]"
     ]
    },
    {
     "name": "stdout",
     "output_type": "stream",
     "text": [
      "\n",
      "No match found for ['getammratefortoken', 'executeammtokenweight'] in Web3Bugs/contracts/131/protocol/contracts/tokenomics/Minter.sol. Available functions: ['getkeeperinflationrate', 'startinflation', '_mint', 'getamminflationrate', 'settoken', '_executeinflationrateupdate', 'mintnoninflationtokens', 'getlpinflationrate', 'constructor', 'mint', 'executeinflationrateupdate']\n",
      "\n"
     ]
    },
    {
     "name": "stderr",
     "output_type": "stream",
     "text": [
      "Processing vulnerabilities:  58%|█████▊    | 995/1703 [12:00<11:58,  1.02s/it]"
     ]
    },
    {
     "name": "stdout",
     "output_type": "stream",
     "text": [
      "Parsing error in Web3Bugs/contracts/131/protocol/contracts/tokenomics/FeeBurner.sol: unrecognized expression\n"
     ]
    },
    {
     "name": "stderr",
     "output_type": "stream",
     "text": [
      "Processing vulnerabilities:  58%|█████▊    | 996/1703 [12:01<11:38,  1.01it/s]"
     ]
    },
    {
     "name": "stdout",
     "output_type": "stream",
     "text": [
      "Parsing error in Web3Bugs/contracts/131/protocol/contracts/swappers/SwapperRouter.sol: unrecognized expression\n"
     ]
    },
    {
     "name": "stderr",
     "output_type": "stream",
     "text": [
      "Processing vulnerabilities:  59%|█████▊    | 998/1703 [12:02<08:41,  1.35it/s]"
     ]
    },
    {
     "name": "stdout",
     "output_type": "stream",
     "text": [
      "Parsing error in Web3Bugs/contracts/131/protocol/contracts/RewardHandler.sol: unrecognized expression\n",
      "Parsing error in Web3Bugs/contracts/131/protocol/contracts/zaps/PoolMigrationZap.sol: unrecognized expression\n",
      "Parsing error in Web3Bugs/contracts/131/protocol/contracts/RewardHandler.sol: unrecognized expression\n"
     ]
    },
    {
     "name": "stderr",
     "output_type": "stream",
     "text": [
      "Processing vulnerabilities:  59%|█████▊    | 999/1703 [12:04<11:53,  1.01s/it]"
     ]
    },
    {
     "name": "stdout",
     "output_type": "stream",
     "text": [
      "Parsing error in Web3Bugs/contracts/131/protocol/contracts/swappers/SwapperRouter.sol: unrecognized expression\n"
     ]
    },
    {
     "name": "stderr",
     "output_type": "stream",
     "text": [
      "Processing vulnerabilities:  59%|█████▊    | 1000/1703 [12:04<10:33,  1.11it/s]"
     ]
    },
    {
     "name": "stdout",
     "output_type": "stream",
     "text": [
      "Parsing error in Web3Bugs/contracts/131/protocol/contracts/swappers/SwapperRouter.sol: unrecognized expression\n"
     ]
    },
    {
     "name": "stderr",
     "output_type": "stream",
     "text": [
      "Processing vulnerabilities:  59%|█████▉    | 1003/1703 [12:07<09:53,  1.18it/s]"
     ]
    },
    {
     "name": "stdout",
     "output_type": "stream",
     "text": [
      "Parsing error in Web3Bugs/contracts/131/protocol/contracts/actions/topup/TopUpAction.sol: unrecognized expression\n"
     ]
    },
    {
     "name": "stderr",
     "output_type": "stream",
     "text": [
      "Processing vulnerabilities:  59%|█████▉    | 1004/1703 [12:10<18:57,  1.63s/it]"
     ]
    },
    {
     "name": "stdout",
     "output_type": "stream",
     "text": [
      "\n",
      "No match found for ['_removekeepergauge', 'reportfees'] in Web3Bugs/contracts/131/protocol/contracts/actions/topup/TopUpActionFeeHandler.sol. Available functions: ['preparekeeperfee', 'getkeeperfeefraction', 'claimtreasuryfees', 'executekeeperfee', 'setinitialkeepergaugefortoken', 'gettreasuryfeefraction', 'claimkeeperfeesforpool', 'executekeepergauge', 'getkeepergauge', 'resettreasuryfee', 'executetreasuryfee', 'preparekeepergauge', 'payfees', '_getkeepergaugekey', 'preparetreasuryfee', 'resetkeeperfee', 'resetkeepergauge', 'constructor']\n",
      "\n"
     ]
    },
    {
     "name": "stderr",
     "output_type": "stream",
     "text": [
      "Processing vulnerabilities:  59%|█████▉    | 1007/1703 [12:12<11:14,  1.03it/s]"
     ]
    },
    {
     "name": "stdout",
     "output_type": "stream",
     "text": [
      "Parsing error in Web3Bugs/contracts/131/protocol/contracts/RewardHandler.sol: unrecognized expression\n",
      "\n",
      "No match found for ['burnfees'] in Web3Bugs/contracts/131/protocol/contracts/Controller.sol. Available functions: ['cankeeperexecuteaction', 'setinflationmanager', 'gettotalethrequiredforgas', 'executekeeperrequiredstakedbkd', 'addstakervault', 'removepool', 'getkeeperrequiredstakedbkd', 'preparekeeperrequiredstakedbkd', 'resetkeeperrequiredstakedbkd', 'constructor']\n",
      "\n"
     ]
    },
    {
     "name": "stderr",
     "output_type": "stream",
     "text": [
      "Processing vulnerabilities:  59%|█████▉    | 1009/1703 [12:16<15:02,  1.30s/it]"
     ]
    },
    {
     "name": "stdout",
     "output_type": "stream",
     "text": [
      "\n",
      "No match found for [] in Web3Bugs/contracts/101/sublime-v1/contracts/PooledCreditLine/LenderPool.sol. Available functions: ['borrowed', 'repaid', '_updateinterestsharestowithdraw', '_accept', 'withdrawliquidity', '_beforetokentransfer', '_calculatelenderinterest', 'getlenderinfo', 'constructor', 'create', 'terminate', '_withdrawinterest', '_withdrawliquidity', '_calculateprincipalwithdrawable', 'requestcancelled', 'lend', 'calculateprincipalwithdrawable', 'liquidate', '_withdrawtokensafterliquidation', 'withdrawinterest', '_rebalanceinterestwithdrawn', 'withdrawtokensafterliquidation', 'getlenderinterestwithdrawable', 'initialize', 'start']\n",
      "\n"
     ]
    },
    {
     "name": "stderr",
     "output_type": "stream",
     "text": [
      "Processing vulnerabilities:  59%|█████▉    | 1013/1703 [12:23<19:11,  1.67s/it]"
     ]
    },
    {
     "name": "stdout",
     "output_type": "stream",
     "text": [
      "\n",
      "No match found for [] in Web3Bugs/contracts/101/sublime-v1/contracts/PooledCreditLine/PooledCreditLine.sol. Available functions: ['withdrawallcollateral', '_updateprotocolfeecollector', 'close', 'withdrawcollateral', 'repay', 'cancelrequestonlowcollection', '_repay', 'getstatusandupdate', '_updatestateonprincipalchange', '_createrequest', 'updateprotocolfeefraction', '_notifyrequest', 'getrequiredcollateral', 'withdrawablecollateral', '_updateprotocolfeefraction', 'constructor', 'cancelrequest', '_calculateinterestscaled', 'getprincipal', 'getendsat', 'terminate', 'accept', 'calculatecurrentcollateralratio', 'updateprotocolfeecollector', 'getborroweraddress', 'getequivalentcollateraltokens', 'calculatecurrentdebt', '_withdrawborrowamount', 'calculateborrowableamount', '_borrow', 'calculateinterestaccrued', 'request', 'calculatetotalcollateraltokens', '_withdrawallcollateral', 'liquidate', 'cancelrequestonrequestedstateatend', 'depositcollateral', 'borrow', '_equivalentcollateral', '_divandceil', '_transfercollateral', 'initialize', '_cancelrequest']\n",
      "\n"
     ]
    },
    {
     "name": "stderr",
     "output_type": "stream",
     "text": [
      "Processing vulnerabilities:  60%|█████▉    | 1017/1703 [12:27<12:13,  1.07s/it]"
     ]
    },
    {
     "name": "stdout",
     "output_type": "stream",
     "text": [
      "\n",
      "No match found for ['latestanswer'] in Web3Bugs/contracts/18/contracts/UniswapV3Oracle.sol. Available functions: ['_validatepool', 'tokenprice', 'ispoolvalid', 'addpool', 'setminobservations', 'removepool', 'tokensupported', 'settwapperiod', 'ethprice', 'setunipriceconverter', 'constructor']\n",
      "\n"
     ]
    },
    {
     "name": "stderr",
     "output_type": "stream",
     "text": [
      "Processing vulnerabilities:  60%|█████▉    | 1018/1703 [12:28<13:04,  1.15s/it]"
     ]
    },
    {
     "name": "stdout",
     "output_type": "stream",
     "text": [
      "Parsing error in Web3Bugs/contracts/18/contracts/TransferHelper.sol: unrecognized expression\n",
      "Parsing error in Web3Bugs/contracts/18/contracts/TransferHelper.sol: unrecognized expression\n"
     ]
    },
    {
     "name": "stderr",
     "output_type": "stream",
     "text": [
      "Processing vulnerabilities:  60%|██████    | 1028/1703 [12:34<08:38,  1.30it/s]"
     ]
    },
    {
     "name": "stdout",
     "output_type": "stream",
     "text": [
      "\n",
      "No match found for [] in Web3Bugs/contracts/18/contracts/LendingPair.sol. Available functions: ['depositrepayeth', 'accrue', '_withdraw', '_deposit', '_mintsupply', '_lprate', '_mintdebt', 'receive', 'accounthealth', '_wethwithdrawto', 'repay', 'supplyrateperblock', '_borrowrateperblock', '_repay', '_distributereward', '_checkdepositlimit', '_accrueaccountdebt', 'borrowbalance', '_depositrepay', 'withdrawborroweth', 'deposit', '_safetransfer', '_checkoraclesupport', 'liquidateaccount', '_converttokenvalues', 'withdrawborrow', '_validatetoken', 'pendingsupplyinterest', '_checkminreserve', 'repayalleth', 'depositrepay', 'borrowrateperblock', '_pendingborrowinterest', '_createlptoken', 'feerecipient', 'accrueaccount', '_checkborrowlimits', 'supplybalance', '_supplybalance', 'withdraw', '_accrueaccountsupply', '_borrow', 'repayall', '_borrowbalance', '_burndebt', '_newinterest', 'withdrawalleth', '_accrueinterest', 'withdrawall', 'borrow', 'pendingborrowinterest', 'converttokenvalues', '_supplycredit', 'checkaccounthealth', '_burnsupply', '_withdrawborrow', '_accrueaccountinterest', 'initialize', '_systemrate']\n",
      "\n"
     ]
    },
    {
     "name": "stderr",
     "output_type": "stream",
     "text": [
      "Processing vulnerabilities:  61%|██████    | 1032/1703 [12:36<05:25,  2.06it/s]"
     ]
    },
    {
     "name": "stdout",
     "output_type": "stream",
     "text": [
      "\n",
      "No match found for [] in Web3Bugs/contracts/18/contracts/InterestRateModel.sol. Available functions: ['supplyrateperblock', 'borrowrateperblock', 'utilizationrate', 'systemrate']\n",
      "\n"
     ]
    },
    {
     "name": "stderr",
     "output_type": "stream",
     "text": [
      "Processing vulnerabilities:  61%|██████    | 1033/1703 [12:37<06:52,  1.62it/s]"
     ]
    },
    {
     "name": "stdout",
     "output_type": "stream",
     "text": [
      "Parsing error in Web3Bugs/contracts/3/contracts/MarginRouter.sol: unrecognized expression\n",
      "\n",
      "No match found for ['_swap', '_swapexactt4t', 'crossswapexacttokensfortokens'] in Web3Bugs/contracts/3/contracts/UniswapStyleLib.sol. Available functions: ['sorttokens', 'getamountsout', 'getreserves', 'getamountsin', 'getamountin', 'getamountout']\n",
      "\n"
     ]
    },
    {
     "name": "stderr",
     "output_type": "stream",
     "text": [
      "Processing vulnerabilities:  61%|██████    | 1034/1703 [12:38<07:52,  1.42it/s]"
     ]
    },
    {
     "name": "stdout",
     "output_type": "stream",
     "text": [
      "Parsing error in Web3Bugs/contracts/3/contracts/MarginRouter.sol: unrecognized expression\n"
     ]
    },
    {
     "name": "stderr",
     "output_type": "stream",
     "text": [
      "Processing vulnerabilities:  61%|██████    | 1038/1703 [12:39<04:35,  2.42it/s]"
     ]
    },
    {
     "name": "stdout",
     "output_type": "stream",
     "text": [
      "Parsing error in Web3Bugs/contracts/3/contracts/MarginRouter.sol: unrecognized expression\n"
     ]
    },
    {
     "name": "stderr",
     "output_type": "stream",
     "text": [
      "Processing vulnerabilities:  61%|██████    | 1042/1703 [12:41<04:48,  2.29it/s]"
     ]
    },
    {
     "name": "stdout",
     "output_type": "stream",
     "text": [
      "\n",
      "No match found for ['belowmaintenancethreshold'] in Web3Bugs/contracts/3/contracts/IsolatedMarginTrading.sol. Available functions: ['setcoolingoffperiod', 'registercloseaccount', 'registerposition', 'setleveragepercent', 'getlastdepositblock', 'registerunwind', 'setliquidationthresholdpercent', 'constructor']\n",
      "\n"
     ]
    },
    {
     "name": "stderr",
     "output_type": "stream",
     "text": [
      "Processing vulnerabilities:  61%|██████▏   | 1045/1703 [12:42<05:10,  2.12it/s]"
     ]
    },
    {
     "name": "stdout",
     "output_type": "stream",
     "text": [
      "Parsing error in Web3Bugs/contracts/3/contracts/MarginRouter.sol: unrecognized expression\n"
     ]
    },
    {
     "name": "stderr",
     "output_type": "stream",
     "text": [
      "Processing vulnerabilities:  62%|██████▏   | 1053/1703 [12:47<05:45,  1.88it/s]"
     ]
    },
    {
     "name": "stdout",
     "output_type": "stream",
     "text": [
      "Parsing error in Web3Bugs/contracts/3/contracts/MarginRouter.sol: unrecognized expression\n"
     ]
    },
    {
     "name": "stderr",
     "output_type": "stream",
     "text": [
      "Processing vulnerabilities:  62%|██████▏   | 1054/1703 [12:48<05:10,  2.09it/s]"
     ]
    },
    {
     "name": "stdout",
     "output_type": "stream",
     "text": [
      "\n",
      "No match found for [] in Web3Bugs/contracts/3/contracts/Roles.sol. Available functions: ['removerole', 'setmaincharacter', 'getrole', 'giverole', 'constructor']\n",
      "\n"
     ]
    },
    {
     "name": "stderr",
     "output_type": "stream",
     "text": [
      "Processing vulnerabilities:  62%|██████▏   | 1058/1703 [12:50<06:00,  1.79it/s]"
     ]
    },
    {
     "name": "stdout",
     "output_type": "stream",
     "text": [
      "Parsing error in Web3Bugs/contracts/3/contracts/MarginRouter.sol: unrecognized expression\n"
     ]
    },
    {
     "name": "stderr",
     "output_type": "stream",
     "text": [
      "Processing vulnerabilities:  62%|██████▏   | 1064/1703 [12:54<09:01,  1.18it/s]"
     ]
    },
    {
     "name": "stdout",
     "output_type": "stream",
     "text": [
      "Parsing error in Web3Bugs/contracts/3/contracts/MarginRouter.sol: unrecognized expression\n"
     ]
    },
    {
     "name": "stderr",
     "output_type": "stream",
     "text": [
      "Processing vulnerabilities:  63%|██████▎   | 1065/1703 [12:55<08:48,  1.21it/s]"
     ]
    },
    {
     "name": "stdout",
     "output_type": "stream",
     "text": [
      "Parsing error in Web3Bugs/contracts/51/tge/contracts/PublicSale.sol: unrecognized expression\n"
     ]
    },
    {
     "name": "stderr",
     "output_type": "stream",
     "text": [
      "Processing vulnerabilities:  63%|██████▎   | 1070/1703 [13:09<23:35,  2.24s/it]"
     ]
    },
    {
     "name": "stdout",
     "output_type": "stream",
     "text": [
      "\n",
      "No match found for [] in Web3Bugs/contracts/51/customswap/contracts/SwapUtils.sol. Available functions: ['calculatetokenamount', 'getydc', 'swap', '_geta2precise', 'rampa2', 'getvirtualprice', 'setswapfee', 'geta', 'getyd', 'gety', 'getd', 'withdrawadminfees', 'ramptargetprice', 'getyc', 'setadminfee', 'stopramptargetprice', '_geta', 'updateuserwithdrawfee', 'calculatewithdrawonetoken', '_getaprecise', '_xpcalc', 'removeliquidity', 'calculatecurrentwithdrawfee', 'determinea', 'addliquidity', 'calculateswap', '_geta2', 'getadminbalance', 'stoprampa', 'calculatewithdrawonetokendy', '_xp', 'geta2precise', 'setdefaultwithdrawfee', 'removeliquidityimbalance', '_calculateswap', 'stoprampa2', 'getaprecise', 'removeliquidityonetoken', '_calculateremoveliquidity', '_gettargetpriceprecise', '_updateuserwithdrawfee', 'rampa', '_feepertoken', 'getdeposittimestamp', 'calculateremoveliquidity', 'geta2']\n",
      "\n"
     ]
    },
    {
     "name": "stderr",
     "output_type": "stream",
     "text": [
      "Processing vulnerabilities:  63%|██████▎   | 1073/1703 [13:11<13:21,  1.27s/it]"
     ]
    },
    {
     "name": "stdout",
     "output_type": "stream",
     "text": [
      "Parsing error in Web3Bugs/contracts/51/tge/contracts/PublicSale.sol: unrecognized expression\n",
      "\n",
      "No match found for ['transfer', 'transferfrom'] in Web3Bugs/contracts/51/vesting/contracts/AirdropDistribution.sol. Available functions: ['_available_supply', '_updateemission', 'claimexact', 'updateemission', 'available_supply', 'claim', 'validate', 'constructor']\n",
      "\n",
      "\n",
      "No match found for ['transfer', 'transferfrom'] in Web3Bugs/contracts/51/vesting/contracts/InvestorDistribution.sol. Available functions: ['_available_supply', '_updateemission', 'claimexact', 'addinvestor', 'setadmin', 'updateemission', 'available_supply', 'claim', 'modifyinvestor', 'dev_rugpull', 'constructor']\n",
      "\n"
     ]
    },
    {
     "name": "stderr",
     "output_type": "stream",
     "text": [
      "Processing vulnerabilities:  63%|██████▎   | 1074/1703 [13:14<16:47,  1.60s/it]"
     ]
    },
    {
     "name": "stdout",
     "output_type": "stream",
     "text": [
      "\n",
      "No match found for ['transfer', 'transferfrom'] in Web3Bugs/contracts/51/vesting/contracts/Vesting.sol. Available functions: ['calcclaimableamount', '_claimableamount', 'pause', 'claim', 'revoke', 'vest', 'constructor', 'unpause']\n",
      "\n"
     ]
    },
    {
     "name": "stderr",
     "output_type": "stream",
     "text": [
      "Processing vulnerabilities:  63%|██████▎   | 1075/1703 [13:14<14:04,  1.34s/it]"
     ]
    },
    {
     "name": "stdout",
     "output_type": "stream",
     "text": [
      "Parsing error in Web3Bugs/contracts/51/tge/contracts/PublicSale.sol: unrecognized expression\n"
     ]
    },
    {
     "name": "stderr",
     "output_type": "stream",
     "text": [
      "Processing vulnerabilities:  63%|██████▎   | 1076/1703 [13:15<11:43,  1.12s/it]"
     ]
    },
    {
     "name": "stdout",
     "output_type": "stream",
     "text": [
      "\n",
      "No match found for ['set_minter'] in Web3Bugs/contracts/51/customswap/contracts/LPToken.sol. Available functions: ['mint', '_beforetokentransfer', 'constructor']\n",
      "\n"
     ]
    },
    {
     "name": "stderr",
     "output_type": "stream",
     "text": [
      "Processing vulnerabilities:  64%|██████▎   | 1082/1703 [13:17<05:41,  1.82it/s]"
     ]
    },
    {
     "name": "stdout",
     "output_type": "stream",
     "text": [
      "\n",
      "No match found for ['transferownership'] in Web3Bugs/contracts/51/customswap/contracts/Swap.sol. Available functions: ['calculatetokenamount', 'calculateremoveliquidityonetoken', 'swap', 'rampa2', 'getvirtualprice', 'setswapfee', 'geta', 'ramptargetprice', 'gettokenindex', 'setadminfee', 'stopramptargetprice', 'updateuserwithdrawfee', 'gettokenbalance', 'removeliquidity', 'constructor', 'calculatecurrentwithdrawfee', 'addliquidity', 'calculateswap', 'getadminbalance', 'stoprampa', 'geta2precise', 'setdefaultwithdrawfee', 'removeliquidityimbalance', 'stoprampa2', 'calculateremoveliquidity', 'getaprecise', 'removeliquidityonetoken', 'rampa', 'withdrawadminfees', 'getdeposittimestamp', 'gettoken', 'geta2']\n",
      "\n"
     ]
    },
    {
     "name": "stderr",
     "output_type": "stream",
     "text": [
      "Processing vulnerabilities:  64%|██████▎   | 1083/1703 [13:19<08:30,  1.21it/s]"
     ]
    },
    {
     "name": "stdout",
     "output_type": "stream",
     "text": [
      "Parsing error in Web3Bugs/contracts/69/nftx-protocol-v2/contracts/solidity/NFTXMarketplaceZap.sol: unrecognized expression\n"
     ]
    },
    {
     "name": "stderr",
     "output_type": "stream",
     "text": [
      "Processing vulnerabilities:  64%|██████▎   | 1084/1703 [13:19<07:26,  1.39it/s]"
     ]
    },
    {
     "name": "stdout",
     "output_type": "stream",
     "text": [
      "Parsing error in Web3Bugs/contracts/69/nftx-protocol-v2/contracts/solidity/NFTXMarketplaceZap.sol: unrecognized expression\n"
     ]
    },
    {
     "name": "stderr",
     "output_type": "stream",
     "text": [
      "Processing vulnerabilities:  64%|██████▎   | 1085/1703 [13:22<12:39,  1.23s/it]"
     ]
    },
    {
     "name": "stdout",
     "output_type": "stream",
     "text": [
      "Parsing error in Web3Bugs/contracts/69/nftx-protocol-v2/contracts/solidity/NFTXStakingZap.sol: unrecognized expression\n",
      "Parsing error in Web3Bugs/contracts/69/nftx-protocol-v2/contracts/solidity/NFTXV1Buyout.sol: unrecognized expression\n",
      "Parsing error in Web3Bugs/contracts/69/nftx-protocol-v2/contracts/solidity/NFTXMarketplaceZap.sol: unrecognized expression\n"
     ]
    },
    {
     "name": "stderr",
     "output_type": "stream",
     "text": [
      "Processing vulnerabilities:  64%|██████▍   | 1086/1703 [13:26<22:16,  2.17s/it]"
     ]
    },
    {
     "name": "stdout",
     "output_type": "stream",
     "text": [
      "Parsing error in Web3Bugs/contracts/69/nftx-protocol-v2/contracts/solidity/NFTXStakingZap.sol: unrecognized expression\n",
      "Parsing error in Web3Bugs/contracts/69/nftx-protocol-v2/contracts/solidity/NFTXMarketplaceZap.sol: unrecognized expression\n"
     ]
    },
    {
     "name": "stderr",
     "output_type": "stream",
     "text": [
      "Processing vulnerabilities:  64%|██████▍   | 1088/1703 [13:29<18:20,  1.79s/it]"
     ]
    },
    {
     "name": "stdout",
     "output_type": "stream",
     "text": [
      "Parsing error in Web3Bugs/contracts/69/nftx-protocol-v2/contracts/solidity/NFTXStakingZap.sol: unrecognized expression\n",
      "\n",
      "No match found for ['set fees'] in Web3Bugs/contracts/69/nftx-protocol-v2/contracts/solidity/NFTXVaultFactoryUpgradeable.sol. Available functions: ['vaultsforasset', 'allvaults', 'vaultfees', 'deployvault', 'createvault', 'setvaultfees', 'setfactoryfees', '__nftxvaultfactory_init', 'vault', 'seteligibilitymanager', 'assignfees', 'numvaults', 'setfeeexclusion', 'islocked', 'disablevaultfees', 'setzapcontract', 'setfeedistributor']\n",
      "\n"
     ]
    },
    {
     "name": "stderr",
     "output_type": "stream",
     "text": [
      "Processing vulnerabilities:  64%|██████▍   | 1089/1703 [13:31<17:29,  1.71s/it]"
     ]
    },
    {
     "name": "stdout",
     "output_type": "stream",
     "text": [
      "\n",
      "No match found for ['set fees'] in Web3Bugs/contracts/69/nftx-protocol-v2/contracts/solidity/NFTXVaultUpgradeable.sol. Available functions: ['swap', 'assigndefaultfeatures', 'mintto', '_chargeanddistributefees', 'finalizevault', '__nftxvault_init', 'flashloan', 'totalholdings', 'setvaultmetadata', 'receivenfts', 'disablevaultfees', 'vaultfees', 'deployeligibilitystorage', 'setmanager', 'targetswapfee', 'setfees', 'swapto', 'nftidat', 'redeem', 'afterredeemhook', 'setvaultfeatures', 'targetredeemfee', 'randomswapfee', 'allvalidnfts', 'version', 'mint', 'withdrawnftsto', 'transfererc721', 'onlyownerifpaused', 'getrandomtokenidfromvault', 'allholdings', 'onlyprivileged', 'randomredeemfee', 'mintfee', 'redeemto', 'transferfromerc721']\n",
      "\n"
     ]
    },
    {
     "name": "stderr",
     "output_type": "stream",
     "text": [
      "Processing vulnerabilities:  64%|██████▍   | 1090/1703 [13:31<13:36,  1.33s/it]"
     ]
    },
    {
     "name": "stdout",
     "output_type": "stream",
     "text": [
      "\n",
      "No match found for ['approve', 'transferfrom'] in Web3Bugs/contracts/69/nftx-protocol-v2/contracts/solidity/token/XTokenUpgradeable.sol. Available functions: ['_timelockmint', '__xtoken_init', 'mintxtokens', 'burnxtokens', 'timelockuntil', '_transfer', '_burn', 'timelockaccount']\n",
      "\n"
     ]
    },
    {
     "name": "stderr",
     "output_type": "stream",
     "text": [
      "Processing vulnerabilities:  64%|██████▍   | 1092/1703 [13:32<10:41,  1.05s/it]"
     ]
    },
    {
     "name": "stdout",
     "output_type": "stream",
     "text": [
      "Parsing error in Web3Bugs/contracts/69/nftx-protocol-v2/contracts/solidity/NFTXStakingZap.sol: unrecognized expression\n",
      "Parsing error in Web3Bugs/contracts/69/nftx-protocol-v2/contracts/solidity/NFTXStakingZap.sol: unrecognized expression\n"
     ]
    },
    {
     "name": "stderr",
     "output_type": "stream",
     "text": [
      "Processing vulnerabilities:  64%|██████▍   | 1096/1703 [13:37<12:44,  1.26s/it]"
     ]
    },
    {
     "name": "stdout",
     "output_type": "stream",
     "text": [
      "Parsing error in Web3Bugs/contracts/69/nftx-protocol-v2/contracts/solidity/NFTXMarketplaceZap.sol: unrecognized expression\n",
      "\n",
      "No match found for ['distribute'] in Web3Bugs/contracts/69/nftx-protocol-v2/contracts/solidity/token/XTokenUpgradeable.sol. Available functions: ['_timelockmint', '__xtoken_init', 'mintxtokens', 'burnxtokens', 'timelockuntil', '_transfer', '_burn', 'timelockaccount']\n",
      "\n"
     ]
    },
    {
     "name": "stderr",
     "output_type": "stream",
     "text": [
      "Processing vulnerabilities:  64%|██████▍   | 1097/1703 [13:38<12:00,  1.19s/it]"
     ]
    },
    {
     "name": "stdout",
     "output_type": "stream",
     "text": [
      "\n",
      "No match found for ['distribute'] in Web3Bugs/contracts/69/nftx-protocol-v2/contracts/solidity/NFTXInventoryStaking.sol. Available functions: ['__nftxinventorystaking_init', 'iscontract', 'xtokenaddr', '_deployxtoken', 'receiverewards', 'deposit', 'setnftxvaultfactory', 'xtokensharevalue', 'timelockuntil', 'timelockmintfor', '_timelockmintfor', 'balanceof', 'withdraw', 'deployxtokenforvault', 'vaultxtoken']\n",
      "\n"
     ]
    },
    {
     "name": "stderr",
     "output_type": "stream",
     "text": [
      "Processing vulnerabilities:  65%|██████▍   | 1099/1703 [13:39<08:15,  1.22it/s]"
     ]
    },
    {
     "name": "stdout",
     "output_type": "stream",
     "text": [
      "\n",
      "No match found for ['transfer', 'transferfrom'] in Web3Bugs/contracts/69/nftx-protocol-v2/contracts/solidity/token/XTokenUpgradeable.sol. Available functions: ['_timelockmint', '__xtoken_init', 'mintxtokens', 'burnxtokens', 'timelockuntil', '_transfer', '_burn', 'timelockaccount']\n",
      "\n",
      "\n",
      "No match found for ['transfer', 'transferfrom'] in Web3Bugs/contracts/69/nftx-protocol-v2/contracts/solidity/tools/NFTXFlashSwipe.sol. Available functions: ['flashswipewet', 'onflashloan', 'flashredeem', 'flashmint', 'flashswipe', 'flashswipenct', 'claim', 'accumulated']\n",
      "\n"
     ]
    },
    {
     "name": "stderr",
     "output_type": "stream",
     "text": [
      "Processing vulnerabilities:  65%|██████▍   | 1100/1703 [13:41<11:32,  1.15s/it]"
     ]
    },
    {
     "name": "stdout",
     "output_type": "stream",
     "text": [
      "Parsing error in Web3Bugs/contracts/69/nftx-protocol-v2/contracts/solidity/NFTXStakingZap.sol: unrecognized expression\n"
     ]
    },
    {
     "name": "stderr",
     "output_type": "stream",
     "text": [
      "Processing vulnerabilities:  65%|██████▍   | 1102/1703 [13:42<08:08,  1.23it/s]"
     ]
    },
    {
     "name": "stdout",
     "output_type": "stream",
     "text": [
      "\n",
      "No match found for ['call', 'erc20deployedevent::from_logs', 'string::from_utf8'] in Web3Bugs/contracts/27/cosmos-gravity-bridge/solidity/contracts/Gravity.sol. Available functions: ['sendtocosmos', 'testcheckvalidatorsignatures', 'lastlogiccallnonce', 'verifysig', 'testmakecheckpoint', 'checkvalidatorsignatures', 'updatevalset', 'lastbatchnonce', 'submitbatch', 'submitlogiccall', 'constructor', 'deployerc20', 'makecheckpoint']\n",
      "\n",
      "\n",
      "No match found for ['deployerc20', 'check_for_events', 'eth_oracle_main_loop'] in Web3Bugs/contracts/27/cosmos-gravity-bridge/orchestrator/orchestrator/src/ethereum_event_watcher.rs. Available functions: []\n",
      "\n",
      "\n",
      "No match found for ['deployerc20', 'check_for_events', 'eth_oracle_main_loop'] in Web3Bugs/contracts/27/cosmos-gravity-bridge/orchestrator/relayer/src/main_loop.rs. Available functions: []\n",
      "\n"
     ]
    },
    {
     "name": "stderr",
     "output_type": "stream",
     "text": [
      "line 4:4 missing 'constant' at 'clarity'\n",
      "line 4:11 mismatched input ':' expecting '='\n",
      "line 4:19 mismatched input ':' expecting 'constant'\n",
      "line 4:37 mismatched input ',' expecting 'constant'\n",
      "line 4:47 mismatched input 'as' expecting 'constant'\n",
      "line 4:60 mismatched input ',' expecting 'constant'\n",
      "line 4:69 mismatched input '}' expecting 'constant'\n",
      "line 5:4 missing 'constant' at 'cosmos_gravity'\n",
      "line 5:18 mismatched input ':' expecting '='\n",
      "line 5:26 mismatched input ':' expecting 'constant'\n",
      "line 5:62 mismatched input ',' expecting 'constant'\n",
      "line 5:68 mismatched input ':' expecting 'constant'\n",
      "line 5:90 mismatched input '}' expecting 'constant'\n",
      "line 6:4 missing 'constant' at 'deep_space'\n",
      "line 6:14 mismatched input ':' expecting '='\n",
      "line 6:23 mismatched input ';' expecting 'constant'\n",
      "line 7:4 missing 'constant' at 'deep_space'\n",
      "line 7:14 mismatched input ':' expecting '='\n",
      "line 7:21 mismatched input ':' expecting 'constant'\n",
      "line 7:27 mismatched input ',' expecting 'constant'\n",
      "line 7:40 mismatched input ':' expecting 'constant'\n",
      "line 7:53 mismatched input 'as' expecting 'constant'\n",
      "line 7:72 mismatched input '}' expecting 'constant'\n",
      "line 8:4 missing 'constant' at 'gravity_proto'\n",
      "line 8:17 mismatched input ':' expecting '='\n",
      "line 8:26 mismatched input ':' expecting 'constant'\n",
      "line 8:40 mismatched input ':' expecting 'constant'\n",
      "line 8:54 mismatched input 'as' expecting 'constant'\n",
      "line 8:75 mismatched input ';' expecting 'constant'\n",
      "line 9:4 missing 'constant' at 'gravity_utils'\n",
      "line 9:17 mismatched input ':' expecting '='\n",
      "line 9:33 mismatched input ':' expecting 'constant'\n",
      "line 9:62 mismatched input ';' expecting 'constant'\n",
      "line 10:4 missing 'constant' at 'gravity_utils'\n",
      "line 10:17 mismatched input ':' expecting '='\n",
      "line 10:33 mismatched input ':' expecting 'constant'\n",
      "line 10:61 mismatched input ';' expecting 'constant'\n",
      "line 11:4 missing 'constant' at 'gravity_utils'\n",
      "line 11:17 mismatched input ':' expecting '='\n",
      "line 11:24 mismatched input ':' expecting 'constant'\n",
      "line 11:42 mismatched input ':' expecting 'constant'\n",
      "line 12:4 missing 'constant' at 'gravity_utils'\n",
      "line 12:17 mismatched input ':' expecting '='\n",
      "line 1:4 missing 'constant' at 'crate'\n",
      "line 1:9 mismatched input ':' expecting '='\n",
      "line 2:18 mismatched input ':' expecting 'constant'\n",
      "line 2:33 mismatched input ',' expecting 'constant'\n",
      "line 2:53 mismatched input ':' expecting 'constant'\n",
      "line 2:73 mismatched input ',' expecting 'constant'\n",
      "line 3:23 mismatched input ':' expecting 'constant'\n",
      "line 3:42 mismatched input ',' expecting 'constant'\n",
      "line 3:59 mismatched input ':' expecting 'constant'\n",
      "line 3:74 mismatched input ',' expecting 'constant'\n",
      "line 5:4 missing 'constant' at 'clarity'\n",
      "line 5:11 mismatched input ':' expecting '='\n",
      "line 5:20 mismatched input ':' expecting 'constant'\n",
      "line 5:30 mismatched input 'as' expecting 'constant'\n",
      "line 5:43 mismatched input ';' expecting 'constant'\n",
      "line 6:4 missing 'constant' at 'clarity'\n",
      "line 6:11 mismatched input ':' expecting '='\n",
      "line 6:24 mismatched input 'as' expecting 'constant'\n",
      "line 6:40 mismatched input ';' expecting 'constant'\n",
      "line 7:4 missing 'constant' at 'ethereum_gravity'\n",
      "line 7:20 mismatched input ':' expecting '='\n",
      "line 7:27 mismatched input ':' expecting 'constant'\n",
      "line 7:43 mismatched input ';' expecting 'constant'\n",
      "line 8:4 missing 'constant' at 'gravity_proto'\n",
      "line 8:17 mismatched input ':' expecting '='\n",
      "line 8:26 mismatched input ':' expecting 'constant'\n",
      "line 8:40 mismatched input ':' expecting 'constant'\n",
      "line 8:54 mismatched input 'as' expecting 'constant'\n",
      "line 8:75 mismatched input ';' expecting 'constant'\n",
      "line 9:4 missing 'constant' at 'gravity_utils'\n",
      "line 9:17 mismatched input ':' expecting '='\n",
      "line 9:24 mismatched input ':' expecting 'constant'\n",
      "line 9:39 mismatched input ';' expecting 'constant'\n",
      "line 10:4 missing 'constant' at 'std'\n",
      "line 10:7 mismatched input ':' expecting '='\n",
      "line 10:13 mismatched input ':' expecting 'constant'\n",
      "line 10:24 mismatched input ',' expecting 'constant'\n",
      "line 10:33 mismatched input '}' expecting 'constant'\n",
      "line 11:4 missing 'constant' at 'tokio'\n",
      "line 11:9 mismatched input ':' expecting '='\n",
      "line 11:15 mismatched input ':' expecting 'constant'\n",
      "line 11:23 mismatched input 'as' expecting 'constant'\n",
      "line 11:35 mismatched input ';' expecting 'constant'\n",
      "line 12:4 missing 'constant' at 'tonic'\n",
      "line 12:9 mismatched input ':' expecting '='\n",
      "line 12:20 mismatched input ':' expecting 'constant'\n",
      "line 12:29 mismatched input ';' expecting 'constant'\n",
      "line 13:4 missing 'constant' at 'web30'\n",
      "line 13:9 mismatched input ':' expecting '='\n",
      "line 13:17 mismatched input ':' expecting 'constant'\n",
      "line 13:23 mismatched input ';' expecting 'constant'\n",
      "line 15:4 missing 'constant' at 'const'\n",
      "line 15:10 missing '=' at 'LOOP_SPEED'\n",
      "line 15:20 mismatched input ':' expecting 'constant'\n",
      "line 15:31 mismatched input '=' expecting 'constant'\n",
      "line 15:41 mismatched input ':' expecting 'constant'\n",
      "line 15:52 mismatched input '(' expecting 'constant'\n",
      "line 19:4 missing 'constant' at 'async'\n",
      "line 19:10 missing '=' at 'fn'\n",
      "line 19:13 missing ';' at 'relayer_main_loop'\n",
      "line 19:30 mismatched input '(' expecting 'constant'\n",
      "line 20:16 mismatched input ':' expecting 'constant'\n",
      "line 20:31 mismatched input ',' expecting 'constant'\n",
      "line 21:8 mismatched input ':' expecting 'constant'\n",
      "line 21:14 mismatched input ',' expecting 'constant'\n",
      "line 22:15 mismatched input ':' expecting 'constant'\n",
      "line 22:35 mismatched input '<' expecting 'constant'\n",
      "line 22:43 mismatched input '>' expecting 'constant'\n",
      "line 23:28 mismatched input ':' expecting 'constant'\n",
      "line 23:40 mismatched input ',' expecting 'constant'\n",
      "line 24:18 mismatched input ':' expecting 'constant'\n",
      "line 24:34 mismatched input ',' expecting 'constant'\n",
      "line 26:12 missing 'constant' at 'grpc_client'\n",
      "line 27:9 mismatched input '{' expecting 'constant'\n",
      "line 28:23 mismatched input '=' expecting 'constant'\n",
      "line 28:32 mismatched input ':' expecting 'constant'\n",
      "line 28:37 mismatched input '(' expecting 'constant'\n",
      "line 30:33 mismatched input '=' expecting 'constant'\n",
      "line 30:61 mismatched input '(' expecting 'constant'\n",
      "line 30:70 mismatched input '(' expecting 'constant'\n",
      "line 31:27 mismatched input '=' expecting 'constant'\n",
      "line 32:30 mismatched input '(' expecting 'constant'\n",
      "line 32:36 missing 'constant' at 'grpc_client'\n",
      "line 32:47 mismatched input ',' expecting '='\n",
      "line 32:73 mismatched input ',' expecting 'constant'\n",
      "line 32:80 mismatched input ')' expecting 'constant'\n",
      "line 32:87 mismatched input ';' expecting 'constant'\n",
      "line 33:32 mismatched input '(' expecting 'constant'\n",
      "Processing vulnerabilities:  65%|██████▍   | 1103/1703 [13:43<08:42,  1.15it/s]line 1:4 missing 'constant' at 'clarity'\n",
      "line 1:11 mismatched input ':' expecting '='\n",
      "line 1:21 mismatched input ',' expecting 'constant'\n",
      "line 1:30 mismatched input '}' expecting 'constant'\n",
      "line 2:4 missing 'constant' at 'gravity_proto'\n",
      "line 2:17 mismatched input ':' expecting '='\n",
      "line 2:26 mismatched input ':' expecting 'constant'\n",
      "line 2:40 mismatched input ':' expecting 'constant'\n",
      "line 2:54 mismatched input 'as' expecting 'constant'\n",
      "line 2:75 mismatched input ';' expecting 'constant'\n",
      "line 3:4 missing 'constant' at 'gravity_utils'\n",
      "line 3:17 mismatched input ':' expecting '='\n",
      "line 3:24 mismatched input ':' expecting 'constant'\n",
      "line 3:42 mismatched input ':' expecting 'constant'\n",
      "line 4:4 missing 'constant' at 'gravity_utils'\n",
      "line 4:17 mismatched input ':' expecting '='\n",
      "line 4:24 mismatched input ':' expecting 'constant'\n",
      "line 4:44 mismatched input ';' expecting 'constant'\n",
      "line 5:4 missing 'constant' at 'gravity_utils'\n",
      "line 5:17 mismatched input ':' expecting '='\n"
     ]
    },
    {
     "name": "stdout",
     "output_type": "stream",
     "text": [
      "\n",
      "No match found for ['find_latest_valset'] in Web3Bugs/contracts/27/cosmos-gravity-bridge/orchestrator/relayer/src/find_latest_valset.rs. Available functions: []\n",
      "\n"
     ]
    },
    {
     "name": "stderr",
     "output_type": "stream",
     "text": [
      "Processing vulnerabilities:  65%|██████▌   | 1113/1703 [13:47<03:36,  2.73it/s]"
     ]
    },
    {
     "name": "stdout",
     "output_type": "stream",
     "text": [
      "\n",
      "No match found for [] in Web3Bugs/contracts/27/cosmos-gravity-bridge/solidity/contracts/Gravity.sol. Available functions: ['sendtocosmos', 'testcheckvalidatorsignatures', 'lastlogiccallnonce', 'verifysig', 'testmakecheckpoint', 'checkvalidatorsignatures', 'updatevalset', 'lastbatchnonce', 'submitbatch', 'submitlogiccall', 'constructor', 'deployerc20', 'makecheckpoint']\n",
      "\n"
     ]
    },
    {
     "name": "stderr",
     "output_type": "stream",
     "text": [
      "Processing vulnerabilities:  66%|██████▌   | 1116/1703 [13:47<02:44,  3.57it/s]"
     ]
    },
    {
     "name": "stdout",
     "output_type": "stream",
     "text": [
      "\n",
      "No match found for [] in Web3Bugs/contracts/78/contracts/TokenProxies/RebaseProxy.sol. Available functions: ['redeemrate', 'redeem', 'mint', 'constructor']\n",
      "\n",
      "\n",
      "No match found for ['transferandcall'] in Web3Bugs/contracts/78/contracts/Flan.sol. Available functions: ['_setburnontransferfee', 'incrementburnontransferfee', 'increasemintallowance', 'setburnontransferfee', 'approvedmint', '_transfer', 'whitelistminting', 'mint', 'safetransfer', 'constructor']\n",
      "\n"
     ]
    },
    {
     "name": "stderr",
     "output_type": "stream",
     "text": [
      "Processing vulnerabilities:  66%|██████▋   | 1129/1703 [13:54<09:32,  1.00it/s]"
     ]
    },
    {
     "name": "stdout",
     "output_type": "stream",
     "text": [
      "\n",
      "No match found for ['adjustsoul', 'governanceapproved'] in Web3Bugs/contracts/78/contracts/DAO/Governable.sol. Available functions: ['_governanceapproved', 'assertsoulupdateproposal', 'endconfiguration', 'setdao', 'assertsuccessfulproposal', 'constructor']\n",
      "\n",
      "\n",
      "No match found for ['buyflanandburn', 'stablizeflan'] in Web3Bugs/contracts/78/contracts/Limbo.sol. Available functions: ['configurecrossingconfig', 'unstakefor', 'approveunstake', 'unstake', 'claimbonus', 'updatesoul', 'disableprotocol', 'migrate', 'configuresoul', 'rewardadjustdebt', 'stake', '_unstake', 'claimreward', 'claimsecondaryrewards', 'constructor', 'currentsoul', 'set', 'attempttotargetapy', 'enableprotocol', 'adjustsoul', 'getpending', 'configurecrossingparameters']\n",
      "\n"
     ]
    },
    {
     "name": "stderr",
     "output_type": "stream",
     "text": [
      "Processing vulnerabilities:  66%|██████▋   | 1132/1703 [13:57<09:21,  1.02it/s]"
     ]
    },
    {
     "name": "stdout",
     "output_type": "stream",
     "text": [
      "\n",
      "No match found for [] in Web3Bugs/contracts/78/contracts/DAO/LimboDAO.sol. Available functions: ['setapprovedasset', 'burnasset', 'convertfatetoflan', 'getflashgoverner', 'approveflanmintingpower', '_seed', 'transferownershipofthing', 'seed', 'incrementfatefor', 'setfatetoflan', 'vote', 'timeremainingonproposal', 'killdao', 'setproposalconfig', 'erc20nettransfer', 'executecurrentproposal', 'successfulproposal', 'makelive', 'makeproposal', 'seteyebasedassetstake', 'nextproposal']\n",
      "\n"
     ]
    },
    {
     "name": "stderr",
     "output_type": "stream",
     "text": [
      "Processing vulnerabilities:  67%|██████▋   | 1133/1703 [13:58<07:54,  1.20it/s]"
     ]
    },
    {
     "name": "stdout",
     "output_type": "stream",
     "text": [
      "\n",
      "No match found for ['parameterize'] in Web3Bugs/contracts/78/contracts/DAO/ProposalFactory.sol. Available functions: ['orchestrateexecute', 'lodgeproposal', 'changesoulupdateproposal', 'execute', 'togglewhitelistproposal', 'constructor']\n",
      "\n"
     ]
    },
    {
     "name": "stderr",
     "output_type": "stream",
     "text": [
      "Processing vulnerabilities:  67%|██████▋   | 1138/1703 [14:03<09:22,  1.00it/s]"
     ]
    },
    {
     "name": "stdout",
     "output_type": "stream",
     "text": [
      "\n",
      "No match found for ['latestrounddata'] in Web3Bugs/contracts/66/packages/contracts/contracts/PriceFeed.sol. Available functions: ['_chainlinkisbroken', '_tellorisfrozen', '_bothoraclesliveandunbrokenandsimilarprice', '_tellorisbroken', 'fetchprice', '_bothoraclessimilarprice', '_changestatus', '_chainlinkisfrozen', '_chainlinkpricechangeabovemax', '_storetellorprice', '_badchainlinkresponse', '_getprevchainlinkresponse', 'fetchprice_v', '_storeprice', '_scalechainlinkpricebydigits', '_scaletellorpricebydigits', 'setaddresses', '_getcurrenttellorresponse', '_storechainlinkprice', '_getcurrentchainlinkresponse']\n",
      "\n"
     ]
    },
    {
     "name": "stderr",
     "output_type": "stream",
     "text": [
      "Processing vulnerabilities:  67%|██████▋   | 1146/1703 [14:11<08:29,  1.09it/s]"
     ]
    },
    {
     "name": "stdout",
     "output_type": "stream",
     "text": [
      "Parsing error in Web3Bugs/contracts/28/contracts/Liquidity/PostAuctionLauncher.sol: unrecognized expression\n"
     ]
    },
    {
     "name": "stderr",
     "output_type": "stream",
     "text": [
      "Processing vulnerabilities:  67%|██████▋   | 1148/1703 [14:12<07:47,  1.19it/s]"
     ]
    },
    {
     "name": "stdout",
     "output_type": "stream",
     "text": [
      "\n",
      "No match found for ['transfer', 'send'] in Web3Bugs/contracts/28/contracts/MISOFarmFactory.sol. Available functions: ['hasfarmminterrole', 'setintegratorfeepct', 'deployfarm', 'setcurrenttemplateid', 'removefarmtemplate', 'getfarms', 'setminimumfee', 'initmisofarmfactory', 'setdividends', 'getfarmtemplate', 'setlocked', 'gettemplateid', 'numberoffarms', 'createfarm', 'addfarmtemplate']\n",
      "\n",
      "\n",
      "No match found for ['transfer', 'send'] in Web3Bugs/contracts/28/contracts/MISOTokenFactory.sol. Available functions: ['hastokenminterrole', 'setintegratorfeepct', 'setcurrenttemplateid', 'setlocked', 'addtokentemplate', 'deploytoken', 'gettokentemplate', 'setminimumfee', 'gettokens', 'removetokentemplate', 'setdividends', 'createtoken', 'initmisotokenfactory', 'gettemplateid', 'numberoftokens', 'constructor']\n",
      "\n",
      "\n",
      "No match found for ['transfer', 'send'] in Web3Bugs/contracts/28/contracts/MISOMarket.sol. Available functions: ['minimumfee', 'setcurrenttemplateid', 'getauctiontemplate', '_addauctiontemplate', 'setdividends', 'deploymarket', 'getmarkets', 'getmarkettemplateid', 'setintegratorfeepct', 'constructor', 'createmarket', 'setminimumfee', 'setlocked', 'addauctiontemplate', 'hasmarketminterrole', 'numberofauctions', 'initmisomarket', 'removeauctiontemplate', 'gettemplateid']\n",
      "\n"
     ]
    },
    {
     "name": "stderr",
     "output_type": "stream",
     "text": [
      "Processing vulnerabilities:  67%|██████▋   | 1149/1703 [14:14<11:14,  1.22s/it]"
     ]
    },
    {
     "name": "stdout",
     "output_type": "stream",
     "text": [
      "\n",
      "No match found for ['transfer', 'send'] in Web3Bugs/contracts/28/contracts/MISOLauncher.sol. Available functions: ['deploylauncher', 'setintegratorfeepct', 'getliquiditylaunchertemplate', 'setcurrenttemplateid', 'numberofliquiditylaunchercontracts', 'minimumfee', 'getlaunchers', 'getlaunchertemplateid', 'removeliquiditylaunchertemplate', 'addliquiditylaunchertemplate', 'setminimumfee', 'setdividends', 'createlauncher', 'setlocked', 'gettemplateid', 'haslauncherminterrole', 'constructor', 'initmisolauncher']\n",
      "\n"
     ]
    },
    {
     "name": "stderr",
     "output_type": "stream",
     "text": [
      "Processing vulnerabilities:  68%|██████▊   | 1154/1703 [14:18<07:45,  1.18it/s]"
     ]
    },
    {
     "name": "stdout",
     "output_type": "stream",
     "text": [
      "\n",
      "No match found for ['latestanswer'] in Web3Bugs/contracts/17/contracts/pools/oracle/Buoy3Pool.sol. Available functions: ['stabletousd', 'getvirtualprice', 'setbasispointslmit', 'updateratios', 'updateratioswithtolerance', 'gettokenratios', 'poolbalances', 'lptousd', '_updateratios', 'safetycheck', 'getaggregator', '_singlestablefromlp', 'usdtolp', '_usdtolp', 'getpricefeed', 'singlestablefromusd', 'stabletolp', 'constructor', 'abs', '_lptousd', 'singlestabletousd', '_stabletousd', '_stabletolp', 'singlestablefromlp']\n",
      "\n"
     ]
    },
    {
     "name": "stderr",
     "output_type": "stream",
     "text": [
      "Processing vulnerabilities:  68%|██████▊   | 1158/1703 [14:20<04:34,  1.99it/s]"
     ]
    },
    {
     "name": "stdout",
     "output_type": "stream",
     "text": [
      "\n",
      "No match found for ['latestanswer'] in Web3Bugs/contracts/17/contracts/pools/oracle/Buoy3Pool.sol. Available functions: ['stabletousd', 'getvirtualprice', 'setbasispointslmit', 'updateratios', 'updateratioswithtolerance', 'gettokenratios', 'poolbalances', 'lptousd', '_updateratios', 'safetycheck', 'getaggregator', '_singlestablefromlp', 'usdtolp', '_usdtolp', 'getpricefeed', 'singlestablefromusd', 'stabletolp', 'constructor', 'abs', '_lptousd', 'singlestabletousd', '_stabletousd', '_stabletolp', 'singlestablefromlp']\n",
      "\n",
      "\n",
      "No match found for ['factor', 'depositgtoken', 'mintgtoken', '<withdrawal functions>', 'decreasegtokenlastamount', 'mint'] in Web3Bugs/contracts/17/contracts/WithdrawHandler.sol. Available functions: ['_prepareforwithdrawalsingle', '_withdrawsingle', 'getvaultdeltas', '_withdraw', 'withdrawallbalanced', 'withdrawbylptoken', 'withdrawalfee', '_withdrawallsinglefromaccount', 'withdrawbystablecoin', 'setdependencies', '_withdrawbalanced', 'constructor', 'withdrawallsingle']\n",
      "\n"
     ]
    },
    {
     "name": "stderr",
     "output_type": "stream",
     "text": [
      "Processing vulnerabilities:  68%|██████▊   | 1166/1703 [14:27<08:17,  1.08it/s]"
     ]
    },
    {
     "name": "stdout",
     "output_type": "stream",
     "text": [
      "\n",
      "No match found for [] in Web3Bugs/contracts/17/contracts/Controller.sol. Available functions: ['isvalidbigfish', 'distributestrategygainloss', 'stablecoins', 'mintgtoken', 'validgtokenincrease', 'distributecurveassets', 'setwithdrawhandler', 'setreward', 'gtokentotalassets', 'setbigfishthreshold', 'emergency', 'switcheoaonly', 'getskimpercent', 'eoaonly', 'burngtoken', 'setvault', 'gtoken', 'vaults', 'constructor', '_totalassetsemergency', 'getstrategiestargetratio', 'unpause', 'setdeposithandler', 'setwithdrawalfee', 'totalassets', 'realizepricechange', 'getuserassets', 'setutilisationratiolimitgvt', 'setutilisationratiolimitpwrd', 'setcurvevault', 'addreferral', '_totalassets', 'setlifeguard', 'validgtokendecrease', 'pause', 'setinsurance', 'restart', 'addsafeaddress', 'setpnl']\n",
      "\n"
     ]
    },
    {
     "name": "stderr",
     "output_type": "stream",
     "text": [
      "Processing vulnerabilities:  69%|██████▊   | 1167/1703 [14:28<08:10,  1.09it/s]"
     ]
    },
    {
     "name": "stdout",
     "output_type": "stream",
     "text": [
      "\n",
      "No match found for [] in Web3Bugs/contracts/17/contracts/Controller.sol. Available functions: ['isvalidbigfish', 'distributestrategygainloss', 'stablecoins', 'mintgtoken', 'validgtokenincrease', 'distributecurveassets', 'setwithdrawhandler', 'setreward', 'gtokentotalassets', 'setbigfishthreshold', 'emergency', 'switcheoaonly', 'getskimpercent', 'eoaonly', 'burngtoken', 'setvault', 'gtoken', 'vaults', 'constructor', '_totalassetsemergency', 'getstrategiestargetratio', 'unpause', 'setdeposithandler', 'setwithdrawalfee', 'totalassets', 'realizepricechange', 'getuserassets', 'setutilisationratiolimitgvt', 'setutilisationratiolimitpwrd', 'setcurvevault', 'addreferral', '_totalassets', 'setlifeguard', 'validgtokendecrease', 'pause', 'setinsurance', 'restart', 'addsafeaddress', 'setpnl']\n",
      "\n"
     ]
    },
    {
     "name": "stderr",
     "output_type": "stream",
     "text": [
      "Processing vulnerabilities:  69%|██████▊   | 1168/1703 [14:29<08:05,  1.10it/s]"
     ]
    },
    {
     "name": "stdout",
     "output_type": "stream",
     "text": [
      "\n",
      "No match found for [] in Web3Bugs/contracts/17/contracts/Controller.sol. Available functions: ['isvalidbigfish', 'distributestrategygainloss', 'stablecoins', 'mintgtoken', 'validgtokenincrease', 'distributecurveassets', 'setwithdrawhandler', 'setreward', 'gtokentotalassets', 'setbigfishthreshold', 'emergency', 'switcheoaonly', 'getskimpercent', 'eoaonly', 'burngtoken', 'setvault', 'gtoken', 'vaults', 'constructor', '_totalassetsemergency', 'getstrategiestargetratio', 'unpause', 'setdeposithandler', 'setwithdrawalfee', 'totalassets', 'realizepricechange', 'getuserassets', 'setutilisationratiolimitgvt', 'setutilisationratiolimitpwrd', 'setcurvevault', 'addreferral', '_totalassets', 'setlifeguard', 'validgtokendecrease', 'pause', 'setinsurance', 'restart', 'addsafeaddress', 'setpnl']\n",
      "\n"
     ]
    },
    {
     "name": "stderr",
     "output_type": "stream",
     "text": [
      "Processing vulnerabilities:  69%|██████▉   | 1173/1703 [14:36<10:36,  1.20s/it]"
     ]
    },
    {
     "name": "stdout",
     "output_type": "stream",
     "text": [
      "\n",
      "No match found for [] in Web3Bugs/contracts/17/contracts/insurance/Insurance.sol. Available functions: ['setexposurebufferrebalance', 'calculatedepositdeltasonallvaults', 'calculatewithdrawalamountsonallvaults', 'moveassetsfromvaultstolifeguard', '_rebalance', 'sortvaultsbydelta', 'getdelta', 'getlifeguard', 'setwhalethresholddeposit', 'rebalanceforwithdraw', 'getstablepercents', 'setwhalethresholdwithdraw', 'preparecalculation', 'calculatewithdrawalamountsonpartvaults', 'setallocation', 'getstrategiestargetratio', 'calculatevaultswapdata', 'withdraw', 'setcurvevaultpercent', 'rebalance', 'rebalancetrigger', 'getvaultdeltafordeposit', 'calcskim', 'setexposure', 'setunderlyingtokenpercent']\n",
      "\n"
     ]
    },
    {
     "name": "stderr",
     "output_type": "stream",
     "text": [
      "Processing vulnerabilities:  69%|██████▉   | 1179/1703 [14:42<08:14,  1.06it/s]"
     ]
    },
    {
     "name": "stdout",
     "output_type": "stream",
     "text": [
      "\n",
      "No match found for ['rebalancetrigger'] in Web3Bugs/contracts/17/contracts/pools/oracle/Buoy3Pool.sol. Available functions: ['stabletousd', 'getvirtualprice', 'setbasispointslmit', 'updateratios', 'updateratioswithtolerance', 'gettokenratios', 'poolbalances', 'lptousd', '_updateratios', 'safetycheck', 'getaggregator', '_singlestablefromlp', 'usdtolp', '_usdtolp', 'getpricefeed', 'singlestablefromusd', 'stabletolp', 'constructor', 'abs', '_lptousd', 'singlestabletousd', '_stabletousd', '_stabletolp', 'singlestablefromlp']\n",
      "\n"
     ]
    },
    {
     "name": "stderr",
     "output_type": "stream",
     "text": [
      "Processing vulnerabilities:  70%|██████▉   | 1184/1703 [14:43<04:41,  1.84it/s]"
     ]
    },
    {
     "name": "stdout",
     "output_type": "stream",
     "text": [
      "Parsing error in Web3Bugs/contracts/53/contracts/FeeSplitter.sol: unrecognized expression\n",
      "\n",
      "No match found for ['sendfeeswithroyalties', 'addshares', 'create'] in Web3Bugs/contracts/53/contracts/NestedAsset.sol. Available functions: ['removefactory', 'backfilltokenuri', '_settokenuri', 'burn', 'originalowner', 'mintwithmetadata', 'setfactory', 'constructor', 'tokenuri', 'mint']\n",
      "\n"
     ]
    },
    {
     "name": "stderr",
     "output_type": "stream",
     "text": [
      "Processing vulnerabilities:  70%|██████▉   | 1185/1703 [14:45<06:39,  1.30it/s]"
     ]
    },
    {
     "name": "stdout",
     "output_type": "stream",
     "text": [
      "Parsing error in Web3Bugs/contracts/53/contracts/NestedFactory.sol: unrecognized expression\n"
     ]
    },
    {
     "name": "stderr",
     "output_type": "stream",
     "text": [
      "Processing vulnerabilities:  70%|██████▉   | 1186/1703 [14:46<07:09,  1.20it/s]"
     ]
    },
    {
     "name": "stdout",
     "output_type": "stream",
     "text": [
      "Parsing error in Web3Bugs/contracts/53/contracts/NestedFactory.sol: unrecognized expression\n"
     ]
    },
    {
     "name": "stderr",
     "output_type": "stream",
     "text": [
      "Processing vulnerabilities:  70%|██████▉   | 1190/1703 [14:47<04:25,  1.93it/s]"
     ]
    },
    {
     "name": "stdout",
     "output_type": "stream",
     "text": [
      "Parsing error in Web3Bugs/contracts/53/contracts/NestedFactory.sol: unrecognized expression\n"
     ]
    },
    {
     "name": "stderr",
     "output_type": "stream",
     "text": [
      "Processing vulnerabilities:  70%|██████▉   | 1191/1703 [14:48<05:07,  1.67it/s]"
     ]
    },
    {
     "name": "stdout",
     "output_type": "stream",
     "text": [
      "Parsing error in Web3Bugs/contracts/53/contracts/NestedFactory.sol: unrecognized expression\n"
     ]
    },
    {
     "name": "stderr",
     "output_type": "stream",
     "text": [
      "Processing vulnerabilities:  70%|██████▉   | 1192/1703 [14:49<05:55,  1.44it/s]"
     ]
    },
    {
     "name": "stdout",
     "output_type": "stream",
     "text": [
      "Parsing error in Web3Bugs/contracts/53/contracts/NestedFactory.sol: unrecognized expression\n"
     ]
    },
    {
     "name": "stderr",
     "output_type": "stream",
     "text": [
      "Processing vulnerabilities:  70%|███████   | 1193/1703 [14:50<06:27,  1.32it/s]"
     ]
    },
    {
     "name": "stdout",
     "output_type": "stream",
     "text": [
      "Parsing error in Web3Bugs/contracts/53/contracts/NestedFactory.sol: unrecognized expression\n"
     ]
    },
    {
     "name": "stderr",
     "output_type": "stream",
     "text": [
      "Processing vulnerabilities:  70%|███████   | 1194/1703 [14:51<05:28,  1.55it/s]"
     ]
    },
    {
     "name": "stdout",
     "output_type": "stream",
     "text": [
      "Parsing error in Web3Bugs/contracts/81/contracts/TreasuryAction.sol: unrecognized expression\n"
     ]
    },
    {
     "name": "stderr",
     "output_type": "stream",
     "text": [
      "Processing vulnerabilities:  70%|███████   | 1195/1703 [14:51<05:28,  1.54it/s]"
     ]
    },
    {
     "name": "stdout",
     "output_type": "stream",
     "text": [
      "Parsing error in Web3Bugs/contracts/81/contracts/sNOTE.sol: unrecognized expression\n"
     ]
    },
    {
     "name": "stderr",
     "output_type": "stream",
     "text": [
      "Processing vulnerabilities:  70%|███████   | 1197/1703 [14:52<03:57,  2.13it/s]"
     ]
    },
    {
     "name": "stdout",
     "output_type": "stream",
     "text": [
      "\n",
      "No match found for ['latestanswer'] in Web3Bugs/contracts/81/contracts/utils/EIP1271Wallet.sol. Available functions: ['_setslippagelimit', '_setpriceoracle', '_validateorder', '_touint', '_toaddress', '_isvalidsignature', '_tobytes32', 'constructor', '_extractorderinfo', '_touint256', '_extractorderhash']\n",
      "\n"
     ]
    },
    {
     "name": "stderr",
     "output_type": "stream",
     "text": [
      "Processing vulnerabilities:  70%|███████   | 1198/1703 [14:53<04:40,  1.80it/s]"
     ]
    },
    {
     "name": "stdout",
     "output_type": "stream",
     "text": [
      "Parsing error in Web3Bugs/contracts/81/contracts/sNOTE.sol: unrecognized expression\n"
     ]
    },
    {
     "name": "stderr",
     "output_type": "stream",
     "text": [
      "Processing vulnerabilities:  70%|███████   | 1199/1703 [14:53<04:57,  1.70it/s]"
     ]
    },
    {
     "name": "stdout",
     "output_type": "stream",
     "text": [
      "Parsing error in Web3Bugs/contracts/81/contracts/sNOTE.sol: unrecognized expression\n"
     ]
    },
    {
     "name": "stderr",
     "output_type": "stream",
     "text": [
      "Processing vulnerabilities:  70%|███████   | 1200/1703 [14:54<05:17,  1.58it/s]"
     ]
    },
    {
     "name": "stdout",
     "output_type": "stream",
     "text": [
      "Parsing error in Web3Bugs/contracts/81/contracts/sNOTE.sol: unrecognized expression\n"
     ]
    },
    {
     "name": "stderr",
     "output_type": "stream",
     "text": [
      "Processing vulnerabilities:  71%|███████   | 1201/1703 [14:55<05:21,  1.56it/s]"
     ]
    },
    {
     "name": "stdout",
     "output_type": "stream",
     "text": [
      "Parsing error in Web3Bugs/contracts/81/contracts/sNOTE.sol: unrecognized expression\n"
     ]
    },
    {
     "name": "stderr",
     "output_type": "stream",
     "text": [
      "Processing vulnerabilities:  71%|███████   | 1202/1703 [14:55<05:23,  1.55it/s]"
     ]
    },
    {
     "name": "stdout",
     "output_type": "stream",
     "text": [
      "Parsing error in Web3Bugs/contracts/81/contracts/sNOTE.sol: unrecognized expression\n"
     ]
    },
    {
     "name": "stderr",
     "output_type": "stream",
     "text": [
      "Processing vulnerabilities:  71%|███████   | 1208/1703 [14:57<03:41,  2.24it/s]"
     ]
    },
    {
     "name": "stdout",
     "output_type": "stream",
     "text": [
      "\n",
      "No match found for [] in Web3Bugs/contracts/98/quant-protocol/contracts/Controller.sol. Available functions: ['_call', '_neutralizeposition', '_exercise', '_mintspread', '_qtokenpermit', '_checkifunexpiredqtoken', '_collateraltokenapproval', 'operate', 'initialize', '_claimcollateral', '_mintoptionsposition']\n",
      "\n"
     ]
    },
    {
     "name": "stderr",
     "output_type": "stream",
     "text": [
      "Processing vulnerabilities:  71%|███████   | 1210/1703 [14:58<03:34,  2.30it/s]"
     ]
    },
    {
     "name": "stdout",
     "output_type": "stream",
     "text": [
      "\n",
      "No match found for ['latestanswer', 'getanswer'] in Web3Bugs/contracts/98/quant-protocol/contracts/pricing/oracle/ChainlinkOracleManager.sol. Available functions: ['_binarysearchstep', 'isvalidoption', 'getcurrentprice', 'searchroundtosubmit', 'setexpirypriceinregistry', 'setexpirypriceinregistryfallback', '_setexpirypriceinregistrybyround', '_getexpiryprice', 'setexpirypriceinregistrybyround', 'constructor']\n",
      "\n",
      "\n",
      "No match found for ['latestanswer', 'getanswer'] in Web3Bugs/contracts/98/quant-protocol/contracts/pricing/oracle/ChainlinkFixedTimeOracleManager.sol. Available functions: ['_getexpiryprice', 'setfixedtimeupdate', 'isvalidoption', 'constructor']\n",
      "\n"
     ]
    },
    {
     "name": "stderr",
     "output_type": "stream",
     "text": [
      "Processing vulnerabilities:  71%|███████▏  | 1214/1703 [15:00<03:19,  2.45it/s]"
     ]
    },
    {
     "name": "stdout",
     "output_type": "stream",
     "text": [
      "Parsing error in Web3Bugs/contracts/98/quant-protocol/contracts/timelock/TimelockController.sol: unrecognized expression\n"
     ]
    },
    {
     "name": "stderr",
     "output_type": "stream",
     "text": [
      "Processing vulnerabilities:  71%|███████▏  | 1216/1703 [15:01<03:38,  2.23it/s]"
     ]
    },
    {
     "name": "stdout",
     "output_type": "stream",
     "text": [
      "\n",
      "No match found for [] in Web3Bugs/contracts/98/quant-protocol/contracts/libraries/FundsCalculator.sol. Available functions: ['getpayout', 'getcollateralrequirement', 'getpayoutforput', 'getoptioncollateralrequirement', 'getcallcollateralrequirement', 'getpayoutforcall', 'getputcollateralrequirement', 'getpayoutamount']\n",
      "\n"
     ]
    },
    {
     "name": "stderr",
     "output_type": "stream",
     "text": [
      "Processing vulnerabilities:  71%|███████▏  | 1217/1703 [15:02<04:10,  1.94it/s]"
     ]
    },
    {
     "name": "stdout",
     "output_type": "stream",
     "text": [
      "\n",
      "No match found for [] in Web3Bugs/contracts/98/quant-protocol/contracts/Controller.sol. Available functions: ['_call', '_neutralizeposition', '_exercise', '_mintspread', '_qtokenpermit', '_checkifunexpiredqtoken', '_collateraltokenapproval', 'operate', 'initialize', '_claimcollateral', '_mintoptionsposition']\n",
      "\n"
     ]
    },
    {
     "name": "stderr",
     "output_type": "stream",
     "text": [
      "Processing vulnerabilities:  72%|███████▏  | 1219/1703 [15:03<03:13,  2.50it/s]"
     ]
    },
    {
     "name": "stdout",
     "output_type": "stream",
     "text": [
      "\n",
      "No match found for ['currentcumulativeprices'] in Web3Bugs/contracts/90/contracts/UniswapV2PriceOracle.sol. Available functions: ['refreshedassetperbaseinuq', 'supportsinterface', 'constructor', 'lastassetperbaseinuq']\n",
      "\n"
     ]
    },
    {
     "name": "stderr",
     "output_type": "stream",
     "text": [
      "Processing vulnerabilities:  72%|███████▏  | 1221/1703 [15:04<03:25,  2.34it/s]"
     ]
    },
    {
     "name": "stdout",
     "output_type": "stream",
     "text": [
      "\n",
      "No match found for ['latestrounddata'] in Web3Bugs/contracts/90/contracts/ChainlinkPriceOracle.sol. Available functions: ['refreshedassetperbaseinuq', 'addasset', 'lastassetperbaseinuq', 'supportsinterface', 'constructor']\n",
      "\n"
     ]
    },
    {
     "name": "stderr",
     "output_type": "stream",
     "text": [
      "Processing vulnerabilities:  72%|███████▏  | 1222/1703 [15:04<03:24,  2.36it/s]"
     ]
    },
    {
     "name": "stdout",
     "output_type": "stream",
     "text": [
      "\n",
      "No match found for [] in Web3Bugs/contracts/90/contracts/IndexLogic.sol. Available functions: ['mint', 'burn']\n",
      "\n"
     ]
    },
    {
     "name": "stderr",
     "output_type": "stream",
     "text": [
      "Processing vulnerabilities:  72%|███████▏  | 1223/1703 [15:04<03:34,  2.24it/s]"
     ]
    },
    {
     "name": "stdout",
     "output_type": "stream",
     "text": [
      "\n",
      "No match found for ['reweight'] in Web3Bugs/contracts/90/contracts/interfaces/IIndexRegistry.sol. Available functions: ['feepool', 'maxcomponents', 'registerindex', 'totalmarketcap', 'marketcapsof', 'indexlogic', 'orderer', 'priceoracle']\n",
      "\n"
     ]
    },
    {
     "name": "stderr",
     "output_type": "stream",
     "text": [
      "Processing vulnerabilities:  72%|███████▏  | 1228/1703 [15:06<03:06,  2.54it/s]"
     ]
    },
    {
     "name": "stdout",
     "output_type": "stream",
     "text": [
      "\n",
      "No match found for ['transfer'] in Web3Bugs/contracts/23/contracts/external/actions/nTokenAction.sol. Available functions: ['ntokentransferallowance', 'ntokenpresentvalueassetdenominated', 'ntokentransfer', 'ntokenclaimincentives', 'ntokenbalanceof', 'ntokentransferfrom', 'ntokentotalsupply', 'ntokentransferapproveall', '_transfer', 'ntokenpresentvalueunderlyingdenominated', '_getntokenpv', 'ntokentransferapprove']\n",
      "\n"
     ]
    },
    {
     "name": "stderr",
     "output_type": "stream",
     "text": [
      "Processing vulnerabilities:  72%|███████▏  | 1232/1703 [15:08<02:31,  3.11it/s]"
     ]
    },
    {
     "name": "stdout",
     "output_type": "stream",
     "text": [
      "Parsing error in Web3Bugs/contracts/23/contracts/external/adapters/NotionalV1ToNotionalV2.sol: unrecognized expression\n"
     ]
    },
    {
     "name": "stderr",
     "output_type": "stream",
     "text": [
      "Processing vulnerabilities:  72%|███████▏  | 1233/1703 [15:08<03:03,  2.56it/s]"
     ]
    },
    {
     "name": "stdout",
     "output_type": "stream",
     "text": [
      "Parsing error in Web3Bugs/contracts/23/contracts/internal/balances/TokenHandler.sol: unrecognized expression\n"
     ]
    },
    {
     "name": "stderr",
     "output_type": "stream",
     "text": [
      "Processing vulnerabilities:  72%|███████▏  | 1234/1703 [15:09<03:21,  2.32it/s]"
     ]
    },
    {
     "name": "stdout",
     "output_type": "stream",
     "text": [
      "Parsing error in Web3Bugs/contracts/23/contracts/internal/balances/TokenHandler.sol: unrecognized expression\n"
     ]
    },
    {
     "name": "stderr",
     "output_type": "stream",
     "text": [
      "Processing vulnerabilities:  73%|███████▎  | 1236/1703 [15:10<05:08,  1.52it/s]"
     ]
    },
    {
     "name": "stdout",
     "output_type": "stream",
     "text": [
      "\n",
      "No match found for ['getliquiditytokenvalue', 'gethaircutcashclaims', 'getcashclaims'] in Web3Bugs/contracts/23/contracts/internal/markets/Market.sol. Available functions: ['_calculatedelta', '_getexchangerate', 'setmarketstorage', 'calculatetrade', 'getslot', 'getexchangeratefactors', '_updaterateoracle', '_loadmarketstorage', '_getrateanchor', 'getimpliedrate', 'removeliquidity', 'addliquidity', 'setsettlementmarket', 'loadmarketwithsettlementdate', 'loadmarket', 'getexchangeratefromimpliedrate', '_logproportion', 'gettotalliquidity', 'getoraclerate', '_getnetcashamountsunderlying', '_setnewmarketstate', 'getfcashgivencashamount', 'getsettlementmarket']\n",
      "\n"
     ]
    },
    {
     "name": "stderr",
     "output_type": "stream",
     "text": [
      "Processing vulnerabilities:  73%|███████▎  | 1239/1703 [15:13<05:24,  1.43it/s]"
     ]
    },
    {
     "name": "stdout",
     "output_type": "stream",
     "text": [
      "Parsing error in Web3Bugs/contracts/23/contracts/internal/balances/TokenHandler.sol: unrecognized expression\n",
      "\n",
      "No match found for ['latestrounddata'] in Web3Bugs/contracts/23/contracts/internal/valuation/ExchangeRate.sol. Available functions: ['converttoeth', 'buildexchangerate', 'exchangerate', 'convertethto']\n",
      "\n"
     ]
    },
    {
     "name": "stderr",
     "output_type": "stream",
     "text": [
      "Processing vulnerabilities:  73%|███████▎  | 1242/1703 [15:14<02:52,  2.68it/s]"
     ]
    },
    {
     "name": "stdout",
     "output_type": "stream",
     "text": [
      "\n",
      "No match found for [] in Web3Bugs/contracts/23/contracts/external/actions/nTokenAction.sol. Available functions: ['ntokentransferallowance', 'ntokenpresentvalueassetdenominated', 'ntokentransfer', 'ntokenclaimincentives', 'ntokenbalanceof', 'ntokentransferfrom', 'ntokentotalsupply', 'ntokentransferapproveall', '_transfer', 'ntokenpresentvalueunderlyingdenominated', '_getntokenpv', 'ntokentransferapprove']\n",
      "\n"
     ]
    },
    {
     "name": "stderr",
     "output_type": "stream",
     "text": [
      "Processing vulnerabilities:  73%|███████▎  | 1251/1703 [15:17<03:28,  2.17it/s]"
     ]
    },
    {
     "name": "stdout",
     "output_type": "stream",
     "text": [
      "Parsing error in Web3Bugs/contracts/23/contracts/external/actions/ERC1155Action.sol: unrecognized expression\n"
     ]
    },
    {
     "name": "stderr",
     "output_type": "stream",
     "text": [
      "Processing vulnerabilities:  74%|███████▎  | 1252/1703 [15:18<03:50,  1.96it/s]"
     ]
    },
    {
     "name": "stdout",
     "output_type": "stream",
     "text": [
      "Parsing error in Web3Bugs/contracts/23/contracts/external/actions/ERC1155Action.sol: unrecognized expression\n"
     ]
    },
    {
     "name": "stderr",
     "output_type": "stream",
     "text": [
      "Processing vulnerabilities:  74%|███████▎  | 1253/1703 [15:19<04:23,  1.71it/s]"
     ]
    },
    {
     "name": "stdout",
     "output_type": "stream",
     "text": [
      "\n",
      "No match found for ['decimals'] in Web3Bugs/contracts/23/contracts/external/adapters/cTokenAggregator.sol. Available functions: ['getexchangerateview', 'underlying', 'getexchangeratestateful', 'constructor', 'getannualizedsupplyrate']\n",
      "\n"
     ]
    },
    {
     "name": "stderr",
     "output_type": "stream",
     "text": [
      "Processing vulnerabilities:  74%|███████▎  | 1255/1703 [15:20<03:54,  1.91it/s]"
     ]
    },
    {
     "name": "stdout",
     "output_type": "stream",
     "text": [
      "\n",
      "No match found for ['min_voting_period_blocks'] in Web3Bugs/contracts/23/contracts/external/governance/GovernorAlpha.sol. Available functions: ['castvotebysig', 'propose', '__transferguardian', 'queueproposal', '_add96', 'getreceipt', '_add32', 'updateproposalthreshold', 'updatequorumvotes', 'castvote', 'constructor', 'state', 'cancelproposal', 'updatevotingdelayblocks', 'executeproposal', '_schedulebatch', '_computehash', '_executebatch', 'updatevotingperiodblocks', '__abdicate', '_castvote', '_getchainid']\n",
      "\n"
     ]
    },
    {
     "name": "stderr",
     "output_type": "stream",
     "text": [
      "Processing vulnerabilities:  74%|███████▍  | 1257/1703 [15:21<04:11,  1.77it/s]"
     ]
    },
    {
     "name": "stdout",
     "output_type": "stream",
     "text": [
      "Parsing error in Web3Bugs/contracts/23/contracts/internal/balances/TokenHandler.sol: unrecognized expression\n"
     ]
    },
    {
     "name": "stderr",
     "output_type": "stream",
     "text": [
      "Processing vulnerabilities:  74%|███████▍  | 1261/1703 [15:23<03:37,  2.03it/s]"
     ]
    },
    {
     "name": "stdout",
     "output_type": "stream",
     "text": [
      "Parsing error in Web3Bugs/contracts/23/contracts/external/adapters/NotionalV1ToNotionalV2.sol: unrecognized expression\n"
     ]
    },
    {
     "name": "stderr",
     "output_type": "stream",
     "text": [
      "Processing vulnerabilities:  74%|███████▍  | 1263/1703 [15:23<02:32,  2.89it/s]"
     ]
    },
    {
     "name": "stdout",
     "output_type": "stream",
     "text": [
      "Parsing error in Web3Bugs/contracts/23/contracts/external/adapters/NotionalV1ToNotionalV2.sol: unrecognized expression\n",
      "\n",
      "No match found for [] in Web3Bugs/contracts/23/contracts/external/governance/Reservoir.sol. Available functions: ['drip', 'constructor']\n",
      "\n"
     ]
    },
    {
     "name": "stderr",
     "output_type": "stream",
     "text": [
      "Processing vulnerabilities:  74%|███████▍  | 1268/1703 [15:27<05:23,  1.34it/s]"
     ]
    },
    {
     "name": "stdout",
     "output_type": "stream",
     "text": [
      "\n",
      "No match found for ['withdrawerc20token'] in Web3Bugs/contracts/16/src/contracts/TracerPerpetualSwaps.sol. Available functions: ['setpricingcontract', '_updateaccountleverage', 'setfeerate', 'updateaccountsonclaim', 'truemaxleverage', 'setinsurancepoolswitchstage', 'withdrawfees', 'setliquidationcontract', 'setwhitelist', 'deposit', 'setfeereceiver', 'usermarginisvalid', '_updatetracerleverage', 'setmaxleverage', 'getbalance', 'setinsurancecontract', 'setlowestmaxleverage', 'constructor', 'setdeleveragingcliff', 'matchorders', 'transferownership', 'setgasoracle', 'withdraw', '_executetrade', 'settle', 'setfundingratesensitivity', 'updateaccountsonliquidation']\n",
      "\n",
      "\n",
      "No match found for ['applytrade'] in Web3Bugs/contracts/16/src/contracts/TracerPerpetualSwaps.sol. Available functions: ['setpricingcontract', '_updateaccountleverage', 'setfeerate', 'updateaccountsonclaim', 'truemaxleverage', 'setinsurancepoolswitchstage', 'withdrawfees', 'setliquidationcontract', 'setwhitelist', 'deposit', 'setfeereceiver', 'usermarginisvalid', '_updatetracerleverage', 'setmaxleverage', 'getbalance', 'setinsurancecontract', 'setlowestmaxleverage', 'constructor', 'setdeleveragingcliff', 'matchorders', 'transferownership', 'setgasoracle', 'withdraw', '_executetrade', 'settle', 'setfundingratesensitivity', 'updateaccountsonliquidation']\n",
      "\n"
     ]
    },
    {
     "name": "stderr",
     "output_type": "stream",
     "text": [
      "Processing vulnerabilities:  75%|███████▍  | 1275/1703 [15:33<05:01,  1.42it/s]"
     ]
    },
    {
     "name": "stdout",
     "output_type": "stream",
     "text": [
      "\n",
      "No match found for [] in Web3Bugs/contracts/16/src/contracts/lib/LibBalances.sol. Available functions: ['fillamount', 'getfee', 'leveragednotionalvalue', 'applytrade', 'minimummargin', 'tokentowad', 'wadtotoken', 'margin', 'marginisvalid', 'notionalvalue']\n",
      "\n"
     ]
    },
    {
     "name": "stderr",
     "output_type": "stream",
     "text": [
      "Processing vulnerabilities:  76%|███████▌  | 1286/1703 [15:39<04:17,  1.62it/s]"
     ]
    },
    {
     "name": "stdout",
     "output_type": "stream",
     "text": [
      "\n",
      "No match found for ['setinsurancepoolswitchstage', 'setfeerate', 'setdeleveragingcliff'] in Web3Bugs/contracts/16/src/contracts/Insurance.sol. Available functions: ['getpooltarget', 'drainpool', 'getpoolfundingrate', 'getpooluserbalance', 'deposit', 'getpoolholdings', 'withdraw', 'updatepoolamount', 'constructor']\n",
      "\n"
     ]
    },
    {
     "name": "stderr",
     "output_type": "stream",
     "text": [
      "Processing vulnerabilities:  77%|███████▋  | 1307/1703 [15:45<02:54,  2.27it/s]"
     ]
    },
    {
     "name": "stdout",
     "output_type": "stream",
     "text": [
      "\n",
      "No match found for [] in Web3Bugs/contracts/16/src/contracts/Liquidation.sol. Available functions: ['transferownership', 'liquidate', 'claimescrow', 'getliquidationreceipt', 'draininsurancepoolonliquidation', 'setreleasetime', 'calcunitssold', 'checkpartialliquidation', 'setminimumleftovergascostmultiplier', 'claimreceipt', 'setmaxslippage', 'calcamounttoreturn', 'verifyandsubmitliquidation', 'submitliquidation', 'constructor']\n",
      "\n"
     ]
    },
    {
     "name": "stderr",
     "output_type": "stream",
     "text": [
      "Processing vulnerabilities:  77%|███████▋  | 1310/1703 [15:47<04:22,  1.49it/s]"
     ]
    },
    {
     "name": "stdout",
     "output_type": "stream",
     "text": [
      "\n",
      "No match found for [] in Web3Bugs/contracts/21/contracts/facets/PoolBase.sol. Available functions: ['basedata', 'withdrawprotocolbalance', 'setcooldownfee', 'tokentolockxrate', 'getfirstmoneyout', 'getunactivatedstakerspoolbalance', 'getgovpool', 'getsherxunderlying', 'getprotocolpremium', 'getunallocatedsherxfor', 'gettotalsherxperblock', 'unstake', 'getsherxperblock', 'getpremiumlastpaid', 'payoffdebtall', 'gettotalunmintedsherx', 'getunstakeentrysize', 'getprotocolbalance', 'gettotalaccrueddebt', 'getunallocatedsherxstored', 'unstakewindowexpiry', 'isprotocol', 'cleanprotocol', 'bps', 'cancelcooldown', 'getunallocatedsherxtotal', 'isstake', 'getunstakeentry', 'getsherxlastaccrued', 'activatecooldown', 'getinitialunstakeentry', 'getstakerpoolbalance', 'tokentolock', 'getlocktoken', 'depositprotocolbalance', 'getsherxweight', 'getprotocols', 'getstakerspoolbalance', 'gettotalpremiumperblock', 'getaccrueddebt', 'ispremium', 'locktotokenxrate', 'locktotoken', 'getcooldownfee']\n",
      "\n"
     ]
    },
    {
     "name": "stderr",
     "output_type": "stream",
     "text": [
      "Processing vulnerabilities:  77%|███████▋  | 1319/1703 [15:51<02:54,  2.20it/s]"
     ]
    },
    {
     "name": "stdout",
     "output_type": "stream",
     "text": [
      "\n",
      "No match found for ['balanceof', 'withdraw', 'withdrawall'] in Web3Bugs/contracts/21/contracts/facets/PoolStrategy.sol. Available functions: ['basedata', 'strategyremove', 'strategywithdraw', '_enforcestrategy', 'strategydeposit', 'getstrategy', '_enforcegovpool', 'strategywithdrawall', 'bps', 'strategyupdate']\n",
      "\n"
     ]
    },
    {
     "name": "stderr",
     "output_type": "stream",
     "text": [
      "Processing vulnerabilities:  78%|███████▊  | 1324/1703 [15:55<04:23,  1.44it/s]"
     ]
    },
    {
     "name": "stdout",
     "output_type": "stream",
     "text": [
      "\n",
      "No match found for ['_dosherx'] in Web3Bugs/contracts/21/contracts/facets/SherX.sol. Available functions: ['gettotalusdpool', 'getinternaltotalsupply', 'harvestfor', 'getsherxperblock', 'calcunderlyinginstoredusd', 'getsherxbalance', 'gettotalsherxunminted', 'gettotalusdlastsettled', '_beforetokentransfer', 'setweights', 'setinitialweight', 'redeem', 'calcunderlying', 'getinternaltotalsupplysettled', 'getunmintedsherx', 'harvest', 'gettotalsherx', 'gettotalusdpoolstored', 'accruesherx', 'gettotalusdperblock', 'getstoredusd', 'accruesherxwatsons', 'doyield']\n",
      "\n"
     ]
    },
    {
     "name": "stderr",
     "output_type": "stream",
     "text": [
      "Processing vulnerabilities:  79%|███████▊  | 1339/1703 [16:02<01:39,  3.66it/s]"
     ]
    },
    {
     "name": "stdout",
     "output_type": "stream",
     "text": [
      "\n",
      "No match found for [] in Web3Bugs/contracts/21/contracts/facets/PoolBase.sol. Available functions: ['basedata', 'withdrawprotocolbalance', 'setcooldownfee', 'tokentolockxrate', 'getfirstmoneyout', 'getunactivatedstakerspoolbalance', 'getgovpool', 'getsherxunderlying', 'getprotocolpremium', 'getunallocatedsherxfor', 'gettotalsherxperblock', 'unstake', 'getsherxperblock', 'getpremiumlastpaid', 'payoffdebtall', 'gettotalunmintedsherx', 'getunstakeentrysize', 'getprotocolbalance', 'gettotalaccrueddebt', 'getunallocatedsherxstored', 'unstakewindowexpiry', 'isprotocol', 'cleanprotocol', 'bps', 'cancelcooldown', 'getunallocatedsherxtotal', 'isstake', 'getunstakeentry', 'getsherxlastaccrued', 'activatecooldown', 'getinitialunstakeentry', 'getstakerpoolbalance', 'tokentolock', 'getlocktoken', 'depositprotocolbalance', 'getsherxweight', 'getprotocols', 'getstakerspoolbalance', 'gettotalpremiumperblock', 'getaccrueddebt', 'ispremium', 'locktotokenxrate', 'locktotoken', 'getcooldownfee']\n",
      "\n"
     ]
    },
    {
     "name": "stderr",
     "output_type": "stream",
     "text": [
      "Processing vulnerabilities:  79%|███████▉  | 1350/1703 [16:05<01:14,  4.74it/s]"
     ]
    },
    {
     "name": "stdout",
     "output_type": "stream",
     "text": [
      "\n",
      "No match found for [] in Web3Bugs/contracts/67/sandclock/contracts/Vault.sol. Available functions: ['yieldfor', '_createclaim', 'forcewithdraw', 'unsponsor', '_withdraw', '_createdeposit', 'supportsinterface', 'setinvestperc', 'deposit', '_unsponsor', 'claimyield', '_withdrawdeposit', 'updateinvested', 'constructor', '_isintegration', '_blocktimestamp', 'setstrategy', 'forceunsponsor', 'totalunderlyingminussponsored', '_computeshares', 'withdraw', '_transferandcheckunderlying', 'totalunderlying', 'sponsor', 'totalshares', 'investableamount', '_computeamount']\n",
      "\n"
     ]
    },
    {
     "name": "stderr",
     "output_type": "stream",
     "text": [
      "Processing vulnerabilities:  79%|███████▉  | 1352/1703 [16:06<01:30,  3.89it/s]"
     ]
    },
    {
     "name": "stdout",
     "output_type": "stream",
     "text": [
      "\n",
      "No match found for ['onwithdraw', 'ondepositburned'] in Web3Bugs/contracts/67/sandclock/contracts/Vault.sol. Available functions: ['yieldfor', '_createclaim', 'forcewithdraw', 'unsponsor', '_withdraw', '_createdeposit', 'supportsinterface', 'setinvestperc', 'deposit', '_unsponsor', 'claimyield', '_withdrawdeposit', 'updateinvested', 'constructor', '_isintegration', '_blocktimestamp', 'setstrategy', 'forceunsponsor', 'totalunderlyingminussponsored', '_computeshares', 'withdraw', '_transferandcheckunderlying', 'totalunderlying', 'sponsor', 'totalshares', 'investableamount', '_computeamount']\n",
      "\n",
      "\n",
      "No match found for [] in Web3Bugs/contracts/67/sandclock/contracts/strategy/NonUSTStrategy.sol. Available functions: ['_swapusttounderlying', 'dohardwork', 'finishredeemstable', '_swapunderlyingtoust', 'investedassets', 'constructor']\n",
      "\n"
     ]
    },
    {
     "name": "stderr",
     "output_type": "stream",
     "text": [
      "Processing vulnerabilities:  80%|███████▉  | 1356/1703 [16:08<02:23,  2.42it/s]"
     ]
    },
    {
     "name": "stdout",
     "output_type": "stream",
     "text": [
      "\n",
      "No match found for [] in Web3Bugs/contracts/67/sandclock/contracts/Vault.sol. Available functions: ['yieldfor', '_createclaim', 'forcewithdraw', 'unsponsor', '_withdraw', '_createdeposit', 'supportsinterface', 'setinvestperc', 'deposit', '_unsponsor', 'claimyield', '_withdrawdeposit', 'updateinvested', 'constructor', '_isintegration', '_blocktimestamp', 'setstrategy', 'forceunsponsor', 'totalunderlyingminussponsored', '_computeshares', 'withdraw', '_transferandcheckunderlying', 'totalunderlying', 'sponsor', 'totalshares', 'investableamount', '_computeamount']\n",
      "\n",
      "\n",
      "No match found for ['deposit'] in Web3Bugs/contracts/67/sandclock/contracts/strategy/NonUSTStrategy.sol. Available functions: ['_swapusttounderlying', 'dohardwork', 'finishredeemstable', '_swapunderlyingtoust', 'investedassets', 'constructor']\n",
      "\n"
     ]
    },
    {
     "name": "stderr",
     "output_type": "stream",
     "text": [
      "Processing vulnerabilities:  80%|███████▉  | 1359/1703 [16:10<02:54,  1.97it/s]"
     ]
    },
    {
     "name": "stdout",
     "output_type": "stream",
     "text": [
      "\n",
      "No match found for [] in Web3Bugs/contracts/67/sandclock/contracts/strategy/BaseStrategy.sol. Available functions: ['_getunderlyingbalance', 'withdrawalltovault', 'withdrawtovault', 'initredeemstable', '_getaustbalance', 'dohardwork', 'setperffeepct', '_initdepositstable', 'finishredeemstable', '_getustbalance', 'depositoperationlength', 'investedassets', 'redeemoperationlength', 'finishdepositstable', 'constructor']\n",
      "\n"
     ]
    },
    {
     "name": "stderr",
     "output_type": "stream",
     "text": [
      "Processing vulnerabilities:  80%|████████  | 1367/1703 [16:15<03:25,  1.64it/s]"
     ]
    },
    {
     "name": "stdout",
     "output_type": "stream",
     "text": [
      "\n",
      "No match found for [] in Web3Bugs/contracts/67/sandclock/contracts/strategy/BaseStrategy.sol. Available functions: ['_getunderlyingbalance', 'withdrawalltovault', 'withdrawtovault', 'initredeemstable', '_getaustbalance', 'dohardwork', 'setperffeepct', '_initdepositstable', 'finishredeemstable', '_getustbalance', 'depositoperationlength', 'investedassets', 'redeemoperationlength', 'finishdepositstable', 'constructor']\n",
      "\n"
     ]
    },
    {
     "name": "stderr",
     "output_type": "stream",
     "text": [
      "Processing vulnerabilities:  81%|████████  | 1372/1703 [16:16<01:55,  2.86it/s]"
     ]
    },
    {
     "name": "stdout",
     "output_type": "stream",
     "text": [
      "\n",
      "No match found for [] in Web3Bugs/contracts/83/contracts/MasterChef.sol. Available functions: ['getmultiplier', 'updatepool', 'removedepositor', 'deposit', 'pendingconcur', 'adddepositor', 'poollength', 'massupdatepools', 'safeconcurtransfer', 'add', 'withdraw', 'constructor']\n",
      "\n"
     ]
    },
    {
     "name": "stderr",
     "output_type": "stream",
     "text": [
      "Processing vulnerabilities:  81%|████████  | 1378/1703 [16:20<02:47,  1.94it/s]"
     ]
    },
    {
     "name": "stdout",
     "output_type": "stream",
     "text": [
      "\n",
      "No match found for [] in Web3Bugs/contracts/83/contracts/ConvexStakingWrapper.sol. Available functions: ['_checkpoint', 'setrewardpool', 'pause', 'deposit', 'changetreasury', 'rewardlength', '_gettotalsupply', 'currentepoch', 'requestwithdraw', '_getdepositedbalance', 'withdraw', 'addrewards', '_calcrewardintegral', 'constructor', 'unpause']\n",
      "\n"
     ]
    },
    {
     "name": "stderr",
     "output_type": "stream",
     "text": [
      "Processing vulnerabilities:  81%|████████  | 1382/1703 [16:22<02:34,  2.08it/s]"
     ]
    },
    {
     "name": "stdout",
     "output_type": "stream",
     "text": [
      "\n",
      "No match found for [] in Web3Bugs/contracts/83/contracts/MasterChef.sol. Available functions: ['getmultiplier', 'updatepool', 'removedepositor', 'deposit', 'pendingconcur', 'adddepositor', 'poollength', 'massupdatepools', 'safeconcurtransfer', 'add', 'withdraw', 'constructor']\n",
      "\n"
     ]
    },
    {
     "name": "stderr",
     "output_type": "stream",
     "text": [
      "Processing vulnerabilities:  81%|████████▏ | 1387/1703 [16:24<02:24,  2.18it/s]"
     ]
    },
    {
     "name": "stdout",
     "output_type": "stream",
     "text": [
      "\n",
      "No match found for ['exitshelter', 'entershelter', 'donate'] in Web3Bugs/contracts/83/contracts/ConvexStakingWrapper.sol. Available functions: ['_checkpoint', 'setrewardpool', 'pause', 'deposit', 'changetreasury', 'rewardlength', '_gettotalsupply', 'currentepoch', 'requestwithdraw', '_getdepositedbalance', 'withdraw', 'addrewards', '_calcrewardintegral', 'constructor', 'unpause']\n",
      "\n"
     ]
    },
    {
     "name": "stderr",
     "output_type": "stream",
     "text": [
      "Processing vulnerabilities:  82%|████████▏ | 1389/1703 [16:25<02:50,  1.84it/s]"
     ]
    },
    {
     "name": "stdout",
     "output_type": "stream",
     "text": [
      "\n",
      "No match found for ['_checkpoint'] in Web3Bugs/contracts/83/contracts/Shelter.sol. Available functions: ['donate', 'activate', 'withdraw', 'deactivate', 'constructor']\n",
      "\n"
     ]
    },
    {
     "name": "stderr",
     "output_type": "stream",
     "text": [
      "Processing vulnerabilities:  82%|████████▏ | 1390/1703 [16:26<02:57,  1.77it/s]"
     ]
    },
    {
     "name": "stdout",
     "output_type": "stream",
     "text": [
      "\n",
      "No match found for ['entershelter'] in Web3Bugs/contracts/83/contracts/ConvexStakingWrapper.sol. Available functions: ['_checkpoint', 'setrewardpool', 'pause', 'deposit', 'changetreasury', 'rewardlength', '_gettotalsupply', 'currentepoch', 'requestwithdraw', '_getdepositedbalance', 'withdraw', 'addrewards', '_calcrewardintegral', 'constructor', 'unpause']\n",
      "\n"
     ]
    },
    {
     "name": "stderr",
     "output_type": "stream",
     "text": [
      "Processing vulnerabilities:  82%|████████▏ | 1393/1703 [16:27<02:31,  2.04it/s]"
     ]
    },
    {
     "name": "stdout",
     "output_type": "stream",
     "text": [
      "\n",
      "No match found for [] in Web3Bugs/contracts/83/contracts/MasterChef.sol. Available functions: ['getmultiplier', 'updatepool', 'removedepositor', 'deposit', 'pendingconcur', 'adddepositor', 'poollength', 'massupdatepools', 'safeconcurtransfer', 'add', 'withdraw', 'constructor']\n",
      "\n"
     ]
    },
    {
     "name": "stderr",
     "output_type": "stream",
     "text": [
      "Processing vulnerabilities:  82%|████████▏ | 1396/1703 [16:28<02:08,  2.39it/s]"
     ]
    },
    {
     "name": "stdout",
     "output_type": "stream",
     "text": [
      "\n",
      "No match found for [] in Web3Bugs/contracts/83/contracts/MasterChef.sol. Available functions: ['getmultiplier', 'updatepool', 'removedepositor', 'deposit', 'pendingconcur', 'adddepositor', 'poollength', 'massupdatepools', 'safeconcurtransfer', 'add', 'withdraw', 'constructor']\n",
      "\n",
      "\n",
      "No match found for [] in Web3Bugs/contracts/83/contracts/ConvexStakingWrapper.sol. Available functions: ['_checkpoint', 'setrewardpool', 'pause', 'deposit', 'changetreasury', 'rewardlength', '_gettotalsupply', 'currentepoch', 'requestwithdraw', '_getdepositedbalance', 'withdraw', 'addrewards', '_calcrewardintegral', 'constructor', 'unpause']\n",
      "\n",
      "\n",
      "No match found for [] in Web3Bugs/contracts/83/contracts/Shelter.sol. Available functions: ['donate', 'activate', 'withdraw', 'deactivate', 'constructor']\n",
      "\n"
     ]
    },
    {
     "name": "stderr",
     "output_type": "stream",
     "text": [
      "Processing vulnerabilities:  82%|████████▏ | 1398/1703 [16:30<02:43,  1.87it/s]"
     ]
    },
    {
     "name": "stdout",
     "output_type": "stream",
     "text": [
      "\n",
      "No match found for [] in Web3Bugs/contracts/83/contracts/MasterChef.sol. Available functions: ['getmultiplier', 'updatepool', 'removedepositor', 'deposit', 'pendingconcur', 'adddepositor', 'poollength', 'massupdatepools', 'safeconcurtransfer', 'add', 'withdraw', 'constructor']\n",
      "\n"
     ]
    },
    {
     "name": "stderr",
     "output_type": "stream",
     "text": [
      "Processing vulnerabilities:  82%|████████▏ | 1399/1703 [16:30<02:40,  1.89it/s]"
     ]
    },
    {
     "name": "stdout",
     "output_type": "stream",
     "text": [
      "\n",
      "No match found for [] in Web3Bugs/contracts/83/contracts/ConvexStakingWrapper.sol. Available functions: ['_checkpoint', 'setrewardpool', 'pause', 'deposit', 'changetreasury', 'rewardlength', '_gettotalsupply', 'currentepoch', 'requestwithdraw', '_getdepositedbalance', 'withdraw', 'addrewards', '_calcrewardintegral', 'constructor', 'unpause']\n",
      "\n",
      "\n",
      "No match found for [] in Web3Bugs/contracts/83/contracts/StakingRewards.sol. Available functions: ['rewardpertoken', 'totalsupply', 'earned', 'setrewardsdistribution', 'setrewardsduration', 'withdraw', 'exit', 'recovererc20', 'getreward', 'balanceof', 'stake', 'lasttimerewardapplicable', 'notifyrewardamount', 'getrewardforduration', 'constructor']\n",
      "\n"
     ]
    },
    {
     "name": "stderr",
     "output_type": "stream",
     "text": [
      "Processing vulnerabilities:  82%|████████▏ | 1401/1703 [16:32<03:17,  1.53it/s]"
     ]
    },
    {
     "name": "stdout",
     "output_type": "stream",
     "text": [
      "\n",
      "No match found for [] in Web3Bugs/contracts/83/contracts/MasterChef.sol. Available functions: ['getmultiplier', 'updatepool', 'removedepositor', 'deposit', 'pendingconcur', 'adddepositor', 'poollength', 'massupdatepools', 'safeconcurtransfer', 'add', 'withdraw', 'constructor']\n",
      "\n"
     ]
    },
    {
     "name": "stderr",
     "output_type": "stream",
     "text": [
      "Processing vulnerabilities:  82%|████████▏ | 1402/1703 [16:32<03:00,  1.66it/s]"
     ]
    },
    {
     "name": "stdout",
     "output_type": "stream",
     "text": [
      "\n",
      "No match found for ['_calcrewardintegral'] in Web3Bugs/contracts/83/contracts/StakingRewards.sol. Available functions: ['rewardpertoken', 'totalsupply', 'earned', 'setrewardsdistribution', 'setrewardsduration', 'withdraw', 'exit', 'recovererc20', 'getreward', 'balanceof', 'stake', 'lasttimerewardapplicable', 'notifyrewardamount', 'getrewardforduration', 'constructor']\n",
      "\n"
     ]
    },
    {
     "name": "stderr",
     "output_type": "stream",
     "text": [
      "Processing vulnerabilities:  82%|████████▏ | 1403/1703 [16:33<03:01,  1.65it/s]"
     ]
    },
    {
     "name": "stdout",
     "output_type": "stream",
     "text": [
      "\n",
      "No match found for [] in Web3Bugs/contracts/83/contracts/ConvexStakingWrapper.sol. Available functions: ['_checkpoint', 'setrewardpool', 'pause', 'deposit', 'changetreasury', 'rewardlength', '_gettotalsupply', 'currentepoch', 'requestwithdraw', '_getdepositedbalance', 'withdraw', 'addrewards', '_calcrewardintegral', 'constructor', 'unpause']\n",
      "\n"
     ]
    },
    {
     "name": "stderr",
     "output_type": "stream",
     "text": [
      "Processing vulnerabilities:  83%|████████▎ | 1409/1703 [16:36<02:32,  1.93it/s]"
     ]
    },
    {
     "name": "stdout",
     "output_type": "stream",
     "text": [
      "Parsing error in Web3Bugs/contracts/83/contracts/VoteProxy.sol: unrecognized expression\n"
     ]
    },
    {
     "name": "stderr",
     "output_type": "stream",
     "text": [
      "Processing vulnerabilities:  83%|████████▎ | 1416/1703 [16:48<08:20,  1.74s/it]"
     ]
    },
    {
     "name": "stdout",
     "output_type": "stream",
     "text": [
      "\n",
      "No match found for ['owner/admin functions that change critical parameters'] in Web3Bugs/contracts/22/contracts/contracts/LongShort.sol. Available functions: ['requiremarketexistsmodifierlogic', '_getyieldsplit', '_transferpaymenttokensfromusertoyieldmanager', 'changetreasury', '_getamountpaymenttoken', 'changeadmin', '_getmin', 'shiftpositionfromshortnextprice', 'redeemlongnextprice', '_executeoutstandingnextpriceredeems', '_claimanddistributeyieldthenrebalancemarket', 'changemarkettreasurysplitgradient', 'initializemarket', '_mintnextprice', 'updatemarketoracle', 'updatesystemstatemulti', 'executeoutstandingnextpricesettlementsusermulti', '_seedmarketinitially', 'getusersconfirmedbutnotsettledsynthbalance', 'mintshortnextprice', 'redeemshortnextprice', 'executeoutstandingnextpricesettlementsuser', '_executeoutstandingnextpricesettlements', '_handlechangeinsynthetictokenstotalsupply', '_shiftpositionnextprice', '_batchconfirmoutstandingpendingactions', '_updatesystemstateinternal', '_redeemnextprice', 'shiftpositionfromlongnextprice', '_handletotalpaymenttokenvaluechangeformarketwithyieldmanager', 'createnewsyntheticmarket', '_getsynthetictokenprice', '_executeoutstandingnextpricetokenshifts', '_executeoutstandingnextpricemints', 'mintlongnextprice', 'updatesystemstate', '_getamountsynthetictoken', '_getequivalentamountsynthetictokensontargetside', 'getamountsynthetictokentomintontargetside', 'initialize', 'adminonlymodifierlogic']\n",
      "\n"
     ]
    },
    {
     "name": "stderr",
     "output_type": "stream",
     "text": [
      "Processing vulnerabilities:  83%|████████▎ | 1418/1703 [16:48<04:49,  1.01s/it]"
     ]
    },
    {
     "name": "stdout",
     "output_type": "stream",
     "text": [
      "\n",
      "No match found for [] in Web3Bugs/contracts/22/contracts/contracts/YieldManagerAave.sol. Available functions: ['depositpaymenttoken', 'removepaymenttokenfrommarket', 'distributeyieldfortreasuryandreturnmarketallocation', 'transferpaymenttokenstouser', 'withdrawtreasuryfunds', 'claimaaverewardstotreasury', 'constructor']\n",
      "\n"
     ]
    },
    {
     "name": "stderr",
     "output_type": "stream",
     "text": [
      "Processing vulnerabilities:  83%|████████▎ | 1420/1703 [16:52<06:42,  1.42s/it]"
     ]
    },
    {
     "name": "stdout",
     "output_type": "stream",
     "text": [
      "\n",
      "No match found for ['sol'] in Web3Bugs/contracts/22/contracts/contracts/LongShort.sol. Available functions: ['requiremarketexistsmodifierlogic', '_getyieldsplit', '_transferpaymenttokensfromusertoyieldmanager', 'changetreasury', '_getamountpaymenttoken', 'changeadmin', '_getmin', 'shiftpositionfromshortnextprice', 'redeemlongnextprice', '_executeoutstandingnextpriceredeems', '_claimanddistributeyieldthenrebalancemarket', 'changemarkettreasurysplitgradient', 'initializemarket', '_mintnextprice', 'updatemarketoracle', 'updatesystemstatemulti', 'executeoutstandingnextpricesettlementsusermulti', '_seedmarketinitially', 'getusersconfirmedbutnotsettledsynthbalance', 'mintshortnextprice', 'redeemshortnextprice', 'executeoutstandingnextpricesettlementsuser', '_executeoutstandingnextpricesettlements', '_handlechangeinsynthetictokenstotalsupply', '_shiftpositionnextprice', '_batchconfirmoutstandingpendingactions', '_updatesystemstateinternal', '_redeemnextprice', 'shiftpositionfromlongnextprice', '_handletotalpaymenttokenvaluechangeformarketwithyieldmanager', 'createnewsyntheticmarket', '_getsynthetictokenprice', '_executeoutstandingnextpricetokenshifts', '_executeoutstandingnextpricemints', 'mintlongnextprice', 'updatesystemstate', '_getamountsynthetictoken', '_getequivalentamountsynthetictokensontargetside', 'getamountsynthetictokentomintontargetside', 'initialize', 'adminonlymodifierlogic']\n",
      "\n"
     ]
    },
    {
     "name": "stderr",
     "output_type": "stream",
     "text": [
      "Processing vulnerabilities:  83%|████████▎ | 1421/1703 [16:54<07:10,  1.53s/it]"
     ]
    },
    {
     "name": "stdout",
     "output_type": "stream",
     "text": [
      "\n",
      "No match found for [] in Web3Bugs/contracts/22/contracts/contracts/Staker.sol. Available functions: ['changemarketlaunchincentiveparameters', '_stake', '_withdraw', 'pushupdatedmarketpricestoupdatefloatissuancecalculations', '_changefloatpercentage', 'changeadmin', 'onlyadminmodifierlogic', 'onlyvalidmarketmodifierlogic', 'claimfloatcustom', '_getmarketlaunchincentiveparameters', 'changefloatpercentage', '_mintaccumulatedfloat', '_changeunstakefee', '_calculateaccumulatedfloat', '_getkvalue', 'shifttokens', '_mintfloat', '_calculateaccumulatedfloatinrange', '_calculatenewcumulativeissuanceperstakedsynth', '_changebalanceincentiveexponent', '_calculatefloatpersecond', '_setcurrentaccumulativeissuanceperstakestakedsynthsnapshot', 'onlylongshortmodifierlogic', 'initialize', 'changebalanceincentiveexponent', 'onlyvalidsyntheticmodifierlogic', 'withdraw', 'addnewstakingfund', 'changeunstakefee', '_calculatetimedeltafromlastaccumulativeissuanceperstakedsynthsnapshot', '_mintaccumulatedfloatmulti', '_changebalanceincentiveequilibriumoffset', 'claimfloatcustomfor', 'stakefromuser', 'withdrawall', 'changebalanceincentiveequilibriumoffset', '_changemarketlaunchincentiveparameters']\n",
      "\n",
      "\n",
      "No match found for [] in Web3Bugs/contracts/22/contracts/contracts/interfaces/aave/ILendingPool.sol. Available functions: ['flashloan', 'liquidationcall', 'getreservedata', 'repay', 'getconfiguration', 'getreservenormalizedincome', 'getuserconfiguration', 'rebalancestableborrowrate', 'deposit', 'setpause', 'setconfiguration', 'paused', 'getreserveslist', 'swapborrowratemode', 'withdraw', 'getaddressesprovider', 'setreserveinterestratestrategyaddress', 'initreserve', 'setuserusereserveascollateral', 'getuseraccountdata', 'finalizetransfer', 'borrow', 'getreservenormalizedvariabledebt']\n",
      "\n"
     ]
    },
    {
     "name": "stderr",
     "output_type": "stream",
     "text": [
      "Processing vulnerabilities:  84%|████████▎ | 1426/1703 [16:56<02:57,  1.56it/s]"
     ]
    },
    {
     "name": "stdout",
     "output_type": "stream",
     "text": [
      "\n",
      "No match found for ['distributeyieldfortreasuryandreturnmarketallocation'] in Web3Bugs/contracts/22/contracts/contracts/LongShort.sol. Available functions: ['requiremarketexistsmodifierlogic', '_getyieldsplit', '_transferpaymenttokensfromusertoyieldmanager', 'changetreasury', '_getamountpaymenttoken', 'changeadmin', '_getmin', 'shiftpositionfromshortnextprice', 'redeemlongnextprice', '_executeoutstandingnextpriceredeems', '_claimanddistributeyieldthenrebalancemarket', 'changemarkettreasurysplitgradient', 'initializemarket', '_mintnextprice', 'updatemarketoracle', 'updatesystemstatemulti', 'executeoutstandingnextpricesettlementsusermulti', '_seedmarketinitially', 'getusersconfirmedbutnotsettledsynthbalance', 'mintshortnextprice', 'redeemshortnextprice', 'executeoutstandingnextpricesettlementsuser', '_executeoutstandingnextpricesettlements', '_handlechangeinsynthetictokenstotalsupply', '_shiftpositionnextprice', '_batchconfirmoutstandingpendingactions', '_updatesystemstateinternal', '_redeemnextprice', 'shiftpositionfromlongnextprice', '_handletotalpaymenttokenvaluechangeformarketwithyieldmanager', 'createnewsyntheticmarket', '_getsynthetictokenprice', '_executeoutstandingnextpricetokenshifts', '_executeoutstandingnextpricemints', 'mintlongnextprice', 'updatesystemstate', '_getamountsynthetictoken', '_getequivalentamountsynthetictokensontargetside', 'getamountsynthetictokentomintontargetside', 'initialize', 'adminonlymodifierlogic']\n",
      "\n"
     ]
    },
    {
     "name": "stderr",
     "output_type": "stream",
     "text": [
      "Processing vulnerabilities:  84%|████████▍ | 1429/1703 [16:59<03:09,  1.45it/s]"
     ]
    },
    {
     "name": "stdout",
     "output_type": "stream",
     "text": [
      "\n",
      "No match found for ['lendingpool'] in Web3Bugs/contracts/22/contracts/contracts/YieldManagerAave.sol. Available functions: ['depositpaymenttoken', 'removepaymenttokenfrommarket', 'distributeyieldfortreasuryandreturnmarketallocation', 'transferpaymenttokenstouser', 'withdrawtreasuryfunds', 'claimaaverewardstotreasury', 'constructor']\n",
      "\n"
     ]
    },
    {
     "name": "stderr",
     "output_type": "stream",
     "text": [
      "Processing vulnerabilities:  84%|████████▍ | 1430/1703 [17:00<04:18,  1.06it/s]"
     ]
    },
    {
     "name": "stdout",
     "output_type": "stream",
     "text": [
      "\n",
      "No match found for [] in Web3Bugs/contracts/22/contracts/contracts/Staker.sol. Available functions: ['changemarketlaunchincentiveparameters', '_stake', '_withdraw', 'pushupdatedmarketpricestoupdatefloatissuancecalculations', '_changefloatpercentage', 'changeadmin', 'onlyadminmodifierlogic', 'onlyvalidmarketmodifierlogic', 'claimfloatcustom', '_getmarketlaunchincentiveparameters', 'changefloatpercentage', '_mintaccumulatedfloat', '_changeunstakefee', '_calculateaccumulatedfloat', '_getkvalue', 'shifttokens', '_mintfloat', '_calculateaccumulatedfloatinrange', '_calculatenewcumulativeissuanceperstakedsynth', '_changebalanceincentiveexponent', '_calculatefloatpersecond', '_setcurrentaccumulativeissuanceperstakestakedsynthsnapshot', 'onlylongshortmodifierlogic', 'initialize', 'changebalanceincentiveexponent', 'onlyvalidsyntheticmodifierlogic', 'withdraw', 'addnewstakingfund', 'changeunstakefee', '_calculatetimedeltafromlastaccumulativeissuanceperstakedsynthsnapshot', '_mintaccumulatedfloatmulti', '_changebalanceincentiveequilibriumoffset', 'claimfloatcustomfor', 'stakefromuser', 'withdrawall', 'changebalanceincentiveequilibriumoffset', '_changemarketlaunchincentiveparameters']\n",
      "\n"
     ]
    },
    {
     "name": "stderr",
     "output_type": "stream",
     "text": [
      "Processing vulnerabilities:  84%|████████▍ | 1431/1703 [17:02<05:24,  1.19s/it]"
     ]
    },
    {
     "name": "stdout",
     "output_type": "stream",
     "text": [
      "\n",
      "No match found for ['initialize'] in Web3Bugs/contracts/22/contracts/contracts/FloatToken.sol. Available functions: ['_beforetokentransfer', 'initializefloattoken', 'mint']\n",
      "\n"
     ]
    },
    {
     "name": "stderr",
     "output_type": "stream",
     "text": [
      "Processing vulnerabilities:  84%|████████▍ | 1438/1703 [17:07<03:07,  1.41it/s]"
     ]
    },
    {
     "name": "stdout",
     "output_type": "stream",
     "text": [
      "\n",
      "No match found for ['sol'] in Web3Bugs/contracts/47/contracts/WrappedIbbtc.sol. Available functions: ['sharesof', 'totalsupply', 'sharestobalance', 'burn', 'pricepershare', 'balancetoshares', 'setoracle', 'transferfrom', 'totalshares', 'transfer', 'balanceof', 'setpendinggovernance', 'acceptpendinggovernance', 'initialize', 'mint']\n",
      "\n"
     ]
    },
    {
     "name": "stderr",
     "output_type": "stream",
     "text": [
      "Processing vulnerabilities:  84%|████████▍ | 1439/1703 [17:08<02:50,  1.55it/s]"
     ]
    },
    {
     "name": "stdout",
     "output_type": "stream",
     "text": [
      "\n",
      "No match found for ['sol'] in Web3Bugs/contracts/47/contracts/WrappedIbbtcEth.sol. Available functions: ['sharesof', 'totalsupply', 'sharestobalance', 'burn', 'balancetoshares', 'setcore', 'transferfrom', 'totalshares', 'transfer', 'balanceof', 'updatepricepershare', 'setpendinggovernance', 'acceptpendinggovernance', 'initialize', 'mint']\n",
      "\n"
     ]
    },
    {
     "name": "stderr",
     "output_type": "stream",
     "text": [
      "Processing vulnerabilities:  85%|████████▍ | 1440/1703 [17:08<02:21,  1.86it/s]"
     ]
    },
    {
     "name": "stdout",
     "output_type": "stream",
     "text": [
      "\n",
      "No match found for [] in Web3Bugs/contracts/47/contracts/WrappedIbbtc.sol. Available functions: ['sharesof', 'totalsupply', 'sharestobalance', 'burn', 'pricepershare', 'balancetoshares', 'setoracle', 'transferfrom', 'totalshares', 'transfer', 'balanceof', 'setpendinggovernance', 'acceptpendinggovernance', 'initialize', 'mint']\n",
      "\n"
     ]
    },
    {
     "name": "stderr",
     "output_type": "stream",
     "text": [
      "Processing vulnerabilities:  85%|████████▍ | 1442/1703 [17:09<02:43,  1.59it/s]"
     ]
    },
    {
     "name": "stdout",
     "output_type": "stream",
     "text": [
      "\n",
      "No match found for ['settleauction', 'bondburn', 'publishallindex'] in Web3Bugs/contracts/41/contracts/contracts/Basket.sol. Available functions: ['auctionburn', 'mintto', 'getpendingweights', 'handlefees', 'burn', 'changelicensefee', 'publishnewindex', 'pullunderlying', 'deletenewindex', 'approveunderlying', 'validateweights', 'pushunderlying', 'changepublisher', 'setnewweights', 'initialize', 'mint', 'updateibratio']\n",
      "\n"
     ]
    },
    {
     "name": "stderr",
     "output_type": "stream",
     "text": [
      "Processing vulnerabilities:  85%|████████▍ | 1446/1703 [17:12<02:46,  1.54it/s]"
     ]
    },
    {
     "name": "stdout",
     "output_type": "stream",
     "text": [
      "\n",
      "No match found for [] in Web3Bugs/contracts/41/contracts/contracts/Basket.sol. Available functions: ['auctionburn', 'mintto', 'getpendingweights', 'handlefees', 'burn', 'changelicensefee', 'publishnewindex', 'pullunderlying', 'deletenewindex', 'approveunderlying', 'validateweights', 'pushunderlying', 'changepublisher', 'setnewweights', 'initialize', 'mint', 'updateibratio']\n",
      "\n"
     ]
    },
    {
     "name": "stderr",
     "output_type": "stream",
     "text": [
      "Processing vulnerabilities:  85%|████████▌ | 1452/1703 [17:16<03:21,  1.25it/s]"
     ]
    },
    {
     "name": "stdout",
     "output_type": "stream",
     "text": [
      "\n",
      "No match found for [] in Web3Bugs/contracts/29/trident/contracts/pool/IndexPool.sol. Available functions: ['swap', '_div', '_computesingleoutgivenpoolin', '_subflag', 'flashswap', 'updatebarfee', '_balance', '_getamountout', '_powapprox', 'getamountout', 'constructor', 'getassets', '_pow', '_compute', 'mint', 'burn', 'getreservesandweights', '_mul', '_transfer', 'burnsingle']\n",
      "\n"
     ]
    },
    {
     "name": "stderr",
     "output_type": "stream",
     "text": [
      "Processing vulnerabilities:  85%|████████▌ | 1454/1703 [17:19<04:40,  1.13s/it]"
     ]
    },
    {
     "name": "stdout",
     "output_type": "stream",
     "text": [
      "\n",
      "No match found for [] in Web3Bugs/contracts/29/trident/contracts/pool/HybridPool.sol. Available functions: ['swap', '_updatereserves', '_toshare', '_computeliquidity', '_getyd', 'flashswap', '__balance', 'updatebarfee', '_balance', '_computeliquidityfromadjustedbalances', '_nonoptimalmintfee', '_getamountout', 'constructor', 'getamountout', 'getassets', '_handlefee', '_processswap', 'mint', '_getreserves', 'burn', 'getreserves', '_toamount', '_transfer', '_gety', 'burnsingle']\n",
      "\n"
     ]
    },
    {
     "name": "stderr",
     "output_type": "stream",
     "text": [
      "Processing vulnerabilities:  86%|████████▌ | 1461/1703 [17:29<06:52,  1.70s/it]"
     ]
    },
    {
     "name": "stdout",
     "output_type": "stream",
     "text": [
      "\n",
      "No match found for ['within1', 'difference'] in Web3Bugs/contracts/29/trident/contracts/pool/HybridPool.sol. Available functions: ['swap', '_updatereserves', '_toshare', '_computeliquidity', '_getyd', 'flashswap', '__balance', 'updatebarfee', '_balance', '_computeliquidityfromadjustedbalances', '_nonoptimalmintfee', '_getamountout', 'constructor', 'getamountout', 'getassets', '_handlefee', '_processswap', 'mint', '_getreserves', 'burn', 'getreserves', '_toamount', '_transfer', '_gety', 'burnsingle']\n",
      "\n"
     ]
    },
    {
     "name": "stderr",
     "output_type": "stream",
     "text": [
      "Processing vulnerabilities:  86%|████████▌ | 1465/1703 [17:37<08:35,  2.16s/it]"
     ]
    },
    {
     "name": "stdout",
     "output_type": "stream",
     "text": [
      "Parsing error in Web3Bugs/contracts/29/trident/contracts/flat/BentoBoxV1Flat.sol: unrecognized expression\n"
     ]
    },
    {
     "name": "stderr",
     "output_type": "stream",
     "text": [
      "Processing vulnerabilities:  86%|████████▌ | 1468/1703 [17:42<07:16,  1.86s/it]"
     ]
    },
    {
     "name": "stdout",
     "output_type": "stream",
     "text": [
      "Parsing error in Web3Bugs/contracts/29/trident/contracts/TridentRouter.sol: unrecognized expression\n"
     ]
    },
    {
     "name": "stderr",
     "output_type": "stream",
     "text": [
      "Processing vulnerabilities:  86%|████████▋ | 1469/1703 [17:43<06:08,  1.57s/it]"
     ]
    },
    {
     "name": "stdout",
     "output_type": "stream",
     "text": [
      "Parsing error in Web3Bugs/contracts/29/trident/contracts/TridentRouter.sol: unrecognized expression\n"
     ]
    },
    {
     "name": "stderr",
     "output_type": "stream",
     "text": [
      "Processing vulnerabilities:  86%|████████▋ | 1470/1703 [17:44<05:20,  1.38s/it]"
     ]
    },
    {
     "name": "stdout",
     "output_type": "stream",
     "text": [
      "Parsing error in Web3Bugs/contracts/29/trident/contracts/TridentRouter.sol: unrecognized expression\n"
     ]
    },
    {
     "name": "stderr",
     "output_type": "stream",
     "text": [
      "Processing vulnerabilities:  86%|████████▋ | 1471/1703 [17:44<04:10,  1.08s/it]"
     ]
    },
    {
     "name": "stdout",
     "output_type": "stream",
     "text": [
      "Parsing error in Web3Bugs/contracts/29/trident/contracts/utils/TridentHelper.sol: unrecognized expression\n"
     ]
    },
    {
     "name": "stderr",
     "output_type": "stream",
     "text": [
      "Processing vulnerabilities:  87%|████████▋ | 1475/1703 [17:49<04:01,  1.06s/it]"
     ]
    },
    {
     "name": "stdout",
     "output_type": "stream",
     "text": [
      "Parsing error in Web3Bugs/contracts/29/trident/contracts/TridentRouter.sol: unrecognized expression\n"
     ]
    },
    {
     "name": "stderr",
     "output_type": "stream",
     "text": [
      "Processing vulnerabilities:  87%|████████▋ | 1476/1703 [17:50<04:36,  1.22s/it]"
     ]
    },
    {
     "name": "stdout",
     "output_type": "stream",
     "text": [
      "\n",
      "No match found for ['borrowgivendebtethcollateral'] in Web3Bugs/contracts/96/Timeswap/Core/contracts/interfaces/IPair.sol. Available functions: ['factory', 'totalclaims', 'constantproduct', 'liquidityof', 'collectprotocolfee', 'protocolfee', 'dueof', 'pay', 'protocolfeestored', 'claimsof', 'totalliquidity', 'withdraw', 'lend', 'mint', 'collateral', 'fee', 'burn', 'borrow', 'totaldebtcreated', 'totalreserves', 'asset', 'totalduesof', 'feestored']\n",
      "\n"
     ]
    },
    {
     "name": "stderr",
     "output_type": "stream",
     "text": [
      "Processing vulnerabilities:  87%|████████▋ | 1483/1703 [17:54<01:44,  2.11it/s]"
     ]
    },
    {
     "name": "stdout",
     "output_type": "stream",
     "text": [
      "\n",
      "No match found for [] in Web3Bugs/contracts/102/contracts/refs/OracleRef.sol. Available functions: ['updateoracle', '_setdecimalsnormalizer', 'setbackuporacle', 'setdecimalsnormalizer', 'setoracle', 'readoracle', '_setbackuporacle', '_setoracle', 'invert', 'setdoinvert', '_setdoinvert', 'constructor', '_setdecimalsnormalizerfromtoken']\n",
      "\n"
     ]
    },
    {
     "name": "stderr",
     "output_type": "stream",
     "text": [
      "Processing vulnerabilities:  87%|████████▋ | 1486/1703 [17:56<02:19,  1.55it/s]"
     ]
    },
    {
     "name": "stdout",
     "output_type": "stream",
     "text": [
      "\n",
      "No match found for ['settleauction'] in Web3Bugs/contracts/36/contracts/contracts/Basket.sol. Available functions: ['auctionburn', 'mintto', 'getpendingweights', 'handlefees', 'burn', 'changelicensefee', 'publishnewindex', 'pullunderlying', 'deletenewindex', 'approveunderlying', 'validateweights', 'pushunderlying', 'changepublisher', 'setnewweights', 'initialize', 'mint', 'updateibratio']\n",
      "\n"
     ]
    },
    {
     "name": "stderr",
     "output_type": "stream",
     "text": [
      "Processing vulnerabilities:  87%|████████▋ | 1489/1703 [17:57<01:35,  2.23it/s]"
     ]
    },
    {
     "name": "stdout",
     "output_type": "stream",
     "text": [
      "\n",
      "No match found for ['transfer'] in Web3Bugs/contracts/36/contracts/contracts/Auction.sol. Available functions: ['withdrawbounty', 'bondburn', 'addbounty', 'settleauction', 'startauction', 'killauction', 'initialize', 'bondforrebalance']\n",
      "\n"
     ]
    },
    {
     "name": "stderr",
     "output_type": "stream",
     "text": [
      "Processing vulnerabilities:  88%|████████▊ | 1491/1703 [17:58<01:33,  2.26it/s]"
     ]
    },
    {
     "name": "stdout",
     "output_type": "stream",
     "text": [
      "\n",
      "No match found for ['settleauction', 'auctiondecrement', 'bondforrebalance', 'auctionmultiplier'] in Web3Bugs/contracts/36/contracts/contracts/Factory.sol. Available functions: ['setauctiondecrement', 'setbondpercentdiv', 'setminlicensefee', 'setauctionmultiplier', 'setownersplit', 'proposebasketlicense', 'createbasket', 'proposal', 'getproposalweights', 'constructor']\n",
      "\n"
     ]
    },
    {
     "name": "stderr",
     "output_type": "stream",
     "text": [
      "Processing vulnerabilities:  88%|████████▊ | 1493/1703 [18:00<02:13,  1.57it/s]"
     ]
    },
    {
     "name": "stdout",
     "output_type": "stream",
     "text": [
      "\n",
      "No match found for ['settleauction', 'bondburn', 'publishallindex'] in Web3Bugs/contracts/36/contracts/contracts/Basket.sol. Available functions: ['auctionburn', 'mintto', 'getpendingweights', 'handlefees', 'burn', 'changelicensefee', 'publishnewindex', 'pullunderlying', 'deletenewindex', 'approveunderlying', 'validateweights', 'pushunderlying', 'changepublisher', 'setnewweights', 'initialize', 'mint', 'updateibratio']\n",
      "\n"
     ]
    },
    {
     "name": "stderr",
     "output_type": "stream",
     "text": [
      "Processing vulnerabilities:  88%|████████▊ | 1497/1703 [18:02<01:57,  1.75it/s]"
     ]
    },
    {
     "name": "stdout",
     "output_type": "stream",
     "text": [
      "\n",
      "No match found for [] in Web3Bugs/contracts/36/contracts/contracts/Basket.sol. Available functions: ['auctionburn', 'mintto', 'getpendingweights', 'handlefees', 'burn', 'changelicensefee', 'publishnewindex', 'pullunderlying', 'deletenewindex', 'approveunderlying', 'validateweights', 'pushunderlying', 'changepublisher', 'setnewweights', 'initialize', 'mint', 'updateibratio']\n",
      "\n"
     ]
    },
    {
     "name": "stderr",
     "output_type": "stream",
     "text": [
      "Processing vulnerabilities:  88%|████████▊ | 1498/1703 [18:03<01:59,  1.71it/s]"
     ]
    },
    {
     "name": "stdout",
     "output_type": "stream",
     "text": [
      "\n",
      "No match found for [] in Web3Bugs/contracts/36/contracts/contracts/Auction.sol. Available functions: ['withdrawbounty', 'bondburn', 'addbounty', 'settleauction', 'startauction', 'killauction', 'initialize', 'bondforrebalance']\n",
      "\n",
      "\n",
      "No match found for [] in Web3Bugs/contracts/36/contracts/contracts/Factory.sol. Available functions: ['setauctiondecrement', 'setbondpercentdiv', 'setminlicensefee', 'setauctionmultiplier', 'setownersplit', 'proposebasketlicense', 'createbasket', 'proposal', 'getproposalweights', 'constructor']\n",
      "\n"
     ]
    },
    {
     "name": "stderr",
     "output_type": "stream",
     "text": [
      "Processing vulnerabilities:  88%|████████▊ | 1501/1703 [18:04<01:40,  2.01it/s]"
     ]
    },
    {
     "name": "stdout",
     "output_type": "stream",
     "text": [
      "\n",
      "No match found for ['setbondpercentdiv'] in Web3Bugs/contracts/36/contracts/contracts/Auction.sol. Available functions: ['withdrawbounty', 'bondburn', 'addbounty', 'settleauction', 'startauction', 'killauction', 'initialize', 'bondforrebalance']\n",
      "\n"
     ]
    },
    {
     "name": "stderr",
     "output_type": "stream",
     "text": [
      "Processing vulnerabilities:  88%|████████▊ | 1507/1703 [18:07<01:36,  2.03it/s]"
     ]
    },
    {
     "name": "stdout",
     "output_type": "stream",
     "text": [
      "\n",
      "No match found for ['mintto', 'pullunderlying', 'burn', 'publishnewindex', 'validateweights', 'proposebasketlicense', 'createbasket', 'mint'] in Web3Bugs/contracts/36/contracts/contracts/Auction.sol. Available functions: ['withdrawbounty', 'bondburn', 'addbounty', 'settleauction', 'startauction', 'killauction', 'initialize', 'bondforrebalance']\n",
      "\n"
     ]
    },
    {
     "name": "stderr",
     "output_type": "stream",
     "text": [
      "Processing vulnerabilities:  89%|████████▊ | 1510/1703 [18:09<02:00,  1.60it/s]"
     ]
    },
    {
     "name": "stdout",
     "output_type": "stream",
     "text": [
      "\n",
      "No match found for [] in Web3Bugs/contracts/36/contracts/contracts/Auction.sol. Available functions: ['withdrawbounty', 'bondburn', 'addbounty', 'settleauction', 'startauction', 'killauction', 'initialize', 'bondforrebalance']\n",
      "\n"
     ]
    },
    {
     "name": "stderr",
     "output_type": "stream",
     "text": [
      "Processing vulnerabilities:  89%|████████▊ | 1511/1703 [18:12<03:22,  1.06s/it]"
     ]
    },
    {
     "name": "stdout",
     "output_type": "stream",
     "text": [
      "Parsing error in Web3Bugs/contracts/61/contracts/CreditLine/CreditLine.sol: unrecognized expression\n",
      "Parsing error in Web3Bugs/contracts/61/contracts/SavingsAccount/SavingsAccountUtil.sol: unrecognized expression\n"
     ]
    },
    {
     "name": "stderr",
     "output_type": "stream",
     "text": [
      "Processing vulnerabilities:  89%|████████▉ | 1512/1703 [18:14<04:35,  1.44s/it]"
     ]
    },
    {
     "name": "stdout",
     "output_type": "stream",
     "text": [
      "Parsing error in Web3Bugs/contracts/61/contracts/SavingsAccount/SavingsAccountUtil.sol: unrecognized expression\n"
     ]
    },
    {
     "name": "stderr",
     "output_type": "stream",
     "text": [
      "Processing vulnerabilities:  89%|████████▉ | 1514/1703 [18:17<04:17,  1.36s/it]"
     ]
    },
    {
     "name": "stdout",
     "output_type": "stream",
     "text": [
      "Parsing error in Web3Bugs/contracts/61/contracts/yield/YearnYield.sol: unrecognized expression\n",
      "Parsing error in Web3Bugs/contracts/61/contracts/yield/AaveYield.sol: unrecognized expression\n"
     ]
    },
    {
     "name": "stderr",
     "output_type": "stream",
     "text": [
      "Processing vulnerabilities:  89%|████████▉ | 1515/1703 [18:19<04:38,  1.48s/it]"
     ]
    },
    {
     "name": "stdout",
     "output_type": "stream",
     "text": [
      "Parsing error in Web3Bugs/contracts/61/contracts/SavingsAccount/SavingsAccount.sol: unrecognized expression\n"
     ]
    },
    {
     "name": "stderr",
     "output_type": "stream",
     "text": [
      "Processing vulnerabilities:  89%|████████▉ | 1516/1703 [18:21<05:08,  1.65s/it]"
     ]
    },
    {
     "name": "stdout",
     "output_type": "stream",
     "text": [
      "Parsing error in Web3Bugs/contracts/61/contracts/CreditLine/CreditLine.sol: unrecognized expression\n",
      "Parsing error in Web3Bugs/contracts/61/contracts/yield/AaveYield.sol: unrecognized expression\n"
     ]
    },
    {
     "name": "stderr",
     "output_type": "stream",
     "text": [
      "Processing vulnerabilities:  89%|████████▉ | 1517/1703 [18:22<05:12,  1.68s/it]"
     ]
    },
    {
     "name": "stdout",
     "output_type": "stream",
     "text": [
      "Parsing error in Web3Bugs/contracts/61/contracts/SavingsAccount/SavingsAccount.sol: unrecognized expression\n"
     ]
    },
    {
     "name": "stderr",
     "output_type": "stream",
     "text": [
      "Processing vulnerabilities:  89%|████████▉ | 1518/1703 [18:24<04:43,  1.53s/it]"
     ]
    },
    {
     "name": "stdout",
     "output_type": "stream",
     "text": [
      "Parsing error in Web3Bugs/contracts/61/contracts/SavingsAccount/SavingsAccount.sol: unrecognized expression\n"
     ]
    },
    {
     "name": "stderr",
     "output_type": "stream",
     "text": [
      "Processing vulnerabilities:  89%|████████▉ | 1521/1703 [18:24<02:04,  1.46it/s]"
     ]
    },
    {
     "name": "stdout",
     "output_type": "stream",
     "text": [
      "Parsing error in Web3Bugs/contracts/61/contracts/yield/NoYield.sol: unrecognized expression\n",
      "Parsing error in Web3Bugs/contracts/61/contracts/yield/NoYield.sol: unrecognized expression\n"
     ]
    },
    {
     "name": "stderr",
     "output_type": "stream",
     "text": [
      "Processing vulnerabilities:  89%|████████▉ | 1523/1703 [18:27<03:23,  1.13s/it]"
     ]
    },
    {
     "name": "stdout",
     "output_type": "stream",
     "text": [
      "Parsing error in Web3Bugs/contracts/61/contracts/CreditLine/CreditLine.sol: unrecognized expression\n"
     ]
    },
    {
     "name": "stderr",
     "output_type": "stream",
     "text": [
      "Processing vulnerabilities:  90%|████████▉ | 1527/1703 [18:30<02:01,  1.45it/s]"
     ]
    },
    {
     "name": "stdout",
     "output_type": "stream",
     "text": [
      "Parsing error in Web3Bugs/contracts/61/contracts/yield/NoYield.sol: unrecognized expression\n"
     ]
    },
    {
     "name": "stderr",
     "output_type": "stream",
     "text": [
      "Processing vulnerabilities:  90%|████████▉ | 1528/1703 [18:31<01:51,  1.56it/s]"
     ]
    },
    {
     "name": "stdout",
     "output_type": "stream",
     "text": [
      "Parsing error in Web3Bugs/contracts/61/contracts/yield/AaveYield.sol: unrecognized expression\n",
      "Parsing error in Web3Bugs/contracts/61/contracts/yield/AaveYield.sol: unrecognized expression\n"
     ]
    },
    {
     "name": "stderr",
     "output_type": "stream",
     "text": [
      "Processing vulnerabilities:  90%|████████▉ | 1529/1703 [18:34<03:32,  1.22s/it]"
     ]
    },
    {
     "name": "stdout",
     "output_type": "stream",
     "text": [
      "Parsing error in Web3Bugs/contracts/61/contracts/CreditLine/CreditLine.sol: unrecognized expression\n"
     ]
    },
    {
     "name": "stderr",
     "output_type": "stream",
     "text": [
      "Processing vulnerabilities:  90%|████████▉ | 1531/1703 [18:34<02:19,  1.23it/s]"
     ]
    },
    {
     "name": "stdout",
     "output_type": "stream",
     "text": [
      "\n",
      "No match found for ['deposit', 'createsafeanddepositandboost', 'createsafeanddeposit', 'mint'] in Web3Bugs/contracts/92/src/TurboSafe.sol. Available functions: ['boost', 'sweep', 'afterdeposit', 'less', 'totalassets', 'gib', 'slurp', 'beforewithdraw', 'constructor']\n",
      "\n"
     ]
    },
    {
     "name": "stderr",
     "output_type": "stream",
     "text": [
      "Processing vulnerabilities:  91%|█████████ | 1542/1703 [18:45<03:27,  1.29s/it]"
     ]
    },
    {
     "name": "stdout",
     "output_type": "stream",
     "text": [
      "\n",
      "No match found for ['repayborrowverify', 'seizeverify', 'mintverify', 'borrowverify', 'liquidateborrowverify', 'transferverify'] in Web3Bugs/contracts/7/code/contracts/CToken.sol. Available functions: ['redeemfresh', 'redeeminternal', '_setcomptroller', 'dotransferout', '_reducereservesfresh', 'getaccountsnapshot', 'transfer', 'borrowbalancestoredinternal', 'redeemunderlyinginternal', 'repayborrowbehalfinternal', 'supplyrateperblock', 'transfertokens', 'dotransferin', 'borrowbalancestored', 'totalborrowscurrent', '_addreservesinternal', 'accrueinterest', 'balanceofunderlying', '_acceptadmin', 'getcashprior', 'exchangeratestoredinternal', 'getcash', 'mintinternal', '_addreservesfresh', 'getblocknumber', 'approve', 'allowance', 'borrowrateperblock', 'borrowbalancecurrent', 'borrowfresh', 'liquidateborrowfresh', '_setreservefactorfresh', '_setinterestratemodel', 'liquidateborrowinternal', 'transferfrom', 'initialize', 'repayborrowinternal', '_setreservefactor', '_setpendingadmin', 'mintfresh', 'repayborrowfresh', '_setinterestratemodelfresh', 'exchangeratecurrent', '_reducereserves', 'seize', 'seizeinternal', 'balanceof', 'exchangeratestored', 'borrowinternal']\n",
      "\n",
      "\n",
      "No match found for ['transfer'] in Web3Bugs/contracts/7/code/contracts/Maximillion.sol. Available functions: ['repaybehalfexplicit', 'repaybehalf', 'constructor']\n",
      "\n"
     ]
    },
    {
     "name": "stderr",
     "output_type": "stream",
     "text": [
      "Processing vulnerabilities:  91%|█████████ | 1550/1703 [18:52<02:37,  1.03s/it]line 71:50 missing ';' at '('\n",
      "line 71:84 no viable alternative at input '(uint64[][]'\n",
      "line 71:85 mismatched input ')' expecting {'from', 'error', 'memory', 'storage', 'calldata', 'revert', 'callback', 'leave', 'payable', 'constructor', 'receive', Identifier}\n",
      "line 71:86 extraneous input ')' expecting {';', '='}\n",
      "Processing vulnerabilities:  91%|█████████ | 1551/1703 [18:53<02:26,  1.04it/s]"
     ]
    },
    {
     "name": "stdout",
     "output_type": "stream",
     "text": [
      "Parsing error in Web3Bugs/contracts/34/v4-core/contracts/DrawCalculator.sol: object of type 'NoneType' has no len()\n"
     ]
    },
    {
     "name": "stderr",
     "output_type": "stream",
     "text": [
      "Processing vulnerabilities:  91%|█████████ | 1552/1703 [18:53<02:10,  1.16it/s]"
     ]
    },
    {
     "name": "stdout",
     "output_type": "stream",
     "text": [
      "\n",
      "No match found for ['sol lines 311-324', 'sol lines 218-232'] in Web3Bugs/contracts/34/v4-core/contracts/DrawBeacon.sol. Available functions: ['calculatenextbeaconperiodstarttimefromcurrenttime', 'beaconperiodremainingseconds', '_beaconperiodendat', 'getrngservice', 'getbeaconperiodstartedat', 'getlastrnglockblock', 'setrngtimeout', 'completedraw', '_setrngtimeout', 'getbeaconperiodseconds', '_setrngservice', 'setdrawbuffer', 'getrngtimeout', 'cancompletedraw', 'startdraw', '_beaconperiodremainingseconds', 'getnextdrawid', 'constructor', '_setdrawbuffer', 'getdrawbuffer', 'canstartdraw', 'beaconperiodendat', 'isrngtimedout', 'canceldraw', 'isrngcompleted', '_setbeaconperiodseconds', 'calculatenextbeaconperiodstarttime', '_currenttime', '_requiredrawnotstarted', '_calculatenextbeaconperiodstarttime', 'getlastrngrequestid', 'setbeaconperiodseconds', '_isbeaconperiodover', 'isrngrequested', 'setrngservice', 'isbeaconperiodover']\n",
      "\n"
     ]
    },
    {
     "name": "stderr",
     "output_type": "stream",
     "text": [
      "Processing vulnerabilities:  92%|█████████▏| 1563/1703 [18:59<01:07,  2.07it/s]"
     ]
    },
    {
     "name": "stdout",
     "output_type": "stream",
     "text": [
      "\n",
      "No match found for [] in Web3Bugs/contracts/42/projects/mochi-core/contracts/MochiEngine.sol. Available functions: ['changeliquidator', 'changemochi', 'changeprofile', 'changevmochi', 'changetreasury', 'changediscountprofile', 'changereferralfeepool', 'changefeepool', 'changenft', 'changeminter', 'changeoperationwallet', 'changecssr', 'changegovernance', 'changeusdm', 'constructor']\n",
      "\n"
     ]
    },
    {
     "name": "stderr",
     "output_type": "stream",
     "text": [
      "Processing vulnerabilities:  92%|█████████▏| 1571/1703 [19:01<00:25,  5.10it/s]"
     ]
    },
    {
     "name": "stdout",
     "output_type": "stream",
     "text": [
      "\n",
      "No match found for ['transfer', 'transferfrom'] in Web3Bugs/contracts/42/projects/mochi-core/contracts/liquidator/DutchAuctionLiquidator.sol. Available functions: ['auctionid', 'currentliquidationfee', 'triggerliquidation', 'settleliquidation', 'buy', 'constructor', 'price']\n",
      "\n",
      "\n",
      "No match found for ['latestrounddata'] in Web3Bugs/contracts/42/projects/mochi-cssr/contracts/adapter/ChainlinkAdapter.sol. Available functions: ['getprice', 'update', 'support', 'getliquidity', 'setfeed', 'constructor']\n",
      "\n"
     ]
    },
    {
     "name": "stderr",
     "output_type": "stream",
     "text": [
      "Processing vulnerabilities:  92%|█████████▏| 1575/1703 [19:04<01:08,  1.87it/s]"
     ]
    },
    {
     "name": "stdout",
     "output_type": "stream",
     "text": [
      "\n",
      "No match found for ['supports'] in Web3Bugs/contracts/42/projects/mochi-cssr/contracts/adapter/UniswapV2TokenAdapter.sol. Available functions: ['getprice', 'removekeycurrency', 'addkeycurrency', 'converttovalue', 'update', 'support', 'getpriceraw', 'aboveliquidity', 'getliquidity', 'constructor', 'setminimumliquidity']\n",
      "\n"
     ]
    },
    {
     "name": "stderr",
     "output_type": "stream",
     "text": [
      "Processing vulnerabilities:  93%|█████████▎| 1576/1703 [19:06<01:50,  1.15it/s]"
     ]
    },
    {
     "name": "stdout",
     "output_type": "stream",
     "text": [
      "\n",
      "No match found for ['wait', 'withdraw', 'deposit'] in Web3Bugs/contracts/42/projects/mochi-core/contracts/profile/MochiProfileV0.sol. Available functions: ['riskfactor', 'keeperfee', 'maxfee', 'changeliquidityrequirement', 'liquidationfee', 'registerassetbygov', 'changeminimumdebt', 'setdelay', 'assetclass', 'utilizationratio', 'changeassetclass', 'constructor', 'basefee', 'registerasset', 'maxcollateralfactor', 'liquidationfactor', 'calculatefeeindex', 'changecreditcap', 'stabilityfee', '_register']\n",
      "\n"
     ]
    },
    {
     "name": "stderr",
     "output_type": "stream",
     "text": [
      "Processing vulnerabilities:  93%|█████████▎| 1579/1703 [19:07<01:06,  1.87it/s]"
     ]
    },
    {
     "name": "stdout",
     "output_type": "stream",
     "text": [
      "\n",
      "No match found for ['vaultfactory'] in Web3Bugs/contracts/42/projects/mochi-core/contracts/vault/MochiVaultFactory.sol. Available functions: ['updatetemplate', 'getvault', 'constructor', 'deployvault']\n",
      "\n"
     ]
    },
    {
     "name": "stderr",
     "output_type": "stream",
     "text": [
      "Processing vulnerabilities:  93%|█████████▎| 1581/1703 [19:07<00:47,  2.59it/s]"
     ]
    },
    {
     "name": "stdout",
     "output_type": "stream",
     "text": [
      "\n",
      "No match found for ['increase_unlock_time', 'increase_amount', 'create_lock'] in Web3Bugs/contracts/42/projects/mochi-core/contracts/treasury/MochiTreasuryV0.sol. Available functions: ['_lockcrv', 'withdrawcrv', 'togglelocking', 'updatefee', 'receive', 'claimoperationcost', 'withdrawlock', 'vecrvinitialize', 'vecrvlock', '_buycrv', 'constructor']\n",
      "\n"
     ]
    },
    {
     "name": "stderr",
     "output_type": "stream",
     "text": [
      "Processing vulnerabilities:  94%|█████████▎| 1594/1703 [19:27<01:59,  1.10s/it]"
     ]
    },
    {
     "name": "stdout",
     "output_type": "stream",
     "text": [
      "\n",
      "No match found for ['_checkdelay'] in Web3Bugs/contracts/192/contracts/Position.sol. Available functions: ['openpositions', 'openpositionsindexes', 'isminter', 'modifytp', 'assetopenpositions', 'limitorderslength', 'setminter', '_msgsender', 'ownerof', 'limitorderindexes', 'constructor', 'trades', 'limitorders', 'setaccinterest', 'modifysl', 'getcount', '_msgdata', 'mint', 'setbaseuri', 'updatefunding', 'usertrades', 'burn', 'assetopenpositionsindexes', 'modifymargin', 'addtoposition', 'executelimitorder', 'reduceposition', '_baseuri', 'assetopenpositionslength', 'openpositionsselection']\n",
      "\n"
     ]
    },
    {
     "name": "stderr",
     "output_type": "stream",
     "text": [
      "Processing vulnerabilities:  94%|█████████▍| 1597/1703 [19:34<02:53,  1.64s/it]"
     ]
    },
    {
     "name": "stdout",
     "output_type": "stream",
     "text": [
      "Parsing error in Web3Bugs/contracts/192/contracts/GovNFT.sol: unrecognized expression\n"
     ]
    },
    {
     "name": "stderr",
     "output_type": "stream",
     "text": [
      "Processing vulnerabilities:  94%|█████████▍| 1600/1703 [19:38<02:25,  1.42s/it]"
     ]
    },
    {
     "name": "stdout",
     "output_type": "stream",
     "text": [
      "Parsing error in Web3Bugs/contracts/192/contracts/GovNFT.sol: unrecognized expression\n"
     ]
    },
    {
     "name": "stderr",
     "output_type": "stream",
     "text": [
      "Processing vulnerabilities:  94%|█████████▍| 1601/1703 [19:40<02:39,  1.56s/it]"
     ]
    },
    {
     "name": "stdout",
     "output_type": "stream",
     "text": [
      "Parsing error in Web3Bugs/contracts/192/contracts/GovNFT.sol: unrecognized expression\n"
     ]
    },
    {
     "name": "stderr",
     "output_type": "stream",
     "text": [
      "Processing vulnerabilities:  94%|█████████▍| 1603/1703 [19:43<02:46,  1.67s/it]"
     ]
    },
    {
     "name": "stdout",
     "output_type": "stream",
     "text": [
      "\n",
      "No match found for ['withdraw', 'setminter'] in Web3Bugs/contracts/192/contracts/PairsContract.sol. Available functions: ['setassetbasefundingrate', 'setmaxbasefundingrate', 'addasset', 'idtoasset', 'setassetchainlinkfeed', 'updateassetleverage', 'updateassetfeemultiplier', 'modifyshortoi', 'setprotocol', 'setmaxoi', 'pauseasset', 'modifylongoi', 'idtooi']\n",
      "\n"
     ]
    },
    {
     "name": "stderr",
     "output_type": "stream",
     "text": [
      "Processing vulnerabilities:  94%|█████████▍| 1604/1703 [19:46<03:24,  2.06s/it]"
     ]
    },
    {
     "name": "stdout",
     "output_type": "stream",
     "text": [
      "\n",
      "No match found for ['withdraw', 'setminter'] in Web3Bugs/contracts/192/contracts/Trading.sol. Available functions: ['updatetpsl', 'setlimitorderpricerange', '_checkdelay', 'setblockdelay', '_handlewithdraw', 'addmargin', 'settradingextension', 'decimals', 'permit', '_checkowner', 'minpos', '_closeposition', '_validateproxy', '_checkvault', 'getverifiedprice', 'removemargin', '_handleclosefees', '_handleopenfees', 'liquidateposition', 'initiatemarketorder', '_checksl', 'setallowedvault', 'approveproxy', 'setfees', 'constructor', 'burnfrom', 'ispaused', 'paused', '_limitclose', 'mintfor', 'getref', 'modifyshortoi', '_updatefunding', 'limitclose', '_handledeposit', 'modifylongoi', 'initiatecloseorder', 'setmaxwinpercent', '_checkgas', 'cancellimitorder', 'addtoposition', 'executelimitorder', 'validatetrade', '_setreferral', 'initiatelimitorder']\n",
      "\n"
     ]
    },
    {
     "name": "stderr",
     "output_type": "stream",
     "text": [
      "Processing vulnerabilities:  95%|█████████▍| 1611/1703 [19:55<02:40,  1.75s/it]"
     ]
    },
    {
     "name": "stdout",
     "output_type": "stream",
     "text": [
      "\n",
      "No match found for ['deposit', 'withdrawal'] in Web3Bugs/contracts/192/contracts/Trading.sol. Available functions: ['updatetpsl', 'setlimitorderpricerange', '_checkdelay', 'setblockdelay', '_handlewithdraw', 'addmargin', 'settradingextension', 'decimals', 'permit', '_checkowner', 'minpos', '_closeposition', '_validateproxy', '_checkvault', 'getverifiedprice', 'removemargin', '_handleclosefees', '_handleopenfees', 'liquidateposition', 'initiatemarketorder', '_checksl', 'setallowedvault', 'approveproxy', 'setfees', 'constructor', 'burnfrom', 'ispaused', 'paused', '_limitclose', 'mintfor', 'getref', 'modifyshortoi', '_updatefunding', 'limitclose', '_handledeposit', 'modifylongoi', 'initiatecloseorder', 'setmaxwinpercent', '_checkgas', 'cancellimitorder', 'addtoposition', 'executelimitorder', 'validatetrade', '_setreferral', 'initiatelimitorder']\n",
      "\n"
     ]
    },
    {
     "name": "stderr",
     "output_type": "stream",
     "text": [
      "Processing vulnerabilities:  95%|█████████▍| 1613/1703 [19:58<02:13,  1.48s/it]"
     ]
    },
    {
     "name": "stdout",
     "output_type": "stream",
     "text": [
      "\n",
      "No match found for ['executelimitorder'] in Web3Bugs/contracts/192/contracts/PairsContract.sol. Available functions: ['setassetbasefundingrate', 'setmaxbasefundingrate', 'addasset', 'idtoasset', 'setassetchainlinkfeed', 'updateassetleverage', 'updateassetfeemultiplier', 'modifyshortoi', 'setprotocol', 'setmaxoi', 'pauseasset', 'modifylongoi', 'idtooi']\n",
      "\n"
     ]
    },
    {
     "name": "stderr",
     "output_type": "stream",
     "text": [
      "Processing vulnerabilities:  95%|█████████▍| 1615/1703 [20:02<02:44,  1.87s/it]"
     ]
    },
    {
     "name": "stdout",
     "output_type": "stream",
     "text": [
      "Parsing error in Web3Bugs/contracts/192/contracts/GovNFT.sol: unrecognized expression\n"
     ]
    },
    {
     "name": "stderr",
     "output_type": "stream",
     "text": [
      "Processing vulnerabilities:  95%|█████████▍| 1617/1703 [20:03<01:48,  1.26s/it]"
     ]
    },
    {
     "name": "stdout",
     "output_type": "stream",
     "text": [
      "\n",
      "No match found for ['sol'] in Web3Bugs/contracts/65/contracts/contracts/Factory.sol. Available functions: ['setauctiondecrement', 'setbondpercentdiv', 'setminlicensefee', 'setauctionmultiplier', 'setownersplit', 'proposebasketlicense', 'createbasket', 'proposal', 'getproposalweights', 'constructor']\n",
      "\n"
     ]
    },
    {
     "name": "stderr",
     "output_type": "stream",
     "text": [
      "Processing vulnerabilities:  95%|█████████▌| 1618/1703 [20:04<01:39,  1.17s/it]"
     ]
    },
    {
     "name": "stdout",
     "output_type": "stream",
     "text": [
      "\n",
      "No match found for ['sol'] in Web3Bugs/contracts/65/contracts/contracts/Basket.sol. Available functions: ['auctionburn', 'mintto', 'getpendingweights', 'handlefees', 'burn', 'changelicensefee', 'publishnewindex', 'pullunderlying', 'deletenewindex', 'approveunderlying', 'validateweights', 'setnewmaxsupply', 'pushunderlying', 'changepublisher', 'setnewweights', 'initialize', 'mint', 'updateibratio']\n",
      "\n"
     ]
    },
    {
     "name": "stderr",
     "output_type": "stream",
     "text": [
      "Processing vulnerabilities:  95%|█████████▌| 1619/1703 [20:06<01:41,  1.21s/it]"
     ]
    },
    {
     "name": "stdout",
     "output_type": "stream",
     "text": [
      "\n",
      "No match found for ['bondburn', 'proposeauction'] in Web3Bugs/contracts/65/contracts/contracts/Basket.sol. Available functions: ['auctionburn', 'mintto', 'getpendingweights', 'handlefees', 'burn', 'changelicensefee', 'publishnewindex', 'pullunderlying', 'deletenewindex', 'approveunderlying', 'validateweights', 'setnewmaxsupply', 'pushunderlying', 'changepublisher', 'setnewweights', 'initialize', 'mint', 'updateibratio']\n",
      "\n"
     ]
    },
    {
     "name": "stderr",
     "output_type": "stream",
     "text": [
      "Processing vulnerabilities:  95%|█████████▌| 1625/1703 [20:08<00:49,  1.57it/s]"
     ]
    },
    {
     "name": "stdout",
     "output_type": "stream",
     "text": [
      "\n",
      "No match found for [] in Web3Bugs/contracts/65/contracts/contracts/Basket.sol. Available functions: ['auctionburn', 'mintto', 'getpendingweights', 'handlefees', 'burn', 'changelicensefee', 'publishnewindex', 'pullunderlying', 'deletenewindex', 'approveunderlying', 'validateweights', 'setnewmaxsupply', 'pushunderlying', 'changepublisher', 'setnewweights', 'initialize', 'mint', 'updateibratio']\n",
      "\n"
     ]
    },
    {
     "name": "stderr",
     "output_type": "stream",
     "text": [
      "Processing vulnerabilities:  95%|█████████▌| 1626/1703 [20:09<00:51,  1.49it/s]"
     ]
    },
    {
     "name": "stdout",
     "output_type": "stream",
     "text": [
      "\n",
      "No match found for [] in Web3Bugs/contracts/65/contracts/contracts/Basket.sol. Available functions: ['auctionburn', 'mintto', 'getpendingweights', 'handlefees', 'burn', 'changelicensefee', 'publishnewindex', 'pullunderlying', 'deletenewindex', 'approveunderlying', 'validateweights', 'setnewmaxsupply', 'pushunderlying', 'changepublisher', 'setnewweights', 'initialize', 'mint', 'updateibratio']\n",
      "\n"
     ]
    },
    {
     "name": "stderr",
     "output_type": "stream",
     "text": [
      "Processing vulnerabilities:  96%|█████████▌| 1627/1703 [20:10<00:53,  1.42it/s]"
     ]
    },
    {
     "name": "stdout",
     "output_type": "stream",
     "text": [
      "\n",
      "No match found for [] in Web3Bugs/contracts/65/contracts/contracts/Basket.sol. Available functions: ['auctionburn', 'mintto', 'getpendingweights', 'handlefees', 'burn', 'changelicensefee', 'publishnewindex', 'pullunderlying', 'deletenewindex', 'approveunderlying', 'validateweights', 'setnewmaxsupply', 'pushunderlying', 'changepublisher', 'setnewweights', 'initialize', 'mint', 'updateibratio']\n",
      "\n"
     ]
    },
    {
     "name": "stderr",
     "output_type": "stream",
     "text": [
      "Processing vulnerabilities:  96%|█████████▌| 1628/1703 [20:12<01:16,  1.02s/it]"
     ]
    },
    {
     "name": "stdout",
     "output_type": "stream",
     "text": [
      "Parsing error in Web3Bugs/contracts/113/contracts/NFTPairWithOracle.sol: unrecognized expression\n"
     ]
    },
    {
     "name": "stderr",
     "output_type": "stream",
     "text": [
      "Processing vulnerabilities:  96%|█████████▌| 1629/1703 [20:13<01:28,  1.20s/it]"
     ]
    },
    {
     "name": "stdout",
     "output_type": "stream",
     "text": [
      "Parsing error in Web3Bugs/contracts/113/contracts/NFTPairWithOracle.sol: unrecognized expression\n"
     ]
    },
    {
     "name": "stderr",
     "output_type": "stream",
     "text": [
      "Processing vulnerabilities:  96%|█████████▌| 1630/1703 [20:15<01:38,  1.35s/it]"
     ]
    },
    {
     "name": "stdout",
     "output_type": "stream",
     "text": [
      "Parsing error in Web3Bugs/contracts/113/contracts/NFTPairWithOracle.sol: unrecognized expression\n"
     ]
    },
    {
     "name": "stderr",
     "output_type": "stream",
     "text": [
      "Processing vulnerabilities:  96%|█████████▌| 1631/1703 [20:17<01:44,  1.45s/it]"
     ]
    },
    {
     "name": "stdout",
     "output_type": "stream",
     "text": [
      "Parsing error in Web3Bugs/contracts/113/contracts/NFTPairWithOracle.sol: unrecognized expression\n"
     ]
    },
    {
     "name": "stderr",
     "output_type": "stream",
     "text": [
      "Processing vulnerabilities:  96%|█████████▌| 1632/1703 [20:19<01:56,  1.64s/it]"
     ]
    },
    {
     "name": "stdout",
     "output_type": "stream",
     "text": [
      "Parsing error in Web3Bugs/contracts/113/contracts/NFTPairWithOracle.sol: unrecognized expression\n",
      "Parsing error in Web3Bugs/contracts/113/contracts/NFTPair.sol: unrecognized expression\n"
     ]
    },
    {
     "name": "stderr",
     "output_type": "stream",
     "text": [
      "Processing vulnerabilities:  96%|█████████▌| 1633/1703 [20:22<02:24,  2.06s/it]"
     ]
    },
    {
     "name": "stdout",
     "output_type": "stream",
     "text": [
      "Parsing error in Web3Bugs/contracts/113/contracts/NFTPairWithOracle.sol: unrecognized expression\n"
     ]
    },
    {
     "name": "stderr",
     "output_type": "stream",
     "text": [
      "Processing vulnerabilities:  96%|█████████▌| 1637/1703 [20:25<00:59,  1.10it/s]"
     ]
    },
    {
     "name": "stdout",
     "output_type": "stream",
     "text": [
      "\n",
      "No match found for ['fixedinterestratemodel::setinterestrate', 'utoken::borrowrateperblock', 'utoken::_repayborrowfresh', 'utoken::accrueinterest'] in Web3Bugs/contracts/45/contracts/market/FixedInterestRateModel.sol. Available functions: ['setinterestrate', 'getborrowrate', 'constructor', 'getsupplyrate']\n",
      "\n"
     ]
    },
    {
     "name": "stderr",
     "output_type": "stream",
     "text": [
      "Processing vulnerabilities:  96%|█████████▌| 1638/1703 [20:26<01:11,  1.11s/it]"
     ]
    },
    {
     "name": "stdout",
     "output_type": "stream",
     "text": [
      "\n",
      "No match found for ['fixedinterestratemodel::setinterestrate', 'utoken::borrowrateperblock', 'utoken::_repayborrowfresh', 'utoken::accrueinterest'] in Web3Bugs/contracts/45/contracts/market/UToken.sol. Available functions: ['getinterestindex', 'setminborrow', 'removereserves', 'setdebtceiling', 'batchupdateoverdueinfos', 'borrowbalancestoredinternal', 'repayborrowwithpermit', 'setinterestratemodel', 'checkisoverdue', 'redeemunderlying', 'calculatingfee', 'supplyrateperblock', 'setoverdueblocks', 'repayborrowbehalf', '_getcreditlimit', 'getloan', 'accrueinterest', 'balanceofunderlying', '_repayborrowfresh', 'calculatinginterest', 'borrowbalanceview', '_redeemfresh', 'getlastrepay', 'setreservefactor', 'setassetmanager', 'getborrowed', 'setmaxborrow', 'borrowrateperblock', 'redeem', 'getblocknumber', 'setoriginationfee', 'debtwriteoff', 'repayborrow', 'getremainingloansize', 'mint', 'setusermanager', '_setinterestratemodelfresh', 'borrow', 'exchangeratecurrent', 'addreserves', '__utoken_init', 'exchangeratestored', 'updateoverdueinfo']\n",
      "\n"
     ]
    },
    {
     "name": "stderr",
     "output_type": "stream",
     "text": [
      "Processing vulnerabilities:  97%|█████████▋| 1646/1703 [20:34<00:53,  1.07it/s]"
     ]
    },
    {
     "name": "stdout",
     "output_type": "stream",
     "text": [
      "\n",
      "No match found for ['addliquidity'] in Web3Bugs/contracts/77/elasticswap/src/libraries/MathLib.sol. Available functions: ['calculateliquiditytokenqtyforsingleassetentry', 'diff', 'calculateaddliquidityquantities', 'calculateaddtokenpairliquidityquantities', 'roundtonearest', 'calculateaddquotetokenliquidityquantities', 'calculatebasetokenqty', 'sqrt', 'issufficientdecaypresent', 'wdiv', 'calculatequotetokenqty', 'calculateaddbasetokenliquidityquantities', 'calculateliquiditytokenqtyfordoubleassetentry', 'wmul', 'calculateliquiditytokenfees', 'calculateqty', 'calculateqtytoreturnafterfees']\n",
      "\n"
     ]
    },
    {
     "name": "stderr",
     "output_type": "stream",
     "text": [
      "Processing vulnerabilities:  97%|█████████▋| 1647/1703 [20:35<00:52,  1.07it/s]"
     ]
    },
    {
     "name": "stdout",
     "output_type": "stream",
     "text": [
      "\n",
      "No match found for ['addliquidity'] in Web3Bugs/contracts/77/elasticswap/src/libraries/MathLib.sol. Available functions: ['calculateliquiditytokenqtyforsingleassetentry', 'diff', 'calculateaddliquidityquantities', 'calculateaddtokenpairliquidityquantities', 'roundtonearest', 'calculateaddquotetokenliquidityquantities', 'calculatebasetokenqty', 'sqrt', 'issufficientdecaypresent', 'wdiv', 'calculatequotetokenqty', 'calculateaddbasetokenliquidityquantities', 'calculateliquiditytokenqtyfordoubleassetentry', 'wmul', 'calculateliquiditytokenfees', 'calculateqty', 'calculateqtytoreturnafterfees']\n",
      "\n"
     ]
    },
    {
     "name": "stderr",
     "output_type": "stream",
     "text": [
      "Processing vulnerabilities:  97%|█████████▋| 1652/1703 [20:38<00:27,  1.86it/s]"
     ]
    },
    {
     "name": "stdout",
     "output_type": "stream",
     "text": [
      "\n",
      "No match found for ['twaporacle'] in Web3Bugs/contracts/52/contracts/twap/TwapOracle.sol. Available functions: ['registeraggregator', 'update', 'pairexists', 'enableusdv', 'consult', 'usdvtovader', 'vadertousdv', 'initialize', 'registerpair', 'getrate', 'constructor']\n",
      "\n",
      "\n",
      "No match found for ['burn'] in Web3Bugs/contracts/52/contracts/dex-v2/router/VaderRouterV2.sol. Available functions: ['_swap', 'addliquidity', 'initialize', 'swapexacttokensfortokens', 'removeliquidity', 'constructor']\n",
      "\n",
      "\n",
      "No match found for ['burn'] in Web3Bugs/contracts/52/contracts/dex/math/VaderMath.sol. Available functions: ['calculateliquidityunits', 'root', 'pow', 'calculateslipadjustment', 'calculateswap', 'delta', 'calculateloss', 'calculateswapreverse']\n",
      "\n"
     ]
    },
    {
     "name": "stderr",
     "output_type": "stream",
     "text": [
      "Processing vulnerabilities:  97%|█████████▋| 1653/1703 [20:39<00:36,  1.38it/s]"
     ]
    },
    {
     "name": "stdout",
     "output_type": "stream",
     "text": [
      "\n",
      "No match found for ['burn'] in Web3Bugs/contracts/52/contracts/dex/math/VaderMath.sol. Available functions: ['calculateliquidityunits', 'root', 'pow', 'calculateslipadjustment', 'calculateswap', 'delta', 'calculateloss', 'calculateswapreverse']\n",
      "\n"
     ]
    },
    {
     "name": "stderr",
     "output_type": "stream",
     "text": [
      "Processing vulnerabilities:  97%|█████████▋| 1654/1703 [20:40<00:37,  1.30it/s]"
     ]
    },
    {
     "name": "stdout",
     "output_type": "stream",
     "text": [
      "\n",
      "No match found for ['burn'] in Web3Bugs/contracts/52/contracts/dex/router/VaderRouter.sol. Available functions: ['_swap', 'addliquidity', 'calculateoutgivenin', 'swaptokensforexacttokens', 'calculateingivenout', 'initialize', 'swapexacttokensfortokens', '_addliquidity', 'removeliquidity', 'constructor']\n",
      "\n",
      "\n",
      "No match found for ['payoutilprotection', 'claimilprotection'] in Web3Bugs/contracts/52/contracts/dex-v2/router/VaderRouterV2.sol. Available functions: ['_swap', 'addliquidity', 'initialize', 'swapexacttokensfortokens', 'removeliquidity', 'constructor']\n",
      "\n"
     ]
    },
    {
     "name": "stderr",
     "output_type": "stream",
     "text": [
      "Processing vulnerabilities:  97%|█████████▋| 1655/1703 [20:41<00:40,  1.20it/s]"
     ]
    },
    {
     "name": "stdout",
     "output_type": "stream",
     "text": [
      "\n",
      "No match found for ['payoutilprotection', 'claimilprotection'] in Web3Bugs/contracts/52/contracts/dex/router/VaderRouter.sol. Available functions: ['_swap', 'addliquidity', 'calculateoutgivenin', 'swaptokensforexacttokens', 'calculateingivenout', 'initialize', 'swapexacttokensfortokens', '_addliquidity', 'removeliquidity', 'constructor']\n",
      "\n",
      "\n",
      "No match found for ['payoutilprotection', 'claimilprotection'] in Web3Bugs/contracts/52/contracts/reserve/VaderReserve.sol. Available functions: ['reimburseimpermanentloss', 'reserve', '_min', 'grant', 'initialize', 'constructor']\n",
      "\n"
     ]
    },
    {
     "name": "stderr",
     "output_type": "stream",
     "text": [
      "Processing vulnerabilities:  97%|█████████▋| 1656/1703 [20:42<00:35,  1.34it/s]"
     ]
    },
    {
     "name": "stdout",
     "output_type": "stream",
     "text": [
      "\n",
      "No match found for ['calculateloss'] in Web3Bugs/contracts/52/contracts/dex-v2/router/VaderRouterV2.sol. Available functions: ['_swap', 'addliquidity', 'initialize', 'swapexacttokensfortokens', 'removeliquidity', 'constructor']\n",
      "\n",
      "\n",
      "No match found for ['calculateloss'] in Web3Bugs/contracts/52/contracts/reserve/VaderReserve.sol. Available functions: ['reimburseimpermanentloss', 'reserve', '_min', 'grant', 'initialize', 'constructor']\n",
      "\n",
      "\n",
      "No match found for ['calculateloss'] in Web3Bugs/contracts/52/contracts/dex-v2/pool/VaderPoolV2.sol. Available functions: ['setfungibletokensupport', 'burn', 'burnfungible', 'mintsynth', 'cumulativeprices', 'mintfungible', '_min', 'settokensupport', 'initialize', 'burnsynth', 'togglequeue', 'constructor']\n",
      "\n",
      "\n",
      "No match found for ['calculateloss'] in Web3Bugs/contracts/52/contracts/twap/TwapOracle.sol. Available functions: ['registeraggregator', 'update', 'pairexists', 'enableusdv', 'consult', 'usdvtovader', 'vadertousdv', 'initialize', 'registerpair', 'getrate', 'constructor']\n",
      "\n"
     ]
    },
    {
     "name": "stderr",
     "output_type": "stream",
     "text": [
      "Processing vulnerabilities:  97%|█████████▋| 1657/1703 [20:44<00:56,  1.24s/it]"
     ]
    },
    {
     "name": "stdout",
     "output_type": "stream",
     "text": [
      "\n",
      "No match found for ['calculateloss'] in Web3Bugs/contracts/52/contracts/dex-v2/pool/BasePoolV2.sol. Available functions: ['swap', '_onlyrouter', 'doubleswap', '_update', '_supportedtoken', 'getreserves', 'positionforeignasset', '_burn', 'constructor', 'rescue', 'pairsupply', 'mint']\n",
      "\n"
     ]
    },
    {
     "name": "stderr",
     "output_type": "stream",
     "text": [
      "Processing vulnerabilities:  97%|█████████▋| 1658/1703 [20:44<00:42,  1.05it/s]"
     ]
    },
    {
     "name": "stdout",
     "output_type": "stream",
     "text": [
      "\n",
      "No match found for [] in Web3Bugs/contracts/52/contracts/dex/math/VaderMath.sol. Available functions: ['calculateliquidityunits', 'root', 'pow', 'calculateslipadjustment', 'calculateswap', 'delta', 'calculateloss', 'calculateswapreverse']\n",
      "\n"
     ]
    },
    {
     "name": "stderr",
     "output_type": "stream",
     "text": [
      "Processing vulnerabilities:  97%|█████████▋| 1660/1703 [20:46<00:35,  1.20it/s]"
     ]
    },
    {
     "name": "stdout",
     "output_type": "stream",
     "text": [
      "\n",
      "No match found for ['createpool'] in Web3Bugs/contracts/52/contracts/dex-v2/pool/VaderPoolV2.sol. Available functions: ['setfungibletokensupport', 'burn', 'burnfungible', 'mintsynth', 'cumulativeprices', 'mintfungible', '_min', 'settokensupport', 'initialize', 'burnsynth', 'togglequeue', 'constructor']\n",
      "\n"
     ]
    },
    {
     "name": "stderr",
     "output_type": "stream",
     "text": [
      "Processing vulnerabilities:  98%|█████████▊| 1664/1703 [20:48<00:23,  1.65it/s]"
     ]
    },
    {
     "name": "stdout",
     "output_type": "stream",
     "text": [
      "\n",
      "No match found for ['sol'] in Web3Bugs/contracts/52/contracts/dex-v2/router/VaderRouterV2.sol. Available functions: ['_swap', 'addliquidity', 'initialize', 'swapexacttokensfortokens', 'removeliquidity', 'constructor']\n",
      "\n"
     ]
    },
    {
     "name": "stderr",
     "output_type": "stream",
     "text": [
      "Processing vulnerabilities:  98%|█████████▊| 1666/1703 [20:48<00:17,  2.15it/s]"
     ]
    },
    {
     "name": "stdout",
     "output_type": "stream",
     "text": [
      "\n",
      "No match found for ['sol'] in Web3Bugs/contracts/52/contracts/dex/math/VaderMath.sol. Available functions: ['calculateliquidityunits', 'root', 'pow', 'calculateslipadjustment', 'calculateswap', 'delta', 'calculateloss', 'calculateswapreverse']\n",
      "\n"
     ]
    },
    {
     "name": "stderr",
     "output_type": "stream",
     "text": [
      "Processing vulnerabilities:  98%|█████████▊| 1667/1703 [20:49<00:20,  1.74it/s]"
     ]
    },
    {
     "name": "stdout",
     "output_type": "stream",
     "text": [
      "Parsing error in Web3Bugs/contracts/52/contracts/governance/GovernorAlpha.sol: unrecognized expression\n"
     ]
    },
    {
     "name": "stderr",
     "output_type": "stream",
     "text": [
      "Processing vulnerabilities:  98%|█████████▊| 1668/1703 [20:50<00:20,  1.72it/s]"
     ]
    },
    {
     "name": "stdout",
     "output_type": "stream",
     "text": [
      "\n",
      "No match found for [] in Web3Bugs/contracts/52/contracts/dex/pool/BasePool.sol. Available functions: ['swap', '_update', 'getreserves', 'name', '_burn', 'constructor', 'mint']\n",
      "\n"
     ]
    },
    {
     "name": "stderr",
     "output_type": "stream",
     "text": [
      "Processing vulnerabilities:  98%|█████████▊| 1670/1703 [20:51<00:18,  1.77it/s]"
     ]
    },
    {
     "name": "stdout",
     "output_type": "stream",
     "text": [
      "\n",
      "No match found for ['mintsynth'] in Web3Bugs/contracts/52/contracts/dex-v2/synths/Synth.sol. Available functions: ['_combine', 'burn', '_calculatesymbol', 'constructor', '_calculatename', 'mint']\n",
      "\n"
     ]
    },
    {
     "name": "stderr",
     "output_type": "stream",
     "text": [
      "Processing vulnerabilities:  98%|█████████▊| 1677/1703 [20:54<00:12,  2.01it/s]"
     ]
    },
    {
     "name": "stdout",
     "output_type": "stream",
     "text": [
      "\n",
      "No match found for ['addliquidity', 'il calculation', 'burn', 'removeliquidity', 'mint'] in Web3Bugs/contracts/52/contracts/dex/math/VaderMath.sol. Available functions: ['calculateliquidityunits', 'root', 'pow', 'calculateslipadjustment', 'calculateswap', 'delta', 'calculateloss', 'calculateswapreverse']\n",
      "\n"
     ]
    },
    {
     "name": "stderr",
     "output_type": "stream",
     "text": [
      "Processing vulnerabilities:  99%|█████████▊| 1678/1703 [20:56<00:21,  1.16it/s]"
     ]
    },
    {
     "name": "stdout",
     "output_type": "stream",
     "text": [
      "\n",
      "No match found for ['burn nft lp', 'burn fungible lp'] in Web3Bugs/contracts/52/contracts/dex-v2/pool/BasePoolV2.sol. Available functions: ['swap', '_onlyrouter', 'doubleswap', '_update', '_supportedtoken', 'getreserves', 'positionforeignasset', '_burn', 'constructor', 'rescue', 'pairsupply', 'mint']\n",
      "\n"
     ]
    },
    {
     "name": "stderr",
     "output_type": "stream",
     "text": [
      "Processing vulnerabilities:  99%|█████████▊| 1679/1703 [20:57<00:23,  1.02it/s]"
     ]
    },
    {
     "name": "stdout",
     "output_type": "stream",
     "text": [
      "\n",
      "No match found for ['burn nft lp', 'burn fungible lp'] in Web3Bugs/contracts/52/contracts/dex-v2/pool/VaderPoolV2.sol. Available functions: ['setfungibletokensupport', 'burn', 'burnfungible', 'mintsynth', 'cumulativeprices', 'mintfungible', '_min', 'settokensupport', 'initialize', 'burnsynth', 'togglequeue', 'constructor']\n",
      "\n"
     ]
    },
    {
     "name": "stderr",
     "output_type": "stream",
     "text": [
      "Processing vulnerabilities:  99%|█████████▉| 1685/1703 [21:00<00:09,  1.83it/s]"
     ]
    },
    {
     "name": "stdout",
     "output_type": "stream",
     "text": [
      "\n",
      "No match found for [] in Web3Bugs/contracts/52/contracts/tokens/vesting/LinearVesting.sol. Available functions: ['begin', 'vestfor', '_hasstarted', '_getclaim', 'getclaim', 'claim', 'claimconverted', 'constructor']\n",
      "\n"
     ]
    },
    {
     "name": "stderr",
     "output_type": "stream",
     "text": [
      "Processing vulnerabilities:  99%|█████████▉| 1688/1703 [21:02<00:09,  1.64it/s]"
     ]
    },
    {
     "name": "stdout",
     "output_type": "stream",
     "text": [
      "\n",
      "No match found for ['l169-l207', 'l85', 'l76-l91'] in Web3Bugs/contracts/52/contracts/dex/router/VaderRouter.sol. Available functions: ['_swap', 'addliquidity', 'calculateoutgivenin', 'swaptokensforexacttokens', 'calculateingivenout', 'initialize', 'swapexacttokensfortokens', '_addliquidity', 'removeliquidity', 'constructor']\n",
      "\n",
      "\n",
      "No match found for ['l169-l207', 'l85', 'l76-l91'] in Web3Bugs/contracts/52/contracts/reserve/VaderReserve.sol. Available functions: ['reimburseimpermanentloss', 'reserve', '_min', 'grant', 'initialize', 'constructor']\n",
      "\n"
     ]
    },
    {
     "name": "stderr",
     "output_type": "stream",
     "text": [
      "Processing vulnerabilities:  99%|█████████▉| 1689/1703 [21:03<00:07,  1.94it/s]"
     ]
    },
    {
     "name": "stdout",
     "output_type": "stream",
     "text": [
      "\n",
      "No match found for ['settokensupport'] in Web3Bugs/contracts/52/contracts/dex/math/VaderMath.sol. Available functions: ['calculateliquidityunits', 'root', 'pow', 'calculateslipadjustment', 'calculateswap', 'delta', 'calculateloss', 'calculateswapreverse']\n",
      "\n"
     ]
    },
    {
     "name": "stderr",
     "output_type": "stream",
     "text": [
      "Processing vulnerabilities:  99%|█████████▉| 1691/1703 [21:04<00:06,  1.94it/s]"
     ]
    },
    {
     "name": "stdout",
     "output_type": "stream",
     "text": [
      "\n",
      "No match found for ['setupdateperiod'] in Web3Bugs/contracts/52/contracts/twap/TwapOracle.sol. Available functions: ['registeraggregator', 'update', 'pairexists', 'enableusdv', 'consult', 'usdvtovader', 'vadertousdv', 'initialize', 'registerpair', 'getrate', 'constructor']\n",
      "\n"
     ]
    },
    {
     "name": "stderr",
     "output_type": "stream",
     "text": [
      "Processing vulnerabilities:  99%|█████████▉| 1692/1703 [21:05<00:07,  1.57it/s]"
     ]
    },
    {
     "name": "stdout",
     "output_type": "stream",
     "text": [
      "Parsing error in Web3Bugs/contracts/52/contracts/governance/GovernorAlpha.sol: unrecognized expression\n"
     ]
    },
    {
     "name": "stderr",
     "output_type": "stream",
     "text": [
      "Processing vulnerabilities:  99%|█████████▉| 1694/1703 [21:06<00:05,  1.62it/s]"
     ]
    },
    {
     "name": "stdout",
     "output_type": "stream",
     "text": [
      "\n",
      "No match found for ['consult', 'validategas'] in Web3Bugs/contracts/52/contracts/dex/utils/GasThrottle.sol. Available functions: []\n",
      "\n"
     ]
    },
    {
     "name": "stderr",
     "output_type": "stream",
     "text": [
      "Processing vulnerabilities: 100%|█████████▉| 1696/1703 [21:07<00:05,  1.40it/s]"
     ]
    },
    {
     "name": "stdout",
     "output_type": "stream",
     "text": [
      "Parsing error in Web3Bugs/contracts/52/contracts/governance/GovernorAlpha.sol: unrecognized expression\n"
     ]
    },
    {
     "name": "stderr",
     "output_type": "stream",
     "text": [
      "Processing vulnerabilities: 100%|█████████▉| 1701/1703 [21:09<00:00,  2.09it/s]"
     ]
    },
    {
     "name": "stdout",
     "output_type": "stream",
     "text": [
      "\n",
      "No match found for ['validategas'] in Web3Bugs/contracts/52/contracts/dex/utils/GasThrottle.sol. Available functions: []\n",
      "\n"
     ]
    },
    {
     "name": "stderr",
     "output_type": "stream",
     "text": [
      "Processing vulnerabilities: 100%|██████████| 1703/1703 [21:10<00:00,  1.34it/s]\n",
      "Processing projects: 100%|██████████| 101/101 [00:00<00:00, 384.75it/s]"
     ]
    },
    {
     "name": "stdout",
     "output_type": "stream",
     "text": [
      "Extraction completed.\n"
     ]
    },
    {
     "name": "stderr",
     "output_type": "stream",
     "text": [
      "\n"
     ]
    }
   ],
   "source": [
    "import os\n",
    "import pandas as pd\n",
    "from tqdm import tqdm\n",
    "from solidity_parser import parser\n",
    "\n",
    "# Base directory containing smart contract projects\n",
    "BASE_DIR = \"Web3Bugs/contracts/\"\n",
    "\n",
    "# Prepare CSV files for storing results\n",
    "vuln_code_data = []\n",
    "non_vuln_code_data = []\n",
    "\n",
    "columns = list(vuln_df.columns) + [\"vuln_file_path\", \"vuln_code\"]\n",
    "\n",
    "def safe_serialize(obj):\n",
    "    \"\"\"Convert Solidity parser output to a JSON-serializable format.\"\"\"\n",
    "    if isinstance(obj, dict):\n",
    "        return {k: safe_serialize(v) for k, v in obj.items()}\n",
    "    elif isinstance(obj, list):\n",
    "        return [safe_serialize(v) for v in obj]\n",
    "    elif hasattr(obj, '__dict__'):\n",
    "        return safe_serialize(obj.__dict__)\n",
    "    return obj\n",
    "\n",
    "def extract_function_names(parsed_code):\n",
    "    functions = []\n",
    "    def traverse_nodes(nodes):\n",
    "        for node in nodes:\n",
    "            if isinstance(node, dict):\n",
    "                if node.get('type') == 'FunctionDefinition':\n",
    "                    functions.append(node.get('name', 'Unnamed').strip().lower())\n",
    "                traverse_nodes(node.values())\n",
    "            elif isinstance(node, list):\n",
    "                traverse_nodes(node)\n",
    "    traverse_nodes(parsed_code.get('children', []))\n",
    "    return functions\n",
    "\n",
    "def normalize_function_name(name):\n",
    "    return name.strip().lower().replace(\" \", \"\").replace(\"\\t\", \"\").replace(\"\\n\", \"\")\n",
    "\n",
    "def clean_function_list(functions):\n",
    "    \"\"\"Deduplicate and clean function names from a list.\"\"\"\n",
    "    cleaned_functions = set()\n",
    "    for func in functions:\n",
    "        func_name = func.split(\"(\")[0].strip().lower()\n",
    "        cleaned_functions.add(func_name)\n",
    "    return list(cleaned_functions)\n",
    "\n",
    "def extract_vuln_code(file_path, functions):\n",
    "    \"\"\"Extract vulnerable function or event-related code using Solidity parser.\"\"\"\n",
    "    if not os.path.isfile(file_path):\n",
    "        return None\n",
    "\n",
    "    try:\n",
    "        parsed_code = parser.parse_file(file_path, loc=True)\n",
    "    except Exception as e:\n",
    "        print(f\"Parsing error in {file_path}: {e}\")\n",
    "        return None\n",
    "\n",
    "    extracted_code = []\n",
    "\n",
    "    # Read the entire file for accurate line extraction\n",
    "    with open(file_path, \"r\", encoding=\"utf-8\") as f:\n",
    "        code_lines = f.readlines()\n",
    "\n",
    "    available_functions = extract_function_names(parsed_code)\n",
    "    functions = clean_function_list(functions)\n",
    "    available_functions = clean_function_list(available_functions)\n",
    "\n",
    "    def traverse_nodes(nodes):\n",
    "        for node in nodes:\n",
    "            if isinstance(node, dict):\n",
    "                if node.get('type') == 'FunctionDefinition':\n",
    "                    function_name = normalize_function_name(node.get('name', ''))\n",
    "                    if function_name in functions:\n",
    "                        start = node['loc']['start']['line'] - 1  # Convert to zero-based index\n",
    "                        end = node['loc']['end']['line']          # Solidity Parser returns 1-based index\n",
    "                        function_code = \"\".join(code_lines[start:end]).strip()\n",
    "                        if not function_code.endswith(\"}\"):\n",
    "                            function_code += \"  // Error: Function body might be cropped.\"\n",
    "                        extracted_code.append(function_code)\n",
    "                traverse_nodes(node.values())\n",
    "            elif isinstance(node, list):\n",
    "                traverse_nodes(node)\n",
    "\n",
    "    traverse_nodes(parsed_code.get('children', []))\n",
    "\n",
    "    if not extracted_code:\n",
    "        print(f\"\\nNo match found for {functions} in {file_path}. Available functions: {available_functions}\\n\")\n",
    "\n",
    "    return \"\\n\\n\".join(extracted_code) if extracted_code else None\n",
    "\n",
    "def list_solidity_files(directory):\n",
    "    \"\"\"Recursively list all Solidity files in a given directory.\"\"\"\n",
    "    sol_files = []\n",
    "    for root, _, files in os.walk(directory):\n",
    "        for file in files:\n",
    "            if file.endswith(\".sol\"):\n",
    "                sol_files.append(os.path.join(root, file))\n",
    "    return set(sol_files)\n",
    "\n",
    "def find_vuln_file(project_path, vuln_file):\n",
    "    \"\"\"Recursively search for the vulnerability file within the project directory.\"\"\"\n",
    "    for root, _, files in os.walk(project_path):\n",
    "        if vuln_file in files:\n",
    "            return os.path.join(root, vuln_file)\n",
    "    return None\n",
    "\n",
    "count = 0\n",
    "\n",
    "# Process each project\n",
    "for _, row in tqdm(vuln_df.iterrows(), total=len(vuln_df), desc=\"Processing vulnerabilities\"):\n",
    "    project_id = row[\"file_name\"].replace(\".md\", \"\")\n",
    "    vuln_info = row[\"vuln_loc\"]\n",
    "\n",
    "    if not isinstance(vuln_info, dict):\n",
    "        continue\n",
    "\n",
    "    vuln_files = set(vuln_info.get(\"vuln_file\", []))\n",
    "    vuln_functions = vuln_info.get(\"vuln_function\", [])\n",
    "\n",
    "    project_path = os.path.join(BASE_DIR, project_id)\n",
    "    if not os.path.isdir(project_path):\n",
    "        continue\n",
    "\n",
    "    # Recursively list all Solidity files in the project\n",
    "    all_files = list_solidity_files(project_path)\n",
    "\n",
    "    all_vuln_code = []\n",
    "\n",
    "    # Extract vulnerable code\n",
    "    for vuln_file in vuln_files:\n",
    "        vuln_file_path = find_vuln_file(project_path, vuln_file)\n",
    "        if vuln_file_path:\n",
    "            vuln_code = extract_vuln_code(vuln_file_path, vuln_functions)\n",
    "            all_vuln_code.append(vuln_code)\n",
    "\n",
    "    clean_vuln_code = [x for x in all_vuln_code if x != None]\n",
    "\n",
    "    if clean_vuln_code:\n",
    "        final_vuln_code = \"\".join([x for x in clean_vuln_code]).strip()\n",
    "        vuln_code_data.append(list(row) + [vuln_file_path, final_vuln_code])\n",
    "\n",
    "# Step 1: Aggregating all vulnerable files per project ID\n",
    "project_vuln_files = {}\n",
    "for _, row in vuln_df.iterrows():\n",
    "    project_id = row[\"file_name\"].replace(\".md\", \"\")\n",
    "    vuln_info = row[\"vuln_loc\"]\n",
    "\n",
    "    if isinstance(vuln_info, dict):\n",
    "        vuln_files = set(vuln_info.get(\"vuln_file\", []))\n",
    "        if project_id not in project_vuln_files:\n",
    "            project_vuln_files[project_id] = set()\n",
    "        project_vuln_files[project_id].update(vuln_files)\n",
    "\n",
    "# Step 2: Processing each project and calculating non-vulnerable files\n",
    "for project_id, vuln_files in tqdm(project_vuln_files.items(), desc=\"Processing projects\"):\n",
    "    project_path = os.path.join(BASE_DIR, project_id)\n",
    "    if not os.path.isdir(project_path):\n",
    "        continue\n",
    "\n",
    "    # List all Solidity files in the project\n",
    "    all_files = list_solidity_files(project_path)\n",
    "    non_vuln_files = all_files - {os.path.join(project_path, vf) for vf in vuln_files}\n",
    "\n",
    "    # Extract non-vulnerable files\n",
    "    for non_vuln_file in non_vuln_files:\n",
    "        if os.path.isfile(non_vuln_file):\n",
    "            with open(non_vuln_file, \"r\", encoding=\"utf-8\") as f:\n",
    "                non_vuln_code_data.append([project_id, non_vuln_file, f.read()])\n",
    "\n",
    "# Save to CSV\n",
    "vuln_code_df = pd.DataFrame(vuln_code_data, columns=columns)\n",
    "non_vuln_code_df = pd.DataFrame(non_vuln_code_data, columns=[\"project_id\", \"file_path\", \"code\"])\n",
    "\n",
    "print(\"Extraction completed.\")"
   ]
  },
  {
   "cell_type": "code",
   "execution_count": 6,
   "metadata": {},
   "outputs": [
    {
     "data": {
      "text/html": [
       "<div>\n",
       "<style scoped>\n",
       "    .dataframe tbody tr th:only-of-type {\n",
       "        vertical-align: middle;\n",
       "    }\n",
       "\n",
       "    .dataframe tbody tr th {\n",
       "        vertical-align: top;\n",
       "    }\n",
       "\n",
       "    .dataframe thead th {\n",
       "        text-align: right;\n",
       "    }\n",
       "</style>\n",
       "<table border=\"1\" class=\"dataframe\">\n",
       "  <thead>\n",
       "    <tr style=\"text-align: right;\">\n",
       "      <th></th>\n",
       "      <th>file_name</th>\n",
       "      <th>vuln_title</th>\n",
       "      <th>severity</th>\n",
       "      <th>description</th>\n",
       "      <th>vuln_loc</th>\n",
       "      <th>vuln_explanation</th>\n",
       "      <th>vuln_recommendation</th>\n",
       "      <th>vuln_file_path</th>\n",
       "      <th>vuln_code</th>\n",
       "    </tr>\n",
       "  </thead>\n",
       "  <tbody>\n",
       "    <tr>\n",
       "      <th>0</th>\n",
       "      <td>35.md</td>\n",
       "      <td>Unsafe cast in `ConcentratedLiquidityPool.burn...</td>\n",
       "      <td>high</td>\n",
       "      <td>The `ConcentratedLiquidityPool.burn` function ...</td>\n",
       "      <td>{'vuln_file': ['ConcentratedLiquidityPool.sol'...</td>\n",
       "      <td>The `ConcentratedLiquidityPool.burn` function ...</td>\n",
       "      <td>Even though Solidity 0.8.x is used, type casts...</td>\n",
       "      <td>Web3Bugs/contracts/35/trident/contracts/pool/c...</td>\n",
       "      <td>function burn(bytes calldata data) public over...</td>\n",
       "    </tr>\n",
       "    <tr>\n",
       "      <th>1</th>\n",
       "      <td>35.md</td>\n",
       "      <td>Wrong usage of `positionId` in `ConcentratedLi...</td>\n",
       "      <td>high</td>\n",
       "      <td>#### Impact\\nIn the `subscribe` function of `C...</td>\n",
       "      <td>{'vuln_file': ['ConcentratedLiquidityPoolManag...</td>\n",
       "      <td>In the `subscribe` function of `ConcentratedLi...</td>\n",
       "      <td>Change `positionId` to `incentiveId` in the re...</td>\n",
       "      <td>Web3Bugs/contracts/35/trident/contracts/pool/c...</td>\n",
       "      <td>function subscribe(uint256 positionId, uint256...</td>\n",
       "    </tr>\n",
       "    <tr>\n",
       "      <th>2</th>\n",
       "      <td>35.md</td>\n",
       "      <td>`ConcentratedLiquidityPoolManager`'s incentive...</td>\n",
       "      <td>high</td>\n",
       "      <td>The `ConcentratedLiquidityPoolManager` keeps a...</td>\n",
       "      <td>{'vuln_file': ['ConcentratedLiquidityPoolManag...</td>\n",
       "      <td>The `ConcentratedLiquidityPoolManager` keeps a...</td>\n",
       "      <td>In `reclaimIncentive`, reduce `incentive.rewar...</td>\n",
       "      <td>Web3Bugs/contracts/35/trident/contracts/pool/c...</td>\n",
       "      <td>function reclaimIncentive(\\n        IConcentra...</td>\n",
       "    </tr>\n",
       "    <tr>\n",
       "      <th>3</th>\n",
       "      <td>35.md</td>\n",
       "      <td>Overflow in the `mint` function of `Concentrat...</td>\n",
       "      <td>high</td>\n",
       "      <td>#### Impact\\nSimilar to a previous finding in ...</td>\n",
       "      <td>{'vuln_file': ['ConcentratedLiquidityPool.sol'...</td>\n",
       "      <td>Similar to a previous finding in the `IndexPoo...</td>\n",
       "      <td>Consider removing the `unchecked` statement to...</td>\n",
       "      <td>Web3Bugs/contracts/35/trident/contracts/pool/c...</td>\n",
       "      <td>function mint(bytes calldata data) public over...</td>\n",
       "    </tr>\n",
       "    <tr>\n",
       "      <th>4</th>\n",
       "      <td>35.md</td>\n",
       "      <td>Incorrect usage of typecasting in `_getAmounts...</td>\n",
       "      <td>high</td>\n",
       "      <td>#### Impact\\nThe `_getAmountsForLiquidity` fun...</td>\n",
       "      <td>{'vuln_file': ['ConcentratedLiquidityPool.sol'...</td>\n",
       "      <td>The `_getAmountsForLiquidity` function of `Con...</td>\n",
       "      <td>Check whether the result of `DyDxMath.getDy` o...</td>\n",
       "      <td>Web3Bugs/contracts/35/trident/contracts/librar...</td>\n",
       "      <td>function _getAmountsForLiquidity(\\n        uin...</td>\n",
       "    </tr>\n",
       "    <tr>\n",
       "      <th>...</th>\n",
       "      <td>...</td>\n",
       "      <td>...</td>\n",
       "      <td>...</td>\n",
       "      <td>...</td>\n",
       "      <td>...</td>\n",
       "      <td>...</td>\n",
       "      <td>...</td>\n",
       "      <td>...</td>\n",
       "      <td>...</td>\n",
       "    </tr>\n",
       "    <tr>\n",
       "      <th>942</th>\n",
       "      <td>52.md</td>\n",
       "      <td>Lacking Validation Of Chainlink' Oracle Queries</td>\n",
       "      <td>medium</td>\n",
       "      <td>#### Impact\\n\\n`TwapOracle.consult()` is missi...</td>\n",
       "      <td>{'vuln_file': ['TwapOracle.sol', 'GasThrottle....</td>\n",
       "      <td>TwapOracle.consult() is missing additional val...</td>\n",
       "      <td>Consider validating the output of latestRoundD...</td>\n",
       "      <td>Web3Bugs/contracts/52/contracts/twap/TwapOracl...</td>\n",
       "      <td>function consult(address token) public view re...</td>\n",
       "    </tr>\n",
       "    <tr>\n",
       "      <th>943</th>\n",
       "      <td>52.md</td>\n",
       "      <td>Vests can be denied</td>\n",
       "      <td>medium</td>\n",
       "      <td>The `LinearVesting.vestFor` function (which is...</td>\n",
       "      <td>{'vuln_file': ['LinearVesting.sol'], 'vuln_fun...</td>\n",
       "      <td>The `LinearVesting.vestFor` function (which is...</td>\n",
       "      <td>There are several ways to mitigate this.\\nThe ...</td>\n",
       "      <td>Web3Bugs/contracts/52/contracts/tokens/vesting...</td>\n",
       "      <td>function vestFor(address user, uint256 amount)...</td>\n",
       "    </tr>\n",
       "    <tr>\n",
       "      <th>944</th>\n",
       "      <td>52.md</td>\n",
       "      <td>Tokens with fee on transfer are not supported</td>\n",
       "      <td>medium</td>\n",
       "      <td>There are ERC20 tokens that charge fee for eve...</td>\n",
       "      <td>{'vuln_file': ['BasePoolV2.sol'], 'vuln_functi...</td>\n",
       "      <td>There are ERC20 tokens that charge fee for eve...</td>\n",
       "      <td>Consider calling `balanceOf()` to get the actu...</td>\n",
       "      <td>Web3Bugs/contracts/52/contracts/dex-v2/pool/Ba...</td>\n",
       "      <td>function mint(\\n        IERC20 foreignAsset,\\n...</td>\n",
       "    </tr>\n",
       "    <tr>\n",
       "      <th>945</th>\n",
       "      <td>52.md</td>\n",
       "      <td>VaderPoolV2.rescue results in loss of funds ra...</td>\n",
       "      <td>medium</td>\n",
       "      <td>#### Impact\\n\\nAny unaccounted for tokens on `...</td>\n",
       "      <td>{'vuln_file': ['BasePoolV2.sol'], 'vuln_functi...</td>\n",
       "      <td>Any unaccounted for tokens on `VaderPoolV2` ca...</td>\n",
       "      <td>Permission this function to only allow Vader g...</td>\n",
       "      <td>Web3Bugs/contracts/52/contracts/dex-v2/pool/Ba...</td>\n",
       "      <td>function rescue(IERC20 foreignAsset) external ...</td>\n",
       "    </tr>\n",
       "    <tr>\n",
       "      <th>946</th>\n",
       "      <td>52.md</td>\n",
       "      <td>Users Can Reset Bond Depositor's Vesting Period</td>\n",
       "      <td>medium</td>\n",
       "      <td>#### Impact\\n\\nThe `VaderBond.deposit()` funct...</td>\n",
       "      <td>{'vuln_file': ['VaderBond.sol'], 'vuln_functio...</td>\n",
       "      <td>The `VaderBond.deposit()` function overwrites ...</td>\n",
       "      <td>Consider preventing users from depositing to a...</td>\n",
       "      <td>Web3Bugs/contracts/52/repo/vader-bond/contract...</td>\n",
       "      <td>function deposit(\\n        uint _amount,\\n    ...</td>\n",
       "    </tr>\n",
       "  </tbody>\n",
       "</table>\n",
       "<p>947 rows × 9 columns</p>\n",
       "</div>"
      ],
      "text/plain": [
       "    file_name                                         vuln_title severity  \\\n",
       "0       35.md  Unsafe cast in `ConcentratedLiquidityPool.burn...     high   \n",
       "1       35.md  Wrong usage of `positionId` in `ConcentratedLi...     high   \n",
       "2       35.md  `ConcentratedLiquidityPoolManager`'s incentive...     high   \n",
       "3       35.md  Overflow in the `mint` function of `Concentrat...     high   \n",
       "4       35.md  Incorrect usage of typecasting in `_getAmounts...     high   \n",
       "..        ...                                                ...      ...   \n",
       "942     52.md    Lacking Validation Of Chainlink' Oracle Queries   medium   \n",
       "943     52.md                                Vests can be denied   medium   \n",
       "944     52.md      Tokens with fee on transfer are not supported   medium   \n",
       "945     52.md  VaderPoolV2.rescue results in loss of funds ra...   medium   \n",
       "946     52.md    Users Can Reset Bond Depositor's Vesting Period   medium   \n",
       "\n",
       "                                           description  \\\n",
       "0    The `ConcentratedLiquidityPool.burn` function ...   \n",
       "1    #### Impact\\nIn the `subscribe` function of `C...   \n",
       "2    The `ConcentratedLiquidityPoolManager` keeps a...   \n",
       "3    #### Impact\\nSimilar to a previous finding in ...   \n",
       "4    #### Impact\\nThe `_getAmountsForLiquidity` fun...   \n",
       "..                                                 ...   \n",
       "942  #### Impact\\n\\n`TwapOracle.consult()` is missi...   \n",
       "943  The `LinearVesting.vestFor` function (which is...   \n",
       "944  There are ERC20 tokens that charge fee for eve...   \n",
       "945  #### Impact\\n\\nAny unaccounted for tokens on `...   \n",
       "946  #### Impact\\n\\nThe `VaderBond.deposit()` funct...   \n",
       "\n",
       "                                              vuln_loc  \\\n",
       "0    {'vuln_file': ['ConcentratedLiquidityPool.sol'...   \n",
       "1    {'vuln_file': ['ConcentratedLiquidityPoolManag...   \n",
       "2    {'vuln_file': ['ConcentratedLiquidityPoolManag...   \n",
       "3    {'vuln_file': ['ConcentratedLiquidityPool.sol'...   \n",
       "4    {'vuln_file': ['ConcentratedLiquidityPool.sol'...   \n",
       "..                                                 ...   \n",
       "942  {'vuln_file': ['TwapOracle.sol', 'GasThrottle....   \n",
       "943  {'vuln_file': ['LinearVesting.sol'], 'vuln_fun...   \n",
       "944  {'vuln_file': ['BasePoolV2.sol'], 'vuln_functi...   \n",
       "945  {'vuln_file': ['BasePoolV2.sol'], 'vuln_functi...   \n",
       "946  {'vuln_file': ['VaderBond.sol'], 'vuln_functio...   \n",
       "\n",
       "                                      vuln_explanation  \\\n",
       "0    The `ConcentratedLiquidityPool.burn` function ...   \n",
       "1    In the `subscribe` function of `ConcentratedLi...   \n",
       "2    The `ConcentratedLiquidityPoolManager` keeps a...   \n",
       "3    Similar to a previous finding in the `IndexPoo...   \n",
       "4    The `_getAmountsForLiquidity` function of `Con...   \n",
       "..                                                 ...   \n",
       "942  TwapOracle.consult() is missing additional val...   \n",
       "943  The `LinearVesting.vestFor` function (which is...   \n",
       "944  There are ERC20 tokens that charge fee for eve...   \n",
       "945  Any unaccounted for tokens on `VaderPoolV2` ca...   \n",
       "946  The `VaderBond.deposit()` function overwrites ...   \n",
       "\n",
       "                                   vuln_recommendation  \\\n",
       "0    Even though Solidity 0.8.x is used, type casts...   \n",
       "1    Change `positionId` to `incentiveId` in the re...   \n",
       "2    In `reclaimIncentive`, reduce `incentive.rewar...   \n",
       "3    Consider removing the `unchecked` statement to...   \n",
       "4    Check whether the result of `DyDxMath.getDy` o...   \n",
       "..                                                 ...   \n",
       "942  Consider validating the output of latestRoundD...   \n",
       "943  There are several ways to mitigate this.\\nThe ...   \n",
       "944  Consider calling `balanceOf()` to get the actu...   \n",
       "945  Permission this function to only allow Vader g...   \n",
       "946  Consider preventing users from depositing to a...   \n",
       "\n",
       "                                        vuln_file_path  \\\n",
       "0    Web3Bugs/contracts/35/trident/contracts/pool/c...   \n",
       "1    Web3Bugs/contracts/35/trident/contracts/pool/c...   \n",
       "2    Web3Bugs/contracts/35/trident/contracts/pool/c...   \n",
       "3    Web3Bugs/contracts/35/trident/contracts/pool/c...   \n",
       "4    Web3Bugs/contracts/35/trident/contracts/librar...   \n",
       "..                                                 ...   \n",
       "942  Web3Bugs/contracts/52/contracts/twap/TwapOracl...   \n",
       "943  Web3Bugs/contracts/52/contracts/tokens/vesting...   \n",
       "944  Web3Bugs/contracts/52/contracts/dex-v2/pool/Ba...   \n",
       "945  Web3Bugs/contracts/52/contracts/dex-v2/pool/Ba...   \n",
       "946  Web3Bugs/contracts/52/repo/vader-bond/contract...   \n",
       "\n",
       "                                             vuln_code  \n",
       "0    function burn(bytes calldata data) public over...  \n",
       "1    function subscribe(uint256 positionId, uint256...  \n",
       "2    function reclaimIncentive(\\n        IConcentra...  \n",
       "3    function mint(bytes calldata data) public over...  \n",
       "4    function _getAmountsForLiquidity(\\n        uin...  \n",
       "..                                                 ...  \n",
       "942  function consult(address token) public view re...  \n",
       "943  function vestFor(address user, uint256 amount)...  \n",
       "944  function mint(\\n        IERC20 foreignAsset,\\n...  \n",
       "945  function rescue(IERC20 foreignAsset) external ...  \n",
       "946  function deposit(\\n        uint _amount,\\n    ...  \n",
       "\n",
       "[947 rows x 9 columns]"
      ]
     },
     "execution_count": 6,
     "metadata": {},
     "output_type": "execute_result"
    }
   ],
   "source": [
    "vuln_code_df"
   ]
  },
  {
   "cell_type": "code",
   "execution_count": 7,
   "metadata": {},
   "outputs": [
    {
     "data": {
      "text/html": [
       "<div>\n",
       "<style scoped>\n",
       "    .dataframe tbody tr th:only-of-type {\n",
       "        vertical-align: middle;\n",
       "    }\n",
       "\n",
       "    .dataframe tbody tr th {\n",
       "        vertical-align: top;\n",
       "    }\n",
       "\n",
       "    .dataframe thead th {\n",
       "        text-align: right;\n",
       "    }\n",
       "</style>\n",
       "<table border=\"1\" class=\"dataframe\">\n",
       "  <thead>\n",
       "    <tr style=\"text-align: right;\">\n",
       "      <th></th>\n",
       "      <th>project_id</th>\n",
       "      <th>file_path</th>\n",
       "      <th>code</th>\n",
       "    </tr>\n",
       "  </thead>\n",
       "  <tbody>\n",
       "    <tr>\n",
       "      <th>0</th>\n",
       "      <td>35</td>\n",
       "      <td>Web3Bugs/contracts/35/trident/contracts/librar...</td>\n",
       "      <td>// SPDX-License-Identifier: GPL-3.0-or-later\\n...</td>\n",
       "    </tr>\n",
       "    <tr>\n",
       "      <th>1</th>\n",
       "      <td>35</td>\n",
       "      <td>Web3Bugs/contracts/35/trident/contracts/librar...</td>\n",
       "      <td>// SPDX-License-Identifier: GPL-3.0-or-later\\n...</td>\n",
       "    </tr>\n",
       "    <tr>\n",
       "      <th>2</th>\n",
       "      <td>35</td>\n",
       "      <td>Web3Bugs/contracts/35/trident/contracts/pool/c...</td>\n",
       "      <td>// SPDX-License-Identifier: GPL-3.0-or-later\\n...</td>\n",
       "    </tr>\n",
       "    <tr>\n",
       "      <th>3</th>\n",
       "      <td>35</td>\n",
       "      <td>Web3Bugs/contracts/35/trident/contracts/pool/f...</td>\n",
       "      <td>// SPDX-License-Identifier: GPL-3.0-or-later\\n...</td>\n",
       "    </tr>\n",
       "    <tr>\n",
       "      <th>4</th>\n",
       "      <td>35</td>\n",
       "      <td>Web3Bugs/contracts/35/trident/contracts/librar...</td>\n",
       "      <td>// SPDX-License-Identifier: GPL-2.0-or-later\\n...</td>\n",
       "    </tr>\n",
       "    <tr>\n",
       "      <th>...</th>\n",
       "      <td>...</td>\n",
       "      <td>...</td>\n",
       "      <td>...</td>\n",
       "    </tr>\n",
       "    <tr>\n",
       "      <th>6283</th>\n",
       "      <td>52</td>\n",
       "      <td>Web3Bugs/contracts/52/contracts/external/inter...</td>\n",
       "      <td>// SPDX-License-Identifier: Unlicense\\npragma ...</td>\n",
       "    </tr>\n",
       "    <tr>\n",
       "      <th>6284</th>\n",
       "      <td>52</td>\n",
       "      <td>Web3Bugs/contracts/52/contracts/tokens/vesting...</td>\n",
       "      <td>// SPDX-License-Identifier: Unlicense\\n\\npragm...</td>\n",
       "    </tr>\n",
       "    <tr>\n",
       "      <th>6285</th>\n",
       "      <td>52</td>\n",
       "      <td>Web3Bugs/contracts/52/contracts/interfaces/dex...</td>\n",
       "      <td>// SPDX-License-Identifier: Unlicense\\n\\npragm...</td>\n",
       "    </tr>\n",
       "    <tr>\n",
       "      <th>6286</th>\n",
       "      <td>52</td>\n",
       "      <td>Web3Bugs/contracts/52/contracts/external/libra...</td>\n",
       "      <td>// SPDX-License-Identifier: GPL-3.0-or-later\\n...</td>\n",
       "    </tr>\n",
       "    <tr>\n",
       "      <th>6287</th>\n",
       "      <td>52</td>\n",
       "      <td>Web3Bugs/contracts/52/contracts/dex-v2/pool/Ba...</td>\n",
       "      <td>// SPDX-License-Identifier: Unlicense\\n\\npragm...</td>\n",
       "    </tr>\n",
       "  </tbody>\n",
       "</table>\n",
       "<p>6288 rows × 3 columns</p>\n",
       "</div>"
      ],
      "text/plain": [
       "     project_id                                          file_path  \\\n",
       "0            35  Web3Bugs/contracts/35/trident/contracts/librar...   \n",
       "1            35  Web3Bugs/contracts/35/trident/contracts/librar...   \n",
       "2            35  Web3Bugs/contracts/35/trident/contracts/pool/c...   \n",
       "3            35  Web3Bugs/contracts/35/trident/contracts/pool/f...   \n",
       "4            35  Web3Bugs/contracts/35/trident/contracts/librar...   \n",
       "...         ...                                                ...   \n",
       "6283         52  Web3Bugs/contracts/52/contracts/external/inter...   \n",
       "6284         52  Web3Bugs/contracts/52/contracts/tokens/vesting...   \n",
       "6285         52  Web3Bugs/contracts/52/contracts/interfaces/dex...   \n",
       "6286         52  Web3Bugs/contracts/52/contracts/external/libra...   \n",
       "6287         52  Web3Bugs/contracts/52/contracts/dex-v2/pool/Ba...   \n",
       "\n",
       "                                                   code  \n",
       "0     // SPDX-License-Identifier: GPL-3.0-or-later\\n...  \n",
       "1     // SPDX-License-Identifier: GPL-3.0-or-later\\n...  \n",
       "2     // SPDX-License-Identifier: GPL-3.0-or-later\\n...  \n",
       "3     // SPDX-License-Identifier: GPL-3.0-or-later\\n...  \n",
       "4     // SPDX-License-Identifier: GPL-2.0-or-later\\n...  \n",
       "...                                                 ...  \n",
       "6283  // SPDX-License-Identifier: Unlicense\\npragma ...  \n",
       "6284  // SPDX-License-Identifier: Unlicense\\n\\npragm...  \n",
       "6285  // SPDX-License-Identifier: Unlicense\\n\\npragm...  \n",
       "6286  // SPDX-License-Identifier: GPL-3.0-or-later\\n...  \n",
       "6287  // SPDX-License-Identifier: Unlicense\\n\\npragm...  \n",
       "\n",
       "[6288 rows x 3 columns]"
      ]
     },
     "execution_count": 7,
     "metadata": {},
     "output_type": "execute_result"
    }
   ],
   "source": [
    "non_vuln_code_df"
   ]
  },
  {
   "cell_type": "code",
   "execution_count": null,
   "metadata": {},
   "outputs": [],
   "source": [
    "vuln_code_df.to_csv(\"vulnerable_code.csv\", index=False)\n",
    "non_vuln_code_df.to_csv(\"non_vulnerable_code.csv\", index=False)"
   ]
  },
  {
   "cell_type": "code",
   "execution_count": 10,
   "metadata": {},
   "outputs": [],
   "source": [
    "# Removing test case\n",
    "clean_non_vuln_df = non_vuln_code_df[non_vuln_code_df['file_path'].apply(lambda x: \"test\" not in str(x) if pd.notnull(x) else False)]"
   ]
  },
  {
   "cell_type": "code",
   "execution_count": 12,
   "metadata": {},
   "outputs": [
    {
     "name": "stderr",
     "output_type": "stream",
     "text": [
      "/tmp/ipykernel_8346/920649238.py:4: SettingWithCopyWarning: \n",
      "A value is trying to be set on a copy of a slice from a DataFrame.\n",
      "Try using .loc[row_indexer,col_indexer] = value instead\n",
      "\n",
      "See the caveats in the documentation: https://pandas.pydata.org/pandas-docs/stable/user_guide/indexing.html#returning-a-view-versus-a-copy\n",
      "  clean_non_vuln_df['project_id'] = clean_non_vuln_df['project_id'].astype(int)\n"
     ]
    },
    {
     "data": {
      "text/html": [
       "<div>\n",
       "<style scoped>\n",
       "    .dataframe tbody tr th:only-of-type {\n",
       "        vertical-align: middle;\n",
       "    }\n",
       "\n",
       "    .dataframe tbody tr th {\n",
       "        vertical-align: top;\n",
       "    }\n",
       "\n",
       "    .dataframe thead th {\n",
       "        text-align: right;\n",
       "    }\n",
       "</style>\n",
       "<table border=\"1\" class=\"dataframe\">\n",
       "  <thead>\n",
       "    <tr style=\"text-align: right;\">\n",
       "      <th></th>\n",
       "      <th>project_id</th>\n",
       "      <th>file_path</th>\n",
       "      <th>code</th>\n",
       "    </tr>\n",
       "  </thead>\n",
       "  <tbody>\n",
       "    <tr>\n",
       "      <th>0</th>\n",
       "      <td>52</td>\n",
       "      <td>Web3Bugs/contracts/52/contracts/interfaces/tok...</td>\n",
       "      <td>// SPDX-License-Identifier: Unlicense\\n\\npragm...</td>\n",
       "    </tr>\n",
       "    <tr>\n",
       "      <th>1</th>\n",
       "      <td>52</td>\n",
       "      <td>Web3Bugs/contracts/52/contracts/x-vader/XVader...</td>\n",
       "      <td>// SPDX-License-Identifier: MIT\\npragma solidi...</td>\n",
       "    </tr>\n",
       "    <tr>\n",
       "      <th>2</th>\n",
       "      <td>52</td>\n",
       "      <td>Web3Bugs/contracts/52/contracts/interfaces/dex...</td>\n",
       "      <td>// SPDX-License-Identifier: Unlicense\\n\\npragm...</td>\n",
       "    </tr>\n",
       "    <tr>\n",
       "      <th>3</th>\n",
       "      <td>52</td>\n",
       "      <td>Web3Bugs/contracts/52/contracts/external/inter...</td>\n",
       "      <td>// SPDX-License-Identifier: Unlicense\\npragma ...</td>\n",
       "    </tr>\n",
       "    <tr>\n",
       "      <th>4</th>\n",
       "      <td>52</td>\n",
       "      <td>Web3Bugs/contracts/52/contracts/external/libra...</td>\n",
       "      <td>// SPDX-License-Identifier: Unlicense\\n\\npragm...</td>\n",
       "    </tr>\n",
       "    <tr>\n",
       "      <th>...</th>\n",
       "      <td>...</td>\n",
       "      <td>...</td>\n",
       "      <td>...</td>\n",
       "    </tr>\n",
       "    <tr>\n",
       "      <th>1129</th>\n",
       "      <td>77</td>\n",
       "      <td>Web3Bugs/contracts/77/elasticswap/src/contract...</td>\n",
       "      <td>//SPDX-License-Identifier: GPL-3.0\\npragma sol...</td>\n",
       "    </tr>\n",
       "    <tr>\n",
       "      <th>1130</th>\n",
       "      <td>53</td>\n",
       "      <td>Web3Bugs/contracts/53/contracts/MixinOperatorR...</td>\n",
       "      <td>// SPDX-License-Identifier: GPL-3.0-or-later\\n...</td>\n",
       "    </tr>\n",
       "    <tr>\n",
       "      <th>1131</th>\n",
       "      <td>53</td>\n",
       "      <td>Web3Bugs/contracts/53/contracts/mocks/MockSmar...</td>\n",
       "      <td></td>\n",
       "    </tr>\n",
       "    <tr>\n",
       "      <th>1132</th>\n",
       "      <td>53</td>\n",
       "      <td>Web3Bugs/contracts/53/contracts/interfaces/INe...</td>\n",
       "      <td>// SPDX-License-Identifier: GPL-3.0-or-later\\n...</td>\n",
       "    </tr>\n",
       "    <tr>\n",
       "      <th>1133</th>\n",
       "      <td>53</td>\n",
       "      <td>Web3Bugs/contracts/53/contracts/mocks/WETHMock...</td>\n",
       "      <td>/**\\n *Submitted for verification at Etherscan...</td>\n",
       "    </tr>\n",
       "  </tbody>\n",
       "</table>\n",
       "<p>1134 rows × 3 columns</p>\n",
       "</div>"
      ],
      "text/plain": [
       "      project_id                                          file_path  \\\n",
       "0             52  Web3Bugs/contracts/52/contracts/interfaces/tok...   \n",
       "1             52  Web3Bugs/contracts/52/contracts/x-vader/XVader...   \n",
       "2             52  Web3Bugs/contracts/52/contracts/interfaces/dex...   \n",
       "3             52  Web3Bugs/contracts/52/contracts/external/inter...   \n",
       "4             52  Web3Bugs/contracts/52/contracts/external/libra...   \n",
       "...          ...                                                ...   \n",
       "1129          77  Web3Bugs/contracts/77/elasticswap/src/contract...   \n",
       "1130          53  Web3Bugs/contracts/53/contracts/MixinOperatorR...   \n",
       "1131          53  Web3Bugs/contracts/53/contracts/mocks/MockSmar...   \n",
       "1132          53  Web3Bugs/contracts/53/contracts/interfaces/INe...   \n",
       "1133          53  Web3Bugs/contracts/53/contracts/mocks/WETHMock...   \n",
       "\n",
       "                                                   code  \n",
       "0     // SPDX-License-Identifier: Unlicense\\n\\npragm...  \n",
       "1     // SPDX-License-Identifier: MIT\\npragma solidi...  \n",
       "2     // SPDX-License-Identifier: Unlicense\\n\\npragm...  \n",
       "3     // SPDX-License-Identifier: Unlicense\\npragma ...  \n",
       "4     // SPDX-License-Identifier: Unlicense\\n\\npragm...  \n",
       "...                                                 ...  \n",
       "1129  //SPDX-License-Identifier: GPL-3.0\\npragma sol...  \n",
       "1130  // SPDX-License-Identifier: GPL-3.0-or-later\\n...  \n",
       "1131                                                     \n",
       "1132  // SPDX-License-Identifier: GPL-3.0-or-later\\n...  \n",
       "1133  /**\\n *Submitted for verification at Etherscan...  \n",
       "\n",
       "[1134 rows x 3 columns]"
      ]
     },
     "execution_count": 12,
     "metadata": {},
     "output_type": "execute_result"
    }
   ],
   "source": [
    "vuln_project_id = [int(x[:-3]) for x in vuln_code_df['file_name'].value_counts().index]\n",
    "vuln_project_count = [int(x) for x in vuln_code_df['file_name'].value_counts().values]\n",
    "\n",
    "clean_non_vuln_df['project_id'] = clean_non_vuln_df['project_id'].astype(int)\n",
    "\n",
    "non_vuln_code_list = []\n",
    "\n",
    "for idx, item in enumerate(vuln_project_id):\n",
    "    sample_size = min(len(clean_non_vuln_df[clean_non_vuln_df['project_id'] == item]), vuln_project_count[idx]+3)\n",
    "    sample_code = clean_non_vuln_df[clean_non_vuln_df['project_id'] == item].sample(sample_size, random_state=42)\n",
    "    non_vuln_code_list.append(sample_code)\n",
    "\n",
    "concatenated_df = pd.concat(non_vuln_code_list, ignore_index=True)\n",
    "concatenated_df"
   ]
  },
  {
   "cell_type": "code",
   "execution_count": 13,
   "metadata": {},
   "outputs": [
    {
     "name": "stderr",
     "output_type": "stream",
     "text": [
      "Processing:   0%|          | 0/1134 [00:00<?, ?it/s]"
     ]
    },
    {
     "name": "stderr",
     "output_type": "stream",
     "text": [
      "Processing:   1%|          | 11/1134 [00:00<00:56, 19.92it/s]"
     ]
    },
    {
     "name": "stdout",
     "output_type": "stream",
     "text": [
      "Parsing error message empty range for randrange() (1, 1, 0)\n",
      "Parsing error message empty range for randrange() (1, 1, 0)\n"
     ]
    },
    {
     "name": "stderr",
     "output_type": "stream",
     "text": [
      "Processing:   2%|▏         | 20/1134 [00:01<01:52,  9.93it/s]"
     ]
    },
    {
     "name": "stdout",
     "output_type": "stream",
     "text": [
      "Parsing error message empty range for randrange() (1, 1, 0)\n"
     ]
    },
    {
     "name": "stderr",
     "output_type": "stream",
     "text": [
      "Processing:   2%|▏         | 25/1134 [00:02<02:53,  6.38it/s]"
     ]
    },
    {
     "name": "stdout",
     "output_type": "stream",
     "text": [
      "Parsing error message unrecognized expression\n",
      "Parsing error message empty range for randrange() (1, 1, 0)\n"
     ]
    },
    {
     "name": "stderr",
     "output_type": "stream",
     "text": [
      "Processing:   7%|▋         | 75/1134 [00:15<02:42,  6.52it/s]"
     ]
    },
    {
     "name": "stdout",
     "output_type": "stream",
     "text": [
      "Parsing error message unrecognized expression\n"
     ]
    },
    {
     "name": "stderr",
     "output_type": "stream",
     "text": [
      "Processing:   7%|▋         | 79/1134 [00:16<03:22,  5.22it/s]"
     ]
    },
    {
     "name": "stdout",
     "output_type": "stream",
     "text": [
      "Parsing error message unrecognized expression\n"
     ]
    },
    {
     "name": "stderr",
     "output_type": "stream",
     "text": [
      "Processing:   8%|▊         | 86/1134 [00:19<04:42,  3.70it/s]"
     ]
    },
    {
     "name": "stdout",
     "output_type": "stream",
     "text": [
      "Parsing error message 'list' object has no attribute 'getText'\n"
     ]
    },
    {
     "name": "stderr",
     "output_type": "stream",
     "text": [
      "Processing:   8%|▊         | 90/1134 [00:22<08:49,  1.97it/s]"
     ]
    },
    {
     "name": "stdout",
     "output_type": "stream",
     "text": [
      "Parsing error message unrecognized expression\n"
     ]
    },
    {
     "name": "stderr",
     "output_type": "stream",
     "text": [
      "Processing:   9%|▉         | 107/1134 [00:24<01:53,  9.06it/s]"
     ]
    },
    {
     "name": "stdout",
     "output_type": "stream",
     "text": [
      "Parsing error message unrecognized expression\n",
      "Parsing error message empty range for randrange() (1, 1, 0)\n"
     ]
    },
    {
     "name": "stderr",
     "output_type": "stream",
     "text": [
      "Processing:  10%|█         | 117/1134 [00:25<01:51,  9.10it/s]"
     ]
    },
    {
     "name": "stdout",
     "output_type": "stream",
     "text": [
      "Parsing error message empty range for randrange() (1, 1, 0)\n"
     ]
    },
    {
     "name": "stderr",
     "output_type": "stream",
     "text": [
      "Processing:  13%|█▎        | 144/1134 [00:29<02:55,  5.65it/s]"
     ]
    },
    {
     "name": "stdout",
     "output_type": "stream",
     "text": [
      "Parsing error message unrecognized expression\n"
     ]
    },
    {
     "name": "stderr",
     "output_type": "stream",
     "text": [
      "Processing:  15%|█▍        | 170/1134 [00:34<01:34, 10.22it/s]"
     ]
    },
    {
     "name": "stdout",
     "output_type": "stream",
     "text": [
      "Parsing error message empty range for randrange() (1, 1, 0)\n"
     ]
    },
    {
     "name": "stderr",
     "output_type": "stream",
     "text": [
      "Processing:  16%|█▌        | 176/1134 [00:34<01:02, 15.41it/s]"
     ]
    },
    {
     "name": "stdout",
     "output_type": "stream",
     "text": [
      "Parsing error message 'NoneType' object has no attribute 'identifier'\n",
      "Parsing error message empty range for randrange() (1, 1, 0)\n"
     ]
    },
    {
     "name": "stderr",
     "output_type": "stream",
     "text": [
      "Processing:  17%|█▋        | 188/1134 [00:37<02:38,  5.98it/s]"
     ]
    },
    {
     "name": "stdout",
     "output_type": "stream",
     "text": [
      "Parsing error message empty range for randrange() (1, 1, 0)\n"
     ]
    },
    {
     "name": "stderr",
     "output_type": "stream",
     "text": [
      "Processing:  19%|█▊        | 210/1134 [00:44<05:23,  2.85it/s]"
     ]
    },
    {
     "name": "stdout",
     "output_type": "stream",
     "text": [
      "Parsing error message unrecognized expression\n"
     ]
    },
    {
     "name": "stderr",
     "output_type": "stream",
     "text": [
      "Processing:  19%|█▉        | 217/1134 [00:45<03:50,  3.98it/s]"
     ]
    },
    {
     "name": "stdout",
     "output_type": "stream",
     "text": [
      "Parsing error message unrecognized expression\n"
     ]
    },
    {
     "name": "stderr",
     "output_type": "stream",
     "text": [
      "Processing:  19%|█▉        | 219/1134 [00:48<07:58,  1.91it/s]"
     ]
    },
    {
     "name": "stdout",
     "output_type": "stream",
     "text": [
      "Parsing error message unrecognized expression\n"
     ]
    },
    {
     "name": "stderr",
     "output_type": "stream",
     "text": [
      "Processing:  20%|█▉        | 226/1134 [00:50<04:57,  3.05it/s]"
     ]
    },
    {
     "name": "stdout",
     "output_type": "stream",
     "text": [
      "Parsing error message unrecognized expression\n"
     ]
    },
    {
     "name": "stderr",
     "output_type": "stream",
     "text": [
      "Processing:  21%|██        | 240/1134 [00:52<03:12,  4.65it/s]"
     ]
    },
    {
     "name": "stdout",
     "output_type": "stream",
     "text": [
      "Parsing error message empty range for randrange() (1, 1, 0)\n"
     ]
    },
    {
     "name": "stderr",
     "output_type": "stream",
     "text": [
      "Processing:  22%|██▏       | 249/1134 [00:54<03:20,  4.41it/s]line 51:33 extraneous input ',' expecting {'from', '{', '}', '(', 'error', 'for', 'function', 'address', 'calldata', 'if', 'assembly', 'return', 'revert', 'byte', 'let', '=:', 'switch', 'callback', DecimalNumber, HexNumber, HexLiteralFragment, 'break', 'continue', 'leave', 'payable', 'constructor', 'receive', Identifier, StringLiteralFragment}\n",
      "line 53:34 extraneous input ',' expecting {<EOF>, 'pragma', '~', 'import', 'from', '{', '}', 'abstract', 'contract', 'interface', 'library', '(', 'error', 'using', 'for', 'struct', 'modifier', 'function', 'event', 'enum', '[', 'address', 'mapping', 'calldata', 'if', 'try', 'while', 'unchecked', 'assembly', 'do', 'return', 'throw', 'emit', 'revert', 'var', 'bool', 'string', 'byte', '++', '--', 'new', '+', '-', 'after', 'delete', '!', 'let', '=:', 'switch', 'callback', Int, Uint, Byte, Fixed, Ufixed, BooleanLiteral, DecimalNumber, HexNumber, HexLiteralFragment, 'break', 'continue', 'leave', 'payable', 'type', 'constructor', 'fallback', 'receive', Identifier, StringLiteralFragment}\n",
      "line 55:31 extraneous input ',' expecting {<EOF>, 'pragma', '~', 'import', 'from', '{', '}', 'abstract', 'contract', 'interface', 'library', '(', 'error', 'using', 'for', 'struct', 'modifier', 'function', 'event', 'enum', '[', 'address', 'mapping', 'calldata', 'if', 'try', 'while', 'unchecked', 'assembly', 'do', 'return', 'throw', 'emit', 'revert', 'var', 'bool', 'string', 'byte', '++', '--', 'new', '+', '-', 'after', 'delete', '!', 'let', '=:', 'switch', 'callback', Int, Uint, Byte, Fixed, Ufixed, BooleanLiteral, DecimalNumber, HexNumber, HexLiteralFragment, 'break', 'continue', 'leave', 'payable', 'type', 'constructor', 'fallback', 'receive', Identifier, StringLiteralFragment}\n",
      "line 57:30 extraneous input ',' expecting {<EOF>, 'pragma', '~', 'import', 'from', '{', '}', 'abstract', 'contract', 'interface', 'library', '(', 'error', 'using', 'for', 'struct', 'modifier', 'function', 'event', 'enum', '[', 'address', 'mapping', 'calldata', 'if', 'try', 'while', 'unchecked', 'assembly', 'do', 'return', 'throw', 'emit', 'revert', 'var', 'bool', 'string', 'byte', '++', '--', 'new', '+', '-', 'after', 'delete', '!', 'let', '=:', 'switch', 'callback', Int, Uint, Byte, Fixed, Ufixed, BooleanLiteral, DecimalNumber, HexNumber, HexLiteralFragment, 'break', 'continue', 'leave', 'payable', 'type', 'constructor', 'fallback', 'receive', Identifier, StringLiteralFragment}\n",
      "line 59:32 extraneous input ',' expecting {<EOF>, 'pragma', '~', 'import', 'from', '{', '}', 'abstract', 'contract', 'interface', 'library', '(', 'error', 'using', 'for', 'struct', 'modifier', 'function', 'event', 'enum', '[', 'address', 'mapping', 'calldata', 'if', 'try', 'while', 'unchecked', 'assembly', 'do', 'return', 'throw', 'emit', 'revert', 'var', 'bool', 'string', 'byte', '++', '--', 'new', '+', '-', 'after', 'delete', '!', 'let', '=:', 'switch', 'callback', Int, Uint, Byte, Fixed, Ufixed, BooleanLiteral, DecimalNumber, HexNumber, HexLiteralFragment, 'break', 'continue', 'leave', 'payable', 'type', 'constructor', 'fallback', 'receive', Identifier, StringLiteralFragment}\n"
     ]
    },
    {
     "name": "stdout",
     "output_type": "stream",
     "text": [
      "Parsing error message 'NoneType' object has no attribute 'assemblyIdentifierList'\n"
     ]
    },
    {
     "name": "stderr",
     "output_type": "stream",
     "text": [
      "Processing:  27%|██▋       | 305/1134 [01:07<02:19,  5.94it/s]"
     ]
    },
    {
     "name": "stdout",
     "output_type": "stream",
     "text": [
      "Parsing error message unrecognized expression\n"
     ]
    },
    {
     "name": "stderr",
     "output_type": "stream",
     "text": [
      "Processing:  28%|██▊       | 316/1134 [01:11<03:32,  3.85it/s]line 140:47 missing ')' at '{'\n",
      "Processing:  34%|███▎      | 382/1134 [01:23<02:02,  6.14it/s]"
     ]
    },
    {
     "name": "stdout",
     "output_type": "stream",
     "text": [
      "Parsing error message unrecognized expression\n"
     ]
    },
    {
     "name": "stderr",
     "output_type": "stream",
     "text": [
      "Processing:  35%|███▌      | 401/1134 [01:30<03:27,  3.53it/s]"
     ]
    },
    {
     "name": "stdout",
     "output_type": "stream",
     "text": [
      "Parsing error message unrecognized expression\n"
     ]
    },
    {
     "name": "stderr",
     "output_type": "stream",
     "text": [
      "Processing:  35%|███▌      | 402/1134 [01:32<07:15,  1.68it/s]"
     ]
    },
    {
     "name": "stdout",
     "output_type": "stream",
     "text": [
      "Parsing error message unrecognized expression\n"
     ]
    },
    {
     "name": "stderr",
     "output_type": "stream",
     "text": [
      "Processing:  36%|███▌      | 404/1134 [01:33<06:39,  1.83it/s]"
     ]
    },
    {
     "name": "stdout",
     "output_type": "stream",
     "text": [
      "Parsing error message unrecognized expression\n"
     ]
    },
    {
     "name": "stderr",
     "output_type": "stream",
     "text": [
      "Processing:  36%|███▌      | 409/1134 [01:33<03:02,  3.96it/s]"
     ]
    },
    {
     "name": "stdout",
     "output_type": "stream",
     "text": [
      "Parsing error message unrecognized expression\n",
      "Parsing error message unrecognized expression\n"
     ]
    },
    {
     "name": "stderr",
     "output_type": "stream",
     "text": [
      "Processing:  36%|███▌      | 411/1134 [01:34<02:43,  4.42it/s]"
     ]
    },
    {
     "name": "stdout",
     "output_type": "stream",
     "text": [
      "Parsing error message unrecognized expression\n"
     ]
    },
    {
     "name": "stderr",
     "output_type": "stream",
     "text": [
      "Processing:  37%|███▋      | 425/1134 [01:39<04:40,  2.53it/s]"
     ]
    },
    {
     "name": "stdout",
     "output_type": "stream",
     "text": [
      "Parsing error message unrecognized expression\n"
     ]
    },
    {
     "name": "stderr",
     "output_type": "stream",
     "text": [
      "Processing:  38%|███▊      | 435/1134 [01:43<03:37,  3.21it/s]"
     ]
    },
    {
     "name": "stdout",
     "output_type": "stream",
     "text": [
      "Parsing error message unrecognized expression\n"
     ]
    },
    {
     "name": "stderr",
     "output_type": "stream",
     "text": [
      "Processing:  39%|███▉      | 440/1134 [01:44<02:16,  5.09it/s]"
     ]
    },
    {
     "name": "stdout",
     "output_type": "stream",
     "text": [
      "Parsing error message empty range for randrange() (1, 1, 0)\n"
     ]
    },
    {
     "name": "stderr",
     "output_type": "stream",
     "text": [
      "Processing:  39%|███▉      | 447/1134 [01:45<01:35,  7.20it/s]"
     ]
    },
    {
     "name": "stdout",
     "output_type": "stream",
     "text": [
      "Parsing error message unrecognized expression\n",
      "Parsing error message unrecognized expression\n",
      "Parsing error message empty range for randrange() (1, 1, 0)\n"
     ]
    },
    {
     "name": "stderr",
     "output_type": "stream",
     "text": [
      "Processing:  40%|████      | 456/1134 [01:46<00:50, 13.35it/s]"
     ]
    },
    {
     "name": "stdout",
     "output_type": "stream",
     "text": [
      "Parsing error message unrecognized expression\n"
     ]
    },
    {
     "name": "stderr",
     "output_type": "stream",
     "text": [
      "Processing:  43%|████▎     | 484/1134 [01:49<01:06,  9.74it/s]"
     ]
    },
    {
     "name": "stdout",
     "output_type": "stream",
     "text": [
      "Parsing error message empty range for randrange() (1, 1, 0)\n"
     ]
    },
    {
     "name": "stderr",
     "output_type": "stream",
     "text": [
      "Processing:  44%|████▎     | 496/1134 [01:54<04:28,  2.38it/s]"
     ]
    },
    {
     "name": "stdout",
     "output_type": "stream",
     "text": [
      "Parsing error message unrecognized expression\n"
     ]
    },
    {
     "name": "stderr",
     "output_type": "stream",
     "text": [
      "Processing:  44%|████▍     | 498/1134 [01:56<05:21,  1.98it/s]"
     ]
    },
    {
     "name": "stdout",
     "output_type": "stream",
     "text": [
      "Parsing error message empty range for randrange() (1, 1, 0)\n"
     ]
    },
    {
     "name": "stderr",
     "output_type": "stream",
     "text": [
      "Processing:  45%|████▍     | 505/1134 [01:57<02:48,  3.73it/s]"
     ]
    },
    {
     "name": "stdout",
     "output_type": "stream",
     "text": [
      "Parsing error message unrecognized expression\n"
     ]
    },
    {
     "name": "stderr",
     "output_type": "stream",
     "text": [
      "Processing:  47%|████▋     | 528/1134 [02:01<01:33,  6.48it/s]"
     ]
    },
    {
     "name": "stdout",
     "output_type": "stream",
     "text": [
      "Parsing error message empty range for randrange() (1, 1, 0)\n"
     ]
    },
    {
     "name": "stderr",
     "output_type": "stream",
     "text": [
      "Processing:  49%|████▉     | 554/1134 [02:08<01:16,  7.54it/s]"
     ]
    },
    {
     "name": "stdout",
     "output_type": "stream",
     "text": [
      "Parsing error message unrecognized expression\n"
     ]
    },
    {
     "name": "stderr",
     "output_type": "stream",
     "text": [
      "Processing:  54%|█████▍    | 617/1134 [02:17<00:45, 11.41it/s]"
     ]
    },
    {
     "name": "stdout",
     "output_type": "stream",
     "text": [
      "Parsing error message unrecognized expression\n"
     ]
    },
    {
     "name": "stderr",
     "output_type": "stream",
     "text": [
      "Processing:  63%|██████▎   | 712/1134 [02:36<01:06,  6.38it/s]"
     ]
    },
    {
     "name": "stdout",
     "output_type": "stream",
     "text": [
      "Parsing error message empty range for randrange() (1, 1, 0)\n"
     ]
    },
    {
     "name": "stderr",
     "output_type": "stream",
     "text": [
      "Processing:  64%|██████▍   | 727/1134 [02:38<00:51,  7.88it/s]"
     ]
    },
    {
     "name": "stdout",
     "output_type": "stream",
     "text": [
      "Parsing error message unrecognized expression\n"
     ]
    },
    {
     "name": "stderr",
     "output_type": "stream",
     "text": [
      "Processing:  66%|██████▋   | 752/1134 [02:49<01:41,  3.78it/s]"
     ]
    },
    {
     "name": "stdout",
     "output_type": "stream",
     "text": [
      "Parsing error message empty range for randrange() (1, 1, 0)\n"
     ]
    },
    {
     "name": "stderr",
     "output_type": "stream",
     "text": [
      "Processing:  67%|██████▋   | 755/1134 [02:49<01:19,  4.76it/s]"
     ]
    },
    {
     "name": "stdout",
     "output_type": "stream",
     "text": [
      "Parsing error message empty range for randrange() (1, 1, 0)\n"
     ]
    },
    {
     "name": "stderr",
     "output_type": "stream",
     "text": [
      "Processing:  67%|██████▋   | 756/1134 [02:50<01:40,  3.76it/s]"
     ]
    },
    {
     "name": "stdout",
     "output_type": "stream",
     "text": [
      "Parsing error message unrecognized expression\n",
      "Parsing error message unrecognized expression\n"
     ]
    },
    {
     "name": "stderr",
     "output_type": "stream",
     "text": [
      "Processing:  67%|██████▋   | 761/1134 [02:50<00:57,  6.50it/s]"
     ]
    },
    {
     "name": "stdout",
     "output_type": "stream",
     "text": [
      "Parsing error message empty range for randrange() (1, 1, 0)\n"
     ]
    },
    {
     "name": "stderr",
     "output_type": "stream",
     "text": [
      "Processing:  74%|███████▍  | 837/1134 [03:00<00:20, 14.25it/s]"
     ]
    },
    {
     "name": "stdout",
     "output_type": "stream",
     "text": [
      "Parsing error message empty range for randrange() (1, 1, 0)\n",
      "Parsing error message unrecognized expression\n",
      "Parsing error message unrecognized expression\n"
     ]
    },
    {
     "name": "stderr",
     "output_type": "stream",
     "text": [
      "Processing:  74%|███████▍  | 841/1134 [03:00<00:19, 14.83it/s]"
     ]
    },
    {
     "name": "stdout",
     "output_type": "stream",
     "text": [
      "Parsing error message empty range for randrange() (1, 1, 0)\n",
      "Parsing error message unrecognized expression\n",
      "Parsing error message empty range for randrange() (1, 1, 0)\n"
     ]
    },
    {
     "name": "stderr",
     "output_type": "stream",
     "text": [
      "Processing:  75%|███████▍  | 848/1134 [03:01<00:14, 19.52it/s]"
     ]
    },
    {
     "name": "stdout",
     "output_type": "stream",
     "text": [
      "Parsing error message empty range for randrange() (1, 1, 0)\n",
      "Parsing error message unrecognized expression\n"
     ]
    },
    {
     "name": "stderr",
     "output_type": "stream",
     "text": [
      "Processing:  76%|███████▋  | 865/1134 [03:05<01:15,  3.55it/s]line 1:0 mismatched input '{' expecting {<EOF>, 'pragma', 'import', 'from', 'abstract', 'contract', 'interface', 'library', 'error', 'struct', 'function', 'enum', 'address', 'mapping', 'calldata', 'revert', 'var', 'bool', 'string', 'byte', 'callback', Int, Uint, Byte, Fixed, Ufixed, 'leave', 'payable', 'type', 'constructor', 'fallback', 'receive', Identifier}\n",
      "Processing:  77%|███████▋  | 869/1134 [03:05<00:47,  5.58it/s]"
     ]
    },
    {
     "name": "stdout",
     "output_type": "stream",
     "text": [
      "Parsing error message empty range for randrange() (1, 1, 0)\n"
     ]
    },
    {
     "name": "stderr",
     "output_type": "stream",
     "text": [
      "Processing:  79%|███████▊  | 892/1134 [03:09<00:45,  5.32it/s]"
     ]
    },
    {
     "name": "stdout",
     "output_type": "stream",
     "text": [
      "Parsing error message empty range for randrange() (1, 1, 0)\n"
     ]
    },
    {
     "name": "stderr",
     "output_type": "stream",
     "text": [
      "Processing:  85%|████████▌ | 964/1134 [03:24<00:24,  6.80it/s]"
     ]
    },
    {
     "name": "stdout",
     "output_type": "stream",
     "text": [
      "Parsing error message unrecognized expression\n"
     ]
    },
    {
     "name": "stderr",
     "output_type": "stream",
     "text": [
      "Processing:  87%|████████▋ | 992/1134 [03:27<00:22,  6.37it/s]"
     ]
    },
    {
     "name": "stdout",
     "output_type": "stream",
     "text": [
      "Parsing error message empty range for randrange() (1, 1, 0)\n"
     ]
    },
    {
     "name": "stderr",
     "output_type": "stream",
     "text": [
      "Processing:  88%|████████▊ | 996/1134 [03:28<00:26,  5.17it/s]"
     ]
    },
    {
     "name": "stdout",
     "output_type": "stream",
     "text": [
      "Parsing error message unrecognized expression\n",
      "Parsing error message unrecognized expression\n"
     ]
    },
    {
     "name": "stderr",
     "output_type": "stream",
     "text": [
      "Processing:  88%|████████▊ | 1001/1134 [03:30<00:29,  4.49it/s]"
     ]
    },
    {
     "name": "stdout",
     "output_type": "stream",
     "text": [
      "Parsing error message unrecognized expression\n",
      "Parsing error message empty range for randrange() (1, 1, 0)\n"
     ]
    },
    {
     "name": "stderr",
     "output_type": "stream",
     "text": [
      "Processing:  89%|████████▉ | 1009/1134 [03:31<00:18,  6.84it/s]"
     ]
    },
    {
     "name": "stdout",
     "output_type": "stream",
     "text": [
      "Parsing error message unrecognized expression\n"
     ]
    },
    {
     "name": "stderr",
     "output_type": "stream",
     "text": [
      "Processing:  91%|█████████ | 1028/1134 [03:35<00:11,  9.23it/s]"
     ]
    },
    {
     "name": "stdout",
     "output_type": "stream",
     "text": [
      "Parsing error message unrecognized expression\n"
     ]
    },
    {
     "name": "stderr",
     "output_type": "stream",
     "text": [
      "Processing:  92%|█████████▏| 1044/1134 [03:36<00:08, 10.63it/s]"
     ]
    },
    {
     "name": "stdout",
     "output_type": "stream",
     "text": [
      "Parsing error message empty range for randrange() (1, 1, 0)\n",
      "Parsing error message empty range for randrange() (1, 1, 0)\n"
     ]
    },
    {
     "name": "stderr",
     "output_type": "stream",
     "text": [
      "Processing:  93%|█████████▎| 1051/1134 [03:41<00:35,  2.36it/s]"
     ]
    },
    {
     "name": "stdout",
     "output_type": "stream",
     "text": [
      "Parsing error message unrecognized expression\n"
     ]
    },
    {
     "name": "stderr",
     "output_type": "stream",
     "text": [
      "Processing:  94%|█████████▍| 1064/1134 [03:45<00:18,  3.73it/s]"
     ]
    },
    {
     "name": "stdout",
     "output_type": "stream",
     "text": [
      "Parsing error message unrecognized expression\n"
     ]
    },
    {
     "name": "stderr",
     "output_type": "stream",
     "text": [
      "Processing:  95%|█████████▌| 1078/1134 [03:48<00:13,  4.22it/s]"
     ]
    },
    {
     "name": "stdout",
     "output_type": "stream",
     "text": [
      "Parsing error message unrecognized expression\n"
     ]
    },
    {
     "name": "stderr",
     "output_type": "stream",
     "text": [
      "Processing:  96%|█████████▌| 1083/1134 [03:50<00:16,  3.01it/s]"
     ]
    },
    {
     "name": "stdout",
     "output_type": "stream",
     "text": [
      "Parsing error message unrecognized expression\n"
     ]
    },
    {
     "name": "stderr",
     "output_type": "stream",
     "text": [
      "Processing:  96%|█████████▌| 1089/1134 [03:52<00:15,  2.86it/s]line 71:50 missing ';' at '('\n",
      "line 71:84 no viable alternative at input '(uint64[][]'\n",
      "line 71:85 mismatched input ')' expecting {'from', 'error', 'memory', 'storage', 'calldata', 'revert', 'callback', 'leave', 'payable', 'constructor', 'receive', Identifier}\n",
      "line 71:86 extraneous input ')' expecting {';', '='}\n",
      "Processing:  96%|█████████▋| 1092/1134 [03:53<00:12,  3.39it/s]"
     ]
    },
    {
     "name": "stdout",
     "output_type": "stream",
     "text": [
      "Parsing error message object of type 'NoneType' has no len()\n"
     ]
    },
    {
     "name": "stderr",
     "output_type": "stream",
     "text": [
      "Processing:  97%|█████████▋| 1099/1134 [03:53<00:05,  6.49it/s]"
     ]
    },
    {
     "name": "stdout",
     "output_type": "stream",
     "text": [
      "Parsing error message unrecognized expression\n"
     ]
    },
    {
     "name": "stderr",
     "output_type": "stream",
     "text": [
      "Processing:  97%|█████████▋| 1105/1134 [03:54<00:03,  8.85it/s]"
     ]
    },
    {
     "name": "stdout",
     "output_type": "stream",
     "text": [
      "Parsing error message unrecognized expression\n"
     ]
    },
    {
     "name": "stderr",
     "output_type": "stream",
     "text": [
      "Processing:  99%|█████████▉| 1121/1134 [03:58<00:02,  4.90it/s]"
     ]
    },
    {
     "name": "stdout",
     "output_type": "stream",
     "text": [
      "Parsing error message unrecognized expression\n"
     ]
    },
    {
     "name": "stderr",
     "output_type": "stream",
     "text": [
      "Processing: 100%|█████████▉| 1131/1134 [03:59<00:00,  5.16it/s]"
     ]
    },
    {
     "name": "stdout",
     "output_type": "stream",
     "text": [
      "Parsing error message 'NoneType' object has no attribute 'line'\n"
     ]
    },
    {
     "name": "stderr",
     "output_type": "stream",
     "text": [
      "Processing: 100%|██████████| 1134/1134 [03:59<00:00,  4.73it/s]\n"
     ]
    }
   ],
   "source": [
    "import random\n",
    "from solidity_parser import parser\n",
    "from tqdm import tqdm\n",
    "\n",
    "def extract_function_names(parsed_code):\n",
    "    functions = []\n",
    "    def traverse_nodes(nodes):\n",
    "        for node in nodes:\n",
    "            if isinstance(node, dict):\n",
    "                if node.get('type') == 'FunctionDefinition':\n",
    "                    functions.append(node.get('name', 'Unnamed').strip().lower())\n",
    "                traverse_nodes(node.values())\n",
    "            elif isinstance(node, list):\n",
    "                traverse_nodes(node)\n",
    "    traverse_nodes(parsed_code.get('children', []))\n",
    "    return functions\n",
    "\n",
    "def normalize_function_name(name):\n",
    "    return name.strip().lower().replace(\" \", \"\").replace(\"\\t\", \"\").replace(\"\\n\", \"\")\n",
    "\n",
    "def extract_non_vuln_code(code):\n",
    "    \"\"\"Extract vulnerable function or event-related code using Solidity parser.\"\"\"\n",
    "    try:\n",
    "        parsed_code = parser.parse(code, loc=True)\n",
    "\n",
    "        extracted_code = []\n",
    "\n",
    "        available_functions = extract_function_names(parsed_code)\n",
    "        sample_size = 1 if len(available_functions) == 1 else random.randint(1, min(len(available_functions),3))\n",
    "        functions = random.sample(available_functions, sample_size)\n",
    "\n",
    "        code_lines = code.splitlines(keepends=True)\n",
    "\n",
    "        def traverse_nodes(nodes):\n",
    "            for node in nodes:\n",
    "                if isinstance(node, dict):\n",
    "                    if node.get('type') == 'FunctionDefinition':\n",
    "                        function_name = normalize_function_name(node.get('name', ''))\n",
    "                        if function_name in functions:\n",
    "                            start = node['loc']['start']['line'] - 1  # Convert to zero-based index\n",
    "                            end = node['loc']['end']['line']          # Solidity Parser returns 1-based index\n",
    "                            function_code = \"\".join(code_lines[start:end]).strip()\n",
    "                            if not function_code.endswith(\"}\"):\n",
    "                                function_code += \"  // Error: Function body might be cropped.\"\n",
    "                            extracted_code.append(function_code)\n",
    "                    traverse_nodes(node.values())\n",
    "                elif isinstance(node, list):\n",
    "                    traverse_nodes(node)\n",
    "\n",
    "        traverse_nodes(parsed_code.get('children', []))\n",
    "\n",
    "        return \"\\n\\n\".join(extracted_code) if extracted_code else None\n",
    "    except Exception as e:\n",
    "        print(f\"Parsing error message {e}\")\n",
    "        return None\n",
    "\n",
    "# Apply the function with a manual progress bar\n",
    "concatenated_df[\"clean_code\"] = [\n",
    "    extract_non_vuln_code(row) for row in tqdm(concatenated_df[\"code\"], desc=\"Processing\")\n",
    "]"
   ]
  },
  {
   "cell_type": "code",
   "execution_count": null,
   "metadata": {},
   "outputs": [],
   "source": [
    "concatenated_df.dropna(inplace=True)\n",
    "concatenated_df.to_csv(\"final_non_vuln_code.csv\", index=False)"
   ]
  },
  {
   "cell_type": "code",
   "execution_count": 22,
   "metadata": {},
   "outputs": [],
   "source": [
    "import pandas as pd\n",
    "\n",
    "# Generating dummy data so we can concat it\n",
    "concatenated_df = pd.read_csv(\"final_non_vuln_code.csv\")\n",
    "\n",
    "dummy_data = [' ' for x in range(len(concatenated_df))]\n",
    "concatenated_df['explanation'] = dummy_data"
   ]
  },
  {
   "cell_type": "code",
   "execution_count": 23,
   "metadata": {},
   "outputs": [
    {
     "data": {
      "text/html": [
       "<div>\n",
       "<style scoped>\n",
       "    .dataframe tbody tr th:only-of-type {\n",
       "        vertical-align: middle;\n",
       "    }\n",
       "\n",
       "    .dataframe tbody tr th {\n",
       "        vertical-align: top;\n",
       "    }\n",
       "\n",
       "    .dataframe thead th {\n",
       "        text-align: right;\n",
       "    }\n",
       "</style>\n",
       "<table border=\"1\" class=\"dataframe\">\n",
       "  <thead>\n",
       "    <tr style=\"text-align: right;\">\n",
       "      <th></th>\n",
       "      <th>file_name</th>\n",
       "      <th>vuln_title</th>\n",
       "      <th>severity</th>\n",
       "      <th>description</th>\n",
       "      <th>vuln_loc</th>\n",
       "      <th>vuln_explanation</th>\n",
       "      <th>vuln_recommendation</th>\n",
       "      <th>vuln_file_path</th>\n",
       "      <th>vuln_code</th>\n",
       "    </tr>\n",
       "  </thead>\n",
       "  <tbody>\n",
       "    <tr>\n",
       "      <th>0</th>\n",
       "      <td>35.md</td>\n",
       "      <td>Unsafe cast in `ConcentratedLiquidityPool.burn...</td>\n",
       "      <td>high</td>\n",
       "      <td>The `ConcentratedLiquidityPool.burn` function ...</td>\n",
       "      <td>{'vuln_file': ['ConcentratedLiquidityPool.sol'...</td>\n",
       "      <td>The `ConcentratedLiquidityPool.burn` function ...</td>\n",
       "      <td>Even though Solidity 0.8.x is used, type casts...</td>\n",
       "      <td>Web3Bugs/contracts/35/trident/contracts/pool/c...</td>\n",
       "      <td>function burn(bytes calldata data) public over...</td>\n",
       "    </tr>\n",
       "    <tr>\n",
       "      <th>1</th>\n",
       "      <td>35.md</td>\n",
       "      <td>Wrong usage of `positionId` in `ConcentratedLi...</td>\n",
       "      <td>high</td>\n",
       "      <td>#### Impact\\nIn the `subscribe` function of `C...</td>\n",
       "      <td>{'vuln_file': ['ConcentratedLiquidityPoolManag...</td>\n",
       "      <td>In the `subscribe` function of `ConcentratedLi...</td>\n",
       "      <td>Change `positionId` to `incentiveId` in the re...</td>\n",
       "      <td>Web3Bugs/contracts/35/trident/contracts/pool/c...</td>\n",
       "      <td>function subscribe(uint256 positionId, uint256...</td>\n",
       "    </tr>\n",
       "    <tr>\n",
       "      <th>2</th>\n",
       "      <td>35.md</td>\n",
       "      <td>`ConcentratedLiquidityPoolManager`'s incentive...</td>\n",
       "      <td>high</td>\n",
       "      <td>The `ConcentratedLiquidityPoolManager` keeps a...</td>\n",
       "      <td>{'vuln_file': ['ConcentratedLiquidityPoolManag...</td>\n",
       "      <td>The `ConcentratedLiquidityPoolManager` keeps a...</td>\n",
       "      <td>In `reclaimIncentive`, reduce `incentive.rewar...</td>\n",
       "      <td>Web3Bugs/contracts/35/trident/contracts/pool/c...</td>\n",
       "      <td>function reclaimIncentive(\\n        IConcentra...</td>\n",
       "    </tr>\n",
       "    <tr>\n",
       "      <th>3</th>\n",
       "      <td>35.md</td>\n",
       "      <td>Overflow in the `mint` function of `Concentrat...</td>\n",
       "      <td>high</td>\n",
       "      <td>#### Impact\\nSimilar to a previous finding in ...</td>\n",
       "      <td>{'vuln_file': ['ConcentratedLiquidityPool.sol'...</td>\n",
       "      <td>Similar to a previous finding in the `IndexPoo...</td>\n",
       "      <td>Consider removing the `unchecked` statement to...</td>\n",
       "      <td>Web3Bugs/contracts/35/trident/contracts/pool/c...</td>\n",
       "      <td>function mint(bytes calldata data) public over...</td>\n",
       "    </tr>\n",
       "    <tr>\n",
       "      <th>4</th>\n",
       "      <td>35.md</td>\n",
       "      <td>Incorrect usage of typecasting in `_getAmounts...</td>\n",
       "      <td>high</td>\n",
       "      <td>#### Impact\\nThe `_getAmountsForLiquidity` fun...</td>\n",
       "      <td>{'vuln_file': ['ConcentratedLiquidityPool.sol'...</td>\n",
       "      <td>The `_getAmountsForLiquidity` function of `Con...</td>\n",
       "      <td>Check whether the result of `DyDxMath.getDy` o...</td>\n",
       "      <td>Web3Bugs/contracts/35/trident/contracts/librar...</td>\n",
       "      <td>function _getAmountsForLiquidity(\\n        uin...</td>\n",
       "    </tr>\n",
       "    <tr>\n",
       "      <th>...</th>\n",
       "      <td>...</td>\n",
       "      <td>...</td>\n",
       "      <td>...</td>\n",
       "      <td>...</td>\n",
       "      <td>...</td>\n",
       "      <td>...</td>\n",
       "      <td>...</td>\n",
       "      <td>...</td>\n",
       "      <td>...</td>\n",
       "    </tr>\n",
       "    <tr>\n",
       "      <th>942</th>\n",
       "      <td>52.md</td>\n",
       "      <td>Lacking Validation Of Chainlink' Oracle Queries</td>\n",
       "      <td>medium</td>\n",
       "      <td>#### Impact\\n\\n`TwapOracle.consult()` is missi...</td>\n",
       "      <td>{'vuln_file': ['TwapOracle.sol', 'GasThrottle....</td>\n",
       "      <td>TwapOracle.consult() is missing additional val...</td>\n",
       "      <td>Consider validating the output of latestRoundD...</td>\n",
       "      <td>Web3Bugs/contracts/52/contracts/twap/TwapOracl...</td>\n",
       "      <td>function consult(address token) public view re...</td>\n",
       "    </tr>\n",
       "    <tr>\n",
       "      <th>943</th>\n",
       "      <td>52.md</td>\n",
       "      <td>Vests can be denied</td>\n",
       "      <td>medium</td>\n",
       "      <td>The `LinearVesting.vestFor` function (which is...</td>\n",
       "      <td>{'vuln_file': ['LinearVesting.sol'], 'vuln_fun...</td>\n",
       "      <td>The `LinearVesting.vestFor` function (which is...</td>\n",
       "      <td>There are several ways to mitigate this.\\nThe ...</td>\n",
       "      <td>Web3Bugs/contracts/52/contracts/tokens/vesting...</td>\n",
       "      <td>function vestFor(address user, uint256 amount)...</td>\n",
       "    </tr>\n",
       "    <tr>\n",
       "      <th>944</th>\n",
       "      <td>52.md</td>\n",
       "      <td>Tokens with fee on transfer are not supported</td>\n",
       "      <td>medium</td>\n",
       "      <td>There are ERC20 tokens that charge fee for eve...</td>\n",
       "      <td>{'vuln_file': ['BasePoolV2.sol'], 'vuln_functi...</td>\n",
       "      <td>There are ERC20 tokens that charge fee for eve...</td>\n",
       "      <td>Consider calling `balanceOf()` to get the actu...</td>\n",
       "      <td>Web3Bugs/contracts/52/contracts/dex-v2/pool/Ba...</td>\n",
       "      <td>function mint(\\n        IERC20 foreignAsset,\\n...</td>\n",
       "    </tr>\n",
       "    <tr>\n",
       "      <th>945</th>\n",
       "      <td>52.md</td>\n",
       "      <td>VaderPoolV2.rescue results in loss of funds ra...</td>\n",
       "      <td>medium</td>\n",
       "      <td>#### Impact\\n\\nAny unaccounted for tokens on `...</td>\n",
       "      <td>{'vuln_file': ['BasePoolV2.sol'], 'vuln_functi...</td>\n",
       "      <td>Any unaccounted for tokens on `VaderPoolV2` ca...</td>\n",
       "      <td>Permission this function to only allow Vader g...</td>\n",
       "      <td>Web3Bugs/contracts/52/contracts/dex-v2/pool/Ba...</td>\n",
       "      <td>function rescue(IERC20 foreignAsset) external ...</td>\n",
       "    </tr>\n",
       "    <tr>\n",
       "      <th>946</th>\n",
       "      <td>52.md</td>\n",
       "      <td>Users Can Reset Bond Depositor's Vesting Period</td>\n",
       "      <td>medium</td>\n",
       "      <td>#### Impact\\n\\nThe `VaderBond.deposit()` funct...</td>\n",
       "      <td>{'vuln_file': ['VaderBond.sol'], 'vuln_functio...</td>\n",
       "      <td>The `VaderBond.deposit()` function overwrites ...</td>\n",
       "      <td>Consider preventing users from depositing to a...</td>\n",
       "      <td>Web3Bugs/contracts/52/repo/vader-bond/contract...</td>\n",
       "      <td>function deposit(\\n        uint _amount,\\n    ...</td>\n",
       "    </tr>\n",
       "  </tbody>\n",
       "</table>\n",
       "<p>947 rows × 9 columns</p>\n",
       "</div>"
      ],
      "text/plain": [
       "    file_name                                         vuln_title severity  \\\n",
       "0       35.md  Unsafe cast in `ConcentratedLiquidityPool.burn...     high   \n",
       "1       35.md  Wrong usage of `positionId` in `ConcentratedLi...     high   \n",
       "2       35.md  `ConcentratedLiquidityPoolManager`'s incentive...     high   \n",
       "3       35.md  Overflow in the `mint` function of `Concentrat...     high   \n",
       "4       35.md  Incorrect usage of typecasting in `_getAmounts...     high   \n",
       "..        ...                                                ...      ...   \n",
       "942     52.md    Lacking Validation Of Chainlink' Oracle Queries   medium   \n",
       "943     52.md                                Vests can be denied   medium   \n",
       "944     52.md      Tokens with fee on transfer are not supported   medium   \n",
       "945     52.md  VaderPoolV2.rescue results in loss of funds ra...   medium   \n",
       "946     52.md    Users Can Reset Bond Depositor's Vesting Period   medium   \n",
       "\n",
       "                                           description  \\\n",
       "0    The `ConcentratedLiquidityPool.burn` function ...   \n",
       "1    #### Impact\\nIn the `subscribe` function of `C...   \n",
       "2    The `ConcentratedLiquidityPoolManager` keeps a...   \n",
       "3    #### Impact\\nSimilar to a previous finding in ...   \n",
       "4    #### Impact\\nThe `_getAmountsForLiquidity` fun...   \n",
       "..                                                 ...   \n",
       "942  #### Impact\\n\\n`TwapOracle.consult()` is missi...   \n",
       "943  The `LinearVesting.vestFor` function (which is...   \n",
       "944  There are ERC20 tokens that charge fee for eve...   \n",
       "945  #### Impact\\n\\nAny unaccounted for tokens on `...   \n",
       "946  #### Impact\\n\\nThe `VaderBond.deposit()` funct...   \n",
       "\n",
       "                                              vuln_loc  \\\n",
       "0    {'vuln_file': ['ConcentratedLiquidityPool.sol'...   \n",
       "1    {'vuln_file': ['ConcentratedLiquidityPoolManag...   \n",
       "2    {'vuln_file': ['ConcentratedLiquidityPoolManag...   \n",
       "3    {'vuln_file': ['ConcentratedLiquidityPool.sol'...   \n",
       "4    {'vuln_file': ['ConcentratedLiquidityPool.sol'...   \n",
       "..                                                 ...   \n",
       "942  {'vuln_file': ['TwapOracle.sol', 'GasThrottle....   \n",
       "943  {'vuln_file': ['LinearVesting.sol'], 'vuln_fun...   \n",
       "944  {'vuln_file': ['BasePoolV2.sol'], 'vuln_functi...   \n",
       "945  {'vuln_file': ['BasePoolV2.sol'], 'vuln_functi...   \n",
       "946  {'vuln_file': ['VaderBond.sol'], 'vuln_functio...   \n",
       "\n",
       "                                      vuln_explanation  \\\n",
       "0    The `ConcentratedLiquidityPool.burn` function ...   \n",
       "1    In the `subscribe` function of `ConcentratedLi...   \n",
       "2    The `ConcentratedLiquidityPoolManager` keeps a...   \n",
       "3    Similar to a previous finding in the `IndexPoo...   \n",
       "4    The `_getAmountsForLiquidity` function of `Con...   \n",
       "..                                                 ...   \n",
       "942  TwapOracle.consult() is missing additional val...   \n",
       "943  The `LinearVesting.vestFor` function (which is...   \n",
       "944  There are ERC20 tokens that charge fee for eve...   \n",
       "945  Any unaccounted for tokens on `VaderPoolV2` ca...   \n",
       "946  The `VaderBond.deposit()` function overwrites ...   \n",
       "\n",
       "                                   vuln_recommendation  \\\n",
       "0    Even though Solidity 0.8.x is used, type casts...   \n",
       "1    Change `positionId` to `incentiveId` in the re...   \n",
       "2    In `reclaimIncentive`, reduce `incentive.rewar...   \n",
       "3    Consider removing the `unchecked` statement to...   \n",
       "4    Check whether the result of `DyDxMath.getDy` o...   \n",
       "..                                                 ...   \n",
       "942  Consider validating the output of latestRoundD...   \n",
       "943  There are several ways to mitigate this.\\nThe ...   \n",
       "944  Consider calling `balanceOf()` to get the actu...   \n",
       "945  Permission this function to only allow Vader g...   \n",
       "946  Consider preventing users from depositing to a...   \n",
       "\n",
       "                                        vuln_file_path  \\\n",
       "0    Web3Bugs/contracts/35/trident/contracts/pool/c...   \n",
       "1    Web3Bugs/contracts/35/trident/contracts/pool/c...   \n",
       "2    Web3Bugs/contracts/35/trident/contracts/pool/c...   \n",
       "3    Web3Bugs/contracts/35/trident/contracts/pool/c...   \n",
       "4    Web3Bugs/contracts/35/trident/contracts/librar...   \n",
       "..                                                 ...   \n",
       "942  Web3Bugs/contracts/52/contracts/twap/TwapOracl...   \n",
       "943  Web3Bugs/contracts/52/contracts/tokens/vesting...   \n",
       "944  Web3Bugs/contracts/52/contracts/dex-v2/pool/Ba...   \n",
       "945  Web3Bugs/contracts/52/contracts/dex-v2/pool/Ba...   \n",
       "946  Web3Bugs/contracts/52/repo/vader-bond/contract...   \n",
       "\n",
       "                                             vuln_code  \n",
       "0    function burn(bytes calldata data) public over...  \n",
       "1    function subscribe(uint256 positionId, uint256...  \n",
       "2    function reclaimIncentive(\\n        IConcentra...  \n",
       "3    function mint(bytes calldata data) public over...  \n",
       "4    function _getAmountsForLiquidity(\\n        uin...  \n",
       "..                                                 ...  \n",
       "942  function consult(address token) public view re...  \n",
       "943  function vestFor(address user, uint256 amount)...  \n",
       "944  function mint(\\n        IERC20 foreignAsset,\\n...  \n",
       "945  function rescue(IERC20 foreignAsset) external ...  \n",
       "946  function deposit(\\n        uint _amount,\\n    ...  \n",
       "\n",
       "[947 rows x 9 columns]"
      ]
     },
     "execution_count": 23,
     "metadata": {},
     "output_type": "execute_result"
    }
   ],
   "source": [
    "vuln_code_df"
   ]
  },
  {
   "cell_type": "code",
   "execution_count": 24,
   "metadata": {},
   "outputs": [],
   "source": [
    "final_vuln = pd.DataFrame()\n",
    "\n",
    "final_vuln['project_id'] = vuln_code_df['file_name'].apply(lambda x: x[:-3]).astype(int)\n",
    "final_vuln['code'] = vuln_code_df['vuln_code']\n",
    "final_vuln['code_analysis'] = vuln_code_df.apply(lambda x: f\"{x['vuln_title']}\\n{x['vuln_explanation']}\", axis=1)\n",
    "final_vuln['vulnerable'] = [1] * len(vuln_code_df)\n",
    "\n",
    "final_non_vuln = pd.DataFrame()\n",
    "\n",
    "final_non_vuln['project_id'] = concatenated_df['project_id'].astype(int)\n",
    "final_non_vuln['code'] = concatenated_df['clean_code']\n",
    "final_non_vuln['code_analysis'] = concatenated_df['explanation']\n",
    "final_non_vuln['vulnerable'] = [0] * len(concatenated_df)\n",
    "\n",
    "final_df = pd.concat([final_non_vuln, final_vuln], ignore_index=True)\n",
    "final_df.sort_values(\"project_id\", inplace=True)"
   ]
  },
  {
   "cell_type": "code",
   "execution_count": 25,
   "metadata": {},
   "outputs": [],
   "source": [
    "final_df['code'] = final_df['code'].str.replace(r'// Error: Function body might be cropped\\.', '', regex=True)\n",
    "\n",
    "final_df.to_csv(\"final_dataset.csv\", index=False)"
   ]
  },
  {
   "cell_type": "code",
   "execution_count": null,
   "metadata": {},
   "outputs": [],
   "source": []
  }
 ],
 "metadata": {
  "kernelspec": {
   "display_name": "ml",
   "language": "python",
   "name": "python3"
  },
  "language_info": {
   "codemirror_mode": {
    "name": "ipython",
    "version": 3
   },
   "file_extension": ".py",
   "mimetype": "text/x-python",
   "name": "python",
   "nbconvert_exporter": "python",
   "pygments_lexer": "ipython3",
   "version": "3.9.19"
  }
 },
 "nbformat": 4,
 "nbformat_minor": 2
}
