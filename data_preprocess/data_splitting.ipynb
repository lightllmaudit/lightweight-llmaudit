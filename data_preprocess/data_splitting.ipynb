{
 "cells": [
  {
   "cell_type": "code",
   "execution_count": null,
   "id": "445dafa3",
   "metadata": {},
   "outputs": [],
   "source": [
    "import pandas as pd\n",
    "import numpy as np\n",
    "\n",
    "df = pd.read_csv(\"final_dataset.csv\")\n",
    "df['code'] = df['code'].mask(df['code'].duplicated(), np.nan)\n",
    "\n",
    "df.dropna(inplace=True)\n",
    "\n",
    "df_train = df.sort_values('project_id')[:1324]\n",
    "df_val = df.sort_values('project_id')[1324:1605]\n",
    "df_test = df.sort_values('project_id')[1605:]\n",
    "\n",
    "df_train.to_csv(\"smart_contract_train.csv\", index=False)\n",
    "df_val.to_csv(\"smart_contract_val.csv\", index=False)\n",
    "df_test.to_csv(\"smart_contract_test.csv\", index=False)"
   ]
  },
  {
   "cell_type": "code",
   "execution_count": null,
   "id": "fcfa5b71",
   "metadata": {},
   "outputs": [],
   "source": [
    "import pandas as pd\n",
    "import numpy as np\n",
    "from sklearn.model_selection import train_test_split\n",
    "\n",
    "df = pd.read_csv(\"vuln_dataset.csv\")\n",
    "\n",
    "df_train, df_ = train_test_split(df, test_size=0.3, stratify=df['severity'], random_state=42)\n",
    "df_val, df_test = train_test_split(df_, test_size=0.5, stratify=df_['severity'], random_state=42)\n",
    "\n",
    "df_train.to_csv(\"vuln_data_train.csv\", index=False)\n",
    "df_val.to_csv(\"vuln_data_val.csv\", index=False)\n",
    "df_test.to_csv(\"vuln_data_test.csv\", index=False)"
   ]
  },
  {
   "cell_type": "code",
   "execution_count": null,
   "id": "986a0604",
   "metadata": {},
   "outputs": [],
   "source": [
    "import pandas as pd\n",
    "import numpy as np\n",
    "from sklearn.model_selection import train_test_split\n",
    "\n",
    "df = pd.read_csv(\"vuln_dataset.csv\")\n",
    "\n",
    "df_train, _ = train_test_split(df, test_size=0.3, stratify=df['severity'])\n",
    "df_val, df_test = train_test_split(_, test_size=0.5, stratify=_['severity'])\n",
    "\n",
    "df_train.to_csv(\"severity_data_train.csv\", index=False)\n",
    "df_val.to_csv(\"severity_data_val.csv\", index=False)\n",
    "df_test.to_csv(\"severity_data_test.csv\", index=False)"
   ]
  }
 ],
 "metadata": {
  "kernelspec": {
   "display_name": "ml",
   "language": "python",
   "name": "python3"
  },
  "language_info": {
   "codemirror_mode": {
    "name": "ipython",
    "version": 3
   },
   "file_extension": ".py",
   "mimetype": "text/x-python",
   "name": "python",
   "nbconvert_exporter": "python",
   "pygments_lexer": "ipython3",
   "version": "3.9.19"
  }
 },
 "nbformat": 4,
 "nbformat_minor": 5
}
