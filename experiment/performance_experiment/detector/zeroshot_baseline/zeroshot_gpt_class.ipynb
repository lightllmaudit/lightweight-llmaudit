{
 "cells": [
  {
   "cell_type": "code",
   "execution_count": null,
   "id": "d117da4a",
   "metadata": {},
   "outputs": [],
   "source": [
    "import json\n",
    "import pandas as pd\n",
    "import os\n",
    "\n",
    "df_test = pd.read_csv(\"smart_contract_test.csv\")\n",
    "prompt = \"\"\"You need to analyze the given function and classify it as \"Vulnerable Code\" or \"Safe Code\" based on potential security risks. \n",
    "    \n",
    "    This is the function we need to audit:\n",
    "    ```solidity\n",
    "    {code}\n",
    "    ```\n",
    "    \n",
    "Answer: \"\"\"\n",
    "\n",
    "df_test['input_prompt'] = df_test['code'].map(lambda x: prompt.format(code=x))\n",
    "\n",
    "# Define system prompt\n",
    "system_prompt = 'You are the smartest AI solidity smart contract security auditor in the world that only answer in term of \"Vulnerable Code\" or \"Safe Code\"'\n",
    "\n",
    "# Parameters\n",
    "max_tokens_per_batch = 90000  # Set below the 900,000 token limit to be safe\n",
    "estimated_tokens_per_request = 1000  # Adjust based on your average request size\n",
    "requests_per_batch = max_tokens_per_batch // estimated_tokens_per_request\n",
    "\n",
    "# Create output directory\n",
    "output_dir = \"batch_inputs_zeroshot_class\"\n",
    "os.makedirs(output_dir, exist_ok=True)\n",
    "\n",
    "batch_count = 0\n",
    "request_count = 0\n",
    "batch_file = open(os.path.join(output_dir, f\"batch_input_{batch_count}.jsonl\"), \"w\")\n",
    "\n",
    "for index, row in df_test.iterrows():\n",
    "    user_prompt = row['input_prompt']\n",
    "\n",
    "    task = {\n",
    "        \"custom_id\": f\"request-{index}\",\n",
    "        \"method\": \"POST\",\n",
    "        \"url\": \"/v1/chat/completions\",\n",
    "        \"body\": {\n",
    "            \"model\": \"gpt-4o\",\n",
    "            \"temperature\": 0.1,\n",
    "            \"messages\": [\n",
    "                {\"role\": \"system\", \"content\": system_prompt},\n",
    "                {\"role\": \"user\", \"content\": user_prompt}\n",
    "            ]\n",
    "        }\n",
    "    }\n",
    "\n",
    "    batch_file.write(json.dumps(task) + \"\\n\")\n",
    "    request_count += 1\n",
    "\n",
    "    if request_count >= requests_per_batch:\n",
    "        batch_file.close()\n",
    "        batch_count += 1\n",
    "        request_count = 0\n",
    "        batch_file = open(os.path.join(output_dir, f\"batch_input_{batch_count}.jsonl\"), \"w\")\n",
    "\n",
    "batch_file.close()"
   ]
  },
  {
   "cell_type": "code",
   "execution_count": null,
   "id": "fc3478c5",
   "metadata": {},
   "outputs": [],
   "source": [
    "# Read the original CSV\n",
    "df = pd.read_csv(\"smart_contract_test.csv\")\n",
    "\n",
    "# Initialize new columns\n",
    "df[\"raw_llm_out\"] = None\n",
    "\n",
    "# Path to your batch output directory\n",
    "batch_output_dir = \"batch_outputs_zeroshot_class\"\n",
    "\n",
    "# Gather all output lines from multiple batch files\n",
    "output_lines = []\n",
    "for batch_idx in range(len(os.listdir(batch_output_dir))):\n",
    "    file_path = os.path.join(batch_output_dir, f\"batch_output_{batch_idx}.jsonl\")\n",
    "    with open(file_path) as f:\n",
    "        output_lines.extend(f.readlines())\n",
    "\n",
    "# Process each output line using custom_id\n",
    "for line in output_lines:\n",
    "    try:\n",
    "        json_out = json.loads(line)\n",
    "        custom_id = json_out.get(\"custom_id\", \"\")\n",
    "        string = json_out['response']['body']['choices'][0]['message']['content']\n",
    "\n",
    "        # Extract original index from custom_id like \"request-123\"\n",
    "        original_index = int(custom_id.split(\"-\")[-1])\n",
    "\n",
    "        df.loc[original_index, \"raw_llm_out\"] = string\n",
    "\n",
    "    except (json.JSONDecodeError, KeyError, ValueError) as e:\n",
    "        print(f\"Error processing custom_id {custom_id}: {e}\")\n",
    "        print(f\"Raw response: {line}\")"
   ]
  },
  {
   "cell_type": "code",
   "execution_count": 2,
   "id": "3a1d1aae",
   "metadata": {},
   "outputs": [],
   "source": [
    "y_pred = [0 if \"Safe Code\" in x else 1 for x in df['raw_llm_out']]\n",
    "y_true = df['vulnerable']"
   ]
  },
  {
   "cell_type": "code",
   "execution_count": 3,
   "id": "1099d24a",
   "metadata": {},
   "outputs": [
    {
     "name": "stdout",
     "output_type": "stream",
     "text": [
      "              precision    recall  f1-score   support\n",
      "\n",
      "           0     0.7059    0.4865    0.5760       148\n",
      "           1     0.5682    0.7692    0.6536       130\n",
      "\n",
      "    accuracy                         0.6187       278\n",
      "   macro avg     0.6370    0.6279    0.6148       278\n",
      "weighted avg     0.6415    0.6187    0.6123       278\n",
      "\n"
     ]
    }
   ],
   "source": [
    "from sklearn.metrics import classification_report\n",
    "\n",
    "print(classification_report(y_true, y_pred, digits=4))"
   ]
  }
 ],
 "metadata": {
  "kernelspec": {
   "display_name": "ml",
   "language": "python",
   "name": "python3"
  },
  "language_info": {
   "codemirror_mode": {
    "name": "ipython",
    "version": 3
   },
   "file_extension": ".py",
   "mimetype": "text/x-python",
   "name": "python",
   "nbconvert_exporter": "python",
   "pygments_lexer": "ipython3",
   "version": "3.9.19"
  }
 },
 "nbformat": 4,
 "nbformat_minor": 5
}
