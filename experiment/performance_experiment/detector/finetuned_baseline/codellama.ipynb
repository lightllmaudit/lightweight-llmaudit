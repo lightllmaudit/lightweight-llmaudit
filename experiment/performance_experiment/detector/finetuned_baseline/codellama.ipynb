{
 "cells": [
  {
   "cell_type": "code",
   "execution_count": 1,
   "id": "17fbf1d4",
   "metadata": {
    "execution": {
     "iopub.execute_input": "2025-05-13T09:13:05.957614Z",
     "iopub.status.busy": "2025-05-13T09:13:05.957353Z",
     "iopub.status.idle": "2025-05-13T09:14:22.451997Z",
     "shell.execute_reply": "2025-05-13T09:14:22.450875Z"
    }
   },
   "outputs": [
    {
     "name": "stderr",
     "output_type": "stream",
     "text": [
      "/usr/local/lib/python3.10/dist-packages/torch/utils/_pytree.py:185: FutureWarning: optree is installed but the version is too old to support PyTorch Dynamo in C++ pytree. C++ pytree support is disabled. Please consider upgrading optree using `python3 -m pip install --upgrade 'optree>=0.13.0'`.\n",
      "  warnings.warn(\n"
     ]
    },
    {
     "name": "stdout",
     "output_type": "stream",
     "text": [
      "🦥 Unsloth: Will patch your computer to enable 2x faster free finetuning.\n"
     ]
    },
    {
     "name": "stderr",
     "output_type": "stream",
     "text": [
      "/usr/local/lib/python3.10/dist-packages/tqdm/auto.py:21: TqdmWarning: IProgress not found. Please update jupyter and ipywidgets. See https://ipywidgets.readthedocs.io/en/stable/user_install.html\n",
      "  from .autonotebook import tqdm as notebook_tqdm\n"
     ]
    },
    {
     "name": "stdout",
     "output_type": "stream",
     "text": [
      "🦥 Unsloth Zoo will now patch everything to make training faster!\n"
     ]
    },
    {
     "name": "stderr",
     "output_type": "stream",
     "text": [
      "/usr/local/lib/python3.10/dist-packages/torch/utils/_pytree.py:185: FutureWarning: optree is installed but the version is too old to support PyTorch Dynamo in C++ pytree. C++ pytree support is disabled. Please consider upgrading optree using `python3 -m pip install --upgrade 'optree>=0.13.0'`.\n",
      "  warnings.warn(\n"
     ]
    },
    {
     "name": "stdout",
     "output_type": "stream",
     "text": [
      "INFO 05-13 09:13:15 [importing.py:53] Triton module has been replaced with a placeholder.\n"
     ]
    },
    {
     "name": "stdout",
     "output_type": "stream",
     "text": [
      "INFO 05-13 09:13:15 [__init__.py:239] Automatically detected platform cuda.\n"
     ]
    },
    {
     "name": "stderr",
     "output_type": "stream",
     "text": [
      "2025-05-13 09:13:17,555\tINFO util.py:154 -- Missing packages: ['ipywidgets']. Run `pip install -U ipywidgets`, then restart the notebook server for rich notebook output.\n"
     ]
    },
    {
     "name": "stdout",
     "output_type": "stream",
     "text": [
      "==((====))==  Unsloth 2025.4.7: Fast Llama patching. Transformers: 4.51.3. vLLM: 0.8.5.\n",
      "   \\\\   /|    Tesla V100-SXM2-32GB. Num GPUs = 1. Max memory: 31.749 GB. Platform: Linux.\n",
      "O^O/ \\_/ \\    Torch: 2.6.0+cu124. CUDA: 7.0. CUDA Toolkit: 12.4. Triton: 3.2.0\n",
      "\\        /    Bfloat16 = FALSE. FA [Xformers = 0.0.29.post2. FA2 = False]\n",
      " \"-____-\"     Free license: http://github.com/unslothai/unsloth\n",
      "Unsloth: Fast downloading is enabled - ignore downloading bars which are red colored!\n"
     ]
    },
    {
     "name": "stderr",
     "output_type": "stream",
     "text": [
      "\r\n",
      "Loading checkpoint shards:   0%|                                                                     | 0/3 [00:00<?, ?it/s]"
     ]
    },
    {
     "name": "stderr",
     "output_type": "stream",
     "text": [
      "\r\n",
      "Loading checkpoint shards:  33%|████████████████████▎                                        | 1/3 [00:29<00:58, 29.13s/it]"
     ]
    },
    {
     "name": "stderr",
     "output_type": "stream",
     "text": [
      "\r\n",
      "Loading checkpoint shards:  67%|████████████████████████████████████████▋                    | 2/3 [00:44<00:20, 20.97s/it]"
     ]
    },
    {
     "name": "stderr",
     "output_type": "stream",
     "text": [
      "\r\n",
      "Loading checkpoint shards: 100%|█████████████████████████████████████████████████████████████| 3/3 [00:50<00:00, 14.18s/it]"
     ]
    },
    {
     "name": "stderr",
     "output_type": "stream",
     "text": [
      "\r\n",
      "Loading checkpoint shards: 100%|█████████████████████████████████████████████████████████████| 3/3 [00:50<00:00, 16.83s/it]"
     ]
    },
    {
     "name": "stderr",
     "output_type": "stream",
     "text": [
      "\n"
     ]
    },
    {
     "name": "stdout",
     "output_type": "stream",
     "text": [
      "codellama/CodeLlama-13b-Instruct-hf does not have a padding token! Will use pad_token = <unk>.\n"
     ]
    }
   ],
   "source": [
    "from unsloth import FastLanguageModel\n",
    "import torch\n",
    "max_seq_length = 16384 # Choose any! We auto support RoPE Scaling internally!\n",
    "dtype = None # None for auto detection. Float16 for Tesla T4, V100, Bfloat16 for Ampere+\n",
    "load_in_4bit = True # Use 4bit quantization to reduce memory usage. Can be False.\n",
    "\n",
    "model, tokenizer = FastLanguageModel.from_pretrained(\n",
    "    model_name = \"codellama/CodeLlama-13b-Instruct-hf\",\n",
    "    max_seq_length = max_seq_length,\n",
    "    dtype = dtype,\n",
    "    load_in_4bit = load_in_4bit,\n",
    ")"
   ]
  },
  {
   "cell_type": "code",
   "execution_count": 2,
   "id": "0705c250",
   "metadata": {
    "execution": {
     "iopub.execute_input": "2025-05-13T09:14:22.455878Z",
     "iopub.status.busy": "2025-05-13T09:14:22.455381Z",
     "iopub.status.idle": "2025-05-13T09:14:29.156635Z",
     "shell.execute_reply": "2025-05-13T09:14:29.155559Z"
    }
   },
   "outputs": [
    {
     "name": "stderr",
     "output_type": "stream",
     "text": [
      "Unsloth 2025.4.7 patched 40 layers with 40 QKV layers, 40 O layers and 40 MLP layers.\n"
     ]
    }
   ],
   "source": [
    "# lora_rank = 128\n",
    "lora_rank = 64\n",
    "\n",
    "model = FastLanguageModel.get_peft_model(\n",
    "    model,\n",
    "    r = lora_rank, # Choose any number > 0 ! Suggested 8, 16, 32, 64, 128\n",
    "    target_modules = [\"q_proj\", \"k_proj\", \"v_proj\", \"o_proj\",\n",
    "                      \"gate_proj\", \"up_proj\", \"down_proj\",],\n",
    "    lora_alpha = lora_rank,\n",
    "    lora_dropout = 0, # Supports any, but = 0 is optimized\n",
    "    bias = \"none\",    # Supports any, but = \"none\" is optimized\n",
    "    # [NEW] \"unsloth\" uses 30% less VRAM, fits 2x larger batch sizes!\n",
    "    use_gradient_checkpointing = \"unsloth\", # True or \"unsloth\" for very long context\n",
    "    random_state = 42,\n",
    "    use_rslora = False,  # We support rank stabilized LoRA\n",
    "    loftq_config = None, # And LoftQ\n",
    ")"
   ]
  },
  {
   "cell_type": "code",
   "execution_count": null,
   "id": "4c12c97b",
   "metadata": {
    "execution": {
     "iopub.execute_input": "2025-05-13T09:14:29.160022Z",
     "iopub.status.busy": "2025-05-13T09:14:29.159777Z",
     "iopub.status.idle": "2025-05-13T09:14:30.111734Z",
     "shell.execute_reply": "2025-05-13T09:14:30.110638Z"
    }
   },
   "outputs": [],
   "source": [
    "from datasets import load_dataset\n",
    "\n",
    "# Define the paths to your dataset files\n",
    "data_files = {\n",
    "    'train': 'smart_contract_train.csv',\n",
    "    'val': 'smart_contract_val.csv',\n",
    "    'test': 'smart_contract_test.csv'\n",
    "}\n",
    "\n",
    "# Load the dataset\n",
    "dataset = load_dataset('csv', data_files=data_files)"
   ]
  },
  {
   "cell_type": "code",
   "execution_count": null,
   "id": "7f06f98a",
   "metadata": {
    "execution": {
     "iopub.execute_input": "2025-05-13T09:14:30.116117Z",
     "iopub.status.busy": "2025-05-13T09:14:30.115842Z",
     "iopub.status.idle": "2025-05-13T09:14:30.137344Z",
     "shell.execute_reply": "2025-05-13T09:14:30.136472Z"
    }
   },
   "outputs": [],
   "source": [
    "import random\n",
    "\n",
    "SYSTEM_PROMPT = \"\"\"You are the smartest AI solidity smart contract security auditor in the world.\"\"\"\n",
    "\n",
    "PROMPTS = \"\"\"You need to analyze the given function and classify it as \"Vulnerable Code\" or \"Safe Code\" based on potential security risks.\n",
    "    \n",
    "    This is the function we need to audit:\n",
    "    ```solidity\n",
    "    {code}\n",
    "    ```\n",
    "    \n",
    "Answer: \"\"\"\n",
    "\n",
    "def make_conversational(examples):\n",
    "    code = examples['code']\n",
    "    vulnerable = \"Vulnerable Code\" if examples['vulnerable'] == 1 else \"Safe Code\"\n",
    "    conversation = [{\"role\": \"system\", \"content\": SYSTEM_PROMPT}, \n",
    "                    {\"role\": \"user\", \"content\": PROMPTS.format(code=code)},\n",
    "                    {\"role\": \"assistant\", \"content\": vulnerable}]\n",
    "    return { \"conversations\" : conversation, }\n",
    "\n",
    "dataset = dataset.map(make_conversational)\n",
    "dataset = dataset.remove_columns([\"project_id\",\"code\", \"code_analysis\", \"vulnerable\"])"
   ]
  },
  {
   "cell_type": "code",
   "execution_count": 5,
   "id": "e98d1811",
   "metadata": {
    "execution": {
     "iopub.execute_input": "2025-05-13T09:14:30.140609Z",
     "iopub.status.busy": "2025-05-13T09:14:30.140353Z",
     "iopub.status.idle": "2025-05-13T09:14:30.276944Z",
     "shell.execute_reply": "2025-05-13T09:14:30.276208Z"
    },
    "scrolled": true
   },
   "outputs": [],
   "source": [
    "from unsloth.chat_templates import get_chat_template\n",
    "\n",
    "tokenizer = get_chat_template(\n",
    "    tokenizer,\n",
    "    chat_template = \"llama\",\n",
    ")\n",
    "\n",
    "def formatting_prompts_func(examples):\n",
    "    convos = examples[\"conversations\"]\n",
    "    texts = [tokenizer.apply_chat_template(convo, tokenize = False, add_generation_prompt = False) for convo in convos]\n",
    "    return { \"text\" : texts, }\n",
    "\n",
    "dataset = dataset.map(formatting_prompts_func, batched = True,)"
   ]
  },
  {
   "cell_type": "code",
   "execution_count": 6,
   "id": "ac50e7d0",
   "metadata": {
    "execution": {
     "iopub.execute_input": "2025-05-13T09:14:30.280104Z",
     "iopub.status.busy": "2025-05-13T09:14:30.279867Z",
     "iopub.status.idle": "2025-05-13T09:14:30.288377Z",
     "shell.execute_reply": "2025-05-13T09:14:30.287570Z"
    }
   },
   "outputs": [
    {
     "data": {
      "text/plain": [
       "[{'content': 'You are the smartest AI solidity smart contract security auditor in the world.',\n",
       "  'role': 'system'},\n",
       " {'content': 'You need to analyze the given function and classify it as \"Vulnerable Code\" or \"Safe Code\" based on potential security risks.\\n    \\n    This is the function we need to audit:\\n    ```solidity\\n    function registerDeposit(\\n        address trader,\\n        address token,\\n        uint256 depositAmount\\n    ) external override returns (uint256 extinguishableDebt) {\\n        require(\\n            isMarginTrader(msg.sender),\\n            \"Calling contract not authorized to deposit\"\\n        );\\n\\n        CrossMarginAccount storage account = marginAccounts[trader];\\n        account.lastDepositBlock = block.number;\\n\\n        if (account.borrowed[token] > 0) {\\n            extinguishableDebt = min(depositAmount, account.borrowed[token]);\\n            extinguishDebt(account, token, extinguishableDebt);\\n            totalShort[token] -= extinguishableDebt;\\n        }\\n\\n        // no overflow because depositAmount >= extinguishableDebt\\n        uint256 addedHolding = depositAmount - extinguishableDebt;\\n        _registerDeposit(account, token, addedHolding);\\n    }\\n    ```\\n    \\nAnswer: ',\n",
       "  'role': 'user'},\n",
       " {'content': 'Safe Code', 'role': 'assistant'}]"
      ]
     },
     "execution_count": 6,
     "metadata": {},
     "output_type": "execute_result"
    }
   ],
   "source": [
    "dataset['train'][5][\"conversations\"]"
   ]
  },
  {
   "cell_type": "code",
   "execution_count": 7,
   "id": "e3171c42",
   "metadata": {
    "execution": {
     "iopub.execute_input": "2025-05-13T09:14:30.291737Z",
     "iopub.status.busy": "2025-05-13T09:14:30.291475Z",
     "iopub.status.idle": "2025-05-13T09:14:30.296797Z",
     "shell.execute_reply": "2025-05-13T09:14:30.295976Z"
    }
   },
   "outputs": [
    {
     "data": {
      "text/plain": [
       "'<s>[INST] <<SYS>>\\nYou are the smartest AI solidity smart contract security auditor in the world.\\n<</SYS>>\\n\\nYou need to analyze the given function and classify it as \"Vulnerable Code\" or \"Safe Code\" based on potential security risks.\\n    \\n    This is the function we need to audit:\\n    ```solidity\\n    function registerDeposit(\\n        address trader,\\n        address token,\\n        uint256 depositAmount\\n    ) external override returns (uint256 extinguishableDebt) {\\n        require(\\n            isMarginTrader(msg.sender),\\n            \"Calling contract not authorized to deposit\"\\n        );\\n\\n        CrossMarginAccount storage account = marginAccounts[trader];\\n        account.lastDepositBlock = block.number;\\n\\n        if (account.borrowed[token] > 0) {\\n            extinguishableDebt = min(depositAmount, account.borrowed[token]);\\n            extinguishDebt(account, token, extinguishableDebt);\\n            totalShort[token] -= extinguishableDebt;\\n        }\\n\\n        // no overflow because depositAmount >= extinguishableDebt\\n        uint256 addedHolding = depositAmount - extinguishableDebt;\\n        _registerDeposit(account, token, addedHolding);\\n    }\\n    ```\\n    \\nAnswer:  [/INST] Safe Code </s>'"
      ]
     },
     "execution_count": 7,
     "metadata": {},
     "output_type": "execute_result"
    }
   ],
   "source": [
    "dataset['train'][5][\"text\"]"
   ]
  },
  {
   "cell_type": "code",
   "execution_count": null,
   "id": "2923fbb4",
   "metadata": {
    "execution": {
     "iopub.execute_input": "2025-05-13T09:14:30.299918Z",
     "iopub.status.busy": "2025-05-13T09:14:30.299665Z",
     "iopub.status.idle": "2025-05-13T09:14:30.513664Z",
     "shell.execute_reply": "2025-05-13T09:14:30.512582Z"
    }
   },
   "outputs": [
    {
     "name": "stderr",
     "output_type": "stream",
     "text": [
      "Detected kernel version 4.15.0, which is below the recommended minimum of 5.5.0; this can cause the process to hang. It is recommended to upgrade the kernel to the minimum version or higher.\n"
     ]
    }
   ],
   "source": [
    "from trl import SFTTrainer\n",
    "from transformers import TrainingArguments, DataCollatorForSeq2Seq\n",
    "from unsloth import is_bfloat16_supported\n",
    "\n",
    "train_dataset = dataset['train']\n",
    "val_dataset = dataset['val']\n",
    "\n",
    "trainer = SFTTrainer(\n",
    "    model = model,\n",
    "    tokenizer = tokenizer,\n",
    "    train_dataset = train_dataset,\n",
    "    eval_dataset = val_dataset,\n",
    "    dataset_text_field = \"text\",\n",
    "    max_seq_length = max_seq_length,\n",
    "    dataset_num_proc = 4,\n",
    "    packing = False, \n",
    "    args = TrainingArguments(\n",
    "        eval_strategy=\"steps\",\n",
    "        eval_steps=500,\n",
    "        per_device_train_batch_size = 1,\n",
    "        gradient_accumulation_steps = 8,\n",
    "        warmup_ratio = 0.1,\n",
    "        num_train_epochs = 5,\n",
    "        learning_rate = 2e-5,\n",
    "        fp16 = not is_bfloat16_supported(),\n",
    "        bf16 = is_bfloat16_supported(),\n",
    "        logging_steps = 1,\n",
    "        optim = \"adamw_8bit\", \n",
    "        weight_decay = 0.01,\n",
    "        lr_scheduler_type = \"cosine\",\n",
    "        seed = 3407,\n",
    "        load_best_model_at_end=True,\n",
    "        output_dir = \"outputs_codellama_dedup\",\n",
    "        report_to = \"none\", \n",
    "    ),\n",
    ")"
   ]
  },
  {
   "cell_type": "code",
   "execution_count": 9,
   "id": "c08d37ff",
   "metadata": {
    "execution": {
     "iopub.execute_input": "2025-05-13T09:14:30.516738Z",
     "iopub.status.busy": "2025-05-13T09:14:30.516493Z",
     "iopub.status.idle": "2025-05-13T09:14:31.410356Z",
     "shell.execute_reply": "2025-05-13T09:14:31.409454Z"
    }
   },
   "outputs": [],
   "source": [
    "from unsloth.chat_templates import train_on_responses_only\n",
    "trainer = train_on_responses_only(\n",
    "    trainer,\n",
    "    instruction_part = \"<</SYS>>\\n\\n\",\n",
    "    response_part = \"[/INST]\",\n",
    ")"
   ]
  },
  {
   "cell_type": "code",
   "execution_count": 10,
   "id": "abd1fc4f",
   "metadata": {
    "execution": {
     "iopub.execute_input": "2025-05-13T09:14:31.413414Z",
     "iopub.status.busy": "2025-05-13T09:14:31.413181Z",
     "iopub.status.idle": "2025-05-13T09:14:31.420027Z",
     "shell.execute_reply": "2025-05-13T09:14:31.419177Z"
    }
   },
   "outputs": [
    {
     "data": {
      "text/plain": [
       "'<s><s> [INST] <<SYS>>\\nYou are the smartest AI solidity smart contract security auditor in the world.\\n<</SYS>>\\n\\nYou need to analyze the given function and classify it as \"Vulnerable Code\" or \"Safe Code\" based on potential security risks.\\n    \\n    This is the function we need to audit:\\n    ```solidity\\n    function registerDeposit(\\n        address trader,\\n        address token,\\n        uint256 depositAmount\\n    ) external override returns (uint256 extinguishableDebt) {\\n        require(\\n            isMarginTrader(msg.sender),\\n            \"Calling contract not authorized to deposit\"\\n        );\\n\\n        CrossMarginAccount storage account = marginAccounts[trader];\\n        account.lastDepositBlock = block.number;\\n\\n        if (account.borrowed[token] > 0) {\\n            extinguishableDebt = min(depositAmount, account.borrowed[token]);\\n            extinguishDebt(account, token, extinguishableDebt);\\n            totalShort[token] -= extinguishableDebt;\\n        }\\n\\n        // no overflow because depositAmount >= extinguishableDebt\\n        uint256 addedHolding = depositAmount - extinguishableDebt;\\n        _registerDeposit(account, token, addedHolding);\\n    }\\n    ```\\n    \\nAnswer:  [/INST] Safe Code </s>'"
      ]
     },
     "execution_count": 10,
     "metadata": {},
     "output_type": "execute_result"
    }
   ],
   "source": [
    "tokenizer.decode(trainer.train_dataset[5][\"input_ids\"])"
   ]
  },
  {
   "cell_type": "code",
   "execution_count": 11,
   "id": "26dc54f8",
   "metadata": {
    "execution": {
     "iopub.execute_input": "2025-05-13T09:14:31.423195Z",
     "iopub.status.busy": "2025-05-13T09:14:31.422959Z",
     "iopub.status.idle": "2025-05-13T09:14:31.430649Z",
     "shell.execute_reply": "2025-05-13T09:14:31.429693Z"
    }
   },
   "outputs": [
    {
     "data": {
      "text/plain": [
       "'                                                                                                                                                                                                                                                                                                                                                                                                                                                                                                                                                                                                                                                                                                                                    Safe Code </s>'"
      ]
     },
     "execution_count": 11,
     "metadata": {},
     "output_type": "execute_result"
    }
   ],
   "source": [
    "space = tokenizer(\" \", add_special_tokens = False).input_ids[0]\n",
    "tokenizer.decode([space if x == -100 else x for x in trainer.train_dataset[5][\"labels\"]])"
   ]
  },
  {
   "cell_type": "code",
   "execution_count": 12,
   "id": "59bcfc83",
   "metadata": {
    "execution": {
     "iopub.execute_input": "2025-05-13T09:14:31.433987Z",
     "iopub.status.busy": "2025-05-13T09:14:31.433752Z",
     "iopub.status.idle": "2025-05-13T09:14:31.440623Z",
     "shell.execute_reply": "2025-05-13T09:14:31.439843Z"
    }
   },
   "outputs": [
    {
     "data": {
      "text/plain": [
       "'<s><s> [INST] <<SYS>>\\nYou are the smartest AI solidity smart contract security auditor in the world.\\n<</SYS>>\\n\\nYou need to analyze the given function and classify it as \"Vulnerable Code\" or \"Safe Code\" based on potential security risks.\\n    \\n    This is the function we need to audit:\\n    ```solidity\\n    function wrap(address to_, address from_) external {\\n        require(!isShutdown, \"shutdown\");\\n        uint256 amount_ = IERC20(convexToken).balanceOf(address(this));\\n        require(amount_ > 0, \"No convex token to wrap\");\\n\\n        _checkpoint([address(0), from_]);\\n        _mint(to_, amount_);\\n        IRewardStaking(convexPool).stake(amount_);\\n\\n        emit Deposited(msg.sender, to_, amount_, false);\\n    }\\n\\nfunction unwrap(address to_) external {\\n        require(!isShutdown, \"shutdown\");\\n        uint256 amount_ = _balanceOf[address(this)];\\n        require(amount_ > 0, \"No wrapped convex token\");\\n\\n        _checkpoint([address(0), to_]);\\n        _burn(address(this), amount_);\\n        IRewardStaking(convexPool).withdraw(amount_, false);\\n        IERC20(convexToken).safeTransfer(to_, amount_);\\n\\n        emit Withdrawn(to_, amount_, false);\\n    }\\n    ```\\n    \\nAnswer:  [/INST] Vulnerable Code </s>'"
      ]
     },
     "execution_count": 12,
     "metadata": {},
     "output_type": "execute_result"
    }
   ],
   "source": [
    "tokenizer.decode(trainer.eval_dataset[5][\"input_ids\"])"
   ]
  },
  {
   "cell_type": "code",
   "execution_count": 13,
   "id": "7c611f15",
   "metadata": {
    "execution": {
     "iopub.execute_input": "2025-05-13T09:14:31.443871Z",
     "iopub.status.busy": "2025-05-13T09:14:31.443634Z",
     "iopub.status.idle": "2025-05-13T09:14:31.451287Z",
     "shell.execute_reply": "2025-05-13T09:14:31.450406Z"
    }
   },
   "outputs": [
    {
     "data": {
      "text/plain": [
       "'                                                                                                                                                                                                                                                                                                                                                                                                                                                                                                                                                                                                                                                                                                                                                                                    Vulnerable Code </s>'"
      ]
     },
     "execution_count": 13,
     "metadata": {},
     "output_type": "execute_result"
    }
   ],
   "source": [
    "space = tokenizer(\" \", add_special_tokens = False).input_ids[0]\n",
    "tokenizer.decode([space if x == -100 else x for x in trainer.eval_dataset[5][\"labels\"]])"
   ]
  },
  {
   "cell_type": "code",
   "execution_count": 14,
   "id": "c11f8847",
   "metadata": {
    "execution": {
     "iopub.execute_input": "2025-05-13T09:14:31.454720Z",
     "iopub.status.busy": "2025-05-13T09:14:31.454472Z",
     "iopub.status.idle": "2025-05-13T11:12:03.328384Z",
     "shell.execute_reply": "2025-05-13T11:12:03.327420Z"
    }
   },
   "outputs": [
    {
     "name": "stderr",
     "output_type": "stream",
     "text": [
      "==((====))==  Unsloth - 2x faster free finetuning | Num GPUs used = 1\n",
      "   \\\\   /|    Num examples = 1,324 | Num Epochs = 5 | Total steps = 825\n",
      "O^O/ \\_/ \\    Batch size per device = 1 | Gradient accumulation steps = 8\n",
      "\\        /    Data Parallel GPUs = 1 | Total batch size (1 x 8 x 1) = 8\n",
      " \"-____-\"     Trainable parameters = 250,347,520/13,000,000,000 (1.93% trained)\n"
     ]
    },
    {
     "name": "stdout",
     "output_type": "stream",
     "text": [
      "Unsloth: Will smartly offload gradients to save VRAM!\n"
     ]
    },
    {
     "data": {
      "text/html": [
       "\n",
       "    <div>\n",
       "      \n",
       "      <progress value='825' max='825' style='width:300px; height:20px; vertical-align: middle;'></progress>\n",
       "      [825/825 1:57:22, Epoch 4/5]\n",
       "    </div>\n",
       "    <table border=\"1\" class=\"dataframe\">\n",
       "  <thead>\n",
       " <tr style=\"text-align: left;\">\n",
       "      <th>Step</th>\n",
       "      <th>Training Loss</th>\n",
       "      <th>Validation Loss</th>\n",
       "    </tr>\n",
       "  </thead>\n",
       "  <tbody>\n",
       "    <tr>\n",
       "      <td>500</td>\n",
       "      <td>0.068000</td>\n",
       "      <td>0.059944</td>\n",
       "    </tr>\n",
       "  </tbody>\n",
       "</table><p>"
      ],
      "text/plain": [
       "<IPython.core.display.HTML object>"
      ]
     },
     "metadata": {},
     "output_type": "display_data"
    },
    {
     "name": "stderr",
     "output_type": "stream",
     "text": [
      "Unsloth: Not an error, but LlamaForCausalLM does not accept `num_items_in_batch`.\n",
      "Using gradient accumulation will be very slightly less accurate.\n",
      "Read more on gradient accumulation issues here: https://unsloth.ai/blog/gradient\n"
     ]
    }
   ],
   "source": [
    "trainer_stats = trainer.train()"
   ]
  },
  {
   "cell_type": "code",
   "execution_count": null,
   "id": "02ccd078",
   "metadata": {
    "execution": {
     "iopub.execute_input": "2025-05-13T11:12:03.332954Z",
     "iopub.status.busy": "2025-05-13T11:12:03.332697Z",
     "iopub.status.idle": "2025-05-13T11:12:03.346046Z",
     "shell.execute_reply": "2025-05-13T11:12:03.345242Z"
    }
   },
   "outputs": [],
   "source": [
    "test_dataset = dataset['test']\n",
    "test_dataset = test_dataset.map(lambda row: {'label':row['conversations'][-1]['content']})\n",
    "test_dataset = test_dataset.map(lambda row: {'conversations':row['conversations'][:-1]})"
   ]
  },
  {
   "cell_type": "code",
   "execution_count": null,
   "id": "89cd4dad",
   "metadata": {
    "execution": {
     "iopub.execute_input": "2025-05-13T11:12:03.349275Z",
     "iopub.status.busy": "2025-05-13T11:12:03.349042Z",
     "iopub.status.idle": "2025-05-13T11:12:04.129946Z",
     "shell.execute_reply": "2025-05-13T11:12:04.129131Z"
    }
   },
   "outputs": [
    {
     "name": "stderr",
     "output_type": "stream",
     "text": [
      "The attention mask is not set and cannot be inferred from input because pad token is same as eos token. As a consequence, you may observe unexpected behavior. Please pass your input's `attention_mask` to obtain reliable results.\n"
     ]
    },
    {
     "data": {
      "text/plain": [
       "['<s> [INST] <<SYS>>\\nYou are the smartest AI solidity smart contract security auditor in the world.\\n<</SYS>>\\n\\nYou need to analyze the given function and classify it as \"Vulnerable Code\" or \"Safe Code\" based on potential security risks.\\n    \\n    This is the function we need to audit:\\n    ```solidity\\n    function _getAdmin(uint256 adminEpoch, uint256 index) internal view returns (address) {\\n        return getAddress(_getAdminKey(adminEpoch, index));\\n    }\\n\\nfunction _isAdmin(uint256 adminEpoch, address account) internal view returns (bool) {\\n        return getBool(_getIsAdminKey(adminEpoch, account));\\n    }\\n\\nfunction _setAdminEpoch(uint256 adminEpoch) internal {\\n        _setUint(KEY_ADMIN_EPOCH, adminEpoch);\\n    }\\n    ```\\n    \\nAnswer:  [/INST] Safe Code </s>']"
      ]
     },
     "execution_count": 16,
     "metadata": {},
     "output_type": "execute_result"
    }
   ],
   "source": [
    "from unsloth.chat_templates import get_chat_template\n",
    "\n",
    "tokenizer = get_chat_template(\n",
    "    tokenizer,\n",
    "    chat_template = \"llama\",\n",
    ")\n",
    "FastLanguageModel.for_inference(model) \n",
    "\n",
    "messages = test_dataset['conversations'][1]\n",
    "inputs = tokenizer.apply_chat_template(\n",
    "    messages,\n",
    "    tokenize = True,\n",
    "    add_generation_prompt = True, \n",
    "    return_tensors = \"pt\",\n",
    ").to(\"cuda\")\n",
    "\n",
    "outputs = model.generate(input_ids = inputs, max_new_tokens = 64, use_cache = True,\n",
    "                         temperature = 1.5, min_p = 0.1)\n",
    "tokenizer.batch_decode(outputs)"
   ]
  },
  {
   "cell_type": "code",
   "execution_count": null,
   "id": "2facc2c6",
   "metadata": {
    "execution": {
     "iopub.execute_input": "2025-05-13T11:12:04.133406Z",
     "iopub.status.busy": "2025-05-13T11:12:04.133141Z",
     "iopub.status.idle": "2025-05-13T11:15:36.002032Z",
     "shell.execute_reply": "2025-05-13T11:15:36.001046Z"
    }
   },
   "outputs": [
    {
     "name": "stderr",
     "output_type": "stream",
     "text": [
      "\r\n",
      "  0%|                                                                                              | 0/278 [00:00<?, ?it/s]"
     ]
    },
    {
     "name": "stderr",
     "output_type": "stream",
     "text": [
      "\r\n",
      "  0%|▎                                                                                     | 1/278 [00:00<02:43,  1.69it/s]"
     ]
    },
    {
     "name": "stderr",
     "output_type": "stream",
     "text": [
      "\r\n",
      "  1%|▌                                                                                     | 2/278 [00:01<02:44,  1.68it/s]"
     ]
    },
    {
     "name": "stderr",
     "output_type": "stream",
     "text": [
      "\r\n",
      "  1%|▉                                                                                     | 3/278 [00:01<02:43,  1.68it/s]"
     ]
    },
    {
     "name": "stderr",
     "output_type": "stream",
     "text": [
      "\r\n",
      "  1%|█▏                                                                                    | 4/278 [00:02<03:46,  1.21it/s]"
     ]
    },
    {
     "name": "stderr",
     "output_type": "stream",
     "text": [
      "\r\n",
      "  2%|█▌                                                                                    | 5/278 [00:03<03:22,  1.35it/s]"
     ]
    },
    {
     "name": "stderr",
     "output_type": "stream",
     "text": [
      "\r\n",
      "  2%|█▊                                                                                    | 6/278 [00:04<03:24,  1.33it/s]"
     ]
    },
    {
     "name": "stderr",
     "output_type": "stream",
     "text": [
      "\r\n",
      "  3%|██▏                                                                                   | 7/278 [00:05<03:24,  1.32it/s]"
     ]
    },
    {
     "name": "stderr",
     "output_type": "stream",
     "text": [
      "\r\n",
      "  3%|██▍                                                                                   | 8/278 [00:05<03:09,  1.42it/s]"
     ]
    },
    {
     "name": "stderr",
     "output_type": "stream",
     "text": [
      "\r\n",
      "  3%|██▊                                                                                   | 9/278 [00:06<02:59,  1.50it/s]"
     ]
    },
    {
     "name": "stderr",
     "output_type": "stream",
     "text": [
      "\r\n",
      "  4%|███                                                                                  | 10/278 [00:06<02:57,  1.51it/s]"
     ]
    },
    {
     "name": "stderr",
     "output_type": "stream",
     "text": [
      "\r\n",
      "  4%|███▎                                                                                 | 11/278 [00:07<03:11,  1.39it/s]"
     ]
    },
    {
     "name": "stderr",
     "output_type": "stream",
     "text": [
      "\r\n",
      "  4%|███▋                                                                                 | 12/278 [00:08<03:01,  1.47it/s]"
     ]
    },
    {
     "name": "stderr",
     "output_type": "stream",
     "text": [
      "\r\n",
      "  5%|███▉                                                                                 | 13/278 [00:08<02:51,  1.55it/s]"
     ]
    },
    {
     "name": "stderr",
     "output_type": "stream",
     "text": [
      "\r\n",
      "  5%|████▎                                                                                | 14/278 [00:09<02:46,  1.59it/s]"
     ]
    },
    {
     "name": "stderr",
     "output_type": "stream",
     "text": [
      "\r\n",
      "  5%|████▌                                                                                | 15/278 [00:10<02:42,  1.62it/s]"
     ]
    },
    {
     "name": "stderr",
     "output_type": "stream",
     "text": [
      "\r\n",
      "  6%|████▉                                                                                | 16/278 [00:10<02:39,  1.64it/s]"
     ]
    },
    {
     "name": "stderr",
     "output_type": "stream",
     "text": [
      "\r\n",
      "  6%|█████▏                                                                               | 17/278 [00:11<03:02,  1.43it/s]"
     ]
    },
    {
     "name": "stderr",
     "output_type": "stream",
     "text": [
      "\r\n",
      "  6%|█████▌                                                                               | 18/278 [00:12<03:25,  1.26it/s]"
     ]
    },
    {
     "name": "stderr",
     "output_type": "stream",
     "text": [
      "\r\n",
      "  7%|█████▊                                                                               | 19/278 [00:13<03:16,  1.32it/s]"
     ]
    },
    {
     "name": "stderr",
     "output_type": "stream",
     "text": [
      "\r\n",
      "  7%|██████                                                                               | 20/278 [00:14<03:31,  1.22it/s]"
     ]
    },
    {
     "name": "stderr",
     "output_type": "stream",
     "text": [
      "\r\n",
      "  8%|██████▍                                                                              | 21/278 [00:14<03:12,  1.33it/s]"
     ]
    },
    {
     "name": "stderr",
     "output_type": "stream",
     "text": [
      "\r\n",
      "  8%|██████▋                                                                              | 22/278 [00:15<03:12,  1.33it/s]"
     ]
    },
    {
     "name": "stderr",
     "output_type": "stream",
     "text": [
      "\r\n",
      "  8%|███████                                                                              | 23/278 [00:16<03:00,  1.41it/s]"
     ]
    },
    {
     "name": "stderr",
     "output_type": "stream",
     "text": [
      "\r\n",
      "  9%|███████▎                                                                             | 24/278 [00:17<03:09,  1.34it/s]"
     ]
    },
    {
     "name": "stderr",
     "output_type": "stream",
     "text": [
      "\r\n",
      "  9%|███████▋                                                                             | 25/278 [00:17<03:09,  1.33it/s]"
     ]
    },
    {
     "name": "stderr",
     "output_type": "stream",
     "text": [
      "\r\n",
      "  9%|███████▉                                                                             | 26/278 [00:18<03:10,  1.32it/s]"
     ]
    },
    {
     "name": "stderr",
     "output_type": "stream",
     "text": [
      "\r\n",
      " 10%|████████▎                                                                            | 27/278 [00:19<03:14,  1.29it/s]"
     ]
    },
    {
     "name": "stderr",
     "output_type": "stream",
     "text": [
      "\r\n",
      " 10%|████████▌                                                                            | 28/278 [00:20<03:19,  1.25it/s]"
     ]
    },
    {
     "name": "stderr",
     "output_type": "stream",
     "text": [
      "\r\n",
      " 10%|████████▊                                                                            | 29/278 [00:20<03:02,  1.36it/s]"
     ]
    },
    {
     "name": "stderr",
     "output_type": "stream",
     "text": [
      "\r\n",
      " 11%|█████████▏                                                                           | 30/278 [00:21<03:08,  1.31it/s]"
     ]
    },
    {
     "name": "stderr",
     "output_type": "stream",
     "text": [
      "\r\n",
      " 11%|█████████▍                                                                           | 31/278 [00:22<02:59,  1.38it/s]"
     ]
    },
    {
     "name": "stderr",
     "output_type": "stream",
     "text": [
      "\r\n",
      " 12%|█████████▊                                                                           | 32/278 [00:22<02:48,  1.46it/s]"
     ]
    },
    {
     "name": "stderr",
     "output_type": "stream",
     "text": [
      "\r\n",
      " 12%|██████████                                                                           | 33/278 [00:23<02:45,  1.48it/s]"
     ]
    },
    {
     "name": "stderr",
     "output_type": "stream",
     "text": [
      "\r\n",
      " 12%|██████████▍                                                                          | 34/278 [00:24<02:36,  1.56it/s]"
     ]
    },
    {
     "name": "stderr",
     "output_type": "stream",
     "text": [
      "\r\n",
      " 13%|██████████▋                                                                          | 35/278 [00:24<02:30,  1.61it/s]"
     ]
    },
    {
     "name": "stderr",
     "output_type": "stream",
     "text": [
      "\r\n",
      " 13%|███████████                                                                          | 36/278 [00:25<02:28,  1.63it/s]"
     ]
    },
    {
     "name": "stderr",
     "output_type": "stream",
     "text": [
      "\r\n",
      " 13%|███████████▎                                                                         | 37/278 [00:26<02:49,  1.43it/s]"
     ]
    },
    {
     "name": "stderr",
     "output_type": "stream",
     "text": [
      "\r\n",
      " 14%|███████████▌                                                                         | 38/278 [00:26<02:40,  1.49it/s]"
     ]
    },
    {
     "name": "stderr",
     "output_type": "stream",
     "text": [
      "\r\n",
      " 14%|███████████▉                                                                         | 39/278 [00:27<02:33,  1.56it/s]"
     ]
    },
    {
     "name": "stderr",
     "output_type": "stream",
     "text": [
      "\r\n",
      " 14%|████████████▏                                                                        | 40/278 [00:27<02:27,  1.62it/s]"
     ]
    },
    {
     "name": "stderr",
     "output_type": "stream",
     "text": [
      "\r\n",
      " 15%|████████████▌                                                                        | 41/278 [00:28<02:36,  1.51it/s]"
     ]
    },
    {
     "name": "stderr",
     "output_type": "stream",
     "text": [
      "\r\n",
      " 15%|████████████▊                                                                        | 42/278 [00:29<02:30,  1.57it/s]"
     ]
    },
    {
     "name": "stderr",
     "output_type": "stream",
     "text": [
      "\r\n",
      " 15%|█████████████▏                                                                       | 43/278 [00:29<02:26,  1.60it/s]"
     ]
    },
    {
     "name": "stderr",
     "output_type": "stream",
     "text": [
      "\r\n",
      " 16%|█████████████▍                                                                       | 44/278 [00:30<02:40,  1.46it/s]"
     ]
    },
    {
     "name": "stderr",
     "output_type": "stream",
     "text": [
      "\r\n",
      " 16%|█████████████▊                                                                       | 45/278 [00:31<02:34,  1.51it/s]"
     ]
    },
    {
     "name": "stderr",
     "output_type": "stream",
     "text": [
      "\r\n",
      " 17%|██████████████                                                                       | 46/278 [00:32<02:44,  1.41it/s]"
     ]
    },
    {
     "name": "stderr",
     "output_type": "stream",
     "text": [
      "\r\n",
      " 17%|██████████████▎                                                                      | 47/278 [00:32<02:48,  1.37it/s]"
     ]
    },
    {
     "name": "stderr",
     "output_type": "stream",
     "text": [
      "\r\n",
      " 17%|██████████████▋                                                                      | 48/278 [00:33<03:01,  1.27it/s]"
     ]
    },
    {
     "name": "stderr",
     "output_type": "stream",
     "text": [
      "\r\n",
      " 18%|██████████████▉                                                                      | 49/278 [00:34<03:03,  1.25it/s]"
     ]
    },
    {
     "name": "stderr",
     "output_type": "stream",
     "text": [
      "\r\n",
      " 18%|███████████████▎                                                                     | 50/278 [00:35<03:01,  1.26it/s]"
     ]
    },
    {
     "name": "stderr",
     "output_type": "stream",
     "text": [
      "\r\n",
      " 18%|███████████████▌                                                                     | 51/278 [00:36<02:47,  1.35it/s]"
     ]
    },
    {
     "name": "stderr",
     "output_type": "stream",
     "text": [
      "\r\n",
      " 19%|███████████████▉                                                                     | 52/278 [00:36<02:35,  1.45it/s]"
     ]
    },
    {
     "name": "stderr",
     "output_type": "stream",
     "text": [
      "\r\n",
      " 19%|████████████████▏                                                                    | 53/278 [00:37<02:27,  1.53it/s]"
     ]
    },
    {
     "name": "stderr",
     "output_type": "stream",
     "text": [
      "\r\n",
      " 19%|████████████████▌                                                                    | 54/278 [00:37<02:22,  1.57it/s]"
     ]
    },
    {
     "name": "stderr",
     "output_type": "stream",
     "text": [
      "\r\n",
      " 20%|████████████████▊                                                                    | 55/278 [00:38<02:19,  1.60it/s]"
     ]
    },
    {
     "name": "stderr",
     "output_type": "stream",
     "text": [
      "\r\n",
      " 20%|█████████████████                                                                    | 56/278 [00:39<02:32,  1.46it/s]"
     ]
    },
    {
     "name": "stderr",
     "output_type": "stream",
     "text": [
      "\r\n",
      " 21%|█████████████████▍                                                                   | 57/278 [00:40<03:12,  1.15it/s]"
     ]
    },
    {
     "name": "stderr",
     "output_type": "stream",
     "text": [
      "\r\n",
      " 21%|█████████████████▋                                                                   | 58/278 [00:41<02:57,  1.24it/s]"
     ]
    },
    {
     "name": "stderr",
     "output_type": "stream",
     "text": [
      "\r\n",
      " 21%|██████████████████                                                                   | 59/278 [00:42<03:07,  1.17it/s]"
     ]
    },
    {
     "name": "stderr",
     "output_type": "stream",
     "text": [
      "\r\n",
      " 22%|██████████████████▎                                                                  | 60/278 [00:42<02:49,  1.29it/s]"
     ]
    },
    {
     "name": "stderr",
     "output_type": "stream",
     "text": [
      "\r\n",
      " 22%|██████████████████▋                                                                  | 61/278 [00:43<02:41,  1.35it/s]"
     ]
    },
    {
     "name": "stderr",
     "output_type": "stream",
     "text": [
      "\r\n",
      " 22%|██████████████████▉                                                                  | 62/278 [00:43<02:30,  1.43it/s]"
     ]
    },
    {
     "name": "stderr",
     "output_type": "stream",
     "text": [
      "\r\n",
      " 23%|███████████████████▎                                                                 | 63/278 [00:44<02:23,  1.50it/s]"
     ]
    },
    {
     "name": "stderr",
     "output_type": "stream",
     "text": [
      "\r\n",
      " 23%|███████████████████▌                                                                 | 64/278 [00:45<02:17,  1.55it/s]"
     ]
    },
    {
     "name": "stderr",
     "output_type": "stream",
     "text": [
      "\r\n",
      " 23%|███████████████████▊                                                                 | 65/278 [00:45<02:13,  1.59it/s]"
     ]
    },
    {
     "name": "stderr",
     "output_type": "stream",
     "text": [
      "\r\n",
      " 24%|████████████████████▏                                                                | 66/278 [00:46<02:26,  1.45it/s]"
     ]
    },
    {
     "name": "stderr",
     "output_type": "stream",
     "text": [
      "\r\n",
      " 24%|████████████████████▍                                                                | 67/278 [00:47<02:34,  1.37it/s]"
     ]
    },
    {
     "name": "stderr",
     "output_type": "stream",
     "text": [
      "\r\n",
      " 24%|████████████████████▊                                                                | 68/278 [00:48<03:02,  1.15it/s]"
     ]
    },
    {
     "name": "stderr",
     "output_type": "stream",
     "text": [
      "\r\n",
      " 25%|█████████████████████                                                                | 69/278 [00:49<02:55,  1.19it/s]"
     ]
    },
    {
     "name": "stderr",
     "output_type": "stream",
     "text": [
      "\r\n",
      " 25%|█████████████████████▍                                                               | 70/278 [00:50<02:50,  1.22it/s]"
     ]
    },
    {
     "name": "stderr",
     "output_type": "stream",
     "text": [
      "\r\n",
      " 26%|█████████████████████▋                                                               | 71/278 [00:50<02:49,  1.22it/s]"
     ]
    },
    {
     "name": "stderr",
     "output_type": "stream",
     "text": [
      "\r\n",
      " 26%|██████████████████████                                                               | 72/278 [00:51<02:49,  1.21it/s]"
     ]
    },
    {
     "name": "stderr",
     "output_type": "stream",
     "text": [
      "\r\n",
      " 26%|██████████████████████▎                                                              | 73/278 [00:52<02:45,  1.24it/s]"
     ]
    },
    {
     "name": "stderr",
     "output_type": "stream",
     "text": [
      "\r\n",
      " 27%|██████████████████████▋                                                              | 74/278 [00:53<02:36,  1.31it/s]"
     ]
    },
    {
     "name": "stderr",
     "output_type": "stream",
     "text": [
      "\r\n",
      " 27%|██████████████████████▉                                                              | 75/278 [00:53<02:25,  1.40it/s]"
     ]
    },
    {
     "name": "stderr",
     "output_type": "stream",
     "text": [
      "\r\n",
      " 27%|███████████████████████▏                                                             | 76/278 [00:54<02:40,  1.26it/s]"
     ]
    },
    {
     "name": "stderr",
     "output_type": "stream",
     "text": [
      "\r\n",
      " 28%|███████████████████████▌                                                             | 77/278 [00:55<02:37,  1.27it/s]"
     ]
    },
    {
     "name": "stderr",
     "output_type": "stream",
     "text": [
      "\r\n",
      " 28%|███████████████████████▊                                                             | 78/278 [00:57<03:22,  1.01s/it]"
     ]
    },
    {
     "name": "stderr",
     "output_type": "stream",
     "text": [
      "\r\n",
      " 28%|████████████████████████▏                                                            | 79/278 [00:58<03:15,  1.02it/s]"
     ]
    },
    {
     "name": "stderr",
     "output_type": "stream",
     "text": [
      "\r\n",
      " 29%|████████████████████████▍                                                            | 80/278 [00:59<03:19,  1.01s/it]"
     ]
    },
    {
     "name": "stderr",
     "output_type": "stream",
     "text": [
      "\r\n",
      " 29%|████████████████████████▊                                                            | 81/278 [00:59<03:08,  1.04it/s]"
     ]
    },
    {
     "name": "stderr",
     "output_type": "stream",
     "text": [
      "\r\n",
      " 29%|█████████████████████████                                                            | 82/278 [01:01<03:18,  1.01s/it]"
     ]
    },
    {
     "name": "stderr",
     "output_type": "stream",
     "text": [
      "\r\n",
      " 30%|█████████████████████████▍                                                           | 83/278 [01:01<03:06,  1.05it/s]"
     ]
    },
    {
     "name": "stderr",
     "output_type": "stream",
     "text": [
      "\r\n",
      " 30%|█████████████████████████▋                                                           | 84/278 [01:02<02:54,  1.11it/s]"
     ]
    },
    {
     "name": "stderr",
     "output_type": "stream",
     "text": [
      "\r\n",
      " 31%|█████████████████████████▉                                                           | 85/278 [01:03<02:49,  1.14it/s]"
     ]
    },
    {
     "name": "stderr",
     "output_type": "stream",
     "text": [
      "\r\n",
      " 31%|██████████████████████████▎                                                          | 86/278 [01:04<02:35,  1.23it/s]"
     ]
    },
    {
     "name": "stderr",
     "output_type": "stream",
     "text": [
      "\r\n",
      " 31%|██████████████████████████▌                                                          | 87/278 [01:05<02:54,  1.09it/s]"
     ]
    },
    {
     "name": "stderr",
     "output_type": "stream",
     "text": [
      "\r\n",
      " 32%|██████████████████████████▉                                                          | 88/278 [01:05<02:39,  1.19it/s]"
     ]
    },
    {
     "name": "stderr",
     "output_type": "stream",
     "text": [
      "\r\n",
      " 32%|███████████████████████████▏                                                         | 89/278 [01:06<02:34,  1.22it/s]"
     ]
    },
    {
     "name": "stderr",
     "output_type": "stream",
     "text": [
      "\r\n",
      " 32%|███████████████████████████▌                                                         | 90/278 [01:07<02:24,  1.30it/s]"
     ]
    },
    {
     "name": "stderr",
     "output_type": "stream",
     "text": [
      "\r\n",
      " 33%|███████████████████████████▊                                                         | 91/278 [01:07<02:13,  1.40it/s]"
     ]
    },
    {
     "name": "stderr",
     "output_type": "stream",
     "text": [
      "\r\n",
      " 33%|████████████████████████████▏                                                        | 92/278 [01:08<02:05,  1.48it/s]"
     ]
    },
    {
     "name": "stderr",
     "output_type": "stream",
     "text": [
      "\r\n",
      " 33%|████████████████████████████▍                                                        | 93/278 [01:09<01:59,  1.55it/s]"
     ]
    },
    {
     "name": "stderr",
     "output_type": "stream",
     "text": [
      "\r\n",
      " 34%|████████████████████████████▋                                                        | 94/278 [01:09<01:59,  1.54it/s]"
     ]
    },
    {
     "name": "stderr",
     "output_type": "stream",
     "text": [
      "\r\n",
      " 34%|█████████████████████████████                                                        | 95/278 [01:10<01:55,  1.58it/s]"
     ]
    },
    {
     "name": "stderr",
     "output_type": "stream",
     "text": [
      "\r\n",
      " 35%|█████████████████████████████▎                                                       | 96/278 [01:11<02:00,  1.51it/s]"
     ]
    },
    {
     "name": "stderr",
     "output_type": "stream",
     "text": [
      "\r\n",
      " 35%|█████████████████████████████▋                                                       | 97/278 [01:11<02:09,  1.40it/s]"
     ]
    },
    {
     "name": "stderr",
     "output_type": "stream",
     "text": [
      "\r\n",
      " 35%|█████████████████████████████▉                                                       | 98/278 [01:12<02:02,  1.47it/s]"
     ]
    },
    {
     "name": "stderr",
     "output_type": "stream",
     "text": [
      "\r\n",
      " 36%|██████████████████████████████▎                                                      | 99/278 [01:13<01:57,  1.53it/s]"
     ]
    },
    {
     "name": "stderr",
     "output_type": "stream",
     "text": [
      "\r\n",
      " 36%|██████████████████████████████▏                                                     | 100/278 [01:13<02:02,  1.45it/s]"
     ]
    },
    {
     "name": "stderr",
     "output_type": "stream",
     "text": [
      "\r\n",
      " 36%|██████████████████████████████▌                                                     | 101/278 [01:14<01:56,  1.52it/s]"
     ]
    },
    {
     "name": "stderr",
     "output_type": "stream",
     "text": [
      "\r\n",
      " 37%|██████████████████████████████▊                                                     | 102/278 [01:15<01:52,  1.56it/s]"
     ]
    },
    {
     "name": "stderr",
     "output_type": "stream",
     "text": [
      "\r\n",
      " 37%|███████████████████████████████                                                     | 103/278 [01:15<02:01,  1.44it/s]"
     ]
    },
    {
     "name": "stderr",
     "output_type": "stream",
     "text": [
      "\r\n",
      " 37%|███████████████████████████████▍                                                    | 104/278 [01:16<02:04,  1.39it/s]"
     ]
    },
    {
     "name": "stderr",
     "output_type": "stream",
     "text": [
      "\r\n",
      " 38%|███████████████████████████████▋                                                    | 105/278 [01:17<02:07,  1.36it/s]"
     ]
    },
    {
     "name": "stderr",
     "output_type": "stream",
     "text": [
      "\r\n",
      " 38%|████████████████████████████████                                                    | 106/278 [01:18<02:01,  1.41it/s]"
     ]
    },
    {
     "name": "stderr",
     "output_type": "stream",
     "text": [
      "\r\n",
      " 38%|████████████████████████████████▎                                                   | 107/278 [01:18<01:55,  1.49it/s]"
     ]
    },
    {
     "name": "stderr",
     "output_type": "stream",
     "text": [
      "\r\n",
      " 39%|████████████████████████████████▋                                                   | 108/278 [01:19<01:59,  1.43it/s]"
     ]
    },
    {
     "name": "stderr",
     "output_type": "stream",
     "text": [
      "\r\n",
      " 39%|████████████████████████████████▉                                                   | 109/278 [01:20<01:53,  1.49it/s]"
     ]
    },
    {
     "name": "stderr",
     "output_type": "stream",
     "text": [
      "\r\n",
      " 40%|█████████████████████████████████▏                                                  | 110/278 [01:20<02:00,  1.40it/s]"
     ]
    },
    {
     "name": "stderr",
     "output_type": "stream",
     "text": [
      "\r\n",
      " 40%|█████████████████████████████████▌                                                  | 111/278 [01:21<02:10,  1.28it/s]"
     ]
    },
    {
     "name": "stderr",
     "output_type": "stream",
     "text": [
      "\r\n",
      " 40%|█████████████████████████████████▊                                                  | 112/278 [01:23<02:32,  1.09it/s]"
     ]
    },
    {
     "name": "stderr",
     "output_type": "stream",
     "text": [
      "\r\n",
      " 41%|██████████████████████████████████▏                                                 | 113/278 [01:24<02:31,  1.09it/s]"
     ]
    },
    {
     "name": "stderr",
     "output_type": "stream",
     "text": [
      "\r\n",
      " 41%|██████████████████████████████████▍                                                 | 114/278 [01:24<02:31,  1.09it/s]"
     ]
    },
    {
     "name": "stderr",
     "output_type": "stream",
     "text": [
      "\r\n",
      " 41%|██████████████████████████████████▋                                                 | 115/278 [01:25<02:29,  1.09it/s]"
     ]
    },
    {
     "name": "stderr",
     "output_type": "stream",
     "text": [
      "\r\n",
      " 42%|███████████████████████████████████                                                 | 116/278 [01:26<02:15,  1.19it/s]"
     ]
    },
    {
     "name": "stderr",
     "output_type": "stream",
     "text": [
      "\r\n",
      " 42%|███████████████████████████████████▎                                                | 117/278 [01:27<02:02,  1.32it/s]"
     ]
    },
    {
     "name": "stderr",
     "output_type": "stream",
     "text": [
      "\r\n",
      " 42%|███████████████████████████████████▋                                                | 118/278 [01:27<02:01,  1.31it/s]"
     ]
    },
    {
     "name": "stderr",
     "output_type": "stream",
     "text": [
      "\r\n",
      " 43%|███████████████████████████████████▉                                                | 119/278 [01:28<01:55,  1.37it/s]"
     ]
    },
    {
     "name": "stderr",
     "output_type": "stream",
     "text": [
      "\r\n",
      " 43%|████████████████████████████████████▎                                               | 120/278 [01:29<02:19,  1.13it/s]"
     ]
    },
    {
     "name": "stderr",
     "output_type": "stream",
     "text": [
      "\r\n",
      " 44%|████████████████████████████████████▌                                               | 121/278 [01:30<02:05,  1.26it/s]"
     ]
    },
    {
     "name": "stderr",
     "output_type": "stream",
     "text": [
      "\r\n",
      " 44%|████████████████████████████████████▊                                               | 122/278 [01:31<01:59,  1.31it/s]"
     ]
    },
    {
     "name": "stderr",
     "output_type": "stream",
     "text": [
      "\r\n",
      " 44%|█████████████████████████████████████▏                                              | 123/278 [01:32<02:08,  1.20it/s]"
     ]
    },
    {
     "name": "stderr",
     "output_type": "stream",
     "text": [
      "\r\n",
      " 45%|█████████████████████████████████████▍                                              | 124/278 [01:32<01:56,  1.32it/s]"
     ]
    },
    {
     "name": "stderr",
     "output_type": "stream",
     "text": [
      "\r\n",
      " 45%|█████████████████████████████████████▊                                              | 125/278 [01:33<01:47,  1.42it/s]"
     ]
    },
    {
     "name": "stderr",
     "output_type": "stream",
     "text": [
      "\r\n",
      " 45%|██████████████████████████████████████                                              | 126/278 [01:33<01:52,  1.36it/s]"
     ]
    },
    {
     "name": "stderr",
     "output_type": "stream",
     "text": [
      "\r\n",
      " 46%|██████████████████████████████████████▎                                             | 127/278 [01:35<02:04,  1.21it/s]"
     ]
    },
    {
     "name": "stderr",
     "output_type": "stream",
     "text": [
      "\r\n",
      " 46%|██████████████████████████████████████▋                                             | 128/278 [01:36<02:12,  1.13it/s]"
     ]
    },
    {
     "name": "stderr",
     "output_type": "stream",
     "text": [
      "\r\n",
      " 46%|██████████████████████████████████████▉                                             | 129/278 [01:36<02:00,  1.24it/s]"
     ]
    },
    {
     "name": "stderr",
     "output_type": "stream",
     "text": [
      "\r\n",
      " 47%|███████████████████████████████████████▎                                            | 130/278 [01:37<02:01,  1.22it/s]"
     ]
    },
    {
     "name": "stderr",
     "output_type": "stream",
     "text": [
      "\r\n",
      " 47%|███████████████████████████████████████▌                                            | 131/278 [01:38<02:02,  1.20it/s]"
     ]
    },
    {
     "name": "stderr",
     "output_type": "stream",
     "text": [
      "\r\n",
      " 47%|███████████████████████████████████████▉                                            | 132/278 [01:38<01:50,  1.32it/s]"
     ]
    },
    {
     "name": "stderr",
     "output_type": "stream",
     "text": [
      "\r\n",
      " 48%|████████████████████████████████████████▏                                           | 133/278 [01:39<01:42,  1.41it/s]"
     ]
    },
    {
     "name": "stderr",
     "output_type": "stream",
     "text": [
      "\r\n",
      " 48%|████████████████████████████████████████▍                                           | 134/278 [01:40<01:36,  1.50it/s]"
     ]
    },
    {
     "name": "stderr",
     "output_type": "stream",
     "text": [
      "\r\n",
      " 49%|████████████████████████████████████████▊                                           | 135/278 [01:40<01:43,  1.38it/s]"
     ]
    },
    {
     "name": "stderr",
     "output_type": "stream",
     "text": [
      "\r\n",
      " 49%|█████████████████████████████████████████                                           | 136/278 [01:41<01:37,  1.46it/s]"
     ]
    },
    {
     "name": "stderr",
     "output_type": "stream",
     "text": [
      "\r\n",
      " 49%|█████████████████████████████████████████▍                                          | 137/278 [01:42<01:46,  1.32it/s]"
     ]
    },
    {
     "name": "stderr",
     "output_type": "stream",
     "text": [
      "\r\n",
      " 50%|█████████████████████████████████████████▋                                          | 138/278 [01:43<01:41,  1.37it/s]"
     ]
    },
    {
     "name": "stderr",
     "output_type": "stream",
     "text": [
      "\r\n",
      " 50%|██████████████████████████████████████████                                          | 139/278 [01:43<01:35,  1.45it/s]"
     ]
    },
    {
     "name": "stderr",
     "output_type": "stream",
     "text": [
      "\r\n",
      " 50%|██████████████████████████████████████████▎                                         | 140/278 [01:44<01:40,  1.37it/s]"
     ]
    },
    {
     "name": "stderr",
     "output_type": "stream",
     "text": [
      "\r\n",
      " 51%|██████████████████████████████████████████▌                                         | 141/278 [01:45<01:34,  1.45it/s]"
     ]
    },
    {
     "name": "stderr",
     "output_type": "stream",
     "text": [
      "\r\n",
      " 51%|██████████████████████████████████████████▉                                         | 142/278 [01:45<01:31,  1.48it/s]"
     ]
    },
    {
     "name": "stderr",
     "output_type": "stream",
     "text": [
      "\r\n",
      " 51%|███████████████████████████████████████████▏                                        | 143/278 [01:46<01:27,  1.55it/s]"
     ]
    },
    {
     "name": "stderr",
     "output_type": "stream",
     "text": [
      "\r\n",
      " 52%|███████████████████████████████████████████▌                                        | 144/278 [01:47<01:50,  1.21it/s]"
     ]
    },
    {
     "name": "stderr",
     "output_type": "stream",
     "text": [
      "\r\n",
      " 52%|███████████████████████████████████████████▊                                        | 145/278 [01:48<01:39,  1.34it/s]"
     ]
    },
    {
     "name": "stderr",
     "output_type": "stream",
     "text": [
      "\r\n",
      " 53%|████████████████████████████████████████████                                        | 146/278 [01:48<01:32,  1.43it/s]"
     ]
    },
    {
     "name": "stderr",
     "output_type": "stream",
     "text": [
      "\r\n",
      " 53%|████████████████████████████████████████████▍                                       | 147/278 [01:49<01:26,  1.51it/s]"
     ]
    },
    {
     "name": "stderr",
     "output_type": "stream",
     "text": [
      "\r\n",
      " 53%|████████████████████████████████████████████▋                                       | 148/278 [01:50<01:25,  1.52it/s]"
     ]
    },
    {
     "name": "stderr",
     "output_type": "stream",
     "text": [
      "\r\n",
      " 54%|█████████████████████████████████████████████                                       | 149/278 [01:51<01:54,  1.12it/s]"
     ]
    },
    {
     "name": "stderr",
     "output_type": "stream",
     "text": [
      "\r\n",
      " 54%|█████████████████████████████████████████████▎                                      | 150/278 [01:52<01:52,  1.14it/s]"
     ]
    },
    {
     "name": "stderr",
     "output_type": "stream",
     "text": [
      "\r\n",
      " 54%|█████████████████████████████████████████████▋                                      | 151/278 [01:53<01:47,  1.18it/s]"
     ]
    },
    {
     "name": "stderr",
     "output_type": "stream",
     "text": [
      "\r\n",
      " 55%|█████████████████████████████████████████████▉                                      | 152/278 [01:54<01:54,  1.10it/s]"
     ]
    },
    {
     "name": "stderr",
     "output_type": "stream",
     "text": [
      "\r\n",
      " 55%|██████████████████████████████████████████████▏                                     | 153/278 [01:55<02:02,  1.02it/s]"
     ]
    },
    {
     "name": "stderr",
     "output_type": "stream",
     "text": [
      "\r\n",
      " 55%|██████████████████████████████████████████████▌                                     | 154/278 [01:56<02:03,  1.01it/s]"
     ]
    },
    {
     "name": "stderr",
     "output_type": "stream",
     "text": [
      "\r\n",
      " 56%|██████████████████████████████████████████████▊                                     | 155/278 [01:57<02:02,  1.01it/s]"
     ]
    },
    {
     "name": "stderr",
     "output_type": "stream",
     "text": [
      "\r\n",
      " 56%|███████████████████████████████████████████████▏                                    | 156/278 [01:58<02:07,  1.05s/it]"
     ]
    },
    {
     "name": "stderr",
     "output_type": "stream",
     "text": [
      "\r\n",
      " 56%|███████████████████████████████████████████████▍                                    | 157/278 [01:59<01:58,  1.02it/s]"
     ]
    },
    {
     "name": "stderr",
     "output_type": "stream",
     "text": [
      "\r\n",
      " 57%|███████████████████████████████████████████████▋                                    | 158/278 [02:00<01:57,  1.02it/s]"
     ]
    },
    {
     "name": "stderr",
     "output_type": "stream",
     "text": [
      "\r\n",
      " 57%|████████████████████████████████████████████████                                    | 159/278 [02:01<01:50,  1.08it/s]"
     ]
    },
    {
     "name": "stderr",
     "output_type": "stream",
     "text": [
      "\r\n",
      " 58%|████████████████████████████████████████████████▎                                   | 160/278 [02:01<01:47,  1.09it/s]"
     ]
    },
    {
     "name": "stderr",
     "output_type": "stream",
     "text": [
      "\r\n",
      " 58%|████████████████████████████████████████████████▋                                   | 161/278 [02:02<01:42,  1.15it/s]"
     ]
    },
    {
     "name": "stderr",
     "output_type": "stream",
     "text": [
      "\r\n",
      " 58%|████████████████████████████████████████████████▉                                   | 162/278 [02:03<01:31,  1.27it/s]"
     ]
    },
    {
     "name": "stderr",
     "output_type": "stream",
     "text": [
      "\r\n",
      " 59%|█████████████████████████████████████████████████▎                                  | 163/278 [02:03<01:23,  1.37it/s]"
     ]
    },
    {
     "name": "stderr",
     "output_type": "stream",
     "text": [
      "\r\n",
      " 59%|█████████████████████████████████████████████████▌                                  | 164/278 [02:04<01:26,  1.32it/s]"
     ]
    },
    {
     "name": "stderr",
     "output_type": "stream",
     "text": [
      "\r\n",
      " 59%|█████████████████████████████████████████████████▊                                  | 165/278 [02:05<01:19,  1.42it/s]"
     ]
    },
    {
     "name": "stderr",
     "output_type": "stream",
     "text": [
      "\r\n",
      " 60%|██████████████████████████████████████████████████▏                                 | 166/278 [02:05<01:18,  1.43it/s]"
     ]
    },
    {
     "name": "stderr",
     "output_type": "stream",
     "text": [
      "\r\n",
      " 60%|██████████████████████████████████████████████████▍                                 | 167/278 [02:06<01:14,  1.50it/s]"
     ]
    },
    {
     "name": "stderr",
     "output_type": "stream",
     "text": [
      "\r\n",
      " 60%|██████████████████████████████████████████████████▊                                 | 168/278 [02:07<01:11,  1.55it/s]"
     ]
    },
    {
     "name": "stderr",
     "output_type": "stream",
     "text": [
      "\r\n",
      " 61%|███████████████████████████████████████████████████                                 | 169/278 [02:07<01:08,  1.59it/s]"
     ]
    },
    {
     "name": "stderr",
     "output_type": "stream",
     "text": [
      "\r\n",
      " 61%|███████████████████████████████████████████████████▎                                | 170/278 [02:08<01:05,  1.64it/s]"
     ]
    },
    {
     "name": "stderr",
     "output_type": "stream",
     "text": [
      "\r\n",
      " 62%|███████████████████████████████████████████████████▋                                | 171/278 [02:08<01:04,  1.67it/s]"
     ]
    },
    {
     "name": "stderr",
     "output_type": "stream",
     "text": [
      "\r\n",
      " 62%|███████████████████████████████████████████████████▉                                | 172/278 [02:09<01:02,  1.69it/s]"
     ]
    },
    {
     "name": "stderr",
     "output_type": "stream",
     "text": [
      "\r\n",
      " 62%|████████████████████████████████████████████████████▎                               | 173/278 [02:10<01:03,  1.65it/s]"
     ]
    },
    {
     "name": "stderr",
     "output_type": "stream",
     "text": [
      "\r\n",
      " 63%|████████████████████████████████████████████████████▌                               | 174/278 [02:10<01:01,  1.68it/s]"
     ]
    },
    {
     "name": "stderr",
     "output_type": "stream",
     "text": [
      "\r\n",
      " 63%|████████████████████████████████████████████████████▉                               | 175/278 [02:11<01:02,  1.64it/s]"
     ]
    },
    {
     "name": "stderr",
     "output_type": "stream",
     "text": [
      "\r\n",
      " 63%|█████████████████████████████████████████████████████▏                              | 176/278 [02:11<01:03,  1.60it/s]"
     ]
    },
    {
     "name": "stderr",
     "output_type": "stream",
     "text": [
      "\r\n",
      " 64%|█████████████████████████████████████████████████████▍                              | 177/278 [02:12<01:02,  1.62it/s]"
     ]
    },
    {
     "name": "stderr",
     "output_type": "stream",
     "text": [
      "\r\n",
      " 64%|█████████████████████████████████████████████████████▊                              | 178/278 [02:13<01:08,  1.47it/s]"
     ]
    },
    {
     "name": "stderr",
     "output_type": "stream",
     "text": [
      "\r\n",
      " 64%|██████████████████████████████████████████████████████                              | 179/278 [02:14<01:06,  1.49it/s]"
     ]
    },
    {
     "name": "stderr",
     "output_type": "stream",
     "text": [
      "\r\n",
      " 65%|██████████████████████████████████████████████████████▍                             | 180/278 [02:14<01:03,  1.54it/s]"
     ]
    },
    {
     "name": "stderr",
     "output_type": "stream",
     "text": [
      "\r\n",
      " 65%|██████████████████████████████████████████████████████▋                             | 181/278 [02:15<01:08,  1.41it/s]"
     ]
    },
    {
     "name": "stderr",
     "output_type": "stream",
     "text": [
      "\r\n",
      " 65%|██████████████████████████████████████████████████████▉                             | 182/278 [02:16<01:10,  1.35it/s]"
     ]
    },
    {
     "name": "stderr",
     "output_type": "stream",
     "text": [
      "\r\n",
      " 66%|███████████████████████████████████████████████████████▎                            | 183/278 [02:17<01:11,  1.33it/s]"
     ]
    },
    {
     "name": "stderr",
     "output_type": "stream",
     "text": [
      "\r\n",
      " 66%|███████████████████████████████████████████████████████▌                            | 184/278 [02:17<01:07,  1.39it/s]"
     ]
    },
    {
     "name": "stderr",
     "output_type": "stream",
     "text": [
      "\r\n",
      " 67%|███████████████████████████████████████████████████████▉                            | 185/278 [02:18<01:08,  1.36it/s]"
     ]
    },
    {
     "name": "stderr",
     "output_type": "stream",
     "text": [
      "\r\n",
      " 67%|████████████████████████████████████████████████████████▏                           | 186/278 [02:19<01:03,  1.45it/s]"
     ]
    },
    {
     "name": "stderr",
     "output_type": "stream",
     "text": [
      "\r\n",
      " 67%|████████████████████████████████████████████████████████▌                           | 187/278 [02:19<01:07,  1.35it/s]"
     ]
    },
    {
     "name": "stderr",
     "output_type": "stream",
     "text": [
      "\r\n",
      " 68%|████████████████████████████████████████████████████████▊                           | 188/278 [02:20<01:08,  1.32it/s]"
     ]
    },
    {
     "name": "stderr",
     "output_type": "stream",
     "text": [
      "\r\n",
      " 68%|█████████████████████████████████████████████████████████                           | 189/278 [02:21<01:09,  1.28it/s]"
     ]
    },
    {
     "name": "stderr",
     "output_type": "stream",
     "text": [
      "\r\n",
      " 68%|█████████████████████████████████████████████████████████▍                          | 190/278 [02:22<01:09,  1.27it/s]"
     ]
    },
    {
     "name": "stderr",
     "output_type": "stream",
     "text": [
      "\r\n",
      " 69%|█████████████████████████████████████████████████████████▋                          | 191/278 [02:23<01:09,  1.25it/s]"
     ]
    },
    {
     "name": "stderr",
     "output_type": "stream",
     "text": [
      "\r\n",
      " 69%|██████████████████████████████████████████████████████████                          | 192/278 [02:24<01:13,  1.17it/s]"
     ]
    },
    {
     "name": "stderr",
     "output_type": "stream",
     "text": [
      "\r\n",
      " 69%|██████████████████████████████████████████████████████████▎                         | 193/278 [02:24<01:08,  1.25it/s]"
     ]
    },
    {
     "name": "stderr",
     "output_type": "stream",
     "text": [
      "\r\n",
      " 70%|██████████████████████████████████████████████████████████▌                         | 194/278 [02:25<01:02,  1.35it/s]"
     ]
    },
    {
     "name": "stderr",
     "output_type": "stream",
     "text": [
      "\r\n",
      " 70%|██████████████████████████████████████████████████████████▉                         | 195/278 [02:26<00:58,  1.42it/s]"
     ]
    },
    {
     "name": "stderr",
     "output_type": "stream",
     "text": [
      "\r\n",
      " 71%|███████████████████████████████████████████████████████████▏                        | 196/278 [02:27<01:04,  1.27it/s]"
     ]
    },
    {
     "name": "stderr",
     "output_type": "stream",
     "text": [
      "\r\n",
      " 71%|███████████████████████████████████████████████████████████▌                        | 197/278 [02:27<00:59,  1.36it/s]"
     ]
    },
    {
     "name": "stderr",
     "output_type": "stream",
     "text": [
      "\r\n",
      " 71%|███████████████████████████████████████████████████████████▊                        | 198/278 [02:28<00:54,  1.46it/s]"
     ]
    },
    {
     "name": "stderr",
     "output_type": "stream",
     "text": [
      "\r\n",
      " 72%|████████████████████████████████████████████████████████████▏                       | 199/278 [02:28<00:51,  1.52it/s]"
     ]
    },
    {
     "name": "stderr",
     "output_type": "stream",
     "text": [
      "\r\n",
      " 72%|████████████████████████████████████████████████████████████▍                       | 200/278 [02:29<00:49,  1.57it/s]"
     ]
    },
    {
     "name": "stderr",
     "output_type": "stream",
     "text": [
      "\r\n",
      " 72%|████████████████████████████████████████████████████████████▋                       | 201/278 [02:30<00:48,  1.60it/s]"
     ]
    },
    {
     "name": "stderr",
     "output_type": "stream",
     "text": [
      "\r\n",
      " 73%|█████████████████████████████████████████████████████████████                       | 202/278 [02:30<00:52,  1.45it/s]"
     ]
    },
    {
     "name": "stderr",
     "output_type": "stream",
     "text": [
      "\r\n",
      " 73%|█████████████████████████████████████████████████████████████▎                      | 203/278 [02:31<00:50,  1.49it/s]"
     ]
    },
    {
     "name": "stderr",
     "output_type": "stream",
     "text": [
      "\r\n",
      " 73%|█████████████████████████████████████████████████████████████▋                      | 204/278 [02:32<01:05,  1.14it/s]"
     ]
    },
    {
     "name": "stderr",
     "output_type": "stream",
     "text": [
      "\r\n",
      " 74%|█████████████████████████████████████████████████████████████▉                      | 205/278 [02:33<01:03,  1.16it/s]"
     ]
    },
    {
     "name": "stderr",
     "output_type": "stream",
     "text": [
      "\r\n",
      " 74%|██████████████████████████████████████████████████████████████▏                     | 206/278 [02:34<01:06,  1.08it/s]"
     ]
    },
    {
     "name": "stderr",
     "output_type": "stream",
     "text": [
      "\r\n",
      " 74%|██████████████████████████████████████████████████████████████▌                     | 207/278 [02:35<01:04,  1.10it/s]"
     ]
    },
    {
     "name": "stderr",
     "output_type": "stream",
     "text": [
      "\r\n",
      " 75%|██████████████████████████████████████████████████████████████▊                     | 208/278 [02:36<01:01,  1.13it/s]"
     ]
    },
    {
     "name": "stderr",
     "output_type": "stream",
     "text": [
      "\r\n",
      " 75%|███████████████████████████████████████████████████████████████▏                    | 209/278 [02:37<01:06,  1.04it/s]"
     ]
    },
    {
     "name": "stderr",
     "output_type": "stream",
     "text": [
      "\r\n",
      " 76%|███████████████████████████████████████████████████████████████▍                    | 210/278 [02:38<01:07,  1.00it/s]"
     ]
    },
    {
     "name": "stderr",
     "output_type": "stream",
     "text": [
      "\r\n",
      " 76%|███████████████████████████████████████████████████████████████▊                    | 211/278 [02:39<01:05,  1.03it/s]"
     ]
    },
    {
     "name": "stderr",
     "output_type": "stream",
     "text": [
      "\r\n",
      " 76%|████████████████████████████████████████████████████████████████                    | 212/278 [02:40<01:00,  1.10it/s]"
     ]
    },
    {
     "name": "stderr",
     "output_type": "stream",
     "text": [
      "\r\n",
      " 77%|████████████████████████████████████████████████████████████████▎                   | 213/278 [02:41<00:58,  1.12it/s]"
     ]
    },
    {
     "name": "stderr",
     "output_type": "stream",
     "text": [
      "\r\n",
      " 77%|████████████████████████████████████████████████████████████████▋                   | 214/278 [02:42<00:55,  1.15it/s]"
     ]
    },
    {
     "name": "stderr",
     "output_type": "stream",
     "text": [
      "\r\n",
      " 77%|████████████████████████████████████████████████████████████████▉                   | 215/278 [02:42<00:54,  1.16it/s]"
     ]
    },
    {
     "name": "stderr",
     "output_type": "stream",
     "text": [
      "\r\n",
      " 78%|█████████████████████████████████████████████████████████████████▎                  | 216/278 [02:43<00:51,  1.20it/s]"
     ]
    },
    {
     "name": "stderr",
     "output_type": "stream",
     "text": [
      "\r\n",
      " 78%|█████████████████████████████████████████████████████████████████▌                  | 217/278 [02:44<00:49,  1.22it/s]"
     ]
    },
    {
     "name": "stderr",
     "output_type": "stream",
     "text": [
      "\r\n",
      " 78%|█████████████████████████████████████████████████████████████████▊                  | 218/278 [02:45<00:49,  1.21it/s]"
     ]
    },
    {
     "name": "stderr",
     "output_type": "stream",
     "text": [
      "\r\n",
      " 79%|██████████████████████████████████████████████████████████████████▏                 | 219/278 [02:46<00:50,  1.16it/s]"
     ]
    },
    {
     "name": "stderr",
     "output_type": "stream",
     "text": [
      "\r\n",
      " 79%|██████████████████████████████████████████████████████████████████▍                 | 220/278 [02:47<00:50,  1.15it/s]"
     ]
    },
    {
     "name": "stderr",
     "output_type": "stream",
     "text": [
      "\r\n",
      " 79%|██████████████████████████████████████████████████████████████████▊                 | 221/278 [02:47<00:47,  1.19it/s]"
     ]
    },
    {
     "name": "stderr",
     "output_type": "stream",
     "text": [
      "\r\n",
      " 80%|███████████████████████████████████████████████████████████████████                 | 222/278 [02:48<00:50,  1.12it/s]"
     ]
    },
    {
     "name": "stderr",
     "output_type": "stream",
     "text": [
      "\r\n",
      " 80%|███████████████████████████████████████████████████████████████████▍                | 223/278 [02:49<00:49,  1.11it/s]"
     ]
    },
    {
     "name": "stderr",
     "output_type": "stream",
     "text": [
      "\r\n",
      " 81%|███████████████████████████████████████████████████████████████████▋                | 224/278 [02:50<00:47,  1.13it/s]"
     ]
    },
    {
     "name": "stderr",
     "output_type": "stream",
     "text": [
      "\r\n",
      " 81%|███████████████████████████████████████████████████████████████████▉                | 225/278 [02:52<00:54,  1.03s/it]"
     ]
    },
    {
     "name": "stderr",
     "output_type": "stream",
     "text": [
      "\r\n",
      " 81%|████████████████████████████████████████████████████████████████████▎               | 226/278 [02:52<00:50,  1.03it/s]"
     ]
    },
    {
     "name": "stderr",
     "output_type": "stream",
     "text": [
      "\r\n",
      " 82%|████████████████████████████████████████████████████████████████████▌               | 227/278 [02:54<00:55,  1.09s/it]"
     ]
    },
    {
     "name": "stderr",
     "output_type": "stream",
     "text": [
      "\r\n",
      " 82%|████████████████████████████████████████████████████████████████████▉               | 228/278 [02:55<00:51,  1.04s/it]"
     ]
    },
    {
     "name": "stderr",
     "output_type": "stream",
     "text": [
      "\r\n",
      " 82%|█████████████████████████████████████████████████████████████████████▏              | 229/278 [02:56<00:47,  1.02it/s]"
     ]
    },
    {
     "name": "stderr",
     "output_type": "stream",
     "text": [
      "\r\n",
      " 83%|█████████████████████████████████████████████████████████████████████▍              | 230/278 [02:56<00:45,  1.04it/s]"
     ]
    },
    {
     "name": "stderr",
     "output_type": "stream",
     "text": [
      "\r\n",
      " 83%|█████████████████████████████████████████████████████████████████████▊              | 231/278 [02:57<00:39,  1.18it/s]"
     ]
    },
    {
     "name": "stderr",
     "output_type": "stream",
     "text": [
      "\r\n",
      " 83%|██████████████████████████████████████████████████████████████████████              | 232/278 [02:58<00:35,  1.29it/s]"
     ]
    },
    {
     "name": "stderr",
     "output_type": "stream",
     "text": [
      "\r\n",
      " 84%|██████████████████████████████████████████████████████████████████████▍             | 233/278 [02:59<00:39,  1.13it/s]"
     ]
    },
    {
     "name": "stderr",
     "output_type": "stream",
     "text": [
      "\r\n",
      " 84%|██████████████████████████████████████████████████████████████████████▋             | 234/278 [03:00<00:38,  1.15it/s]"
     ]
    },
    {
     "name": "stderr",
     "output_type": "stream",
     "text": [
      "\r\n",
      " 85%|███████████████████████████████████████████████████████████████████████             | 235/278 [03:01<00:37,  1.13it/s]"
     ]
    },
    {
     "name": "stderr",
     "output_type": "stream",
     "text": [
      "\r\n",
      " 85%|███████████████████████████████████████████████████████████████████████▎            | 236/278 [03:01<00:37,  1.12it/s]"
     ]
    },
    {
     "name": "stderr",
     "output_type": "stream",
     "text": [
      "\r\n",
      " 85%|███████████████████████████████████████████████████████████████████████▌            | 237/278 [03:02<00:32,  1.25it/s]"
     ]
    },
    {
     "name": "stderr",
     "output_type": "stream",
     "text": [
      "\r\n",
      " 86%|███████████████████████████████████████████████████████████████████████▉            | 238/278 [03:03<00:34,  1.15it/s]"
     ]
    },
    {
     "name": "stderr",
     "output_type": "stream",
     "text": [
      "\r\n",
      " 86%|████████████████████████████████████████████████████████████████████████▏           | 239/278 [03:04<00:30,  1.26it/s]"
     ]
    },
    {
     "name": "stderr",
     "output_type": "stream",
     "text": [
      "\r\n",
      " 86%|████████████████████████████████████████████████████████████████████████▌           | 240/278 [03:04<00:27,  1.36it/s]"
     ]
    },
    {
     "name": "stderr",
     "output_type": "stream",
     "text": [
      "\r\n",
      " 87%|████████████████████████████████████████████████████████████████████████▊           | 241/278 [03:05<00:25,  1.44it/s]"
     ]
    },
    {
     "name": "stderr",
     "output_type": "stream",
     "text": [
      "\r\n",
      " 87%|█████████████████████████████████████████████████████████████████████████           | 242/278 [03:06<00:24,  1.47it/s]"
     ]
    },
    {
     "name": "stderr",
     "output_type": "stream",
     "text": [
      "\r\n",
      " 87%|█████████████████████████████████████████████████████████████████████████▍          | 243/278 [03:06<00:26,  1.34it/s]"
     ]
    },
    {
     "name": "stderr",
     "output_type": "stream",
     "text": [
      "\r\n",
      " 88%|█████████████████████████████████████████████████████████████████████████▋          | 244/278 [03:07<00:23,  1.42it/s]"
     ]
    },
    {
     "name": "stderr",
     "output_type": "stream",
     "text": [
      "\r\n",
      " 88%|██████████████████████████████████████████████████████████████████████████          | 245/278 [03:08<00:22,  1.50it/s]"
     ]
    },
    {
     "name": "stderr",
     "output_type": "stream",
     "text": [
      "\r\n",
      " 88%|██████████████████████████████████████████████████████████████████████████▎         | 246/278 [03:08<00:22,  1.43it/s]"
     ]
    },
    {
     "name": "stderr",
     "output_type": "stream",
     "text": [
      "\r\n",
      " 89%|██████████████████████████████████████████████████████████████████████████▋         | 247/278 [03:09<00:20,  1.50it/s]"
     ]
    },
    {
     "name": "stderr",
     "output_type": "stream",
     "text": [
      "\r\n",
      " 89%|██████████████████████████████████████████████████████████████████████████▉         | 248/278 [03:10<00:20,  1.43it/s]"
     ]
    },
    {
     "name": "stderr",
     "output_type": "stream",
     "text": [
      "\r\n",
      " 90%|███████████████████████████████████████████████████████████████████████████▏        | 249/278 [03:10<00:19,  1.45it/s]"
     ]
    },
    {
     "name": "stderr",
     "output_type": "stream",
     "text": [
      "\r\n",
      " 90%|███████████████████████████████████████████████████████████████████████████▌        | 250/278 [03:11<00:18,  1.51it/s]"
     ]
    },
    {
     "name": "stderr",
     "output_type": "stream",
     "text": [
      "\r\n",
      " 90%|███████████████████████████████████████████████████████████████████████████▊        | 251/278 [03:12<00:18,  1.46it/s]"
     ]
    },
    {
     "name": "stderr",
     "output_type": "stream",
     "text": [
      "\r\n",
      " 91%|████████████████████████████████████████████████████████████████████████████▏       | 252/278 [03:12<00:17,  1.52it/s]"
     ]
    },
    {
     "name": "stderr",
     "output_type": "stream",
     "text": [
      "\r\n",
      " 91%|████████████████████████████████████████████████████████████████████████████▍       | 253/278 [03:13<00:15,  1.57it/s]"
     ]
    },
    {
     "name": "stderr",
     "output_type": "stream",
     "text": [
      "\r\n",
      " 91%|████████████████████████████████████████████████████████████████████████████▋       | 254/278 [03:14<00:14,  1.60it/s]"
     ]
    },
    {
     "name": "stderr",
     "output_type": "stream",
     "text": [
      "\r\n",
      " 92%|█████████████████████████████████████████████████████████████████████████████       | 255/278 [03:15<00:18,  1.27it/s]"
     ]
    },
    {
     "name": "stderr",
     "output_type": "stream",
     "text": [
      "\r\n",
      " 92%|█████████████████████████████████████████████████████████████████████████████▎      | 256/278 [03:15<00:16,  1.37it/s]"
     ]
    },
    {
     "name": "stderr",
     "output_type": "stream",
     "text": [
      "\r\n",
      " 92%|█████████████████████████████████████████████████████████████████████████████▋      | 257/278 [03:16<00:14,  1.45it/s]"
     ]
    },
    {
     "name": "stderr",
     "output_type": "stream",
     "text": [
      "\r\n",
      " 93%|█████████████████████████████████████████████████████████████████████████████▉      | 258/278 [03:17<00:13,  1.48it/s]"
     ]
    },
    {
     "name": "stderr",
     "output_type": "stream",
     "text": [
      "\r\n",
      " 93%|██████████████████████████████████████████████████████████████████████████████▎     | 259/278 [03:17<00:12,  1.54it/s]"
     ]
    },
    {
     "name": "stderr",
     "output_type": "stream",
     "text": [
      "\r\n",
      " 94%|██████████████████████████████████████████████████████████████████████████████▌     | 260/278 [03:18<00:11,  1.58it/s]"
     ]
    },
    {
     "name": "stderr",
     "output_type": "stream",
     "text": [
      "\r\n",
      " 94%|██████████████████████████████████████████████████████████████████████████████▊     | 261/278 [03:18<00:10,  1.57it/s]"
     ]
    },
    {
     "name": "stderr",
     "output_type": "stream",
     "text": [
      "\r\n",
      " 94%|███████████████████████████████████████████████████████████████████████████████▏    | 262/278 [03:19<00:09,  1.62it/s]"
     ]
    },
    {
     "name": "stderr",
     "output_type": "stream",
     "text": [
      "\r\n",
      " 95%|███████████████████████████████████████████████████████████████████████████████▍    | 263/278 [03:20<00:09,  1.64it/s]"
     ]
    },
    {
     "name": "stderr",
     "output_type": "stream",
     "text": [
      "\r\n",
      " 95%|███████████████████████████████████████████████████████████████████████████████▊    | 264/278 [03:21<00:11,  1.22it/s]"
     ]
    },
    {
     "name": "stderr",
     "output_type": "stream",
     "text": [
      "\r\n",
      " 95%|████████████████████████████████████████████████████████████████████████████████    | 265/278 [03:21<00:09,  1.33it/s]"
     ]
    },
    {
     "name": "stderr",
     "output_type": "stream",
     "text": [
      "\r\n",
      " 96%|████████████████████████████████████████████████████████████████████████████████▎   | 266/278 [03:22<00:08,  1.42it/s]"
     ]
    },
    {
     "name": "stderr",
     "output_type": "stream",
     "text": [
      "\r\n",
      " 96%|████████████████████████████████████████████████████████████████████████████████▋   | 267/278 [03:23<00:08,  1.36it/s]"
     ]
    },
    {
     "name": "stderr",
     "output_type": "stream",
     "text": [
      "\r\n",
      " 96%|████████████████████████████████████████████████████████████████████████████████▉   | 268/278 [03:23<00:06,  1.44it/s]"
     ]
    },
    {
     "name": "stderr",
     "output_type": "stream",
     "text": [
      "\r\n",
      " 97%|█████████████████████████████████████████████████████████████████████████████████▎  | 269/278 [03:24<00:06,  1.29it/s]"
     ]
    },
    {
     "name": "stderr",
     "output_type": "stream",
     "text": [
      "\r\n",
      " 97%|█████████████████████████████████████████████████████████████████████████████████▌  | 270/278 [03:25<00:05,  1.38it/s]"
     ]
    },
    {
     "name": "stderr",
     "output_type": "stream",
     "text": [
      "\r\n",
      " 97%|█████████████████████████████████████████████████████████████████████████████████▉  | 271/278 [03:26<00:05,  1.31it/s]"
     ]
    },
    {
     "name": "stderr",
     "output_type": "stream",
     "text": [
      "\r\n",
      " 98%|██████████████████████████████████████████████████████████████████████████████████▏ | 272/278 [03:26<00:04,  1.38it/s]"
     ]
    },
    {
     "name": "stderr",
     "output_type": "stream",
     "text": [
      "\r\n",
      " 98%|██████████████████████████████████████████████████████████████████████████████████▍ | 273/278 [03:27<00:03,  1.46it/s]"
     ]
    },
    {
     "name": "stderr",
     "output_type": "stream",
     "text": [
      "\r\n",
      " 99%|██████████████████████████████████████████████████████████████████████████████████▊ | 274/278 [03:28<00:02,  1.47it/s]"
     ]
    },
    {
     "name": "stderr",
     "output_type": "stream",
     "text": [
      "\r\n",
      " 99%|███████████████████████████████████████████████████████████████████████████████████ | 275/278 [03:28<00:01,  1.53it/s]"
     ]
    },
    {
     "name": "stderr",
     "output_type": "stream",
     "text": [
      "\r\n",
      " 99%|███████████████████████████████████████████████████████████████████████████████████▍| 276/278 [03:29<00:01,  1.58it/s]"
     ]
    },
    {
     "name": "stderr",
     "output_type": "stream",
     "text": [
      "\r\n",
      "100%|███████████████████████████████████████████████████████████████████████████████████▋| 277/278 [03:30<00:00,  1.09it/s]"
     ]
    },
    {
     "name": "stderr",
     "output_type": "stream",
     "text": [
      "\r\n",
      "100%|████████████████████████████████████████████████████████████████████████████████████| 278/278 [03:31<00:00,  1.11it/s]"
     ]
    },
    {
     "name": "stderr",
     "output_type": "stream",
     "text": [
      "\r\n",
      "100%|████████████████████████████████████████████████████████████████████████████████████| 278/278 [03:31<00:00,  1.31it/s]"
     ]
    },
    {
     "name": "stderr",
     "output_type": "stream",
     "text": [
      "\n"
     ]
    }
   ],
   "source": [
    "from unsloth.chat_templates import get_chat_template\n",
    "from tqdm import tqdm\n",
    "import re\n",
    "\n",
    "tokenizer = get_chat_template(\n",
    "    tokenizer,\n",
    "    chat_template = \"llama\",\n",
    ")\n",
    "FastLanguageModel.for_inference(model) \n",
    "\n",
    "pattern = r\"\\[/INST](.*?)</s>\"\n",
    "\n",
    "y_pred = []\n",
    "\n",
    "for messages in tqdm(test_dataset['conversations']):\n",
    "    inputs = tokenizer.apply_chat_template(\n",
    "        messages,\n",
    "        tokenize = True,\n",
    "        add_generation_prompt = True, \n",
    "        return_tensors = \"pt\",\n",
    "    ).to(\"cuda\")\n",
    "\n",
    "    outputs = model.generate(input_ids = inputs, max_new_tokens = 64, use_cache = True,\n",
    "                             temperature = 0.6, min_p = 0.1)\n",
    "    decoded_output = tokenizer.batch_decode(outputs)[0]\n",
    "    \n",
    "    match = re.search(pattern, decoded_output, re.DOTALL)\n",
    "    extracted_label = match.group(1).strip() if match else \"Unknown\"\n",
    "\n",
    "    y_pred.append(extracted_label)"
   ]
  },
  {
   "cell_type": "code",
   "execution_count": 18,
   "id": "f7f0550b",
   "metadata": {
    "execution": {
     "iopub.execute_input": "2025-05-13T11:15:36.005686Z",
     "iopub.status.busy": "2025-05-13T11:15:36.005421Z",
     "iopub.status.idle": "2025-05-13T11:15:36.640017Z",
     "shell.execute_reply": "2025-05-13T11:15:36.638968Z"
    }
   },
   "outputs": [
    {
     "name": "stdout",
     "output_type": "stream",
     "text": [
      "              precision    recall  f1-score   support\n",
      "\n",
      "           0       0.88      0.86      0.87       148\n",
      "           1       0.85      0.87      0.86       130\n",
      "\n",
      "    accuracy                           0.87       278\n",
      "   macro avg       0.87      0.87      0.87       278\n",
      "weighted avg       0.87      0.87      0.87       278\n",
      "\n"
     ]
    },
    {
     "data": {
      "image/png": "[encoded data removed]",
      "text/plain": [
       "<Figure size 800x600 with 2 Axes>"
      ]
     },
     "metadata": {},
     "output_type": "display_data"
    }
   ],
   "source": [
    "import matplotlib.pyplot as plt\n",
    "import seaborn as sns\n",
    "from sklearn.metrics import confusion_matrix, classification_report\n",
    "from sklearn.preprocessing import LabelEncoder\n",
    "\n",
    "y_true = test_dataset['label']\n",
    "\n",
    "# Assuming y_true and y_pred_new are already defined\n",
    "# Encode labels\n",
    "label_encoder = LabelEncoder()\n",
    "y_true_encoded = label_encoder.fit_transform(y_true)\n",
    "y_pred_new_encoded = label_encoder.transform(y_pred)\n",
    "\n",
    "# Print classification report\n",
    "print(classification_report(y_true_encoded, y_pred_new_encoded))\n",
    "\n",
    "# Generate confusion matrix\n",
    "cm = confusion_matrix(y_true_encoded, y_pred_new_encoded)\n",
    "\n",
    "# Create a heatmap for the confusion matrix\n",
    "plt.figure(figsize=(8, 6))\n",
    "sns.heatmap(cm, annot=True, fmt=\"d\", cmap=\"Blues\", xticklabels=label_encoder.classes_, yticklabels=label_encoder.classes_)\n",
    "plt.xlabel('Predicted')\n",
    "plt.ylabel('True')\n",
    "plt.title('Confusion Matrix')\n",
    "plt.show()"
   ]
  },
  {
   "cell_type": "code",
   "execution_count": null,
   "id": "238ce785",
   "metadata": {
    "execution": {
     "iopub.execute_input": "2025-05-13T11:15:36.643444Z",
     "iopub.status.busy": "2025-05-13T11:15:36.643029Z",
     "iopub.status.idle": "2025-05-13T11:15:39.896088Z",
     "shell.execute_reply": "2025-05-13T11:15:39.895210Z"
    }
   },
   "outputs": [],
   "source": [
    "model.save_pretrained(\"codellama_detector\")\n",
    "tokenizer.save_pretrained(\"codellama_detector\")"
   ]
  }
 ],
 "metadata": {
  "kernelspec": {
   "display_name": "Python 3 (ipykernel)",
   "language": "python",
   "name": "python3"
  },
  "language_info": {
   "codemirror_mode": {
    "name": "ipython",
    "version": 3
   },
   "file_extension": ".py",
   "mimetype": "text/x-python",
   "name": "python",
   "nbconvert_exporter": "python",
   "pygments_lexer": "ipython3",
   "version": "3.10.12"
  }
 },
 "nbformat": 4,
 "nbformat_minor": 5
}
