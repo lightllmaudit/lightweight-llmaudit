{
 "cells": [
  {
   "cell_type": "code",
   "execution_count": 4,
   "id": "3e7da50d",
   "metadata": {
    "execution": {
     "iopub.execute_input": "2025-06-11T07:47:26.807798Z",
     "iopub.status.busy": "2025-06-11T07:47:26.807501Z",
     "iopub.status.idle": "2025-06-11T07:48:54.441541Z",
     "shell.execute_reply": "2025-06-11T07:48:54.440437Z"
    }
   },
   "outputs": [
    {
     "name": "stderr",
     "output_type": "stream",
     "text": [
      "/usr/local/lib/python3.10/dist-packages/torch/utils/_pytree.py:185: FutureWarning: optree is installed but the version is too old to support PyTorch Dynamo in C++ pytree. C++ pytree support is disabled. Please consider upgrading optree using `python3 -m pip install --upgrade 'optree>=0.13.0'`.\n",
      "  warnings.warn(\n"
     ]
    },
    {
     "name": "stdout",
     "output_type": "stream",
     "text": [
      "🦥 Unsloth: Will patch your computer to enable 2x faster free finetuning.\n"
     ]
    },
    {
     "name": "stderr",
     "output_type": "stream",
     "text": [
      "/usr/local/lib/python3.10/dist-packages/tqdm/auto.py:21: TqdmWarning: IProgress not found. Please update jupyter and ipywidgets. See https://ipywidgets.readthedocs.io/en/stable/user_install.html\n",
      "  from .autonotebook import tqdm as notebook_tqdm\n"
     ]
    },
    {
     "name": "stdout",
     "output_type": "stream",
     "text": [
      "🦥 Unsloth Zoo will now patch everything to make training faster!\n"
     ]
    },
    {
     "name": "stderr",
     "output_type": "stream",
     "text": [
      "/usr/local/lib/python3.10/dist-packages/torch/utils/_pytree.py:185: FutureWarning: optree is installed but the version is too old to support PyTorch Dynamo in C++ pytree. C++ pytree support is disabled. Please consider upgrading optree using `python3 -m pip install --upgrade 'optree>=0.13.0'`.\n",
      "  warnings.warn(\n"
     ]
    },
    {
     "name": "stdout",
     "output_type": "stream",
     "text": [
      "INFO 06-11 07:47:36 [importing.py:53] Triton module has been replaced with a placeholder.\n"
     ]
    },
    {
     "name": "stdout",
     "output_type": "stream",
     "text": [
      "INFO 06-11 07:47:36 [__init__.py:239] Automatically detected platform cuda.\n"
     ]
    },
    {
     "name": "stderr",
     "output_type": "stream",
     "text": [
      "2025-06-11 07:47:38,731\tINFO util.py:154 -- Missing packages: ['ipywidgets']. Run `pip install -U ipywidgets`, then restart the notebook server for rich notebook output.\n"
     ]
    },
    {
     "name": "stdout",
     "output_type": "stream",
     "text": [
      "==((====))==  Unsloth 2025.5.3: Fast Llama patching. Transformers: 4.51.3. vLLM: 0.8.5.\n",
      "   \\\\   /|    Tesla V100-SXM2-32GB. Num GPUs = 1. Max memory: 31.749 GB. Platform: Linux.\n",
      "O^O/ \\_/ \\    Torch: 2.6.0+cu124. CUDA: 7.0. CUDA Toolkit: 12.4. Triton: 3.2.0\n",
      "\\        /    Bfloat16 = FALSE. FA [Xformers = 0.0.29.post2. FA2 = False]\n",
      " \"-____-\"     Free license: http://github.com/unslothai/unsloth\n",
      "Unsloth: Fast downloading is enabled - ignore downloading bars which are red colored!\n"
     ]
    },
    {
     "name": "stderr",
     "output_type": "stream",
     "text": [
      "\r\n",
      "Loading checkpoint shards:   0%|                                                                     | 0/3 [00:00<?, ?it/s]"
     ]
    },
    {
     "name": "stderr",
     "output_type": "stream",
     "text": [
      "\r\n",
      "Loading checkpoint shards:  33%|████████████████████▎                                        | 1/3 [00:22<00:44, 22.12s/it]"
     ]
    },
    {
     "name": "stderr",
     "output_type": "stream",
     "text": [
      "\r\n",
      "Loading checkpoint shards:  67%|████████████████████████████████████████▋                    | 2/3 [00:50<00:26, 26.01s/it]"
     ]
    },
    {
     "name": "stderr",
     "output_type": "stream",
     "text": [
      "\r\n",
      "Loading checkpoint shards: 100%|█████████████████████████████████████████████████████████████| 3/3 [01:02<00:00, 19.38s/it]"
     ]
    },
    {
     "name": "stderr",
     "output_type": "stream",
     "text": [
      "\r\n",
      "Loading checkpoint shards: 100%|█████████████████████████████████████████████████████████████| 3/3 [01:02<00:00, 20.78s/it]"
     ]
    },
    {
     "name": "stderr",
     "output_type": "stream",
     "text": [
      "\n"
     ]
    },
    {
     "name": "stdout",
     "output_type": "stream",
     "text": [
      "codellama/CodeLlama-13b-Instruct-hf does not have a padding token! Will use pad_token = <unk>.\n"
     ]
    }
   ],
   "source": [
    "from unsloth import FastLanguageModel\n",
    "import torch\n",
    "max_seq_length = 16384 # Choose any! We auto support RoPE Scaling internally!\n",
    "dtype = None # None for auto detection. Float16 for Tesla T4, V100, Bfloat16 for Ampere+\n",
    "load_in_4bit = True # Use 4bit quantization to reduce memory usage. Can be False.\n",
    "\n",
    "model, tokenizer = FastLanguageModel.from_pretrained(\n",
    "    model_name = \"codellama/CodeLlama-13b-Instruct-hf\",\n",
    "    max_seq_length = max_seq_length,\n",
    "    dtype = dtype,\n",
    "    load_in_4bit = load_in_4bit,\n",
    ")"
   ]
  },
  {
   "cell_type": "code",
   "execution_count": 5,
   "id": "310a1e4a",
   "metadata": {
    "execution": {
     "iopub.execute_input": "2025-06-11T07:48:54.445643Z",
     "iopub.status.busy": "2025-06-11T07:48:54.445048Z",
     "iopub.status.idle": "2025-06-11T07:49:00.028704Z",
     "shell.execute_reply": "2025-06-11T07:49:00.027633Z"
    }
   },
   "outputs": [
    {
     "name": "stderr",
     "output_type": "stream",
     "text": [
      "Unsloth 2025.5.3 patched 40 layers with 40 QKV layers, 40 O layers and 40 MLP layers.\n"
     ]
    }
   ],
   "source": [
    "lora_rank = 16\n",
    "\n",
    "model = FastLanguageModel.get_peft_model(\n",
    "    model,\n",
    "    r = lora_rank, # Choose any number > 0 ! Suggested 8, 16, 32, 64, 128\n",
    "    target_modules = [\"q_proj\", \"k_proj\", \"v_proj\", \"o_proj\",\n",
    "                      \"gate_proj\", \"up_proj\", \"down_proj\",],\n",
    "    lora_alpha = lora_rank,\n",
    "    lora_dropout = 0, # Supports any, but = 0 is optimized\n",
    "    bias = \"none\",    # Supports any, but = \"none\" is optimized\n",
    "    # [NEW] \"unsloth\" uses 30% less VRAM, fits 2x larger batch sizes!\n",
    "    use_gradient_checkpointing = \"unsloth\", # True or \"unsloth\" for very long context\n",
    "    random_state = 42,\n",
    "    use_rslora = False,  # We support rank stabilized LoRA\n",
    "    loftq_config = None, # And LoftQ\n",
    ")"
   ]
  },
  {
   "cell_type": "code",
   "execution_count": null,
   "id": "d8032f77",
   "metadata": {
    "execution": {
     "iopub.execute_input": "2025-06-11T07:49:00.032542Z",
     "iopub.status.busy": "2025-06-11T07:49:00.032243Z",
     "iopub.status.idle": "2025-06-11T07:49:00.842881Z",
     "shell.execute_reply": "2025-06-11T07:49:00.841982Z"
    }
   },
   "outputs": [],
   "source": [
    "from datasets import load_dataset\n",
    "\n",
    "# Define the paths to your dataset files\n",
    "data_files = {\n",
    "    'train': 'vuln_data_train.csv',\n",
    "    'val': 'vuln_data_val.csv',\n",
    "    'test': 'vuln_data_test.csv'\n",
    "}\n",
    "\n",
    "# Load the dataset\n",
    "dataset = load_dataset('csv', data_files=data_files)"
   ]
  },
  {
   "cell_type": "code",
   "execution_count": null,
   "id": "c2cdeb94",
   "metadata": {
    "execution": {
     "iopub.execute_input": "2025-06-11T07:49:00.846710Z",
     "iopub.status.busy": "2025-06-11T07:49:00.846404Z",
     "iopub.status.idle": "2025-06-11T07:49:00.900567Z",
     "shell.execute_reply": "2025-06-11T07:49:00.899624Z"
    }
   },
   "outputs": [],
   "source": [
    "import random\n",
    "from datasets import DatasetDict, concatenate_datasets\n",
    "\n",
    "random.seed(42)\n",
    "\n",
    "SYSTEM_PROMPT = [\n",
    "    \"\"\"You are the smartest AI solidity smart contract security auditor in the world\"\"\",\n",
    "]\n",
    "\n",
    "PROMPTS = [\n",
    "    \"\"\"The given Solidity function is vulnerable and there was an explanation about the vulnerability. Give your patch recommendation based on that vulnerability.\n",
    "    \n",
    "    This is the vulnerable functions:\n",
    "    ```solidity\n",
    "    {code}\n",
    "    ```\n",
    "    \n",
    "This is the vulnerability explanation: \n",
    "{explanation}\n",
    "\n",
    "Recommendation:\n",
    "\"\"\",\n",
    "]\n",
    "\n",
    "\n",
    "def make_conversational(examples, system_prompt, prompt):\n",
    "    code = examples['vuln_code']\n",
    "    desc = examples['vuln_explanation']\n",
    "    recom = examples['vuln_recommendation']\n",
    "    selected_system_prompt = system_prompt\n",
    "    selected_user_prompt = prompt\n",
    "    conversation = [{\"role\": \"system\", \"content\": selected_system_prompt}, \n",
    "                    {\"role\": \"user\", \"content\": selected_user_prompt.format(code=code, explanation=desc)},\n",
    "                    {\"role\": \"assistant\", \"content\": recom}]\n",
    "    \n",
    "    return { \"conversations\" : conversation}\n",
    "\n",
    "# List of splits you want to process\n",
    "splits = ['train', 'val', 'test']\n",
    "\n",
    "# Dictionary to store concatenated datasets for each split\n",
    "concatenated_datasets = {split: [] for split in splits}\n",
    "\n",
    "system_prompt = SYSTEM_PROMPT[0]\n",
    "prompt = PROMPTS[0]\n",
    "\n",
    "# Create a new dataset using map\n",
    "new_dataset = dataset.map(lambda ex: make_conversational(ex, system_prompt, prompt))\n",
    "\n",
    "# Append the correct split of the new dataset to the corresponding list\n",
    "for split in splits:\n",
    "    concatenated_datasets[split].append(new_dataset[split])\n",
    "\n",
    "# Now concatenate all datasets for each split\n",
    "dataset = DatasetDict({\n",
    "    split: concatenate_datasets(concatenated_datasets[split]).shuffle(seed=42) for split in splits\n",
    "})\n",
    "\n",
    "dataset = dataset.remove_columns([\"vuln_title\", \"severity\"])"
   ]
  },
  {
   "cell_type": "code",
   "execution_count": 8,
   "id": "0f4d965d",
   "metadata": {
    "execution": {
     "iopub.execute_input": "2025-06-11T07:49:00.904463Z",
     "iopub.status.busy": "2025-06-11T07:49:00.904117Z",
     "iopub.status.idle": "2025-06-11T07:49:01.057793Z",
     "shell.execute_reply": "2025-06-11T07:49:01.056824Z"
    }
   },
   "outputs": [],
   "source": [
    "from unsloth.chat_templates import get_chat_template\n",
    "\n",
    "tokenizer = get_chat_template(\n",
    "    tokenizer,\n",
    "    chat_template = \"llama\",\n",
    ")\n",
    "\n",
    "def formatting_prompts_func(examples):\n",
    "    convos = examples[\"conversations\"]\n",
    "    texts = [tokenizer.apply_chat_template(convo, tokenize = False, add_generation_prompt = False) for convo in convos]\n",
    "    return { \"text\" : texts, }\n",
    "\n",
    "dataset = dataset.map(formatting_prompts_func, batched = True,)"
   ]
  },
  {
   "cell_type": "code",
   "execution_count": 9,
   "id": "a9296bdb",
   "metadata": {
    "execution": {
     "iopub.execute_input": "2025-06-11T07:49:01.061586Z",
     "iopub.status.busy": "2025-06-11T07:49:01.061307Z",
     "iopub.status.idle": "2025-06-11T07:49:01.072258Z",
     "shell.execute_reply": "2025-06-11T07:49:01.071453Z"
    }
   },
   "outputs": [
    {
     "data": {
      "text/plain": [
       "[{'content': 'You are the smartest AI solidity smart contract security auditor in the world',\n",
       "  'role': 'system'},\n",
       " {'content': 'The given Solidity function is vulnerable and there was an explanation about the vulnerability. Give your patch recommendation based on that vulnerability.\\n    \\n    This is the vulnerable functions:\\n    ```solidity\\n    function less(ERC4626 vault, uint256 feiAmount) external nonReentrant requiresLocalOrMasterAuth {\\n        // Update the total Fei deposited into the Vault proportionately.\\n        getTotalFeiBoostedForVault[vault] -= feiAmount;\\n\\n        unchecked {\\n            // Decrease the boost total proportionately.\\n            // Cannot underflow because the total cannot be less than a single Vault.\\n            totalFeiBoosted -= feiAmount;\\n        }\\n\\n        emit VaultLessened(msg.sender, vault, feiAmount);\\n\\n        // Withdraw the specified amount of Fei from the Vault.\\n        vault.withdraw(feiAmount, address(this), address(this));\\n\\n        // Get out current amount of Fei debt in the Turbo Fuse Pool.\\n        uint256 feiDebt = feiTurboCToken.borrowBalanceCurrent(address(this));\\n\\n        // If our debt balance decreased, repay the minimum.\\n        // The surplus Fei will accrue as fees and can be sweeped.\\n        if (feiAmount > feiDebt) feiAmount = feiDebt;\\n\\n        // Repay Fei debt in the Turbo Fuse Pool, unless we would repay nothing.\\n        if (feiAmount != 0) require(feiTurboCToken.repayBorrow(feiAmount) == 0, \"REPAY_FAILED\");\\n\\n        // Call the Master to allow it to update its accounting.\\n        master.onSafeLess(asset, vault, feiAmount);\\n    }\\n    ```\\n    \\nThis is the vulnerability explanation: \\nIn the current implementation, when calling `less()` to withdraw Fei from the Vault and use it to repay debt, if the amount of Fei is bigger than the debt balance, the `onSafeLess` hook will use `feiDebt` as `The amount of Fei withdrawn from the Vault`.\\n\\nAs a result, `getTotalBoostedForVault[vault]` in TurboMaster will be larger than the actual total amount of Fei being used to boost the Vault.\\n\\nSince the `Turbo Gibber` may impound some of the Safe\\'s collateral and mint a certain amount of Fei and repay the Safe\\'s Fei debt with the newly minted Fei. In that case, the Safe\\'s debt balance can be less than the amount of Fei in Vault. Which constitutes the precondition for the `less()` call to case the distortion of `getTotalBoostedForVault[vault]`.\\n\\n### Proof of Concept\\n\\nGiven:\\n\\n*   1 WBTC = 100,000\\n*   `collateralFactor` of WBTC = 0.6\\n*   `getBoostCapForCollateral[WBTC]` = 300,000\\n*   `getBoostCapForVault[vault0]` = 300,000\\n\\n1.  Alice create Safe and deposit `10 WBTC` and Boost `300,000 Fei` to `vault0`\\n\\n*   Safe\\'s debt = 300,000\\n*   Safe\\'s Fei in vault = 300,000\\n\\nOn master:\\n\\n*   getTotalBoostedForVault[vault0] = 300,000\\n*   getTotalBoostedAgainstCollateral[WBTC] = 300,000\\n\\nOn safe:\\n\\n*   getTotalFeiBoostedForVault[vault0] = 300,000\\n*   totalFeiBoosted = 300,000\\n\\n2.  WBTC price drop to 50,000, `Turbo Gibber` impound `2 WBTC` and mint `100,000 Fei` to repay debt for Alice\\'s Safe.\\n\\n*   Safe\\'s debt = 200,000\\n*   Safe\\'s Fei in vault0 = 300,000\\n\\n3.  Alice call `less()` withdraw `300,000 Fei` from Vault and repay `200,000` debt, in the hook: `master.onSafeLess(WBTC, vault0, 200,000)`\\n\\n*   Safe\\'s debt = 0\\n*   Safe\\'s Fei in vault = 0\\n\\nOn master:\\n\\n*   getTotalBoostedForVault[vault0] = 100,000\\n*   getTotalBoostedAgainstCollateral[WBTC] = 100,000\\n\\nOn Safe:\\n\\n*   getTotalFeiBoostedForVault[vault0] = 0\\n*   totalFeiBoosted = 0\\n\\n4.  Alice try deposit `20 WBTC` and Boost `300,000 Fei` will fail due to `BOOSTER_REJECTED`.\\n\\nRecommendation:\\n',\n",
       "  'role': 'user'},\n",
       " {'content': 'Change to:\\n\\n```solidity\\nfunction less(ERC4626 vault, uint256 feiAmount) external nonReentrant requiresLocalOrMasterAuth {\\n    // Update the total Fei deposited into the Vault proportionately.\\n    getTotalFeiBoostedForVault[vault] -= feiAmount;\\n\\n    unchecked {\\n        // Decrease the boost total proportionately.\\n        // Cannot underflow because the total cannot be less than a single Vault.\\n        totalFeiBoosted -= feiAmount;\\n    }\\n\\n    emit VaultLessened(msg.sender, vault, feiAmount);\\n\\n    // Withdraw the specified amount of Fei from the Vault.\\n    vault.withdraw(feiAmount, address(this), address(this));\\n\\n    // Call the Master to allow it to update its accounting.\\n    master.onSafeLess(asset, vault, feiAmount);\\n\\n    // Get out current amount of Fei debt in the Turbo Fuse Pool.\\n    uint256 feiDebt = feiTurboCToken.borrowBalanceCurrent(address(this));\\n\\n    // If our debt balance decreased, repay the minimum.\\n    // The surplus Fei will accrue as fees and can be sweeped.\\n    if (feiAmount > feiDebt) feiAmount = feiDebt;\\n\\n    // Repay Fei debt in the Turbo Fuse Pool, unless we would repay nothing.\\n    if (feiAmount != 0) require(feiTurboCToken.repayBorrow(feiAmount) == 0, \"REPAY_FAILED\");\\n}\\n```',\n",
       "  'role': 'assistant'}]"
      ]
     },
     "execution_count": 9,
     "metadata": {},
     "output_type": "execute_result"
    }
   ],
   "source": [
    "dataset['train'][5][\"conversations\"]"
   ]
  },
  {
   "cell_type": "code",
   "execution_count": 10,
   "id": "3bae3486",
   "metadata": {
    "execution": {
     "iopub.execute_input": "2025-06-11T07:49:01.075344Z",
     "iopub.status.busy": "2025-06-11T07:49:01.075061Z",
     "iopub.status.idle": "2025-06-11T07:49:01.080353Z",
     "shell.execute_reply": "2025-06-11T07:49:01.079606Z"
    }
   },
   "outputs": [
    {
     "data": {
      "text/plain": [
       "'<s>[INST] <<SYS>>\\nYou are the smartest AI solidity smart contract security auditor in the world\\n<</SYS>>\\n\\nThe given Solidity function is vulnerable and there was an explanation about the vulnerability. Give your patch recommendation based on that vulnerability.\\n    \\n    This is the vulnerable functions:\\n    ```solidity\\n    function less(ERC4626 vault, uint256 feiAmount) external nonReentrant requiresLocalOrMasterAuth {\\n        // Update the total Fei deposited into the Vault proportionately.\\n        getTotalFeiBoostedForVault[vault] -= feiAmount;\\n\\n        unchecked {\\n            // Decrease the boost total proportionately.\\n            // Cannot underflow because the total cannot be less than a single Vault.\\n            totalFeiBoosted -= feiAmount;\\n        }\\n\\n        emit VaultLessened(msg.sender, vault, feiAmount);\\n\\n        // Withdraw the specified amount of Fei from the Vault.\\n        vault.withdraw(feiAmount, address(this), address(this));\\n\\n        // Get out current amount of Fei debt in the Turbo Fuse Pool.\\n        uint256 feiDebt = feiTurboCToken.borrowBalanceCurrent(address(this));\\n\\n        // If our debt balance decreased, repay the minimum.\\n        // The surplus Fei will accrue as fees and can be sweeped.\\n        if (feiAmount > feiDebt) feiAmount = feiDebt;\\n\\n        // Repay Fei debt in the Turbo Fuse Pool, unless we would repay nothing.\\n        if (feiAmount != 0) require(feiTurboCToken.repayBorrow(feiAmount) == 0, \"REPAY_FAILED\");\\n\\n        // Call the Master to allow it to update its accounting.\\n        master.onSafeLess(asset, vault, feiAmount);\\n    }\\n    ```\\n    \\nThis is the vulnerability explanation: \\nIn the current implementation, when calling `less()` to withdraw Fei from the Vault and use it to repay debt, if the amount of Fei is bigger than the debt balance, the `onSafeLess` hook will use `feiDebt` as `The amount of Fei withdrawn from the Vault`.\\n\\nAs a result, `getTotalBoostedForVault[vault]` in TurboMaster will be larger than the actual total amount of Fei being used to boost the Vault.\\n\\nSince the `Turbo Gibber` may impound some of the Safe\\'s collateral and mint a certain amount of Fei and repay the Safe\\'s Fei debt with the newly minted Fei. In that case, the Safe\\'s debt balance can be less than the amount of Fei in Vault. Which constitutes the precondition for the `less()` call to case the distortion of `getTotalBoostedForVault[vault]`.\\n\\n### Proof of Concept\\n\\nGiven:\\n\\n*   1 WBTC = 100,000\\n*   `collateralFactor` of WBTC = 0.6\\n*   `getBoostCapForCollateral[WBTC]` = 300,000\\n*   `getBoostCapForVault[vault0]` = 300,000\\n\\n1.  Alice create Safe and deposit `10 WBTC` and Boost `300,000 Fei` to `vault0`\\n\\n*   Safe\\'s debt = 300,000\\n*   Safe\\'s Fei in vault = 300,000\\n\\nOn master:\\n\\n*   getTotalBoostedForVault[vault0] = 300,000\\n*   getTotalBoostedAgainstCollateral[WBTC] = 300,000\\n\\nOn safe:\\n\\n*   getTotalFeiBoostedForVault[vault0] = 300,000\\n*   totalFeiBoosted = 300,000\\n\\n2.  WBTC price drop to 50,000, `Turbo Gibber` impound `2 WBTC` and mint `100,000 Fei` to repay debt for Alice\\'s Safe.\\n\\n*   Safe\\'s debt = 200,000\\n*   Safe\\'s Fei in vault0 = 300,000\\n\\n3.  Alice call `less()` withdraw `300,000 Fei` from Vault and repay `200,000` debt, in the hook: `master.onSafeLess(WBTC, vault0, 200,000)`\\n\\n*   Safe\\'s debt = 0\\n*   Safe\\'s Fei in vault = 0\\n\\nOn master:\\n\\n*   getTotalBoostedForVault[vault0] = 100,000\\n*   getTotalBoostedAgainstCollateral[WBTC] = 100,000\\n\\nOn Safe:\\n\\n*   getTotalFeiBoostedForVault[vault0] = 0\\n*   totalFeiBoosted = 0\\n\\n4.  Alice try deposit `20 WBTC` and Boost `300,000 Fei` will fail due to `BOOSTER_REJECTED`.\\n\\nRecommendation:\\n [/INST] Change to:\\n\\n```solidity\\nfunction less(ERC4626 vault, uint256 feiAmount) external nonReentrant requiresLocalOrMasterAuth {\\n    // Update the total Fei deposited into the Vault proportionately.\\n    getTotalFeiBoostedForVault[vault] -= feiAmount;\\n\\n    unchecked {\\n        // Decrease the boost total proportionately.\\n        // Cannot underflow because the total cannot be less than a single Vault.\\n        totalFeiBoosted -= feiAmount;\\n    }\\n\\n    emit VaultLessened(msg.sender, vault, feiAmount);\\n\\n    // Withdraw the specified amount of Fei from the Vault.\\n    vault.withdraw(feiAmount, address(this), address(this));\\n\\n    // Call the Master to allow it to update its accounting.\\n    master.onSafeLess(asset, vault, feiAmount);\\n\\n    // Get out current amount of Fei debt in the Turbo Fuse Pool.\\n    uint256 feiDebt = feiTurboCToken.borrowBalanceCurrent(address(this));\\n\\n    // If our debt balance decreased, repay the minimum.\\n    // The surplus Fei will accrue as fees and can be sweeped.\\n    if (feiAmount > feiDebt) feiAmount = feiDebt;\\n\\n    // Repay Fei debt in the Turbo Fuse Pool, unless we would repay nothing.\\n    if (feiAmount != 0) require(feiTurboCToken.repayBorrow(feiAmount) == 0, \"REPAY_FAILED\");\\n}\\n``` </s>'"
      ]
     },
     "execution_count": 10,
     "metadata": {},
     "output_type": "execute_result"
    }
   ],
   "source": [
    "dataset['train'][5][\"text\"]"
   ]
  },
  {
   "cell_type": "code",
   "execution_count": 11,
   "id": "8a397ca4",
   "metadata": {
    "execution": {
     "iopub.execute_input": "2025-06-11T07:49:01.083706Z",
     "iopub.status.busy": "2025-06-11T07:49:01.083416Z",
     "iopub.status.idle": "2025-06-11T07:49:01.156257Z",
     "shell.execute_reply": "2025-06-11T07:49:01.155399Z"
    }
   },
   "outputs": [
    {
     "name": "stdout",
     "output_type": "stream",
     "text": [
      "Train Max Length =  1548\n"
     ]
    }
   ],
   "source": [
    "tokenized = dataset['train'].map(\n",
    "    lambda x: {\"tokens\" : tokenizer.apply_chat_template(x[\"conversations\"], add_generation_prompt = True, tokenize = True)},\n",
    "    batched = True,\n",
    ")\n",
    "# print(tokenizer.decode(tokenized[0][\"tokens\"]))\n",
    "tokenized = tokenized.map(lambda x: {\"L\" : len(x[\"tokens\"])})\n",
    "\n",
    "import numpy as np\n",
    "maximum_length = int(np.quantile(tokenized[\"L\"], 0.9))\n",
    "print(\"Train Max Length = \", maximum_length)\n",
    "\n",
    "# Filter only samples smaller than 90% max length\n",
    "dataset['train'] = dataset['train'].select(np.where(np.array(tokenized[\"L\"]) <= maximum_length)[0])\n",
    "del tokenized"
   ]
  },
  {
   "cell_type": "code",
   "execution_count": 12,
   "id": "7fdbbd63",
   "metadata": {
    "execution": {
     "iopub.execute_input": "2025-06-11T07:49:01.159615Z",
     "iopub.status.busy": "2025-06-11T07:49:01.159291Z",
     "iopub.status.idle": "2025-06-11T07:49:01.225203Z",
     "shell.execute_reply": "2025-06-11T07:49:01.224382Z"
    }
   },
   "outputs": [
    {
     "name": "stdout",
     "output_type": "stream",
     "text": [
      "Val Max Length =  1676\n"
     ]
    }
   ],
   "source": [
    "tokenized = dataset['val'].map(\n",
    "    lambda x: {\"tokens\" : tokenizer.apply_chat_template(x[\"conversations\"], add_generation_prompt = True, tokenize = True)},\n",
    "    batched = True,\n",
    ")\n",
    "tokenized = tokenized.map(lambda x: {\"L\" : len(x[\"tokens\"])})\n",
    "\n",
    "import numpy as np\n",
    "maximum_length = int(np.quantile(tokenized[\"L\"], 0.9))\n",
    "print(\"Val Max Length = \", maximum_length)\n",
    "\n",
    "# Filter only samples smaller than 90% max length\n",
    "dataset['val'] = dataset['val'].select(np.where(np.array(tokenized[\"L\"]) <= maximum_length)[0])\n",
    "del tokenized"
   ]
  },
  {
   "cell_type": "code",
   "execution_count": null,
   "id": "38290189",
   "metadata": {
    "execution": {
     "iopub.execute_input": "2025-06-11T07:49:01.228335Z",
     "iopub.status.busy": "2025-06-11T07:49:01.228039Z",
     "iopub.status.idle": "2025-06-11T07:49:01.566977Z",
     "shell.execute_reply": "2025-06-11T07:49:01.565971Z"
    }
   },
   "outputs": [
    {
     "name": "stderr",
     "output_type": "stream",
     "text": [
      "Detected kernel version 4.15.0, which is below the recommended minimum of 5.5.0; this can cause the process to hang. It is recommended to upgrade the kernel to the minimum version or higher.\n"
     ]
    }
   ],
   "source": [
    "from trl import SFTTrainer\n",
    "from transformers import TrainingArguments, DataCollatorForSeq2Seq\n",
    "from unsloth import is_bfloat16_supported\n",
    "\n",
    "train_dataset = dataset['train']\n",
    "val_dataset = dataset['val']\n",
    "\n",
    "trainer = SFTTrainer(\n",
    "    model = model,\n",
    "    tokenizer = tokenizer,\n",
    "    train_dataset = train_dataset,\n",
    "    eval_dataset = val_dataset,\n",
    "    dataset_text_field = \"text\",\n",
    "    max_seq_length = max_seq_length,\n",
    "    data_collator = DataCollatorForSeq2Seq(tokenizer = tokenizer),\n",
    "    dataset_num_proc = 4,\n",
    "    packing = False, \n",
    "    args = TrainingArguments(\n",
    "        eval_strategy=\"steps\",\n",
    "        eval_steps=500,\n",
    "        per_device_train_batch_size = 1,\n",
    "        gradient_accumulation_steps = 1, \n",
    "        warmup_ratio = 0.1,\n",
    "        num_train_epochs = 5, \n",
    "        learning_rate = 2e-5,\n",
    "        fp16 = not is_bfloat16_supported(),\n",
    "        bf16 = is_bfloat16_supported(),\n",
    "        logging_steps = 1,\n",
    "        optim = \"adamw_8bit\", \n",
    "        weight_decay = 0.01,\n",
    "        lr_scheduler_type = \"cosine\",\n",
    "        seed = 3407,\n",
    "        load_best_model_at_end=True,\n",
    "        output_dir = \"outputs_vuln_exp_codellama\",\n",
    "        report_to = \"none\", \n",
    "    ),\n",
    ")"
   ]
  },
  {
   "cell_type": "code",
   "execution_count": 14,
   "id": "3275a622",
   "metadata": {
    "execution": {
     "iopub.execute_input": "2025-06-11T07:49:01.570276Z",
     "iopub.status.busy": "2025-06-11T07:49:01.569961Z",
     "iopub.status.idle": "2025-06-11T07:49:02.934583Z",
     "shell.execute_reply": "2025-06-11T07:49:02.933620Z"
    }
   },
   "outputs": [],
   "source": [
    "from unsloth.chat_templates import train_on_responses_only\n",
    "trainer = train_on_responses_only(\n",
    "    trainer,\n",
    "    instruction_part = \"<</SYS>>\\n\\n\",\n",
    "    response_part = \"[/INST]\",\n",
    ")"
   ]
  },
  {
   "cell_type": "code",
   "execution_count": 15,
   "id": "2775098d",
   "metadata": {
    "execution": {
     "iopub.execute_input": "2025-06-11T07:49:02.938317Z",
     "iopub.status.busy": "2025-06-11T07:49:02.938000Z",
     "iopub.status.idle": "2025-06-11T07:49:02.946396Z",
     "shell.execute_reply": "2025-06-11T07:49:02.945676Z"
    }
   },
   "outputs": [
    {
     "data": {
      "text/plain": [
       "\"<s><s> [INST] <<SYS>>\\nYou are the smartest AI solidity smart contract security auditor in the world\\n<</SYS>>\\n\\nThe given Solidity function is vulnerable and there was an explanation about the vulnerability. Give your patch recommendation based on that vulnerability.\\n    \\n    This is the vulnerable functions:\\n    ```solidity\\n    constructor(address gatewayImplementation, bytes memory params) {\\n        _setAddress(KEY_IMPLEMENTATION, gatewayImplementation);\\n\\n        (bool success, ) = gatewayImplementation.delegatecall(\\n            abi.encodeWithSelector(IAxelarGateway.setup.selector, params)\\n        );\\n\\n        if (!success) revert SetupFailed();\\n    }\\n    ```\\n    \\nThis is the vulnerability explanation: \\nAs written in the solidity documentation, the low-level functions call, delegatecall and staticcall return true as their first return value if the account called is non-existent, as part of the design of the EVM. Account existence must be checked prior to calling if needed.\\n\\nThe low-level functions `call` and `delegatecall` are used in some places in the code and it can be problematic. For example, in the `_callERC20Token` of the `AxelarGateway` contract there is a low level call in order to call the ERC20 functions, but if the given `tokenAddress` doesn't exist `success` will be equal to true and the function will return true and the code execution will be continued like the call was successful.\\n\\n```sol\\nfunction _callERC20Token(address tokenAddress, bytes memory callData) internal returns (bool) {\\n    (bool success, bytes memory returnData) = tokenAddress.call(callData);\\n    return success && (returnData.length == uint256(0) || abi.decode(returnData, (bool)));\\n}\\n```\\n\\nAnother place that this can happen is in `AxelarGatewayProxy`'s constructor\\n\\n```sol\\nconstructor(address gatewayImplementation, bytes memory params) {\\n    _setAddress(KEY_IMPLEMENTATION, gatewayImplementation);\\n\\n   (bool success, ) = gatewayImplementation.delegatecall(\\n       abi.encodeWithSelector(IAxelarGateway.setup.selector, params)\\n   );\\n\\n    if (!success) revert SetupFailed();\\n}\\n```\\n\\nIf the `gatewayImplementation` address doesn't exist, the delegate call will return true and the function won't revert.\\n\\nRecommendation:\\n [/INST] Check before any low-level call that the address actually exists, for example before the low level call in the callERC20 function you can check that the address is a contract by checking its code size. </s>\""
      ]
     },
     "execution_count": 15,
     "metadata": {},
     "output_type": "execute_result"
    }
   ],
   "source": [
    "tokenizer.decode(trainer.train_dataset[5][\"input_ids\"])"
   ]
  },
  {
   "cell_type": "code",
   "execution_count": 16,
   "id": "856aa8d8",
   "metadata": {
    "execution": {
     "iopub.execute_input": "2025-06-11T07:49:02.949655Z",
     "iopub.status.busy": "2025-06-11T07:49:02.949370Z",
     "iopub.status.idle": "2025-06-11T07:49:02.958601Z",
     "shell.execute_reply": "2025-06-11T07:49:02.957848Z"
    }
   },
   "outputs": [
    {
     "data": {
      "text/plain": [
       "'                                                                                                                                                                                                                                                                                                                                                                                                                                                                                                                                                                                                                                                                                                                                                                                                                                                                                                                                                                                                                                                                                                                                                                                                                                      Check before any low-level call that the address actually exists, for example before the low level call in the callERC20 function you can check that the address is a contract by checking its code size. </s>'"
      ]
     },
     "execution_count": 16,
     "metadata": {},
     "output_type": "execute_result"
    }
   ],
   "source": [
    "space = tokenizer(\" \", add_special_tokens = False).input_ids[0]\n",
    "tokenizer.decode([space if x == -100 else x for x in trainer.train_dataset[5][\"labels\"]])"
   ]
  },
  {
   "cell_type": "code",
   "execution_count": 17,
   "id": "c275ec8e",
   "metadata": {
    "execution": {
     "iopub.execute_input": "2025-06-11T07:49:02.961926Z",
     "iopub.status.busy": "2025-06-11T07:49:02.961612Z",
     "iopub.status.idle": "2025-06-11T07:49:02.971201Z",
     "shell.execute_reply": "2025-06-11T07:49:02.970339Z"
    }
   },
   "outputs": [
    {
     "data": {
      "text/plain": [
       "'<s><s> [INST] <<SYS>>\\nYou are the smartest AI solidity smart contract security auditor in the world\\n<</SYS>>\\n\\nThe given Solidity function is vulnerable and there was an explanation about the vulnerability. Give your patch recommendation based on that vulnerability.\\n    \\n    This is the vulnerable functions:\\n    ```solidity\\n    function deposit(uint _amount) external {\\n        settlePendingObligation();\\n        // we want to protect new LPs, when the insurance fund is in deficit\\n        require(pendingObligation == 0, \"IF.deposit.pending_obligations\");\\n\\n        uint _pool = balance();\\n        uint _totalSupply = totalSupply();\\n        if (_totalSupply == 0 && _pool > 0) { // trading fee accumulated while there were no IF LPs\\n            vusd.safeTransfer(governance, _pool);\\n            _pool = 0;\\n        }\\n\\n        vusd.safeTransferFrom(msg.sender, address(this), _amount);\\n        uint shares = 0;\\n        if (_pool == 0) {\\n            shares = _amount;\\n        } else {\\n            shares = _amount * _totalSupply / _pool;\\n        }\\n        _mint(msg.sender, shares);\\n        emit FundsAdded(msg.sender, _amount, block.timestamp);\\n    }\\n\\nfunction withdraw(uint _shares) external {\\n        settlePendingObligation();\\n        require(pendingObligation == 0, \"IF.withdraw.pending_obligations\");\\n        uint amount = balance() * _shares / totalSupply();\\n        _burn(msg.sender, _shares);\\n        vusd.safeTransfer(msg.sender, amount);\\n        emit FundsWithdrawn(msg.sender, amount, block.timestamp);\\n    }\\n    ```\\n    \\nThis is the vulnerability explanation: \\nThe `InsuranceFund.deposit` function mints initial `shares` equal to the deposited amount. The deposit / withdraw functions also use the VUSD contract balance for the shares computation. (`balance() = vusd.balanceOf(address(this))`)\\n\\nIt\\'s possible to increase the share price to very high amounts and price out smaller depositors.\\n\\n### Proof of Concept\\n\\n*   `deposit(_amount = 1)`: Deposit the smallest unit of VUSD as the first depositor. Mint 1 share and set the total supply and VUSD balance to `1`.\\n*   Perform a direct transfer of `1000.0` VUSD to the `InsuranceFund`. The `balance()` is now `1000e6 + 1`\\n*   Doing any deposits of less than `1000.0` VUSD will mint zero shares: `shares = _amount * _totalSupply / _pool = 1000e6 * 1 / (1000e6 + 1) = 0`.\\n*   The attacker can call `withdraw(1)` to burn their single share and receive the entire pool balance, making a profit. (`balance() * _shares / totalSupply() = balance()`)\\n\\nI give this a high severity as the same concept can be used to always steal the initial insurance fund deposit by frontrunning it and doing the above-mentioned steps, just sending the frontrunned deposit amount to the contract instead of the fixed `1000.0`.\\nThey can then even repeat the steps to always frontrun and steal any deposits.\\n\\nRecommendation:\\n [/INST] The way UniswapV2 prevents this is by requiring a minimum deposit amount and sending 1000 initial shares to the zero address to make this attack more expensive. The same mitigation can be done here. </s>'"
      ]
     },
     "execution_count": 17,
     "metadata": {},
     "output_type": "execute_result"
    }
   ],
   "source": [
    "tokenizer.decode(trainer.eval_dataset[5][\"input_ids\"])"
   ]
  },
  {
   "cell_type": "code",
   "execution_count": 18,
   "id": "0a020d81",
   "metadata": {
    "execution": {
     "iopub.execute_input": "2025-06-11T07:49:02.974592Z",
     "iopub.status.busy": "2025-06-11T07:49:02.974264Z",
     "iopub.status.idle": "2025-06-11T07:49:02.984365Z",
     "shell.execute_reply": "2025-06-11T07:49:02.983611Z"
    }
   },
   "outputs": [
    {
     "data": {
      "text/plain": [
       "'                                                                                                                                                                                                                                                                                                                                                                                                                                                                                                                                                                                                                                                                                                                                                                                                                                                                                                                                                                                                                                                                                                                                                                                                                                                                                                                                                                                                                                                                                                                                                                                                                                                                                                                                                                                                                        The way UniswapV2 prevents this is by requiring a minimum deposit amount and sending 1000 initial shares to the zero address to make this attack more expensive. The same mitigation can be done here. </s>'"
      ]
     },
     "execution_count": 18,
     "metadata": {},
     "output_type": "execute_result"
    }
   ],
   "source": [
    "space = tokenizer(\" \", add_special_tokens = False).input_ids[0]\n",
    "tokenizer.decode([space if x == -100 else x for x in trainer.eval_dataset[5][\"labels\"]])"
   ]
  },
  {
   "cell_type": "code",
   "execution_count": 19,
   "id": "fb118462",
   "metadata": {
    "execution": {
     "iopub.execute_input": "2025-06-11T07:49:02.987398Z",
     "iopub.status.busy": "2025-06-11T07:49:02.987115Z",
     "iopub.status.idle": "2025-06-11T09:06:36.613769Z",
     "shell.execute_reply": "2025-06-11T09:06:36.612807Z"
    }
   },
   "outputs": [
    {
     "name": "stderr",
     "output_type": "stream",
     "text": [
      "==((====))==  Unsloth - 2x faster free finetuning | Num GPUs used = 1\n",
      "   \\\\   /|    Num examples = 595 | Num Epochs = 5 | Total steps = 2,975\n",
      "O^O/ \\_/ \\    Batch size per device = 1 | Gradient accumulation steps = 1\n",
      "\\        /    Data Parallel GPUs = 1 | Total batch size (1 x 1 x 1) = 1\n",
      " \"-____-\"     Trainable parameters = 62,586,880/13,000,000,000 (0.48% trained)\n"
     ]
    },
    {
     "data": {
      "text/html": [
       "\n",
       "    <div>\n",
       "      \n",
       "      <progress value='2975' max='2975' style='width:300px; height:20px; vertical-align: middle;'></progress>\n",
       "      [2975/2975 1:17:28, Epoch 5/5]\n",
       "    </div>\n",
       "    <table border=\"1\" class=\"dataframe\">\n",
       "  <thead>\n",
       " <tr style=\"text-align: left;\">\n",
       "      <th>Step</th>\n",
       "      <th>Training Loss</th>\n",
       "      <th>Validation Loss</th>\n",
       "    </tr>\n",
       "  </thead>\n",
       "  <tbody>\n",
       "    <tr>\n",
       "      <td>500</td>\n",
       "      <td>1.796900</td>\n",
       "      <td>1.413581</td>\n",
       "    </tr>\n",
       "    <tr>\n",
       "      <td>1000</td>\n",
       "      <td>1.250800</td>\n",
       "      <td>1.398486</td>\n",
       "    </tr>\n",
       "    <tr>\n",
       "      <td>1500</td>\n",
       "      <td>1.761000</td>\n",
       "      <td>1.411695</td>\n",
       "    </tr>\n",
       "    <tr>\n",
       "      <td>2000</td>\n",
       "      <td>0.436500</td>\n",
       "      <td>1.457904</td>\n",
       "    </tr>\n",
       "    <tr>\n",
       "      <td>2500</td>\n",
       "      <td>0.145700</td>\n",
       "      <td>1.506624</td>\n",
       "    </tr>\n",
       "  </tbody>\n",
       "</table><p>"
      ],
      "text/plain": [
       "<IPython.core.display.HTML object>"
      ]
     },
     "metadata": {},
     "output_type": "display_data"
    },
    {
     "name": "stdout",
     "output_type": "stream",
     "text": [
      "Unsloth: Will smartly offload gradients to save VRAM!\n"
     ]
    }
   ],
   "source": [
    "trainer_stats = trainer.train()"
   ]
  },
  {
   "cell_type": "code",
   "execution_count": null,
   "id": "a1ce16e2",
   "metadata": {
    "execution": {
     "iopub.execute_input": "2025-06-11T09:06:36.618325Z",
     "iopub.status.busy": "2025-06-11T09:06:36.618054Z",
     "iopub.status.idle": "2025-06-11T09:06:37.942587Z",
     "shell.execute_reply": "2025-06-11T09:06:37.941746Z"
    }
   },
   "outputs": [
    {
     "data": {
      "text/plain": [
       "('codellama13b_recommendation/tokenizer_config.json',\n",
       " 'codellama13b_recommendation/special_tokens_map.json',\n",
       " 'codellama13b_recommendation/tokenizer.model',\n",
       " 'codellama13b_recommendation/added_tokens.json',\n",
       " 'codellama13b_recommendation/tokenizer.json')"
      ]
     },
     "execution_count": 20,
     "metadata": {},
     "output_type": "execute_result"
    }
   ],
   "source": [
    "model.save_pretrained(\"codellama13b_recommendation\")  \n",
    "tokenizer.save_pretrained(\"codellama13b_recommendation\")"
   ]
  },
  {
   "cell_type": "code",
   "execution_count": 21,
   "id": "62598ea7",
   "metadata": {
    "execution": {
     "iopub.execute_input": "2025-06-11T09:06:37.946064Z",
     "iopub.status.busy": "2025-06-11T09:06:37.945809Z",
     "iopub.status.idle": "2025-06-11T09:06:37.960625Z",
     "shell.execute_reply": "2025-06-11T09:06:37.959614Z"
    }
   },
   "outputs": [],
   "source": [
    "test_dataset = dataset['test']\n",
    "test_dataset = test_dataset.map(lambda row: {'answer':row['conversations'][-1]})\n",
    "test_dataset = test_dataset.map(lambda row: {'conversations':row['conversations'][:-1]})"
   ]
  },
  {
   "cell_type": "code",
   "execution_count": 22,
   "id": "a081a5f1",
   "metadata": {
    "execution": {
     "iopub.execute_input": "2025-06-11T09:06:37.963730Z",
     "iopub.status.busy": "2025-06-11T09:06:37.963448Z",
     "iopub.status.idle": "2025-06-11T09:06:41.086450Z",
     "shell.execute_reply": "2025-06-11T09:06:41.085407Z"
    }
   },
   "outputs": [
    {
     "name": "stderr",
     "output_type": "stream",
     "text": [
      "The attention mask is not set and cannot be inferred from input because pad token is same as eos token. As a consequence, you may observe unexpected behavior. Please pass your input's `attention_mask` to obtain reliable results.\n"
     ]
    },
    {
     "data": {
      "text/plain": [
       "['<s> [INST] <<SYS>>\\nYou are the smartest AI solidity smart contract security auditor in the world\\n<</SYS>>\\n\\nThe given Solidity function is vulnerable and there was an explanation about the vulnerability. Give your patch recommendation based on that vulnerability.\\n    \\n    This is the vulnerable functions:\\n    ```solidity\\n    function withdrawWithTimelockFrom(\\n    address from,\\n    uint256 amount,\\n    address controlledToken\\n  )\\n    external override\\n    nonReentrant\\n    onlyControlledToken(controlledToken)\\n    returns (uint256)\\n  {\\n    uint256 blockTime = _currentTime();\\n    (uint256 lockDuration, uint256 burnedCredit) = _calculateTimelockDuration(from, controlledToken, amount);\\n    uint256 unlockTimestamp = blockTime.add(lockDuration);\\n    _burnCredit(from, controlledToken, burnedCredit);\\n    ControlledToken(controlledToken).controllerBurnFrom(_msgSender(), from, amount);\\n    _mintTimelock(from, amount, unlockTimestamp);\\n    emit TimelockedWithdrawal(_msgSender(), from, controlledToken, amount, unlockTimestamp);\\n\\n    // return the block at which the funds will be available\\n    return unlockTimestamp;\\n  }\\n\\nfunction _mintTimelock(address user, uint256 amount, uint256 timestamp) internal {\\n    // Sweep the old balance, if any\\n    address[] memory users = new address[](1);\\n    users[0] = user;\\n    _sweepTimelockBalances(users);\\n\\n    timelockTotalSupply = timelockTotalSupply.add(amount);\\n    _timelockBalances[user] = _timelockBalances[user].add(amount);\\n    _unlockTimestamps[user] = timestamp;\\n\\n    // if the funds should already be unlocked\\n    if (timestamp <= _currentTime()) {\\n      _sweepTimelockBalances(users);\\n    }\\n  }\\n\\nfunction _sweepTimelockBalances(\\n    address[] memory users\\n  )\\n    internal\\n    returns (uint256)\\n  {\\n    address operator = _msgSender();\\n\\n    uint256[] memory balances = new uint256[](users.length);\\n\\n    uint256 totalWithdrawal;\\n\\n    uint256 i;\\n    for (i = 0; i < users.length; i++) {\\n      address user = users[i];\\n      if (_unlockTimestamps[user] <= _currentTime()) {\\n        totalWithdrawal = totalWithdrawal.add(_timelockBalances[user]);\\n        balances[i] = _timelockBalances[user];\\n        delete _timelockBalances[user];\\n      }\\n    }\\n\\n    // if there is nothing to do, just quit\\n    if (totalWithdrawal == 0) {\\n      return 0;\\n    }\\n\\n    timelockTotalSupply = timelockTotalSupply.sub(totalWithdrawal);\\n\\n    uint256 redeemed = _redeem(totalWithdrawal);\\n\\n    IERC20Upgradeable underlyingToken = IERC20Upgradeable(_token());\\n\\n    for (i = 0; i < users.length; i++) {\\n      if (balances[i] > 0) {\\n        delete _unlockTimestamps[users[i]];\\n        uint256 shareMantissa = FixedPoint.calculateMantissa(balances[i], totalWithdrawal);\\n        uint256 transferAmount = FixedPoint.multiplyUintByMantissa(redeemed, shareMantissa);\\n        underlyingToken.safeTransfer(users[i], transferAmount);\\n        emit TimelockedWithdrawalSwept(operator, users[i], balances[i], transferAmount);\\n      }\\n    }\\n\\n    return totalWithdrawal;\\n  }\\n    ```\\n    \\nThis is the vulnerability explanation: \\nOne can withdraw the entire `PrizePool` deposit by circumventing the timelock.\\nAssume the user has no credits for ease of computation:\\n- user calls `withdrawWithTimelockFrom(user, amount=userBalance)` with their entire balance. This \"mints\" an equivalent `amount` of `timelock` and resets `_unlockTimestamps[user] = timestamp = blockTime + lockDuration`.\\n- user calls `withdrawWithTimelockFrom(user, amount=0)` again but this time withdrawing `0` amount. This will return a `lockDuration` of `0` and thus `unlockTimestamp = blockTime`. The inner `_mintTimelock` now resets `_unlockTimestamps[user] = unlockTimestamp`\\n- As `if (timestamp <= _currentTime()) ` is true, the full users amount is now transferred out to the user in the `_sweepTimelockBalances` call.\\n\\nUsers don\\'t need to wait for their deposit to contribute their fair share to the prize pool.\\nThey can join before the awards and leave right after without a penalty which leads to significant issues for the protocol.\\nIt\\'s the superior strategy but it leads to no investments in the strategy to earn the actual interest.\\n\\nRecommendation:\\n [/INST] Recommend adding a check to prevent users from withdrawing their entire deposit in a single transaction. </s>']"
      ]
     },
     "execution_count": 22,
     "metadata": {},
     "output_type": "execute_result"
    }
   ],
   "source": [
    "from unsloth.chat_templates import get_chat_template\n",
    "\n",
    "tokenizer = get_chat_template(\n",
    "    tokenizer,\n",
    "    chat_template = \"llama\",\n",
    ")\n",
    "FastLanguageModel.for_inference(model) # Enable native 2x faster inference\n",
    "\n",
    "messages = test_dataset['conversations'][1]\n",
    "inputs = tokenizer.apply_chat_template(\n",
    "    messages,\n",
    "    tokenize = True,\n",
    "    add_generation_prompt = True, # Must add for generation\n",
    "    return_tensors = \"pt\",\n",
    ").to(\"cuda\")\n",
    "\n",
    "outputs = model.generate(input_ids = inputs, max_new_tokens = 8192, use_cache = True,\n",
    "                         temperature = 0.1, min_p = 0.1)\n",
    "tokenizer.batch_decode(outputs)"
   ]
  },
  {
   "cell_type": "code",
   "execution_count": 23,
   "id": "6ab13c9d",
   "metadata": {
    "execution": {
     "iopub.execute_input": "2025-06-11T09:06:41.090051Z",
     "iopub.status.busy": "2025-06-11T09:06:41.089778Z",
     "iopub.status.idle": "2025-06-11T09:06:41.094715Z",
     "shell.execute_reply": "2025-06-11T09:06:41.093966Z"
    }
   },
   "outputs": [],
   "source": [
    "decoded_outputs = tokenizer.batch_decode(outputs)"
   ]
  },
  {
   "cell_type": "code",
   "execution_count": 24,
   "id": "a8c94adc",
   "metadata": {
    "execution": {
     "iopub.execute_input": "2025-06-11T09:06:41.097728Z",
     "iopub.status.busy": "2025-06-11T09:06:41.097483Z",
     "iopub.status.idle": "2025-06-11T09:06:41.104455Z",
     "shell.execute_reply": "2025-06-11T09:06:41.103703Z"
    }
   },
   "outputs": [
    {
     "data": {
      "text/plain": [
       "{'content': 'Recommend that the unlock timestamp should be increased by duration each time, instead of being reset to the duration.',\n",
       " 'role': 'assistant'}"
      ]
     },
     "execution_count": 24,
     "metadata": {},
     "output_type": "execute_result"
    }
   ],
   "source": [
    "test_dataset['answer'][1]"
   ]
  },
  {
   "cell_type": "code",
   "execution_count": 25,
   "id": "de712018",
   "metadata": {
    "execution": {
     "iopub.execute_input": "2025-06-11T09:06:41.107412Z",
     "iopub.status.busy": "2025-06-11T09:06:41.107169Z",
     "iopub.status.idle": "2025-06-11T09:06:41.113261Z",
     "shell.execute_reply": "2025-06-11T09:06:41.112522Z"
    }
   },
   "outputs": [
    {
     "data": {
      "text/plain": [
       "'function withdrawWithTimelockFrom(\\n    address from,\\n    uint256 amount,\\n    address controlledToken\\n  )\\n    external override\\n    nonReentrant\\n    onlyControlledToken(controlledToken)\\n    returns (uint256)\\n  {\\n    uint256 blockTime = _currentTime();\\n    (uint256 lockDuration, uint256 burnedCredit) = _calculateTimelockDuration(from, controlledToken, amount);\\n    uint256 unlockTimestamp = blockTime.add(lockDuration);\\n    _burnCredit(from, controlledToken, burnedCredit);\\n    ControlledToken(controlledToken).controllerBurnFrom(_msgSender(), from, amount);\\n    _mintTimelock(from, amount, unlockTimestamp);\\n    emit TimelockedWithdrawal(_msgSender(), from, controlledToken, amount, unlockTimestamp);\\n\\n    // return the block at which the funds will be available\\n    return unlockTimestamp;\\n  }\\n\\nfunction _mintTimelock(address user, uint256 amount, uint256 timestamp) internal {\\n    // Sweep the old balance, if any\\n    address[] memory users = new address[](1);\\n    users[0] = user;\\n    _sweepTimelockBalances(users);\\n\\n    timelockTotalSupply = timelockTotalSupply.add(amount);\\n    _timelockBalances[user] = _timelockBalances[user].add(amount);\\n    _unlockTimestamps[user] = timestamp;\\n\\n    // if the funds should already be unlocked\\n    if (timestamp <= _currentTime()) {\\n      _sweepTimelockBalances(users);\\n    }\\n  }\\n\\nfunction _sweepTimelockBalances(\\n    address[] memory users\\n  )\\n    internal\\n    returns (uint256)\\n  {\\n    address operator = _msgSender();\\n\\n    uint256[] memory balances = new uint256[](users.length);\\n\\n    uint256 totalWithdrawal;\\n\\n    uint256 i;\\n    for (i = 0; i < users.length; i++) {\\n      address user = users[i];\\n      if (_unlockTimestamps[user] <= _currentTime()) {\\n        totalWithdrawal = totalWithdrawal.add(_timelockBalances[user]);\\n        balances[i] = _timelockBalances[user];\\n        delete _timelockBalances[user];\\n      }\\n    }\\n\\n    // if there is nothing to do, just quit\\n    if (totalWithdrawal == 0) {\\n      return 0;\\n    }\\n\\n    timelockTotalSupply = timelockTotalSupply.sub(totalWithdrawal);\\n\\n    uint256 redeemed = _redeem(totalWithdrawal);\\n\\n    IERC20Upgradeable underlyingToken = IERC20Upgradeable(_token());\\n\\n    for (i = 0; i < users.length; i++) {\\n      if (balances[i] > 0) {\\n        delete _unlockTimestamps[users[i]];\\n        uint256 shareMantissa = FixedPoint.calculateMantissa(balances[i], totalWithdrawal);\\n        uint256 transferAmount = FixedPoint.multiplyUintByMantissa(redeemed, shareMantissa);\\n        underlyingToken.safeTransfer(users[i], transferAmount);\\n        emit TimelockedWithdrawalSwept(operator, users[i], balances[i], transferAmount);\\n      }\\n    }\\n\\n    return totalWithdrawal;\\n  }'"
      ]
     },
     "execution_count": 25,
     "metadata": {},
     "output_type": "execute_result"
    }
   ],
   "source": [
    "test_dataset['vuln_code'][1]"
   ]
  },
  {
   "cell_type": "code",
   "execution_count": null,
   "id": "0807df86",
   "metadata": {
    "execution": {
     "iopub.execute_input": "2025-06-11T09:06:41.152203Z",
     "iopub.status.busy": "2025-06-11T09:06:41.151824Z",
     "iopub.status.idle": "2025-06-11T09:06:41.998820Z",
     "shell.execute_reply": "2025-06-11T09:06:41.997762Z"
    }
   },
   "outputs": [],
   "source": [
    "from datasets import load_dataset\n",
    "\n",
    "# Define the paths to your dataset files\n",
    "data_files = {\n",
    "    'train': 'vuln_data_train.csv',\n",
    "    'val': 'vuln_data_val.csv',\n",
    "    'test': 'vuln_data_test.csv'\n",
    "}\n",
    "\n",
    "# Load the dataset\n",
    "dataset = load_dataset('csv', data_files=data_files)\n",
    "\n",
    "import random\n",
    "from datasets import concatenate_datasets, DatasetDict\n",
    "\n",
    "random.seed(42)\n",
    "\n",
    "SYSTEM_PROMPT = [\n",
    "    \"\"\"You are the smartest AI solidity smart contract security auditor in the world\"\"\",\n",
    "]\n",
    "\n",
    "PROMPTS = [\n",
    "    \"\"\"The given Solidity function is vulnerable and there was an explanation about the vulnerability. Give your patch recommendation based on that vulnerability.\n",
    "    \n",
    "    This is the vulnerable functions:\n",
    "    ```solidity\n",
    "    {code}\n",
    "    ```\n",
    "    \n",
    "This is the vulnerability explanation: \n",
    "{explanation}\n",
    "\n",
    "Recommendation:\n",
    "\"\"\",\n",
    "]\n",
    "\n",
    "def make_conversational(examples):\n",
    "    code = examples['vuln_code']\n",
    "    desc = examples['vuln_explanation']\n",
    "    recom = examples['vuln_recommendation']\n",
    "    selected_system_prompt = random.choice(SYSTEM_PROMPT)\n",
    "    selected_user_prompt = random.choice(PROMPTS) \n",
    "    conversation = [{\"role\": \"system\", \"content\": selected_system_prompt}, \n",
    "                    {\"role\": \"user\", \"content\": selected_user_prompt.format(code=code, explanation=desc)}]\n",
    "    return { \"conversations\" : conversation, \"label\": recom}\n",
    "\n",
    "dataset = dataset.map(make_conversational)\n",
    "\n",
    "test_dataset = dataset['test']"
   ]
  },
  {
   "cell_type": "code",
   "execution_count": null,
   "id": "1b81e7aa",
   "metadata": {
    "execution": {
     "iopub.execute_input": "2025-06-11T09:06:42.024989Z",
     "iopub.status.busy": "2025-06-11T09:06:42.024726Z",
     "iopub.status.idle": "2025-06-11T09:14:51.620489Z",
     "shell.execute_reply": "2025-06-11T09:14:51.619470Z"
    }
   },
   "outputs": [
    {
     "name": "stderr",
     "output_type": "stream",
     "text": [
      "\r\n",
      "Processing dataset:   0%|                                                                          | 0/143 [00:00<?, ?it/s]"
     ]
    },
    {
     "name": "stderr",
     "output_type": "stream",
     "text": [
      "\r\n",
      "Processing dataset:   1%|▍                                                                 | 1/143 [00:02<04:44,  2.01s/it]"
     ]
    },
    {
     "name": "stderr",
     "output_type": "stream",
     "text": [
      "\r\n",
      "Processing dataset:   1%|▉                                                                 | 2/143 [00:05<06:09,  2.62s/it]"
     ]
    },
    {
     "name": "stderr",
     "output_type": "stream",
     "text": [
      "\r\n",
      "Processing dataset:   2%|█▍                                                                | 3/143 [00:07<05:26,  2.33s/it]"
     ]
    },
    {
     "name": "stderr",
     "output_type": "stream",
     "text": [
      "\r\n",
      "Processing dataset:   3%|█▊                                                                | 4/143 [00:12<08:24,  3.63s/it]"
     ]
    },
    {
     "name": "stderr",
     "output_type": "stream",
     "text": [
      "\r\n",
      "Processing dataset:   3%|██▎                                                               | 5/143 [00:14<06:56,  3.02s/it]"
     ]
    },
    {
     "name": "stderr",
     "output_type": "stream",
     "text": [
      "\r\n",
      "Processing dataset:   4%|██▊                                                               | 6/143 [00:16<06:15,  2.74s/it]"
     ]
    },
    {
     "name": "stderr",
     "output_type": "stream",
     "text": [
      "\r\n",
      "Processing dataset:   5%|███▏                                                              | 7/143 [00:23<08:50,  3.90s/it]"
     ]
    },
    {
     "name": "stderr",
     "output_type": "stream",
     "text": [
      "\r\n",
      "Processing dataset:   6%|███▋                                                              | 8/143 [00:26<08:35,  3.82s/it]"
     ]
    },
    {
     "name": "stderr",
     "output_type": "stream",
     "text": [
      "\r\n",
      "Processing dataset:   6%|████▏                                                             | 9/143 [00:30<08:46,  3.93s/it]"
     ]
    },
    {
     "name": "stderr",
     "output_type": "stream",
     "text": [
      "\r\n",
      "Processing dataset:   7%|████▌                                                            | 10/143 [00:33<07:53,  3.56s/it]"
     ]
    },
    {
     "name": "stderr",
     "output_type": "stream",
     "text": [
      "\r\n",
      "Processing dataset:   8%|█████                                                            | 11/143 [00:34<06:18,  2.87s/it]"
     ]
    },
    {
     "name": "stderr",
     "output_type": "stream",
     "text": [
      "\r\n",
      "Processing dataset:   8%|█████▍                                                           | 12/143 [00:39<07:08,  3.27s/it]"
     ]
    },
    {
     "name": "stderr",
     "output_type": "stream",
     "text": [
      "\r\n",
      "Processing dataset:   9%|█████▉                                                           | 13/143 [00:41<06:47,  3.14s/it]"
     ]
    },
    {
     "name": "stderr",
     "output_type": "stream",
     "text": [
      "\r\n",
      "Processing dataset:  10%|██████▎                                                          | 14/143 [00:44<06:18,  2.93s/it]"
     ]
    },
    {
     "name": "stderr",
     "output_type": "stream",
     "text": [
      "\r\n",
      "Processing dataset:  10%|██████▊                                                          | 15/143 [00:48<07:01,  3.29s/it]"
     ]
    },
    {
     "name": "stderr",
     "output_type": "stream",
     "text": [
      "\r\n",
      "Processing dataset:  11%|███████▎                                                         | 16/143 [00:54<08:55,  4.22s/it]"
     ]
    },
    {
     "name": "stderr",
     "output_type": "stream",
     "text": [
      "\r\n",
      "Processing dataset:  12%|███████▋                                                         | 17/143 [00:57<07:50,  3.73s/it]"
     ]
    },
    {
     "name": "stderr",
     "output_type": "stream",
     "text": [
      "\r\n",
      "Processing dataset:  13%|████████▏                                                        | 18/143 [01:01<08:00,  3.84s/it]"
     ]
    },
    {
     "name": "stderr",
     "output_type": "stream",
     "text": [
      "\r\n",
      "Processing dataset:  13%|████████▋                                                        | 19/143 [01:03<07:01,  3.40s/it]"
     ]
    },
    {
     "name": "stderr",
     "output_type": "stream",
     "text": [
      "\r\n",
      "Processing dataset:  14%|█████████                                                        | 20/143 [01:06<06:31,  3.19s/it]"
     ]
    },
    {
     "name": "stderr",
     "output_type": "stream",
     "text": [
      "\r\n",
      "Processing dataset:  15%|█████████▌                                                       | 21/143 [01:17<10:52,  5.35s/it]"
     ]
    },
    {
     "name": "stderr",
     "output_type": "stream",
     "text": [
      "\r\n",
      "Processing dataset:  15%|██████████                                                       | 22/143 [01:20<09:48,  4.86s/it]"
     ]
    },
    {
     "name": "stderr",
     "output_type": "stream",
     "text": [
      "\r\n",
      "Processing dataset:  16%|██████████▍                                                      | 23/143 [01:24<08:51,  4.43s/it]"
     ]
    },
    {
     "name": "stderr",
     "output_type": "stream",
     "text": [
      "\r\n",
      "Processing dataset:  17%|██████████▉                                                      | 24/143 [01:27<07:56,  4.01s/it]"
     ]
    },
    {
     "name": "stderr",
     "output_type": "stream",
     "text": [
      "\r\n",
      "Processing dataset:  17%|███████████▎                                                     | 25/143 [01:30<07:30,  3.82s/it]"
     ]
    },
    {
     "name": "stderr",
     "output_type": "stream",
     "text": [
      "\r\n",
      "Processing dataset:  18%|███████████▊                                                     | 26/143 [01:33<06:48,  3.49s/it]"
     ]
    },
    {
     "name": "stderr",
     "output_type": "stream",
     "text": [
      "\r\n",
      "Processing dataset:  19%|████████████▎                                                    | 27/143 [01:35<05:58,  3.09s/it]"
     ]
    },
    {
     "name": "stderr",
     "output_type": "stream",
     "text": [
      "\r\n",
      "Processing dataset:  20%|████████████▋                                                    | 28/143 [01:37<05:30,  2.87s/it]"
     ]
    },
    {
     "name": "stderr",
     "output_type": "stream",
     "text": [
      "\r\n",
      "Processing dataset:  20%|█████████████▏                                                   | 29/143 [01:40<05:35,  2.94s/it]"
     ]
    },
    {
     "name": "stderr",
     "output_type": "stream",
     "text": [
      "\r\n",
      "Processing dataset:  21%|█████████████▋                                                   | 30/143 [01:44<05:37,  2.99s/it]"
     ]
    },
    {
     "name": "stderr",
     "output_type": "stream",
     "text": [
      "\r\n",
      "Processing dataset:  22%|██████████████                                                   | 31/143 [01:49<06:54,  3.70s/it]"
     ]
    },
    {
     "name": "stderr",
     "output_type": "stream",
     "text": [
      "\r\n",
      "Processing dataset:  22%|██████████████▌                                                  | 32/143 [01:52<06:21,  3.44s/it]"
     ]
    },
    {
     "name": "stderr",
     "output_type": "stream",
     "text": [
      "\r\n",
      "Processing dataset:  23%|███████████████                                                  | 33/143 [01:56<06:54,  3.77s/it]"
     ]
    },
    {
     "name": "stderr",
     "output_type": "stream",
     "text": [
      "\r\n",
      "Processing dataset:  24%|███████████████▍                                                 | 34/143 [01:58<05:55,  3.26s/it]"
     ]
    },
    {
     "name": "stderr",
     "output_type": "stream",
     "text": [
      "\r\n",
      "Processing dataset:  24%|███████████████▉                                                 | 35/143 [02:04<06:55,  3.85s/it]"
     ]
    },
    {
     "name": "stderr",
     "output_type": "stream",
     "text": [
      "\r\n",
      "Processing dataset:  25%|████████████████▎                                                | 36/143 [02:08<07:12,  4.04s/it]"
     ]
    },
    {
     "name": "stderr",
     "output_type": "stream",
     "text": [
      "\r\n",
      "Processing dataset:  26%|████████████████▊                                                | 37/143 [02:11<06:36,  3.74s/it]"
     ]
    },
    {
     "name": "stderr",
     "output_type": "stream",
     "text": [
      "\r\n",
      "Processing dataset:  27%|█████████████████▎                                               | 38/143 [02:14<06:11,  3.53s/it]"
     ]
    },
    {
     "name": "stderr",
     "output_type": "stream",
     "text": [
      "\r\n",
      "Processing dataset:  27%|█████████████████▋                                               | 39/143 [02:17<05:53,  3.39s/it]"
     ]
    },
    {
     "name": "stderr",
     "output_type": "stream",
     "text": [
      "\r\n",
      "Processing dataset:  28%|██████████████████▏                                              | 40/143 [02:20<05:34,  3.25s/it]"
     ]
    },
    {
     "name": "stderr",
     "output_type": "stream",
     "text": [
      "\r\n",
      "Processing dataset:  29%|██████████████████▋                                              | 41/143 [02:22<04:55,  2.90s/it]"
     ]
    },
    {
     "name": "stderr",
     "output_type": "stream",
     "text": [
      "\r\n",
      "Processing dataset:  29%|███████████████████                                              | 42/143 [02:27<05:45,  3.42s/it]"
     ]
    },
    {
     "name": "stderr",
     "output_type": "stream",
     "text": [
      "\r\n",
      "Processing dataset:  30%|███████████████████▌                                             | 43/143 [02:32<06:34,  3.94s/it]"
     ]
    },
    {
     "name": "stderr",
     "output_type": "stream",
     "text": [
      "\r\n",
      "Processing dataset:  31%|████████████████████                                             | 44/143 [02:34<05:37,  3.41s/it]"
     ]
    },
    {
     "name": "stderr",
     "output_type": "stream",
     "text": [
      "\r\n",
      "Processing dataset:  31%|████████████████████▍                                            | 45/143 [02:37<05:06,  3.13s/it]"
     ]
    },
    {
     "name": "stderr",
     "output_type": "stream",
     "text": [
      "\r\n",
      "Processing dataset:  32%|████████████████████▉                                            | 46/143 [02:38<04:20,  2.68s/it]"
     ]
    },
    {
     "name": "stderr",
     "output_type": "stream",
     "text": [
      "\r\n",
      "Processing dataset:  33%|█████████████████████▎                                           | 47/143 [02:42<04:40,  2.92s/it]"
     ]
    },
    {
     "name": "stderr",
     "output_type": "stream",
     "text": [
      "\r\n",
      "Processing dataset:  34%|█████████████████████▊                                           | 48/143 [02:44<04:06,  2.60s/it]"
     ]
    },
    {
     "name": "stderr",
     "output_type": "stream",
     "text": [
      "\r\n",
      "Processing dataset:  34%|██████████████████████▎                                          | 49/143 [02:47<04:34,  2.92s/it]"
     ]
    },
    {
     "name": "stderr",
     "output_type": "stream",
     "text": [
      "\r\n",
      "Processing dataset:  35%|██████████████████████▋                                          | 50/143 [02:53<05:41,  3.67s/it]"
     ]
    },
    {
     "name": "stderr",
     "output_type": "stream",
     "text": [
      "\r\n",
      "Processing dataset:  36%|███████████████████████▏                                         | 51/143 [02:55<04:53,  3.19s/it]"
     ]
    },
    {
     "name": "stderr",
     "output_type": "stream",
     "text": [
      "\r\n",
      "Processing dataset:  36%|███████████████████████▋                                         | 52/143 [02:57<04:29,  2.96s/it]"
     ]
    },
    {
     "name": "stderr",
     "output_type": "stream",
     "text": [
      "\r\n",
      "Processing dataset:  37%|████████████████████████                                         | 53/143 [03:01<04:38,  3.09s/it]"
     ]
    },
    {
     "name": "stderr",
     "output_type": "stream",
     "text": [
      "\r\n",
      "Processing dataset:  38%|████████████████████████▌                                        | 54/143 [03:03<04:23,  2.96s/it]"
     ]
    },
    {
     "name": "stderr",
     "output_type": "stream",
     "text": [
      "\r\n",
      "Processing dataset:  38%|█████████████████████████                                        | 55/143 [03:07<04:39,  3.18s/it]"
     ]
    },
    {
     "name": "stderr",
     "output_type": "stream",
     "text": [
      "\r\n",
      "Processing dataset:  39%|█████████████████████████▍                                       | 56/143 [03:12<05:21,  3.69s/it]"
     ]
    },
    {
     "name": "stderr",
     "output_type": "stream",
     "text": [
      "\r\n",
      "Processing dataset:  40%|█████████████████████████▉                                       | 57/143 [03:16<05:27,  3.80s/it]"
     ]
    },
    {
     "name": "stderr",
     "output_type": "stream",
     "text": [
      "\r\n",
      "Processing dataset:  41%|██████████████████████████▎                                      | 58/143 [03:17<04:22,  3.09s/it]"
     ]
    },
    {
     "name": "stderr",
     "output_type": "stream",
     "text": [
      "\r\n",
      "Processing dataset:  41%|██████████████████████████▊                                      | 59/143 [03:20<04:06,  2.93s/it]"
     ]
    },
    {
     "name": "stderr",
     "output_type": "stream",
     "text": [
      "\r\n",
      "Processing dataset:  42%|███████████████████████████▎                                     | 60/143 [03:23<04:12,  3.04s/it]"
     ]
    },
    {
     "name": "stderr",
     "output_type": "stream",
     "text": [
      "\r\n",
      "Processing dataset:  43%|███████████████████████████▋                                     | 61/143 [03:28<04:53,  3.58s/it]"
     ]
    },
    {
     "name": "stderr",
     "output_type": "stream",
     "text": [
      "\r\n",
      "Processing dataset:  43%|████████████████████████████▏                                    | 62/143 [03:31<04:36,  3.41s/it]"
     ]
    },
    {
     "name": "stderr",
     "output_type": "stream",
     "text": [
      "\r\n",
      "Processing dataset:  44%|████████████████████████████▋                                    | 63/143 [03:33<04:00,  3.00s/it]"
     ]
    },
    {
     "name": "stderr",
     "output_type": "stream",
     "text": [
      "\r\n",
      "Processing dataset:  45%|█████████████████████████████                                    | 64/143 [03:35<03:37,  2.75s/it]"
     ]
    },
    {
     "name": "stderr",
     "output_type": "stream",
     "text": [
      "\r\n",
      "Processing dataset:  45%|█████████████████████████████▌                                   | 65/143 [03:37<03:16,  2.51s/it]"
     ]
    },
    {
     "name": "stderr",
     "output_type": "stream",
     "text": [
      "\r\n",
      "Processing dataset:  46%|██████████████████████████████                                   | 66/143 [03:41<03:40,  2.86s/it]"
     ]
    },
    {
     "name": "stderr",
     "output_type": "stream",
     "text": [
      "\r\n",
      "Processing dataset:  47%|██████████████████████████████▍                                  | 67/143 [03:45<04:07,  3.25s/it]"
     ]
    },
    {
     "name": "stderr",
     "output_type": "stream",
     "text": [
      "\r\n",
      "Processing dataset:  48%|██████████████████████████████▉                                  | 68/143 [03:49<04:11,  3.36s/it]"
     ]
    },
    {
     "name": "stderr",
     "output_type": "stream",
     "text": [
      "\r\n",
      "Processing dataset:  48%|███████████████████████████████▎                                 | 69/143 [03:51<03:39,  2.97s/it]"
     ]
    },
    {
     "name": "stderr",
     "output_type": "stream",
     "text": [
      "\r\n",
      "Processing dataset:  49%|███████████████████████████████▊                                 | 70/143 [03:54<03:37,  2.98s/it]"
     ]
    },
    {
     "name": "stderr",
     "output_type": "stream",
     "text": [
      "\r\n",
      "Processing dataset:  50%|████████████████████████████████▎                                | 71/143 [03:58<04:10,  3.48s/it]"
     ]
    },
    {
     "name": "stderr",
     "output_type": "stream",
     "text": [
      "\r\n",
      "Processing dataset:  50%|████████████████████████████████▋                                | 72/143 [04:00<03:34,  3.03s/it]"
     ]
    },
    {
     "name": "stderr",
     "output_type": "stream",
     "text": [
      "\r\n",
      "Processing dataset:  51%|█████████████████████████████████▏                               | 73/143 [04:02<03:06,  2.66s/it]"
     ]
    },
    {
     "name": "stderr",
     "output_type": "stream",
     "text": [
      "\r\n",
      "Processing dataset:  52%|█████████████████████████████████▋                               | 74/143 [04:04<02:57,  2.57s/it]"
     ]
    },
    {
     "name": "stderr",
     "output_type": "stream",
     "text": [
      "\r\n",
      "Processing dataset:  52%|██████████████████████████████████                               | 75/143 [04:07<02:49,  2.50s/it]"
     ]
    },
    {
     "name": "stderr",
     "output_type": "stream",
     "text": [
      "\r\n",
      "Processing dataset:  53%|██████████████████████████████████▌                              | 76/143 [04:13<03:52,  3.47s/it]"
     ]
    },
    {
     "name": "stderr",
     "output_type": "stream",
     "text": [
      "\r\n",
      "Processing dataset:  54%|███████████████████████████████████                              | 77/143 [04:14<03:10,  2.89s/it]"
     ]
    },
    {
     "name": "stderr",
     "output_type": "stream",
     "text": [
      "\r\n",
      "Processing dataset:  55%|███████████████████████████████████▍                             | 78/143 [04:19<03:47,  3.50s/it]"
     ]
    },
    {
     "name": "stderr",
     "output_type": "stream",
     "text": [
      "\r\n",
      "Processing dataset:  55%|███████████████████████████████████▉                             | 79/143 [04:21<03:19,  3.11s/it]"
     ]
    },
    {
     "name": "stderr",
     "output_type": "stream",
     "text": [
      "\r\n",
      "Processing dataset:  56%|████████████████████████████████████▎                            | 80/143 [04:22<02:38,  2.52s/it]"
     ]
    },
    {
     "name": "stderr",
     "output_type": "stream",
     "text": [
      "\r\n",
      "Processing dataset:  57%|████████████████████████████████████▊                            | 81/143 [04:27<03:21,  3.25s/it]"
     ]
    },
    {
     "name": "stderr",
     "output_type": "stream",
     "text": [
      "\r\n",
      "Processing dataset:  57%|█████████████████████████████████████▎                           | 82/143 [04:30<03:07,  3.07s/it]"
     ]
    },
    {
     "name": "stderr",
     "output_type": "stream",
     "text": [
      "\r\n",
      "Processing dataset:  58%|█████████████████████████████████████▋                           | 83/143 [04:31<02:29,  2.50s/it]"
     ]
    },
    {
     "name": "stderr",
     "output_type": "stream",
     "text": [
      "\r\n",
      "Processing dataset:  59%|██████████████████████████████████████▏                          | 84/143 [04:34<02:28,  2.52s/it]"
     ]
    },
    {
     "name": "stderr",
     "output_type": "stream",
     "text": [
      "\r\n",
      "Processing dataset:  59%|██████████████████████████████████████▋                          | 85/143 [04:35<02:10,  2.25s/it]"
     ]
    },
    {
     "name": "stderr",
     "output_type": "stream",
     "text": [
      "\r\n",
      "Processing dataset:  60%|███████████████████████████████████████                          | 86/143 [04:39<02:26,  2.58s/it]"
     ]
    },
    {
     "name": "stderr",
     "output_type": "stream",
     "text": [
      "\r\n",
      "Processing dataset:  61%|███████████████████████████████████████▌                         | 87/143 [04:44<03:10,  3.40s/it]"
     ]
    },
    {
     "name": "stderr",
     "output_type": "stream",
     "text": [
      "\r\n",
      "Processing dataset:  62%|████████████████████████████████████████                         | 88/143 [04:46<02:48,  3.06s/it]"
     ]
    },
    {
     "name": "stderr",
     "output_type": "stream",
     "text": [
      "\r\n",
      "Processing dataset:  62%|████████████████████████████████████████▍                        | 89/143 [04:52<03:26,  3.83s/it]"
     ]
    },
    {
     "name": "stderr",
     "output_type": "stream",
     "text": [
      "\r\n",
      "Processing dataset:  63%|████████████████████████████████████████▉                        | 90/143 [04:54<02:57,  3.36s/it]"
     ]
    },
    {
     "name": "stderr",
     "output_type": "stream",
     "text": [
      "\r\n",
      "Processing dataset:  64%|█████████████████████████████████████████▎                       | 91/143 [04:56<02:33,  2.95s/it]"
     ]
    },
    {
     "name": "stderr",
     "output_type": "stream",
     "text": [
      "\r\n",
      "Processing dataset:  64%|█████████████████████████████████████████▊                       | 92/143 [04:59<02:33,  3.01s/it]"
     ]
    },
    {
     "name": "stderr",
     "output_type": "stream",
     "text": [
      "\r\n",
      "Processing dataset:  65%|██████████████████████████████████████████▎                      | 93/143 [05:04<02:52,  3.44s/it]"
     ]
    },
    {
     "name": "stderr",
     "output_type": "stream",
     "text": [
      "\r\n",
      "Processing dataset:  66%|██████████████████████████████████████████▋                      | 94/143 [05:05<02:19,  2.85s/it]"
     ]
    },
    {
     "name": "stderr",
     "output_type": "stream",
     "text": [
      "\r\n",
      "Processing dataset:  66%|███████████████████████████████████████████▏                     | 95/143 [05:08<02:21,  2.95s/it]"
     ]
    },
    {
     "name": "stderr",
     "output_type": "stream",
     "text": [
      "\r\n",
      "Processing dataset:  67%|███████████████████████████████████████████▋                     | 96/143 [05:12<02:24,  3.08s/it]"
     ]
    },
    {
     "name": "stderr",
     "output_type": "stream",
     "text": [
      "\r\n",
      "Processing dataset:  68%|████████████████████████████████████████████                     | 97/143 [05:14<02:10,  2.84s/it]"
     ]
    },
    {
     "name": "stderr",
     "output_type": "stream",
     "text": [
      "\r\n",
      "Processing dataset:  69%|████████████████████████████████████████████▌                    | 98/143 [05:16<01:50,  2.47s/it]"
     ]
    },
    {
     "name": "stderr",
     "output_type": "stream",
     "text": [
      "\r\n",
      "Processing dataset:  69%|█████████████████████████████████████████████                    | 99/143 [05:18<01:43,  2.35s/it]"
     ]
    },
    {
     "name": "stderr",
     "output_type": "stream",
     "text": [
      "\r\n",
      "Processing dataset:  70%|████████████████████████████████████████████▊                   | 100/143 [05:21<01:49,  2.55s/it]"
     ]
    },
    {
     "name": "stderr",
     "output_type": "stream",
     "text": [
      "\r\n",
      "Processing dataset:  71%|█████████████████████████████████████████████▏                  | 101/143 [05:24<02:01,  2.90s/it]"
     ]
    },
    {
     "name": "stderr",
     "output_type": "stream",
     "text": [
      "\r\n",
      "Processing dataset:  71%|█████████████████████████████████████████████▋                  | 102/143 [05:27<02:00,  2.94s/it]"
     ]
    },
    {
     "name": "stderr",
     "output_type": "stream",
     "text": [
      "\r\n",
      "Processing dataset:  72%|██████████████████████████████████████████████                  | 103/143 [05:31<02:01,  3.04s/it]"
     ]
    },
    {
     "name": "stderr",
     "output_type": "stream",
     "text": [
      "\r\n",
      "Processing dataset:  73%|██████████████████████████████████████████████▌                 | 104/143 [05:47<04:33,  7.01s/it]"
     ]
    },
    {
     "name": "stderr",
     "output_type": "stream",
     "text": [
      "\r\n",
      "Processing dataset:  73%|██████████████████████████████████████████████▉                 | 105/143 [05:49<03:32,  5.59s/it]"
     ]
    },
    {
     "name": "stderr",
     "output_type": "stream",
     "text": [
      "\r\n",
      "Processing dataset:  74%|███████████████████████████████████████████████▍                | 106/143 [05:54<03:17,  5.35s/it]"
     ]
    },
    {
     "name": "stderr",
     "output_type": "stream",
     "text": [
      "\r\n",
      "Processing dataset:  75%|███████████████████████████████████████████████▉                | 107/143 [05:59<03:06,  5.17s/it]"
     ]
    },
    {
     "name": "stderr",
     "output_type": "stream",
     "text": [
      "\r\n",
      "Processing dataset:  76%|████████████████████████████████████████████████▎               | 108/143 [06:03<02:48,  4.82s/it]"
     ]
    },
    {
     "name": "stderr",
     "output_type": "stream",
     "text": [
      "\r\n",
      "Processing dataset:  76%|████████████████████████████████████████████████▊               | 109/143 [06:06<02:22,  4.20s/it]"
     ]
    },
    {
     "name": "stderr",
     "output_type": "stream",
     "text": [
      "\r\n",
      "Processing dataset:  77%|█████████████████████████████████████████████████▏              | 110/143 [06:11<02:27,  4.46s/it]"
     ]
    },
    {
     "name": "stderr",
     "output_type": "stream",
     "text": [
      "\r\n",
      "Processing dataset:  78%|█████████████████████████████████████████████████▋              | 111/143 [06:14<02:07,  4.00s/it]"
     ]
    },
    {
     "name": "stderr",
     "output_type": "stream",
     "text": [
      "\r\n",
      "Processing dataset:  78%|██████████████████████████████████████████████████▏             | 112/143 [06:17<02:02,  3.96s/it]"
     ]
    },
    {
     "name": "stderr",
     "output_type": "stream",
     "text": [
      "\r\n",
      "Processing dataset:  79%|██████████████████████████████████████████████████▌             | 113/143 [06:20<01:47,  3.58s/it]"
     ]
    },
    {
     "name": "stderr",
     "output_type": "stream",
     "text": [
      "\r\n",
      "Processing dataset:  80%|███████████████████████████████████████████████████             | 114/143 [06:25<01:55,  4.00s/it]"
     ]
    },
    {
     "name": "stderr",
     "output_type": "stream",
     "text": [
      "\r\n",
      "Processing dataset:  80%|███████████████████████████████████████████████████▍            | 115/143 [06:27<01:34,  3.37s/it]"
     ]
    },
    {
     "name": "stderr",
     "output_type": "stream",
     "text": [
      "\r\n",
      "Processing dataset:  81%|███████████████████████████████████████████████████▉            | 116/143 [06:37<02:21,  5.22s/it]"
     ]
    },
    {
     "name": "stderr",
     "output_type": "stream",
     "text": [
      "\r\n",
      "Processing dataset:  82%|████████████████████████████████████████████████████▎           | 117/143 [06:45<02:39,  6.14s/it]"
     ]
    },
    {
     "name": "stderr",
     "output_type": "stream",
     "text": [
      "\r\n",
      "Processing dataset:  83%|████████████████████████████████████████████████████▊           | 118/143 [06:47<02:00,  4.84s/it]"
     ]
    },
    {
     "name": "stderr",
     "output_type": "stream",
     "text": [
      "\r\n",
      "Processing dataset:  83%|█████████████████████████████████████████████████████▎          | 119/143 [06:52<01:56,  4.86s/it]"
     ]
    },
    {
     "name": "stderr",
     "output_type": "stream",
     "text": [
      "\r\n",
      "Processing dataset:  84%|█████████████████████████████████████████████████████▋          | 120/143 [06:55<01:41,  4.40s/it]"
     ]
    },
    {
     "name": "stderr",
     "output_type": "stream",
     "text": [
      "\r\n",
      "Processing dataset:  85%|██████████████████████████████████████████████████████▏         | 121/143 [06:58<01:30,  4.12s/it]"
     ]
    },
    {
     "name": "stderr",
     "output_type": "stream",
     "text": [
      "\r\n",
      "Processing dataset:  85%|██████████████████████████████████████████████████████▌         | 122/143 [07:00<01:13,  3.50s/it]"
     ]
    },
    {
     "name": "stderr",
     "output_type": "stream",
     "text": [
      "\r\n",
      "Processing dataset:  86%|███████████████████████████████████████████████████████         | 123/143 [07:03<01:03,  3.17s/it]"
     ]
    },
    {
     "name": "stderr",
     "output_type": "stream",
     "text": [
      "\r\n",
      "Processing dataset:  87%|███████████████████████████████████████████████████████▍        | 124/143 [07:05<00:56,  2.97s/it]"
     ]
    },
    {
     "name": "stderr",
     "output_type": "stream",
     "text": [
      "\r\n",
      "Processing dataset:  87%|███████████████████████████████████████████████████████▉        | 125/143 [07:08<00:49,  2.75s/it]"
     ]
    },
    {
     "name": "stderr",
     "output_type": "stream",
     "text": [
      "\r\n",
      "Processing dataset:  88%|████████████████████████████████████████████████████████▍       | 126/143 [07:15<01:08,  4.02s/it]"
     ]
    },
    {
     "name": "stderr",
     "output_type": "stream",
     "text": [
      "\r\n",
      "Processing dataset:  89%|████████████████████████████████████████████████████████▊       | 127/143 [07:20<01:10,  4.43s/it]"
     ]
    },
    {
     "name": "stderr",
     "output_type": "stream",
     "text": [
      "\r\n",
      "Processing dataset:  90%|█████████████████████████████████████████████████████████▎      | 128/143 [07:23<00:59,  3.95s/it]"
     ]
    },
    {
     "name": "stderr",
     "output_type": "stream",
     "text": [
      "\r\n",
      "Processing dataset:  90%|█████████████████████████████████████████████████████████▋      | 129/143 [07:25<00:48,  3.48s/it]"
     ]
    },
    {
     "name": "stderr",
     "output_type": "stream",
     "text": [
      "\r\n",
      "Processing dataset:  91%|██████████████████████████████████████████████████████████▏     | 130/143 [07:29<00:45,  3.51s/it]"
     ]
    },
    {
     "name": "stderr",
     "output_type": "stream",
     "text": [
      "\r\n",
      "Processing dataset:  92%|██████████████████████████████████████████████████████████▋     | 131/143 [07:31<00:37,  3.14s/it]"
     ]
    },
    {
     "name": "stderr",
     "output_type": "stream",
     "text": [
      "\r\n",
      "Processing dataset:  92%|███████████████████████████████████████████████████████████     | 132/143 [07:34<00:33,  3.01s/it]"
     ]
    },
    {
     "name": "stderr",
     "output_type": "stream",
     "text": [
      "\r\n",
      "Processing dataset:  93%|███████████████████████████████████████████████████████████▌    | 133/143 [07:42<00:44,  4.50s/it]"
     ]
    },
    {
     "name": "stderr",
     "output_type": "stream",
     "text": [
      "\r\n",
      "Processing dataset:  94%|███████████████████████████████████████████████████████████▉    | 134/143 [07:44<00:34,  3.80s/it]"
     ]
    },
    {
     "name": "stderr",
     "output_type": "stream",
     "text": [
      "\r\n",
      "Processing dataset:  94%|████████████████████████████████████████████████████████████▍   | 135/143 [07:47<00:29,  3.74s/it]"
     ]
    },
    {
     "name": "stderr",
     "output_type": "stream",
     "text": [
      "\r\n",
      "Processing dataset:  95%|████████████████████████████████████████████████████████████▊   | 136/143 [07:51<00:25,  3.68s/it]"
     ]
    },
    {
     "name": "stderr",
     "output_type": "stream",
     "text": [
      "\r\n",
      "Processing dataset:  96%|█████████████████████████████████████████████████████████████▎  | 137/143 [07:53<00:18,  3.13s/it]"
     ]
    },
    {
     "name": "stderr",
     "output_type": "stream",
     "text": [
      "\r\n",
      "Processing dataset:  97%|█████████████████████████████████████████████████████████████▊  | 138/143 [07:55<00:14,  2.91s/it]"
     ]
    },
    {
     "name": "stderr",
     "output_type": "stream",
     "text": [
      "\r\n",
      "Processing dataset:  97%|██████████████████████████████████████████████████████████████▏ | 139/143 [07:57<00:10,  2.56s/it]"
     ]
    },
    {
     "name": "stderr",
     "output_type": "stream",
     "text": [
      "\r\n",
      "Processing dataset:  98%|██████████████████████████████████████████████████████████████▋ | 140/143 [07:59<00:07,  2.34s/it]"
     ]
    },
    {
     "name": "stderr",
     "output_type": "stream",
     "text": [
      "\r\n",
      "Processing dataset:  99%|███████████████████████████████████████████████████████████████ | 141/143 [08:04<00:06,  3.17s/it]"
     ]
    },
    {
     "name": "stderr",
     "output_type": "stream",
     "text": [
      "\r\n",
      "Processing dataset:  99%|███████████████████████████████████████████████████████████████▌| 142/143 [08:06<00:02,  2.97s/it]"
     ]
    },
    {
     "name": "stderr",
     "output_type": "stream",
     "text": [
      "\r\n",
      "Processing dataset: 100%|████████████████████████████████████████████████████████████████| 143/143 [08:09<00:00,  2.88s/it]"
     ]
    },
    {
     "name": "stderr",
     "output_type": "stream",
     "text": [
      "\r\n",
      "Processing dataset: 100%|████████████████████████████████████████████████████████████████| 143/143 [08:09<00:00,  3.42s/it]"
     ]
    },
    {
     "name": "stderr",
     "output_type": "stream",
     "text": [
      "\n"
     ]
    }
   ],
   "source": [
    "import re\n",
    "from unsloth.chat_templates import get_chat_template\n",
    "from tqdm import tqdm  # Import tqdm for progress bar\n",
    "import pandas as pd\n",
    "\n",
    "def extract_llm_res(raw_llm):\n",
    "    # Regex pattern to extract the assistant's response after the \"Vulnerability Explanation\" section\n",
    "    pattern = r'\\[/INST](.*?)</s>'\n",
    "\n",
    "    match = re.search(pattern, raw_llm, re.DOTALL)\n",
    "\n",
    "    if match:\n",
    "        assistant_response = match.group(1).strip()\n",
    "        return assistant_response\n",
    "    else:\n",
    "        print(f\"No response found. Response: {raw_llm}\")\n",
    "\n",
    "# Initialize the result collection\n",
    "results = []\n",
    "\n",
    "# Iterate over the dataset with tqdm for progress bar\n",
    "for idx, example in tqdm(enumerate(test_dataset), total=len(test_dataset), desc=\"Processing dataset\"):\n",
    "    messages = example['conversations']  # Get the conversation for the current entry\n",
    "    \n",
    "    # Tokenize input\n",
    "    inputs = tokenizer.apply_chat_template(\n",
    "        messages,\n",
    "        tokenize=True,\n",
    "        add_generation_prompt=True,  # Must add for generation\n",
    "        return_tensors=\"pt\",\n",
    "    ).to(\"cuda\")\n",
    "\n",
    "    # Get LLM output\n",
    "    outputs = model.generate(input_ids=inputs, max_new_tokens=2048, use_cache=True, repetition_penalty=1.2,\n",
    "                                  temperature=0.1, min_p=0.1)\n",
    "    raw_out = tokenizer.batch_decode(outputs)[0]\n",
    "    \n",
    "    # Extract LLM response\n",
    "    llm_output = extract_llm_res(raw_out)\n",
    "    \n",
    "    # Get the ground truth for the current entry\n",
    "    ground_truth = example['vuln_explanation']\n",
    "    \n",
    "    results.append({\n",
    "        \"vuln_code\": example['vuln_code'],\n",
    "        \"ground_truth\": ground_truth,\n",
    "        \"llm_output\": llm_output\n",
    "    })\n",
    "\n",
    "# After the loop, you can convert the results list to a DataFrame or another suitable format if needed\n",
    "verification_results_df = pd.DataFrame(results)"
   ]
  },
  {
   "cell_type": "code",
   "execution_count": null,
   "id": "b3d0d445",
   "metadata": {
    "execution": {
     "iopub.execute_input": "2025-06-11T09:14:51.624454Z",
     "iopub.status.busy": "2025-06-11T09:14:51.624141Z",
     "iopub.status.idle": "2025-06-11T09:14:51.637874Z",
     "shell.execute_reply": "2025-06-11T09:14:51.637177Z"
    }
   },
   "outputs": [],
   "source": [
    "verification_results_df.to_csv(\"sft_codellama13b_recommendation.csv\")"
   ]
  }
 ],
 "metadata": {
  "kernelspec": {
   "display_name": "Python 3 (ipykernel)",
   "language": "python",
   "name": "python3"
  },
  "language_info": {
   "codemirror_mode": {
    "name": "ipython",
    "version": 3
   },
   "file_extension": ".py",
   "mimetype": "text/x-python",
   "name": "python",
   "nbconvert_exporter": "python",
   "pygments_lexer": "ipython3",
   "version": "3.10.12"
  }
 },
 "nbformat": 4,
 "nbformat_minor": 5
}
