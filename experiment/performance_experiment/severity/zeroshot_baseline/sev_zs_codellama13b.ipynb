{
 "cells": [
  {
   "cell_type": "code",
   "execution_count": null,
   "id": "36f2086f",
   "metadata": {},
   "outputs": [
    {
     "name": "stderr",
     "output_type": "stream",
     "text": [
      "/usr/local/lib/python3.10/dist-packages/torch/utils/_pytree.py:185: FutureWarning: optree is installed but the version is too old to support PyTorch Dynamo in C++ pytree. C++ pytree support is disabled. Please consider upgrading optree using `python3 -m pip install --upgrade 'optree>=0.13.0'`.\n",
      "  warnings.warn(\n"
     ]
    },
    {
     "name": "stdout",
     "output_type": "stream",
     "text": [
      "🦥 Unsloth: Will patch your computer to enable 2x faster free finetuning.\n"
     ]
    },
    {
     "name": "stderr",
     "output_type": "stream",
     "text": [
      "/usr/local/lib/python3.10/dist-packages/tqdm/auto.py:21: TqdmWarning: IProgress not found. Please update jupyter and ipywidgets. See https://ipywidgets.readthedocs.io/en/stable/user_install.html\n",
      "  from .autonotebook import tqdm as notebook_tqdm\n",
      "/usr/local/lib/python3.10/dist-packages/torch/utils/_pytree.py:185: FutureWarning: optree is installed but the version is too old to support PyTorch Dynamo in C++ pytree. C++ pytree support is disabled. Please consider upgrading optree using `python3 -m pip install --upgrade 'optree>=0.13.0'`.\n",
      "  warnings.warn(\n"
     ]
    },
    {
     "name": "stdout",
     "output_type": "stream",
     "text": [
      "🦥 Unsloth Zoo will now patch everything to make training faster!\n",
      "INFO 07-14 14:01:54 [importing.py:53] Triton module has been replaced with a placeholder.\n",
      "INFO 07-14 14:01:54 [__init__.py:239] Automatically detected platform cuda.\n"
     ]
    },
    {
     "name": "stderr",
     "output_type": "stream",
     "text": [
      "2025-07-14 14:01:56,048\tINFO util.py:154 -- Missing packages: ['ipywidgets']. Run `pip install -U ipywidgets`, then restart the notebook server for rich notebook output.\n"
     ]
    },
    {
     "name": "stdout",
     "output_type": "stream",
     "text": [
      "==((====))==  Unsloth 2025.5.3: Fast Llama patching. Transformers: 4.51.3. vLLM: 0.8.5.\n",
      "   \\\\   /|    Tesla V100-SXM2-32GB. Num GPUs = 1. Max memory: 31.749 GB. Platform: Linux.\n",
      "O^O/ \\_/ \\    Torch: 2.6.0+cu124. CUDA: 7.0. CUDA Toolkit: 12.4. Triton: 3.2.0\n",
      "\\        /    Bfloat16 = FALSE. FA [Xformers = 0.0.29.post2. FA2 = False]\n",
      " \"-____-\"     Free license: http://github.com/unslothai/unsloth\n",
      "Unsloth: Fast downloading is enabled - ignore downloading bars which are red colored!\n"
     ]
    },
    {
     "name": "stderr",
     "output_type": "stream",
     "text": [
      "Loading checkpoint shards: 100%|██████████| 3/3 [01:20<00:00, 26.97s/it]\n"
     ]
    },
    {
     "name": "stdout",
     "output_type": "stream",
     "text": [
      "codellama/CodeLlama-13b-Instruct-hf does not have a padding token! Will use pad_token = <unk>.\n"
     ]
    }
   ],
   "source": [
    "from unsloth import FastLanguageModel\n",
    "import torch\n",
    "max_seq_length = 16384\n",
    "dtype = None # None for auto detection. Float16 for Tesla T4, V100, Bfloat16 for Ampere+\n",
    "load_in_4bit = True # Use 4bit quantization to reduce memory usage. Can be False.\n",
    "\n",
    "model, tokenizer = FastLanguageModel.from_pretrained(\n",
    "    model_name = \"codellama/CodeLlama-13b-Instruct-hf\",\n",
    "    max_seq_length = max_seq_length,\n",
    "    dtype = dtype,\n",
    "    load_in_4bit = load_in_4bit,\n",
    ")"
   ]
  },
  {
   "cell_type": "code",
   "execution_count": null,
   "id": "b0c64da5",
   "metadata": {},
   "outputs": [
    {
     "name": "stderr",
     "output_type": "stream",
     "text": [
      "Generating train split: 662 examples [00:00, 20778.80 examples/s]\n",
      "Generating val split: 142 examples [00:00, 15244.99 examples/s]\n",
      "Generating test split: 143 examples [00:00, 16638.52 examples/s]\n",
      "Map: 100%|██████████| 662/662 [00:00<00:00, 5835.22 examples/s]\n",
      "Map: 100%|██████████| 142/142 [00:00<00:00, 5059.47 examples/s]\n",
      "Map: 100%|██████████| 143/143 [00:00<00:00, 5035.60 examples/s]\n"
     ]
    }
   ],
   "source": [
    "from datasets import load_dataset\n",
    "\n",
    "# Define the paths to your dataset files\n",
    "data_files = {\n",
    "    'train': 'severity_data_train.csv',\n",
    "    'val': 'severity_data_val.csv',\n",
    "    'test': 'severity_data_test.csv'\n",
    "}\n",
    "\n",
    "# Load the dataset\n",
    "dataset = load_dataset('csv', data_files=data_files)\n",
    "\n",
    "import random\n",
    "from datasets import concatenate_datasets, DatasetDict\n",
    "\n",
    "random.seed(42)\n",
    "\n",
    "SYSTEM_PROMPT = [\n",
    "    \"\"\"You are the smartest AI solidity smart contract security auditor in the world that only answer in one word between \"low\", \"medium\" or \"high\".\"\"\",\n",
    "]\n",
    "\n",
    "PROMPTS = [\n",
    "    \"\"\"You need to analyze the given vulnerability explanation and classify the severity of it as \"low\", \"medium\" or \"high\" based on the impact of that vulnerability. Dont give any additional explanations just give the label (low, medium or high).\n",
    "    \n",
    "    This is the vulnerability explanation we need to analyze:\n",
    "    {explanation}\n",
    "    \n",
    "Answer: \"\"\",\n",
    "]\n",
    "\n",
    "def make_conversational_vote(examples, system_prompt, prompt):\n",
    "    explanation = examples['vuln_explanation']\n",
    "    severity = examples['severity']\n",
    "    selected_system_prompt = system_prompt\n",
    "    selected_user_prompt = prompt\n",
    "    conversation = [{\"role\": \"system\", \"content\": selected_system_prompt}, \n",
    "                    {\"role\": \"user\", \"content\": selected_user_prompt.format(explanation=explanation)}]\n",
    "    \n",
    "    return { \"conversations\" : conversation, 'label': severity}\n",
    "\n",
    "# Generate 5 datasets using different prompts\n",
    "datasets = []\n",
    "for i in range(len(PROMPTS)):\n",
    "    new_dataset = dataset.map(lambda ex: make_conversational_vote(ex, SYSTEM_PROMPT[i], PROMPTS[i]))\n",
    "    new_dataset = new_dataset.remove_columns([\"file_name\", \"vuln_title\", \"vuln_recommendation\", \"vuln_code\"])\n",
    "    datasets.append(new_dataset)\n",
    "    \n",
    "test_dataset = datasets[0]['test']"
   ]
  },
  {
   "cell_type": "code",
   "execution_count": null,
   "id": "3ca21647",
   "metadata": {
    "scrolled": false
   },
   "outputs": [
    {
     "name": "stderr",
     "output_type": "stream",
     "text": [
      "Processing dataset:   0%|          | 0/143 [00:00<?, ?it/s]The attention mask is not set and cannot be inferred from input because pad token is same as eos token. As a consequence, you may observe unexpected behavior. Please pass your input's `attention_mask` to obtain reliable results.\n",
      "Processing dataset: 100%|██████████| 143/143 [00:58<00:00,  2.45it/s]\n"
     ]
    }
   ],
   "source": [
    "import re\n",
    "from unsloth.chat_templates import get_chat_template\n",
    "from tqdm import tqdm  # Import tqdm for progress bar\n",
    "import pandas as pd\n",
    "\n",
    "def extract_llm_res(raw_llm):\n",
    "    # Regex pattern to extract the assistant's response after the \"Vulnerability Explanation\" section\n",
    "    pattern = r'\\[/INST](.*?)</s>'\n",
    "\n",
    "    match = re.search(pattern, raw_llm, re.DOTALL)\n",
    "\n",
    "    if match:\n",
    "        assistant_response = match.group(1).strip()\n",
    "        return assistant_response\n",
    "    else:\n",
    "        print(f\"No response found. Response: {raw_llm}\")\n",
    "        return assistant_response\n",
    "\n",
    "# Set up the tokenizer and model for fast inference\n",
    "tokenizer = get_chat_template(\n",
    "    tokenizer,\n",
    "    chat_template=\"llama\",\n",
    ")\n",
    "FastLanguageModel.for_inference(model)  # Enable native 2x faster inference\n",
    "\n",
    "# Initialize the result collection\n",
    "results = []\n",
    "\n",
    "# Iterate over the dataset with tqdm for progress bar\n",
    "for idx, example in tqdm(enumerate(test_dataset), total=len(test_dataset), desc=\"Processing dataset\"):\n",
    "    messages = example['conversations']  # Get the conversation for the current entry\n",
    "    \n",
    "    # Tokenize input\n",
    "    inputs = tokenizer.apply_chat_template(\n",
    "        messages,\n",
    "        tokenize=True,\n",
    "        add_generation_prompt=True,  # Must add for generation\n",
    "        return_tensors=\"pt\",\n",
    "    ).to(\"cuda\")\n",
    "\n",
    "    # Get LLM output\n",
    "    outputs = model.generate(input_ids=inputs, max_new_tokens=16, use_cache=True,\n",
    "                             temperature=0.1, min_p=0.1)\n",
    "    raw_out = tokenizer.batch_decode(outputs)[0]\n",
    "    \n",
    "    # Extract LLM response\n",
    "    llm_output = extract_llm_res(raw_out)\n",
    "    \n",
    "    # Get the ground truth for the current entry\n",
    "    ground_truth = example['label']\n",
    "    \n",
    "    results.append({\n",
    "        \"vuln_explanation\": example['vuln_explanation'],\n",
    "        \"ground_truth\": ground_truth,\n",
    "        \"llm_output\": llm_output\n",
    "    })\n",
    "    \n",
    "# After the loop, you can convert the results list to a DataFrame or another suitable format if needed\n",
    "verification_results_df = pd.DataFrame(results)"
   ]
  },
  {
   "cell_type": "code",
   "execution_count": null,
   "id": "7c133587",
   "metadata": {},
   "outputs": [],
   "source": [
    "y_pred = verification_results_df['llm_output'].apply(str.lower)\n",
    "y_true = verification_results_df['ground_truth']"
   ]
  },
  {
   "cell_type": "code",
   "execution_count": 5,
   "id": "d8e79e77",
   "metadata": {},
   "outputs": [
    {
     "name": "stdout",
     "output_type": "stream",
     "text": [
      "              precision    recall  f1-score   support\n",
      "\n",
      "        high     0.3583    0.9556    0.5212        45\n",
      "         low     0.8000    0.1667    0.2759        24\n",
      "      medium     0.6667    0.1622    0.2609        74\n",
      "\n",
      "    accuracy                         0.4126       143\n",
      "   macro avg     0.6083    0.4281    0.3526       143\n",
      "weighted avg     0.5920    0.4126    0.3453       143\n",
      "\n"
     ]
    }
   ],
   "source": [
    "from sklearn.metrics import classification_report\n",
    "\n",
    "print(classification_report(y_true, y_pred, digits=4))"
   ]
  },
  {
   "cell_type": "code",
   "execution_count": 6,
   "id": "c961bbfb",
   "metadata": {},
   "outputs": [
    {
     "name": "stdout",
     "output_type": "stream",
     "text": [
      "              precision    recall  f1-score   support\n",
      "\n",
      "           0       0.36      0.96      0.52        45\n",
      "           1       0.80      0.17      0.28        24\n",
      "           2       0.67      0.16      0.26        74\n",
      "\n",
      "    accuracy                           0.41       143\n",
      "   macro avg       0.61      0.43      0.35       143\n",
      "weighted avg       0.59      0.41      0.35       143\n",
      "\n"
     ]
    },
    {
     "data": {
      "image/png": "[encoded data removed]",
      "text/plain": [
       "<Figure size 800x600 with 2 Axes>"
      ]
     },
     "metadata": {},
     "output_type": "display_data"
    }
   ],
   "source": [
    "import matplotlib.pyplot as plt\n",
    "import seaborn as sns\n",
    "from sklearn.metrics import confusion_matrix, classification_report\n",
    "from sklearn.preprocessing import LabelEncoder\n",
    "\n",
    "# Assuming y_true and y_pred_new are already defined\n",
    "# Encode labels\n",
    "label_encoder = LabelEncoder()\n",
    "y_true_encoded = label_encoder.fit_transform(y_true)\n",
    "y_pred_new_encoded = label_encoder.transform(y_pred)\n",
    "\n",
    "# Print classification report\n",
    "print(classification_report(y_true_encoded, y_pred_new_encoded))\n",
    "\n",
    "# Generate confusion matrix\n",
    "cm = confusion_matrix(y_true_encoded, y_pred_new_encoded)\n",
    "\n",
    "# Create a heatmap for the confusion matrix\n",
    "plt.figure(figsize=(8, 6))\n",
    "sns.heatmap(cm, annot=True, fmt=\"d\", cmap=\"Blues\", xticklabels=label_encoder.classes_, yticklabels=label_encoder.classes_)\n",
    "plt.xlabel('Predicted')\n",
    "plt.ylabel('True')\n",
    "plt.title('Confusion Matrix')\n",
    "plt.show()"
   ]
  },
  {
   "cell_type": "code",
   "execution_count": null,
   "id": "3634a3ba",
   "metadata": {},
   "outputs": [],
   "source": []
  }
 ],
 "metadata": {
  "kernelspec": {
   "display_name": "Python 3 (ipykernel)",
   "language": "python",
   "name": "python3"
  },
  "language_info": {
   "codemirror_mode": {
    "name": "ipython",
    "version": 3
   },
   "file_extension": ".py",
   "mimetype": "text/x-python",
   "name": "python",
   "nbconvert_exporter": "python",
   "pygments_lexer": "ipython3",
   "version": "3.10.12"
  }
 },
 "nbformat": 4,
 "nbformat_minor": 5
}
