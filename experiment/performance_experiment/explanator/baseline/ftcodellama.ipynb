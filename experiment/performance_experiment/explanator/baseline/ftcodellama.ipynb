{
 "cells": [
  {
   "cell_type": "code",
   "execution_count": 4,
   "id": "3e7da50d",
   "metadata": {
    "execution": {
     "iopub.execute_input": "2025-06-11T05:42:16.482692Z",
     "iopub.status.busy": "2025-06-11T05:42:16.482438Z",
     "iopub.status.idle": "2025-06-11T05:43:08.295960Z",
     "shell.execute_reply": "2025-06-11T05:43:08.295061Z"
    }
   },
   "outputs": [
    {
     "name": "stderr",
     "output_type": "stream",
     "text": [
      "/usr/local/lib/python3.10/dist-packages/torch/utils/_pytree.py:185: FutureWarning: optree is installed but the version is too old to support PyTorch Dynamo in C++ pytree. C++ pytree support is disabled. Please consider upgrading optree using `python3 -m pip install --upgrade 'optree>=0.13.0'`.\n",
      "  warnings.warn(\n"
     ]
    },
    {
     "name": "stdout",
     "output_type": "stream",
     "text": [
      "🦥 Unsloth: Will patch your computer to enable 2x faster free finetuning.\n"
     ]
    },
    {
     "name": "stderr",
     "output_type": "stream",
     "text": [
      "/usr/local/lib/python3.10/dist-packages/tqdm/auto.py:21: TqdmWarning: IProgress not found. Please update jupyter and ipywidgets. See https://ipywidgets.readthedocs.io/en/stable/user_install.html\n",
      "  from .autonotebook import tqdm as notebook_tqdm\n"
     ]
    },
    {
     "name": "stdout",
     "output_type": "stream",
     "text": [
      "🦥 Unsloth Zoo will now patch everything to make training faster!\n"
     ]
    },
    {
     "name": "stderr",
     "output_type": "stream",
     "text": [
      "/usr/local/lib/python3.10/dist-packages/torch/utils/_pytree.py:185: FutureWarning: optree is installed but the version is too old to support PyTorch Dynamo in C++ pytree. C++ pytree support is disabled. Please consider upgrading optree using `python3 -m pip install --upgrade 'optree>=0.13.0'`.\n",
      "  warnings.warn(\n"
     ]
    },
    {
     "name": "stdout",
     "output_type": "stream",
     "text": [
      "INFO 06-11 05:42:25 [importing.py:53] Triton module has been replaced with a placeholder.\n"
     ]
    },
    {
     "name": "stdout",
     "output_type": "stream",
     "text": [
      "INFO 06-11 05:42:25 [__init__.py:239] Automatically detected platform cuda.\n"
     ]
    },
    {
     "name": "stderr",
     "output_type": "stream",
     "text": [
      "2025-06-11 05:42:27,309\tINFO util.py:154 -- Missing packages: ['ipywidgets']. Run `pip install -U ipywidgets`, then restart the notebook server for rich notebook output.\n"
     ]
    },
    {
     "name": "stdout",
     "output_type": "stream",
     "text": [
      "==((====))==  Unsloth 2025.5.3: Fast Llama patching. Transformers: 4.51.3. vLLM: 0.8.5.\n",
      "   \\\\   /|    Tesla V100-SXM2-32GB. Num GPUs = 1. Max memory: 31.749 GB. Platform: Linux.\n",
      "O^O/ \\_/ \\    Torch: 2.6.0+cu124. CUDA: 7.0. CUDA Toolkit: 12.4. Triton: 3.2.0\n",
      "\\        /    Bfloat16 = FALSE. FA [Xformers = 0.0.29.post2. FA2 = False]\n",
      " \"-____-\"     Free license: http://github.com/unslothai/unsloth\n",
      "Unsloth: Fast downloading is enabled - ignore downloading bars which are red colored!\n"
     ]
    },
    {
     "name": "stderr",
     "output_type": "stream",
     "text": [
      "\r\n",
      "Loading checkpoint shards:   0%|                                                                     | 0/3 [00:00<?, ?it/s]"
     ]
    },
    {
     "name": "stderr",
     "output_type": "stream",
     "text": [
      "\r\n",
      "Loading checkpoint shards:  33%|████████████████████▎                                        | 1/3 [00:10<00:20, 10.41s/it]"
     ]
    },
    {
     "name": "stderr",
     "output_type": "stream",
     "text": [
      "\r\n",
      "Loading checkpoint shards:  67%|████████████████████████████████████████▋                    | 2/3 [00:21<00:10, 10.52s/it]"
     ]
    },
    {
     "name": "stderr",
     "output_type": "stream",
     "text": [
      "\r\n",
      "Loading checkpoint shards: 100%|█████████████████████████████████████████████████████████████| 3/3 [00:27<00:00,  8.59s/it]"
     ]
    },
    {
     "name": "stderr",
     "output_type": "stream",
     "text": [
      "\r\n",
      "Loading checkpoint shards: 100%|█████████████████████████████████████████████████████████████| 3/3 [00:27<00:00,  9.10s/it]"
     ]
    },
    {
     "name": "stderr",
     "output_type": "stream",
     "text": [
      "\n"
     ]
    },
    {
     "name": "stdout",
     "output_type": "stream",
     "text": [
      "codellama/CodeLlama-13b-Instruct-hf does not have a padding token! Will use pad_token = <unk>.\n"
     ]
    }
   ],
   "source": [
    "from unsloth import FastLanguageModel\n",
    "import torch\n",
    "max_seq_length = 16384 # Choose any! We auto support RoPE Scaling internally!\n",
    "dtype = None # None for auto detection. Float16 for Tesla T4, V100, Bfloat16 for Ampere+\n",
    "load_in_4bit = True # Use 4bit quantization to reduce memory usage. Can be False.\n",
    "\n",
    "model, tokenizer = FastLanguageModel.from_pretrained(\n",
    "    model_name = \"codellama/CodeLlama-13b-Instruct-hf\",\n",
    "    max_seq_length = max_seq_length,\n",
    "    dtype = dtype,\n",
    "    load_in_4bit = load_in_4bit,\n",
    ")"
   ]
  },
  {
   "cell_type": "code",
   "execution_count": 5,
   "id": "310a1e4a",
   "metadata": {
    "execution": {
     "iopub.execute_input": "2025-06-11T05:43:08.300156Z",
     "iopub.status.busy": "2025-06-11T05:43:08.299592Z",
     "iopub.status.idle": "2025-06-11T05:43:13.365532Z",
     "shell.execute_reply": "2025-06-11T05:43:13.364677Z"
    }
   },
   "outputs": [
    {
     "name": "stderr",
     "output_type": "stream",
     "text": [
      "Unsloth 2025.5.3 patched 40 layers with 40 QKV layers, 40 O layers and 40 MLP layers.\n"
     ]
    }
   ],
   "source": [
    "lora_rank = 16\n",
    "\n",
    "model = FastLanguageModel.get_peft_model(\n",
    "    model,\n",
    "    r = lora_rank, # Choose any number > 0 ! Suggested 8, 16, 32, 64, 128\n",
    "    target_modules = [\"q_proj\", \"k_proj\", \"v_proj\", \"o_proj\",\n",
    "                      \"gate_proj\", \"up_proj\", \"down_proj\",],\n",
    "    lora_alpha = lora_rank,\n",
    "    lora_dropout = 0, # Supports any, but = 0 is optimized\n",
    "    bias = \"none\",    # Supports any, but = \"none\" is optimized\n",
    "    # [NEW] \"unsloth\" uses 30% less VRAM, fits 2x larger batch sizes!\n",
    "    use_gradient_checkpointing = \"unsloth\", # True or \"unsloth\" for very long context\n",
    "    random_state = 42,\n",
    "    use_rslora = False,  # We support rank stabilized LoRA\n",
    "    loftq_config = None, # And LoftQ\n",
    ")"
   ]
  },
  {
   "cell_type": "code",
   "execution_count": null,
   "id": "d8032f77",
   "metadata": {
    "execution": {
     "iopub.execute_input": "2025-06-11T05:43:13.369422Z",
     "iopub.status.busy": "2025-06-11T05:43:13.369130Z",
     "iopub.status.idle": "2025-06-11T05:43:14.275900Z",
     "shell.execute_reply": "2025-06-11T05:43:14.274862Z"
    }
   },
   "outputs": [],
   "source": [
    "from datasets import load_dataset\n",
    "\n",
    "# Define the paths to your dataset files\n",
    "data_files = {\n",
    "    'train': 'vuln_data_train.csv',\n",
    "    'val': 'vuln_data_val.csv',\n",
    "    'test': 'vuln_data_test.csv'\n",
    "}\n",
    "\n",
    "# Load the dataset\n",
    "dataset = load_dataset('csv', data_files=data_files)"
   ]
  },
  {
   "cell_type": "code",
   "execution_count": null,
   "id": "c2cdeb94",
   "metadata": {
    "execution": {
     "iopub.execute_input": "2025-06-11T05:43:14.279704Z",
     "iopub.status.busy": "2025-06-11T05:43:14.279413Z",
     "iopub.status.idle": "2025-06-11T05:43:14.302114Z",
     "shell.execute_reply": "2025-06-11T05:43:14.301381Z"
    }
   },
   "outputs": [],
   "source": [
    "import random\n",
    "\n",
    "random.seed(42)\n",
    "\n",
    "SYSTEM_PROMPT = [\n",
    "    \"\"\"You are the smartest AI solidity smart contract security auditor in the world.\"\"\",\n",
    "]\n",
    "\n",
    "PROMPTS = [\n",
    "    \"\"\"The given Solidity function is vulnerable. Review the code and analyze its security flaws.\n",
    "    \n",
    "    This is the function we need to audit:\n",
    "    ```solidity\n",
    "    {code}\n",
    "    ```\n",
    "    \n",
    "Vulnerability : \"\"\",\n",
    "]\n",
    "\n",
    "\n",
    "def make_conversational(examples):\n",
    "    code = examples['vuln_code']\n",
    "    desc = examples['vuln_explanation']\n",
    "    assistant_prompt = f\"\"\"{desc}\"\"\"\n",
    "    selected_system_prompt = random.choice(SYSTEM_PROMPT)\n",
    "    selected_user_prompt = random.choice(PROMPTS) \n",
    "    conversation = [{\"role\": \"system\", \"content\": selected_system_prompt}, \n",
    "                    {\"role\": \"user\", \"content\": selected_user_prompt.format(code=code)},\n",
    "                    {\"role\": \"assistant\", \"content\": assistant_prompt}]\n",
    "    return { \"conversations\" : conversation, }\n",
    "\n",
    "dataset = dataset.map(make_conversational)\n",
    "dataset = dataset.remove_columns([\"vuln_title\", \"vuln_explanation\", \"severity\", \"vuln_recommendation\"])"
   ]
  },
  {
   "cell_type": "code",
   "execution_count": 8,
   "id": "0f4d965d",
   "metadata": {
    "execution": {
     "iopub.execute_input": "2025-06-11T05:43:14.305039Z",
     "iopub.status.busy": "2025-06-11T05:43:14.304809Z",
     "iopub.status.idle": "2025-06-11T05:43:14.439787Z",
     "shell.execute_reply": "2025-06-11T05:43:14.438931Z"
    }
   },
   "outputs": [],
   "source": [
    "from unsloth.chat_templates import get_chat_template\n",
    "\n",
    "tokenizer = get_chat_template(\n",
    "    tokenizer,\n",
    "    chat_template = \"llama\",\n",
    ")\n",
    "\n",
    "def formatting_prompts_func(examples):\n",
    "    convos = examples[\"conversations\"]\n",
    "    texts = [tokenizer.apply_chat_template(convo, tokenize = False, add_generation_prompt = False) for convo in convos]\n",
    "    return { \"text\" : texts, }\n",
    "\n",
    "dataset = dataset.map(formatting_prompts_func, batched = True,)"
   ]
  },
  {
   "cell_type": "code",
   "execution_count": 9,
   "id": "a9296bdb",
   "metadata": {
    "execution": {
     "iopub.execute_input": "2025-06-11T05:43:14.442811Z",
     "iopub.status.busy": "2025-06-11T05:43:14.442573Z",
     "iopub.status.idle": "2025-06-11T05:43:14.451091Z",
     "shell.execute_reply": "2025-06-11T05:43:14.450352Z"
    }
   },
   "outputs": [
    {
     "data": {
      "text/plain": [
       "[{'content': 'You are the smartest AI solidity smart contract security auditor in the world.',\n",
       "  'role': 'system'},\n",
       " {'content': 'The given Solidity function is vulnerable. Review the code and analyze its security flaws.\\n    \\n    This is the function we need to audit:\\n    ```solidity\\n    function withdraw(uint256 _pid, uint256 _amount) external nonReentrant {\\n        WithdrawRequest memory request = withdrawRequest[_pid][msg.sender];\\n        require(request.epoch < currentEpoch() && deposits[_pid][msg.sender].epoch + 1 < currentEpoch(), \"wait\");\\n        require(request.amount >= _amount, \"too much\");\\n        _checkpoint(_pid, msg.sender);\\n        deposits[_pid][msg.sender].amount -= uint192(_amount);\\n        if (_amount > 0) {\\n            IRewardStaking(convexPool[_pid]).withdrawAndUnwrap(_amount, false);\\n            IERC20 lpToken = IERC20(\\n                IRewardStaking(convexPool[_pid]).poolInfo(_pid).lptoken\\n            );\\n            lpToken.safeTransfer(msg.sender, _amount);\\n            uint256 pid = masterChef.pid(address(lpToken));\\n            masterChef.withdraw(msg.sender, pid, _amount);\\n        }\\n        delete withdrawRequest[_pid][msg.sender];\\n        //events\\n        emit Withdrawn(msg.sender, _amount);\\n    }\\n    ```\\n    \\nVulnerability : ',\n",
       "  'role': 'user'},\n",
       " {'content': \"The shelter mechanism provides emergency functionality in an effort to protect users' funds. The `enterShelter` function will withdraw all LP tokens from the pool, transfer them to the shelter contract and activate the shelter for the target LP token. Conversely, the `exitShelter` function will deactivate the shelter and transfer all LP tokens back to the `ConvexStakingWrapper.sol` contract.\\n\\nUnfortunately, LP tokens aren't restaked in the pool, causing LP tokens to be stuck within the contract. Users will be unable to withdraw their LP tokens as the `withdraw` function attempts to `withdrawAndUnwrap` LP tokens from the staking pool. As a result, this function will always revert due to insufficient staked balance. If other users decide to deposit their LP tokens, then these tokens can be swiped by users who have had their LP tokens locked in the contract.\\n\\nThis guarantees poor UX for the protocol and will most definitely lead to LP token loss.\",\n",
       "  'role': 'assistant'}]"
      ]
     },
     "execution_count": 9,
     "metadata": {},
     "output_type": "execute_result"
    }
   ],
   "source": [
    "dataset['train'][5][\"conversations\"]"
   ]
  },
  {
   "cell_type": "code",
   "execution_count": 10,
   "id": "3bae3486",
   "metadata": {
    "execution": {
     "iopub.execute_input": "2025-06-11T05:43:14.454006Z",
     "iopub.status.busy": "2025-06-11T05:43:14.453760Z",
     "iopub.status.idle": "2025-06-11T05:43:14.458950Z",
     "shell.execute_reply": "2025-06-11T05:43:14.458178Z"
    }
   },
   "outputs": [
    {
     "data": {
      "text/plain": [
       "'<s>[INST] <<SYS>>\\nYou are the smartest AI solidity smart contract security auditor in the world.\\n<</SYS>>\\n\\nThe given Solidity function is vulnerable. Review the code and analyze its security flaws.\\n    \\n    This is the function we need to audit:\\n    ```solidity\\n    function withdraw(uint256 _pid, uint256 _amount) external nonReentrant {\\n        WithdrawRequest memory request = withdrawRequest[_pid][msg.sender];\\n        require(request.epoch < currentEpoch() && deposits[_pid][msg.sender].epoch + 1 < currentEpoch(), \"wait\");\\n        require(request.amount >= _amount, \"too much\");\\n        _checkpoint(_pid, msg.sender);\\n        deposits[_pid][msg.sender].amount -= uint192(_amount);\\n        if (_amount > 0) {\\n            IRewardStaking(convexPool[_pid]).withdrawAndUnwrap(_amount, false);\\n            IERC20 lpToken = IERC20(\\n                IRewardStaking(convexPool[_pid]).poolInfo(_pid).lptoken\\n            );\\n            lpToken.safeTransfer(msg.sender, _amount);\\n            uint256 pid = masterChef.pid(address(lpToken));\\n            masterChef.withdraw(msg.sender, pid, _amount);\\n        }\\n        delete withdrawRequest[_pid][msg.sender];\\n        //events\\n        emit Withdrawn(msg.sender, _amount);\\n    }\\n    ```\\n    \\nVulnerability :  [/INST] The shelter mechanism provides emergency functionality in an effort to protect users\\' funds. The `enterShelter` function will withdraw all LP tokens from the pool, transfer them to the shelter contract and activate the shelter for the target LP token. Conversely, the `exitShelter` function will deactivate the shelter and transfer all LP tokens back to the `ConvexStakingWrapper.sol` contract.\\n\\nUnfortunately, LP tokens aren\\'t restaked in the pool, causing LP tokens to be stuck within the contract. Users will be unable to withdraw their LP tokens as the `withdraw` function attempts to `withdrawAndUnwrap` LP tokens from the staking pool. As a result, this function will always revert due to insufficient staked balance. If other users decide to deposit their LP tokens, then these tokens can be swiped by users who have had their LP tokens locked in the contract.\\n\\nThis guarantees poor UX for the protocol and will most definitely lead to LP token loss. </s>'"
      ]
     },
     "execution_count": 10,
     "metadata": {},
     "output_type": "execute_result"
    }
   ],
   "source": [
    "dataset['train'][5][\"text\"]"
   ]
  },
  {
   "cell_type": "code",
   "execution_count": 11,
   "id": "110c526a",
   "metadata": {
    "execution": {
     "iopub.execute_input": "2025-06-11T05:43:14.462005Z",
     "iopub.status.busy": "2025-06-11T05:43:14.461775Z",
     "iopub.status.idle": "2025-06-11T05:43:14.521412Z",
     "shell.execute_reply": "2025-06-11T05:43:14.520644Z"
    }
   },
   "outputs": [
    {
     "name": "stdout",
     "output_type": "stream",
     "text": [
      "Train Max Length =  1438\n"
     ]
    }
   ],
   "source": [
    "tokenized = dataset['train'].map(\n",
    "    lambda x: {\"tokens\" : tokenizer.apply_chat_template(x[\"conversations\"], add_generation_prompt = True, tokenize = True)},\n",
    "    batched = True,\n",
    ")\n",
    "# print(tokenizer.decode(tokenized[0][\"tokens\"]))\n",
    "tokenized = tokenized.map(lambda x: {\"L\" : len(x[\"tokens\"])})\n",
    "\n",
    "import numpy as np\n",
    "maximum_length = int(np.quantile(tokenized[\"L\"], 0.9))\n",
    "print(\"Train Max Length = \", maximum_length)\n",
    "\n",
    "# Filter only samples smaller than 90% max length\n",
    "dataset['train'] = dataset['train'].select(np.where(np.array(tokenized[\"L\"]) <= maximum_length)[0])\n",
    "del tokenized"
   ]
  },
  {
   "cell_type": "code",
   "execution_count": 12,
   "id": "8db16331",
   "metadata": {
    "execution": {
     "iopub.execute_input": "2025-06-11T05:43:14.525138Z",
     "iopub.status.busy": "2025-06-11T05:43:14.524782Z",
     "iopub.status.idle": "2025-06-11T05:43:14.589377Z",
     "shell.execute_reply": "2025-06-11T05:43:14.588311Z"
    }
   },
   "outputs": [
    {
     "name": "stdout",
     "output_type": "stream",
     "text": [
      "Val Max Length =  1519\n"
     ]
    }
   ],
   "source": [
    "tokenized = dataset['val'].map(\n",
    "    lambda x: {\"tokens\" : tokenizer.apply_chat_template(x[\"conversations\"], add_generation_prompt = True, tokenize = True)},\n",
    "    batched = True,\n",
    ")\n",
    "tokenized = tokenized.map(lambda x: {\"L\" : len(x[\"tokens\"])})\n",
    "\n",
    "import numpy as np\n",
    "maximum_length = int(np.quantile(tokenized[\"L\"], 0.9))\n",
    "print(\"Val Max Length = \", maximum_length)\n",
    "\n",
    "# Filter only samples smaller than 90% max length\n",
    "dataset['val'] = dataset['val'].select(np.where(np.array(tokenized[\"L\"]) <= maximum_length)[0])\n",
    "del tokenized"
   ]
  },
  {
   "cell_type": "code",
   "execution_count": null,
   "id": "38290189",
   "metadata": {
    "execution": {
     "iopub.execute_input": "2025-06-11T05:43:14.593080Z",
     "iopub.status.busy": "2025-06-11T05:43:14.592810Z",
     "iopub.status.idle": "2025-06-11T05:43:14.911765Z",
     "shell.execute_reply": "2025-06-11T05:43:14.910881Z"
    }
   },
   "outputs": [
    {
     "name": "stderr",
     "output_type": "stream",
     "text": [
      "Detected kernel version 4.15.0, which is below the recommended minimum of 5.5.0; this can cause the process to hang. It is recommended to upgrade the kernel to the minimum version or higher.\n"
     ]
    }
   ],
   "source": [
    "from trl import SFTTrainer\n",
    "from transformers import TrainingArguments, DataCollatorForSeq2Seq\n",
    "from unsloth import is_bfloat16_supported\n",
    "\n",
    "train_dataset = dataset['train']\n",
    "val_dataset = dataset['val']\n",
    "\n",
    "trainer = SFTTrainer(\n",
    "    model = model,\n",
    "    tokenizer = tokenizer,\n",
    "    train_dataset = train_dataset,\n",
    "    eval_dataset = val_dataset,\n",
    "    dataset_text_field = \"text\",\n",
    "    max_seq_length = max_seq_length,\n",
    "    data_collator = DataCollatorForSeq2Seq(tokenizer = tokenizer),\n",
    "    dataset_num_proc = 4,\n",
    "    packing = False, \n",
    "    args = TrainingArguments(\n",
    "        eval_strategy=\"steps\",\n",
    "        eval_steps=500,\n",
    "        per_device_train_batch_size = 1,\n",
    "        gradient_accumulation_steps = 1, \n",
    "        warmup_ratio = 0.1,\n",
    "        num_train_epochs = 5, \n",
    "        learning_rate = 2e-5,\n",
    "        fp16 = not is_bfloat16_supported(),\n",
    "        bf16 = is_bfloat16_supported(),\n",
    "        logging_steps = 1,\n",
    "        optim = \"adamw_8bit\", \n",
    "        weight_decay = 0.01,\n",
    "        lr_scheduler_type = \"cosine\",\n",
    "        seed = 3407,\n",
    "        load_best_model_at_end=True,\n",
    "        output_dir = \"outputs_vuln_exp_codellama\",\n",
    "        report_to = \"none\", \n",
    "    ),\n",
    ")"
   ]
  },
  {
   "cell_type": "code",
   "execution_count": 14,
   "id": "3275a622",
   "metadata": {
    "execution": {
     "iopub.execute_input": "2025-06-11T05:43:14.915435Z",
     "iopub.status.busy": "2025-06-11T05:43:14.915147Z",
     "iopub.status.idle": "2025-06-11T05:43:15.986113Z",
     "shell.execute_reply": "2025-06-11T05:43:15.985180Z"
    }
   },
   "outputs": [],
   "source": [
    "from unsloth.chat_templates import train_on_responses_only\n",
    "trainer = train_on_responses_only(\n",
    "    trainer,\n",
    "    instruction_part = \"<</SYS>>\\n\\n\",\n",
    "    response_part = \"[/INST]\",\n",
    ")"
   ]
  },
  {
   "cell_type": "code",
   "execution_count": 15,
   "id": "2775098d",
   "metadata": {
    "execution": {
     "iopub.execute_input": "2025-06-11T05:43:15.990042Z",
     "iopub.status.busy": "2025-06-11T05:43:15.989753Z",
     "iopub.status.idle": "2025-06-11T05:43:15.999722Z",
     "shell.execute_reply": "2025-06-11T05:43:15.998984Z"
    }
   },
   "outputs": [
    {
     "data": {
      "text/plain": [
       "'<s><s> [INST] <<SYS>>\\nYou are the smartest AI solidity smart contract security auditor in the world.\\n<</SYS>>\\n\\nThe given Solidity function is vulnerable. Review the code and analyze its security flaws.\\n    \\n    This is the function we need to audit:\\n    ```solidity\\n    function calculateSlippage(\\n        uint256 unitsSold, //10^18\\n        uint256 maxSlippage, //10^18\\n        uint256 avgPrice, //10^18\\n        LiquidationReceipt memory receipt\\n    ) internal pure returns (uint256) {\\n        // Check price slippage and update account states\\n        if (\\n            avgPrice == receipt.price || // No price change\\n            (avgPrice < receipt.price && receipt.liquidationSide == Perpetuals.Side.Short) || // Price dropped, but position is short\\n            (avgPrice > receipt.price && receipt.liquidationSide == Perpetuals.Side.Long) // Price jumped, but position is long\\n        ) {\\n            // No slippage\\n            return 0;\\n        } else {\\n            // Liquidator took a long position, and price dropped\\n            uint256 amountSoldFor = PRBMathUD60x18.mul(avgPrice, unitsSold);\\n            uint256 amountExpectedFor = PRBMathUD60x18.mul(receipt.price, unitsSold);\\n\\n            // The difference in how much was expected vs how much liquidator actually got.\\n            // i.e. The amount lost by liquidator\\n            uint256 amountToReturn = 0;\\n            uint256 percentSlippage = 0;\\n            if (avgPrice < receipt.price && receipt.liquidationSide == Perpetuals.Side.Long) {\\n                amountToReturn = amountExpectedFor - amountSoldFor;\\n            } else if (avgPrice > receipt.price && receipt.liquidationSide == Perpetuals.Side.Short) {\\n                amountToReturn = amountSoldFor - amountExpectedFor;\\n            }\\n            if (amountToReturn <= 0) {\\n                return 0;\\n            }\\n\\n            // slippage percent = slippage / total amount\\n            percentSlippage = PRBMathUD60x18.div(amountToReturn, amountExpectedFor);\\n\\n            if (percentSlippage > maxSlippage) {\\n                amountToReturn = PRBMathUD60x18.mul(maxSlippage, amountExpectedFor);\\n            }\\n            return amountToReturn;\\n        }\\n    }\\n    ```\\n    \\nVulnerability :  [/INST] In function `calculateSlippage` of `LibLiquidation.sol`, the value of `amountToReturn` is calculated by subtracting to numbers. Later on it is checked to see if this value is negative. However, `amountToReturn` is an unsigned integer so it can never be negative. If a negative number would be attempted to be assigned, the code will revert, because solidity 0.8 checks for this. See `LibLiquidation.sol` L106.\\n\\n```solidity\\nfunction calculateSlippage(\\n...\\n    uint256 amountToReturn = 0;\\n    uint256 percentSlippage = 0;\\n    if (avgPrice < receipt.price && receipt.liquidationSide == Perpetuals.Side.Long) {\\n        amountToReturn = amountExpectedFor - amountSoldFor;\\n    } else if (avgPrice > receipt.price && receipt.liquidationSide == Perpetuals.Side.Short) {\\n        amountToReturn = amountSoldFor - amountExpectedFor;\\n    }\\n    if (amountToReturn <= 0) {    // can never be smaller than 0, because `amountToReturn` is uint256\\n        return 0;\\n    }\\n``` </s>'"
      ]
     },
     "execution_count": 15,
     "metadata": {},
     "output_type": "execute_result"
    }
   ],
   "source": [
    "tokenizer.decode(trainer.train_dataset[5][\"input_ids\"])"
   ]
  },
  {
   "cell_type": "code",
   "execution_count": 16,
   "id": "856aa8d8",
   "metadata": {
    "execution": {
     "iopub.execute_input": "2025-06-11T05:43:16.002797Z",
     "iopub.status.busy": "2025-06-11T05:43:16.002508Z",
     "iopub.status.idle": "2025-06-11T05:43:16.012612Z",
     "shell.execute_reply": "2025-06-11T05:43:16.011887Z"
    }
   },
   "outputs": [
    {
     "data": {
      "text/plain": [
       "'                                                                                                                                                                                                                                                                                                                                                                                                                                                                                                                                                                                                                                                                                                                                                                                                                                                                                                                                                                                                                                                                                                                                                                                                                                                                                                                                                                                  In function `calculateSlippage` of `LibLiquidation.sol`, the value of `amountToReturn` is calculated by subtracting to numbers. Later on it is checked to see if this value is negative. However, `amountToReturn` is an unsigned integer so it can never be negative. If a negative number would be attempted to be assigned, the code will revert, because solidity 0.8 checks for this. See `LibLiquidation.sol` L106.\\n\\n```solidity\\nfunction calculateSlippage(\\n...\\n    uint256 amountToReturn = 0;\\n    uint256 percentSlippage = 0;\\n    if (avgPrice < receipt.price && receipt.liquidationSide == Perpetuals.Side.Long) {\\n        amountToReturn = amountExpectedFor - amountSoldFor;\\n    } else if (avgPrice > receipt.price && receipt.liquidationSide == Perpetuals.Side.Short) {\\n        amountToReturn = amountSoldFor - amountExpectedFor;\\n    }\\n    if (amountToReturn <= 0) {    // can never be smaller than 0, because `amountToReturn` is uint256\\n        return 0;\\n    }\\n``` </s>'"
      ]
     },
     "execution_count": 16,
     "metadata": {},
     "output_type": "execute_result"
    }
   ],
   "source": [
    "space = tokenizer(\" \", add_special_tokens = False).input_ids[0]\n",
    "tokenizer.decode([space if x == -100 else x for x in trainer.train_dataset[5][\"labels\"]])"
   ]
  },
  {
   "cell_type": "code",
   "execution_count": 17,
   "id": "c275ec8e",
   "metadata": {
    "execution": {
     "iopub.execute_input": "2025-06-11T05:43:16.015746Z",
     "iopub.status.busy": "2025-06-11T05:43:16.015454Z",
     "iopub.status.idle": "2025-06-11T05:43:16.023960Z",
     "shell.execute_reply": "2025-06-11T05:43:16.023197Z"
    }
   },
   "outputs": [
    {
     "data": {
      "text/plain": [
       "\"<s><s> [INST] <<SYS>>\\nYou are the smartest AI solidity smart contract security auditor in the world.\\n<</SYS>>\\n\\nThe given Solidity function is vulnerable. Review the code and analyze its security flaws.\\n    \\n    This is the function we need to audit:\\n    ```solidity\\n    function pay(\\n        uint256 maturity,\\n        address to,\\n        address owner,\\n        uint256[] memory ids,\\n        uint112[] memory assetsIn,\\n        uint112[] memory collateralsOut,\\n        bytes calldata data\\n    ) external override lock returns (uint128 assetIn, uint128 collateralOut) {\\n        require(block.timestamp < maturity, 'E202');\\n        require(ids.length == assetsIn.length && ids.length == collateralsOut.length, 'E205');\\n        require(to != address(0), 'E201');\\n        require(to != address(this), 'E204');\\n\\n        Pool storage pool = pools[maturity];\\n\\n        Due[] storage dues = pool.dues[owner];\\n\\n        for (uint256 i; i < ids.length; i++) {\\n            Due storage due = dues[ids[i]];\\n            require(due.startBlock != BlockNumber.get(), 'E207');\\n            if (owner != msg.sender) require(collateralsOut[i] == 0, 'E213');\\n            PayMath.checkProportional(assetsIn[i], collateralsOut[i], due);\\n            due.debt -= assetsIn[i];\\n            due.collateral -= collateralsOut[i];\\n            assetIn += assetsIn[i];\\n            collateralOut += collateralsOut[i];\\n        }\\n        if (assetIn > 0) Callback.pay(asset, assetIn, data);\\n\\n        pool.state.reserves.asset += assetIn;\\n        pool.state.reserves.collateral -= collateralOut;\\n\\n        if (collateralOut > 0) collateral.safeTransfer(to, collateralOut);\\n\\n        emit Pay(maturity, msg.sender, to, owner, ids, assetsIn, collateralsOut, assetIn, collateralOut);\\n    }\\n    ```\\n    \\nVulnerability :  [/INST] in the `pay()` function users repay their debt and in line 364: it decreases their debt.\\n\\nlets say a user wants to repay all his debt, he calls the `pay()` function with his full debt.\\nan attacker can see it and frontrun to repay a single token for his debt (since it's likely the token uses 18 decimals, a single token is worth almost nothing)\\nand since your solidity version is above 0.8.0 the line:\\n`due.debt -= assetsIn[i];` will revert due to underflow\\n\\nThe attacker can keep doing it everytime the user is going to pay and since 1 token is baisicly 0$ (18 decimals) the attacker doesn't lose real money\\n\\n#### Impact\\n\\nA DoS on every user that  repay his full debt (or enough that the difference between his total debt to what he pays his negligible)\\n\\n#### Proof of Concept\\n\\nFrom solidity docs\\n\\nSince Solidity 0.8.0, all arithmetic operations revert on over- and underflow by default, thus making the use of these libraries unnecessary. </s>\""
      ]
     },
     "execution_count": 17,
     "metadata": {},
     "output_type": "execute_result"
    }
   ],
   "source": [
    "tokenizer.decode(trainer.eval_dataset[5][\"input_ids\"])"
   ]
  },
  {
   "cell_type": "code",
   "execution_count": 18,
   "id": "0a020d81",
   "metadata": {
    "execution": {
     "iopub.execute_input": "2025-06-11T05:43:16.026984Z",
     "iopub.status.busy": "2025-06-11T05:43:16.026714Z",
     "iopub.status.idle": "2025-06-11T05:43:16.036313Z",
     "shell.execute_reply": "2025-06-11T05:43:16.035574Z"
    }
   },
   "outputs": [
    {
     "data": {
      "text/plain": [
       "\"                                                                                                                                                                                                                                                                                                                                                                                                                                                                                                                                                                                                                                                                                                                                                                                                                                                                                                                                                                                                                                                                                                                                                                                          in the `pay()` function users repay their debt and in line 364: it decreases their debt.\\n\\nlets say a user wants to repay all his debt, he calls the `pay()` function with his full debt.\\nan attacker can see it and frontrun to repay a single token for his debt (since it's likely the token uses 18 decimals, a single token is worth almost nothing)\\nand since your solidity version is above 0.8.0 the line:\\n`due.debt -= assetsIn[i];` will revert due to underflow\\n\\nThe attacker can keep doing it everytime the user is going to pay and since 1 token is baisicly 0$ (18 decimals) the attacker doesn't lose real money\\n\\n#### Impact\\n\\nA DoS on every user that  repay his full debt (or enough that the difference between his total debt to what he pays his negligible)\\n\\n#### Proof of Concept\\n\\nFrom solidity docs\\n\\nSince Solidity 0.8.0, all arithmetic operations revert on over- and underflow by default, thus making the use of these libraries unnecessary. </s>\""
      ]
     },
     "execution_count": 18,
     "metadata": {},
     "output_type": "execute_result"
    }
   ],
   "source": [
    "space = tokenizer(\" \", add_special_tokens = False).input_ids[0]\n",
    "tokenizer.decode([space if x == -100 else x for x in trainer.eval_dataset[5][\"labels\"]])"
   ]
  },
  {
   "cell_type": "code",
   "execution_count": 19,
   "id": "fb118462",
   "metadata": {
    "execution": {
     "iopub.execute_input": "2025-06-11T05:43:16.039494Z",
     "iopub.status.busy": "2025-06-11T05:43:16.039201Z",
     "iopub.status.idle": "2025-06-11T06:54:56.465106Z",
     "shell.execute_reply": "2025-06-11T06:54:56.464194Z"
    }
   },
   "outputs": [
    {
     "name": "stderr",
     "output_type": "stream",
     "text": [
      "==((====))==  Unsloth - 2x faster free finetuning | Num GPUs used = 1\n",
      "   \\\\   /|    Num examples = 595 | Num Epochs = 5 | Total steps = 2,975\n",
      "O^O/ \\_/ \\    Batch size per device = 1 | Gradient accumulation steps = 1\n",
      "\\        /    Data Parallel GPUs = 1 | Total batch size (1 x 1 x 1) = 1\n",
      " \"-____-\"     Trainable parameters = 62,586,880/13,000,000,000 (0.48% trained)\n"
     ]
    },
    {
     "data": {
      "text/html": [
       "\n",
       "    <div>\n",
       "      \n",
       "      <progress value='2975' max='2975' style='width:300px; height:20px; vertical-align: middle;'></progress>\n",
       "      [2975/2975 1:11:36, Epoch 5/5]\n",
       "    </div>\n",
       "    <table border=\"1\" class=\"dataframe\">\n",
       "  <thead>\n",
       " <tr style=\"text-align: left;\">\n",
       "      <th>Step</th>\n",
       "      <th>Training Loss</th>\n",
       "      <th>Validation Loss</th>\n",
       "    </tr>\n",
       "  </thead>\n",
       "  <tbody>\n",
       "    <tr>\n",
       "      <td>500</td>\n",
       "      <td>2.125400</td>\n",
       "      <td>1.718977</td>\n",
       "    </tr>\n",
       "    <tr>\n",
       "      <td>1000</td>\n",
       "      <td>2.033500</td>\n",
       "      <td>1.673714</td>\n",
       "    </tr>\n",
       "    <tr>\n",
       "      <td>1500</td>\n",
       "      <td>1.281400</td>\n",
       "      <td>1.671195</td>\n",
       "    </tr>\n",
       "    <tr>\n",
       "      <td>2000</td>\n",
       "      <td>0.630700</td>\n",
       "      <td>1.706170</td>\n",
       "    </tr>\n",
       "    <tr>\n",
       "      <td>2500</td>\n",
       "      <td>0.586700</td>\n",
       "      <td>1.724156</td>\n",
       "    </tr>\n",
       "  </tbody>\n",
       "</table><p>"
      ],
      "text/plain": [
       "<IPython.core.display.HTML object>"
      ]
     },
     "metadata": {},
     "output_type": "display_data"
    },
    {
     "name": "stdout",
     "output_type": "stream",
     "text": [
      "Unsloth: Will smartly offload gradients to save VRAM!\n"
     ]
    }
   ],
   "source": [
    "trainer_stats = trainer.train()"
   ]
  },
  {
   "cell_type": "code",
   "execution_count": null,
   "id": "a1ce16e2",
   "metadata": {
    "execution": {
     "iopub.execute_input": "2025-06-11T06:54:56.469665Z",
     "iopub.status.busy": "2025-06-11T06:54:56.469377Z",
     "iopub.status.idle": "2025-06-11T06:54:58.017708Z",
     "shell.execute_reply": "2025-06-11T06:54:58.016744Z"
    }
   },
   "outputs": [],
   "source": [
    "model.save_pretrained(\"codellama13b_vuln_exp\") \n",
    "tokenizer.save_pretrained(\"codellama13b_vuln_exp\")"
   ]
  },
  {
   "cell_type": "code",
   "execution_count": 21,
   "id": "62598ea7",
   "metadata": {
    "execution": {
     "iopub.execute_input": "2025-06-11T06:54:58.021392Z",
     "iopub.status.busy": "2025-06-11T06:54:58.021081Z",
     "iopub.status.idle": "2025-06-11T06:54:58.032930Z",
     "shell.execute_reply": "2025-06-11T06:54:58.032173Z"
    }
   },
   "outputs": [],
   "source": [
    "test_dataset = dataset['test']\n",
    "test_dataset = test_dataset.map(lambda row: {'answer':row['conversations'][-1]})\n",
    "test_dataset = test_dataset.map(lambda row: {'conversations':row['conversations'][:-1]})"
   ]
  },
  {
   "cell_type": "code",
   "execution_count": 22,
   "id": "a081a5f1",
   "metadata": {
    "execution": {
     "iopub.execute_input": "2025-06-11T06:54:58.036070Z",
     "iopub.status.busy": "2025-06-11T06:54:58.035785Z",
     "iopub.status.idle": "2025-06-11T06:55:20.499368Z",
     "shell.execute_reply": "2025-06-11T06:55:20.498335Z"
    }
   },
   "outputs": [
    {
     "name": "stderr",
     "output_type": "stream",
     "text": [
      "The attention mask is not set and cannot be inferred from input because pad token is same as eos token. As a consequence, you may observe unexpected behavior. Please pass your input's `attention_mask` to obtain reliable results.\n"
     ]
    },
    {
     "data": {
      "text/plain": [
       "['<s> [INST] <<SYS>>\\nYou are the smartest AI solidity smart contract security auditor in the world.\\n<</SYS>>\\n\\nThe given Solidity function is vulnerable. Review the code and analyze its security flaws.\\n    \\n    This is the function we need to audit:\\n    ```solidity\\n    function deposit(uint256 _amount) external whenNotPaused {\\n        _depositWithAuthorization(_amount, new bytes32[](0));\\n    }\\n\\nfunction deposit(uint256 _amount, bytes32[] memory proof)\\n        external\\n        whenNotPaused\\n    {\\n        _depositWithAuthorization(_amount, proof);\\n    }\\n\\nfunction _depositFor(address _recipient, uint256 _amount)\\n        internal\\n        nonReentrant\\n    {\\n        require(_recipient != address(0), \"Address 0\");\\n        require(_amount != 0, \"Amount 0\");\\n        require(!pausedDeposit, \"pausedDeposit\"); // dev: deposits are paused\\n\\n        uint256 _pool = balance();\\n        uint256 _before = token.balanceOf(address(this));\\n        token.safeTransferFrom(msg.sender, address(this), _amount);\\n        uint256 _after = token.balanceOf(address(this));\\n        _mintSharesFor(_recipient, _after - _before, _pool);\\n    }\\n\\nfunction _mintSharesFor(\\n        address recipient,\\n        uint256 _amount,\\n        uint256 _pool\\n    ) internal {\\n        uint256 shares;\\n        if (totalSupply() == 0) {\\n            shares = _amount;\\n        } else {\\n            shares = (_amount * totalSupply()) / _pool;\\n        }\\n        _mint(recipient, shares);\\n    }\\n    ```\\n    \\nVulnerability :  [/INST] The `deposit` function of `Vault` calls the `_depositFor` function with the `msg.sender` as the `_recipient` parameter.\\n\\nThe `_depositFor` function then calls the `_mintSharesFor` function with the `recipient` parameter set to the `_recipient` parameter.\\n\\nThe `recipient` parameter is then used to mint the shares to the `recipient` address.\\n\\nHowever, the `recipient` parameter is not checked to see if it is the zero address.\\n\\nThis means that a malicious user can frontrun the `deposit` function and receive the shares that are minted to the `msg.sender` address.\\n\\nThe attacker can then call the `withdraw` function to withdraw the shares they received and receive the underlying tokens.\\n\\nThe attacker can then call the `deposit` function again to mint new shares and repeat the process.\\n\\nThis attack can be repeated until the attacker has withdrawn all of the underlying tokens. </s>']"
      ]
     },
     "execution_count": 22,
     "metadata": {},
     "output_type": "execute_result"
    }
   ],
   "source": [
    "from unsloth.chat_templates import get_chat_template\n",
    "\n",
    "tokenizer = get_chat_template(\n",
    "    tokenizer,\n",
    "    chat_template = \"llama\",\n",
    ")\n",
    "FastLanguageModel.for_inference(model) # Enable native 2x faster inference\n",
    "\n",
    "messages = test_dataset['conversations'][1]\n",
    "inputs = tokenizer.apply_chat_template(\n",
    "    messages,\n",
    "    tokenize = True,\n",
    "    add_generation_prompt = True, # Must add for generation\n",
    "    return_tensors = \"pt\",\n",
    ").to(\"cuda\")\n",
    "\n",
    "outputs = model.generate(input_ids = inputs, max_new_tokens = 8192, use_cache = True,\n",
    "                         temperature = 0.1, min_p = 0.1)\n",
    "tokenizer.batch_decode(outputs)"
   ]
  },
  {
   "cell_type": "code",
   "execution_count": 23,
   "id": "6ab13c9d",
   "metadata": {
    "execution": {
     "iopub.execute_input": "2025-06-11T06:55:20.503093Z",
     "iopub.status.busy": "2025-06-11T06:55:20.502773Z",
     "iopub.status.idle": "2025-06-11T06:55:20.507712Z",
     "shell.execute_reply": "2025-06-11T06:55:20.506968Z"
    }
   },
   "outputs": [],
   "source": [
    "decoded_outputs = tokenizer.batch_decode(outputs)"
   ]
  },
  {
   "cell_type": "code",
   "execution_count": 24,
   "id": "a8c94adc",
   "metadata": {
    "execution": {
     "iopub.execute_input": "2025-06-11T06:55:20.510831Z",
     "iopub.status.busy": "2025-06-11T06:55:20.510549Z",
     "iopub.status.idle": "2025-06-11T06:55:20.517869Z",
     "shell.execute_reply": "2025-06-11T06:55:20.517144Z"
    }
   },
   "outputs": [
    {
     "data": {
      "text/plain": [
       "{'content': \"An attacker can become the first depositor for a recently created StakedCitadel contract, providing a tiny amount of Citadel tokens by calling deposit(1) (raw values here, 1 is 1 wei, 1e18 is 1 Citadel as it has 18 decimals). Then the attacker can directly transfer, for example, 10^6*1e18 - 1 Citadel to StakedCitadel, effectively setting the cost of 1 of the vault token to be 10^6 * 1e18 Citadel. The attacker will still own 100% of the StakedCitadel's pool being the only depositor.\\n\\nAll subsequent depositors will have their Citadel token investments rounded to 10^6 * 1e18, due to the lack of precision which initial tiny deposit caused, with the remainder divided between all current depositors, i.e. the subsequent depositors lose value to the attacker.\\n\\nFor example, if the second depositor brings in 1.9*10^6 * 1e18 Citadel, only 1 of new vault to be issued as 1.9*10^6 * 1e18 divided by 10^6 * 1e18 will yield just 1, which means that 2.9*10^6 * 1e18 total Citadel pool will be divided 50/50 between the second depositor and the attacker, as each have 1 wei of the total 2 wei of vault tokens, i.e. the depositor lost and the attacker gained 0.45*10^6 * 1e18 Citadel tokens.\\n\\nAs there are no penalties to exit with StakedCitadel.withdraw(), the attacker can remain staked for an arbitrary time, gathering the share of all new deposits' remainder amounts.\\n\\nPlacing severity to be high as this is principal funds loss scenario for many users (most of depositors), easily executable, albeit only for the new StakedCitadel contract.\\n\\nAny deposit lower than total attacker's stake will be fully stolen from the depositor as 0 vault tokens will be issued in this case.\\n\\nThe issue is similar to the TOB-YEARN-003 one of the Trail of Bits audit of Yearn Finance.\",\n",
       " 'role': 'assistant'}"
      ]
     },
     "execution_count": 24,
     "metadata": {},
     "output_type": "execute_result"
    }
   ],
   "source": [
    "test_dataset['answer'][1]"
   ]
  },
  {
   "cell_type": "code",
   "execution_count": 25,
   "id": "de712018",
   "metadata": {
    "execution": {
     "iopub.execute_input": "2025-06-11T06:55:20.521004Z",
     "iopub.status.busy": "2025-06-11T06:55:20.520727Z",
     "iopub.status.idle": "2025-06-11T06:55:20.526334Z",
     "shell.execute_reply": "2025-06-11T06:55:20.525595Z"
    }
   },
   "outputs": [
    {
     "data": {
      "text/plain": [
       "'function deposit(uint256 _amount) external whenNotPaused {\\n        _depositWithAuthorization(_amount, new bytes32[](0));\\n    }\\n\\nfunction deposit(uint256 _amount, bytes32[] memory proof)\\n        external\\n        whenNotPaused\\n    {\\n        _depositWithAuthorization(_amount, proof);\\n    }\\n\\nfunction _depositFor(address _recipient, uint256 _amount)\\n        internal\\n        nonReentrant\\n    {\\n        require(_recipient != address(0), \"Address 0\");\\n        require(_amount != 0, \"Amount 0\");\\n        require(!pausedDeposit, \"pausedDeposit\"); // dev: deposits are paused\\n\\n        uint256 _pool = balance();\\n        uint256 _before = token.balanceOf(address(this));\\n        token.safeTransferFrom(msg.sender, address(this), _amount);\\n        uint256 _after = token.balanceOf(address(this));\\n        _mintSharesFor(_recipient, _after - _before, _pool);\\n    }\\n\\nfunction _mintSharesFor(\\n        address recipient,\\n        uint256 _amount,\\n        uint256 _pool\\n    ) internal {\\n        uint256 shares;\\n        if (totalSupply() == 0) {\\n            shares = _amount;\\n        } else {\\n            shares = (_amount * totalSupply()) / _pool;\\n        }\\n        _mint(recipient, shares);\\n    }'"
      ]
     },
     "execution_count": 25,
     "metadata": {},
     "output_type": "execute_result"
    }
   ],
   "source": [
    "test_dataset['vuln_code'][1]"
   ]
  },
  {
   "cell_type": "code",
   "execution_count": 26,
   "id": "455ef2e5",
   "metadata": {
    "execution": {
     "iopub.execute_input": "2025-06-11T06:55:20.529521Z",
     "iopub.status.busy": "2025-06-11T06:55:20.529243Z",
     "iopub.status.idle": "2025-06-11T06:55:20.561215Z",
     "shell.execute_reply": "2025-06-11T06:55:20.560483Z"
    }
   },
   "outputs": [],
   "source": [
    "import pandas as pd\n",
    "\n",
    "df_test = pd.read_csv(\"vuln_data_test_v6.csv\")\n",
    "df_test = df_test.groupby(\"vuln_code\").agg({\n",
    "    \"vuln_title\": list,  # Collect all vuln_titles in a list\n",
    "    \"vuln_explanation\": list  # Optional: collect explanations too\n",
    "}).reset_index()\n",
    "\n",
    "def make_explanation(row):\n",
    "    all_explanation = []\n",
    "    for desc in row['vuln_explanation']:\n",
    "        item = f\"\"\"{desc}\"\"\"\n",
    "        all_explanation.append(item)\n",
    "    ctx = \"\\n\\n\".join([x for x in all_explanation])\n",
    "    return ctx\n",
    "\n",
    "df_test['full_context'] = df_test.apply(make_explanation, axis=1)"
   ]
  },
  {
   "cell_type": "code",
   "execution_count": null,
   "id": "0807df86",
   "metadata": {
    "execution": {
     "iopub.execute_input": "2025-06-11T06:55:20.593819Z",
     "iopub.status.busy": "2025-06-11T06:55:20.593539Z",
     "iopub.status.idle": "2025-06-11T06:55:21.595744Z",
     "shell.execute_reply": "2025-06-11T06:55:21.594695Z"
    }
   },
   "outputs": [],
   "source": [
    "from datasets import load_dataset\n",
    "\n",
    "# Define the paths to your dataset files\n",
    "data_files = {\n",
    "    'train': 'vuln_data_train.csv',\n",
    "    'val': 'vuln_data_val.csv',\n",
    "    'test': 'vuln_data_test.csv'\n",
    "}\n",
    "\n",
    "# Load the dataset\n",
    "dataset = load_dataset('csv', data_files=data_files)\n",
    "\n",
    "import random\n",
    "\n",
    "random.seed(42)\n",
    "\n",
    "SYSTEM_PROMPT = [\n",
    "    \"\"\"You are the smartest AI solidity smart contract security auditor in the world.\"\"\",\n",
    "]\n",
    "\n",
    "PROMPTS = [\n",
    "    \"\"\"The given Solidity function is vulnerable. Review the code and analyze its security flaws.\n",
    "    \n",
    "    This is the function we need to audit:\n",
    "    ```solidity\n",
    "    {code}\n",
    "    ```\n",
    "    \n",
    "Vulnerability Explanation: \"\"\",\n",
    "]\n",
    "\n",
    "def make_conversational(examples):\n",
    "    code = examples['vuln_code']\n",
    "    title = examples['vuln_title']\n",
    "    desc = examples['vuln_explanation']\n",
    "    assistant_prompt = f\"\"\"Title: {title}\\n\\nDescription:\\n{desc}\"\"\"\n",
    "    selected_system_prompt = random.choice(SYSTEM_PROMPT)\n",
    "    selected_user_prompt = random.choice(PROMPTS) \n",
    "    conversation = [{\"role\": \"system\", \"content\": selected_system_prompt}, \n",
    "                    {\"role\": \"user\", \"content\": selected_user_prompt.format(code=code)},\n",
    "                    {\"role\": \"assistant\", \"content\": assistant_prompt}]\n",
    "    return { \"conversations\" : conversation, }\n",
    "\n",
    "dataset = dataset.map(make_conversational)\n",
    "dataset = dataset.remove_columns([\"vuln_title\", \"vuln_explanation\", \"severity\", \"vuln_recommendation\"])\n",
    "\n",
    "from unsloth.chat_templates import get_chat_template\n",
    "\n",
    "tokenizer = get_chat_template(\n",
    "    tokenizer,\n",
    "    chat_template = \"llama\",\n",
    ")\n",
    "\n",
    "def formatting_prompts_func(examples):\n",
    "    convos = examples[\"conversations\"]\n",
    "    texts = [tokenizer.apply_chat_template(convo, tokenize = False, add_generation_prompt = False) for convo in convos]\n",
    "    return { \"text\" : texts, }\n",
    "\n",
    "dataset = dataset.map(formatting_prompts_func, batched = True,)\n",
    "\n",
    "test_dataset = dataset['test']\n",
    "test_dataset = test_dataset.map(lambda row: {'answer':row['conversations'][-1]})\n",
    "test_dataset = test_dataset.map(lambda row: {'conversations':row['conversations'][:-1]})"
   ]
  },
  {
   "cell_type": "code",
   "execution_count": null,
   "id": "1b81e7aa",
   "metadata": {
    "execution": {
     "iopub.execute_input": "2025-06-11T06:55:21.622495Z",
     "iopub.status.busy": "2025-06-11T06:55:21.622213Z",
     "iopub.status.idle": "2025-06-11T07:41:11.154246Z",
     "shell.execute_reply": "2025-06-11T07:41:11.153249Z"
    }
   },
   "outputs": [
    {
     "name": "stderr",
     "output_type": "stream",
     "text": [
      "\r\n",
      "Processing dataset:   0%|                                                                          | 0/143 [00:00<?, ?it/s]"
     ]
    },
    {
     "name": "stderr",
     "output_type": "stream",
     "text": [
      "\r\n",
      "Processing dataset:   1%|▍                                                                 | 1/143 [00:10<24:31, 10.36s/it]"
     ]
    },
    {
     "name": "stderr",
     "output_type": "stream",
     "text": [
      "\r\n",
      "Processing dataset:   1%|▉                                                               | 2/143 [00:54<1:11:20, 30.36s/it]"
     ]
    },
    {
     "name": "stderr",
     "output_type": "stream",
     "text": [
      "\r\n",
      "Processing dataset:   2%|█▍                                                                | 3/143 [01:11<56:38, 24.28s/it]"
     ]
    },
    {
     "name": "stderr",
     "output_type": "stream",
     "text": [
      "\r\n",
      "Processing dataset:   3%|█▊                                                                | 4/143 [01:21<42:33, 18.37s/it]"
     ]
    },
    {
     "name": "stderr",
     "output_type": "stream",
     "text": [
      "\r\n",
      "Processing dataset:   3%|██▎                                                               | 5/143 [01:52<53:16, 23.16s/it]"
     ]
    },
    {
     "name": "stderr",
     "output_type": "stream",
     "text": [
      "\r\n",
      "Processing dataset:   4%|██▊                                                               | 6/143 [02:12<50:14, 22.00s/it]"
     ]
    },
    {
     "name": "stderr",
     "output_type": "stream",
     "text": [
      "\r\n",
      "Processing dataset:   5%|███▏                                                              | 7/143 [02:24<42:15, 18.64s/it]"
     ]
    },
    {
     "name": "stderr",
     "output_type": "stream",
     "text": [
      "\r\n",
      "Processing dataset:   6%|███▋                                                              | 8/143 [02:42<41:31, 18.46s/it]"
     ]
    },
    {
     "name": "stderr",
     "output_type": "stream",
     "text": [
      "\r\n",
      "Processing dataset:   6%|████▏                                                             | 9/143 [03:08<46:32, 20.84s/it]"
     ]
    },
    {
     "name": "stderr",
     "output_type": "stream",
     "text": [
      "\r\n",
      "Processing dataset:   7%|████▌                                                            | 10/143 [03:22<41:33, 18.75s/it]"
     ]
    },
    {
     "name": "stderr",
     "output_type": "stream",
     "text": [
      "\r\n",
      "Processing dataset:   8%|█████                                                            | 11/143 [03:39<40:05, 18.22s/it]"
     ]
    },
    {
     "name": "stderr",
     "output_type": "stream",
     "text": [
      "\r\n",
      "Processing dataset:   8%|█████▍                                                           | 12/143 [04:01<42:39, 19.54s/it]"
     ]
    },
    {
     "name": "stderr",
     "output_type": "stream",
     "text": [
      "\r\n",
      "Processing dataset:   9%|█████▉                                                           | 13/143 [04:11<35:30, 16.39s/it]"
     ]
    },
    {
     "name": "stderr",
     "output_type": "stream",
     "text": [
      "\r\n",
      "Processing dataset:  10%|██████▎                                                          | 14/143 [04:41<44:06, 20.52s/it]"
     ]
    },
    {
     "name": "stderr",
     "output_type": "stream",
     "text": [
      "\r\n",
      "Processing dataset:  10%|██████▊                                                          | 15/143 [05:08<48:22, 22.68s/it]"
     ]
    },
    {
     "name": "stderr",
     "output_type": "stream",
     "text": [
      "\r\n",
      "Processing dataset:  11%|███████▎                                                         | 16/143 [05:23<42:55, 20.28s/it]"
     ]
    },
    {
     "name": "stderr",
     "output_type": "stream",
     "text": [
      "\r\n",
      "Processing dataset:  12%|███████▋                                                         | 17/143 [05:45<43:48, 20.86s/it]"
     ]
    },
    {
     "name": "stderr",
     "output_type": "stream",
     "text": [
      "\r\n",
      "Processing dataset:  13%|████████▏                                                        | 18/143 [05:55<36:26, 17.49s/it]"
     ]
    },
    {
     "name": "stderr",
     "output_type": "stream",
     "text": [
      "\r\n",
      "Processing dataset:  13%|████████▋                                                        | 19/143 [06:16<38:31, 18.64s/it]"
     ]
    },
    {
     "name": "stderr",
     "output_type": "stream",
     "text": [
      "\r\n",
      "Processing dataset:  14%|█████████                                                        | 20/143 [06:31<35:59, 17.56s/it]"
     ]
    },
    {
     "name": "stderr",
     "output_type": "stream",
     "text": [
      "\r\n",
      "Processing dataset:  15%|█████████▌                                                       | 21/143 [06:37<28:16, 13.91s/it]"
     ]
    },
    {
     "name": "stderr",
     "output_type": "stream",
     "text": [
      "\r\n",
      "Processing dataset:  15%|██████████                                                       | 22/143 [06:50<27:23, 13.58s/it]"
     ]
    },
    {
     "name": "stderr",
     "output_type": "stream",
     "text": [
      "\r\n",
      "Processing dataset:  16%|██████████▍                                                      | 23/143 [06:56<22:45, 11.38s/it]"
     ]
    },
    {
     "name": "stderr",
     "output_type": "stream",
     "text": [
      "\r\n",
      "Processing dataset:  17%|██████████▉                                                      | 24/143 [07:37<40:31, 20.43s/it]"
     ]
    },
    {
     "name": "stderr",
     "output_type": "stream",
     "text": [
      "\r\n",
      "Processing dataset:  17%|███████████▎                                                     | 25/143 [07:53<37:05, 18.86s/it]"
     ]
    },
    {
     "name": "stderr",
     "output_type": "stream",
     "text": [
      "\r\n",
      "Processing dataset:  18%|███████████▊                                                     | 26/143 [08:45<56:27, 28.96s/it]"
     ]
    },
    {
     "name": "stderr",
     "output_type": "stream",
     "text": [
      "\r\n",
      "Processing dataset:  19%|████████████▎                                                    | 27/143 [09:02<48:48, 25.25s/it]"
     ]
    },
    {
     "name": "stderr",
     "output_type": "stream",
     "text": [
      "\r\n",
      "Processing dataset:  20%|████████████▋                                                    | 28/143 [09:28<49:10, 25.66s/it]"
     ]
    },
    {
     "name": "stderr",
     "output_type": "stream",
     "text": [
      "\r\n",
      "Processing dataset:  20%|█████████████▏                                                   | 29/143 [09:41<41:24, 21.79s/it]"
     ]
    },
    {
     "name": "stderr",
     "output_type": "stream",
     "text": [
      "\r\n",
      "Processing dataset:  21%|█████████████▋                                                   | 30/143 [09:53<35:41, 18.95s/it]"
     ]
    },
    {
     "name": "stderr",
     "output_type": "stream",
     "text": [
      "\r\n",
      "Processing dataset:  22%|██████████████                                                   | 31/143 [10:08<32:47, 17.57s/it]"
     ]
    },
    {
     "name": "stderr",
     "output_type": "stream",
     "text": [
      "\r\n",
      "Processing dataset:  22%|██████████████                                                 | 32/143 [12:59<1:57:58, 63.77s/it]"
     ]
    },
    {
     "name": "stdout",
     "output_type": "stream",
     "text": [
      "No response found. Response: <s> [INST] <<SYS>>\n",
      "You are the smartest AI solidity smart contract security auditor in the world.\n",
      "<</SYS>>\n",
      "\n",
      "The given Solidity function is vulnerable. Review the code and analyze its security flaws.\n",
      "    \n",
      "    This is the function we need to audit:\n",
      "    ```solidity\n",
      "    function deposit(uint256 _id, uint256 _amount)\n",
      "        public\n",
      "        override\n",
      "        updateDebt(_id)\n",
      "    {\n",
      "        // should it be able to deposit if invalid?\n",
      "        require(engine.nft().asset(_id) == address(asset), \"!asset\");\n",
      "        require(\n",
      "            details[_id].status == Status.Idle ||\n",
      "                details[_id].status == Status.Collaterized ||\n",
      "                details[_id].status == Status.Active,\n",
      "            \"!depositable\"\n",
      "        );\n",
      "        lastDeposit[_id] = block.timestamp;\n",
      "        deposits += _amount;\n",
      "        details[_id].collateral += _amount;\n",
      "        if (details[_id].status == Status.Idle) {\n",
      "            details[_id].status = Status.Collaterized;\n",
      "        }\n",
      "        asset.cheapTransferFrom(msg.sender, address(this), _amount);\n",
      "    }\n",
      "\n",
      "function withdraw(\n",
      "        uint256 _id,\n",
      "        uint256 _amount,\n",
      "        bytes memory _data\n",
      "    ) public override wait(_id) {\n",
      "        require(engine.nft().ownerOf(_id) == msg.sender, \"!approved\");\n",
      "        require(engine.nft().asset(_id) == address(asset), \"!asset\");\n",
      "        // update prior to interaction\n",
      "        float memory price = engine.cssr().update(address(asset), _data);\n",
      "        require(\n",
      "            !_liquidatable(\n",
      "                details[_id].collateral - _amount,\n",
      "                price,\n",
      "                details[_id].debt\n",
      "            ),\n",
      "            \"!healthy\"\n",
      "        );\n",
      "        float memory cf = engine.mochiProfile().maxCollateralFactor(\n",
      "            address(asset)\n",
      "        );\n",
      "        uint256 maxMinted = (details[_id].collateral - _amount)\n",
      "            .multiply(cf)\n",
      "            .multiply(price);\n",
      "        require(details[_id].debt <= maxMinted, \">cf\");\n",
      "        deposits -= _amount;\n",
      "        details[_id].collateral -= _amount;\n",
      "        if (details[_id].collateral == 0) {\n",
      "            details[_id].status = Status.Idle;\n",
      "        }\n",
      "        asset.cheapTransfer(engine.nft().ownerOf(_id), _amount);\n",
      "    }\n",
      "    ```\n",
      "    \n",
      "Vulnerability Explanation:  [/INST] The `NFTXInventory` allows users to deposit collateral into a position and then withdraw that same amount of collateral from their position. However, there's no check on whether the user has enough balance to actually perform this action or not. If they don't have enough funds, the transaction will fail with an error message indicating insufficient balance.\n",
      "\n",
      "#### Proof of Concept\n",
      "\n",
      "1.  Alice creates a new NFTX position using her own token as collateral. She sets up the parameters for the loan she wants to take out.\n",
      "2.  Bob tries to borrow money by depositing his tokens into Alice's position. He specifies the exact number of tokens he wishes to lend.\n",
      "3.  Since Alice doesn't want any extra tokens, she approves the entirety of Bob's deposited tokens to go towards paying off her debts.\n",
      "4.  After some time passes, Bob decides to close his position early. He calls the `withdraw()` function specifying exactly how many tokens he would like to receive back.\n",
      "5.  As you can see below, the transaction fails because Alice does not have enough tokens available to transfer over to Bob.\n",
      "\n",
      "```text\n",
      "// @audit logs\n",
      "// alice has 987 tokens left after bob's initial deposit\n",
      "// bob now attempts to withdraw all of those tokens\n",
      "// tx failed due to lack of tokens\n",
      "\n",
      "// @audit logs\n",
      "// alice has 987 tokens left after bob's initial deposit\n",
      "// bob now attempts to withdraw all of those tokens\n",
      "// tx failed due to lack of tokens\n",
      "\n",
      "// @audit logs\n",
      "// alice has 987 tokens left after bob's initial deposit\n",
      "// bob now attempts to withdraw all of those tokens\n",
      "// tx failed due to lack of tokens\n",
      "\n",
      "// @audit logs\n",
      "// alice has 987 tokens left after bob's initial deposit\n",
      "// bob now attempts to withdraw all of those tokens\n",
      "// tx failed due to lack of tokens\n",
      "\n",
      "// @audit logs\n",
      "// alice has 987 tokens left after bob's initial deposit\n",
      "// bob now attempts to withdraw all of those tokens\n",
      "// tx failed due to lack of tokens\n",
      "\n",
      "// @audit logs\n",
      "// alice has 987 tokens left after bob's initial deposit\n",
      "// bob now attempts to withdraw all of those tokens\n",
      "// tx failed due to lack of tokens\n",
      "\n",
      "// @audit logs\n",
      "// alice has 987 tokens left after bob's initial deposit\n",
      "// bob now attempts to withdraw all of those tokens\n",
      "// tx failed due to lack of tokens\n",
      "\n",
      "// @audit logs\n",
      "// alice has 987 tokens left after bob's initial deposit\n",
      "// bob now attempts to withdraw all of those tokens\n",
      "// tx failed due to lack of tokens\n",
      "\n",
      "// @audit logs\n",
      "// alice has 987 tokens left after bob's initial deposit\n",
      "// bob now attempts to withdraw all of those tokens\n",
      "// tx failed due to lack of tokens\n",
      "\n",
      "// @audit logs\n",
      "// alice has 987 tokens left after bob's initial deposit\n",
      "// bob now attempts to withdraw all of those tokens\n",
      "// tx failed due to lack of tokens\n",
      "\n",
      "// @audit logs\n",
      "// alice has 987 tokens left after bob's initial deposit\n",
      "// bob now attempts to withdraw all of those tokens\n",
      "// tx failed due to lack of tokens\n",
      "\n",
      "// @audit logs\n",
      "// alice has 987 tokens left after bob's initial deposit\n",
      "// bob now attempts to withdraw all of those tokens\n",
      "// tx failed due to lack of tokens\n",
      "\n",
      "// @audit logs\n",
      "// alice has 987 tokens left after bob's initial deposit\n",
      "// bob now attempts to withdraw all of those tokens\n",
      "// tx failed due to lack of tokens\n",
      "\n",
      "// @audit logs\n",
      "// alice has 987 tokens left after bob's initial deposit\n",
      "// bob now attempts to withdraw all of those tokens\n",
      "// tx failed due to lack of tokens\n",
      "\n",
      "// @audit logs\n",
      "// alice has 987 tokens left after bob's initial deposit\n",
      "// bob now attempts to withdraw all of those tokens\n",
      "// tx failed due to lack of tokens\n",
      "\n",
      "// @audit logs\n",
      "// alice has 987 tokens left after bob's initial deposit\n",
      "// bob now attempts to withdraw all of those tokens\n",
      "// tx failed due to lack of tokens\n",
      "\n",
      "// @audit logs\n",
      "// alice has 987 tokens left after bob's initial deposit\n",
      "// bob now attempts to withdraw all of those tokens\n",
      "// tx failed due to lack of tokens\n",
      "\n",
      "// @audit logs\n",
      "// alice has 987 tokens left after bob's initial deposit\n",
      "// bob now attempts to withdraw all of those tokens\n",
      "// tx failed due to lack of tokens\n",
      "\n",
      "// @audit logs\n",
      "// alice has 987 tokens left after bob's initial deposit\n",
      "// bob now attempts to withdraw all of those tokens\n",
      "// tx failed due to lack of tokens\n",
      "\n",
      "// @audit logs\n",
      "// alice has 987 tokens left after bob's initial deposit\n",
      "// bob now attempts to withdraw all of those tokens\n",
      "// tx failed due to lack of tokens\n",
      "\n",
      "// @audit logs\n",
      "// alice has 987 tokens left after bob's initial deposit\n",
      "// bob now attempts to withdraw all of those tokens\n",
      "// tx failed due to lack of tokens\n",
      "\n",
      "// @audit logs\n",
      "// alice has 987 tokens left after bob's initial deposit\n",
      "// bob now attempts to withdraw all of those tokens\n",
      "// tx failed due to lack of tokens\n",
      "\n",
      "// @audit logs\n",
      "// alice has 987 tokens left after bob's initial deposit\n",
      "// bob now attempts to withdraw all of those tokens\n",
      "// tx failed due to lack of tokens\n",
      "\n",
      "// @audit logs\n",
      "// alice has 987 tokens left after bob's initial deposit\n",
      "// bob now attempts to withdraw all of those tokens\n",
      "// tx failed due to lack of tokens\n",
      "\n",
      "// @audit logs\n",
      "// alice has 987 tokens left after bob's initial deposit\n",
      "// bob now attempts to withdraw all of those tokens\n",
      "// tx failed due to lack of tokens\n",
      "\n",
      "// @audit logs\n",
      "// alice has 987 tokens left after bob's initial deposit\n",
      "// bob now attempts to withdraw all of those tokens\n",
      "// tx failed due to lack of tokens\n",
      "\n",
      "// @audit logs\n",
      "// alice has 987 tokens left after bob's initial deposit\n",
      "// bob now attempts to withdraw all of those tokens\n",
      "// tx failed due to lack of tokens\n",
      "\n",
      "// @audit logs\n",
      "// alice has 987 tokens left after bob's initial deposit\n",
      "// bob now attempts to withdraw all of those tokens\n",
      "// tx failed due to lack of tokens\n",
      "\n",
      "// @audit logs\n",
      "// alice has 987 tokens left after bob's initial deposit\n",
      "// bob now attempts to withdraw all of those tokens\n",
      "// tx failed due to lack of tokens\n",
      "\n",
      "// @audit logs\n",
      "// alice has 987 tokens left after bob's initial deposit\n",
      "// bob now attempts to withdraw all of those tokens\n",
      "// tx failed due to lack of tokens\n",
      "\n",
      "// @audit logs\n",
      "// alice has 987 tokens left after bob's initial deposit\n",
      "// bob now attempts to withdraw all of those tokens\n",
      "// tx failed due to lack of tokens\n",
      "\n",
      "// @audit logs\n",
      "// alice has 987 tokens left after bob's initial deposit\n",
      "// bob now attempts to withdraw all of those tokens\n",
      "// tx failed due to lack of tokens\n",
      "\n",
      "// @audit logs\n",
      "// alice has 987 tokens left after bob's initial deposit\n",
      "// bob now attempts to withdraw all of those tokens\n",
      "// tx failed due to lack of tokens\n",
      "\n",
      "// @audit logs\n",
      "// alice has 987 tokens left after bob's initial deposit\n",
      "// bob now attempts to withdraw all of those tokens\n",
      "// tx failed due to lack of tokens\n",
      "\n",
      "// @audit logs\n",
      "// alice has 987 tokens left after bob's initial deposit\n",
      "// bob now attempts to withdraw all of those tokens\n",
      "// tx failed due to lack of tokens\n",
      "\n",
      "// @audit logs\n",
      "// alice has 987 tokens left after bob's initial deposit\n",
      "// bob now attempts to withdraw all of those tokens\n",
      "// tx failed due to lack of tokens\n",
      "\n",
      "// @audit logs\n",
      "// alice has 987 tokens left after bob's initial deposit\n",
      "// bob now attempts to withdraw all of those tokens\n",
      "// tx failed due to lack of tokens\n",
      "\n",
      "// @audit logs\n",
      "// alice has 987 tokens left after bob's initial deposit\n",
      "// bob now attempts to withdraw all of those tokens\n",
      "// tx failed due to lack of tokens\n",
      "\n",
      "\n"
     ]
    },
    {
     "name": "stderr",
     "output_type": "stream",
     "text": [
      "\r\n",
      "Processing dataset:  23%|██████████████▌                                                | 33/143 [13:07<1:26:09, 47.00s/it]"
     ]
    },
    {
     "name": "stderr",
     "output_type": "stream",
     "text": [
      "\r\n",
      "Processing dataset:  24%|██████████████▉                                                | 34/143 [13:17<1:05:10, 35.88s/it]"
     ]
    },
    {
     "name": "stderr",
     "output_type": "stream",
     "text": [
      "\r\n",
      "Processing dataset:  24%|███████████████▉                                                 | 35/143 [13:31<52:35, 29.22s/it]"
     ]
    },
    {
     "name": "stderr",
     "output_type": "stream",
     "text": [
      "\r\n",
      "Processing dataset:  25%|████████████████▎                                                | 36/143 [13:49<46:19, 25.98s/it]"
     ]
    },
    {
     "name": "stderr",
     "output_type": "stream",
     "text": [
      "\r\n",
      "Processing dataset:  26%|████████████████▊                                                | 37/143 [14:03<39:19, 22.26s/it]"
     ]
    },
    {
     "name": "stderr",
     "output_type": "stream",
     "text": [
      "\r\n",
      "Processing dataset:  27%|█████████████████▎                                               | 38/143 [14:15<33:27, 19.12s/it]"
     ]
    },
    {
     "name": "stderr",
     "output_type": "stream",
     "text": [
      "\r\n",
      "Processing dataset:  27%|█████████████████▋                                               | 39/143 [14:22<26:54, 15.53s/it]"
     ]
    },
    {
     "name": "stderr",
     "output_type": "stream",
     "text": [
      "\r\n",
      "Processing dataset:  28%|██████████████████▏                                              | 40/143 [14:26<21:06, 12.29s/it]"
     ]
    },
    {
     "name": "stderr",
     "output_type": "stream",
     "text": [
      "\r\n",
      "Processing dataset:  29%|██████████████████▋                                              | 41/143 [14:36<19:36, 11.54s/it]"
     ]
    },
    {
     "name": "stderr",
     "output_type": "stream",
     "text": [
      "\r\n",
      "Processing dataset:  29%|███████████████████                                              | 42/143 [14:49<20:17, 12.05s/it]"
     ]
    },
    {
     "name": "stderr",
     "output_type": "stream",
     "text": [
      "\r\n",
      "Processing dataset:  30%|███████████████████▌                                             | 43/143 [15:07<22:36, 13.56s/it]"
     ]
    },
    {
     "name": "stderr",
     "output_type": "stream",
     "text": [
      "\r\n",
      "Processing dataset:  31%|████████████████████                                             | 44/143 [15:15<19:39, 11.92s/it]"
     ]
    },
    {
     "name": "stderr",
     "output_type": "stream",
     "text": [
      "\r\n",
      "Processing dataset:  31%|████████████████████▍                                            | 45/143 [15:31<21:26, 13.13s/it]"
     ]
    },
    {
     "name": "stderr",
     "output_type": "stream",
     "text": [
      "\r\n",
      "Processing dataset:  32%|████████████████████▉                                            | 46/143 [15:40<19:26, 12.03s/it]"
     ]
    },
    {
     "name": "stderr",
     "output_type": "stream",
     "text": [
      "\r\n",
      "Processing dataset:  33%|█████████████████████▎                                           | 47/143 [15:58<22:10, 13.86s/it]"
     ]
    },
    {
     "name": "stderr",
     "output_type": "stream",
     "text": [
      "\r\n",
      "Processing dataset:  34%|█████████████████████▊                                           | 48/143 [16:12<21:49, 13.78s/it]"
     ]
    },
    {
     "name": "stderr",
     "output_type": "stream",
     "text": [
      "\r\n",
      "Processing dataset:  34%|██████████████████████▎                                          | 49/143 [16:46<31:13, 19.93s/it]"
     ]
    },
    {
     "name": "stderr",
     "output_type": "stream",
     "text": [
      "\r\n",
      "Processing dataset:  35%|██████████████████████▋                                          | 50/143 [17:00<28:03, 18.11s/it]"
     ]
    },
    {
     "name": "stderr",
     "output_type": "stream",
     "text": [
      "\r\n",
      "Processing dataset:  36%|███████████████████████▏                                         | 51/143 [17:10<23:58, 15.63s/it]"
     ]
    },
    {
     "name": "stderr",
     "output_type": "stream",
     "text": [
      "\r\n",
      "Processing dataset:  36%|███████████████████████▋                                         | 52/143 [17:30<25:59, 17.13s/it]"
     ]
    },
    {
     "name": "stderr",
     "output_type": "stream",
     "text": [
      "\r\n",
      "Processing dataset:  37%|████████████████████████                                         | 53/143 [17:39<21:58, 14.65s/it]"
     ]
    },
    {
     "name": "stderr",
     "output_type": "stream",
     "text": [
      "\r\n",
      "Processing dataset:  38%|████████████████████████▌                                        | 54/143 [17:55<22:05, 14.89s/it]"
     ]
    },
    {
     "name": "stderr",
     "output_type": "stream",
     "text": [
      "\r\n",
      "Processing dataset:  38%|█████████████████████████                                        | 55/143 [18:12<22:42, 15.48s/it]"
     ]
    },
    {
     "name": "stderr",
     "output_type": "stream",
     "text": [
      "\r\n",
      "Processing dataset:  39%|█████████████████████████▍                                       | 56/143 [18:30<23:41, 16.34s/it]"
     ]
    },
    {
     "name": "stderr",
     "output_type": "stream",
     "text": [
      "\r\n",
      "Processing dataset:  40%|█████████████████████████▉                                       | 57/143 [18:46<23:26, 16.35s/it]"
     ]
    },
    {
     "name": "stderr",
     "output_type": "stream",
     "text": [
      "\r\n",
      "Processing dataset:  41%|██████████████████████████▎                                      | 58/143 [19:17<29:07, 20.56s/it]"
     ]
    },
    {
     "name": "stderr",
     "output_type": "stream",
     "text": [
      "\r\n",
      "Processing dataset:  41%|█████████████████████████▉                                     | 59/143 [22:15<1:35:07, 67.94s/it]"
     ]
    },
    {
     "name": "stdout",
     "output_type": "stream",
     "text": [
      "No response found. Response: <s> [INST] <<SYS>>\n",
      "You are the smartest AI solidity smart contract security auditor in the world.\n",
      "<</SYS>>\n",
      "\n",
      "The given Solidity function is vulnerable. Review the code and analyze its security flaws.\n",
      "    \n",
      "    This is the function we need to audit:\n",
      "    ```solidity\n",
      "    function init(address _vether, address _USDV, address _utils) external {\n",
      "        require(inited == false);\n",
      "        inited = true;\n",
      "        VETHER = _vether;\n",
      "        USDV = _USDV;\n",
      "        UTILS = _utils;\n",
      "        rewardAddress = _USDV;\n",
      "    }function init(address _vader, address _usdv, address _vault) public {\n",
      "        require(inited == false);\n",
      "        inited = true;\n",
      "        VADER = _vader;\n",
      "        USDV = _usdv;\n",
      "        VAULT = _vault;\n",
      "        coolOffPeriod = 1;\n",
      "    }function init(address _vader, address _usdv, address _pool) public {\n",
      "        require(inited == false,  \"inited\");\n",
      "        inited = true;\n",
      "        VADER = _vader;\n",
      "        USDV = _usdv;\n",
      "        POOLS = _pool;\n",
      "        rewardReductionFactor = 1;\n",
      "        timeForFullProtection = 1;//8640000; //100 days\n",
      "        curatedPoolLimit = 1;\n",
      "        anchorLimit = 5;\n",
      "        insidePriceLimit = 200;\n",
      "        outsidePriceLimit = 500;\n",
      "    }function init(address _vader, address _usdv, address _router, address _factory) public {\n",
      "        require(inited == false);\n",
      "        inited = true;\n",
      "        VADER = _vader;\n",
      "        USDV = _usdv;\n",
      "        ROUTER = _router;\n",
      "        FACTORY = _factory;\n",
      "    }function init(address _vader, address _usdv, address _router, address _pools, address _factory) public {\n",
      "        require(inited == false,  \"inited\");\n",
      "        inited = true;\n",
      "        VADER = _vader;\n",
      "        USDV = _usdv;\n",
      "        ROUTER = _router;\n",
      "        POOLS = _pools;\n",
      "        FACTORY = _factory;\n",
      "    }function init(address _vader, address _usdv, address _router, address _factory, address _pool) public {\n",
      "        require(inited == false);\n",
      "        inited = true;\n",
      "        POOLS = _pool;\n",
      "        VADER = _vader;\n",
      "        USDV = _usdv;\n",
      "        ROUTER = _router;\n",
      "        FACTORY = _factory;\n",
      "        POOLS = _pool;\n",
      "        erasToEarn = 100;\n",
      "        minimumDepositTime = 1;\n",
      "        minGrantTime = 2592000;     // 30 days\n",
      "    }function init(address _vader, address _vault, address _router) external {\n",
      "        require(inited == false);\n",
      "        inited = true;\n",
      "        VADER = _vader;\n",
      "        VAULT = _vault;\n",
      "        ROUTER = _router;\n",
      "        nextEraTime = block.timestamp + iVADER(VADER).secondsPerEra();\n",
      "    }function init(address _pool) public {\n",
      "        require(inited == false);\n",
      "        inited = true;\n",
      "        POOLS = _pool;\n",
      "    }\n",
      "    ```\n",
      "    \n",
      "Vulnerability Explanation:  [/INST] The `init` functions of several critical contracts do not have any access control or input validation. These functions can be called by anyone at any point after deployment (e.g., if a deployer accidentally deploys an old version), which would overwrite all previously set values with new ones. As these variables are used for crucial functionality like token addresses, timelocks, etc., this could lead to serious issues that might take weeks or even months to resolve.\n",
      "\n",
      "Proof of Concept\n",
      "\n",
      "*   In `Utils`, `Router`, `Factory`, `Anchor`, `Curator`, `ClaimUtils`, `Governance`, `Timelocker`, `Voter`, `Vester`, `VesterProxy`: Anyone can call `init()` without restrictions.\n",
      "*   In `VaderDistribution`, `VaderStaking`, `VaderToken`, `Vester`, `VesterProxy`, `VesterUtils`, `VesterWhitelist`, `VesterZapIn`, `VesterZapOut`, `VesterZapOutBase`, `VesterZapOutImpl`, `VesterZapOutImplementation`, `VesterZapOutMock`, `VesterZapOutTestHelper`, `VesterZapOutUpgradeableProxy`, `VesterZapOutUpgraded`, `VesterZapOutUpgradedMock`, `VesterZapOutUpgradedTestHelper`, `VesterZapOutUpgradedWithInitHook`, `VesterZapOutUpgradedWithInitHookMock`, `VesterZapOutUpgradedWithInitHookTestHelper`, `VesterZapOutUpgradedWithoutInitHook`, `VesterZapOutUpgradedWithoutInitHookMock`, `VesterZapOutUpgradedWithoutInitHookTestHelper`, `VesterZapOutUpgraded_Initializable`, `VesterZapOutUpgraded_InitializableMock`, `VesterZapOutUpgraded_InitializableTestHelper`, `VesterZapOutUpgraded_NonInitializable`, `VesterZapOutUpgraded_NonInitializableMock`, `VesterZapOutUpgraded_NonInitializableTestHelper`, `VesterZapOutUpgraded_withInitHook`, `VesterZapOutUpgraded_withoutInitHook`, `VesterZapOut_Initializable`, `VesterZapOut_InitializableMock`, `VesterZapOut_InitializableTestHelper`, `VesterZapOut_NonInitializable`, `VesterZapOut_NonInitializableMock`, `VesterZapOut_NonInitializableTestHelper`, `VesterZapOut_withInitHook`, `VesterZapOut_withoutInitHook`, `VesterZapOutMock`, `VesterZapOutTestHelper`, `VesterZapOutUpgradeableProxy`, `VesterZapOutUpgraded`, `VesterZapOutUpgradedMock`, `VesterZapOutUpgradedTestHelper`, `VesterZapOutUpgradedWithInitHook`, `VesterZapOutUpgradedWithInitHookMock`, `VesterZapOutUpgradedWithInitHookTestHelper`, `VesterZapOutUpgradedWithoutInitHook`, `VesterZapOutUpgradedWithoutInitHookMock`, `VesterZapOutUpgradedWithoutInitHookTestHelper`, `VesterZapOutUpgraded_Initializable`, `VesterZapOutUpgraded_InitializableMock`, `VesterZapOutUpgraded_InitializableTestHelper`, `VesterZapOutUpgraded_NonInitializable`, `VesterZapOutUpgraded_NonInitializableMock`, `VesterZapOutUpgraded_NonInitializableTestHelper`, `VesterZapOutUpgraded_withInitHook`, `VesterZapOutUpgraded_withoutInitHook`, `VesterZapOut_Initializable`, `VesterZapOut_InitializableMock`, `VesterZapOut_InitializableTestHelper`, `VesterZapOut_NonInitializable`, `VesterZapOut_NonInitializableMock`, `VesterZapOut_NonInitializableTestHelper`, `VesterZapOut_withInitHook`, `VesterZapOut_withoutInitHook`, `VesterZapOutMock`, `VesterZapOutTestHelper`, `VesterZapOutUpgradeableProxy`, `VesterZapOutUpgraded`, `VesterZapOutUpgradedMock`, `VesterZapOutUpgradedTestHelper`, `VesterZapOutUpgradedWithInitHook`, `VesterZapOutUpgradedWithInitHookMock`, `VesterZapOutUpgradedWithInitHookTestHelper`, `VesterZapOutUpgradedWithoutInitHook`, `VesterZapOutUpgradedWithoutInitHookMock`, `VesterZapOutUpgradedWithoutInitHookTestHelper`, `VesterZapOutUpgraded_Initializable`, `VesterZapOutUpgraded_InitializableMock`, `VesterZapOutUpgraded_InitializableTestHelper`, `VesterZapOutUpgraded_NonInitializable`, `VesterZapOutUpgraded_NonInitializableMock`, `VesterZapOutUpgraded_NonInitializableTestHelper`, `VesterZapOutUpgraded_withInitHook`, `VesterZapOutUpgraded_withoutInitHook`, `VesterZapOut_Initializable`, `VesterZapOut_InitializableMock`, `VesterZapOut_InitializableTestHelper`, `VesterZapOut_NonInitializable`, `VesterZapOut_NonInitializableMock`, `VesterZapOut_NonInitializableTestHelper`, `VesterZapOut_withInitHook`, `VesterZapOut_withoutInitHook`, `VesterZapOutMock`, `VesterZapOutTestHelper`, `VesterZapOutUpgradeableProxy`, `VesterZapOutUpgraded`, `VesterZapOutUpgradedMock`, `VesterZapOutUpgradedTestHelper`, `VesterZapOutUpgradedWithInitHook`, `VesterZapOutUpgradedWithInitHookMock`, `VesterZapOutUpgradedWithInitHookTestHelper`, `VesterZapOutUpgradedWithoutInitHook`, `VesterZapOutUpgradedWithoutInitHookMock`, `VesterZapOutUpgradedWithoutInitHookTestHelper`, `VesterZapOutUpgraded_Initializable`, `VesterZapOutUpgraded_InitializableMock`, `VesterZapOutUpgraded_InitializableTestHelper`, `VesterZapOutUpgraded_NonInitializable`, `VesterZapOutUpgraded_NonInitializableMock`, `VesterZapOutUpgraded_NonInitializableTestHelper`, `VesterZapOutUpgraded_withInitHook`, `VesterZapOutUpgraded_withoutInitHook`, `VesterZapOut_Initializable`, `VesterZapOut_InitializableMock`, `VesterZapOut_InitializableTestHelper`, `VesterZapOut_NonInitializable`, `VesterZapOut_NonInitializableMock`, `VesterZapOut_NonInitializableTestHelper`, `VesterZapOut_withInitHook`, `VesterZapOut_withoutInitHook`, `VesterZapOutMock`, `VesterZapOutTestHelper`, `VesterZapOutUpgradeableProxy`, `VesterZapOutUpgraded`, `VesterZapOutUpgradedMock`, `VesterZapOutUpgradedTestHelper`, `VesterZapOutUpgradedWithInitHook`, `VesterZapOutUpgradedWithInitHookMock`, `VesterZapOutUpgradedWithInitHookTestHelper`, `VesterZapOutUpgradedWithoutInitHook`, `VesterZapOutUpgradedWithoutInitHookMock`, `VesterZapOutUpgradedWithoutInitHookTestHelper`, `VesterZapOutUpgraded_Initializable`, `VesterZapOutUpgraded_InitializableMock`, `VesterZapOutUpgraded_InitializableTestHelper`, `VesterZapOutUpgraded_NonInitializable`, `VesterZapOutUpgraded_NonInitializableMock`, `VesterZapOutUpgraded_NonInitializableTestHelper`, `VesterZapOutUpgraded_withInitHook`, `VesterZapOutUpgraded_withoutInitHook`, `VesterZapOut_Initializable`, `VesterZapOut_InitializableMock`, `VesterZapOut_InitializableTestHelper`, `VesterZapOut_NonInitializable`, `VesterZapOut_NonInitializableMock`, `VesterZapOut_NonInitializableTestHelper`, `VesterZapOut_withInitH\n"
     ]
    },
    {
     "name": "stderr",
     "output_type": "stream",
     "text": [
      "\r\n",
      "Processing dataset:  42%|██████████████████████████▍                                    | 60/143 [22:21<1:08:19, 49.39s/it]"
     ]
    },
    {
     "name": "stderr",
     "output_type": "stream",
     "text": [
      "\r\n",
      "Processing dataset:  43%|███████████████████████████▋                                     | 61/143 [22:41<55:18, 40.47s/it]"
     ]
    },
    {
     "name": "stderr",
     "output_type": "stream",
     "text": [
      "\r\n",
      "Processing dataset:  43%|████████████████████████████▏                                    | 62/143 [22:48<41:09, 30.48s/it]"
     ]
    },
    {
     "name": "stderr",
     "output_type": "stream",
     "text": [
      "\r\n",
      "Processing dataset:  44%|████████████████████████████▋                                    | 63/143 [23:01<33:34, 25.18s/it]"
     ]
    },
    {
     "name": "stderr",
     "output_type": "stream",
     "text": [
      "\r\n",
      "Processing dataset:  45%|█████████████████████████████                                    | 64/143 [23:10<26:57, 20.47s/it]"
     ]
    },
    {
     "name": "stderr",
     "output_type": "stream",
     "text": [
      "\r\n",
      "Processing dataset:  45%|█████████████████████████████▌                                   | 65/143 [23:23<23:26, 18.04s/it]"
     ]
    },
    {
     "name": "stderr",
     "output_type": "stream",
     "text": [
      "\r\n",
      "Processing dataset:  46%|██████████████████████████████                                   | 66/143 [23:31<19:32, 15.22s/it]"
     ]
    },
    {
     "name": "stderr",
     "output_type": "stream",
     "text": [
      "\r\n",
      "Processing dataset:  47%|██████████████████████████████▍                                  | 67/143 [23:38<15:50, 12.51s/it]"
     ]
    },
    {
     "name": "stderr",
     "output_type": "stream",
     "text": [
      "\r\n",
      "Processing dataset:  48%|██████████████████████████████▉                                  | 68/143 [24:10<23:00, 18.41s/it]"
     ]
    },
    {
     "name": "stderr",
     "output_type": "stream",
     "text": [
      "\r\n",
      "Processing dataset:  48%|███████████████████████████████▎                                 | 69/143 [24:36<25:34, 20.73s/it]"
     ]
    },
    {
     "name": "stderr",
     "output_type": "stream",
     "text": [
      "\r\n",
      "Processing dataset:  49%|███████████████████████████████▊                                 | 70/143 [24:48<22:09, 18.21s/it]"
     ]
    },
    {
     "name": "stderr",
     "output_type": "stream",
     "text": [
      "\r\n",
      "Processing dataset:  50%|████████████████████████████████▎                                | 71/143 [25:42<34:46, 28.97s/it]"
     ]
    },
    {
     "name": "stderr",
     "output_type": "stream",
     "text": [
      "\r\n",
      "Processing dataset:  50%|████████████████████████████████▋                                | 72/143 [25:54<28:05, 23.74s/it]"
     ]
    },
    {
     "name": "stderr",
     "output_type": "stream",
     "text": [
      "\r\n",
      "Processing dataset:  51%|█████████████████████████████████▏                               | 73/143 [26:15<26:54, 23.06s/it]"
     ]
    },
    {
     "name": "stderr",
     "output_type": "stream",
     "text": [
      "\r\n",
      "Processing dataset:  52%|█████████████████████████████████▋                               | 74/143 [26:26<22:23, 19.47s/it]"
     ]
    },
    {
     "name": "stderr",
     "output_type": "stream",
     "text": [
      "\r\n",
      "Processing dataset:  52%|██████████████████████████████████                               | 75/143 [26:40<19:57, 17.61s/it]"
     ]
    },
    {
     "name": "stderr",
     "output_type": "stream",
     "text": [
      "\r\n",
      "Processing dataset:  53%|██████████████████████████████████▌                              | 76/143 [26:52<17:48, 15.94s/it]"
     ]
    },
    {
     "name": "stderr",
     "output_type": "stream",
     "text": [
      "\r\n",
      "Processing dataset:  54%|███████████████████████████████████                              | 77/143 [27:04<16:28, 14.97s/it]"
     ]
    },
    {
     "name": "stderr",
     "output_type": "stream",
     "text": [
      "\r\n",
      "Processing dataset:  55%|███████████████████████████████████▍                             | 78/143 [27:25<18:04, 16.69s/it]"
     ]
    },
    {
     "name": "stderr",
     "output_type": "stream",
     "text": [
      "\r\n",
      "Processing dataset:  55%|███████████████████████████████████▉                             | 79/143 [27:31<14:24, 13.51s/it]"
     ]
    },
    {
     "name": "stderr",
     "output_type": "stream",
     "text": [
      "\r\n",
      "Processing dataset:  56%|████████████████████████████████████▎                            | 80/143 [27:53<16:50, 16.04s/it]"
     ]
    },
    {
     "name": "stderr",
     "output_type": "stream",
     "text": [
      "\r\n",
      "Processing dataset:  57%|████████████████████████████████████▊                            | 81/143 [28:23<20:42, 20.04s/it]"
     ]
    },
    {
     "name": "stderr",
     "output_type": "stream",
     "text": [
      "\r\n",
      "Processing dataset:  57%|█████████████████████████████████████▎                           | 82/143 [28:51<23:00, 22.63s/it]"
     ]
    },
    {
     "name": "stderr",
     "output_type": "stream",
     "text": [
      "\r\n",
      "Processing dataset:  58%|█████████████████████████████████████▋                           | 83/143 [29:05<20:01, 20.02s/it]"
     ]
    },
    {
     "name": "stderr",
     "output_type": "stream",
     "text": [
      "\r\n",
      "Processing dataset:  59%|██████████████████████████████████████▏                          | 84/143 [29:21<18:26, 18.75s/it]"
     ]
    },
    {
     "name": "stderr",
     "output_type": "stream",
     "text": [
      "\r\n",
      "Processing dataset:  59%|██████████████████████████████████████▋                          | 85/143 [29:27<14:31, 15.02s/it]"
     ]
    },
    {
     "name": "stderr",
     "output_type": "stream",
     "text": [
      "\r\n",
      "Processing dataset:  60%|███████████████████████████████████████                          | 86/143 [29:57<18:28, 19.45s/it]"
     ]
    },
    {
     "name": "stderr",
     "output_type": "stream",
     "text": [
      "\r\n",
      "Processing dataset:  61%|███████████████████████████████████████▌                         | 87/143 [30:05<15:00, 16.09s/it]"
     ]
    },
    {
     "name": "stderr",
     "output_type": "stream",
     "text": [
      "\r\n",
      "Processing dataset:  62%|████████████████████████████████████████                         | 88/143 [30:12<12:03, 13.15s/it]"
     ]
    },
    {
     "name": "stderr",
     "output_type": "stream",
     "text": [
      "\r\n",
      "Processing dataset:  62%|████████████████████████████████████████▍                        | 89/143 [30:24<11:44, 13.05s/it]"
     ]
    },
    {
     "name": "stderr",
     "output_type": "stream",
     "text": [
      "\r\n",
      "Processing dataset:  63%|████████████████████████████████████████▉                        | 90/143 [30:37<11:29, 13.01s/it]"
     ]
    },
    {
     "name": "stderr",
     "output_type": "stream",
     "text": [
      "\r\n",
      "Processing dataset:  64%|█████████████████████████████████████████▎                       | 91/143 [30:47<10:19, 11.91s/it]"
     ]
    },
    {
     "name": "stderr",
     "output_type": "stream",
     "text": [
      "\r\n",
      "Processing dataset:  64%|█████████████████████████████████████████▊                       | 92/143 [31:11<13:23, 15.75s/it]"
     ]
    },
    {
     "name": "stderr",
     "output_type": "stream",
     "text": [
      "\r\n",
      "Processing dataset:  65%|██████████████████████████████████████████▎                      | 93/143 [31:24<12:13, 14.67s/it]"
     ]
    },
    {
     "name": "stderr",
     "output_type": "stream",
     "text": [
      "\r\n",
      "Processing dataset:  66%|██████████████████████████████████████████▋                      | 94/143 [31:52<15:22, 18.84s/it]"
     ]
    },
    {
     "name": "stderr",
     "output_type": "stream",
     "text": [
      "\r\n",
      "Processing dataset:  66%|███████████████████████████████████████████▏                     | 95/143 [32:07<14:07, 17.65s/it]"
     ]
    },
    {
     "name": "stderr",
     "output_type": "stream",
     "text": [
      "\r\n",
      "Processing dataset:  67%|███████████████████████████████████████████▋                     | 96/143 [32:21<12:59, 16.58s/it]"
     ]
    },
    {
     "name": "stderr",
     "output_type": "stream",
     "text": [
      "\r\n",
      "Processing dataset:  68%|████████████████████████████████████████████                     | 97/143 [32:29<10:42, 13.97s/it]"
     ]
    },
    {
     "name": "stderr",
     "output_type": "stream",
     "text": [
      "\r\n",
      "Processing dataset:  69%|████████████████████████████████████████████▌                    | 98/143 [32:43<10:30, 14.02s/it]"
     ]
    },
    {
     "name": "stderr",
     "output_type": "stream",
     "text": [
      "\r\n",
      "Processing dataset:  69%|█████████████████████████████████████████████                    | 99/143 [32:53<09:22, 12.77s/it]"
     ]
    },
    {
     "name": "stderr",
     "output_type": "stream",
     "text": [
      "\r\n",
      "Processing dataset:  70%|████████████████████████████████████████████▊                   | 100/143 [33:04<08:42, 12.15s/it]"
     ]
    },
    {
     "name": "stderr",
     "output_type": "stream",
     "text": [
      "\r\n",
      "Processing dataset:  71%|█████████████████████████████████████████████▏                  | 101/143 [33:14<08:13, 11.75s/it]"
     ]
    },
    {
     "name": "stderr",
     "output_type": "stream",
     "text": [
      "\r\n",
      "Processing dataset:  71%|█████████████████████████████████████████████▋                  | 102/143 [33:34<09:43, 14.23s/it]"
     ]
    },
    {
     "name": "stderr",
     "output_type": "stream",
     "text": [
      "\r\n",
      "Processing dataset:  72%|██████████████████████████████████████████████                  | 103/143 [33:57<11:04, 16.62s/it]"
     ]
    },
    {
     "name": "stderr",
     "output_type": "stream",
     "text": [
      "\r\n",
      "Processing dataset:  73%|██████████████████████████████████████████████▌                 | 104/143 [34:36<15:13, 23.41s/it]"
     ]
    },
    {
     "name": "stderr",
     "output_type": "stream",
     "text": [
      "\r\n",
      "Processing dataset:  73%|██████████████████████████████████████████████▉                 | 105/143 [34:47<12:26, 19.65s/it]"
     ]
    },
    {
     "name": "stderr",
     "output_type": "stream",
     "text": [
      "\r\n",
      "Processing dataset:  74%|███████████████████████████████████████████████▍                | 106/143 [34:55<10:03, 16.32s/it]"
     ]
    },
    {
     "name": "stderr",
     "output_type": "stream",
     "text": [
      "\r\n",
      "Processing dataset:  75%|███████████████████████████████████████████████▉                | 107/143 [35:28<12:46, 21.30s/it]"
     ]
    },
    {
     "name": "stderr",
     "output_type": "stream",
     "text": [
      "\r\n",
      "Processing dataset:  76%|████████████████████████████████████████████████▎               | 108/143 [35:40<10:41, 18.33s/it]"
     ]
    },
    {
     "name": "stderr",
     "output_type": "stream",
     "text": [
      "\r\n",
      "Processing dataset:  76%|████████████████████████████████████████████████▊               | 109/143 [35:46<08:15, 14.59s/it]"
     ]
    },
    {
     "name": "stderr",
     "output_type": "stream",
     "text": [
      "\r\n",
      "Processing dataset:  77%|█████████████████████████████████████████████████▏              | 110/143 [36:21<11:26, 20.79s/it]"
     ]
    },
    {
     "name": "stderr",
     "output_type": "stream",
     "text": [
      "\r\n",
      "Processing dataset:  78%|█████████████████████████████████████████████████▋              | 111/143 [36:26<08:39, 16.24s/it]"
     ]
    },
    {
     "name": "stderr",
     "output_type": "stream",
     "text": [
      "\r\n",
      "Processing dataset:  78%|██████████████████████████████████████████████████▏             | 112/143 [36:37<07:31, 14.57s/it]"
     ]
    },
    {
     "name": "stderr",
     "output_type": "stream",
     "text": [
      "\r\n",
      "Processing dataset:  79%|██████████████████████████████████████████████████▌             | 113/143 [36:48<06:43, 13.45s/it]"
     ]
    },
    {
     "name": "stderr",
     "output_type": "stream",
     "text": [
      "\r\n",
      "Processing dataset:  80%|███████████████████████████████████████████████████             | 114/143 [37:07<07:22, 15.27s/it]"
     ]
    },
    {
     "name": "stderr",
     "output_type": "stream",
     "text": [
      "\r\n",
      "Processing dataset:  80%|███████████████████████████████████████████████████▍            | 115/143 [37:20<06:41, 14.34s/it]"
     ]
    },
    {
     "name": "stderr",
     "output_type": "stream",
     "text": [
      "\r\n",
      "Processing dataset:  81%|███████████████████████████████████████████████████▉            | 116/143 [37:46<08:03, 17.90s/it]"
     ]
    },
    {
     "name": "stderr",
     "output_type": "stream",
     "text": [
      "\r\n",
      "Processing dataset:  82%|████████████████████████████████████████████████████▎           | 117/143 [38:01<07:23, 17.04s/it]"
     ]
    },
    {
     "name": "stderr",
     "output_type": "stream",
     "text": [
      "\r\n",
      "Processing dataset:  83%|████████████████████████████████████████████████████▊           | 118/143 [38:18<07:06, 17.08s/it]"
     ]
    },
    {
     "name": "stderr",
     "output_type": "stream",
     "text": [
      "\r\n",
      "Processing dataset:  83%|█████████████████████████████████████████████████████▎          | 119/143 [38:48<08:24, 21.02s/it]"
     ]
    },
    {
     "name": "stderr",
     "output_type": "stream",
     "text": [
      "\r\n",
      "Processing dataset:  84%|█████████████████████████████████████████████████████▋          | 120/143 [39:09<08:04, 21.08s/it]"
     ]
    },
    {
     "name": "stderr",
     "output_type": "stream",
     "text": [
      "\r\n",
      "Processing dataset:  85%|██████████████████████████████████████████████████████▏         | 121/143 [39:18<06:19, 17.25s/it]"
     ]
    },
    {
     "name": "stderr",
     "output_type": "stream",
     "text": [
      "\r\n",
      "Processing dataset:  85%|██████████████████████████████████████████████████████▌         | 122/143 [39:33<05:48, 16.57s/it]"
     ]
    },
    {
     "name": "stderr",
     "output_type": "stream",
     "text": [
      "\r\n",
      "Processing dataset:  86%|███████████████████████████████████████████████████████         | 123/143 [39:59<06:28, 19.42s/it]"
     ]
    },
    {
     "name": "stderr",
     "output_type": "stream",
     "text": [
      "\r\n",
      "Processing dataset:  87%|███████████████████████████████████████████████████████▍        | 124/143 [40:28<07:02, 22.25s/it]"
     ]
    },
    {
     "name": "stderr",
     "output_type": "stream",
     "text": [
      "\r\n",
      "Processing dataset:  87%|███████████████████████████████████████████████████████▉        | 125/143 [40:44<06:08, 20.47s/it]"
     ]
    },
    {
     "name": "stderr",
     "output_type": "stream",
     "text": [
      "\r\n",
      "Processing dataset:  88%|████████████████████████████████████████████████████████▍       | 126/143 [40:56<05:05, 17.95s/it]"
     ]
    },
    {
     "name": "stderr",
     "output_type": "stream",
     "text": [
      "\r\n",
      "Processing dataset:  89%|████████████████████████████████████████████████████████▊       | 127/143 [41:20<05:17, 19.84s/it]"
     ]
    },
    {
     "name": "stderr",
     "output_type": "stream",
     "text": [
      "\r\n",
      "Processing dataset:  90%|█████████████████████████████████████████████████████████▎      | 128/143 [41:35<04:36, 18.44s/it]"
     ]
    },
    {
     "name": "stderr",
     "output_type": "stream",
     "text": [
      "\r\n",
      "Processing dataset:  90%|█████████████████████████████████████████████████████████▋      | 129/143 [41:54<04:17, 18.40s/it]"
     ]
    },
    {
     "name": "stderr",
     "output_type": "stream",
     "text": [
      "\r\n",
      "Processing dataset:  91%|██████████████████████████████████████████████████████████▏     | 130/143 [42:09<03:46, 17.42s/it]"
     ]
    },
    {
     "name": "stderr",
     "output_type": "stream",
     "text": [
      "\r\n",
      "Processing dataset:  92%|██████████████████████████████████████████████████████████▋     | 131/143 [42:17<02:54, 14.54s/it]"
     ]
    },
    {
     "name": "stderr",
     "output_type": "stream",
     "text": [
      "\r\n",
      "Processing dataset:  92%|███████████████████████████████████████████████████████████     | 132/143 [42:46<03:26, 18.81s/it]"
     ]
    },
    {
     "name": "stderr",
     "output_type": "stream",
     "text": [
      "\r\n",
      "Processing dataset:  93%|███████████████████████████████████████████████████████████▌    | 133/143 [43:09<03:23, 20.31s/it]"
     ]
    },
    {
     "name": "stderr",
     "output_type": "stream",
     "text": [
      "\r\n",
      "Processing dataset:  94%|███████████████████████████████████████████████████████████▉    | 134/143 [43:16<02:26, 16.25s/it]"
     ]
    },
    {
     "name": "stderr",
     "output_type": "stream",
     "text": [
      "\r\n",
      "Processing dataset:  94%|████████████████████████████████████████████████████████████▍   | 135/143 [43:34<02:13, 16.64s/it]"
     ]
    },
    {
     "name": "stderr",
     "output_type": "stream",
     "text": [
      "\r\n",
      "Processing dataset:  95%|████████████████████████████████████████████████████████████▊   | 136/143 [43:51<01:57, 16.83s/it]"
     ]
    },
    {
     "name": "stderr",
     "output_type": "stream",
     "text": [
      "\r\n",
      "Processing dataset:  96%|█████████████████████████████████████████████████████████████▎  | 137/143 [43:59<01:24, 14.06s/it]"
     ]
    },
    {
     "name": "stderr",
     "output_type": "stream",
     "text": [
      "\r\n",
      "Processing dataset:  97%|█████████████████████████████████████████████████████████████▊  | 138/143 [44:08<01:03, 12.67s/it]"
     ]
    },
    {
     "name": "stderr",
     "output_type": "stream",
     "text": [
      "\r\n",
      "Processing dataset:  97%|██████████████████████████████████████████████████████████████▏ | 139/143 [44:18<00:48, 12.03s/it]"
     ]
    },
    {
     "name": "stderr",
     "output_type": "stream",
     "text": [
      "\r\n",
      "Processing dataset:  98%|██████████████████████████████████████████████████████████████▋ | 140/143 [44:26<00:32, 10.75s/it]"
     ]
    },
    {
     "name": "stderr",
     "output_type": "stream",
     "text": [
      "\r\n",
      "Processing dataset:  99%|███████████████████████████████████████████████████████████████ | 141/143 [45:00<00:35, 17.66s/it]"
     ]
    },
    {
     "name": "stderr",
     "output_type": "stream",
     "text": [
      "\r\n",
      "Processing dataset:  99%|███████████████████████████████████████████████████████████████▌| 142/143 [45:36<00:23, 23.07s/it]"
     ]
    },
    {
     "name": "stderr",
     "output_type": "stream",
     "text": [
      "\r\n",
      "Processing dataset: 100%|████████████████████████████████████████████████████████████████| 143/143 [45:49<00:00, 20.13s/it]"
     ]
    },
    {
     "name": "stderr",
     "output_type": "stream",
     "text": [
      "\r\n",
      "Processing dataset: 100%|████████████████████████████████████████████████████████████████| 143/143 [45:49<00:00, 19.23s/it]"
     ]
    },
    {
     "name": "stderr",
     "output_type": "stream",
     "text": [
      "\n"
     ]
    }
   ],
   "source": [
    "import re\n",
    "from unsloth.chat_templates import get_chat_template\n",
    "from tqdm import tqdm  # Import tqdm for progress bar\n",
    "import pandas as pd\n",
    "\n",
    "def extract_llm_res(raw_llm):\n",
    "    # Regex pattern to extract the assistant's response after the \"Vulnerability Explanation\" section\n",
    "    pattern = r'\\[/INST](.*?)</s>'\n",
    "\n",
    "    match = re.search(pattern, raw_llm, re.DOTALL)\n",
    "\n",
    "    if match:\n",
    "        assistant_response = match.group(1).strip()\n",
    "        return assistant_response\n",
    "    else:\n",
    "        print(f\"No response found. Response: {raw_llm}\")\n",
    "\n",
    "# Initialize the result collection\n",
    "results = []\n",
    "\n",
    "# Iterate over the dataset with tqdm for progress bar\n",
    "for idx, example in tqdm(enumerate(test_dataset), total=len(test_dataset), desc=\"Processing dataset\"):\n",
    "    messages = example['conversations']  # Get the conversation for the current entry\n",
    "    \n",
    "    # Tokenize input\n",
    "    inputs = tokenizer.apply_chat_template(\n",
    "        messages,\n",
    "        tokenize=True,\n",
    "        add_generation_prompt=True,  # Must add for generation\n",
    "        return_tensors=\"pt\",\n",
    "    ).to(\"cuda\")\n",
    "\n",
    "    # Get LLM output\n",
    "    outputs = model.generate(input_ids=inputs, max_new_tokens=2048, use_cache=True, repetition_penalty=1.2,\n",
    "                                  temperature=0.1, min_p=0.1)\n",
    "    raw_out = tokenizer.batch_decode(outputs)[0]\n",
    "    \n",
    "    # Extract LLM response\n",
    "    llm_output = extract_llm_res(raw_out)\n",
    "    \n",
    "    # Get the ground truth for the current entry\n",
    "    ground_truth = df_test[df_test['vuln_code'] == example['vuln_code']]['full_context'].values[0]\n",
    "    \n",
    "    results.append({\n",
    "        \"vuln_code\": example['vuln_code'],\n",
    "        \"ground_truth\": ground_truth,\n",
    "        \"llm_output\": llm_output\n",
    "    })\n",
    "\n",
    "# After the loop, you can convert the results list to a DataFrame or another suitable format if needed\n",
    "verification_results_df = pd.DataFrame(results)"
   ]
  },
  {
   "cell_type": "code",
   "execution_count": 36,
   "id": "f74f1358",
   "metadata": {
    "execution": {
     "iopub.execute_input": "2025-06-11T07:41:11.158511Z",
     "iopub.status.busy": "2025-06-11T07:41:11.158202Z",
     "iopub.status.idle": "2025-06-11T07:41:11.173489Z",
     "shell.execute_reply": "2025-06-11T07:41:11.172788Z"
    }
   },
   "outputs": [],
   "source": [
    "verification_results_df.to_csv(\"sft_codellama13b_vuln_exp.csv\")"
   ]
  }
 ],
 "metadata": {
  "kernelspec": {
   "display_name": "Python 3 (ipykernel)",
   "language": "python",
   "name": "python3"
  },
  "language_info": {
   "codemirror_mode": {
    "name": "ipython",
    "version": 3
   },
   "file_extension": ".py",
   "mimetype": "text/x-python",
   "name": "python",
   "nbconvert_exporter": "python",
   "pygments_lexer": "ipython3",
   "version": "3.10.12"
  }
 },
 "nbformat": 4,
 "nbformat_minor": 5
}
