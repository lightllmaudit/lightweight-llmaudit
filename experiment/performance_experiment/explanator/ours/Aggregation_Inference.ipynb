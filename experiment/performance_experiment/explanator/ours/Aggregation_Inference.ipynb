{
 "cells": [
  {
   "cell_type": "code",
   "execution_count": null,
   "id": "1c85a231",
   "metadata": {
    "execution": {
     "iopub.execute_input": "2025-06-07T01:25:30.697107Z",
     "iopub.status.busy": "2025-06-07T01:25:30.696843Z",
     "iopub.status.idle": "2025-06-07T01:25:31.371423Z",
     "shell.execute_reply": "2025-06-07T01:25:31.370488Z"
    }
   },
   "outputs": [],
   "source": [
    "import pandas as pd\n",
    "\n",
    "df_verif_0 = pd.read_csv(\"sft_eval_0.csv\")\n",
    "df_verif_1 = pd.read_csv(\"sft_eval_1.csv\")\n",
    "df_verif_2 = pd.read_csv(\"sft_eval_2.csv\")\n",
    "df_verif_3 = pd.read_csv(\"sft_eval_3.csv\")\n",
    "df_verif_4 = pd.read_csv(\"sft_eval_4.csv\")\n",
    "\n",
    "df_combined = df_verif_0.copy()\n",
    "df_combined.columns = ['vuln_code', 'ground_truth', 'llm_output_0']\n",
    "df_combined['llm_output_1'] = df_verif_1['llm_output']\n",
    "df_combined['llm_output_2'] = df_verif_2['llm_output']\n",
    "df_combined['llm_output_3'] = df_verif_3['llm_output']\n",
    "df_combined['llm_output_4'] = df_verif_4['llm_output']\n",
    "\n",
    "def extract_answer(text: str) -> str | None:\n",
    "    answer = text.split(\"</think>\\n\\n\")[-1]\n",
    "    if \"<think>\" in answer:\n",
    "        return None\n",
    "    return answer.strip()\n",
    "\n",
    "df_combined['llm_output_0'] = df_combined['llm_output_0'].apply(extract_answer)\n",
    "df_combined['llm_output_1'] = df_combined['llm_output_1'].apply(extract_answer)\n",
    "df_combined['llm_output_2'] = df_combined['llm_output_2'].apply(extract_answer)\n",
    "df_combined['llm_output_3'] = df_combined['llm_output_3'].apply(extract_answer)\n",
    "df_combined['llm_output_4'] = df_combined['llm_output_4'].apply(extract_answer)"
   ]
  },
  {
   "cell_type": "code",
   "execution_count": 2,
   "id": "537929bd",
   "metadata": {
    "execution": {
     "iopub.execute_input": "2025-06-07T01:25:31.374997Z",
     "iopub.status.busy": "2025-06-07T01:25:31.374767Z",
     "iopub.status.idle": "2025-06-07T01:25:31.386935Z",
     "shell.execute_reply": "2025-06-07T01:25:31.386167Z"
    }
   },
   "outputs": [],
   "source": [
    "template = \"\"\"We have several vulnerability analysis for the smart contract security audit.\n",
    "Your task is to produce a vulnerability explanation that selects and integrates only the most accurate, logical, reasonable, coherent and credible vulnerabilities from the existing analyses.\n",
    "    \n",
    "Make sure to make only one vulnerability explanation in your final answer.\n",
    "Also make sure your final answer only contain the vulnerability explanation, without any additional commentary.\n",
    "\n",
    "###Smart Contract Under Review  \n",
    "```solidity\n",
    "{code}\n",
    "````\n",
    "\n",
    "###Analysis 1\n",
    "{output_0}\n",
    "\n",
    "###Analysis 2\n",
    "{output_1}\n",
    "\n",
    "###Analysis 3\n",
    "{output_2}\n",
    "\n",
    "###Analysis 4\n",
    "{output_3}\n",
    "\n",
    "###Analysis 5:\n",
    "{output_4}\n",
    "\n",
    "Final Answer:\n",
    "\"\"\"\n",
    "\n",
    "df_combined[\"prompt\"] = df_combined.apply(lambda row: template.format(\n",
    "    code=row[\"vuln_code\"],\n",
    "    output_0=row.get(\"llm_output_0\", \"\"),\n",
    "    output_1=row.get(\"llm_output_1\", \"\"),\n",
    "    output_2=row.get(\"llm_output_2\", \"\"),\n",
    "    output_3=row.get(\"llm_output_3\", \"\"),\n",
    "    output_4=row.get(\"llm_output_4\", \"\")\n",
    "), axis=1)"
   ]
  },
  {
   "cell_type": "code",
   "execution_count": 3,
   "id": "be69244e",
   "metadata": {
    "execution": {
     "iopub.execute_input": "2025-06-07T01:25:31.389943Z",
     "iopub.status.busy": "2025-06-07T01:25:31.389724Z",
     "iopub.status.idle": "2025-06-07T01:27:20.733905Z",
     "shell.execute_reply": "2025-06-07T01:27:20.732971Z"
    }
   },
   "outputs": [
    {
     "name": "stderr",
     "output_type": "stream",
     "text": [
      "/usr/local/lib/python3.10/dist-packages/torch/utils/_pytree.py:185: FutureWarning: optree is installed but the version is too old to support PyTorch Dynamo in C++ pytree. C++ pytree support is disabled. Please consider upgrading optree using `python3 -m pip install --upgrade 'optree>=0.13.0'`.\n",
      "  warnings.warn(\n"
     ]
    },
    {
     "name": "stdout",
     "output_type": "stream",
     "text": [
      "🦥 Unsloth: Will patch your computer to enable 2x faster free finetuning.\n"
     ]
    },
    {
     "name": "stderr",
     "output_type": "stream",
     "text": [
      "/usr/local/lib/python3.10/dist-packages/tqdm/auto.py:21: TqdmWarning: IProgress not found. Please update jupyter and ipywidgets. See https://ipywidgets.readthedocs.io/en/stable/user_install.html\n",
      "  from .autonotebook import tqdm as notebook_tqdm\n"
     ]
    },
    {
     "name": "stdout",
     "output_type": "stream",
     "text": [
      "🦥 Unsloth Zoo will now patch everything to make training faster!\n"
     ]
    },
    {
     "name": "stderr",
     "output_type": "stream",
     "text": [
      "/usr/local/lib/python3.10/dist-packages/torch/utils/_pytree.py:185: FutureWarning: optree is installed but the version is too old to support PyTorch Dynamo in C++ pytree. C++ pytree support is disabled. Please consider upgrading optree using `python3 -m pip install --upgrade 'optree>=0.13.0'`.\n",
      "  warnings.warn(\n"
     ]
    },
    {
     "name": "stdout",
     "output_type": "stream",
     "text": [
      "INFO 06-07 01:25:39 [importing.py:53] Triton module has been replaced with a placeholder.\n"
     ]
    },
    {
     "name": "stdout",
     "output_type": "stream",
     "text": [
      "INFO 06-07 01:25:39 [__init__.py:239] Automatically detected platform cuda.\n"
     ]
    },
    {
     "name": "stderr",
     "output_type": "stream",
     "text": [
      "2025-06-07 01:25:41,618\tINFO util.py:154 -- Missing packages: ['ipywidgets']. Run `pip install -U ipywidgets`, then restart the notebook server for rich notebook output.\n"
     ]
    },
    {
     "name": "stdout",
     "output_type": "stream",
     "text": [
      "==((====))==  Unsloth 2025.5.3: Fast Qwen3 patching. Transformers: 4.51.3. vLLM: 0.8.5.\n",
      "   \\\\   /|    Tesla V100-SXM2-32GB. Num GPUs = 1. Max memory: 31.749 GB. Platform: Linux.\n",
      "O^O/ \\_/ \\    Torch: 2.6.0+cu124. CUDA: 7.0. CUDA Toolkit: 12.4. Triton: 3.2.0\n",
      "\\        /    Bfloat16 = FALSE. FA [Xformers = 0.0.29.post2. FA2 = False]\n",
      " \"-____-\"     Free license: http://github.com/unslothai/unsloth\n",
      "Unsloth: Fast downloading is enabled - ignore downloading bars which are red colored!\n"
     ]
    },
    {
     "name": "stdout",
     "output_type": "stream",
     "text": [
      "Unsloth: Your GPU does not support prefix caching - will disable!\n",
      "Unsloth: vLLM loading unsloth/qwen3-4b-unsloth-bnb-4bit with actual GPU utilization = 49.46%\n",
      "Unsloth: Your GPU has CUDA compute capability 7.0 with VRAM = 31.75 GB.\n",
      "Unsloth: Using conservativeness = 1.0. Chunked prefill tokens = 32768. Num Sequences = 256.\n",
      "Unsloth: vLLM's KV Cache can use up to 12.84 GB. Also swap space = 6 GB.\n"
     ]
    },
    {
     "name": "stdout",
     "output_type": "stream",
     "text": [
      "WARNING 06-07 01:25:54 [config.py:2972] Casting torch.bfloat16 to torch.float16.\n"
     ]
    },
    {
     "name": "stdout",
     "output_type": "stream",
     "text": [
      "INFO 06-07 01:26:05 [config.py:717] This model supports multiple tasks: {'generate', 'reward', 'classify', 'embed', 'score'}. Defaulting to 'generate'.\n"
     ]
    },
    {
     "name": "stdout",
     "output_type": "stream",
     "text": [
      "WARNING 06-07 01:26:05 [arg_utils.py:1658] Compute Capability < 8.0 is not supported by the V1 Engine. Falling back to V0. \n"
     ]
    },
    {
     "name": "stdout",
     "output_type": "stream",
     "text": [
      "Unsloth: vLLM Bitsandbytes config using kwargs = {'load_in_8bit': False, 'load_in_4bit': True, 'bnb_4bit_compute_dtype': 'float16', 'bnb_4bit_quant_storage': 'uint8', 'bnb_4bit_quant_type': 'nf4', 'bnb_4bit_use_double_quant': True, 'llm_int8_enable_fp32_cpu_offload': False, 'llm_int8_has_fp16_weight': False, 'llm_int8_skip_modules': ['lm_head', 'multi_modal_projector', 'merger', 'modality_projection', 'model.layers.4.mlp', 'model.layers.6.self_attn', 'model.layers.34.self_attn', 'model.layers.33.self_attn', 'model.layers.4.self_attn', 'model.layers.34.mlp', 'model.layers.1.self_attn', 'model.layers.1.mlp', 'model.layers.0.mlp', 'model.layers.0.self_attn', 'model.layers.3.mlp', 'model.layers.6.mlp'], 'llm_int8_threshold': 6.0}\n",
      "INFO 06-07 01:26:05 [llm_engine.py:240] Initializing a V0 LLM engine (v0.8.5) with config: model='unsloth/qwen3-4b-unsloth-bnb-4bit', speculative_config=None, tokenizer='unsloth/qwen3-4b-unsloth-bnb-4bit', skip_tokenizer_init=False, tokenizer_mode=auto, revision=None, override_neuron_config=None, tokenizer_revision=None, trust_remote_code=False, dtype=torch.float16, max_seq_len=32768, download_dir=None, load_format=bitsandbytes, tensor_parallel_size=1, pipeline_parallel_size=1, disable_custom_all_reduce=False, quantization=bitsandbytes, enforce_eager=False, kv_cache_dtype=auto,  device_config=cuda:0, decoding_config=DecodingConfig(guided_decoding_backend='auto', reasoning_backend=None), observability_config=ObservabilityConfig(show_hidden_metrics=False, otlp_traces_endpoint=None, collect_model_forward_time=False, collect_model_execute_time=False), seed=0, served_model_name=unsloth/qwen3-4b-unsloth-bnb-4bit, num_scheduler_steps=1, multi_step_stream_outputs=True, enable_prefix_caching=False, chunked_prefill_enabled=False, use_async_output_proc=True, disable_mm_preprocessor_cache=False, mm_processor_kwargs=None, pooler_config=None, compilation_config={\"level\":0,\"backend\":\"inductor\",\"splitting_ops\":[],\"use_inductor\":true,\"compile_sizes\":[],\"inductor_compile_config\":{\"debug\":false,\"dce\":true,\"coordinate_descent_tuning\":true,\"trace.enabled\":false,\"trace.graph_diagram\":false,\"triton.cudagraphs\":true,\"compile_threads\":48,\"max_autotune\":false,\"disable_progress\":false,\"verbose_progress\":true,\"enable_auto_functionalized_v2\":false},\"use_cudagraph\":true,\"cudagraph_num_of_warmups\":1,\"cudagraph_capture_sizes\":[256,248,240,232,224,216,208,200,192,184,176,168,160,152,144,136,128,120,112,104,96,88,80,72,64,56,48,40,32,24,16,8,4,2,1],\"max_capture_size\":256}, use_cached_outputs=False, \n"
     ]
    },
    {
     "name": "stdout",
     "output_type": "stream",
     "text": [
      "INFO 06-07 01:26:07 [cuda.py:240] Cannot use FlashAttention-2 backend for Volta and Turing GPUs.\n"
     ]
    },
    {
     "name": "stdout",
     "output_type": "stream",
     "text": [
      "INFO 06-07 01:26:07 [cuda.py:289] Using XFormers backend.\n"
     ]
    },
    {
     "name": "stdout",
     "output_type": "stream",
     "text": [
      "INFO 06-07 01:26:07 [parallel_state.py:1004] rank 0 in world size 1 is assigned as DP rank 0, PP rank 0, TP rank 0\n"
     ]
    },
    {
     "name": "stdout",
     "output_type": "stream",
     "text": [
      "INFO 06-07 01:26:07 [model_runner.py:1108] Starting to load model unsloth/qwen3-4b-unsloth-bnb-4bit...\n"
     ]
    },
    {
     "name": "stdout",
     "output_type": "stream",
     "text": [
      "INFO 06-07 01:26:07 [loader.py:1187] Loading weights with BitsAndBytes quantization. May take a while ...\n"
     ]
    },
    {
     "name": "stdout",
     "output_type": "stream",
     "text": [
      "INFO 06-07 01:26:09 [weight_utils.py:265] Using model weights format ['*.safetensors']\n"
     ]
    },
    {
     "name": "stdout",
     "output_type": "stream",
     "text": [
      "INFO 06-07 01:26:09 [weight_utils.py:281] Time spent downloading weights for unsloth/qwen3-4b-unsloth-bnb-4bit: 0.500074 seconds\n"
     ]
    },
    {
     "name": "stdout",
     "output_type": "stream",
     "text": [
      "INFO 06-07 01:26:10 [weight_utils.py:315] No model.safetensors.index.json found in remote.\n"
     ]
    },
    {
     "name": "stderr",
     "output_type": "stream",
     "text": [
      "\r\n",
      "Loading safetensors checkpoint shards:   0% Completed | 0/1 [00:00<?, ?it/s]\n"
     ]
    },
    {
     "name": "stderr",
     "output_type": "stream",
     "text": [
      "\r\n",
      "Loading safetensors checkpoint shards: 100% Completed | 1/1 [00:07<00:00,  7.91s/it]\n"
     ]
    },
    {
     "name": "stderr",
     "output_type": "stream",
     "text": [
      "\r\n",
      "Loading safetensors checkpoint shards: 100% Completed | 1/1 [00:07<00:00,  7.91s/it]\n"
     ]
    },
    {
     "name": "stderr",
     "output_type": "stream",
     "text": [
      "\n"
     ]
    },
    {
     "name": "stderr",
     "output_type": "stream",
     "text": [
      "\r\n",
      "Loading safetensors checkpoint shards:   0% Completed | 0/1 [00:00<?, ?it/s]\n"
     ]
    },
    {
     "name": "stderr",
     "output_type": "stream",
     "text": [
      "\r\n",
      "Loading safetensors checkpoint shards: 100% Completed | 1/1 [00:01<00:00,  1.12s/it]\n"
     ]
    },
    {
     "name": "stderr",
     "output_type": "stream",
     "text": [
      "\r\n",
      "Loading safetensors checkpoint shards: 100% Completed | 1/1 [00:01<00:00,  1.12s/it]\n"
     ]
    },
    {
     "name": "stdout",
     "output_type": "stream",
     "text": [
      "INFO 06-07 01:26:19 [punica_selector.py:18] Using PunicaWrapperGPU.\n"
     ]
    },
    {
     "name": "stderr",
     "output_type": "stream",
     "text": [
      "\n"
     ]
    },
    {
     "name": "stdout",
     "output_type": "stream",
     "text": [
      "INFO 06-07 01:26:19 [model_runner.py:1140] Model loading took 3.5757 GiB and 12.036926 seconds\n"
     ]
    },
    {
     "name": "stdout",
     "output_type": "stream",
     "text": [
      "INFO 06-07 01:26:27 [worker.py:287] Memory profiling takes 7.25 seconds\r\n",
      "INFO 06-07 01:26:27 [worker.py:287] the current vLLM instance can use total_gpu_memory (31.75GiB) x gpu_memory_utilization (0.49) = 15.70GiB\r\n",
      "INFO 06-07 01:26:27 [worker.py:287] model weights take 3.58GiB; non_torch_memory takes 0.07GiB; PyTorch activation peak memory takes 2.62GiB; the rest of the memory reserved for KV Cache is 9.44GiB.\n"
     ]
    },
    {
     "name": "stdout",
     "output_type": "stream",
     "text": [
      "INFO 06-07 01:26:27 [executor_base.py:112] # cuda blocks: 4297, # CPU blocks: 2730\n"
     ]
    },
    {
     "name": "stdout",
     "output_type": "stream",
     "text": [
      "INFO 06-07 01:26:27 [executor_base.py:117] Maximum concurrency for 32768 tokens per request: 2.10x\n"
     ]
    },
    {
     "name": "stdout",
     "output_type": "stream",
     "text": [
      "INFO 06-07 01:26:32 [model_runner.py:1450] Capturing cudagraphs for decoding. This may lead to unexpected consequences if the model is not static. To run the model in eager mode, set 'enforce_eager=True' or use '--enforce-eager' in the CLI. If out-of-memory error occurs during cudagraph capture, consider decreasing `gpu_memory_utilization` or switching to eager mode. You can also reduce the `max_num_seqs` as needed to decrease memory usage.\n"
     ]
    },
    {
     "name": "stderr",
     "output_type": "stream",
     "text": [
      "\r\n",
      "Capturing CUDA graph shapes:   0%|                                                                 | 0/35 [00:00<?, ?it/s]"
     ]
    },
    {
     "name": "stderr",
     "output_type": "stream",
     "text": [
      "\r\n",
      "Capturing CUDA graph shapes:   3%|█▋                                                       | 1/35 [00:01<00:49,  1.47s/it]"
     ]
    },
    {
     "name": "stderr",
     "output_type": "stream",
     "text": [
      "\r\n",
      "Capturing CUDA graph shapes:   6%|███▎                                                     | 2/35 [00:02<00:44,  1.34s/it]"
     ]
    },
    {
     "name": "stderr",
     "output_type": "stream",
     "text": [
      "\r\n",
      "Capturing CUDA graph shapes:   9%|████▉                                                    | 3/35 [00:03<00:40,  1.27s/it]"
     ]
    },
    {
     "name": "stderr",
     "output_type": "stream",
     "text": [
      "\r\n",
      "Capturing CUDA graph shapes:  11%|██████▌                                                  | 4/35 [00:05<00:39,  1.28s/it]"
     ]
    },
    {
     "name": "stderr",
     "output_type": "stream",
     "text": [
      "\r\n",
      "Capturing CUDA graph shapes:  14%|████████▏                                                | 5/35 [00:06<00:38,  1.28s/it]"
     ]
    },
    {
     "name": "stderr",
     "output_type": "stream",
     "text": [
      "\r\n",
      "Capturing CUDA graph shapes:  17%|█████████▊                                               | 6/35 [00:07<00:36,  1.25s/it]"
     ]
    },
    {
     "name": "stderr",
     "output_type": "stream",
     "text": [
      "\r\n",
      "Capturing CUDA graph shapes:  20%|███████████▍                                             | 7/35 [00:08<00:34,  1.23s/it]"
     ]
    },
    {
     "name": "stderr",
     "output_type": "stream",
     "text": [
      "\r\n",
      "Capturing CUDA graph shapes:  23%|█████████████                                            | 8/35 [00:10<00:33,  1.24s/it]"
     ]
    },
    {
     "name": "stderr",
     "output_type": "stream",
     "text": [
      "\r\n",
      "Capturing CUDA graph shapes:  26%|██████████████▋                                          | 9/35 [00:11<00:32,  1.25s/it]"
     ]
    },
    {
     "name": "stderr",
     "output_type": "stream",
     "text": [
      "\r\n",
      "Capturing CUDA graph shapes:  29%|████████████████                                        | 10/35 [00:12<00:31,  1.25s/it]"
     ]
    },
    {
     "name": "stderr",
     "output_type": "stream",
     "text": [
      "\r\n",
      "Capturing CUDA graph shapes:  31%|█████████████████▌                                      | 11/35 [00:13<00:29,  1.23s/it]"
     ]
    },
    {
     "name": "stderr",
     "output_type": "stream",
     "text": [
      "\r\n",
      "Capturing CUDA graph shapes:  34%|███████████████████▏                                    | 12/35 [00:15<00:28,  1.23s/it]"
     ]
    },
    {
     "name": "stderr",
     "output_type": "stream",
     "text": [
      "\r\n",
      "Capturing CUDA graph shapes:  37%|████████████████████▊                                   | 13/35 [00:16<00:26,  1.22s/it]"
     ]
    },
    {
     "name": "stderr",
     "output_type": "stream",
     "text": [
      "\r\n",
      "Capturing CUDA graph shapes:  40%|██████████████████████▍                                 | 14/35 [00:17<00:25,  1.22s/it]"
     ]
    },
    {
     "name": "stderr",
     "output_type": "stream",
     "text": [
      "\r\n",
      "Capturing CUDA graph shapes:  43%|████████████████████████                                | 15/35 [00:18<00:24,  1.22s/it]"
     ]
    },
    {
     "name": "stderr",
     "output_type": "stream",
     "text": [
      "\r\n",
      "Capturing CUDA graph shapes:  46%|█████████████████████████▌                              | 16/35 [00:19<00:23,  1.21s/it]"
     ]
    },
    {
     "name": "stderr",
     "output_type": "stream",
     "text": [
      "\r\n",
      "Capturing CUDA graph shapes:  49%|███████████████████████████▏                            | 17/35 [00:21<00:22,  1.23s/it]"
     ]
    },
    {
     "name": "stderr",
     "output_type": "stream",
     "text": [
      "\r\n",
      "Capturing CUDA graph shapes:  51%|████████████████████████████▊                           | 18/35 [00:22<00:21,  1.25s/it]"
     ]
    },
    {
     "name": "stderr",
     "output_type": "stream",
     "text": [
      "\r\n",
      "Capturing CUDA graph shapes:  54%|██████████████████████████████▍                         | 19/35 [00:23<00:19,  1.24s/it]"
     ]
    },
    {
     "name": "stderr",
     "output_type": "stream",
     "text": [
      "\r\n",
      "Capturing CUDA graph shapes:  57%|████████████████████████████████                        | 20/35 [00:24<00:18,  1.25s/it]"
     ]
    },
    {
     "name": "stderr",
     "output_type": "stream",
     "text": [
      "\r\n",
      "Capturing CUDA graph shapes:  60%|█████████████████████████████████▌                      | 21/35 [00:26<00:17,  1.23s/it]"
     ]
    },
    {
     "name": "stderr",
     "output_type": "stream",
     "text": [
      "\r\n",
      "Capturing CUDA graph shapes:  63%|███████████████████████████████████▏                    | 22/35 [00:27<00:16,  1.24s/it]"
     ]
    },
    {
     "name": "stderr",
     "output_type": "stream",
     "text": [
      "\r\n",
      "Capturing CUDA graph shapes:  66%|████████████████████████████████████▊                   | 23/35 [00:28<00:14,  1.23s/it]"
     ]
    },
    {
     "name": "stderr",
     "output_type": "stream",
     "text": [
      "\r\n",
      "Capturing CUDA graph shapes:  69%|██████████████████████████████████████▍                 | 24/35 [00:29<00:13,  1.22s/it]"
     ]
    },
    {
     "name": "stderr",
     "output_type": "stream",
     "text": [
      "\r\n",
      "Capturing CUDA graph shapes:  71%|████████████████████████████████████████                | 25/35 [00:30<00:12,  1.21s/it]"
     ]
    },
    {
     "name": "stderr",
     "output_type": "stream",
     "text": [
      "\r\n",
      "Capturing CUDA graph shapes:  74%|█████████████████████████████████████████▌              | 26/35 [00:32<00:10,  1.21s/it]"
     ]
    },
    {
     "name": "stderr",
     "output_type": "stream",
     "text": [
      "\r\n",
      "Capturing CUDA graph shapes:  77%|███████████████████████████████████████████▏            | 27/35 [00:33<00:09,  1.21s/it]"
     ]
    },
    {
     "name": "stderr",
     "output_type": "stream",
     "text": [
      "\r\n",
      "Capturing CUDA graph shapes:  80%|████████████████████████████████████████████▊           | 28/35 [00:34<00:08,  1.22s/it]"
     ]
    },
    {
     "name": "stderr",
     "output_type": "stream",
     "text": [
      "\r\n",
      "Capturing CUDA graph shapes:  83%|██████████████████████████████████████████████▍         | 29/35 [00:35<00:07,  1.21s/it]"
     ]
    },
    {
     "name": "stderr",
     "output_type": "stream",
     "text": [
      "\r\n",
      "Capturing CUDA graph shapes:  86%|████████████████████████████████████████████████        | 30/35 [00:37<00:06,  1.23s/it]"
     ]
    },
    {
     "name": "stderr",
     "output_type": "stream",
     "text": [
      "\r\n",
      "Capturing CUDA graph shapes:  89%|█████████████████████████████████████████████████▌      | 31/35 [00:38<00:04,  1.24s/it]"
     ]
    },
    {
     "name": "stderr",
     "output_type": "stream",
     "text": [
      "\r\n",
      "Capturing CUDA graph shapes:  91%|███████████████████████████████████████████████████▏    | 32/35 [00:39<00:03,  1.25s/it]"
     ]
    },
    {
     "name": "stderr",
     "output_type": "stream",
     "text": [
      "\r\n",
      "Capturing CUDA graph shapes:  94%|████████████████████████████████████████████████████▊   | 33/35 [00:40<00:02,  1.25s/it]"
     ]
    },
    {
     "name": "stderr",
     "output_type": "stream",
     "text": [
      "\r\n",
      "Capturing CUDA graph shapes:  97%|██████████████████████████████████████████████████████▍ | 34/35 [00:42<00:01,  1.24s/it]"
     ]
    },
    {
     "name": "stderr",
     "output_type": "stream",
     "text": [
      "\r\n",
      "Capturing CUDA graph shapes: 100%|████████████████████████████████████████████████████████| 35/35 [00:43<00:00,  1.24s/it]"
     ]
    },
    {
     "name": "stderr",
     "output_type": "stream",
     "text": [
      "\r\n",
      "Capturing CUDA graph shapes: 100%|████████████████████████████████████████████████████████| 35/35 [00:43<00:00,  1.24s/it]"
     ]
    },
    {
     "name": "stdout",
     "output_type": "stream",
     "text": [
      "INFO 06-07 01:27:15 [model_runner.py:1592] Graph capturing finished in 43 secs, took 0.83 GiB\n"
     ]
    },
    {
     "name": "stdout",
     "output_type": "stream",
     "text": [
      "INFO 06-07 01:27:15 [llm_engine.py:437] init engine (profile, create kv cache, warmup model) took 55.54 seconds\n"
     ]
    },
    {
     "name": "stderr",
     "output_type": "stream",
     "text": [
      "\n"
     ]
    },
    {
     "name": "stdout",
     "output_type": "stream",
     "text": [
      "Unsloth: Just some info: will skip parsing ['post_feedforward_layernorm', 'pre_feedforward_layernorm']\n"
     ]
    },
    {
     "name": "stdout",
     "output_type": "stream",
     "text": [
      "Unsloth: Just some info: will skip parsing ['post_feedforward_layernorm', 'pre_feedforward_layernorm']\n"
     ]
    }
   ],
   "source": [
    "from unsloth import FastLanguageModel, is_bfloat16_supported\n",
    "import torch\n",
    "max_seq_length = 32768 # Can increase for longer reasoning traces\n",
    "\n",
    "model, tokenizer = FastLanguageModel.from_pretrained(\n",
    "    model_name = \"unsloth/Qwen3-4B\",\n",
    "    max_seq_length = max_seq_length,\n",
    "    load_in_4bit = True, # False for LoRA 16bit\n",
    "    fast_inference = True, # Enable vLLM fast inference\n",
    "    gpu_memory_utilization = 0.5, # Reduce if out of memory\n",
    ")"
   ]
  },
  {
   "cell_type": "code",
   "execution_count": 4,
   "id": "05b98ea9",
   "metadata": {
    "execution": {
     "iopub.execute_input": "2025-06-07T01:27:20.737994Z",
     "iopub.status.busy": "2025-06-07T01:27:20.737717Z",
     "iopub.status.idle": "2025-06-07T01:28:19.984331Z",
     "shell.execute_reply": "2025-06-07T01:28:19.983435Z"
    }
   },
   "outputs": [
    {
     "name": "stderr",
     "output_type": "stream",
     "text": [
      "\r\n",
      "Processed prompts:   0%|                        | 0/1 [00:00<?, ?it/s, est. speed input: 0.00 toks/s, output: 0.00 toks/s]"
     ]
    },
    {
     "name": "stderr",
     "output_type": "stream",
     "text": [
      "\r\n",
      "Processed prompts: 100%|███████████████| 1/1 [00:59<00:00, 59.23s/it, est. speed input: 9.71 toks/s, output: 58.55 toks/s]"
     ]
    },
    {
     "name": "stderr",
     "output_type": "stream",
     "text": [
      "\r\n",
      "Processed prompts: 100%|███████████████| 1/1 [00:59<00:00, 59.23s/it, est. speed input: 9.71 toks/s, output: 58.55 toks/s]"
     ]
    },
    {
     "name": "stderr",
     "output_type": "stream",
     "text": [
      "\n"
     ]
    }
   ],
   "source": [
    "messages = [\n",
    "    {\"role\": \"system\", \"content\": \"You are an expert in smart-contract security audits.\"},\n",
    "    {\"role\": \"user\", \"content\": df_combined['prompt'][0]},\n",
    "]\n",
    "\n",
    "max_completion_length = 8192\n",
    "\n",
    "text = tokenizer.apply_chat_template(\n",
    "    messages,\n",
    "    add_generation_prompt = True, # Must add for generation\n",
    "    tokenize = False,\n",
    ")\n",
    "\n",
    "from vllm import SamplingParams\n",
    "sampling_params = SamplingParams(\n",
    "    temperature = 0.6,\n",
    "    top_k = 20,\n",
    "    top_p = 0.95,\n",
    "    min_p = 0,\n",
    "    presence_penalty=0.5,\n",
    "    max_tokens = max_completion_length,\n",
    ")\n",
    "output = model.fast_generate(\n",
    "    [text],\n",
    "    sampling_params = sampling_params,\n",
    ")[0].outputs[0].text"
   ]
  },
  {
   "cell_type": "code",
   "execution_count": 5,
   "id": "c790a3c3",
   "metadata": {
    "execution": {
     "iopub.execute_input": "2025-06-07T01:28:19.992404Z",
     "iopub.status.busy": "2025-06-07T01:28:19.992090Z",
     "iopub.status.idle": "2025-06-07T01:28:19.996937Z",
     "shell.execute_reply": "2025-06-07T01:28:19.996191Z"
    }
   },
   "outputs": [],
   "source": [
    "def extract_answer(text: str) -> str | None:\n",
    "    answer = text.split(\"</think>\\n\\n\")[-1]\n",
    "    return answer.strip()"
   ]
  },
  {
   "cell_type": "code",
   "execution_count": 6,
   "id": "3067519c",
   "metadata": {
    "execution": {
     "iopub.execute_input": "2025-06-07T01:28:20.000126Z",
     "iopub.status.busy": "2025-06-07T01:28:19.999858Z",
     "iopub.status.idle": "2025-06-07T01:28:20.004920Z",
     "shell.execute_reply": "2025-06-07T01:28:20.004173Z"
    }
   },
   "outputs": [
    {
     "name": "stdout",
     "output_type": "stream",
     "text": [
      "LLM Response: The `syncDeps` function in the Vault contract retrieves the `vusd` address from the registry and casts it to `IERC20`. If the registry returns an address that is not an ERC20 token (e.g., a non-compliant token), the cast will fail, causing the function to revert. This vulnerability arises because the code assumes the registry's `vusd()` function returns a valid ERC20 token, but there is no validation to ensure this. If the registry is compromised or misconfigured, this could lead to incorrect behavior or transaction failures.\n"
     ]
    }
   ],
   "source": [
    "print(f\"LLM Response: {extract_answer(output)}\")"
   ]
  },
  {
   "cell_type": "code",
   "execution_count": 7,
   "id": "5c010424",
   "metadata": {
    "execution": {
     "iopub.execute_input": "2025-06-07T01:28:20.007988Z",
     "iopub.status.busy": "2025-06-07T01:28:20.007710Z",
     "iopub.status.idle": "2025-06-07T01:28:20.016260Z",
     "shell.execute_reply": "2025-06-07T01:28:20.015521Z"
    }
   },
   "outputs": [
    {
     "data": {
      "text/plain": [
       "\"The `Governance` address can call `InsuranceFund.sol#syncDeps()` to change the contract address of `vusd` anytime.\\n\\nHowever, since the tx to set a new address for `vusd` can get in between users' txs to deposit and withdraw, in some edge cases, it can result in users' loss of funds.\\n\\n### Proof of Concept\\n\\n1.  Alice deposited `1,000,000 VUSD` to `InsuranceFund`;\\n2.  Gov called `syncDeps()` and set `vusd` to the address of `VUSDv2`;\\n3.  Alice called `withdraw()` with all the `shares` and get back `0 VUSDv2`.\\n\\nAs a result, Alice suffered a fund loss of `1,000,000 VUSD`.\""
      ]
     },
     "execution_count": 7,
     "metadata": {},
     "output_type": "execute_result"
    }
   ],
   "source": [
    "df_combined['ground_truth'][0]"
   ]
  },
  {
   "cell_type": "code",
   "execution_count": 8,
   "id": "af951397",
   "metadata": {
    "execution": {
     "iopub.execute_input": "2025-06-07T01:28:20.019397Z",
     "iopub.status.busy": "2025-06-07T01:28:20.019122Z",
     "iopub.status.idle": "2025-06-07T03:11:55.895873Z",
     "shell.execute_reply": "2025-06-07T03:11:55.894923Z"
    }
   },
   "outputs": [
    {
     "name": "stderr",
     "output_type": "stream",
     "text": [
      "\r\n",
      "Generating responses:   0%|                                                                       | 0/143 [00:00<?, ?it/s]"
     ]
    },
    {
     "name": "stderr",
     "output_type": "stream",
     "text": [
      "\n"
     ]
    },
    {
     "name": "stderr",
     "output_type": "stream",
     "text": [
      "\r\n",
      "Processed prompts:   0%|                        | 0/1 [00:00<?, ?it/s, est. speed input: 0.00 toks/s, output: 0.00 toks/s]"
     ]
    },
    {
     "name": "stderr",
     "output_type": "stream",
     "text": [
      "\u001b[A"
     ]
    },
    {
     "name": "stderr",
     "output_type": "stream",
     "text": [
      "\n"
     ]
    },
    {
     "name": "stderr",
     "output_type": "stream",
     "text": [
      "\r\n",
      "Processed prompts: 100%|██████████████| 1/1 [00:43<00:00, 43.20s/it, est. speed input: 13.31 toks/s, output: 58.91 toks/s]"
     ]
    },
    {
     "name": "stderr",
     "output_type": "stream",
     "text": [
      "\u001b[A"
     ]
    },
    {
     "name": "stderr",
     "output_type": "stream",
     "text": [
      "\r\n",
      "Processed prompts: 100%|██████████████| 1/1 [00:43<00:00, 43.20s/it, est. speed input: 13.31 toks/s, output: 58.91 toks/s]"
     ]
    },
    {
     "name": "stderr",
     "output_type": "stream",
     "text": [
      "\n",
      "\r\n",
      "Generating responses:   1%|▍                                                            | 1/143 [00:43<1:42:15, 43.21s/it]"
     ]
    },
    {
     "name": "stderr",
     "output_type": "stream",
     "text": [
      "\n"
     ]
    },
    {
     "name": "stderr",
     "output_type": "stream",
     "text": [
      "\r\n",
      "Processed prompts:   0%|                        | 0/1 [00:00<?, ?it/s, est. speed input: 0.00 toks/s, output: 0.00 toks/s]"
     ]
    },
    {
     "name": "stderr",
     "output_type": "stream",
     "text": [
      "\u001b[A"
     ]
    },
    {
     "name": "stderr",
     "output_type": "stream",
     "text": [
      "\n"
     ]
    },
    {
     "name": "stderr",
     "output_type": "stream",
     "text": [
      "\r\n",
      "Processed prompts: 100%|██████████████| 1/1 [04:27<00:00, 267.39s/it, est. speed input: 35.48 toks/s, output: 8.59 toks/s]"
     ]
    },
    {
     "name": "stderr",
     "output_type": "stream",
     "text": [
      "\u001b[A"
     ]
    },
    {
     "name": "stderr",
     "output_type": "stream",
     "text": [
      "\r\n",
      "Processed prompts: 100%|██████████████| 1/1 [04:27<00:00, 267.40s/it, est. speed input: 35.48 toks/s, output: 8.59 toks/s]"
     ]
    },
    {
     "name": "stderr",
     "output_type": "stream",
     "text": [
      "\n",
      "\r\n",
      "Generating responses:   1%|▊                                                           | 2/143 [05:10<6:51:29, 175.11s/it]"
     ]
    },
    {
     "name": "stderr",
     "output_type": "stream",
     "text": [
      "\n"
     ]
    },
    {
     "name": "stderr",
     "output_type": "stream",
     "text": [
      "\r\n",
      "Processed prompts:   0%|                        | 0/1 [00:00<?, ?it/s, est. speed input: 0.00 toks/s, output: 0.00 toks/s]"
     ]
    },
    {
     "name": "stderr",
     "output_type": "stream",
     "text": [
      "\u001b[A"
     ]
    },
    {
     "name": "stderr",
     "output_type": "stream",
     "text": [
      "\n"
     ]
    },
    {
     "name": "stderr",
     "output_type": "stream",
     "text": [
      "\r\n",
      "Processed prompts: 100%|██████████████| 1/1 [00:24<00:00, 24.76s/it, est. speed input: 41.36 toks/s, output: 58.69 toks/s]"
     ]
    },
    {
     "name": "stderr",
     "output_type": "stream",
     "text": [
      "\u001b[A"
     ]
    },
    {
     "name": "stderr",
     "output_type": "stream",
     "text": [
      "\r\n",
      "Processed prompts: 100%|██████████████| 1/1 [00:24<00:00, 24.76s/it, est. speed input: 41.36 toks/s, output: 58.69 toks/s]"
     ]
    },
    {
     "name": "stderr",
     "output_type": "stream",
     "text": [
      "\n",
      "\r\n",
      "Generating responses:   2%|█▎                                                          | 3/143 [05:35<4:08:24, 106.46s/it]"
     ]
    },
    {
     "name": "stderr",
     "output_type": "stream",
     "text": [
      "\n"
     ]
    },
    {
     "name": "stderr",
     "output_type": "stream",
     "text": [
      "\r\n",
      "Processed prompts:   0%|                        | 0/1 [00:00<?, ?it/s, est. speed input: 0.00 toks/s, output: 0.00 toks/s]"
     ]
    },
    {
     "name": "stderr",
     "output_type": "stream",
     "text": [
      "\u001b[A"
     ]
    },
    {
     "name": "stderr",
     "output_type": "stream",
     "text": [
      "\n"
     ]
    },
    {
     "name": "stderr",
     "output_type": "stream",
     "text": [
      "\r\n",
      "Processed prompts: 100%|██████████████| 1/1 [01:00<00:00, 60.96s/it, est. speed input: 19.56 toks/s, output: 58.26 toks/s]"
     ]
    },
    {
     "name": "stderr",
     "output_type": "stream",
     "text": [
      "\u001b[A"
     ]
    },
    {
     "name": "stderr",
     "output_type": "stream",
     "text": [
      "\r\n",
      "Processed prompts: 100%|██████████████| 1/1 [01:00<00:00, 60.96s/it, est. speed input: 19.56 toks/s, output: 58.26 toks/s]"
     ]
    },
    {
     "name": "stderr",
     "output_type": "stream",
     "text": [
      "\n",
      "\r\n",
      "Generating responses:   3%|█▋                                                           | 4/143 [06:36<3:25:01, 88.50s/it]"
     ]
    },
    {
     "name": "stderr",
     "output_type": "stream",
     "text": [
      "\n"
     ]
    },
    {
     "name": "stderr",
     "output_type": "stream",
     "text": [
      "\r\n",
      "Processed prompts:   0%|                        | 0/1 [00:00<?, ?it/s, est. speed input: 0.00 toks/s, output: 0.00 toks/s]"
     ]
    },
    {
     "name": "stderr",
     "output_type": "stream",
     "text": [
      "\u001b[A"
     ]
    },
    {
     "name": "stderr",
     "output_type": "stream",
     "text": [
      "\n"
     ]
    },
    {
     "name": "stderr",
     "output_type": "stream",
     "text": [
      "\r\n",
      "Processed prompts: 100%|██████████████| 1/1 [01:01<00:00, 61.39s/it, est. speed input: 17.54 toks/s, output: 58.34 toks/s]"
     ]
    },
    {
     "name": "stderr",
     "output_type": "stream",
     "text": [
      "\u001b[A"
     ]
    },
    {
     "name": "stderr",
     "output_type": "stream",
     "text": [
      "\r\n",
      "Processed prompts: 100%|██████████████| 1/1 [01:01<00:00, 61.40s/it, est. speed input: 17.54 toks/s, output: 58.34 toks/s]"
     ]
    },
    {
     "name": "stderr",
     "output_type": "stream",
     "text": [
      "\n",
      "\r\n",
      "Generating responses:   3%|██▏                                                          | 5/143 [07:37<3:01:04, 78.73s/it]"
     ]
    },
    {
     "name": "stderr",
     "output_type": "stream",
     "text": [
      "\n"
     ]
    },
    {
     "name": "stderr",
     "output_type": "stream",
     "text": [
      "\r\n",
      "Processed prompts:   0%|                        | 0/1 [00:00<?, ?it/s, est. speed input: 0.00 toks/s, output: 0.00 toks/s]"
     ]
    },
    {
     "name": "stderr",
     "output_type": "stream",
     "text": [
      "\u001b[A"
     ]
    },
    {
     "name": "stderr",
     "output_type": "stream",
     "text": [
      "\n"
     ]
    },
    {
     "name": "stderr",
     "output_type": "stream",
     "text": [
      "\r\n",
      "Processed prompts: 100%|██████████████| 1/1 [00:41<00:00, 41.25s/it, est. speed input: 13.75 toks/s, output: 58.93 toks/s]"
     ]
    },
    {
     "name": "stderr",
     "output_type": "stream",
     "text": [
      "\u001b[A"
     ]
    },
    {
     "name": "stderr",
     "output_type": "stream",
     "text": [
      "\r\n",
      "Processed prompts: 100%|██████████████| 1/1 [00:41<00:00, 41.25s/it, est. speed input: 13.75 toks/s, output: 58.93 toks/s]"
     ]
    },
    {
     "name": "stderr",
     "output_type": "stream",
     "text": [
      "\n",
      "\r\n",
      "Generating responses:   4%|██▌                                                          | 6/143 [08:19<2:30:40, 65.99s/it]"
     ]
    },
    {
     "name": "stderr",
     "output_type": "stream",
     "text": [
      "\n"
     ]
    },
    {
     "name": "stderr",
     "output_type": "stream",
     "text": [
      "\r\n",
      "Processed prompts:   0%|                        | 0/1 [00:00<?, ?it/s, est. speed input: 0.00 toks/s, output: 0.00 toks/s]"
     ]
    },
    {
     "name": "stderr",
     "output_type": "stream",
     "text": [
      "\u001b[A"
     ]
    },
    {
     "name": "stderr",
     "output_type": "stream",
     "text": [
      "\n"
     ]
    },
    {
     "name": "stderr",
     "output_type": "stream",
     "text": [
      "\r\n",
      "Processed prompts: 100%|██████████████| 1/1 [00:33<00:00, 33.19s/it, est. speed input: 34.38 toks/s, output: 58.61 toks/s]"
     ]
    },
    {
     "name": "stderr",
     "output_type": "stream",
     "text": [
      "\u001b[A"
     ]
    },
    {
     "name": "stderr",
     "output_type": "stream",
     "text": [
      "\r\n",
      "Processed prompts: 100%|██████████████| 1/1 [00:33<00:00, 33.19s/it, est. speed input: 34.38 toks/s, output: 58.61 toks/s]"
     ]
    },
    {
     "name": "stderr",
     "output_type": "stream",
     "text": [
      "\n",
      "\r\n",
      "Generating responses:   5%|██▉                                                          | 7/143 [08:52<2:05:16, 55.27s/it]"
     ]
    },
    {
     "name": "stderr",
     "output_type": "stream",
     "text": [
      "\n"
     ]
    },
    {
     "name": "stderr",
     "output_type": "stream",
     "text": [
      "\r\n",
      "Processed prompts:   0%|                        | 0/1 [00:00<?, ?it/s, est. speed input: 0.00 toks/s, output: 0.00 toks/s]"
     ]
    },
    {
     "name": "stderr",
     "output_type": "stream",
     "text": [
      "\u001b[A"
     ]
    },
    {
     "name": "stderr",
     "output_type": "stream",
     "text": [
      "\n"
     ]
    },
    {
     "name": "stderr",
     "output_type": "stream",
     "text": [
      "\r\n",
      "Processed prompts: 100%|██████████████| 1/1 [00:36<00:00, 36.66s/it, est. speed input: 46.56 toks/s, output: 58.12 toks/s]"
     ]
    },
    {
     "name": "stderr",
     "output_type": "stream",
     "text": [
      "\u001b[A"
     ]
    },
    {
     "name": "stderr",
     "output_type": "stream",
     "text": [
      "\r\n",
      "Processed prompts: 100%|██████████████| 1/1 [00:36<00:00, 36.67s/it, est. speed input: 46.56 toks/s, output: 58.12 toks/s]"
     ]
    },
    {
     "name": "stderr",
     "output_type": "stream",
     "text": [
      "\n",
      "\r\n",
      "Generating responses:   6%|███▍                                                         | 8/143 [09:28<1:51:02, 49.35s/it]"
     ]
    },
    {
     "name": "stderr",
     "output_type": "stream",
     "text": [
      "\n"
     ]
    },
    {
     "name": "stderr",
     "output_type": "stream",
     "text": [
      "\r\n",
      "Processed prompts:   0%|                        | 0/1 [00:00<?, ?it/s, est. speed input: 0.00 toks/s, output: 0.00 toks/s]"
     ]
    },
    {
     "name": "stderr",
     "output_type": "stream",
     "text": [
      "\u001b[A"
     ]
    },
    {
     "name": "stderr",
     "output_type": "stream",
     "text": [
      "\n"
     ]
    },
    {
     "name": "stderr",
     "output_type": "stream",
     "text": [
      "\r\n",
      "Processed prompts: 100%|██████████████| 1/1 [00:41<00:00, 41.38s/it, est. speed input: 17.98 toks/s, output: 58.81 toks/s]"
     ]
    },
    {
     "name": "stderr",
     "output_type": "stream",
     "text": [
      "\u001b[A"
     ]
    },
    {
     "name": "stderr",
     "output_type": "stream",
     "text": [
      "\r\n",
      "Processed prompts: 100%|██████████████| 1/1 [00:41<00:00, 41.39s/it, est. speed input: 17.98 toks/s, output: 58.81 toks/s]"
     ]
    },
    {
     "name": "stderr",
     "output_type": "stream",
     "text": [
      "\n",
      "\r\n",
      "Generating responses:   6%|███▊                                                         | 9/143 [10:10<1:44:40, 46.87s/it]"
     ]
    },
    {
     "name": "stderr",
     "output_type": "stream",
     "text": [
      "\n"
     ]
    },
    {
     "name": "stderr",
     "output_type": "stream",
     "text": [
      "\r\n",
      "Processed prompts:   0%|                        | 0/1 [00:00<?, ?it/s, est. speed input: 0.00 toks/s, output: 0.00 toks/s]"
     ]
    },
    {
     "name": "stderr",
     "output_type": "stream",
     "text": [
      "\u001b[A"
     ]
    },
    {
     "name": "stderr",
     "output_type": "stream",
     "text": [
      "\n"
     ]
    },
    {
     "name": "stderr",
     "output_type": "stream",
     "text": [
      "\r\n",
      "Processed prompts: 100%|██████████████| 1/1 [00:30<00:00, 30.23s/it, est. speed input: 32.18 toks/s, output: 58.78 toks/s]"
     ]
    },
    {
     "name": "stderr",
     "output_type": "stream",
     "text": [
      "\u001b[A"
     ]
    },
    {
     "name": "stderr",
     "output_type": "stream",
     "text": [
      "\r\n",
      "Processed prompts: 100%|██████████████| 1/1 [00:30<00:00, 30.24s/it, est. speed input: 32.18 toks/s, output: 58.78 toks/s]"
     ]
    },
    {
     "name": "stderr",
     "output_type": "stream",
     "text": [
      "\n",
      "\r\n",
      "Generating responses:   7%|████▏                                                       | 10/143 [10:40<1:32:30, 41.74s/it]"
     ]
    },
    {
     "name": "stderr",
     "output_type": "stream",
     "text": [
      "\n"
     ]
    },
    {
     "name": "stderr",
     "output_type": "stream",
     "text": [
      "\r\n",
      "Processed prompts:   0%|                        | 0/1 [00:00<?, ?it/s, est. speed input: 0.00 toks/s, output: 0.00 toks/s]"
     ]
    },
    {
     "name": "stderr",
     "output_type": "stream",
     "text": [
      "\u001b[A"
     ]
    },
    {
     "name": "stderr",
     "output_type": "stream",
     "text": [
      "\n"
     ]
    },
    {
     "name": "stderr",
     "output_type": "stream",
     "text": [
      "\r\n",
      "Processed prompts: 100%|██████████████| 1/1 [00:19<00:00, 19.49s/it, est. speed input: 41.61 toks/s, output: 58.79 toks/s]"
     ]
    },
    {
     "name": "stderr",
     "output_type": "stream",
     "text": [
      "\u001b[A"
     ]
    },
    {
     "name": "stderr",
     "output_type": "stream",
     "text": [
      "\r\n",
      "Processed prompts: 100%|██████████████| 1/1 [00:19<00:00, 19.50s/it, est. speed input: 41.61 toks/s, output: 58.79 toks/s]"
     ]
    },
    {
     "name": "stderr",
     "output_type": "stream",
     "text": [
      "\n",
      "\r\n",
      "Generating responses:   8%|████▌                                                       | 11/143 [11:00<1:16:51, 34.93s/it]"
     ]
    },
    {
     "name": "stderr",
     "output_type": "stream",
     "text": [
      "\n"
     ]
    },
    {
     "name": "stderr",
     "output_type": "stream",
     "text": [
      "\r\n",
      "Processed prompts:   0%|                        | 0/1 [00:00<?, ?it/s, est. speed input: 0.00 toks/s, output: 0.00 toks/s]"
     ]
    },
    {
     "name": "stderr",
     "output_type": "stream",
     "text": [
      "\u001b[A"
     ]
    },
    {
     "name": "stderr",
     "output_type": "stream",
     "text": [
      "\n"
     ]
    },
    {
     "name": "stderr",
     "output_type": "stream",
     "text": [
      "\r\n",
      "Processed prompts: 100%|██████████████| 1/1 [00:49<00:00, 49.44s/it, est. speed input: 31.25 toks/s, output: 58.10 toks/s]"
     ]
    },
    {
     "name": "stderr",
     "output_type": "stream",
     "text": [
      "\u001b[A"
     ]
    },
    {
     "name": "stderr",
     "output_type": "stream",
     "text": [
      "\r\n",
      "Processed prompts: 100%|██████████████| 1/1 [00:49<00:00, 49.44s/it, est. speed input: 31.25 toks/s, output: 58.10 toks/s]"
     ]
    },
    {
     "name": "stderr",
     "output_type": "stream",
     "text": [
      "\n",
      "\r\n",
      "Generating responses:   8%|█████                                                       | 12/143 [11:49<1:25:54, 39.35s/it]"
     ]
    },
    {
     "name": "stderr",
     "output_type": "stream",
     "text": [
      "\n"
     ]
    },
    {
     "name": "stderr",
     "output_type": "stream",
     "text": [
      "\r\n",
      "Processed prompts:   0%|                        | 0/1 [00:00<?, ?it/s, est. speed input: 0.00 toks/s, output: 0.00 toks/s]"
     ]
    },
    {
     "name": "stderr",
     "output_type": "stream",
     "text": [
      "\u001b[A"
     ]
    },
    {
     "name": "stderr",
     "output_type": "stream",
     "text": [
      "\n"
     ]
    },
    {
     "name": "stderr",
     "output_type": "stream",
     "text": [
      "\r\n",
      "Processed prompts: 100%|██████████████| 1/1 [00:29<00:00, 29.08s/it, est. speed input: 34.08 toks/s, output: 58.71 toks/s]"
     ]
    },
    {
     "name": "stderr",
     "output_type": "stream",
     "text": [
      "\u001b[A"
     ]
    },
    {
     "name": "stderr",
     "output_type": "stream",
     "text": [
      "\r\n",
      "Processed prompts: 100%|██████████████| 1/1 [00:29<00:00, 29.08s/it, est. speed input: 34.08 toks/s, output: 58.71 toks/s]"
     ]
    },
    {
     "name": "stderr",
     "output_type": "stream",
     "text": [
      "\n",
      "\r\n",
      "Generating responses:   9%|█████▍                                                      | 13/143 [12:18<1:18:31, 36.24s/it]"
     ]
    },
    {
     "name": "stderr",
     "output_type": "stream",
     "text": [
      "\n"
     ]
    },
    {
     "name": "stderr",
     "output_type": "stream",
     "text": [
      "\r\n",
      "Processed prompts:   0%|                        | 0/1 [00:00<?, ?it/s, est. speed input: 0.00 toks/s, output: 0.00 toks/s]"
     ]
    },
    {
     "name": "stderr",
     "output_type": "stream",
     "text": [
      "\u001b[A"
     ]
    },
    {
     "name": "stderr",
     "output_type": "stream",
     "text": [
      "\n"
     ]
    },
    {
     "name": "stderr",
     "output_type": "stream",
     "text": [
      "\r\n",
      "Processed prompts: 100%|██████████████| 1/1 [00:28<00:00, 28.71s/it, est. speed input: 21.56 toks/s, output: 58.93 toks/s]"
     ]
    },
    {
     "name": "stderr",
     "output_type": "stream",
     "text": [
      "\u001b[A"
     ]
    },
    {
     "name": "stderr",
     "output_type": "stream",
     "text": [
      "\r\n",
      "Processed prompts: 100%|██████████████| 1/1 [00:28<00:00, 28.71s/it, est. speed input: 21.56 toks/s, output: 58.93 toks/s]"
     ]
    },
    {
     "name": "stderr",
     "output_type": "stream",
     "text": [
      "\n",
      "\r\n",
      "Generating responses:  10%|█████▊                                                      | 14/143 [12:47<1:13:02, 33.97s/it]"
     ]
    },
    {
     "name": "stderr",
     "output_type": "stream",
     "text": [
      "\n"
     ]
    },
    {
     "name": "stderr",
     "output_type": "stream",
     "text": [
      "\r\n",
      "Processed prompts:   0%|                        | 0/1 [00:00<?, ?it/s, est. speed input: 0.00 toks/s, output: 0.00 toks/s]"
     ]
    },
    {
     "name": "stderr",
     "output_type": "stream",
     "text": [
      "\u001b[A"
     ]
    },
    {
     "name": "stderr",
     "output_type": "stream",
     "text": [
      "\n"
     ]
    },
    {
     "name": "stderr",
     "output_type": "stream",
     "text": [
      "\r\n",
      "Processed prompts: 100%|██████████████| 1/1 [00:41<00:00, 41.89s/it, est. speed input: 25.57 toks/s, output: 58.56 toks/s]"
     ]
    },
    {
     "name": "stderr",
     "output_type": "stream",
     "text": [
      "\u001b[A"
     ]
    },
    {
     "name": "stderr",
     "output_type": "stream",
     "text": [
      "\r\n",
      "Processed prompts: 100%|██████████████| 1/1 [00:41<00:00, 41.89s/it, est. speed input: 25.57 toks/s, output: 58.56 toks/s]"
     ]
    },
    {
     "name": "stderr",
     "output_type": "stream",
     "text": [
      "\n",
      "\r\n",
      "Generating responses:  10%|██████▎                                                     | 15/143 [13:29<1:17:34, 36.36s/it]"
     ]
    },
    {
     "name": "stderr",
     "output_type": "stream",
     "text": [
      "\n"
     ]
    },
    {
     "name": "stderr",
     "output_type": "stream",
     "text": [
      "\r\n",
      "Processed prompts:   0%|                        | 0/1 [00:00<?, ?it/s, est. speed input: 0.00 toks/s, output: 0.00 toks/s]"
     ]
    },
    {
     "name": "stderr",
     "output_type": "stream",
     "text": [
      "\u001b[A"
     ]
    },
    {
     "name": "stderr",
     "output_type": "stream",
     "text": [
      "\n"
     ]
    },
    {
     "name": "stderr",
     "output_type": "stream",
     "text": [
      "\r\n",
      "Processed prompts: 100%|██████████████| 1/1 [00:23<00:00, 23.14s/it, est. speed input: 70.91 toks/s, output: 58.12 toks/s]"
     ]
    },
    {
     "name": "stderr",
     "output_type": "stream",
     "text": [
      "\u001b[A"
     ]
    },
    {
     "name": "stderr",
     "output_type": "stream",
     "text": [
      "\r\n",
      "Processed prompts: 100%|██████████████| 1/1 [00:23<00:00, 23.15s/it, est. speed input: 70.91 toks/s, output: 58.12 toks/s]"
     ]
    },
    {
     "name": "stderr",
     "output_type": "stream",
     "text": [
      "\n",
      "\r\n",
      "Generating responses:  11%|██████▋                                                     | 16/143 [13:52<1:08:33, 32.39s/it]"
     ]
    },
    {
     "name": "stderr",
     "output_type": "stream",
     "text": [
      "\n"
     ]
    },
    {
     "name": "stderr",
     "output_type": "stream",
     "text": [
      "\r\n",
      "Processed prompts:   0%|                        | 0/1 [00:00<?, ?it/s, est. speed input: 0.00 toks/s, output: 0.00 toks/s]"
     ]
    },
    {
     "name": "stderr",
     "output_type": "stream",
     "text": [
      "\u001b[A"
     ]
    },
    {
     "name": "stderr",
     "output_type": "stream",
     "text": [
      "\n"
     ]
    },
    {
     "name": "stderr",
     "output_type": "stream",
     "text": [
      "\r\n",
      "Processed prompts: 100%|██████████████| 1/1 [00:35<00:00, 35.32s/it, est. speed input: 35.84 toks/s, output: 58.50 toks/s]"
     ]
    },
    {
     "name": "stderr",
     "output_type": "stream",
     "text": [
      "\u001b[A"
     ]
    },
    {
     "name": "stderr",
     "output_type": "stream",
     "text": [
      "\r\n",
      "Processed prompts: 100%|██████████████| 1/1 [00:35<00:00, 35.32s/it, est. speed input: 35.84 toks/s, output: 58.50 toks/s]"
     ]
    },
    {
     "name": "stderr",
     "output_type": "stream",
     "text": [
      "\n",
      "\r\n",
      "Generating responses:  12%|███████▏                                                    | 17/143 [14:27<1:09:52, 33.27s/it]"
     ]
    },
    {
     "name": "stderr",
     "output_type": "stream",
     "text": [
      "\n"
     ]
    },
    {
     "name": "stderr",
     "output_type": "stream",
     "text": [
      "\r\n",
      "Processed prompts:   0%|                        | 0/1 [00:00<?, ?it/s, est. speed input: 0.00 toks/s, output: 0.00 toks/s]"
     ]
    },
    {
     "name": "stderr",
     "output_type": "stream",
     "text": [
      "\u001b[A"
     ]
    },
    {
     "name": "stderr",
     "output_type": "stream",
     "text": [
      "\n"
     ]
    },
    {
     "name": "stderr",
     "output_type": "stream",
     "text": [
      "\r\n",
      "Processed prompts: 100%|██████████████| 1/1 [00:54<00:00, 54.54s/it, est. speed input: 13.93 toks/s, output: 58.60 toks/s]"
     ]
    },
    {
     "name": "stderr",
     "output_type": "stream",
     "text": [
      "\u001b[A"
     ]
    },
    {
     "name": "stderr",
     "output_type": "stream",
     "text": [
      "\r\n",
      "Processed prompts: 100%|██████████████| 1/1 [00:54<00:00, 54.54s/it, est. speed input: 13.93 toks/s, output: 58.60 toks/s]"
     ]
    },
    {
     "name": "stderr",
     "output_type": "stream",
     "text": [
      "\n",
      "\r\n",
      "Generating responses:  13%|███████▌                                                    | 18/143 [15:22<1:22:38, 39.67s/it]"
     ]
    },
    {
     "name": "stderr",
     "output_type": "stream",
     "text": [
      "\n"
     ]
    },
    {
     "name": "stderr",
     "output_type": "stream",
     "text": [
      "\r\n",
      "Processed prompts:   0%|                        | 0/1 [00:00<?, ?it/s, est. speed input: 0.00 toks/s, output: 0.00 toks/s]"
     ]
    },
    {
     "name": "stderr",
     "output_type": "stream",
     "text": [
      "\u001b[A"
     ]
    },
    {
     "name": "stderr",
     "output_type": "stream",
     "text": [
      "\n"
     ]
    },
    {
     "name": "stderr",
     "output_type": "stream",
     "text": [
      "\r\n",
      "Processed prompts: 100%|██████████████| 1/1 [00:22<00:00, 22.57s/it, est. speed input: 30.17 toks/s, output: 58.89 toks/s]"
     ]
    },
    {
     "name": "stderr",
     "output_type": "stream",
     "text": [
      "\u001b[A"
     ]
    },
    {
     "name": "stderr",
     "output_type": "stream",
     "text": [
      "\r\n",
      "Processed prompts: 100%|██████████████| 1/1 [00:22<00:00, 22.57s/it, est. speed input: 30.17 toks/s, output: 58.89 toks/s]"
     ]
    },
    {
     "name": "stderr",
     "output_type": "stream",
     "text": [
      "\n",
      "\r\n",
      "Generating responses:  13%|███████▉                                                    | 19/143 [15:44<1:11:22, 34.54s/it]"
     ]
    },
    {
     "name": "stderr",
     "output_type": "stream",
     "text": [
      "\n"
     ]
    },
    {
     "name": "stderr",
     "output_type": "stream",
     "text": [
      "\r\n",
      "Processed prompts:   0%|                        | 0/1 [00:00<?, ?it/s, est. speed input: 0.00 toks/s, output: 0.00 toks/s]"
     ]
    },
    {
     "name": "stderr",
     "output_type": "stream",
     "text": [
      "\u001b[A"
     ]
    },
    {
     "name": "stderr",
     "output_type": "stream",
     "text": [
      "\n"
     ]
    },
    {
     "name": "stderr",
     "output_type": "stream",
     "text": [
      "\r\n",
      "Processed prompts: 100%|███████████████| 1/1 [01:33<00:00, 93.64s/it, est. speed input: 9.65 toks/s, output: 57.62 toks/s]"
     ]
    },
    {
     "name": "stderr",
     "output_type": "stream",
     "text": [
      "\u001b[A"
     ]
    },
    {
     "name": "stderr",
     "output_type": "stream",
     "text": [
      "\r\n",
      "Processed prompts: 100%|███████████████| 1/1 [01:33<00:00, 93.64s/it, est. speed input: 9.65 toks/s, output: 57.62 toks/s]"
     ]
    },
    {
     "name": "stderr",
     "output_type": "stream",
     "text": [
      "\n",
      "\r\n",
      "Generating responses:  14%|████████▍                                                   | 20/143 [17:18<1:47:10, 52.28s/it]"
     ]
    },
    {
     "name": "stderr",
     "output_type": "stream",
     "text": [
      "\n"
     ]
    },
    {
     "name": "stderr",
     "output_type": "stream",
     "text": [
      "\r\n",
      "Processed prompts:   0%|                        | 0/1 [00:00<?, ?it/s, est. speed input: 0.00 toks/s, output: 0.00 toks/s]"
     ]
    },
    {
     "name": "stderr",
     "output_type": "stream",
     "text": [
      "\u001b[A"
     ]
    },
    {
     "name": "stderr",
     "output_type": "stream",
     "text": [
      "\n"
     ]
    },
    {
     "name": "stderr",
     "output_type": "stream",
     "text": [
      "\r\n",
      "Processed prompts: 100%|██████████████| 1/1 [00:33<00:00, 33.90s/it, est. speed input: 18.02 toks/s, output: 58.94 toks/s]"
     ]
    },
    {
     "name": "stderr",
     "output_type": "stream",
     "text": [
      "\u001b[A"
     ]
    },
    {
     "name": "stderr",
     "output_type": "stream",
     "text": [
      "\r\n",
      "Processed prompts: 100%|██████████████| 1/1 [00:33<00:00, 33.90s/it, est. speed input: 18.02 toks/s, output: 58.94 toks/s]"
     ]
    },
    {
     "name": "stderr",
     "output_type": "stream",
     "text": [
      "\n",
      "\r\n",
      "Generating responses:  15%|████████▊                                                   | 21/143 [17:52<1:35:05, 46.77s/it]"
     ]
    },
    {
     "name": "stderr",
     "output_type": "stream",
     "text": [
      "\n"
     ]
    },
    {
     "name": "stderr",
     "output_type": "stream",
     "text": [
      "\r\n",
      "Processed prompts:   0%|                        | 0/1 [00:00<?, ?it/s, est. speed input: 0.00 toks/s, output: 0.00 toks/s]"
     ]
    },
    {
     "name": "stderr",
     "output_type": "stream",
     "text": [
      "\u001b[A"
     ]
    },
    {
     "name": "stderr",
     "output_type": "stream",
     "text": [
      "\n"
     ]
    },
    {
     "name": "stderr",
     "output_type": "stream",
     "text": [
      "\r\n",
      "Processed prompts: 100%|██████████████| 1/1 [00:14<00:00, 14.00s/it, est. speed input: 46.78 toks/s, output: 58.64 toks/s]"
     ]
    },
    {
     "name": "stderr",
     "output_type": "stream",
     "text": [
      "\u001b[A"
     ]
    },
    {
     "name": "stderr",
     "output_type": "stream",
     "text": [
      "\r\n",
      "Processed prompts: 100%|██████████████| 1/1 [00:14<00:00, 14.00s/it, est. speed input: 46.78 toks/s, output: 58.64 toks/s]"
     ]
    },
    {
     "name": "stderr",
     "output_type": "stream",
     "text": [
      "\n",
      "\r\n",
      "Generating responses:  15%|█████████▏                                                  | 22/143 [18:06<1:14:29, 36.94s/it]"
     ]
    },
    {
     "name": "stderr",
     "output_type": "stream",
     "text": [
      "\n"
     ]
    },
    {
     "name": "stderr",
     "output_type": "stream",
     "text": [
      "\r\n",
      "Processed prompts:   0%|                        | 0/1 [00:00<?, ?it/s, est. speed input: 0.00 toks/s, output: 0.00 toks/s]"
     ]
    },
    {
     "name": "stderr",
     "output_type": "stream",
     "text": [
      "\u001b[A"
     ]
    },
    {
     "name": "stderr",
     "output_type": "stream",
     "text": [
      "\n"
     ]
    },
    {
     "name": "stderr",
     "output_type": "stream",
     "text": [
      "\r\n",
      "Processed prompts: 100%|██████████████| 1/1 [01:12<00:00, 72.36s/it, est. speed input: 16.25 toks/s, output: 58.02 toks/s]"
     ]
    },
    {
     "name": "stderr",
     "output_type": "stream",
     "text": [
      "\u001b[A"
     ]
    },
    {
     "name": "stderr",
     "output_type": "stream",
     "text": [
      "\r\n",
      "Processed prompts: 100%|██████████████| 1/1 [01:12<00:00, 72.36s/it, est. speed input: 16.25 toks/s, output: 58.02 toks/s]"
     ]
    },
    {
     "name": "stderr",
     "output_type": "stream",
     "text": [
      "\n",
      "\r\n",
      "Generating responses:  16%|█████████▋                                                  | 23/143 [19:18<1:35:08, 47.57s/it]"
     ]
    },
    {
     "name": "stderr",
     "output_type": "stream",
     "text": [
      "\n"
     ]
    },
    {
     "name": "stderr",
     "output_type": "stream",
     "text": [
      "\r\n",
      "Processed prompts:   0%|                        | 0/1 [00:00<?, ?it/s, est. speed input: 0.00 toks/s, output: 0.00 toks/s]"
     ]
    },
    {
     "name": "stderr",
     "output_type": "stream",
     "text": [
      "\u001b[A"
     ]
    },
    {
     "name": "stderr",
     "output_type": "stream",
     "text": [
      "\n"
     ]
    },
    {
     "name": "stderr",
     "output_type": "stream",
     "text": [
      "\r\n",
      "Processed prompts: 100%|██████████████| 1/1 [00:32<00:00, 32.24s/it, est. speed input: 39.23 toks/s, output: 58.49 toks/s]"
     ]
    },
    {
     "name": "stderr",
     "output_type": "stream",
     "text": [
      "\u001b[A"
     ]
    },
    {
     "name": "stderr",
     "output_type": "stream",
     "text": [
      "\r\n",
      "Processed prompts: 100%|██████████████| 1/1 [00:32<00:00, 32.25s/it, est. speed input: 39.23 toks/s, output: 58.49 toks/s]"
     ]
    },
    {
     "name": "stderr",
     "output_type": "stream",
     "text": [
      "\n",
      "\r\n",
      "Generating responses:  17%|██████████                                                  | 24/143 [19:51<1:25:14, 42.98s/it]"
     ]
    },
    {
     "name": "stderr",
     "output_type": "stream",
     "text": [
      "\n"
     ]
    },
    {
     "name": "stderr",
     "output_type": "stream",
     "text": [
      "\r\n",
      "Processed prompts:   0%|                        | 0/1 [00:00<?, ?it/s, est. speed input: 0.00 toks/s, output: 0.00 toks/s]"
     ]
    },
    {
     "name": "stderr",
     "output_type": "stream",
     "text": [
      "\u001b[A"
     ]
    },
    {
     "name": "stderr",
     "output_type": "stream",
     "text": [
      "\n"
     ]
    },
    {
     "name": "stderr",
     "output_type": "stream",
     "text": [
      "\r\n",
      "Processed prompts: 100%|██████████████| 1/1 [00:25<00:00, 25.35s/it, est. speed input: 40.59 toks/s, output: 58.66 toks/s]"
     ]
    },
    {
     "name": "stderr",
     "output_type": "stream",
     "text": [
      "\u001b[A"
     ]
    },
    {
     "name": "stderr",
     "output_type": "stream",
     "text": [
      "\r\n",
      "Processed prompts: 100%|██████████████| 1/1 [00:25<00:00, 25.35s/it, est. speed input: 40.59 toks/s, output: 58.66 toks/s]"
     ]
    },
    {
     "name": "stderr",
     "output_type": "stream",
     "text": [
      "\n",
      "\r\n",
      "Generating responses:  17%|██████████▍                                                 | 25/143 [20:16<1:14:07, 37.69s/it]"
     ]
    },
    {
     "name": "stderr",
     "output_type": "stream",
     "text": [
      "\n"
     ]
    },
    {
     "name": "stderr",
     "output_type": "stream",
     "text": [
      "\r\n",
      "Processed prompts:   0%|                        | 0/1 [00:00<?, ?it/s, est. speed input: 0.00 toks/s, output: 0.00 toks/s]"
     ]
    },
    {
     "name": "stderr",
     "output_type": "stream",
     "text": [
      "\u001b[A"
     ]
    },
    {
     "name": "stderr",
     "output_type": "stream",
     "text": [
      "\n"
     ]
    },
    {
     "name": "stderr",
     "output_type": "stream",
     "text": [
      "\r\n",
      "Processed prompts: 100%|██████████████| 1/1 [00:39<00:00, 39.32s/it, est. speed input: 31.74 toks/s, output: 58.44 toks/s]"
     ]
    },
    {
     "name": "stderr",
     "output_type": "stream",
     "text": [
      "\u001b[A"
     ]
    },
    {
     "name": "stderr",
     "output_type": "stream",
     "text": [
      "\r\n",
      "Processed prompts: 100%|██████████████| 1/1 [00:39<00:00, 39.32s/it, est. speed input: 31.74 toks/s, output: 58.44 toks/s]"
     ]
    },
    {
     "name": "stderr",
     "output_type": "stream",
     "text": [
      "\n",
      "\r\n",
      "Generating responses:  18%|██████████▉                                                 | 26/143 [20:55<1:14:27, 38.18s/it]"
     ]
    },
    {
     "name": "stderr",
     "output_type": "stream",
     "text": [
      "\n"
     ]
    },
    {
     "name": "stderr",
     "output_type": "stream",
     "text": [
      "\r\n",
      "Processed prompts:   0%|                        | 0/1 [00:00<?, ?it/s, est. speed input: 0.00 toks/s, output: 0.00 toks/s]"
     ]
    },
    {
     "name": "stderr",
     "output_type": "stream",
     "text": [
      "\u001b[A"
     ]
    },
    {
     "name": "stderr",
     "output_type": "stream",
     "text": [
      "\n"
     ]
    },
    {
     "name": "stderr",
     "output_type": "stream",
     "text": [
      "\r\n",
      "Processed prompts: 100%|██████████████| 1/1 [00:45<00:00, 45.33s/it, est. speed input: 19.26 toks/s, output: 58.64 toks/s]"
     ]
    },
    {
     "name": "stderr",
     "output_type": "stream",
     "text": [
      "\u001b[A"
     ]
    },
    {
     "name": "stderr",
     "output_type": "stream",
     "text": [
      "\r\n",
      "Processed prompts: 100%|██████████████| 1/1 [00:45<00:00, 45.33s/it, est. speed input: 19.26 toks/s, output: 58.64 toks/s]"
     ]
    },
    {
     "name": "stderr",
     "output_type": "stream",
     "text": [
      "\n",
      "\r\n",
      "Generating responses:  19%|███████████▎                                                | 27/143 [21:41<1:17:58, 40.33s/it]"
     ]
    },
    {
     "name": "stderr",
     "output_type": "stream",
     "text": [
      "\n"
     ]
    },
    {
     "name": "stderr",
     "output_type": "stream",
     "text": [
      "\r\n",
      "Processed prompts:   0%|                        | 0/1 [00:00<?, ?it/s, est. speed input: 0.00 toks/s, output: 0.00 toks/s]"
     ]
    },
    {
     "name": "stderr",
     "output_type": "stream",
     "text": [
      "\u001b[A"
     ]
    },
    {
     "name": "stderr",
     "output_type": "stream",
     "text": [
      "\n"
     ]
    },
    {
     "name": "stderr",
     "output_type": "stream",
     "text": [
      "\r\n",
      "Processed prompts: 100%|██████████████| 1/1 [00:23<00:00, 23.62s/it, est. speed input: 62.74 toks/s, output: 58.25 toks/s]"
     ]
    },
    {
     "name": "stderr",
     "output_type": "stream",
     "text": [
      "\u001b[A"
     ]
    },
    {
     "name": "stderr",
     "output_type": "stream",
     "text": [
      "\r\n",
      "Processed prompts: 100%|██████████████| 1/1 [00:23<00:00, 23.62s/it, est. speed input: 62.74 toks/s, output: 58.25 toks/s]"
     ]
    },
    {
     "name": "stderr",
     "output_type": "stream",
     "text": [
      "\n",
      "\r\n",
      "Generating responses:  20%|███████████▋                                                | 28/143 [22:04<1:07:42, 35.32s/it]"
     ]
    },
    {
     "name": "stderr",
     "output_type": "stream",
     "text": [
      "\n"
     ]
    },
    {
     "name": "stderr",
     "output_type": "stream",
     "text": [
      "\r\n",
      "Processed prompts:   0%|                        | 0/1 [00:00<?, ?it/s, est. speed input: 0.00 toks/s, output: 0.00 toks/s]"
     ]
    },
    {
     "name": "stderr",
     "output_type": "stream",
     "text": [
      "\u001b[A"
     ]
    },
    {
     "name": "stderr",
     "output_type": "stream",
     "text": [
      "\n"
     ]
    },
    {
     "name": "stderr",
     "output_type": "stream",
     "text": [
      "\r\n",
      "Processed prompts: 100%|██████████████| 1/1 [00:50<00:00, 50.92s/it, est. speed input: 29.44 toks/s, output: 58.12 toks/s]"
     ]
    },
    {
     "name": "stderr",
     "output_type": "stream",
     "text": [
      "\u001b[A"
     ]
    },
    {
     "name": "stderr",
     "output_type": "stream",
     "text": [
      "\r\n",
      "Processed prompts: 100%|██████████████| 1/1 [00:50<00:00, 50.92s/it, est. speed input: 29.44 toks/s, output: 58.12 toks/s]"
     ]
    },
    {
     "name": "stderr",
     "output_type": "stream",
     "text": [
      "\n",
      "\r\n",
      "Generating responses:  20%|████████████▏                                               | 29/143 [22:55<1:16:00, 40.01s/it]"
     ]
    },
    {
     "name": "stderr",
     "output_type": "stream",
     "text": [
      "\n"
     ]
    },
    {
     "name": "stderr",
     "output_type": "stream",
     "text": [
      "\r\n",
      "Processed prompts:   0%|                        | 0/1 [00:00<?, ?it/s, est. speed input: 0.00 toks/s, output: 0.00 toks/s]"
     ]
    },
    {
     "name": "stderr",
     "output_type": "stream",
     "text": [
      "\u001b[A"
     ]
    },
    {
     "name": "stderr",
     "output_type": "stream",
     "text": [
      "\n"
     ]
    },
    {
     "name": "stderr",
     "output_type": "stream",
     "text": [
      "\r\n",
      "Processed prompts: 100%|██████████████| 1/1 [00:36<00:00, 36.38s/it, est. speed input: 40.74 toks/s, output: 58.22 toks/s]"
     ]
    },
    {
     "name": "stderr",
     "output_type": "stream",
     "text": [
      "\u001b[A"
     ]
    },
    {
     "name": "stderr",
     "output_type": "stream",
     "text": [
      "\r\n",
      "Processed prompts: 100%|██████████████| 1/1 [00:36<00:00, 36.38s/it, est. speed input: 40.74 toks/s, output: 58.22 toks/s]"
     ]
    },
    {
     "name": "stderr",
     "output_type": "stream",
     "text": [
      "\n",
      "\r\n",
      "Generating responses:  21%|████████████▌                                               | 30/143 [23:32<1:13:18, 38.92s/it]"
     ]
    },
    {
     "name": "stderr",
     "output_type": "stream",
     "text": [
      "\n"
     ]
    },
    {
     "name": "stderr",
     "output_type": "stream",
     "text": [
      "\r\n",
      "Processed prompts:   0%|                        | 0/1 [00:00<?, ?it/s, est. speed input: 0.00 toks/s, output: 0.00 toks/s]"
     ]
    },
    {
     "name": "stderr",
     "output_type": "stream",
     "text": [
      "\u001b[A"
     ]
    },
    {
     "name": "stderr",
     "output_type": "stream",
     "text": [
      "\n"
     ]
    },
    {
     "name": "stderr",
     "output_type": "stream",
     "text": [
      "\r\n",
      "Processed prompts: 100%|██████████████| 1/1 [01:09<00:00, 69.60s/it, est. speed input: 12.87 toks/s, output: 58.30 toks/s]"
     ]
    },
    {
     "name": "stderr",
     "output_type": "stream",
     "text": [
      "\u001b[A"
     ]
    },
    {
     "name": "stderr",
     "output_type": "stream",
     "text": [
      "\r\n",
      "Processed prompts: 100%|██████████████| 1/1 [01:09<00:00, 69.61s/it, est. speed input: 12.87 toks/s, output: 58.30 toks/s]"
     ]
    },
    {
     "name": "stderr",
     "output_type": "stream",
     "text": [
      "\n",
      "\r\n",
      "Generating responses:  22%|█████████████                                               | 31/143 [24:41<1:29:50, 48.13s/it]"
     ]
    },
    {
     "name": "stderr",
     "output_type": "stream",
     "text": [
      "\n"
     ]
    },
    {
     "name": "stderr",
     "output_type": "stream",
     "text": [
      "\r\n",
      "Processed prompts:   0%|                        | 0/1 [00:00<?, ?it/s, est. speed input: 0.00 toks/s, output: 0.00 toks/s]"
     ]
    },
    {
     "name": "stderr",
     "output_type": "stream",
     "text": [
      "\u001b[A"
     ]
    },
    {
     "name": "stderr",
     "output_type": "stream",
     "text": [
      "\n"
     ]
    },
    {
     "name": "stderr",
     "output_type": "stream",
     "text": [
      "\r\n",
      "Processed prompts: 100%|██████████████| 1/1 [00:25<00:00, 25.64s/it, est. speed input: 47.42 toks/s, output: 58.50 toks/s]"
     ]
    },
    {
     "name": "stderr",
     "output_type": "stream",
     "text": [
      "\u001b[A"
     ]
    },
    {
     "name": "stderr",
     "output_type": "stream",
     "text": [
      "\r\n",
      "Processed prompts: 100%|██████████████| 1/1 [00:25<00:00, 25.65s/it, est. speed input: 47.42 toks/s, output: 58.50 toks/s]"
     ]
    },
    {
     "name": "stderr",
     "output_type": "stream",
     "text": [
      "\n",
      "\r\n",
      "Generating responses:  22%|█████████████▍                                              | 32/143 [25:07<1:16:34, 41.39s/it]"
     ]
    },
    {
     "name": "stderr",
     "output_type": "stream",
     "text": [
      "\n"
     ]
    },
    {
     "name": "stderr",
     "output_type": "stream",
     "text": [
      "\r\n",
      "Processed prompts:   0%|                        | 0/1 [00:00<?, ?it/s, est. speed input: 0.00 toks/s, output: 0.00 toks/s]"
     ]
    },
    {
     "name": "stderr",
     "output_type": "stream",
     "text": [
      "\u001b[A"
     ]
    },
    {
     "name": "stderr",
     "output_type": "stream",
     "text": [
      "\n"
     ]
    },
    {
     "name": "stderr",
     "output_type": "stream",
     "text": [
      "\r\n",
      "Processed prompts: 100%|██████████████| 1/1 [00:23<00:00, 23.90s/it, est. speed input: 41.72 toks/s, output: 58.66 toks/s]"
     ]
    },
    {
     "name": "stderr",
     "output_type": "stream",
     "text": [
      "\u001b[A"
     ]
    },
    {
     "name": "stderr",
     "output_type": "stream",
     "text": [
      "\r\n",
      "Processed prompts: 100%|██████████████| 1/1 [00:23<00:00, 23.90s/it, est. speed input: 41.72 toks/s, output: 58.66 toks/s]"
     ]
    },
    {
     "name": "stderr",
     "output_type": "stream",
     "text": [
      "\n",
      "\r\n",
      "Generating responses:  23%|█████████████▊                                              | 33/143 [25:31<1:06:16, 36.15s/it]"
     ]
    },
    {
     "name": "stderr",
     "output_type": "stream",
     "text": [
      "\n"
     ]
    },
    {
     "name": "stderr",
     "output_type": "stream",
     "text": [
      "\r\n",
      "Processed prompts:   0%|                        | 0/1 [00:00<?, ?it/s, est. speed input: 0.00 toks/s, output: 0.00 toks/s]"
     ]
    },
    {
     "name": "stderr",
     "output_type": "stream",
     "text": [
      "\u001b[A"
     ]
    },
    {
     "name": "stderr",
     "output_type": "stream",
     "text": [
      "\n"
     ]
    },
    {
     "name": "stderr",
     "output_type": "stream",
     "text": [
      "\r\n",
      "Processed prompts: 100%|██████████████| 1/1 [00:11<00:00, 11.24s/it, est. speed input: 67.78 toks/s, output: 58.53 toks/s]"
     ]
    },
    {
     "name": "stderr",
     "output_type": "stream",
     "text": [
      "\u001b[A"
     ]
    },
    {
     "name": "stderr",
     "output_type": "stream",
     "text": [
      "\r\n",
      "Processed prompts: 100%|██████████████| 1/1 [00:11<00:00, 11.24s/it, est. speed input: 67.78 toks/s, output: 58.53 toks/s]"
     ]
    },
    {
     "name": "stderr",
     "output_type": "stream",
     "text": [
      "\n",
      "\r\n",
      "Generating responses:  24%|██████████████▋                                               | 34/143 [25:42<52:05, 28.68s/it]"
     ]
    },
    {
     "name": "stderr",
     "output_type": "stream",
     "text": [
      "\n"
     ]
    },
    {
     "name": "stderr",
     "output_type": "stream",
     "text": [
      "\r\n",
      "Processed prompts:   0%|                        | 0/1 [00:00<?, ?it/s, est. speed input: 0.00 toks/s, output: 0.00 toks/s]"
     ]
    },
    {
     "name": "stderr",
     "output_type": "stream",
     "text": [
      "\u001b[A"
     ]
    },
    {
     "name": "stderr",
     "output_type": "stream",
     "text": [
      "\n"
     ]
    },
    {
     "name": "stderr",
     "output_type": "stream",
     "text": [
      "\r\n",
      "Processed prompts: 100%|██████████████| 1/1 [00:23<00:00, 23.68s/it, est. speed input: 28.37 toks/s, output: 58.86 toks/s]"
     ]
    },
    {
     "name": "stderr",
     "output_type": "stream",
     "text": [
      "\u001b[A"
     ]
    },
    {
     "name": "stderr",
     "output_type": "stream",
     "text": [
      "\r\n",
      "Processed prompts: 100%|██████████████| 1/1 [00:23<00:00, 23.69s/it, est. speed input: 28.37 toks/s, output: 58.86 toks/s]"
     ]
    },
    {
     "name": "stderr",
     "output_type": "stream",
     "text": [
      "\n",
      "\r\n",
      "Generating responses:  24%|███████████████▏                                              | 35/143 [26:06<48:55, 27.18s/it]"
     ]
    },
    {
     "name": "stderr",
     "output_type": "stream",
     "text": [
      "\n"
     ]
    },
    {
     "name": "stderr",
     "output_type": "stream",
     "text": [
      "\r\n",
      "Processed prompts:   0%|                        | 0/1 [00:00<?, ?it/s, est. speed input: 0.00 toks/s, output: 0.00 toks/s]"
     ]
    },
    {
     "name": "stderr",
     "output_type": "stream",
     "text": [
      "\u001b[A"
     ]
    },
    {
     "name": "stderr",
     "output_type": "stream",
     "text": [
      "\n"
     ]
    },
    {
     "name": "stderr",
     "output_type": "stream",
     "text": [
      "\r\n",
      "Processed prompts: 100%|██████████████| 1/1 [00:34<00:00, 34.41s/it, est. speed input: 71.44 toks/s, output: 57.43 toks/s]"
     ]
    },
    {
     "name": "stderr",
     "output_type": "stream",
     "text": [
      "\u001b[A"
     ]
    },
    {
     "name": "stderr",
     "output_type": "stream",
     "text": [
      "\r\n",
      "Processed prompts: 100%|██████████████| 1/1 [00:34<00:00, 34.41s/it, est. speed input: 71.44 toks/s, output: 57.43 toks/s]"
     ]
    },
    {
     "name": "stderr",
     "output_type": "stream",
     "text": [
      "\n",
      "\r\n",
      "Generating responses:  25%|███████████████▌                                              | 36/143 [26:40<52:21, 29.36s/it]"
     ]
    },
    {
     "name": "stderr",
     "output_type": "stream",
     "text": [
      "\n"
     ]
    },
    {
     "name": "stderr",
     "output_type": "stream",
     "text": [
      "\r\n",
      "Processed prompts:   0%|                        | 0/1 [00:00<?, ?it/s, est. speed input: 0.00 toks/s, output: 0.00 toks/s]"
     ]
    },
    {
     "name": "stderr",
     "output_type": "stream",
     "text": [
      "\u001b[A"
     ]
    },
    {
     "name": "stderr",
     "output_type": "stream",
     "text": [
      "\n"
     ]
    },
    {
     "name": "stderr",
     "output_type": "stream",
     "text": [
      "\r\n",
      "Processed prompts: 100%|██████████████| 1/1 [00:46<00:00, 46.29s/it, est. speed input: 17.05 toks/s, output: 58.68 toks/s]"
     ]
    },
    {
     "name": "stderr",
     "output_type": "stream",
     "text": [
      "\u001b[A"
     ]
    },
    {
     "name": "stderr",
     "output_type": "stream",
     "text": [
      "\r\n",
      "Processed prompts: 100%|██████████████| 1/1 [00:46<00:00, 46.29s/it, est. speed input: 17.05 toks/s, output: 58.68 toks/s]"
     ]
    },
    {
     "name": "stderr",
     "output_type": "stream",
     "text": [
      "\n",
      "\r\n",
      "Generating responses:  26%|███████████████▌                                            | 37/143 [27:26<1:00:50, 34.44s/it]"
     ]
    },
    {
     "name": "stderr",
     "output_type": "stream",
     "text": [
      "\n"
     ]
    },
    {
     "name": "stderr",
     "output_type": "stream",
     "text": [
      "\r\n",
      "Processed prompts:   0%|                        | 0/1 [00:00<?, ?it/s, est. speed input: 0.00 toks/s, output: 0.00 toks/s]"
     ]
    },
    {
     "name": "stderr",
     "output_type": "stream",
     "text": [
      "\u001b[A"
     ]
    },
    {
     "name": "stderr",
     "output_type": "stream",
     "text": [
      "\n"
     ]
    },
    {
     "name": "stderr",
     "output_type": "stream",
     "text": [
      "\r\n",
      "Processed prompts: 100%|██████████████| 1/1 [00:22<00:00, 22.98s/it, est. speed input: 64.85 toks/s, output: 58.24 toks/s]"
     ]
    },
    {
     "name": "stderr",
     "output_type": "stream",
     "text": [
      "\u001b[A"
     ]
    },
    {
     "name": "stderr",
     "output_type": "stream",
     "text": [
      "\r\n",
      "Processed prompts: 100%|██████████████| 1/1 [00:22<00:00, 22.98s/it, est. speed input: 64.85 toks/s, output: 58.24 toks/s]"
     ]
    },
    {
     "name": "stderr",
     "output_type": "stream",
     "text": [
      "\n",
      "\r\n",
      "Generating responses:  27%|████████████████▍                                             | 38/143 [27:49<54:15, 31.00s/it]"
     ]
    },
    {
     "name": "stderr",
     "output_type": "stream",
     "text": [
      "\n"
     ]
    },
    {
     "name": "stderr",
     "output_type": "stream",
     "text": [
      "\r\n",
      "Processed prompts:   0%|                        | 0/1 [00:00<?, ?it/s, est. speed input: 0.00 toks/s, output: 0.00 toks/s]"
     ]
    },
    {
     "name": "stderr",
     "output_type": "stream",
     "text": [
      "\u001b[A"
     ]
    },
    {
     "name": "stderr",
     "output_type": "stream",
     "text": [
      "\n"
     ]
    },
    {
     "name": "stderr",
     "output_type": "stream",
     "text": [
      "\r\n",
      "Processed prompts: 100%|██████████████| 1/1 [00:35<00:00, 35.19s/it, est. speed input: 44.14 toks/s, output: 58.20 toks/s]"
     ]
    },
    {
     "name": "stderr",
     "output_type": "stream",
     "text": [
      "\u001b[A"
     ]
    },
    {
     "name": "stderr",
     "output_type": "stream",
     "text": [
      "\r\n",
      "Processed prompts: 100%|██████████████| 1/1 [00:35<00:00, 35.19s/it, est. speed input: 44.14 toks/s, output: 58.20 toks/s]"
     ]
    },
    {
     "name": "stderr",
     "output_type": "stream",
     "text": [
      "\n",
      "\r\n",
      "Generating responses:  27%|████████████████▉                                             | 39/143 [28:25<55:55, 32.26s/it]"
     ]
    },
    {
     "name": "stderr",
     "output_type": "stream",
     "text": [
      "\n"
     ]
    },
    {
     "name": "stderr",
     "output_type": "stream",
     "text": [
      "\r\n",
      "Processed prompts:   0%|                        | 0/1 [00:00<?, ?it/s, est. speed input: 0.00 toks/s, output: 0.00 toks/s]"
     ]
    },
    {
     "name": "stderr",
     "output_type": "stream",
     "text": [
      "\u001b[A"
     ]
    },
    {
     "name": "stderr",
     "output_type": "stream",
     "text": [
      "\n"
     ]
    },
    {
     "name": "stderr",
     "output_type": "stream",
     "text": [
      "\r\n",
      "Processed prompts: 100%|██████████████| 1/1 [00:53<00:00, 53.86s/it, est. speed input: 27.78 toks/s, output: 58.08 toks/s]"
     ]
    },
    {
     "name": "stderr",
     "output_type": "stream",
     "text": [
      "\u001b[A"
     ]
    },
    {
     "name": "stderr",
     "output_type": "stream",
     "text": [
      "\r\n",
      "Processed prompts: 100%|██████████████| 1/1 [00:53<00:00, 53.86s/it, est. speed input: 27.78 toks/s, output: 58.08 toks/s]"
     ]
    },
    {
     "name": "stderr",
     "output_type": "stream",
     "text": [
      "\n",
      "\r\n",
      "Generating responses:  28%|████████████████▊                                           | 40/143 [29:19<1:06:30, 38.75s/it]"
     ]
    },
    {
     "name": "stderr",
     "output_type": "stream",
     "text": [
      "\n"
     ]
    },
    {
     "name": "stderr",
     "output_type": "stream",
     "text": [
      "\r\n",
      "Processed prompts:   0%|                        | 0/1 [00:00<?, ?it/s, est. speed input: 0.00 toks/s, output: 0.00 toks/s]"
     ]
    },
    {
     "name": "stderr",
     "output_type": "stream",
     "text": [
      "\u001b[A"
     ]
    },
    {
     "name": "stderr",
     "output_type": "stream",
     "text": [
      "\n"
     ]
    },
    {
     "name": "stderr",
     "output_type": "stream",
     "text": [
      "\r\n",
      "Processed prompts: 100%|██████████████| 1/1 [00:33<00:00, 33.37s/it, est. speed input: 22.51 toks/s, output: 58.77 toks/s]"
     ]
    },
    {
     "name": "stderr",
     "output_type": "stream",
     "text": [
      "\u001b[A"
     ]
    },
    {
     "name": "stderr",
     "output_type": "stream",
     "text": [
      "\r\n",
      "Processed prompts: 100%|██████████████| 1/1 [00:33<00:00, 33.37s/it, est. speed input: 22.51 toks/s, output: 58.77 toks/s]"
     ]
    },
    {
     "name": "stderr",
     "output_type": "stream",
     "text": [
      "\n",
      "\r\n",
      "Generating responses:  29%|█████████████████▏                                          | 41/143 [29:52<1:03:07, 37.14s/it]"
     ]
    },
    {
     "name": "stderr",
     "output_type": "stream",
     "text": [
      "\n"
     ]
    },
    {
     "name": "stderr",
     "output_type": "stream",
     "text": [
      "\r\n",
      "Processed prompts:   0%|                        | 0/1 [00:00<?, ?it/s, est. speed input: 0.00 toks/s, output: 0.00 toks/s]"
     ]
    },
    {
     "name": "stderr",
     "output_type": "stream",
     "text": [
      "\u001b[A"
     ]
    },
    {
     "name": "stderr",
     "output_type": "stream",
     "text": [
      "\n"
     ]
    },
    {
     "name": "stderr",
     "output_type": "stream",
     "text": [
      "\r\n",
      "Processed prompts: 100%|██████████████| 1/1 [00:29<00:00, 29.94s/it, est. speed input: 32.86 toks/s, output: 58.64 toks/s]"
     ]
    },
    {
     "name": "stderr",
     "output_type": "stream",
     "text": [
      "\u001b[A"
     ]
    },
    {
     "name": "stderr",
     "output_type": "stream",
     "text": [
      "\r\n",
      "Processed prompts: 100%|██████████████| 1/1 [00:29<00:00, 29.95s/it, est. speed input: 32.86 toks/s, output: 58.64 toks/s]"
     ]
    },
    {
     "name": "stderr",
     "output_type": "stream",
     "text": [
      "\n",
      "\r\n",
      "Generating responses:  29%|██████████████████▏                                           | 42/143 [30:22<58:53, 34.98s/it]"
     ]
    },
    {
     "name": "stderr",
     "output_type": "stream",
     "text": [
      "\n"
     ]
    },
    {
     "name": "stderr",
     "output_type": "stream",
     "text": [
      "\r\n",
      "Processed prompts:   0%|                        | 0/1 [00:00<?, ?it/s, est. speed input: 0.00 toks/s, output: 0.00 toks/s]"
     ]
    },
    {
     "name": "stderr",
     "output_type": "stream",
     "text": [
      "\u001b[A"
     ]
    },
    {
     "name": "stderr",
     "output_type": "stream",
     "text": [
      "\n"
     ]
    },
    {
     "name": "stderr",
     "output_type": "stream",
     "text": [
      "\r\n",
      "Processed prompts: 100%|██████████████| 1/1 [00:58<00:00, 58.16s/it, est. speed input: 18.74 toks/s, output: 58.29 toks/s]"
     ]
    },
    {
     "name": "stderr",
     "output_type": "stream",
     "text": [
      "\u001b[A"
     ]
    },
    {
     "name": "stderr",
     "output_type": "stream",
     "text": [
      "\r\n",
      "Processed prompts: 100%|██████████████| 1/1 [00:58<00:00, 58.16s/it, est. speed input: 18.74 toks/s, output: 58.29 toks/s]"
     ]
    },
    {
     "name": "stderr",
     "output_type": "stream",
     "text": [
      "\n",
      "\r\n",
      "Generating responses:  30%|██████████████████                                          | 43/143 [31:20<1:09:54, 41.94s/it]"
     ]
    },
    {
     "name": "stderr",
     "output_type": "stream",
     "text": [
      "\n"
     ]
    },
    {
     "name": "stderr",
     "output_type": "stream",
     "text": [
      "\r\n",
      "Processed prompts:   0%|                        | 0/1 [00:00<?, ?it/s, est. speed input: 0.00 toks/s, output: 0.00 toks/s]"
     ]
    },
    {
     "name": "stderr",
     "output_type": "stream",
     "text": [
      "\u001b[A"
     ]
    },
    {
     "name": "stderr",
     "output_type": "stream",
     "text": [
      "\n"
     ]
    },
    {
     "name": "stderr",
     "output_type": "stream",
     "text": [
      "\r\n",
      "Processed prompts: 100%|██████████████| 1/1 [00:19<00:00, 19.06s/it, est. speed input: 38.45 toks/s, output: 58.75 toks/s]"
     ]
    },
    {
     "name": "stderr",
     "output_type": "stream",
     "text": [
      "\u001b[A"
     ]
    },
    {
     "name": "stderr",
     "output_type": "stream",
     "text": [
      "\r\n",
      "Processed prompts: 100%|██████████████| 1/1 [00:19<00:00, 19.07s/it, est. speed input: 38.45 toks/s, output: 58.75 toks/s]"
     ]
    },
    {
     "name": "stderr",
     "output_type": "stream",
     "text": [
      "\n",
      "\r\n",
      "Generating responses:  31%|███████████████████                                           | 44/143 [31:39<57:53, 35.08s/it]"
     ]
    },
    {
     "name": "stderr",
     "output_type": "stream",
     "text": [
      "\n"
     ]
    },
    {
     "name": "stderr",
     "output_type": "stream",
     "text": [
      "\r\n",
      "Processed prompts:   0%|                        | 0/1 [00:00<?, ?it/s, est. speed input: 0.00 toks/s, output: 0.00 toks/s]"
     ]
    },
    {
     "name": "stderr",
     "output_type": "stream",
     "text": [
      "\u001b[A"
     ]
    },
    {
     "name": "stderr",
     "output_type": "stream",
     "text": [
      "\n"
     ]
    },
    {
     "name": "stderr",
     "output_type": "stream",
     "text": [
      "\r\n",
      "Processed prompts: 100%|██████████████| 1/1 [02:16<00:00, 136.96s/it, est. speed input: 63.03 toks/s, output: 8.58 toks/s]"
     ]
    },
    {
     "name": "stderr",
     "output_type": "stream",
     "text": [
      "\u001b[A"
     ]
    },
    {
     "name": "stderr",
     "output_type": "stream",
     "text": [
      "\r\n",
      "Processed prompts: 100%|██████████████| 1/1 [02:16<00:00, 136.96s/it, est. speed input: 63.03 toks/s, output: 8.58 toks/s]"
     ]
    },
    {
     "name": "stderr",
     "output_type": "stream",
     "text": [
      "\n",
      "\r\n",
      "Generating responses:  31%|██████████████████▉                                         | 45/143 [33:56<1:47:14, 65.66s/it]"
     ]
    },
    {
     "name": "stderr",
     "output_type": "stream",
     "text": [
      "\n"
     ]
    },
    {
     "name": "stderr",
     "output_type": "stream",
     "text": [
      "\r\n",
      "Processed prompts:   0%|                        | 0/1 [00:00<?, ?it/s, est. speed input: 0.00 toks/s, output: 0.00 toks/s]"
     ]
    },
    {
     "name": "stderr",
     "output_type": "stream",
     "text": [
      "\u001b[A"
     ]
    },
    {
     "name": "stderr",
     "output_type": "stream",
     "text": [
      "\n"
     ]
    },
    {
     "name": "stderr",
     "output_type": "stream",
     "text": [
      "\r\n",
      "Processed prompts: 100%|██████████████| 1/1 [00:19<00:00, 19.27s/it, est. speed input: 36.75 toks/s, output: 58.86 toks/s]"
     ]
    },
    {
     "name": "stderr",
     "output_type": "stream",
     "text": [
      "\u001b[A"
     ]
    },
    {
     "name": "stderr",
     "output_type": "stream",
     "text": [
      "\r\n",
      "Processed prompts: 100%|██████████████| 1/1 [00:19<00:00, 19.27s/it, est. speed input: 36.75 toks/s, output: 58.86 toks/s]"
     ]
    },
    {
     "name": "stderr",
     "output_type": "stream",
     "text": [
      "\n",
      "\r\n",
      "Generating responses:  32%|███████████████████▎                                        | 46/143 [34:15<1:23:39, 51.74s/it]"
     ]
    },
    {
     "name": "stderr",
     "output_type": "stream",
     "text": [
      "\n"
     ]
    },
    {
     "name": "stderr",
     "output_type": "stream",
     "text": [
      "\r\n",
      "Processed prompts:   0%|                        | 0/1 [00:00<?, ?it/s, est. speed input: 0.00 toks/s, output: 0.00 toks/s]"
     ]
    },
    {
     "name": "stderr",
     "output_type": "stream",
     "text": [
      "\u001b[A"
     ]
    },
    {
     "name": "stderr",
     "output_type": "stream",
     "text": [
      "\n"
     ]
    },
    {
     "name": "stderr",
     "output_type": "stream",
     "text": [
      "\r\n",
      "Processed prompts: 100%|██████████████| 1/1 [00:47<00:00, 47.70s/it, est. speed input: 17.44 toks/s, output: 58.72 toks/s]"
     ]
    },
    {
     "name": "stderr",
     "output_type": "stream",
     "text": [
      "\u001b[A"
     ]
    },
    {
     "name": "stderr",
     "output_type": "stream",
     "text": [
      "\r\n",
      "Processed prompts: 100%|██████████████| 1/1 [00:47<00:00, 47.70s/it, est. speed input: 17.44 toks/s, output: 58.72 toks/s]"
     ]
    },
    {
     "name": "stderr",
     "output_type": "stream",
     "text": [
      "\n",
      "\r\n",
      "Generating responses:  33%|███████████████████▋                                        | 47/143 [35:03<1:20:51, 50.53s/it]"
     ]
    },
    {
     "name": "stderr",
     "output_type": "stream",
     "text": [
      "\n"
     ]
    },
    {
     "name": "stderr",
     "output_type": "stream",
     "text": [
      "\r\n",
      "Processed prompts:   0%|                        | 0/1 [00:00<?, ?it/s, est. speed input: 0.00 toks/s, output: 0.00 toks/s]"
     ]
    },
    {
     "name": "stderr",
     "output_type": "stream",
     "text": [
      "\u001b[A"
     ]
    },
    {
     "name": "stderr",
     "output_type": "stream",
     "text": [
      "\n"
     ]
    },
    {
     "name": "stderr",
     "output_type": "stream",
     "text": [
      "\r\n",
      "Processed prompts: 100%|██████████████| 1/1 [01:11<00:00, 71.99s/it, est. speed input: 19.38 toks/s, output: 57.89 toks/s]"
     ]
    },
    {
     "name": "stderr",
     "output_type": "stream",
     "text": [
      "\u001b[A"
     ]
    },
    {
     "name": "stderr",
     "output_type": "stream",
     "text": [
      "\r\n",
      "Processed prompts: 100%|██████████████| 1/1 [01:11<00:00, 71.99s/it, est. speed input: 19.38 toks/s, output: 57.89 toks/s]"
     ]
    },
    {
     "name": "stderr",
     "output_type": "stream",
     "text": [
      "\n",
      "\r\n",
      "Generating responses:  34%|████████████████████▏                                       | 48/143 [36:15<1:30:12, 56.97s/it]"
     ]
    },
    {
     "name": "stderr",
     "output_type": "stream",
     "text": [
      "\n"
     ]
    },
    {
     "name": "stderr",
     "output_type": "stream",
     "text": [
      "\r\n",
      "Processed prompts:   0%|                        | 0/1 [00:00<?, ?it/s, est. speed input: 0.00 toks/s, output: 0.00 toks/s]"
     ]
    },
    {
     "name": "stderr",
     "output_type": "stream",
     "text": [
      "\u001b[A"
     ]
    },
    {
     "name": "stderr",
     "output_type": "stream",
     "text": [
      "\n"
     ]
    },
    {
     "name": "stderr",
     "output_type": "stream",
     "text": [
      "\r\n",
      "Processed prompts: 100%|██████████████| 1/1 [00:24<00:00, 24.14s/it, est. speed input: 64.88 toks/s, output: 58.25 toks/s]"
     ]
    },
    {
     "name": "stderr",
     "output_type": "stream",
     "text": [
      "\u001b[A"
     ]
    },
    {
     "name": "stderr",
     "output_type": "stream",
     "text": [
      "\r\n",
      "Processed prompts: 100%|██████████████| 1/1 [00:24<00:00, 24.14s/it, est. speed input: 64.88 toks/s, output: 58.25 toks/s]"
     ]
    },
    {
     "name": "stderr",
     "output_type": "stream",
     "text": [
      "\n",
      "\r\n",
      "Generating responses:  34%|████████████████████▌                                       | 49/143 [36:39<1:13:50, 47.13s/it]"
     ]
    },
    {
     "name": "stderr",
     "output_type": "stream",
     "text": [
      "\n"
     ]
    },
    {
     "name": "stderr",
     "output_type": "stream",
     "text": [
      "\r\n",
      "Processed prompts:   0%|                        | 0/1 [00:00<?, ?it/s, est. speed input: 0.00 toks/s, output: 0.00 toks/s]"
     ]
    },
    {
     "name": "stderr",
     "output_type": "stream",
     "text": [
      "\u001b[A"
     ]
    },
    {
     "name": "stderr",
     "output_type": "stream",
     "text": [
      "\n"
     ]
    },
    {
     "name": "stderr",
     "output_type": "stream",
     "text": [
      "\r\n",
      "Processed prompts: 100%|██████████████| 1/1 [00:29<00:00, 29.95s/it, est. speed input: 17.90 toks/s, output: 58.99 toks/s]"
     ]
    },
    {
     "name": "stderr",
     "output_type": "stream",
     "text": [
      "\u001b[A"
     ]
    },
    {
     "name": "stderr",
     "output_type": "stream",
     "text": [
      "\r\n",
      "Processed prompts: 100%|██████████████| 1/1 [00:29<00:00, 29.96s/it, est. speed input: 17.90 toks/s, output: 58.99 toks/s]"
     ]
    },
    {
     "name": "stderr",
     "output_type": "stream",
     "text": [
      "\n",
      "\r\n",
      "Generating responses:  35%|████████████████████▉                                       | 50/143 [37:09<1:05:04, 41.98s/it]"
     ]
    },
    {
     "name": "stderr",
     "output_type": "stream",
     "text": [
      "\n"
     ]
    },
    {
     "name": "stderr",
     "output_type": "stream",
     "text": [
      "\r\n",
      "Processed prompts:   0%|                        | 0/1 [00:00<?, ?it/s, est. speed input: 0.00 toks/s, output: 0.00 toks/s]"
     ]
    },
    {
     "name": "stderr",
     "output_type": "stream",
     "text": [
      "\u001b[A"
     ]
    },
    {
     "name": "stderr",
     "output_type": "stream",
     "text": [
      "\n"
     ]
    },
    {
     "name": "stderr",
     "output_type": "stream",
     "text": [
      "\r\n",
      "Processed prompts: 100%|██████████████| 1/1 [00:33<00:00, 33.30s/it, est. speed input: 18.83 toks/s, output: 58.95 toks/s]"
     ]
    },
    {
     "name": "stderr",
     "output_type": "stream",
     "text": [
      "\u001b[A"
     ]
    },
    {
     "name": "stderr",
     "output_type": "stream",
     "text": [
      "\r\n",
      "Processed prompts: 100%|██████████████| 1/1 [00:33<00:00, 33.30s/it, est. speed input: 18.83 toks/s, output: 58.95 toks/s]"
     ]
    },
    {
     "name": "stderr",
     "output_type": "stream",
     "text": [
      "\n",
      "\r\n",
      "Generating responses:  36%|█████████████████████▍                                      | 51/143 [37:43<1:00:22, 39.38s/it]"
     ]
    },
    {
     "name": "stderr",
     "output_type": "stream",
     "text": [
      "\n"
     ]
    },
    {
     "name": "stderr",
     "output_type": "stream",
     "text": [
      "\r\n",
      "Processed prompts:   0%|                        | 0/1 [00:00<?, ?it/s, est. speed input: 0.00 toks/s, output: 0.00 toks/s]"
     ]
    },
    {
     "name": "stderr",
     "output_type": "stream",
     "text": [
      "\u001b[A"
     ]
    },
    {
     "name": "stderr",
     "output_type": "stream",
     "text": [
      "\n"
     ]
    },
    {
     "name": "stderr",
     "output_type": "stream",
     "text": [
      "\r\n",
      "Processed prompts: 100%|██████████████| 1/1 [00:18<00:00, 18.88s/it, est. speed input: 91.02 toks/s, output: 57.96 toks/s]"
     ]
    },
    {
     "name": "stderr",
     "output_type": "stream",
     "text": [
      "\u001b[A"
     ]
    },
    {
     "name": "stderr",
     "output_type": "stream",
     "text": [
      "\r\n",
      "Processed prompts: 100%|██████████████| 1/1 [00:18<00:00, 18.88s/it, est. speed input: 91.02 toks/s, output: 57.96 toks/s]"
     ]
    },
    {
     "name": "stderr",
     "output_type": "stream",
     "text": [
      "\n",
      "\r\n",
      "Generating responses:  36%|██████████████████████▌                                       | 52/143 [38:01<50:24, 33.23s/it]"
     ]
    },
    {
     "name": "stderr",
     "output_type": "stream",
     "text": [
      "\n"
     ]
    },
    {
     "name": "stderr",
     "output_type": "stream",
     "text": [
      "\r\n",
      "Processed prompts:   0%|                        | 0/1 [00:00<?, ?it/s, est. speed input: 0.00 toks/s, output: 0.00 toks/s]"
     ]
    },
    {
     "name": "stderr",
     "output_type": "stream",
     "text": [
      "\u001b[A"
     ]
    },
    {
     "name": "stderr",
     "output_type": "stream",
     "text": [
      "\n"
     ]
    },
    {
     "name": "stderr",
     "output_type": "stream",
     "text": [
      "\r\n",
      "Processed prompts: 100%|██████████████| 1/1 [00:13<00:00, 13.35s/it, est. speed input: 46.66 toks/s, output: 58.71 toks/s]"
     ]
    },
    {
     "name": "stderr",
     "output_type": "stream",
     "text": [
      "\u001b[A"
     ]
    },
    {
     "name": "stderr",
     "output_type": "stream",
     "text": [
      "\r\n",
      "Processed prompts: 100%|██████████████| 1/1 [00:13<00:00, 13.36s/it, est. speed input: 46.66 toks/s, output: 58.71 toks/s]"
     ]
    },
    {
     "name": "stderr",
     "output_type": "stream",
     "text": [
      "\n",
      "\r\n",
      "Generating responses:  37%|██████████████████████▉                                       | 53/143 [38:15<40:54, 27.27s/it]"
     ]
    },
    {
     "name": "stderr",
     "output_type": "stream",
     "text": [
      "\n"
     ]
    },
    {
     "name": "stderr",
     "output_type": "stream",
     "text": [
      "\r\n",
      "Processed prompts:   0%|                        | 0/1 [00:00<?, ?it/s, est. speed input: 0.00 toks/s, output: 0.00 toks/s]"
     ]
    },
    {
     "name": "stderr",
     "output_type": "stream",
     "text": [
      "\u001b[A"
     ]
    },
    {
     "name": "stderr",
     "output_type": "stream",
     "text": [
      "\n"
     ]
    },
    {
     "name": "stderr",
     "output_type": "stream",
     "text": [
      "\r\n",
      "Processed prompts: 100%|██████████████| 1/1 [00:19<00:00, 19.51s/it, est. speed input: 79.38 toks/s, output: 58.16 toks/s]"
     ]
    },
    {
     "name": "stderr",
     "output_type": "stream",
     "text": [
      "\u001b[A"
     ]
    },
    {
     "name": "stderr",
     "output_type": "stream",
     "text": [
      "\r\n",
      "Processed prompts: 100%|██████████████| 1/1 [00:19<00:00, 19.52s/it, est. speed input: 79.38 toks/s, output: 58.16 toks/s]"
     ]
    },
    {
     "name": "stderr",
     "output_type": "stream",
     "text": [
      "\n",
      "\r\n",
      "Generating responses:  38%|███████████████████████▍                                      | 54/143 [38:34<37:00, 24.95s/it]"
     ]
    },
    {
     "name": "stderr",
     "output_type": "stream",
     "text": [
      "\n"
     ]
    },
    {
     "name": "stderr",
     "output_type": "stream",
     "text": [
      "\r\n",
      "Processed prompts:   0%|                        | 0/1 [00:00<?, ?it/s, est. speed input: 0.00 toks/s, output: 0.00 toks/s]"
     ]
    },
    {
     "name": "stderr",
     "output_type": "stream",
     "text": [
      "\u001b[A"
     ]
    },
    {
     "name": "stderr",
     "output_type": "stream",
     "text": [
      "\n"
     ]
    },
    {
     "name": "stderr",
     "output_type": "stream",
     "text": [
      "\r\n",
      "Processed prompts: 100%|██████████████| 1/1 [00:40<00:00, 40.93s/it, est. speed input: 34.06 toks/s, output: 58.37 toks/s]"
     ]
    },
    {
     "name": "stderr",
     "output_type": "stream",
     "text": [
      "\u001b[A"
     ]
    },
    {
     "name": "stderr",
     "output_type": "stream",
     "text": [
      "\r\n",
      "Processed prompts: 100%|██████████████| 1/1 [00:40<00:00, 40.93s/it, est. speed input: 34.06 toks/s, output: 58.37 toks/s]"
     ]
    },
    {
     "name": "stderr",
     "output_type": "stream",
     "text": [
      "\n",
      "\r\n",
      "Generating responses:  38%|███████████████████████▊                                      | 55/143 [39:15<43:37, 29.75s/it]"
     ]
    },
    {
     "name": "stderr",
     "output_type": "stream",
     "text": [
      "\n"
     ]
    },
    {
     "name": "stderr",
     "output_type": "stream",
     "text": [
      "\r\n",
      "Processed prompts:   0%|                        | 0/1 [00:00<?, ?it/s, est. speed input: 0.00 toks/s, output: 0.00 toks/s]"
     ]
    },
    {
     "name": "stderr",
     "output_type": "stream",
     "text": [
      "\u001b[A"
     ]
    },
    {
     "name": "stderr",
     "output_type": "stream",
     "text": [
      "\n"
     ]
    },
    {
     "name": "stderr",
     "output_type": "stream",
     "text": [
      "\r\n",
      "Processed prompts: 100%|██████████████| 1/1 [01:06<00:00, 66.22s/it, est. speed input: 11.25 toks/s, output: 58.52 toks/s]"
     ]
    },
    {
     "name": "stderr",
     "output_type": "stream",
     "text": [
      "\u001b[A"
     ]
    },
    {
     "name": "stderr",
     "output_type": "stream",
     "text": [
      "\r\n",
      "Processed prompts: 100%|██████████████| 1/1 [01:06<00:00, 66.22s/it, est. speed input: 11.25 toks/s, output: 58.52 toks/s]"
     ]
    },
    {
     "name": "stderr",
     "output_type": "stream",
     "text": [
      "\n",
      "\r\n",
      "Generating responses:  39%|████████████████████████▎                                     | 56/143 [40:21<59:00, 40.69s/it]"
     ]
    },
    {
     "name": "stderr",
     "output_type": "stream",
     "text": [
      "\n"
     ]
    },
    {
     "name": "stderr",
     "output_type": "stream",
     "text": [
      "\r\n",
      "Processed prompts:   0%|                        | 0/1 [00:00<?, ?it/s, est. speed input: 0.00 toks/s, output: 0.00 toks/s]"
     ]
    },
    {
     "name": "stderr",
     "output_type": "stream",
     "text": [
      "\u001b[A"
     ]
    },
    {
     "name": "stderr",
     "output_type": "stream",
     "text": [
      "\n"
     ]
    },
    {
     "name": "stderr",
     "output_type": "stream",
     "text": [
      "\r\n",
      "Processed prompts: 100%|█████████████| 1/1 [00:10<00:00, 10.23s/it, est. speed input: 176.58 toks/s, output: 57.17 toks/s]"
     ]
    },
    {
     "name": "stderr",
     "output_type": "stream",
     "text": [
      "\u001b[A"
     ]
    },
    {
     "name": "stderr",
     "output_type": "stream",
     "text": [
      "\r\n",
      "Processed prompts: 100%|█████████████| 1/1 [00:10<00:00, 10.24s/it, est. speed input: 176.58 toks/s, output: 57.17 toks/s]"
     ]
    },
    {
     "name": "stderr",
     "output_type": "stream",
     "text": [
      "\n",
      "\r\n",
      "Generating responses:  40%|████████████████████████▋                                     | 57/143 [40:32<45:14, 31.56s/it]"
     ]
    },
    {
     "name": "stderr",
     "output_type": "stream",
     "text": [
      "\n"
     ]
    },
    {
     "name": "stderr",
     "output_type": "stream",
     "text": [
      "\r\n",
      "Processed prompts:   0%|                        | 0/1 [00:00<?, ?it/s, est. speed input: 0.00 toks/s, output: 0.00 toks/s]"
     ]
    },
    {
     "name": "stderr",
     "output_type": "stream",
     "text": [
      "\u001b[A"
     ]
    },
    {
     "name": "stderr",
     "output_type": "stream",
     "text": [
      "\n"
     ]
    },
    {
     "name": "stderr",
     "output_type": "stream",
     "text": [
      "\r\n",
      "Processed prompts: 100%|██████████████| 1/1 [00:30<00:00, 30.27s/it, est. speed input: 39.64 toks/s, output: 58.57 toks/s]"
     ]
    },
    {
     "name": "stderr",
     "output_type": "stream",
     "text": [
      "\u001b[A"
     ]
    },
    {
     "name": "stderr",
     "output_type": "stream",
     "text": [
      "\r\n",
      "Processed prompts: 100%|██████████████| 1/1 [00:30<00:00, 30.27s/it, est. speed input: 39.64 toks/s, output: 58.57 toks/s]"
     ]
    },
    {
     "name": "stderr",
     "output_type": "stream",
     "text": [
      "\n",
      "\r\n",
      "Generating responses:  41%|█████████████████████████▏                                    | 58/143 [41:02<44:10, 31.18s/it]"
     ]
    },
    {
     "name": "stderr",
     "output_type": "stream",
     "text": [
      "\n"
     ]
    },
    {
     "name": "stderr",
     "output_type": "stream",
     "text": [
      "\r\n",
      "Processed prompts:   0%|                        | 0/1 [00:00<?, ?it/s, est. speed input: 0.00 toks/s, output: 0.00 toks/s]"
     ]
    },
    {
     "name": "stderr",
     "output_type": "stream",
     "text": [
      "\u001b[A"
     ]
    },
    {
     "name": "stderr",
     "output_type": "stream",
     "text": [
      "\n"
     ]
    },
    {
     "name": "stderr",
     "output_type": "stream",
     "text": [
      "\r\n",
      "Processed prompts: 100%|██████████████| 1/1 [00:23<00:00, 23.96s/it, est. speed input: 42.70 toks/s, output: 58.72 toks/s]"
     ]
    },
    {
     "name": "stderr",
     "output_type": "stream",
     "text": [
      "\u001b[A"
     ]
    },
    {
     "name": "stderr",
     "output_type": "stream",
     "text": [
      "\r\n",
      "Processed prompts: 100%|██████████████| 1/1 [00:23<00:00, 23.96s/it, est. speed input: 42.70 toks/s, output: 58.72 toks/s]"
     ]
    },
    {
     "name": "stderr",
     "output_type": "stream",
     "text": [
      "\n",
      "\r\n",
      "Generating responses:  41%|█████████████████████████▌                                    | 59/143 [41:26<40:37, 29.02s/it]"
     ]
    },
    {
     "name": "stderr",
     "output_type": "stream",
     "text": [
      "\n"
     ]
    },
    {
     "name": "stderr",
     "output_type": "stream",
     "text": [
      "\r\n",
      "Processed prompts:   0%|                        | 0/1 [00:00<?, ?it/s, est. speed input: 0.00 toks/s, output: 0.00 toks/s]"
     ]
    },
    {
     "name": "stderr",
     "output_type": "stream",
     "text": [
      "\u001b[A"
     ]
    },
    {
     "name": "stderr",
     "output_type": "stream",
     "text": [
      "\n"
     ]
    },
    {
     "name": "stderr",
     "output_type": "stream",
     "text": [
      "\r\n",
      "Processed prompts: 100%|██████████████| 1/1 [00:47<00:00, 47.40s/it, est. speed input: 20.04 toks/s, output: 58.63 toks/s]"
     ]
    },
    {
     "name": "stderr",
     "output_type": "stream",
     "text": [
      "\u001b[A"
     ]
    },
    {
     "name": "stderr",
     "output_type": "stream",
     "text": [
      "\r\n",
      "Processed prompts: 100%|██████████████| 1/1 [00:47<00:00, 47.40s/it, est. speed input: 20.04 toks/s, output: 58.63 toks/s]"
     ]
    },
    {
     "name": "stderr",
     "output_type": "stream",
     "text": [
      "\n",
      "\r\n",
      "Generating responses:  42%|██████████████████████████                                    | 60/143 [42:13<47:46, 34.54s/it]"
     ]
    },
    {
     "name": "stderr",
     "output_type": "stream",
     "text": [
      "\n"
     ]
    },
    {
     "name": "stderr",
     "output_type": "stream",
     "text": [
      "\r\n",
      "Processed prompts:   0%|                        | 0/1 [00:00<?, ?it/s, est. speed input: 0.00 toks/s, output: 0.00 toks/s]"
     ]
    },
    {
     "name": "stderr",
     "output_type": "stream",
     "text": [
      "\u001b[A"
     ]
    },
    {
     "name": "stderr",
     "output_type": "stream",
     "text": [
      "\n"
     ]
    },
    {
     "name": "stderr",
     "output_type": "stream",
     "text": [
      "\r\n",
      "Processed prompts: 100%|██████████████| 1/1 [00:48<00:00, 48.01s/it, est. speed input: 11.75 toks/s, output: 58.86 toks/s]"
     ]
    },
    {
     "name": "stderr",
     "output_type": "stream",
     "text": [
      "\u001b[A"
     ]
    },
    {
     "name": "stderr",
     "output_type": "stream",
     "text": [
      "\r\n",
      "Processed prompts: 100%|██████████████| 1/1 [00:48<00:00, 48.02s/it, est. speed input: 11.75 toks/s, output: 58.86 toks/s]"
     ]
    },
    {
     "name": "stderr",
     "output_type": "stream",
     "text": [
      "\n",
      "\r\n",
      "Generating responses:  43%|██████████████████████████▍                                   | 61/143 [43:01<52:43, 38.58s/it]"
     ]
    },
    {
     "name": "stderr",
     "output_type": "stream",
     "text": [
      "\n"
     ]
    },
    {
     "name": "stderr",
     "output_type": "stream",
     "text": [
      "\r\n",
      "Processed prompts:   0%|                        | 0/1 [00:00<?, ?it/s, est. speed input: 0.00 toks/s, output: 0.00 toks/s]"
     ]
    },
    {
     "name": "stderr",
     "output_type": "stream",
     "text": [
      "\u001b[A"
     ]
    },
    {
     "name": "stderr",
     "output_type": "stream",
     "text": [
      "\n"
     ]
    },
    {
     "name": "stderr",
     "output_type": "stream",
     "text": [
      "\r\n",
      "Processed prompts: 100%|█████████████| 1/1 [00:09<00:00,  9.89s/it, est. speed input: 119.89 toks/s, output: 58.12 toks/s]"
     ]
    },
    {
     "name": "stderr",
     "output_type": "stream",
     "text": [
      "\u001b[A"
     ]
    },
    {
     "name": "stderr",
     "output_type": "stream",
     "text": [
      "\r\n",
      "Processed prompts: 100%|█████████████| 1/1 [00:09<00:00,  9.90s/it, est. speed input: 119.89 toks/s, output: 58.12 toks/s]"
     ]
    },
    {
     "name": "stderr",
     "output_type": "stream",
     "text": [
      "\n",
      "\r\n",
      "Generating responses:  43%|██████████████████████████▉                                   | 62/143 [43:11<40:28, 29.98s/it]"
     ]
    },
    {
     "name": "stderr",
     "output_type": "stream",
     "text": [
      "\n"
     ]
    },
    {
     "name": "stderr",
     "output_type": "stream",
     "text": [
      "\r\n",
      "Processed prompts:   0%|                        | 0/1 [00:00<?, ?it/s, est. speed input: 0.00 toks/s, output: 0.00 toks/s]"
     ]
    },
    {
     "name": "stderr",
     "output_type": "stream",
     "text": [
      "\u001b[A"
     ]
    },
    {
     "name": "stderr",
     "output_type": "stream",
     "text": [
      "\n"
     ]
    },
    {
     "name": "stderr",
     "output_type": "stream",
     "text": [
      "\r\n",
      "Processed prompts: 100%|██████████████| 1/1 [00:28<00:00, 28.84s/it, est. speed input: 21.91 toks/s, output: 58.98 toks/s]"
     ]
    },
    {
     "name": "stderr",
     "output_type": "stream",
     "text": [
      "\u001b[A"
     ]
    },
    {
     "name": "stderr",
     "output_type": "stream",
     "text": [
      "\r\n",
      "Processed prompts: 100%|██████████████| 1/1 [00:28<00:00, 28.84s/it, est. speed input: 21.91 toks/s, output: 58.98 toks/s]"
     ]
    },
    {
     "name": "stderr",
     "output_type": "stream",
     "text": [
      "\n",
      "\r\n",
      "Generating responses:  44%|███████████████████████████▎                                  | 63/143 [43:40<39:31, 29.64s/it]"
     ]
    },
    {
     "name": "stderr",
     "output_type": "stream",
     "text": [
      "\n"
     ]
    },
    {
     "name": "stderr",
     "output_type": "stream",
     "text": [
      "\r\n",
      "Processed prompts:   0%|                        | 0/1 [00:00<?, ?it/s, est. speed input: 0.00 toks/s, output: 0.00 toks/s]"
     ]
    },
    {
     "name": "stderr",
     "output_type": "stream",
     "text": [
      "\u001b[A"
     ]
    },
    {
     "name": "stderr",
     "output_type": "stream",
     "text": [
      "\n"
     ]
    },
    {
     "name": "stderr",
     "output_type": "stream",
     "text": [
      "\r\n",
      "Processed prompts: 100%|██████████████| 1/1 [03:14<00:00, 194.06s/it, est. speed input: 46.45 toks/s, output: 8.69 toks/s]"
     ]
    },
    {
     "name": "stderr",
     "output_type": "stream",
     "text": [
      "\u001b[A"
     ]
    },
    {
     "name": "stderr",
     "output_type": "stream",
     "text": [
      "\r\n",
      "Processed prompts: 100%|██████████████| 1/1 [03:14<00:00, 194.06s/it, est. speed input: 46.45 toks/s, output: 8.69 toks/s]"
     ]
    },
    {
     "name": "stderr",
     "output_type": "stream",
     "text": [
      "\n",
      "\r\n",
      "Generating responses:  45%|██████████████████████████▊                                 | 64/143 [46:54<1:43:59, 78.98s/it]"
     ]
    },
    {
     "name": "stderr",
     "output_type": "stream",
     "text": [
      "\n"
     ]
    },
    {
     "name": "stderr",
     "output_type": "stream",
     "text": [
      "\r\n",
      "Processed prompts:   0%|                        | 0/1 [00:00<?, ?it/s, est. speed input: 0.00 toks/s, output: 0.00 toks/s]"
     ]
    },
    {
     "name": "stderr",
     "output_type": "stream",
     "text": [
      "\u001b[A"
     ]
    },
    {
     "name": "stderr",
     "output_type": "stream",
     "text": [
      "\n"
     ]
    },
    {
     "name": "stderr",
     "output_type": "stream",
     "text": [
      "\r\n",
      "Processed prompts: 100%|██████████████| 1/1 [00:17<00:00, 17.48s/it, est. speed input: 39.70 toks/s, output: 58.86 toks/s]"
     ]
    },
    {
     "name": "stderr",
     "output_type": "stream",
     "text": [
      "\u001b[A"
     ]
    },
    {
     "name": "stderr",
     "output_type": "stream",
     "text": [
      "\r\n",
      "Processed prompts: 100%|██████████████| 1/1 [00:17<00:00, 17.48s/it, est. speed input: 39.70 toks/s, output: 58.86 toks/s]"
     ]
    },
    {
     "name": "stderr",
     "output_type": "stream",
     "text": [
      "\n",
      "\r\n",
      "Generating responses:  45%|███████████████████████████▎                                | 65/143 [47:12<1:18:41, 60.53s/it]"
     ]
    },
    {
     "name": "stderr",
     "output_type": "stream",
     "text": [
      "\n"
     ]
    },
    {
     "name": "stderr",
     "output_type": "stream",
     "text": [
      "\r\n",
      "Processed prompts:   0%|                        | 0/1 [00:00<?, ?it/s, est. speed input: 0.00 toks/s, output: 0.00 toks/s]"
     ]
    },
    {
     "name": "stderr",
     "output_type": "stream",
     "text": [
      "\u001b[A"
     ]
    },
    {
     "name": "stderr",
     "output_type": "stream",
     "text": [
      "\n"
     ]
    },
    {
     "name": "stderr",
     "output_type": "stream",
     "text": [
      "\r\n",
      "Processed prompts: 100%|██████████████| 1/1 [00:50<00:00, 50.97s/it, est. speed input: 15.30 toks/s, output: 58.66 toks/s]"
     ]
    },
    {
     "name": "stderr",
     "output_type": "stream",
     "text": [
      "\u001b[A"
     ]
    },
    {
     "name": "stderr",
     "output_type": "stream",
     "text": [
      "\r\n",
      "Processed prompts: 100%|██████████████| 1/1 [00:50<00:00, 50.97s/it, est. speed input: 15.30 toks/s, output: 58.66 toks/s]"
     ]
    },
    {
     "name": "stderr",
     "output_type": "stream",
     "text": [
      "\n",
      "\r\n",
      "Generating responses:  46%|███████████████████████████▋                                | 66/143 [48:03<1:14:00, 57.67s/it]"
     ]
    },
    {
     "name": "stderr",
     "output_type": "stream",
     "text": [
      "\n"
     ]
    },
    {
     "name": "stderr",
     "output_type": "stream",
     "text": [
      "\r\n",
      "Processed prompts:   0%|                        | 0/1 [00:00<?, ?it/s, est. speed input: 0.00 toks/s, output: 0.00 toks/s]"
     ]
    },
    {
     "name": "stderr",
     "output_type": "stream",
     "text": [
      "\u001b[A"
     ]
    },
    {
     "name": "stderr",
     "output_type": "stream",
     "text": [
      "\n"
     ]
    },
    {
     "name": "stderr",
     "output_type": "stream",
     "text": [
      "\r\n",
      "Processed prompts: 100%|██████████████| 1/1 [00:31<00:00, 31.42s/it, est. speed input: 20.88 toks/s, output: 58.91 toks/s]"
     ]
    },
    {
     "name": "stderr",
     "output_type": "stream",
     "text": [
      "\u001b[A"
     ]
    },
    {
     "name": "stderr",
     "output_type": "stream",
     "text": [
      "\r\n",
      "Processed prompts: 100%|██████████████| 1/1 [00:31<00:00, 31.42s/it, est. speed input: 20.88 toks/s, output: 58.91 toks/s]"
     ]
    },
    {
     "name": "stderr",
     "output_type": "stream",
     "text": [
      "\n",
      "\r\n",
      "Generating responses:  47%|████████████████████████████                                | 67/143 [48:34<1:03:04, 49.80s/it]"
     ]
    },
    {
     "name": "stderr",
     "output_type": "stream",
     "text": [
      "\n"
     ]
    },
    {
     "name": "stderr",
     "output_type": "stream",
     "text": [
      "\r\n",
      "Processed prompts:   0%|                        | 0/1 [00:00<?, ?it/s, est. speed input: 0.00 toks/s, output: 0.00 toks/s]"
     ]
    },
    {
     "name": "stderr",
     "output_type": "stream",
     "text": [
      "\u001b[A"
     ]
    },
    {
     "name": "stderr",
     "output_type": "stream",
     "text": [
      "\n"
     ]
    },
    {
     "name": "stderr",
     "output_type": "stream",
     "text": [
      "\r\n",
      "Processed prompts: 100%|██████████████| 1/1 [00:55<00:00, 55.88s/it, est. speed input: 52.58 toks/s, output: 56.59 toks/s]"
     ]
    },
    {
     "name": "stderr",
     "output_type": "stream",
     "text": [
      "\u001b[A"
     ]
    },
    {
     "name": "stderr",
     "output_type": "stream",
     "text": [
      "\r\n",
      "Processed prompts: 100%|██████████████| 1/1 [00:55<00:00, 55.88s/it, est. speed input: 52.58 toks/s, output: 56.59 toks/s]"
     ]
    },
    {
     "name": "stderr",
     "output_type": "stream",
     "text": [
      "\n",
      "\r\n",
      "Generating responses:  48%|████████████████████████████▌                               | 68/143 [49:30<1:04:32, 51.63s/it]"
     ]
    },
    {
     "name": "stderr",
     "output_type": "stream",
     "text": [
      "\n"
     ]
    },
    {
     "name": "stderr",
     "output_type": "stream",
     "text": [
      "\r\n",
      "Processed prompts:   0%|                        | 0/1 [00:00<?, ?it/s, est. speed input: 0.00 toks/s, output: 0.00 toks/s]"
     ]
    },
    {
     "name": "stderr",
     "output_type": "stream",
     "text": [
      "\u001b[A"
     ]
    },
    {
     "name": "stderr",
     "output_type": "stream",
     "text": [
      "\n"
     ]
    },
    {
     "name": "stderr",
     "output_type": "stream",
     "text": [
      "\r\n",
      "Processed prompts: 100%|██████████████| 1/1 [00:43<00:00, 43.55s/it, est. speed input: 16.81 toks/s, output: 58.80 toks/s]"
     ]
    },
    {
     "name": "stderr",
     "output_type": "stream",
     "text": [
      "\u001b[A"
     ]
    },
    {
     "name": "stderr",
     "output_type": "stream",
     "text": [
      "\r\n",
      "Processed prompts: 100%|██████████████| 1/1 [00:43<00:00, 43.56s/it, est. speed input: 16.81 toks/s, output: 58.80 toks/s]"
     ]
    },
    {
     "name": "stderr",
     "output_type": "stream",
     "text": [
      "\n",
      "\r\n",
      "Generating responses:  48%|████████████████████████████▉                               | 69/143 [50:14<1:00:41, 49.21s/it]"
     ]
    },
    {
     "name": "stderr",
     "output_type": "stream",
     "text": [
      "\n"
     ]
    },
    {
     "name": "stderr",
     "output_type": "stream",
     "text": [
      "\r\n",
      "Processed prompts:   0%|                        | 0/1 [00:00<?, ?it/s, est. speed input: 0.00 toks/s, output: 0.00 toks/s]"
     ]
    },
    {
     "name": "stderr",
     "output_type": "stream",
     "text": [
      "\u001b[A"
     ]
    },
    {
     "name": "stderr",
     "output_type": "stream",
     "text": [
      "\n"
     ]
    },
    {
     "name": "stderr",
     "output_type": "stream",
     "text": [
      "\r\n",
      "Processed prompts: 100%|██████████████| 1/1 [00:53<00:00, 53.45s/it, est. speed input: 27.26 toks/s, output: 58.17 toks/s]"
     ]
    },
    {
     "name": "stderr",
     "output_type": "stream",
     "text": [
      "\u001b[A"
     ]
    },
    {
     "name": "stderr",
     "output_type": "stream",
     "text": [
      "\r\n",
      "Processed prompts: 100%|██████████████| 1/1 [00:53<00:00, 53.45s/it, est. speed input: 27.26 toks/s, output: 58.17 toks/s]"
     ]
    },
    {
     "name": "stderr",
     "output_type": "stream",
     "text": [
      "\n",
      "\r\n",
      "Generating responses:  49%|█████████████████████████████▎                              | 70/143 [51:07<1:01:25, 50.49s/it]"
     ]
    },
    {
     "name": "stderr",
     "output_type": "stream",
     "text": [
      "\n"
     ]
    },
    {
     "name": "stderr",
     "output_type": "stream",
     "text": [
      "\r\n",
      "Processed prompts:   0%|                        | 0/1 [00:00<?, ?it/s, est. speed input: 0.00 toks/s, output: 0.00 toks/s]"
     ]
    },
    {
     "name": "stderr",
     "output_type": "stream",
     "text": [
      "\u001b[A"
     ]
    },
    {
     "name": "stderr",
     "output_type": "stream",
     "text": [
      "\n"
     ]
    },
    {
     "name": "stderr",
     "output_type": "stream",
     "text": [
      "\r\n",
      "Processed prompts: 100%|██████████████| 1/1 [00:20<00:00, 20.20s/it, est. speed input: 62.72 toks/s, output: 58.46 toks/s]"
     ]
    },
    {
     "name": "stderr",
     "output_type": "stream",
     "text": [
      "\u001b[A"
     ]
    },
    {
     "name": "stderr",
     "output_type": "stream",
     "text": [
      "\r\n",
      "Processed prompts: 100%|██████████████| 1/1 [00:20<00:00, 20.20s/it, est. speed input: 62.72 toks/s, output: 58.46 toks/s]"
     ]
    },
    {
     "name": "stderr",
     "output_type": "stream",
     "text": [
      "\n",
      "\r\n",
      "Generating responses:  50%|██████████████████████████████▊                               | 71/143 [51:27<49:41, 41.41s/it]"
     ]
    },
    {
     "name": "stderr",
     "output_type": "stream",
     "text": [
      "\n"
     ]
    },
    {
     "name": "stderr",
     "output_type": "stream",
     "text": [
      "\r\n",
      "Processed prompts:   0%|                        | 0/1 [00:00<?, ?it/s, est. speed input: 0.00 toks/s, output: 0.00 toks/s]"
     ]
    },
    {
     "name": "stderr",
     "output_type": "stream",
     "text": [
      "\u001b[A"
     ]
    },
    {
     "name": "stderr",
     "output_type": "stream",
     "text": [
      "\n"
     ]
    },
    {
     "name": "stderr",
     "output_type": "stream",
     "text": [
      "\r\n",
      "Processed prompts: 100%|██████████████| 1/1 [00:30<00:00, 30.64s/it, est. speed input: 28.33 toks/s, output: 58.81 toks/s]"
     ]
    },
    {
     "name": "stderr",
     "output_type": "stream",
     "text": [
      "\u001b[A"
     ]
    },
    {
     "name": "stderr",
     "output_type": "stream",
     "text": [
      "\r\n",
      "Processed prompts: 100%|██████████████| 1/1 [00:30<00:00, 30.64s/it, est. speed input: 28.33 toks/s, output: 58.81 toks/s]"
     ]
    },
    {
     "name": "stderr",
     "output_type": "stream",
     "text": [
      "\n",
      "\r\n",
      "Generating responses:  50%|███████████████████████████████▏                              | 72/143 [51:58<45:10, 38.18s/it]"
     ]
    },
    {
     "name": "stderr",
     "output_type": "stream",
     "text": [
      "\n"
     ]
    },
    {
     "name": "stderr",
     "output_type": "stream",
     "text": [
      "\r\n",
      "Processed prompts:   0%|                        | 0/1 [00:00<?, ?it/s, est. speed input: 0.00 toks/s, output: 0.00 toks/s]"
     ]
    },
    {
     "name": "stderr",
     "output_type": "stream",
     "text": [
      "\u001b[A"
     ]
    },
    {
     "name": "stderr",
     "output_type": "stream",
     "text": [
      "\n"
     ]
    },
    {
     "name": "stderr",
     "output_type": "stream",
     "text": [
      "\r\n",
      "Processed prompts: 100%|██████████████| 1/1 [00:15<00:00, 15.76s/it, est. speed input: 75.45 toks/s, output: 56.92 toks/s]"
     ]
    },
    {
     "name": "stderr",
     "output_type": "stream",
     "text": [
      "\u001b[A"
     ]
    },
    {
     "name": "stderr",
     "output_type": "stream",
     "text": [
      "\r\n",
      "Processed prompts: 100%|██████████████| 1/1 [00:15<00:00, 15.76s/it, est. speed input: 75.45 toks/s, output: 56.92 toks/s]"
     ]
    },
    {
     "name": "stderr",
     "output_type": "stream",
     "text": [
      "\n",
      "\r\n",
      "Generating responses:  51%|███████████████████████████████▋                              | 73/143 [52:14<36:42, 31.46s/it]"
     ]
    },
    {
     "name": "stderr",
     "output_type": "stream",
     "text": [
      "\n"
     ]
    },
    {
     "name": "stderr",
     "output_type": "stream",
     "text": [
      "\r\n",
      "Processed prompts:   0%|                        | 0/1 [00:00<?, ?it/s, est. speed input: 0.00 toks/s, output: 0.00 toks/s]"
     ]
    },
    {
     "name": "stderr",
     "output_type": "stream",
     "text": [
      "\u001b[A"
     ]
    },
    {
     "name": "stderr",
     "output_type": "stream",
     "text": [
      "\n"
     ]
    },
    {
     "name": "stderr",
     "output_type": "stream",
     "text": [
      "\r\n",
      "Processed prompts: 100%|██████████████| 1/1 [00:24<00:00, 24.76s/it, est. speed input: 44.66 toks/s, output: 58.68 toks/s]"
     ]
    },
    {
     "name": "stderr",
     "output_type": "stream",
     "text": [
      "\u001b[A"
     ]
    },
    {
     "name": "stderr",
     "output_type": "stream",
     "text": [
      "\r\n",
      "Processed prompts: 100%|██████████████| 1/1 [00:24<00:00, 24.77s/it, est. speed input: 44.66 toks/s, output: 58.68 toks/s]"
     ]
    },
    {
     "name": "stderr",
     "output_type": "stream",
     "text": [
      "\n",
      "\r\n",
      "Generating responses:  52%|████████████████████████████████                              | 74/143 [52:39<33:52, 29.45s/it]"
     ]
    },
    {
     "name": "stderr",
     "output_type": "stream",
     "text": [
      "\n"
     ]
    },
    {
     "name": "stderr",
     "output_type": "stream",
     "text": [
      "\r\n",
      "Processed prompts:   0%|                        | 0/1 [00:00<?, ?it/s, est. speed input: 0.00 toks/s, output: 0.00 toks/s]"
     ]
    },
    {
     "name": "stderr",
     "output_type": "stream",
     "text": [
      "\u001b[A"
     ]
    },
    {
     "name": "stderr",
     "output_type": "stream",
     "text": [
      "\n"
     ]
    },
    {
     "name": "stderr",
     "output_type": "stream",
     "text": [
      "\r\n",
      "Processed prompts: 100%|██████████████| 1/1 [00:48<00:00, 48.78s/it, est. speed input: 39.22 toks/s, output: 57.87 toks/s]"
     ]
    },
    {
     "name": "stderr",
     "output_type": "stream",
     "text": [
      "\u001b[A"
     ]
    },
    {
     "name": "stderr",
     "output_type": "stream",
     "text": [
      "\r\n",
      "Processed prompts: 100%|██████████████| 1/1 [00:48<00:00, 48.79s/it, est. speed input: 39.22 toks/s, output: 57.87 toks/s]"
     ]
    },
    {
     "name": "stderr",
     "output_type": "stream",
     "text": [
      "\n",
      "\r\n",
      "Generating responses:  52%|████████████████████████████████▌                             | 75/143 [53:27<39:57, 35.26s/it]"
     ]
    },
    {
     "name": "stderr",
     "output_type": "stream",
     "text": [
      "\n"
     ]
    },
    {
     "name": "stderr",
     "output_type": "stream",
     "text": [
      "\r\n",
      "Processed prompts:   0%|                        | 0/1 [00:00<?, ?it/s, est. speed input: 0.00 toks/s, output: 0.00 toks/s]"
     ]
    },
    {
     "name": "stderr",
     "output_type": "stream",
     "text": [
      "\u001b[A"
     ]
    },
    {
     "name": "stderr",
     "output_type": "stream",
     "text": [
      "\n"
     ]
    },
    {
     "name": "stderr",
     "output_type": "stream",
     "text": [
      "\r\n",
      "Processed prompts: 100%|██████████████| 1/1 [00:36<00:00, 36.37s/it, est. speed input: 21.78 toks/s, output: 58.81 toks/s]"
     ]
    },
    {
     "name": "stderr",
     "output_type": "stream",
     "text": [
      "\u001b[A"
     ]
    },
    {
     "name": "stderr",
     "output_type": "stream",
     "text": [
      "\r\n",
      "Processed prompts: 100%|██████████████| 1/1 [00:36<00:00, 36.37s/it, est. speed input: 21.78 toks/s, output: 58.81 toks/s]"
     ]
    },
    {
     "name": "stderr",
     "output_type": "stream",
     "text": [
      "\n",
      "\r\n",
      "Generating responses:  53%|████████████████████████████████▉                             | 76/143 [54:04<39:44, 35.60s/it]"
     ]
    },
    {
     "name": "stderr",
     "output_type": "stream",
     "text": [
      "\n"
     ]
    },
    {
     "name": "stderr",
     "output_type": "stream",
     "text": [
      "\r\n",
      "Processed prompts:   0%|                        | 0/1 [00:00<?, ?it/s, est. speed input: 0.00 toks/s, output: 0.00 toks/s]"
     ]
    },
    {
     "name": "stderr",
     "output_type": "stream",
     "text": [
      "\u001b[A"
     ]
    },
    {
     "name": "stderr",
     "output_type": "stream",
     "text": [
      "\n"
     ]
    },
    {
     "name": "stderr",
     "output_type": "stream",
     "text": [
      "\r\n",
      "Processed prompts: 100%|██████████████| 1/1 [00:48<00:00, 48.96s/it, est. speed input: 17.50 toks/s, output: 58.68 toks/s]"
     ]
    },
    {
     "name": "stderr",
     "output_type": "stream",
     "text": [
      "\u001b[A"
     ]
    },
    {
     "name": "stderr",
     "output_type": "stream",
     "text": [
      "\r\n",
      "Processed prompts: 100%|██████████████| 1/1 [00:48<00:00, 48.96s/it, est. speed input: 17.50 toks/s, output: 58.68 toks/s]"
     ]
    },
    {
     "name": "stderr",
     "output_type": "stream",
     "text": [
      "\n",
      "\r\n",
      "Generating responses:  54%|█████████████████████████████████▍                            | 77/143 [54:53<43:34, 39.61s/it]"
     ]
    },
    {
     "name": "stderr",
     "output_type": "stream",
     "text": [
      "\n"
     ]
    },
    {
     "name": "stderr",
     "output_type": "stream",
     "text": [
      "\r\n",
      "Processed prompts:   0%|                        | 0/1 [00:00<?, ?it/s, est. speed input: 0.00 toks/s, output: 0.00 toks/s]"
     ]
    },
    {
     "name": "stderr",
     "output_type": "stream",
     "text": [
      "\u001b[A"
     ]
    },
    {
     "name": "stderr",
     "output_type": "stream",
     "text": [
      "\n"
     ]
    },
    {
     "name": "stderr",
     "output_type": "stream",
     "text": [
      "\r\n",
      "Processed prompts: 100%|██████████████| 1/1 [00:33<00:00, 33.37s/it, est. speed input: 62.08 toks/s, output: 57.86 toks/s]"
     ]
    },
    {
     "name": "stderr",
     "output_type": "stream",
     "text": [
      "\u001b[A"
     ]
    },
    {
     "name": "stderr",
     "output_type": "stream",
     "text": [
      "\r\n",
      "Processed prompts: 100%|██████████████| 1/1 [00:33<00:00, 33.38s/it, est. speed input: 62.08 toks/s, output: 57.86 toks/s]"
     ]
    },
    {
     "name": "stderr",
     "output_type": "stream",
     "text": [
      "\n",
      "\r\n",
      "Generating responses:  55%|█████████████████████████████████▊                            | 78/143 [55:26<40:53, 37.74s/it]"
     ]
    },
    {
     "name": "stderr",
     "output_type": "stream",
     "text": [
      "\n"
     ]
    },
    {
     "name": "stderr",
     "output_type": "stream",
     "text": [
      "\r\n",
      "Processed prompts:   0%|                        | 0/1 [00:00<?, ?it/s, est. speed input: 0.00 toks/s, output: 0.00 toks/s]"
     ]
    },
    {
     "name": "stderr",
     "output_type": "stream",
     "text": [
      "\u001b[A"
     ]
    },
    {
     "name": "stderr",
     "output_type": "stream",
     "text": [
      "\n"
     ]
    },
    {
     "name": "stderr",
     "output_type": "stream",
     "text": [
      "\r\n",
      "Processed prompts: 100%|██████████████| 1/1 [00:31<00:00, 31.99s/it, est. speed input: 21.38 toks/s, output: 58.87 toks/s]"
     ]
    },
    {
     "name": "stderr",
     "output_type": "stream",
     "text": [
      "\u001b[A"
     ]
    },
    {
     "name": "stderr",
     "output_type": "stream",
     "text": [
      "\r\n",
      "Processed prompts: 100%|██████████████| 1/1 [00:31<00:00, 31.99s/it, est. speed input: 21.38 toks/s, output: 58.87 toks/s]"
     ]
    },
    {
     "name": "stderr",
     "output_type": "stream",
     "text": [
      "\n",
      "\r\n",
      "Generating responses:  55%|██████████████████████████████████▎                           | 79/143 [55:58<38:25, 36.02s/it]"
     ]
    },
    {
     "name": "stderr",
     "output_type": "stream",
     "text": [
      "\n"
     ]
    },
    {
     "name": "stderr",
     "output_type": "stream",
     "text": [
      "\r\n",
      "Processed prompts:   0%|                        | 0/1 [00:00<?, ?it/s, est. speed input: 0.00 toks/s, output: 0.00 toks/s]"
     ]
    },
    {
     "name": "stderr",
     "output_type": "stream",
     "text": [
      "\u001b[A"
     ]
    },
    {
     "name": "stderr",
     "output_type": "stream",
     "text": [
      "\n"
     ]
    },
    {
     "name": "stderr",
     "output_type": "stream",
     "text": [
      "\r\n",
      "Processed prompts: 100%|██████████████| 1/1 [00:40<00:00, 40.07s/it, est. speed input: 18.37 toks/s, output: 58.82 toks/s]"
     ]
    },
    {
     "name": "stderr",
     "output_type": "stream",
     "text": [
      "\u001b[A"
     ]
    },
    {
     "name": "stderr",
     "output_type": "stream",
     "text": [
      "\r\n",
      "Processed prompts: 100%|██████████████| 1/1 [00:40<00:00, 40.07s/it, est. speed input: 18.37 toks/s, output: 58.82 toks/s]"
     ]
    },
    {
     "name": "stderr",
     "output_type": "stream",
     "text": [
      "\n",
      "\r\n",
      "Generating responses:  56%|██████████████████████████████████▋                           | 80/143 [56:38<39:06, 37.24s/it]"
     ]
    },
    {
     "name": "stderr",
     "output_type": "stream",
     "text": [
      "\n"
     ]
    },
    {
     "name": "stderr",
     "output_type": "stream",
     "text": [
      "\r\n",
      "Processed prompts:   0%|                        | 0/1 [00:00<?, ?it/s, est. speed input: 0.00 toks/s, output: 0.00 toks/s]"
     ]
    },
    {
     "name": "stderr",
     "output_type": "stream",
     "text": [
      "\u001b[A"
     ]
    },
    {
     "name": "stderr",
     "output_type": "stream",
     "text": [
      "\n"
     ]
    },
    {
     "name": "stderr",
     "output_type": "stream",
     "text": [
      "\r\n",
      "Processed prompts: 100%|██████████████| 1/1 [00:58<00:00, 58.30s/it, est. speed input: 22.43 toks/s, output: 58.21 toks/s]"
     ]
    },
    {
     "name": "stderr",
     "output_type": "stream",
     "text": [
      "\u001b[A"
     ]
    },
    {
     "name": "stderr",
     "output_type": "stream",
     "text": [
      "\r\n",
      "Processed prompts: 100%|██████████████| 1/1 [00:58<00:00, 58.30s/it, est. speed input: 22.43 toks/s, output: 58.21 toks/s]"
     ]
    },
    {
     "name": "stderr",
     "output_type": "stream",
     "text": [
      "\n",
      "\r\n",
      "Generating responses:  57%|███████████████████████████████████                           | 81/143 [57:37<45:00, 43.56s/it]"
     ]
    },
    {
     "name": "stderr",
     "output_type": "stream",
     "text": [
      "\n"
     ]
    },
    {
     "name": "stderr",
     "output_type": "stream",
     "text": [
      "\r\n",
      "Processed prompts:   0%|                        | 0/1 [00:00<?, ?it/s, est. speed input: 0.00 toks/s, output: 0.00 toks/s]"
     ]
    },
    {
     "name": "stderr",
     "output_type": "stream",
     "text": [
      "\u001b[A"
     ]
    },
    {
     "name": "stderr",
     "output_type": "stream",
     "text": [
      "\n"
     ]
    },
    {
     "name": "stderr",
     "output_type": "stream",
     "text": [
      "\r\n",
      "Processed prompts: 100%|███████████████| 1/1 [01:15<00:00, 75.67s/it, est. speed input: 8.95 toks/s, output: 58.40 toks/s]"
     ]
    },
    {
     "name": "stderr",
     "output_type": "stream",
     "text": [
      "\u001b[A"
     ]
    },
    {
     "name": "stderr",
     "output_type": "stream",
     "text": [
      "\r\n",
      "Processed prompts: 100%|███████████████| 1/1 [01:15<00:00, 75.67s/it, est. speed input: 8.95 toks/s, output: 58.40 toks/s]"
     ]
    },
    {
     "name": "stderr",
     "output_type": "stream",
     "text": [
      "\n",
      "\r\n",
      "Generating responses:  57%|███████████████████████████████████▌                          | 82/143 [58:52<54:05, 53.20s/it]"
     ]
    },
    {
     "name": "stderr",
     "output_type": "stream",
     "text": [
      "\n"
     ]
    },
    {
     "name": "stderr",
     "output_type": "stream",
     "text": [
      "\r\n",
      "Processed prompts:   0%|                        | 0/1 [00:00<?, ?it/s, est. speed input: 0.00 toks/s, output: 0.00 toks/s]"
     ]
    },
    {
     "name": "stderr",
     "output_type": "stream",
     "text": [
      "\u001b[A"
     ]
    },
    {
     "name": "stderr",
     "output_type": "stream",
     "text": [
      "\n"
     ]
    },
    {
     "name": "stderr",
     "output_type": "stream",
     "text": [
      "\r\n",
      "Processed prompts: 100%|██████████████| 1/1 [00:19<00:00, 19.51s/it, est. speed input: 54.59 toks/s, output: 58.59 toks/s]"
     ]
    },
    {
     "name": "stderr",
     "output_type": "stream",
     "text": [
      "\u001b[A"
     ]
    },
    {
     "name": "stderr",
     "output_type": "stream",
     "text": [
      "\r\n",
      "Processed prompts: 100%|██████████████| 1/1 [00:19<00:00, 19.51s/it, est. speed input: 54.59 toks/s, output: 58.59 toks/s]"
     ]
    },
    {
     "name": "stderr",
     "output_type": "stream",
     "text": [
      "\n",
      "\r\n",
      "Generating responses:  58%|███████████████████████████████████▉                          | 83/143 [59:12<43:05, 43.10s/it]"
     ]
    },
    {
     "name": "stderr",
     "output_type": "stream",
     "text": [
      "\n"
     ]
    },
    {
     "name": "stderr",
     "output_type": "stream",
     "text": [
      "\r\n",
      "Processed prompts:   0%|                        | 0/1 [00:00<?, ?it/s, est. speed input: 0.00 toks/s, output: 0.00 toks/s]"
     ]
    },
    {
     "name": "stderr",
     "output_type": "stream",
     "text": [
      "\u001b[A"
     ]
    },
    {
     "name": "stderr",
     "output_type": "stream",
     "text": [
      "\n"
     ]
    },
    {
     "name": "stderr",
     "output_type": "stream",
     "text": [
      "\r\n",
      "Processed prompts: 100%|██████████████| 1/1 [00:50<00:00, 50.72s/it, est. speed input: 19.50 toks/s, output: 58.52 toks/s]"
     ]
    },
    {
     "name": "stderr",
     "output_type": "stream",
     "text": [
      "\u001b[A"
     ]
    },
    {
     "name": "stderr",
     "output_type": "stream",
     "text": [
      "\r\n",
      "Processed prompts: 100%|██████████████| 1/1 [00:50<00:00, 50.72s/it, est. speed input: 19.50 toks/s, output: 58.52 toks/s]"
     ]
    },
    {
     "name": "stderr",
     "output_type": "stream",
     "text": [
      "\n",
      "\r\n",
      "Generating responses:  59%|███████████████████████████████████▏                        | 84/143 [1:00:02<44:37, 45.39s/it]"
     ]
    },
    {
     "name": "stderr",
     "output_type": "stream",
     "text": [
      "\n"
     ]
    },
    {
     "name": "stderr",
     "output_type": "stream",
     "text": [
      "\r\n",
      "Processed prompts:   0%|                        | 0/1 [00:00<?, ?it/s, est. speed input: 0.00 toks/s, output: 0.00 toks/s]"
     ]
    },
    {
     "name": "stderr",
     "output_type": "stream",
     "text": [
      "\u001b[A"
     ]
    },
    {
     "name": "stderr",
     "output_type": "stream",
     "text": [
      "\n"
     ]
    },
    {
     "name": "stderr",
     "output_type": "stream",
     "text": [
      "\r\n",
      "Processed prompts: 100%|██████████████| 1/1 [00:19<00:00, 19.99s/it, est. speed input: 41.66 toks/s, output: 58.77 toks/s]"
     ]
    },
    {
     "name": "stderr",
     "output_type": "stream",
     "text": [
      "\u001b[A"
     ]
    },
    {
     "name": "stderr",
     "output_type": "stream",
     "text": [
      "\r\n",
      "Processed prompts: 100%|██████████████| 1/1 [00:19<00:00, 20.00s/it, est. speed input: 41.66 toks/s, output: 58.77 toks/s]"
     ]
    },
    {
     "name": "stderr",
     "output_type": "stream",
     "text": [
      "\n",
      "\r\n",
      "Generating responses:  59%|███████████████████████████████████▋                        | 85/143 [1:00:22<36:30, 37.77s/it]"
     ]
    },
    {
     "name": "stderr",
     "output_type": "stream",
     "text": [
      "\n"
     ]
    },
    {
     "name": "stderr",
     "output_type": "stream",
     "text": [
      "\r\n",
      "Processed prompts:   0%|                        | 0/1 [00:00<?, ?it/s, est. speed input: 0.00 toks/s, output: 0.00 toks/s]"
     ]
    },
    {
     "name": "stderr",
     "output_type": "stream",
     "text": [
      "\u001b[A"
     ]
    },
    {
     "name": "stderr",
     "output_type": "stream",
     "text": [
      "\n"
     ]
    },
    {
     "name": "stderr",
     "output_type": "stream",
     "text": [
      "\r\n",
      "Processed prompts: 100%|██████████████| 1/1 [00:38<00:00, 38.07s/it, est. speed input: 40.98 toks/s, output: 58.26 toks/s]"
     ]
    },
    {
     "name": "stderr",
     "output_type": "stream",
     "text": [
      "\u001b[A"
     ]
    },
    {
     "name": "stderr",
     "output_type": "stream",
     "text": [
      "\r\n",
      "Processed prompts: 100%|██████████████| 1/1 [00:38<00:00, 38.07s/it, est. speed input: 40.98 toks/s, output: 58.26 toks/s]"
     ]
    },
    {
     "name": "stderr",
     "output_type": "stream",
     "text": [
      "\n",
      "\r\n",
      "Generating responses:  60%|████████████████████████████████████                        | 86/143 [1:01:01<35:58, 37.87s/it]"
     ]
    },
    {
     "name": "stderr",
     "output_type": "stream",
     "text": [
      "\n"
     ]
    },
    {
     "name": "stderr",
     "output_type": "stream",
     "text": [
      "\r\n",
      "Processed prompts:   0%|                        | 0/1 [00:00<?, ?it/s, est. speed input: 0.00 toks/s, output: 0.00 toks/s]"
     ]
    },
    {
     "name": "stderr",
     "output_type": "stream",
     "text": [
      "\u001b[A"
     ]
    },
    {
     "name": "stderr",
     "output_type": "stream",
     "text": [
      "\n"
     ]
    },
    {
     "name": "stderr",
     "output_type": "stream",
     "text": [
      "\r\n",
      "Processed prompts: 100%|██████████████| 1/1 [00:39<00:00, 39.20s/it, est. speed input: 19.13 toks/s, output: 58.80 toks/s]"
     ]
    },
    {
     "name": "stderr",
     "output_type": "stream",
     "text": [
      "\u001b[A"
     ]
    },
    {
     "name": "stderr",
     "output_type": "stream",
     "text": [
      "\r\n",
      "Processed prompts: 100%|██████████████| 1/1 [00:39<00:00, 39.21s/it, est. speed input: 19.13 toks/s, output: 58.80 toks/s]"
     ]
    },
    {
     "name": "stderr",
     "output_type": "stream",
     "text": [
      "\n",
      "\r\n",
      "Generating responses:  61%|████████████████████████████████████▌                       | 87/143 [1:01:40<35:43, 38.27s/it]"
     ]
    },
    {
     "name": "stderr",
     "output_type": "stream",
     "text": [
      "\n"
     ]
    },
    {
     "name": "stderr",
     "output_type": "stream",
     "text": [
      "\r\n",
      "Processed prompts:   0%|                        | 0/1 [00:00<?, ?it/s, est. speed input: 0.00 toks/s, output: 0.00 toks/s]"
     ]
    },
    {
     "name": "stderr",
     "output_type": "stream",
     "text": [
      "\u001b[A"
     ]
    },
    {
     "name": "stderr",
     "output_type": "stream",
     "text": [
      "\n"
     ]
    },
    {
     "name": "stderr",
     "output_type": "stream",
     "text": [
      "\r\n",
      "Processed prompts: 100%|██████████████| 1/1 [00:52<00:00, 52.10s/it, est. speed input: 19.98 toks/s, output: 58.52 toks/s]"
     ]
    },
    {
     "name": "stderr",
     "output_type": "stream",
     "text": [
      "\u001b[A"
     ]
    },
    {
     "name": "stderr",
     "output_type": "stream",
     "text": [
      "\r\n",
      "Processed prompts: 100%|██████████████| 1/1 [00:52<00:00, 52.10s/it, est. speed input: 19.98 toks/s, output: 58.52 toks/s]"
     ]
    },
    {
     "name": "stderr",
     "output_type": "stream",
     "text": [
      "\n",
      "\r\n",
      "Generating responses:  62%|████████████████████████████████████▉                       | 88/143 [1:02:32<38:53, 42.42s/it]"
     ]
    },
    {
     "name": "stderr",
     "output_type": "stream",
     "text": [
      "\n"
     ]
    },
    {
     "name": "stderr",
     "output_type": "stream",
     "text": [
      "\r\n",
      "Processed prompts:   0%|                        | 0/1 [00:00<?, ?it/s, est. speed input: 0.00 toks/s, output: 0.00 toks/s]"
     ]
    },
    {
     "name": "stderr",
     "output_type": "stream",
     "text": [
      "\u001b[A"
     ]
    },
    {
     "name": "stderr",
     "output_type": "stream",
     "text": [
      "\n"
     ]
    },
    {
     "name": "stderr",
     "output_type": "stream",
     "text": [
      "\r\n",
      "Processed prompts: 100%|██████████████| 1/1 [00:39<00:00, 39.01s/it, est. speed input: 43.32 toks/s, output: 58.16 toks/s]"
     ]
    },
    {
     "name": "stderr",
     "output_type": "stream",
     "text": [
      "\u001b[A"
     ]
    },
    {
     "name": "stderr",
     "output_type": "stream",
     "text": [
      "\r\n",
      "Processed prompts: 100%|██████████████| 1/1 [00:39<00:00, 39.01s/it, est. speed input: 43.32 toks/s, output: 58.16 toks/s]"
     ]
    },
    {
     "name": "stderr",
     "output_type": "stream",
     "text": [
      "\n",
      "\r\n",
      "Generating responses:  62%|█████████████████████████████████████▎                      | 89/143 [1:03:11<37:15, 41.41s/it]"
     ]
    },
    {
     "name": "stderr",
     "output_type": "stream",
     "text": [
      "\n"
     ]
    },
    {
     "name": "stderr",
     "output_type": "stream",
     "text": [
      "\r\n",
      "Processed prompts:   0%|                        | 0/1 [00:00<?, ?it/s, est. speed input: 0.00 toks/s, output: 0.00 toks/s]"
     ]
    },
    {
     "name": "stderr",
     "output_type": "stream",
     "text": [
      "\u001b[A"
     ]
    },
    {
     "name": "stderr",
     "output_type": "stream",
     "text": [
      "\n"
     ]
    },
    {
     "name": "stderr",
     "output_type": "stream",
     "text": [
      "\r\n",
      "Processed prompts: 100%|██████████████| 1/1 [00:47<00:00, 47.92s/it, est. speed input: 18.24 toks/s, output: 58.68 toks/s]"
     ]
    },
    {
     "name": "stderr",
     "output_type": "stream",
     "text": [
      "\u001b[A"
     ]
    },
    {
     "name": "stderr",
     "output_type": "stream",
     "text": [
      "\r\n",
      "Processed prompts: 100%|██████████████| 1/1 [00:47<00:00, 47.93s/it, est. speed input: 18.24 toks/s, output: 58.68 toks/s]"
     ]
    },
    {
     "name": "stderr",
     "output_type": "stream",
     "text": [
      "\n",
      "\r\n",
      "Generating responses:  63%|█████████████████████████████████████▊                      | 90/143 [1:03:59<38:18, 43.36s/it]"
     ]
    },
    {
     "name": "stderr",
     "output_type": "stream",
     "text": [
      "\n"
     ]
    },
    {
     "name": "stderr",
     "output_type": "stream",
     "text": [
      "\r\n",
      "Processed prompts:   0%|                        | 0/1 [00:00<?, ?it/s, est. speed input: 0.00 toks/s, output: 0.00 toks/s]"
     ]
    },
    {
     "name": "stderr",
     "output_type": "stream",
     "text": [
      "\u001b[A"
     ]
    },
    {
     "name": "stderr",
     "output_type": "stream",
     "text": [
      "\n"
     ]
    },
    {
     "name": "stderr",
     "output_type": "stream",
     "text": [
      "\r\n",
      "Processed prompts: 100%|██████████████| 1/1 [01:05<00:00, 65.31s/it, est. speed input: 23.30 toks/s, output: 57.93 toks/s]"
     ]
    },
    {
     "name": "stderr",
     "output_type": "stream",
     "text": [
      "\u001b[A"
     ]
    },
    {
     "name": "stderr",
     "output_type": "stream",
     "text": [
      "\r\n",
      "Processed prompts: 100%|██████████████| 1/1 [01:05<00:00, 65.31s/it, est. speed input: 23.30 toks/s, output: 57.93 toks/s]"
     ]
    },
    {
     "name": "stderr",
     "output_type": "stream",
     "text": [
      "\n",
      "\r\n",
      "Generating responses:  64%|██████████████████████████████████████▏                     | 91/143 [1:05:04<43:17, 49.95s/it]"
     ]
    },
    {
     "name": "stderr",
     "output_type": "stream",
     "text": [
      "\n"
     ]
    },
    {
     "name": "stderr",
     "output_type": "stream",
     "text": [
      "\r\n",
      "Processed prompts:   0%|                        | 0/1 [00:00<?, ?it/s, est. speed input: 0.00 toks/s, output: 0.00 toks/s]"
     ]
    },
    {
     "name": "stderr",
     "output_type": "stream",
     "text": [
      "\u001b[A"
     ]
    },
    {
     "name": "stderr",
     "output_type": "stream",
     "text": [
      "\n"
     ]
    },
    {
     "name": "stderr",
     "output_type": "stream",
     "text": [
      "\r\n",
      "Processed prompts: 100%|██████████████| 1/1 [00:40<00:00, 40.44s/it, est. speed input: 33.65 toks/s, output: 58.38 toks/s]"
     ]
    },
    {
     "name": "stderr",
     "output_type": "stream",
     "text": [
      "\u001b[A"
     ]
    },
    {
     "name": "stderr",
     "output_type": "stream",
     "text": [
      "\r\n",
      "Processed prompts: 100%|██████████████| 1/1 [00:40<00:00, 40.44s/it, est. speed input: 33.65 toks/s, output: 58.38 toks/s]"
     ]
    },
    {
     "name": "stderr",
     "output_type": "stream",
     "text": [
      "\n",
      "\r\n",
      "Generating responses:  64%|██████████████████████████████████████▌                     | 92/143 [1:05:45<40:02, 47.10s/it]"
     ]
    },
    {
     "name": "stderr",
     "output_type": "stream",
     "text": [
      "\n"
     ]
    },
    {
     "name": "stderr",
     "output_type": "stream",
     "text": [
      "\r\n",
      "Processed prompts:   0%|                        | 0/1 [00:00<?, ?it/s, est. speed input: 0.00 toks/s, output: 0.00 toks/s]"
     ]
    },
    {
     "name": "stderr",
     "output_type": "stream",
     "text": [
      "\u001b[A"
     ]
    },
    {
     "name": "stderr",
     "output_type": "stream",
     "text": [
      "\n"
     ]
    },
    {
     "name": "stderr",
     "output_type": "stream",
     "text": [
      "\r\n",
      "Processed prompts: 100%|██████████████| 1/1 [06:33<00:00, 393.41s/it, est. speed input: 6.52 toks/s, output: 20.82 toks/s]"
     ]
    },
    {
     "name": "stderr",
     "output_type": "stream",
     "text": [
      "\u001b[A"
     ]
    },
    {
     "name": "stderr",
     "output_type": "stream",
     "text": [
      "\r\n",
      "Processed prompts: 100%|██████████████| 1/1 [06:33<00:00, 393.41s/it, est. speed input: 6.52 toks/s, output: 20.82 toks/s]"
     ]
    },
    {
     "name": "stderr",
     "output_type": "stream",
     "text": [
      "\n",
      "\r\n",
      "Generating responses:  65%|█████████████████████████████████████                    | 93/143 [1:12:18<2:05:50, 151.00s/it]"
     ]
    },
    {
     "name": "stderr",
     "output_type": "stream",
     "text": [
      "\n"
     ]
    },
    {
     "name": "stderr",
     "output_type": "stream",
     "text": [
      "\r\n",
      "Processed prompts:   0%|                        | 0/1 [00:00<?, ?it/s, est. speed input: 0.00 toks/s, output: 0.00 toks/s]"
     ]
    },
    {
     "name": "stderr",
     "output_type": "stream",
     "text": [
      "\u001b[A"
     ]
    },
    {
     "name": "stderr",
     "output_type": "stream",
     "text": [
      "\n"
     ]
    },
    {
     "name": "stderr",
     "output_type": "stream",
     "text": [
      "\r\n",
      "Processed prompts: 100%|██████████████| 1/1 [00:28<00:00, 28.16s/it, est. speed input: 54.87 toks/s, output: 58.21 toks/s]"
     ]
    },
    {
     "name": "stderr",
     "output_type": "stream",
     "text": [
      "\u001b[A"
     ]
    },
    {
     "name": "stderr",
     "output_type": "stream",
     "text": [
      "\r\n",
      "Processed prompts: 100%|██████████████| 1/1 [00:28<00:00, 28.16s/it, est. speed input: 54.87 toks/s, output: 58.21 toks/s]"
     ]
    },
    {
     "name": "stderr",
     "output_type": "stream",
     "text": [
      "\n",
      "\r\n",
      "Generating responses:  66%|█████████████████████████████████████▍                   | 94/143 [1:12:46<1:33:13, 114.15s/it]"
     ]
    },
    {
     "name": "stderr",
     "output_type": "stream",
     "text": [
      "\n"
     ]
    },
    {
     "name": "stderr",
     "output_type": "stream",
     "text": [
      "\r\n",
      "Processed prompts:   0%|                        | 0/1 [00:00<?, ?it/s, est. speed input: 0.00 toks/s, output: 0.00 toks/s]"
     ]
    },
    {
     "name": "stderr",
     "output_type": "stream",
     "text": [
      "\u001b[A"
     ]
    },
    {
     "name": "stderr",
     "output_type": "stream",
     "text": [
      "\n"
     ]
    },
    {
     "name": "stderr",
     "output_type": "stream",
     "text": [
      "\r\n",
      "Processed prompts: 100%|██████████████| 1/1 [00:34<00:00, 34.01s/it, est. speed input: 38.69 toks/s, output: 58.48 toks/s]"
     ]
    },
    {
     "name": "stderr",
     "output_type": "stream",
     "text": [
      "\u001b[A"
     ]
    },
    {
     "name": "stderr",
     "output_type": "stream",
     "text": [
      "\r\n",
      "Processed prompts: 100%|██████████████| 1/1 [00:34<00:00, 34.02s/it, est. speed input: 38.69 toks/s, output: 58.48 toks/s]"
     ]
    },
    {
     "name": "stderr",
     "output_type": "stream",
     "text": [
      "\n",
      "\r\n",
      "Generating responses:  66%|██████████████████████████████████████▌                   | 95/143 [1:13:20<1:12:05, 90.12s/it]"
     ]
    },
    {
     "name": "stderr",
     "output_type": "stream",
     "text": [
      "\n"
     ]
    },
    {
     "name": "stderr",
     "output_type": "stream",
     "text": [
      "\r\n",
      "Processed prompts:   0%|                        | 0/1 [00:00<?, ?it/s, est. speed input: 0.00 toks/s, output: 0.00 toks/s]"
     ]
    },
    {
     "name": "stderr",
     "output_type": "stream",
     "text": [
      "\u001b[A"
     ]
    },
    {
     "name": "stderr",
     "output_type": "stream",
     "text": [
      "\n"
     ]
    },
    {
     "name": "stderr",
     "output_type": "stream",
     "text": [
      "\r\n",
      "Processed prompts: 100%|██████████████| 1/1 [00:34<00:00, 34.44s/it, est. speed input: 22.24 toks/s, output: 58.83 toks/s]"
     ]
    },
    {
     "name": "stderr",
     "output_type": "stream",
     "text": [
      "\u001b[A"
     ]
    },
    {
     "name": "stderr",
     "output_type": "stream",
     "text": [
      "\r\n",
      "Processed prompts: 100%|██████████████| 1/1 [00:34<00:00, 34.44s/it, est. speed input: 22.24 toks/s, output: 58.83 toks/s]"
     ]
    },
    {
     "name": "stderr",
     "output_type": "stream",
     "text": [
      "\n",
      "\r\n",
      "Generating responses:  67%|████████████████████████████████████████▎                   | 96/143 [1:13:55<57:30, 73.42s/it]"
     ]
    },
    {
     "name": "stderr",
     "output_type": "stream",
     "text": [
      "\n"
     ]
    },
    {
     "name": "stderr",
     "output_type": "stream",
     "text": [
      "\r\n",
      "Processed prompts:   0%|                        | 0/1 [00:00<?, ?it/s, est. speed input: 0.00 toks/s, output: 0.00 toks/s]"
     ]
    },
    {
     "name": "stderr",
     "output_type": "stream",
     "text": [
      "\u001b[A"
     ]
    },
    {
     "name": "stderr",
     "output_type": "stream",
     "text": [
      "\n"
     ]
    },
    {
     "name": "stderr",
     "output_type": "stream",
     "text": [
      "\r\n",
      "Processed prompts: 100%|██████████████| 1/1 [00:28<00:00, 28.26s/it, est. speed input: 26.33 toks/s, output: 58.89 toks/s]"
     ]
    },
    {
     "name": "stderr",
     "output_type": "stream",
     "text": [
      "\u001b[A"
     ]
    },
    {
     "name": "stderr",
     "output_type": "stream",
     "text": [
      "\r\n",
      "Processed prompts: 100%|██████████████| 1/1 [00:28<00:00, 28.26s/it, est. speed input: 26.33 toks/s, output: 58.89 toks/s]"
     ]
    },
    {
     "name": "stderr",
     "output_type": "stream",
     "text": [
      "\n",
      "\r\n",
      "Generating responses:  68%|████████████████████████████████████████▋                   | 97/143 [1:14:23<45:54, 59.87s/it]"
     ]
    },
    {
     "name": "stderr",
     "output_type": "stream",
     "text": [
      "\n"
     ]
    },
    {
     "name": "stderr",
     "output_type": "stream",
     "text": [
      "\r\n",
      "Processed prompts:   0%|                        | 0/1 [00:00<?, ?it/s, est. speed input: 0.00 toks/s, output: 0.00 toks/s]"
     ]
    },
    {
     "name": "stderr",
     "output_type": "stream",
     "text": [
      "\u001b[A"
     ]
    },
    {
     "name": "stderr",
     "output_type": "stream",
     "text": [
      "\n"
     ]
    },
    {
     "name": "stderr",
     "output_type": "stream",
     "text": [
      "\r\n",
      "Processed prompts: 100%|██████████████| 1/1 [00:24<00:00, 24.45s/it, est. speed input: 50.34 toks/s, output: 58.56 toks/s]"
     ]
    },
    {
     "name": "stderr",
     "output_type": "stream",
     "text": [
      "\u001b[A"
     ]
    },
    {
     "name": "stderr",
     "output_type": "stream",
     "text": [
      "\r\n",
      "Processed prompts: 100%|██████████████| 1/1 [00:24<00:00, 24.46s/it, est. speed input: 50.34 toks/s, output: 58.56 toks/s]"
     ]
    },
    {
     "name": "stderr",
     "output_type": "stream",
     "text": [
      "\n",
      "\r\n",
      "Generating responses:  69%|█████████████████████████████████████████                   | 98/143 [1:14:47<36:56, 49.25s/it]"
     ]
    },
    {
     "name": "stderr",
     "output_type": "stream",
     "text": [
      "\n"
     ]
    },
    {
     "name": "stderr",
     "output_type": "stream",
     "text": [
      "\r\n",
      "Processed prompts:   0%|                        | 0/1 [00:00<?, ?it/s, est. speed input: 0.00 toks/s, output: 0.00 toks/s]"
     ]
    },
    {
     "name": "stderr",
     "output_type": "stream",
     "text": [
      "\u001b[A"
     ]
    },
    {
     "name": "stderr",
     "output_type": "stream",
     "text": [
      "\n"
     ]
    },
    {
     "name": "stderr",
     "output_type": "stream",
     "text": [
      "\r\n",
      "Processed prompts: 100%|██████████████| 1/1 [00:37<00:00, 37.26s/it, est. speed input: 31.91 toks/s, output: 58.53 toks/s]"
     ]
    },
    {
     "name": "stderr",
     "output_type": "stream",
     "text": [
      "\u001b[A"
     ]
    },
    {
     "name": "stderr",
     "output_type": "stream",
     "text": [
      "\r\n",
      "Processed prompts: 100%|██████████████| 1/1 [00:37<00:00, 37.26s/it, est. speed input: 31.91 toks/s, output: 58.53 toks/s]"
     ]
    },
    {
     "name": "stderr",
     "output_type": "stream",
     "text": [
      "\n",
      "\r\n",
      "Generating responses:  69%|█████████████████████████████████████████▌                  | 99/143 [1:15:25<33:28, 45.66s/it]"
     ]
    },
    {
     "name": "stderr",
     "output_type": "stream",
     "text": [
      "\n"
     ]
    },
    {
     "name": "stderr",
     "output_type": "stream",
     "text": [
      "\r\n",
      "Processed prompts:   0%|                        | 0/1 [00:00<?, ?it/s, est. speed input: 0.00 toks/s, output: 0.00 toks/s]"
     ]
    },
    {
     "name": "stderr",
     "output_type": "stream",
     "text": [
      "\u001b[A"
     ]
    },
    {
     "name": "stderr",
     "output_type": "stream",
     "text": [
      "\n"
     ]
    },
    {
     "name": "stderr",
     "output_type": "stream",
     "text": [
      "\r\n",
      "Processed prompts: 100%|██████████████| 1/1 [00:50<00:00, 50.96s/it, est. speed input: 13.30 toks/s, output: 58.77 toks/s]"
     ]
    },
    {
     "name": "stderr",
     "output_type": "stream",
     "text": [
      "\u001b[A"
     ]
    },
    {
     "name": "stderr",
     "output_type": "stream",
     "text": [
      "\r\n",
      "Processed prompts: 100%|██████████████| 1/1 [00:50<00:00, 50.96s/it, est. speed input: 13.30 toks/s, output: 58.77 toks/s]"
     ]
    },
    {
     "name": "stderr",
     "output_type": "stream",
     "text": [
      "\n",
      "\r\n",
      "Generating responses:  70%|█████████████████████████████████████████▎                 | 100/143 [1:16:16<33:51, 47.25s/it]"
     ]
    },
    {
     "name": "stderr",
     "output_type": "stream",
     "text": [
      "\n"
     ]
    },
    {
     "name": "stderr",
     "output_type": "stream",
     "text": [
      "\r\n",
      "Processed prompts:   0%|                        | 0/1 [00:00<?, ?it/s, est. speed input: 0.00 toks/s, output: 0.00 toks/s]"
     ]
    },
    {
     "name": "stderr",
     "output_type": "stream",
     "text": [
      "\u001b[A"
     ]
    },
    {
     "name": "stderr",
     "output_type": "stream",
     "text": [
      "\n"
     ]
    },
    {
     "name": "stderr",
     "output_type": "stream",
     "text": [
      "\r\n",
      "Processed prompts: 100%|██████████████| 1/1 [00:31<00:00, 31.77s/it, est. speed input: 28.27 toks/s, output: 58.80 toks/s]"
     ]
    },
    {
     "name": "stderr",
     "output_type": "stream",
     "text": [
      "\u001b[A"
     ]
    },
    {
     "name": "stderr",
     "output_type": "stream",
     "text": [
      "\r\n",
      "Processed prompts: 100%|██████████████| 1/1 [00:31<00:00, 31.77s/it, est. speed input: 28.27 toks/s, output: 58.80 toks/s]"
     ]
    },
    {
     "name": "stderr",
     "output_type": "stream",
     "text": [
      "\n",
      "\r\n",
      "Generating responses:  71%|█████████████████████████████████████████▋                 | 101/143 [1:16:47<29:49, 42.61s/it]"
     ]
    },
    {
     "name": "stderr",
     "output_type": "stream",
     "text": [
      "\n"
     ]
    },
    {
     "name": "stderr",
     "output_type": "stream",
     "text": [
      "\r\n",
      "Processed prompts:   0%|                        | 0/1 [00:00<?, ?it/s, est. speed input: 0.00 toks/s, output: 0.00 toks/s]"
     ]
    },
    {
     "name": "stderr",
     "output_type": "stream",
     "text": [
      "\u001b[A"
     ]
    },
    {
     "name": "stderr",
     "output_type": "stream",
     "text": [
      "\n"
     ]
    },
    {
     "name": "stderr",
     "output_type": "stream",
     "text": [
      "\r\n",
      "Processed prompts: 100%|██████████████| 1/1 [00:59<00:00, 59.56s/it, est. speed input: 13.01 toks/s, output: 58.58 toks/s]"
     ]
    },
    {
     "name": "stderr",
     "output_type": "stream",
     "text": [
      "\u001b[A"
     ]
    },
    {
     "name": "stderr",
     "output_type": "stream",
     "text": [
      "\r\n",
      "Processed prompts: 100%|██████████████| 1/1 [00:59<00:00, 59.57s/it, est. speed input: 13.01 toks/s, output: 58.58 toks/s]"
     ]
    },
    {
     "name": "stderr",
     "output_type": "stream",
     "text": [
      "\n",
      "\r\n",
      "Generating responses:  71%|██████████████████████████████████████████                 | 102/143 [1:17:47<32:35, 47.70s/it]"
     ]
    },
    {
     "name": "stderr",
     "output_type": "stream",
     "text": [
      "\n"
     ]
    },
    {
     "name": "stderr",
     "output_type": "stream",
     "text": [
      "\r\n",
      "Processed prompts:   0%|                        | 0/1 [00:00<?, ?it/s, est. speed input: 0.00 toks/s, output: 0.00 toks/s]"
     ]
    },
    {
     "name": "stderr",
     "output_type": "stream",
     "text": [
      "\u001b[A"
     ]
    },
    {
     "name": "stderr",
     "output_type": "stream",
     "text": [
      "\n"
     ]
    },
    {
     "name": "stderr",
     "output_type": "stream",
     "text": [
      "\r\n",
      "Processed prompts: 100%|██████████████| 1/1 [00:44<00:00, 44.12s/it, est. speed input: 25.20 toks/s, output: 58.55 toks/s]"
     ]
    },
    {
     "name": "stderr",
     "output_type": "stream",
     "text": [
      "\u001b[A"
     ]
    },
    {
     "name": "stderr",
     "output_type": "stream",
     "text": [
      "\r\n",
      "Processed prompts: 100%|██████████████| 1/1 [00:44<00:00, 44.12s/it, est. speed input: 25.20 toks/s, output: 58.55 toks/s]"
     ]
    },
    {
     "name": "stderr",
     "output_type": "stream",
     "text": [
      "\n",
      "\r\n",
      "Generating responses:  72%|██████████████████████████████████████████▍                | 103/143 [1:18:31<31:05, 46.63s/it]"
     ]
    },
    {
     "name": "stderr",
     "output_type": "stream",
     "text": [
      "\n"
     ]
    },
    {
     "name": "stderr",
     "output_type": "stream",
     "text": [
      "\r\n",
      "Processed prompts:   0%|                        | 0/1 [00:00<?, ?it/s, est. speed input: 0.00 toks/s, output: 0.00 toks/s]"
     ]
    },
    {
     "name": "stderr",
     "output_type": "stream",
     "text": [
      "\u001b[A"
     ]
    },
    {
     "name": "stderr",
     "output_type": "stream",
     "text": [
      "\n"
     ]
    },
    {
     "name": "stderr",
     "output_type": "stream",
     "text": [
      "\r\n",
      "Processed prompts: 100%|██████████████| 1/1 [00:53<00:00, 53.22s/it, est. speed input: 57.89 toks/s, output: 56.45 toks/s]"
     ]
    },
    {
     "name": "stderr",
     "output_type": "stream",
     "text": [
      "\u001b[A"
     ]
    },
    {
     "name": "stderr",
     "output_type": "stream",
     "text": [
      "\r\n",
      "Processed prompts: 100%|██████████████| 1/1 [00:53<00:00, 53.22s/it, est. speed input: 57.89 toks/s, output: 56.45 toks/s]"
     ]
    },
    {
     "name": "stderr",
     "output_type": "stream",
     "text": [
      "\n",
      "\r\n",
      "Generating responses:  73%|██████████████████████████████████████████▉                | 104/143 [1:19:24<31:35, 48.61s/it]"
     ]
    },
    {
     "name": "stderr",
     "output_type": "stream",
     "text": [
      "\n"
     ]
    },
    {
     "name": "stderr",
     "output_type": "stream",
     "text": [
      "\r\n",
      "Processed prompts:   0%|                        | 0/1 [00:00<?, ?it/s, est. speed input: 0.00 toks/s, output: 0.00 toks/s]"
     ]
    },
    {
     "name": "stderr",
     "output_type": "stream",
     "text": [
      "\u001b[A"
     ]
    },
    {
     "name": "stderr",
     "output_type": "stream",
     "text": [
      "\n"
     ]
    },
    {
     "name": "stderr",
     "output_type": "stream",
     "text": [
      "\r\n",
      "Processed prompts: 100%|██████████████| 1/1 [00:31<00:00, 31.31s/it, est. speed input: 24.60 toks/s, output: 58.81 toks/s]"
     ]
    },
    {
     "name": "stderr",
     "output_type": "stream",
     "text": [
      "\u001b[A"
     ]
    },
    {
     "name": "stderr",
     "output_type": "stream",
     "text": [
      "\r\n",
      "Processed prompts: 100%|██████████████| 1/1 [00:31<00:00, 31.31s/it, est. speed input: 24.60 toks/s, output: 58.81 toks/s]"
     ]
    },
    {
     "name": "stderr",
     "output_type": "stream",
     "text": [
      "\n",
      "\r\n",
      "Generating responses:  73%|███████████████████████████████████████████▎               | 105/143 [1:19:56<27:30, 43.43s/it]"
     ]
    },
    {
     "name": "stderr",
     "output_type": "stream",
     "text": [
      "\n"
     ]
    },
    {
     "name": "stderr",
     "output_type": "stream",
     "text": [
      "\r\n",
      "Processed prompts:   0%|                        | 0/1 [00:00<?, ?it/s, est. speed input: 0.00 toks/s, output: 0.00 toks/s]"
     ]
    },
    {
     "name": "stderr",
     "output_type": "stream",
     "text": [
      "\u001b[A"
     ]
    },
    {
     "name": "stderr",
     "output_type": "stream",
     "text": [
      "\n"
     ]
    },
    {
     "name": "stderr",
     "output_type": "stream",
     "text": [
      "\r\n",
      "Processed prompts: 100%|██████████████| 1/1 [00:58<00:00, 58.47s/it, est. speed input: 18.42 toks/s, output: 58.39 toks/s]"
     ]
    },
    {
     "name": "stderr",
     "output_type": "stream",
     "text": [
      "\u001b[A"
     ]
    },
    {
     "name": "stderr",
     "output_type": "stream",
     "text": [
      "\r\n",
      "Processed prompts: 100%|██████████████| 1/1 [00:58<00:00, 58.47s/it, est. speed input: 18.42 toks/s, output: 58.39 toks/s]"
     ]
    },
    {
     "name": "stderr",
     "output_type": "stream",
     "text": [
      "\n",
      "\r\n",
      "Generating responses:  74%|███████████████████████████████████████████▋               | 106/143 [1:20:54<29:33, 47.94s/it]"
     ]
    },
    {
     "name": "stderr",
     "output_type": "stream",
     "text": [
      "\n"
     ]
    },
    {
     "name": "stderr",
     "output_type": "stream",
     "text": [
      "\r\n",
      "Processed prompts:   0%|                        | 0/1 [00:00<?, ?it/s, est. speed input: 0.00 toks/s, output: 0.00 toks/s]"
     ]
    },
    {
     "name": "stderr",
     "output_type": "stream",
     "text": [
      "\u001b[A"
     ]
    },
    {
     "name": "stderr",
     "output_type": "stream",
     "text": [
      "\n"
     ]
    },
    {
     "name": "stderr",
     "output_type": "stream",
     "text": [
      "\r\n",
      "Processed prompts: 100%|██████████████| 1/1 [00:43<00:00, 43.99s/it, est. speed input: 31.41 toks/s, output: 58.31 toks/s]"
     ]
    },
    {
     "name": "stderr",
     "output_type": "stream",
     "text": [
      "\u001b[A"
     ]
    },
    {
     "name": "stderr",
     "output_type": "stream",
     "text": [
      "\r\n",
      "Processed prompts: 100%|██████████████| 1/1 [00:43<00:00, 44.00s/it, est. speed input: 31.41 toks/s, output: 58.31 toks/s]"
     ]
    },
    {
     "name": "stderr",
     "output_type": "stream",
     "text": [
      "\n",
      "\r\n",
      "Generating responses:  75%|████████████████████████████████████████████▏              | 107/143 [1:21:38<28:03, 46.76s/it]"
     ]
    },
    {
     "name": "stderr",
     "output_type": "stream",
     "text": [
      "\n"
     ]
    },
    {
     "name": "stderr",
     "output_type": "stream",
     "text": [
      "\r\n",
      "Processed prompts:   0%|                        | 0/1 [00:00<?, ?it/s, est. speed input: 0.00 toks/s, output: 0.00 toks/s]"
     ]
    },
    {
     "name": "stderr",
     "output_type": "stream",
     "text": [
      "\u001b[A"
     ]
    },
    {
     "name": "stderr",
     "output_type": "stream",
     "text": [
      "\n"
     ]
    },
    {
     "name": "stderr",
     "output_type": "stream",
     "text": [
      "\r\n",
      "Processed prompts: 100%|██████████████| 1/1 [00:38<00:00, 38.05s/it, est. speed input: 18.13 toks/s, output: 58.87 toks/s]"
     ]
    },
    {
     "name": "stderr",
     "output_type": "stream",
     "text": [
      "\u001b[A"
     ]
    },
    {
     "name": "stderr",
     "output_type": "stream",
     "text": [
      "\r\n",
      "Processed prompts: 100%|██████████████| 1/1 [00:38<00:00, 38.05s/it, est. speed input: 18.13 toks/s, output: 58.87 toks/s]"
     ]
    },
    {
     "name": "stderr",
     "output_type": "stream",
     "text": [
      "\n",
      "\r\n",
      "Generating responses:  76%|████████████████████████████████████████████▌              | 108/143 [1:22:16<25:45, 44.15s/it]"
     ]
    },
    {
     "name": "stderr",
     "output_type": "stream",
     "text": [
      "\n"
     ]
    },
    {
     "name": "stderr",
     "output_type": "stream",
     "text": [
      "\r\n",
      "Processed prompts:   0%|                        | 0/1 [00:00<?, ?it/s, est. speed input: 0.00 toks/s, output: 0.00 toks/s]"
     ]
    },
    {
     "name": "stderr",
     "output_type": "stream",
     "text": [
      "\u001b[A"
     ]
    },
    {
     "name": "stderr",
     "output_type": "stream",
     "text": [
      "\n"
     ]
    },
    {
     "name": "stderr",
     "output_type": "stream",
     "text": [
      "\r\n",
      "Processed prompts: 100%|██████████████| 1/1 [00:21<00:00, 21.05s/it, est. speed input: 29.31 toks/s, output: 58.91 toks/s]"
     ]
    },
    {
     "name": "stderr",
     "output_type": "stream",
     "text": [
      "\u001b[A"
     ]
    },
    {
     "name": "stderr",
     "output_type": "stream",
     "text": [
      "\r\n",
      "Processed prompts: 100%|██████████████| 1/1 [00:21<00:00, 21.05s/it, est. speed input: 29.31 toks/s, output: 58.91 toks/s]"
     ]
    },
    {
     "name": "stderr",
     "output_type": "stream",
     "text": [
      "\n",
      "\r\n",
      "Generating responses:  76%|████████████████████████████████████████████▉              | 109/143 [1:22:37<21:05, 37.23s/it]"
     ]
    },
    {
     "name": "stderr",
     "output_type": "stream",
     "text": [
      "\n"
     ]
    },
    {
     "name": "stderr",
     "output_type": "stream",
     "text": [
      "\r\n",
      "Processed prompts:   0%|                        | 0/1 [00:00<?, ?it/s, est. speed input: 0.00 toks/s, output: 0.00 toks/s]"
     ]
    },
    {
     "name": "stderr",
     "output_type": "stream",
     "text": [
      "\u001b[A"
     ]
    },
    {
     "name": "stderr",
     "output_type": "stream",
     "text": [
      "\n"
     ]
    },
    {
     "name": "stderr",
     "output_type": "stream",
     "text": [
      "\r\n",
      "Processed prompts: 100%|██████████████| 1/1 [00:39<00:00, 39.59s/it, est. speed input: 47.92 toks/s, output: 57.92 toks/s]"
     ]
    },
    {
     "name": "stderr",
     "output_type": "stream",
     "text": [
      "\u001b[A"
     ]
    },
    {
     "name": "stderr",
     "output_type": "stream",
     "text": [
      "\r\n",
      "Processed prompts: 100%|██████████████| 1/1 [00:39<00:00, 39.59s/it, est. speed input: 47.92 toks/s, output: 57.92 toks/s]"
     ]
    },
    {
     "name": "stderr",
     "output_type": "stream",
     "text": [
      "\n",
      "\r\n",
      "Generating responses:  77%|█████████████████████████████████████████████▍             | 110/143 [1:23:17<20:52, 37.94s/it]"
     ]
    },
    {
     "name": "stderr",
     "output_type": "stream",
     "text": [
      "\n"
     ]
    },
    {
     "name": "stderr",
     "output_type": "stream",
     "text": [
      "\r\n",
      "Processed prompts:   0%|                        | 0/1 [00:00<?, ?it/s, est. speed input: 0.00 toks/s, output: 0.00 toks/s]"
     ]
    },
    {
     "name": "stderr",
     "output_type": "stream",
     "text": [
      "\u001b[A"
     ]
    },
    {
     "name": "stderr",
     "output_type": "stream",
     "text": [
      "\n"
     ]
    },
    {
     "name": "stderr",
     "output_type": "stream",
     "text": [
      "\r\n",
      "Processed prompts: 100%|██████████████| 1/1 [00:46<00:00, 46.57s/it, est. speed input: 15.87 toks/s, output: 58.70 toks/s]"
     ]
    },
    {
     "name": "stderr",
     "output_type": "stream",
     "text": [
      "\u001b[A"
     ]
    },
    {
     "name": "stderr",
     "output_type": "stream",
     "text": [
      "\r\n",
      "Processed prompts: 100%|██████████████| 1/1 [00:46<00:00, 46.58s/it, est. speed input: 15.87 toks/s, output: 58.70 toks/s]"
     ]
    },
    {
     "name": "stderr",
     "output_type": "stream",
     "text": [
      "\n",
      "\r\n",
      "Generating responses:  78%|█████████████████████████████████████████████▊             | 111/143 [1:24:04<21:37, 40.53s/it]"
     ]
    },
    {
     "name": "stderr",
     "output_type": "stream",
     "text": [
      "\n"
     ]
    },
    {
     "name": "stderr",
     "output_type": "stream",
     "text": [
      "\r\n",
      "Processed prompts:   0%|                        | 0/1 [00:00<?, ?it/s, est. speed input: 0.00 toks/s, output: 0.00 toks/s]"
     ]
    },
    {
     "name": "stderr",
     "output_type": "stream",
     "text": [
      "\u001b[A"
     ]
    },
    {
     "name": "stderr",
     "output_type": "stream",
     "text": [
      "\n"
     ]
    },
    {
     "name": "stderr",
     "output_type": "stream",
     "text": [
      "\r\n",
      "Processed prompts: 100%|██████████████| 1/1 [00:34<00:00, 34.35s/it, est. speed input: 41.28 toks/s, output: 58.33 toks/s]"
     ]
    },
    {
     "name": "stderr",
     "output_type": "stream",
     "text": [
      "\u001b[A"
     ]
    },
    {
     "name": "stderr",
     "output_type": "stream",
     "text": [
      "\r\n",
      "Processed prompts: 100%|██████████████| 1/1 [00:34<00:00, 34.36s/it, est. speed input: 41.28 toks/s, output: 58.33 toks/s]"
     ]
    },
    {
     "name": "stderr",
     "output_type": "stream",
     "text": [
      "\n",
      "\r\n",
      "Generating responses:  78%|██████████████████████████████████████████████▏            | 112/143 [1:24:38<19:59, 38.68s/it]"
     ]
    },
    {
     "name": "stderr",
     "output_type": "stream",
     "text": [
      "\n"
     ]
    },
    {
     "name": "stderr",
     "output_type": "stream",
     "text": [
      "\r\n",
      "Processed prompts:   0%|                        | 0/1 [00:00<?, ?it/s, est. speed input: 0.00 toks/s, output: 0.00 toks/s]"
     ]
    },
    {
     "name": "stderr",
     "output_type": "stream",
     "text": [
      "\u001b[A"
     ]
    },
    {
     "name": "stderr",
     "output_type": "stream",
     "text": [
      "\n"
     ]
    },
    {
     "name": "stderr",
     "output_type": "stream",
     "text": [
      "\r\n",
      "Processed prompts: 100%|██████████████| 1/1 [00:45<00:00, 45.59s/it, est. speed input: 28.16 toks/s, output: 58.34 toks/s]"
     ]
    },
    {
     "name": "stderr",
     "output_type": "stream",
     "text": [
      "\u001b[A"
     ]
    },
    {
     "name": "stderr",
     "output_type": "stream",
     "text": [
      "\r\n",
      "Processed prompts: 100%|██████████████| 1/1 [00:45<00:00, 45.60s/it, est. speed input: 28.16 toks/s, output: 58.34 toks/s]"
     ]
    },
    {
     "name": "stderr",
     "output_type": "stream",
     "text": [
      "\n",
      "\r\n",
      "Generating responses:  79%|██████████████████████████████████████████████▌            | 113/143 [1:25:24<20:22, 40.76s/it]"
     ]
    },
    {
     "name": "stderr",
     "output_type": "stream",
     "text": [
      "\n"
     ]
    },
    {
     "name": "stderr",
     "output_type": "stream",
     "text": [
      "\r\n",
      "Processed prompts:   0%|                        | 0/1 [00:00<?, ?it/s, est. speed input: 0.00 toks/s, output: 0.00 toks/s]"
     ]
    },
    {
     "name": "stderr",
     "output_type": "stream",
     "text": [
      "\u001b[A"
     ]
    },
    {
     "name": "stderr",
     "output_type": "stream",
     "text": [
      "\n"
     ]
    },
    {
     "name": "stderr",
     "output_type": "stream",
     "text": [
      "\r\n",
      "Processed prompts: 100%|█████████████| 1/1 [00:14<00:00, 14.53s/it, est. speed input: 114.00 toks/s, output: 57.82 toks/s]"
     ]
    },
    {
     "name": "stderr",
     "output_type": "stream",
     "text": [
      "\u001b[A"
     ]
    },
    {
     "name": "stderr",
     "output_type": "stream",
     "text": [
      "\r\n",
      "Processed prompts: 100%|█████████████| 1/1 [00:14<00:00, 14.53s/it, est. speed input: 114.00 toks/s, output: 57.82 toks/s]"
     ]
    },
    {
     "name": "stderr",
     "output_type": "stream",
     "text": [
      "\n",
      "\r\n",
      "Generating responses:  80%|███████████████████████████████████████████████            | 114/143 [1:25:38<15:53, 32.90s/it]"
     ]
    },
    {
     "name": "stderr",
     "output_type": "stream",
     "text": [
      "\n"
     ]
    },
    {
     "name": "stderr",
     "output_type": "stream",
     "text": [
      "\r\n",
      "Processed prompts:   0%|                        | 0/1 [00:00<?, ?it/s, est. speed input: 0.00 toks/s, output: 0.00 toks/s]"
     ]
    },
    {
     "name": "stderr",
     "output_type": "stream",
     "text": [
      "\u001b[A"
     ]
    },
    {
     "name": "stderr",
     "output_type": "stream",
     "text": [
      "\n"
     ]
    },
    {
     "name": "stderr",
     "output_type": "stream",
     "text": [
      "\r\n",
      "Processed prompts: 100%|██████████████| 1/1 [00:18<00:00, 18.91s/it, est. speed input: 52.57 toks/s, output: 58.70 toks/s]"
     ]
    },
    {
     "name": "stderr",
     "output_type": "stream",
     "text": [
      "\u001b[A"
     ]
    },
    {
     "name": "stderr",
     "output_type": "stream",
     "text": [
      "\r\n",
      "Processed prompts: 100%|██████████████| 1/1 [00:18<00:00, 18.91s/it, est. speed input: 52.57 toks/s, output: 58.70 toks/s]"
     ]
    },
    {
     "name": "stderr",
     "output_type": "stream",
     "text": [
      "\n",
      "\r\n",
      "Generating responses:  80%|███████████████████████████████████████████████▍           | 115/143 [1:25:57<13:23, 28.70s/it]"
     ]
    },
    {
     "name": "stderr",
     "output_type": "stream",
     "text": [
      "\n"
     ]
    },
    {
     "name": "stderr",
     "output_type": "stream",
     "text": [
      "\r\n",
      "Processed prompts:   0%|                        | 0/1 [00:00<?, ?it/s, est. speed input: 0.00 toks/s, output: 0.00 toks/s]"
     ]
    },
    {
     "name": "stderr",
     "output_type": "stream",
     "text": [
      "\u001b[A"
     ]
    },
    {
     "name": "stderr",
     "output_type": "stream",
     "text": [
      "\n"
     ]
    },
    {
     "name": "stderr",
     "output_type": "stream",
     "text": [
      "\r\n",
      "Processed prompts: 100%|██████████████| 1/1 [00:50<00:00, 50.37s/it, est. speed input: 24.97 toks/s, output: 58.37 toks/s]"
     ]
    },
    {
     "name": "stderr",
     "output_type": "stream",
     "text": [
      "\u001b[A"
     ]
    },
    {
     "name": "stderr",
     "output_type": "stream",
     "text": [
      "\r\n",
      "Processed prompts: 100%|██████████████| 1/1 [00:50<00:00, 50.37s/it, est. speed input: 24.97 toks/s, output: 58.37 toks/s]"
     ]
    },
    {
     "name": "stderr",
     "output_type": "stream",
     "text": [
      "\n",
      "\r\n",
      "Generating responses:  81%|███████████████████████████████████████████████▊           | 116/143 [1:26:47<15:50, 35.21s/it]"
     ]
    },
    {
     "name": "stderr",
     "output_type": "stream",
     "text": [
      "\n"
     ]
    },
    {
     "name": "stderr",
     "output_type": "stream",
     "text": [
      "\r\n",
      "Processed prompts:   0%|                        | 0/1 [00:00<?, ?it/s, est. speed input: 0.00 toks/s, output: 0.00 toks/s]"
     ]
    },
    {
     "name": "stderr",
     "output_type": "stream",
     "text": [
      "\u001b[A"
     ]
    },
    {
     "name": "stderr",
     "output_type": "stream",
     "text": [
      "\n"
     ]
    },
    {
     "name": "stderr",
     "output_type": "stream",
     "text": [
      "\r\n",
      "Processed prompts: 100%|██████████████| 1/1 [00:33<00:00, 33.24s/it, est. speed input: 17.06 toks/s, output: 58.90 toks/s]"
     ]
    },
    {
     "name": "stderr",
     "output_type": "stream",
     "text": [
      "\u001b[A"
     ]
    },
    {
     "name": "stderr",
     "output_type": "stream",
     "text": [
      "\r\n",
      "Processed prompts: 100%|██████████████| 1/1 [00:33<00:00, 33.25s/it, est. speed input: 17.06 toks/s, output: 58.90 toks/s]"
     ]
    },
    {
     "name": "stderr",
     "output_type": "stream",
     "text": [
      "\n",
      "\r\n",
      "Generating responses:  82%|████████████████████████████████████████████████▎          | 117/143 [1:27:21<15:00, 34.62s/it]"
     ]
    },
    {
     "name": "stderr",
     "output_type": "stream",
     "text": [
      "\n"
     ]
    },
    {
     "name": "stderr",
     "output_type": "stream",
     "text": [
      "\r\n",
      "Processed prompts:   0%|                        | 0/1 [00:00<?, ?it/s, est. speed input: 0.00 toks/s, output: 0.00 toks/s]"
     ]
    },
    {
     "name": "stderr",
     "output_type": "stream",
     "text": [
      "\u001b[A"
     ]
    },
    {
     "name": "stderr",
     "output_type": "stream",
     "text": [
      "\n"
     ]
    },
    {
     "name": "stderr",
     "output_type": "stream",
     "text": [
      "\r\n",
      "Processed prompts: 100%|██████████████| 1/1 [00:23<00:00, 23.92s/it, est. speed input: 49.33 toks/s, output: 58.56 toks/s]"
     ]
    },
    {
     "name": "stderr",
     "output_type": "stream",
     "text": [
      "\u001b[A"
     ]
    },
    {
     "name": "stderr",
     "output_type": "stream",
     "text": [
      "\r\n",
      "Processed prompts: 100%|██████████████| 1/1 [00:23<00:00, 23.93s/it, est. speed input: 49.33 toks/s, output: 58.56 toks/s]"
     ]
    },
    {
     "name": "stderr",
     "output_type": "stream",
     "text": [
      "\n",
      "\r\n",
      "Generating responses:  83%|████████████████████████████████████████████████▋          | 118/143 [1:27:45<13:05, 31.42s/it]"
     ]
    },
    {
     "name": "stderr",
     "output_type": "stream",
     "text": [
      "\n"
     ]
    },
    {
     "name": "stderr",
     "output_type": "stream",
     "text": [
      "\r\n",
      "Processed prompts:   0%|                        | 0/1 [00:00<?, ?it/s, est. speed input: 0.00 toks/s, output: 0.00 toks/s]"
     ]
    },
    {
     "name": "stderr",
     "output_type": "stream",
     "text": [
      "\u001b[A"
     ]
    },
    {
     "name": "stderr",
     "output_type": "stream",
     "text": [
      "\n"
     ]
    },
    {
     "name": "stderr",
     "output_type": "stream",
     "text": [
      "\r\n",
      "Processed prompts: 100%|██████████████| 1/1 [01:00<00:00, 60.95s/it, est. speed input: 34.55 toks/s, output: 57.44 toks/s]"
     ]
    },
    {
     "name": "stderr",
     "output_type": "stream",
     "text": [
      "\u001b[A"
     ]
    },
    {
     "name": "stderr",
     "output_type": "stream",
     "text": [
      "\r\n",
      "Processed prompts: 100%|██████████████| 1/1 [01:00<00:00, 60.96s/it, est. speed input: 34.55 toks/s, output: 57.44 toks/s]"
     ]
    },
    {
     "name": "stderr",
     "output_type": "stream",
     "text": [
      "\n",
      "\r\n",
      "Generating responses:  83%|█████████████████████████████████████████████████          | 119/143 [1:28:46<16:06, 40.28s/it]"
     ]
    },
    {
     "name": "stderr",
     "output_type": "stream",
     "text": [
      "\n"
     ]
    },
    {
     "name": "stderr",
     "output_type": "stream",
     "text": [
      "\r\n",
      "Processed prompts:   0%|                        | 0/1 [00:00<?, ?it/s, est. speed input: 0.00 toks/s, output: 0.00 toks/s]"
     ]
    },
    {
     "name": "stderr",
     "output_type": "stream",
     "text": [
      "\u001b[A"
     ]
    },
    {
     "name": "stderr",
     "output_type": "stream",
     "text": [
      "\n"
     ]
    },
    {
     "name": "stderr",
     "output_type": "stream",
     "text": [
      "\r\n",
      "Processed prompts: 100%|██████████████| 1/1 [00:30<00:00, 30.95s/it, est. speed input: 37.29 toks/s, output: 58.65 toks/s]"
     ]
    },
    {
     "name": "stderr",
     "output_type": "stream",
     "text": [
      "\u001b[A"
     ]
    },
    {
     "name": "stderr",
     "output_type": "stream",
     "text": [
      "\r\n",
      "Processed prompts: 100%|██████████████| 1/1 [00:30<00:00, 30.95s/it, est. speed input: 37.29 toks/s, output: 58.65 toks/s]"
     ]
    },
    {
     "name": "stderr",
     "output_type": "stream",
     "text": [
      "\n",
      "\r\n",
      "Generating responses:  84%|█████████████████████████████████████████████████▌         | 120/143 [1:29:17<14:22, 37.49s/it]"
     ]
    },
    {
     "name": "stderr",
     "output_type": "stream",
     "text": [
      "\n"
     ]
    },
    {
     "name": "stderr",
     "output_type": "stream",
     "text": [
      "\r\n",
      "Processed prompts:   0%|                        | 0/1 [00:00<?, ?it/s, est. speed input: 0.00 toks/s, output: 0.00 toks/s]"
     ]
    },
    {
     "name": "stderr",
     "output_type": "stream",
     "text": [
      "\u001b[A"
     ]
    },
    {
     "name": "stderr",
     "output_type": "stream",
     "text": [
      "\n"
     ]
    },
    {
     "name": "stderr",
     "output_type": "stream",
     "text": [
      "\r\n",
      "Processed prompts: 100%|██████████████| 1/1 [00:12<00:00, 12.20s/it, est. speed input: 54.53 toks/s, output: 58.63 toks/s]"
     ]
    },
    {
     "name": "stderr",
     "output_type": "stream",
     "text": [
      "\u001b[A"
     ]
    },
    {
     "name": "stderr",
     "output_type": "stream",
     "text": [
      "\r\n",
      "Processed prompts: 100%|██████████████| 1/1 [00:12<00:00, 12.20s/it, est. speed input: 54.53 toks/s, output: 58.63 toks/s]"
     ]
    },
    {
     "name": "stderr",
     "output_type": "stream",
     "text": [
      "\n",
      "\r\n",
      "Generating responses:  85%|█████████████████████████████████████████████████▉         | 121/143 [1:29:29<10:57, 29.90s/it]"
     ]
    },
    {
     "name": "stderr",
     "output_type": "stream",
     "text": [
      "\n"
     ]
    },
    {
     "name": "stderr",
     "output_type": "stream",
     "text": [
      "\r\n",
      "Processed prompts:   0%|                        | 0/1 [00:00<?, ?it/s, est. speed input: 0.00 toks/s, output: 0.00 toks/s]"
     ]
    },
    {
     "name": "stderr",
     "output_type": "stream",
     "text": [
      "\u001b[A"
     ]
    },
    {
     "name": "stderr",
     "output_type": "stream",
     "text": [
      "\n"
     ]
    },
    {
     "name": "stderr",
     "output_type": "stream",
     "text": [
      "\r\n",
      "Processed prompts: 100%|█████████████| 1/1 [00:09<00:00,  9.59s/it, est. speed input: 193.39 toks/s, output: 57.03 toks/s]"
     ]
    },
    {
     "name": "stderr",
     "output_type": "stream",
     "text": [
      "\u001b[A"
     ]
    },
    {
     "name": "stderr",
     "output_type": "stream",
     "text": [
      "\r\n",
      "Processed prompts: 100%|█████████████| 1/1 [00:09<00:00,  9.59s/it, est. speed input: 193.39 toks/s, output: 57.03 toks/s]"
     ]
    },
    {
     "name": "stderr",
     "output_type": "stream",
     "text": [
      "\n",
      "\r\n",
      "Generating responses:  85%|██████████████████████████████████████████████████▎        | 122/143 [1:29:38<08:20, 23.82s/it]"
     ]
    },
    {
     "name": "stderr",
     "output_type": "stream",
     "text": [
      "\n"
     ]
    },
    {
     "name": "stderr",
     "output_type": "stream",
     "text": [
      "\r\n",
      "Processed prompts:   0%|                        | 0/1 [00:00<?, ?it/s, est. speed input: 0.00 toks/s, output: 0.00 toks/s]"
     ]
    },
    {
     "name": "stderr",
     "output_type": "stream",
     "text": [
      "\u001b[A"
     ]
    },
    {
     "name": "stderr",
     "output_type": "stream",
     "text": [
      "\n"
     ]
    },
    {
     "name": "stderr",
     "output_type": "stream",
     "text": [
      "\r\n",
      "Processed prompts: 100%|██████████████| 1/1 [01:12<00:00, 72.54s/it, est. speed input: 12.28 toks/s, output: 58.31 toks/s]"
     ]
    },
    {
     "name": "stderr",
     "output_type": "stream",
     "text": [
      "\u001b[A"
     ]
    },
    {
     "name": "stderr",
     "output_type": "stream",
     "text": [
      "\r\n",
      "Processed prompts: 100%|██████████████| 1/1 [01:12<00:00, 72.55s/it, est. speed input: 12.28 toks/s, output: 58.31 toks/s]"
     ]
    },
    {
     "name": "stderr",
     "output_type": "stream",
     "text": [
      "\n",
      "\r\n",
      "Generating responses:  86%|██████████████████████████████████████████████████▋        | 123/143 [1:30:51<12:48, 38.44s/it]"
     ]
    },
    {
     "name": "stderr",
     "output_type": "stream",
     "text": [
      "\n"
     ]
    },
    {
     "name": "stderr",
     "output_type": "stream",
     "text": [
      "\r\n",
      "Processed prompts:   0%|                        | 0/1 [00:00<?, ?it/s, est. speed input: 0.00 toks/s, output: 0.00 toks/s]"
     ]
    },
    {
     "name": "stderr",
     "output_type": "stream",
     "text": [
      "\u001b[A"
     ]
    },
    {
     "name": "stderr",
     "output_type": "stream",
     "text": [
      "\n"
     ]
    },
    {
     "name": "stderr",
     "output_type": "stream",
     "text": [
      "\r\n",
      "Processed prompts: 100%|██████████████| 1/1 [00:31<00:00, 31.64s/it, est. speed input: 70.79 toks/s, output: 57.68 toks/s]"
     ]
    },
    {
     "name": "stderr",
     "output_type": "stream",
     "text": [
      "\u001b[A"
     ]
    },
    {
     "name": "stderr",
     "output_type": "stream",
     "text": [
      "\r\n",
      "Processed prompts: 100%|██████████████| 1/1 [00:31<00:00, 31.65s/it, est. speed input: 70.79 toks/s, output: 57.68 toks/s]"
     ]
    },
    {
     "name": "stderr",
     "output_type": "stream",
     "text": [
      "\n",
      "\r\n",
      "Generating responses:  87%|███████████████████████████████████████████████████▏       | 124/143 [1:31:23<11:31, 36.40s/it]"
     ]
    },
    {
     "name": "stderr",
     "output_type": "stream",
     "text": [
      "\n"
     ]
    },
    {
     "name": "stderr",
     "output_type": "stream",
     "text": [
      "\r\n",
      "Processed prompts:   0%|                        | 0/1 [00:00<?, ?it/s, est. speed input: 0.00 toks/s, output: 0.00 toks/s]"
     ]
    },
    {
     "name": "stderr",
     "output_type": "stream",
     "text": [
      "\u001b[A"
     ]
    },
    {
     "name": "stderr",
     "output_type": "stream",
     "text": [
      "\n"
     ]
    },
    {
     "name": "stderr",
     "output_type": "stream",
     "text": [
      "\r\n",
      "Processed prompts: 100%|██████████████| 1/1 [00:24<00:00, 24.63s/it, est. speed input: 30.17 toks/s, output: 58.84 toks/s]"
     ]
    },
    {
     "name": "stderr",
     "output_type": "stream",
     "text": [
      "\u001b[A"
     ]
    },
    {
     "name": "stderr",
     "output_type": "stream",
     "text": [
      "\r\n",
      "Processed prompts: 100%|██████████████| 1/1 [00:24<00:00, 24.63s/it, est. speed input: 30.17 toks/s, output: 58.84 toks/s]"
     ]
    },
    {
     "name": "stderr",
     "output_type": "stream",
     "text": [
      "\n",
      "\r\n",
      "Generating responses:  87%|███████████████████████████████████████████████████▌       | 125/143 [1:31:47<09:51, 32.88s/it]"
     ]
    },
    {
     "name": "stderr",
     "output_type": "stream",
     "text": [
      "\n"
     ]
    },
    {
     "name": "stderr",
     "output_type": "stream",
     "text": [
      "\r\n",
      "Processed prompts:   0%|                        | 0/1 [00:00<?, ?it/s, est. speed input: 0.00 toks/s, output: 0.00 toks/s]"
     ]
    },
    {
     "name": "stderr",
     "output_type": "stream",
     "text": [
      "\u001b[A"
     ]
    },
    {
     "name": "stderr",
     "output_type": "stream",
     "text": [
      "\n"
     ]
    },
    {
     "name": "stderr",
     "output_type": "stream",
     "text": [
      "\r\n",
      "Processed prompts: 100%|██████████████| 1/1 [00:18<00:00, 18.13s/it, est. speed input: 34.98 toks/s, output: 58.87 toks/s]"
     ]
    },
    {
     "name": "stderr",
     "output_type": "stream",
     "text": [
      "\u001b[A"
     ]
    },
    {
     "name": "stderr",
     "output_type": "stream",
     "text": [
      "\r\n",
      "Processed prompts: 100%|██████████████| 1/1 [00:18<00:00, 18.13s/it, est. speed input: 34.98 toks/s, output: 58.87 toks/s]"
     ]
    },
    {
     "name": "stderr",
     "output_type": "stream",
     "text": [
      "\n",
      "\r\n",
      "Generating responses:  88%|███████████████████████████████████████████████████▉       | 126/143 [1:32:05<08:03, 28.45s/it]"
     ]
    },
    {
     "name": "stderr",
     "output_type": "stream",
     "text": [
      "\n"
     ]
    },
    {
     "name": "stderr",
     "output_type": "stream",
     "text": [
      "\r\n",
      "Processed prompts:   0%|                        | 0/1 [00:00<?, ?it/s, est. speed input: 0.00 toks/s, output: 0.00 toks/s]"
     ]
    },
    {
     "name": "stderr",
     "output_type": "stream",
     "text": [
      "\u001b[A"
     ]
    },
    {
     "name": "stderr",
     "output_type": "stream",
     "text": [
      "\n"
     ]
    },
    {
     "name": "stderr",
     "output_type": "stream",
     "text": [
      "\r\n",
      "Processed prompts: 100%|██████████████| 1/1 [00:43<00:00, 43.16s/it, est. speed input: 33.81 toks/s, output: 58.27 toks/s]"
     ]
    },
    {
     "name": "stderr",
     "output_type": "stream",
     "text": [
      "\u001b[A"
     ]
    },
    {
     "name": "stderr",
     "output_type": "stream",
     "text": [
      "\r\n",
      "Processed prompts: 100%|██████████████| 1/1 [00:43<00:00, 43.16s/it, est. speed input: 33.81 toks/s, output: 58.27 toks/s]"
     ]
    },
    {
     "name": "stderr",
     "output_type": "stream",
     "text": [
      "\n",
      "\r\n",
      "Generating responses:  89%|████████████████████████████████████████████████████▍      | 127/143 [1:32:48<08:45, 32.87s/it]"
     ]
    },
    {
     "name": "stderr",
     "output_type": "stream",
     "text": [
      "\n"
     ]
    },
    {
     "name": "stderr",
     "output_type": "stream",
     "text": [
      "\r\n",
      "Processed prompts:   0%|                        | 0/1 [00:00<?, ?it/s, est. speed input: 0.00 toks/s, output: 0.00 toks/s]"
     ]
    },
    {
     "name": "stderr",
     "output_type": "stream",
     "text": [
      "\u001b[A"
     ]
    },
    {
     "name": "stderr",
     "output_type": "stream",
     "text": [
      "\n"
     ]
    },
    {
     "name": "stderr",
     "output_type": "stream",
     "text": [
      "\r\n",
      "Processed prompts: 100%|██████████████| 1/1 [00:25<00:00, 25.56s/it, est. speed input: 63.02 toks/s, output: 58.17 toks/s]"
     ]
    },
    {
     "name": "stderr",
     "output_type": "stream",
     "text": [
      "\u001b[A"
     ]
    },
    {
     "name": "stderr",
     "output_type": "stream",
     "text": [
      "\r\n",
      "Processed prompts: 100%|██████████████| 1/1 [00:25<00:00, 25.57s/it, est. speed input: 63.02 toks/s, output: 58.17 toks/s]"
     ]
    },
    {
     "name": "stderr",
     "output_type": "stream",
     "text": [
      "\n",
      "\r\n",
      "Generating responses:  90%|████████████████████████████████████████████████████▊      | 128/143 [1:33:14<07:40, 30.68s/it]"
     ]
    },
    {
     "name": "stderr",
     "output_type": "stream",
     "text": [
      "\n"
     ]
    },
    {
     "name": "stderr",
     "output_type": "stream",
     "text": [
      "\r\n",
      "Processed prompts:   0%|                        | 0/1 [00:00<?, ?it/s, est. speed input: 0.00 toks/s, output: 0.00 toks/s]"
     ]
    },
    {
     "name": "stderr",
     "output_type": "stream",
     "text": [
      "\u001b[A"
     ]
    },
    {
     "name": "stderr",
     "output_type": "stream",
     "text": [
      "\n"
     ]
    },
    {
     "name": "stderr",
     "output_type": "stream",
     "text": [
      "\r\n",
      "Processed prompts: 100%|██████████████| 1/1 [00:34<00:00, 34.55s/it, est. speed input: 29.87 toks/s, output: 58.70 toks/s]"
     ]
    },
    {
     "name": "stderr",
     "output_type": "stream",
     "text": [
      "\u001b[A"
     ]
    },
    {
     "name": "stderr",
     "output_type": "stream",
     "text": [
      "\r\n",
      "Processed prompts: 100%|██████████████| 1/1 [00:34<00:00, 34.55s/it, est. speed input: 29.87 toks/s, output: 58.70 toks/s]"
     ]
    },
    {
     "name": "stderr",
     "output_type": "stream",
     "text": [
      "\n",
      "\r\n",
      "Generating responses:  90%|█████████████████████████████████████████████████████▏     | 129/143 [1:33:49<07:25, 31.85s/it]"
     ]
    },
    {
     "name": "stderr",
     "output_type": "stream",
     "text": [
      "\n"
     ]
    },
    {
     "name": "stderr",
     "output_type": "stream",
     "text": [
      "\r\n",
      "Processed prompts:   0%|                        | 0/1 [00:00<?, ?it/s, est. speed input: 0.00 toks/s, output: 0.00 toks/s]"
     ]
    },
    {
     "name": "stderr",
     "output_type": "stream",
     "text": [
      "\u001b[A"
     ]
    },
    {
     "name": "stderr",
     "output_type": "stream",
     "text": [
      "\n"
     ]
    },
    {
     "name": "stderr",
     "output_type": "stream",
     "text": [
      "\r\n",
      "Processed prompts: 100%|██████████████| 1/1 [00:33<00:00, 33.18s/it, est. speed input: 48.79 toks/s, output: 58.20 toks/s]"
     ]
    },
    {
     "name": "stderr",
     "output_type": "stream",
     "text": [
      "\u001b[A"
     ]
    },
    {
     "name": "stderr",
     "output_type": "stream",
     "text": [
      "\r\n",
      "Processed prompts: 100%|██████████████| 1/1 [00:33<00:00, 33.18s/it, est. speed input: 48.79 toks/s, output: 58.20 toks/s]"
     ]
    },
    {
     "name": "stderr",
     "output_type": "stream",
     "text": [
      "\n",
      "\r\n",
      "Generating responses:  91%|█████████████████████████████████████████████████████▋     | 130/143 [1:34:22<06:59, 32.25s/it]"
     ]
    },
    {
     "name": "stderr",
     "output_type": "stream",
     "text": [
      "\n"
     ]
    },
    {
     "name": "stderr",
     "output_type": "stream",
     "text": [
      "\r\n",
      "Processed prompts:   0%|                        | 0/1 [00:00<?, ?it/s, est. speed input: 0.00 toks/s, output: 0.00 toks/s]"
     ]
    },
    {
     "name": "stderr",
     "output_type": "stream",
     "text": [
      "\u001b[A"
     ]
    },
    {
     "name": "stderr",
     "output_type": "stream",
     "text": [
      "\n"
     ]
    },
    {
     "name": "stderr",
     "output_type": "stream",
     "text": [
      "\r\n",
      "Processed prompts: 100%|██████████████| 1/1 [00:25<00:00, 25.36s/it, est. speed input: 23.58 toks/s, output: 58.95 toks/s]"
     ]
    },
    {
     "name": "stderr",
     "output_type": "stream",
     "text": [
      "\u001b[A"
     ]
    },
    {
     "name": "stderr",
     "output_type": "stream",
     "text": [
      "\r\n",
      "Processed prompts: 100%|██████████████| 1/1 [00:25<00:00, 25.36s/it, est. speed input: 23.58 toks/s, output: 58.95 toks/s]"
     ]
    },
    {
     "name": "stderr",
     "output_type": "stream",
     "text": [
      "\n",
      "\r\n",
      "Generating responses:  92%|██████████████████████████████████████████████████████     | 131/143 [1:34:47<06:02, 30.19s/it]"
     ]
    },
    {
     "name": "stderr",
     "output_type": "stream",
     "text": [
      "\n"
     ]
    },
    {
     "name": "stderr",
     "output_type": "stream",
     "text": [
      "\r\n",
      "Processed prompts:   0%|                        | 0/1 [00:00<?, ?it/s, est. speed input: 0.00 toks/s, output: 0.00 toks/s]"
     ]
    },
    {
     "name": "stderr",
     "output_type": "stream",
     "text": [
      "\u001b[A"
     ]
    },
    {
     "name": "stderr",
     "output_type": "stream",
     "text": [
      "\n"
     ]
    },
    {
     "name": "stderr",
     "output_type": "stream",
     "text": [
      "\r\n",
      "Processed prompts: 100%|██████████████| 1/1 [01:10<00:00, 70.33s/it, est. speed input: 19.27 toks/s, output: 57.95 toks/s]"
     ]
    },
    {
     "name": "stderr",
     "output_type": "stream",
     "text": [
      "\u001b[A"
     ]
    },
    {
     "name": "stderr",
     "output_type": "stream",
     "text": [
      "\r\n",
      "Processed prompts: 100%|██████████████| 1/1 [01:10<00:00, 70.33s/it, est. speed input: 19.27 toks/s, output: 57.95 toks/s]"
     ]
    },
    {
     "name": "stderr",
     "output_type": "stream",
     "text": [
      "\n",
      "\r\n",
      "Generating responses:  92%|██████████████████████████████████████████████████████▍    | 132/143 [1:35:58<07:44, 42.23s/it]"
     ]
    },
    {
     "name": "stderr",
     "output_type": "stream",
     "text": [
      "\n"
     ]
    },
    {
     "name": "stderr",
     "output_type": "stream",
     "text": [
      "\r\n",
      "Processed prompts:   0%|                        | 0/1 [00:00<?, ?it/s, est. speed input: 0.00 toks/s, output: 0.00 toks/s]"
     ]
    },
    {
     "name": "stderr",
     "output_type": "stream",
     "text": [
      "\u001b[A"
     ]
    },
    {
     "name": "stderr",
     "output_type": "stream",
     "text": [
      "\n"
     ]
    },
    {
     "name": "stderr",
     "output_type": "stream",
     "text": [
      "\r\n",
      "Processed prompts: 100%|██████████████| 1/1 [00:55<00:00, 55.05s/it, est. speed input: 12.15 toks/s, output: 58.63 toks/s]"
     ]
    },
    {
     "name": "stderr",
     "output_type": "stream",
     "text": [
      "\u001b[A"
     ]
    },
    {
     "name": "stderr",
     "output_type": "stream",
     "text": [
      "\r\n",
      "Processed prompts: 100%|██████████████| 1/1 [00:55<00:00, 55.06s/it, est. speed input: 12.15 toks/s, output: 58.63 toks/s]"
     ]
    },
    {
     "name": "stderr",
     "output_type": "stream",
     "text": [
      "\n",
      "\r\n",
      "Generating responses:  93%|██████████████████████████████████████████████████████▊    | 133/143 [1:36:53<07:40, 46.08s/it]"
     ]
    },
    {
     "name": "stderr",
     "output_type": "stream",
     "text": [
      "\n"
     ]
    },
    {
     "name": "stderr",
     "output_type": "stream",
     "text": [
      "\r\n",
      "Processed prompts:   0%|                        | 0/1 [00:00<?, ?it/s, est. speed input: 0.00 toks/s, output: 0.00 toks/s]"
     ]
    },
    {
     "name": "stderr",
     "output_type": "stream",
     "text": [
      "\u001b[A"
     ]
    },
    {
     "name": "stderr",
     "output_type": "stream",
     "text": [
      "\n"
     ]
    },
    {
     "name": "stderr",
     "output_type": "stream",
     "text": [
      "\r\n",
      "Processed prompts: 100%|███████████████| 1/1 [00:55<00:00, 55.64s/it, est. speed input: 9.92 toks/s, output: 58.71 toks/s]"
     ]
    },
    {
     "name": "stderr",
     "output_type": "stream",
     "text": [
      "\u001b[A"
     ]
    },
    {
     "name": "stderr",
     "output_type": "stream",
     "text": [
      "\r\n",
      "Processed prompts: 100%|███████████████| 1/1 [00:55<00:00, 55.65s/it, est. speed input: 9.92 toks/s, output: 58.71 toks/s]"
     ]
    },
    {
     "name": "stderr",
     "output_type": "stream",
     "text": [
      "\n",
      "\r\n",
      "Generating responses:  94%|███████████████████████████████████████████████████████▎   | 134/143 [1:37:48<07:20, 48.96s/it]"
     ]
    },
    {
     "name": "stderr",
     "output_type": "stream",
     "text": [
      "\n"
     ]
    },
    {
     "name": "stderr",
     "output_type": "stream",
     "text": [
      "\r\n",
      "Processed prompts:   0%|                        | 0/1 [00:00<?, ?it/s, est. speed input: 0.00 toks/s, output: 0.00 toks/s]"
     ]
    },
    {
     "name": "stderr",
     "output_type": "stream",
     "text": [
      "\u001b[A"
     ]
    },
    {
     "name": "stderr",
     "output_type": "stream",
     "text": [
      "\n"
     ]
    },
    {
     "name": "stderr",
     "output_type": "stream",
     "text": [
      "\r\n",
      "Processed prompts: 100%|██████████████| 1/1 [01:04<00:00, 64.95s/it, est. speed input: 30.73 toks/s, output: 57.43 toks/s]"
     ]
    },
    {
     "name": "stderr",
     "output_type": "stream",
     "text": [
      "\u001b[A"
     ]
    },
    {
     "name": "stderr",
     "output_type": "stream",
     "text": [
      "\r\n",
      "Processed prompts: 100%|██████████████| 1/1 [01:04<00:00, 64.95s/it, est. speed input: 30.73 toks/s, output: 57.43 toks/s]"
     ]
    },
    {
     "name": "stderr",
     "output_type": "stream",
     "text": [
      "\n",
      "\r\n",
      "Generating responses:  94%|███████████████████████████████████████████████████████▋   | 135/143 [1:38:53<07:10, 53.76s/it]"
     ]
    },
    {
     "name": "stderr",
     "output_type": "stream",
     "text": [
      "\n"
     ]
    },
    {
     "name": "stderr",
     "output_type": "stream",
     "text": [
      "\r\n",
      "Processed prompts:   0%|                        | 0/1 [00:00<?, ?it/s, est. speed input: 0.00 toks/s, output: 0.00 toks/s]"
     ]
    },
    {
     "name": "stderr",
     "output_type": "stream",
     "text": [
      "\u001b[A"
     ]
    },
    {
     "name": "stderr",
     "output_type": "stream",
     "text": [
      "\n"
     ]
    },
    {
     "name": "stderr",
     "output_type": "stream",
     "text": [
      "\r\n",
      "Processed prompts: 100%|██████████████| 1/1 [00:16<00:00, 16.15s/it, est. speed input: 56.84 toks/s, output: 58.57 toks/s]"
     ]
    },
    {
     "name": "stderr",
     "output_type": "stream",
     "text": [
      "\u001b[A"
     ]
    },
    {
     "name": "stderr",
     "output_type": "stream",
     "text": [
      "\r\n",
      "Processed prompts: 100%|██████████████| 1/1 [00:16<00:00, 16.15s/it, est. speed input: 56.84 toks/s, output: 58.57 toks/s]"
     ]
    },
    {
     "name": "stderr",
     "output_type": "stream",
     "text": [
      "\n",
      "\r\n",
      "Generating responses:  95%|████████████████████████████████████████████████████████   | 136/143 [1:39:09<04:57, 42.48s/it]"
     ]
    },
    {
     "name": "stderr",
     "output_type": "stream",
     "text": [
      "\n"
     ]
    },
    {
     "name": "stderr",
     "output_type": "stream",
     "text": [
      "\r\n",
      "Processed prompts:   0%|                        | 0/1 [00:00<?, ?it/s, est. speed input: 0.00 toks/s, output: 0.00 toks/s]"
     ]
    },
    {
     "name": "stderr",
     "output_type": "stream",
     "text": [
      "\u001b[A"
     ]
    },
    {
     "name": "stderr",
     "output_type": "stream",
     "text": [
      "\n"
     ]
    },
    {
     "name": "stderr",
     "output_type": "stream",
     "text": [
      "\r\n",
      "Processed prompts: 100%|██████████████| 1/1 [00:42<00:00, 42.53s/it, est. speed input: 18.13 toks/s, output: 58.78 toks/s]"
     ]
    },
    {
     "name": "stderr",
     "output_type": "stream",
     "text": [
      "\u001b[A"
     ]
    },
    {
     "name": "stderr",
     "output_type": "stream",
     "text": [
      "\r\n",
      "Processed prompts: 100%|██████████████| 1/1 [00:42<00:00, 42.54s/it, est. speed input: 18.13 toks/s, output: 58.78 toks/s]"
     ]
    },
    {
     "name": "stderr",
     "output_type": "stream",
     "text": [
      "\n",
      "\r\n",
      "Generating responses:  96%|████████████████████████████████████████████████████████▌  | 137/143 [1:39:52<04:15, 42.50s/it]"
     ]
    },
    {
     "name": "stderr",
     "output_type": "stream",
     "text": [
      "\n"
     ]
    },
    {
     "name": "stderr",
     "output_type": "stream",
     "text": [
      "\r\n",
      "Processed prompts:   0%|                        | 0/1 [00:00<?, ?it/s, est. speed input: 0.00 toks/s, output: 0.00 toks/s]"
     ]
    },
    {
     "name": "stderr",
     "output_type": "stream",
     "text": [
      "\u001b[A"
     ]
    },
    {
     "name": "stderr",
     "output_type": "stream",
     "text": [
      "\n"
     ]
    },
    {
     "name": "stderr",
     "output_type": "stream",
     "text": [
      "\r\n",
      "Processed prompts: 100%|██████████████| 1/1 [00:17<00:00, 17.68s/it, est. speed input: 90.61 toks/s, output: 57.98 toks/s]"
     ]
    },
    {
     "name": "stderr",
     "output_type": "stream",
     "text": [
      "\u001b[A"
     ]
    },
    {
     "name": "stderr",
     "output_type": "stream",
     "text": [
      "\r\n",
      "Processed prompts: 100%|██████████████| 1/1 [00:17<00:00, 17.68s/it, est. speed input: 90.61 toks/s, output: 57.98 toks/s]"
     ]
    },
    {
     "name": "stderr",
     "output_type": "stream",
     "text": [
      "\n",
      "\r\n",
      "Generating responses:  97%|████████████████████████████████████████████████████████▉  | 138/143 [1:40:10<02:55, 35.06s/it]"
     ]
    },
    {
     "name": "stderr",
     "output_type": "stream",
     "text": [
      "\n"
     ]
    },
    {
     "name": "stderr",
     "output_type": "stream",
     "text": [
      "\r\n",
      "Processed prompts:   0%|                        | 0/1 [00:00<?, ?it/s, est. speed input: 0.00 toks/s, output: 0.00 toks/s]"
     ]
    },
    {
     "name": "stderr",
     "output_type": "stream",
     "text": [
      "\u001b[A"
     ]
    },
    {
     "name": "stderr",
     "output_type": "stream",
     "text": [
      "\n"
     ]
    },
    {
     "name": "stderr",
     "output_type": "stream",
     "text": [
      "\r\n",
      "Processed prompts: 100%|██████████████| 1/1 [00:59<00:00, 59.16s/it, est. speed input: 17.34 toks/s, output: 58.37 toks/s]"
     ]
    },
    {
     "name": "stderr",
     "output_type": "stream",
     "text": [
      "\u001b[A"
     ]
    },
    {
     "name": "stderr",
     "output_type": "stream",
     "text": [
      "\r\n",
      "Processed prompts: 100%|██████████████| 1/1 [00:59<00:00, 59.16s/it, est. speed input: 17.34 toks/s, output: 58.37 toks/s]"
     ]
    },
    {
     "name": "stderr",
     "output_type": "stream",
     "text": [
      "\n",
      "\r\n",
      "Generating responses:  97%|█████████████████████████████████████████████████████████▎ | 139/143 [1:41:09<02:49, 42.29s/it]"
     ]
    },
    {
     "name": "stderr",
     "output_type": "stream",
     "text": [
      "\n"
     ]
    },
    {
     "name": "stderr",
     "output_type": "stream",
     "text": [
      "\r\n",
      "Processed prompts:   0%|                        | 0/1 [00:00<?, ?it/s, est. speed input: 0.00 toks/s, output: 0.00 toks/s]"
     ]
    },
    {
     "name": "stderr",
     "output_type": "stream",
     "text": [
      "\u001b[A"
     ]
    },
    {
     "name": "stderr",
     "output_type": "stream",
     "text": [
      "\n"
     ]
    },
    {
     "name": "stderr",
     "output_type": "stream",
     "text": [
      "\r\n",
      "Processed prompts: 100%|██████████████| 1/1 [00:21<00:00, 21.97s/it, est. speed input: 25.72 toks/s, output: 58.90 toks/s]"
     ]
    },
    {
     "name": "stderr",
     "output_type": "stream",
     "text": [
      "\u001b[A"
     ]
    },
    {
     "name": "stderr",
     "output_type": "stream",
     "text": [
      "\r\n",
      "Processed prompts: 100%|██████████████| 1/1 [00:21<00:00, 21.97s/it, est. speed input: 25.72 toks/s, output: 58.90 toks/s]"
     ]
    },
    {
     "name": "stderr",
     "output_type": "stream",
     "text": [
      "\n",
      "\r\n",
      "Generating responses:  98%|█████████████████████████████████████████████████████████▊ | 140/143 [1:41:31<01:48, 36.20s/it]"
     ]
    },
    {
     "name": "stderr",
     "output_type": "stream",
     "text": [
      "\n"
     ]
    },
    {
     "name": "stderr",
     "output_type": "stream",
     "text": [
      "\r\n",
      "Processed prompts:   0%|                        | 0/1 [00:00<?, ?it/s, est. speed input: 0.00 toks/s, output: 0.00 toks/s]"
     ]
    },
    {
     "name": "stderr",
     "output_type": "stream",
     "text": [
      "\u001b[A"
     ]
    },
    {
     "name": "stderr",
     "output_type": "stream",
     "text": [
      "\n"
     ]
    },
    {
     "name": "stderr",
     "output_type": "stream",
     "text": [
      "\r\n",
      "Processed prompts: 100%|██████████████| 1/1 [00:54<00:00, 54.14s/it, est. speed input: 23.29 toks/s, output: 57.89 toks/s]"
     ]
    },
    {
     "name": "stderr",
     "output_type": "stream",
     "text": [
      "\u001b[A"
     ]
    },
    {
     "name": "stderr",
     "output_type": "stream",
     "text": [
      "\r\n",
      "Processed prompts: 100%|██████████████| 1/1 [00:54<00:00, 54.14s/it, est. speed input: 23.29 toks/s, output: 57.89 toks/s]"
     ]
    },
    {
     "name": "stderr",
     "output_type": "stream",
     "text": [
      "\n",
      "\r\n",
      "Generating responses:  99%|██████████████████████████████████████████████████████████▏| 141/143 [1:42:25<01:23, 41.59s/it]"
     ]
    },
    {
     "name": "stderr",
     "output_type": "stream",
     "text": [
      "\n"
     ]
    },
    {
     "name": "stderr",
     "output_type": "stream",
     "text": [
      "\r\n",
      "Processed prompts:   0%|                        | 0/1 [00:00<?, ?it/s, est. speed input: 0.00 toks/s, output: 0.00 toks/s]"
     ]
    },
    {
     "name": "stderr",
     "output_type": "stream",
     "text": [
      "\u001b[A"
     ]
    },
    {
     "name": "stderr",
     "output_type": "stream",
     "text": [
      "\n"
     ]
    },
    {
     "name": "stderr",
     "output_type": "stream",
     "text": [
      "\r\n",
      "Processed prompts: 100%|██████████████| 1/1 [00:38<00:00, 38.25s/it, est. speed input: 40.84 toks/s, output: 58.23 toks/s]"
     ]
    },
    {
     "name": "stderr",
     "output_type": "stream",
     "text": [
      "\u001b[A"
     ]
    },
    {
     "name": "stderr",
     "output_type": "stream",
     "text": [
      "\r\n",
      "Processed prompts: 100%|██████████████| 1/1 [00:38<00:00, 38.25s/it, est. speed input: 40.84 toks/s, output: 58.23 toks/s]"
     ]
    },
    {
     "name": "stderr",
     "output_type": "stream",
     "text": [
      "\n",
      "\r\n",
      "Generating responses:  99%|██████████████████████████████████████████████████████████▌| 142/143 [1:43:03<00:40, 40.59s/it]"
     ]
    },
    {
     "name": "stderr",
     "output_type": "stream",
     "text": [
      "\n"
     ]
    },
    {
     "name": "stderr",
     "output_type": "stream",
     "text": [
      "\r\n",
      "Processed prompts:   0%|                        | 0/1 [00:00<?, ?it/s, est. speed input: 0.00 toks/s, output: 0.00 toks/s]"
     ]
    },
    {
     "name": "stderr",
     "output_type": "stream",
     "text": [
      "\u001b[A"
     ]
    },
    {
     "name": "stderr",
     "output_type": "stream",
     "text": [
      "\n"
     ]
    },
    {
     "name": "stderr",
     "output_type": "stream",
     "text": [
      "\r\n",
      "Processed prompts: 100%|██████████████| 1/1 [00:32<00:00, 32.12s/it, est. speed input: 38.70 toks/s, output: 58.53 toks/s]"
     ]
    },
    {
     "name": "stderr",
     "output_type": "stream",
     "text": [
      "\u001b[A"
     ]
    },
    {
     "name": "stderr",
     "output_type": "stream",
     "text": [
      "\r\n",
      "Processed prompts: 100%|██████████████| 1/1 [00:32<00:00, 32.12s/it, est. speed input: 38.70 toks/s, output: 58.53 toks/s]"
     ]
    },
    {
     "name": "stderr",
     "output_type": "stream",
     "text": [
      "\n",
      "\r\n",
      "Generating responses: 100%|███████████████████████████████████████████████████████████| 143/143 [1:43:35<00:00, 38.05s/it]"
     ]
    },
    {
     "name": "stderr",
     "output_type": "stream",
     "text": [
      "\r\n",
      "Generating responses: 100%|███████████████████████████████████████████████████████████| 143/143 [1:43:35<00:00, 43.47s/it]"
     ]
    },
    {
     "name": "stderr",
     "output_type": "stream",
     "text": [
      "\n"
     ]
    }
   ],
   "source": [
    "from tqdm import tqdm\n",
    "from vllm import SamplingParams\n",
    "import numpy as np\n",
    "\n",
    "# Sampling parameters\n",
    "sampling_params = SamplingParams(\n",
    "    temperature=0.6,\n",
    "    top_k=20,\n",
    "    top_p=0.95,\n",
    "    min_p=0,\n",
    "    presence_penalty=0.5,\n",
    "    max_tokens=8192,\n",
    ")\n",
    "\n",
    "# Create an empty list to store the outputs\n",
    "final_outputs = []\n",
    "\n",
    "# Iterate through all prompts with a progress bar\n",
    "for prompt in tqdm(df_combined['prompt'], desc=\"Generating responses\"):\n",
    "    messages = [\n",
    "        {\"role\": \"system\", \"content\": \"You are an expert in smart-contract security audits.\"},\n",
    "        {\"role\": \"user\", \"content\": prompt},\n",
    "    ]\n",
    "\n",
    "    # Apply chat template\n",
    "    text = tokenizer.apply_chat_template(\n",
    "        messages,\n",
    "        add_generation_prompt=True,\n",
    "        tokenize=False,\n",
    "    )\n",
    "\n",
    "    # Generate output\n",
    "    output = model.fast_generate(\n",
    "        [text],\n",
    "        sampling_params=sampling_params,\n",
    "    )[0].outputs[0].text\n",
    "\n",
    "    # Append the result\n",
    "    final_outputs.append(output)\n",
    "\n",
    "# Assign the results to a new column\n",
    "df_combined['final_output'] = final_outputs"
   ]
  },
  {
   "cell_type": "code",
   "execution_count": null,
   "id": "716fd0db",
   "metadata": {
    "execution": {
     "iopub.execute_input": "2025-06-07T03:11:55.899638Z",
     "iopub.status.busy": "2025-06-07T03:11:55.899329Z",
     "iopub.status.idle": "2025-06-07T03:11:55.948146Z",
     "shell.execute_reply": "2025-06-07T03:11:55.947407Z"
    }
   },
   "outputs": [],
   "source": [
    "df_combined.to_csv(\"vuln_combination.csv\", index=False)"
   ]
  },
  {
   "cell_type": "code",
   "execution_count": null,
   "id": "f0156428",
   "metadata": {
    "execution": {
     "iopub.execute_input": "2025-06-07T03:11:55.951331Z",
     "iopub.status.busy": "2025-06-07T03:11:55.951013Z",
     "iopub.status.idle": "2025-06-07T03:11:55.984368Z",
     "shell.execute_reply": "2025-06-07T03:11:55.983674Z"
    }
   },
   "outputs": [],
   "source": [
    "import pandas as pd\n",
    "import pickle\n",
    "\n",
    "df_combined = pd.read_csv(\"vuln_combination.csv\")\n",
    "\n",
    "def extract_answer(text: str) -> str | None:\n",
    "    answer = text.split(\"</think>\\n\\n\")[-1]\n",
    "    return answer.strip()\n",
    "\n",
    "df_combined['clean_output'] = df_combined['final_output'].apply(extract_answer)"
   ]
  },
  {
   "cell_type": "code",
   "execution_count": 11,
   "id": "30172b46",
   "metadata": {
    "execution": {
     "iopub.execute_input": "2025-06-07T03:11:55.987337Z",
     "iopub.status.busy": "2025-06-07T03:11:55.987077Z",
     "iopub.status.idle": "2025-06-07T03:11:55.991632Z",
     "shell.execute_reply": "2025-06-07T03:11:55.990802Z"
    }
   },
   "outputs": [
    {
     "name": "stdout",
     "output_type": "stream",
     "text": [
      "92\n"
     ]
    }
   ],
   "source": [
    "none_list = []\n",
    "\n",
    "for i, x in enumerate(df_combined['clean_output']):\n",
    "    if \"<think>\" in x:\n",
    "        print(i)\n",
    "        none_list.append(i)"
   ]
  },
  {
   "cell_type": "code",
   "execution_count": 12,
   "id": "fe060a3c",
   "metadata": {
    "execution": {
     "iopub.execute_input": "2025-06-07T03:11:55.994602Z",
     "iopub.status.busy": "2025-06-07T03:11:55.994337Z",
     "iopub.status.idle": "2025-06-07T03:11:55.998163Z",
     "shell.execute_reply": "2025-06-07T03:11:55.997441Z"
    }
   },
   "outputs": [],
   "source": [
    "def extract_answer(text: str) -> str | None:\n",
    "    answer = text.split(\"</think>\\n\\n\")[-1]\n",
    "    return answer.strip()"
   ]
  },
  {
   "cell_type": "code",
   "execution_count": null,
   "id": "4ea2ce83",
   "metadata": {
    "execution": {
     "iopub.execute_input": "2025-06-07T03:11:56.001405Z",
     "iopub.status.busy": "2025-06-07T03:11:56.001122Z",
     "iopub.status.idle": "2025-06-07T03:19:32.567771Z",
     "shell.execute_reply": "2025-06-07T03:19:32.566877Z"
    }
   },
   "outputs": [
    {
     "name": "stderr",
     "output_type": "stream",
     "text": [
      "\r\n",
      "Processed prompts:   0%|                        | 0/1 [00:00<?, ?it/s, est. speed input: 0.00 toks/s, output: 0.00 toks/s]"
     ]
    },
    {
     "name": "stderr",
     "output_type": "stream",
     "text": [
      "\r\n",
      "Processed prompts: 100%|██████████████| 1/1 [06:39<00:00, 399.98s/it, est. speed input: 6.41 toks/s, output: 20.48 toks/s]"
     ]
    },
    {
     "name": "stderr",
     "output_type": "stream",
     "text": [
      "\r\n",
      "Processed prompts: 100%|██████████████| 1/1 [06:39<00:00, 399.98s/it, est. speed input: 6.41 toks/s, output: 20.48 toks/s]"
     ]
    },
    {
     "name": "stderr",
     "output_type": "stream",
     "text": [
      "\n"
     ]
    },
    {
     "name": "stdout",
     "output_type": "stream",
     "text": [
      "Invalid output on attempt 1 for index 92\n"
     ]
    },
    {
     "name": "stderr",
     "output_type": "stream",
     "text": [
      "\r\n",
      "Processed prompts:   0%|                        | 0/1 [00:00<?, ?it/s, est. speed input: 0.00 toks/s, output: 0.00 toks/s]"
     ]
    },
    {
     "name": "stderr",
     "output_type": "stream",
     "text": [
      "\r\n",
      "Processed prompts: 100%|██████████████| 1/1 [00:56<00:00, 56.50s/it, est. speed input: 45.38 toks/s, output: 56.95 toks/s]"
     ]
    },
    {
     "name": "stderr",
     "output_type": "stream",
     "text": [
      "\r\n",
      "Processed prompts: 100%|██████████████| 1/1 [00:56<00:00, 56.51s/it, est. speed input: 45.38 toks/s, output: 56.95 toks/s]"
     ]
    },
    {
     "name": "stderr",
     "output_type": "stream",
     "text": [
      "\n"
     ]
    }
   ],
   "source": [
    "new_out_list = []\n",
    "\n",
    "if len(none_list) > 0:\n",
    "    for idx in none_list:\n",
    "        success = False\n",
    "        attempt = 0\n",
    "\n",
    "        while not success and attempt < 3:\n",
    "            try:\n",
    "                messages = [\n",
    "                    {\"role\": \"system\", \"content\": \"You are an expert in smart-contract security audits.\"},\n",
    "                    {\"role\": \"user\", \"content\": df_combined['prompt'][idx]},\n",
    "                ]\n",
    "\n",
    "                max_completion_length = 8192\n",
    "\n",
    "                text = tokenizer.apply_chat_template(\n",
    "                    messages,\n",
    "                    add_generation_prompt=True,\n",
    "                    tokenize=False,\n",
    "                )\n",
    "\n",
    "                from vllm import SamplingParams\n",
    "                sampling_params = SamplingParams(\n",
    "                    temperature=0.6,\n",
    "                    top_k=20,\n",
    "                    top_p=0.95,\n",
    "                    min_p=0,\n",
    "                    presence_penalty=0.5,\n",
    "                    max_tokens=max_completion_length,\n",
    "                )\n",
    "\n",
    "                output = model.fast_generate(\n",
    "                    [text],\n",
    "                    sampling_params=sampling_params,\n",
    "                )[0].outputs[0].text\n",
    "\n",
    "                # Check if result is valid\n",
    "                if \"<think>\" not in extract_answer(output):\n",
    "                    new_out_list.append(output)\n",
    "                    success = True\n",
    "                else:\n",
    "                    attempt += 1\n",
    "                    print(f\"Invalid output on attempt {attempt} for index {idx}\")\n",
    "\n",
    "            except Exception as e:\n",
    "                attempt += 1\n",
    "                print(f\"Error on attempt {attempt} for index {idx}: {e}\")\n",
    "\n",
    "        if not success:\n",
    "            print(f\"Giving up on index {idx} after 3 attempts.\")\n",
    "            new_out_list.append(None)\n",
    "            \n",
    "    for idx, value in enumerate(none_list):\n",
    "        df_combined['final_output'][value] = new_out_list[idx]\n",
    "    \n",
    "    df_combined.drop(columns=['clean_output']).to_csv(\"vuln_combination_v5.csv\", index=False)"
   ]
  }
 ],
 "metadata": {
  "kernelspec": {
   "display_name": "Python 3 (ipykernel)",
   "language": "python",
   "name": "python3"
  },
  "language_info": {
   "codemirror_mode": {
    "name": "ipython",
    "version": 3
   },
   "file_extension": ".py",
   "mimetype": "text/x-python",
   "name": "python",
   "nbconvert_exporter": "python",
   "pygments_lexer": "ipython3",
   "version": "3.10.12"
  }
 },
 "nbformat": 4,
 "nbformat_minor": 5
}
